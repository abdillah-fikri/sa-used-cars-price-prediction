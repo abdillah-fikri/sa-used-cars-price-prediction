{
 "cells": [
  {
   "cell_type": "code",
   "execution_count": 2,
   "metadata": {
    "cell_id": "00000-22bc0b26-1ea9-4900-a08a-fed218efdabd",
    "execution_millis": 554,
    "execution_start": 1602829891550,
    "output_cleared": false,
    "source_hash": "9c12a302"
   },
   "outputs": [
    {
     "data": {
      "text/plain": [
       "Templates configuration\n",
       "-----------------------\n",
       "    Default template: 'presentation'\n",
       "    Available templates:\n",
       "        ['ggplot2', 'seaborn', 'simple_white', 'plotly',\n",
       "         'plotly_white', 'plotly_dark', 'presentation', 'xgridoff',\n",
       "         'ygridoff', 'gridon', 'none']"
      ]
     },
     "execution_count": 2,
     "metadata": {},
     "output_type": "execute_result"
    }
   ],
   "source": [
    "import pandas as pd\n",
    "import numpy as np\n",
    "import plotly.graph_objects as go\n",
    "import plotly.express as px\n",
    "import plotly.io as pio\n",
    "\n",
    "pio.templates.default = \"presentation\"\n",
    "pio.templates"
   ]
  },
  {
   "cell_type": "code",
   "execution_count": 3,
   "metadata": {},
   "outputs": [
    {
     "data": {
      "text/html": [
       "<div>\n",
       "<style scoped>\n",
       "    .dataframe tbody tr th:only-of-type {\n",
       "        vertical-align: middle;\n",
       "    }\n",
       "\n",
       "    .dataframe tbody tr th {\n",
       "        vertical-align: top;\n",
       "    }\n",
       "\n",
       "    .dataframe thead th {\n",
       "        text-align: right;\n",
       "    }\n",
       "</style>\n",
       "<table border=\"1\" class=\"dataframe\">\n",
       "  <thead>\n",
       "    <tr style=\"text-align: right;\">\n",
       "      <th></th>\n",
       "      <th>Model</th>\n",
       "      <th>Fit Time</th>\n",
       "      <th>Train R2</th>\n",
       "      <th>CV R2</th>\n",
       "      <th>Test R2</th>\n",
       "      <th>Train RMSE</th>\n",
       "      <th>CV RMSE</th>\n",
       "      <th>Test RMSE</th>\n",
       "      <th>Dataset Version</th>\n",
       "    </tr>\n",
       "  </thead>\n",
       "  <tbody>\n",
       "    <tr>\n",
       "      <th>0</th>\n",
       "      <td>CatBoost</td>\n",
       "      <td>3.480</td>\n",
       "      <td>0.992</td>\n",
       "      <td>0.925</td>\n",
       "      <td>0.925</td>\n",
       "      <td>0.950</td>\n",
       "      <td>2.939</td>\n",
       "      <td>3.207</td>\n",
       "      <td>dropna + all + unscaled</td>\n",
       "    </tr>\n",
       "    <tr>\n",
       "      <th>8</th>\n",
       "      <td>CatBoost</td>\n",
       "      <td>3.275</td>\n",
       "      <td>0.992</td>\n",
       "      <td>0.925</td>\n",
       "      <td>0.925</td>\n",
       "      <td>0.950</td>\n",
       "      <td>2.939</td>\n",
       "      <td>3.207</td>\n",
       "      <td>dropna + all + scaled</td>\n",
       "    </tr>\n",
       "    <tr>\n",
       "      <th>0</th>\n",
       "      <td>CatBoost</td>\n",
       "      <td>3.530</td>\n",
       "      <td>0.992</td>\n",
       "      <td>0.923</td>\n",
       "      <td>0.912</td>\n",
       "      <td>0.990</td>\n",
       "      <td>3.078</td>\n",
       "      <td>3.385</td>\n",
       "      <td>imputed + all + unscaled</td>\n",
       "    </tr>\n",
       "    <tr>\n",
       "      <th>8</th>\n",
       "      <td>CatBoost</td>\n",
       "      <td>3.249</td>\n",
       "      <td>0.992</td>\n",
       "      <td>0.923</td>\n",
       "      <td>0.912</td>\n",
       "      <td>0.990</td>\n",
       "      <td>3.078</td>\n",
       "      <td>3.385</td>\n",
       "      <td>imputed + all + scaled</td>\n",
       "    </tr>\n",
       "    <tr>\n",
       "      <th>1</th>\n",
       "      <td>LightGBM</td>\n",
       "      <td>0.219</td>\n",
       "      <td>0.973</td>\n",
       "      <td>0.919</td>\n",
       "      <td>0.904</td>\n",
       "      <td>1.793</td>\n",
       "      <td>3.078</td>\n",
       "      <td>3.648</td>\n",
       "      <td>dropna + all + unscaled</td>\n",
       "    </tr>\n",
       "    <tr>\n",
       "      <th>9</th>\n",
       "      <td>LightGBM</td>\n",
       "      <td>0.230</td>\n",
       "      <td>0.973</td>\n",
       "      <td>0.919</td>\n",
       "      <td>0.903</td>\n",
       "      <td>1.788</td>\n",
       "      <td>3.083</td>\n",
       "      <td>3.649</td>\n",
       "      <td>dropna + all + scaled</td>\n",
       "    </tr>\n",
       "    <tr>\n",
       "      <th>2</th>\n",
       "      <td>XGBoost</td>\n",
       "      <td>0.406</td>\n",
       "      <td>0.998</td>\n",
       "      <td>0.914</td>\n",
       "      <td>0.895</td>\n",
       "      <td>0.544</td>\n",
       "      <td>3.151</td>\n",
       "      <td>3.809</td>\n",
       "      <td>dropna + all + unscaled</td>\n",
       "    </tr>\n",
       "    <tr>\n",
       "      <th>10</th>\n",
       "      <td>XGBoost</td>\n",
       "      <td>0.519</td>\n",
       "      <td>0.998</td>\n",
       "      <td>0.914</td>\n",
       "      <td>0.895</td>\n",
       "      <td>0.544</td>\n",
       "      <td>3.151</td>\n",
       "      <td>3.811</td>\n",
       "      <td>dropna + all + scaled</td>\n",
       "    </tr>\n",
       "    <tr>\n",
       "      <th>11</th>\n",
       "      <td>RandomForest</td>\n",
       "      <td>2.929</td>\n",
       "      <td>0.988</td>\n",
       "      <td>0.914</td>\n",
       "      <td>0.902</td>\n",
       "      <td>1.210</td>\n",
       "      <td>3.177</td>\n",
       "      <td>3.674</td>\n",
       "      <td>dropna + all + scaled</td>\n",
       "    </tr>\n",
       "    <tr>\n",
       "      <th>3</th>\n",
       "      <td>RandomForest</td>\n",
       "      <td>2.914</td>\n",
       "      <td>0.988</td>\n",
       "      <td>0.913</td>\n",
       "      <td>0.902</td>\n",
       "      <td>1.207</td>\n",
       "      <td>3.200</td>\n",
       "      <td>3.675</td>\n",
       "      <td>dropna + all + unscaled</td>\n",
       "    </tr>\n",
       "  </tbody>\n",
       "</table>\n",
       "</div>"
      ],
      "text/plain": [
       "           Model  Fit Time  Train R2  CV R2  Test R2  Train RMSE  CV RMSE  \\\n",
       "0       CatBoost     3.480     0.992  0.925    0.925       0.950    2.939   \n",
       "8       CatBoost     3.275     0.992  0.925    0.925       0.950    2.939   \n",
       "0       CatBoost     3.530     0.992  0.923    0.912       0.990    3.078   \n",
       "8       CatBoost     3.249     0.992  0.923    0.912       0.990    3.078   \n",
       "1       LightGBM     0.219     0.973  0.919    0.904       1.793    3.078   \n",
       "9       LightGBM     0.230     0.973  0.919    0.903       1.788    3.083   \n",
       "2        XGBoost     0.406     0.998  0.914    0.895       0.544    3.151   \n",
       "10       XGBoost     0.519     0.998  0.914    0.895       0.544    3.151   \n",
       "11  RandomForest     2.929     0.988  0.914    0.902       1.210    3.177   \n",
       "3   RandomForest     2.914     0.988  0.913    0.902       1.207    3.200   \n",
       "\n",
       "    Test RMSE           Dataset Version  \n",
       "0       3.207   dropna + all + unscaled  \n",
       "8       3.207     dropna + all + scaled  \n",
       "0       3.385  imputed + all + unscaled  \n",
       "8       3.385    imputed + all + scaled  \n",
       "1       3.648   dropna + all + unscaled  \n",
       "9       3.649     dropna + all + scaled  \n",
       "2       3.809   dropna + all + unscaled  \n",
       "10      3.811     dropna + all + scaled  \n",
       "11      3.674     dropna + all + scaled  \n",
       "3       3.675   dropna + all + unscaled  "
      ]
     },
     "execution_count": 3,
     "metadata": {},
     "output_type": "execute_result"
    }
   ],
   "source": [
    "ver1 = pd.read_csv('../data/processed/summary_dropna_all.csv')\n",
    "ver2 = pd.read_csv('../data/processed/summary_dropna_selected.csv')\n",
    "ver3 = pd.read_csv('../data/processed/summary_imputed_all.csv')\n",
    "ver4 = pd.read_csv('../data/processed/summary_imputed_selected.csv')\n",
    "\n",
    "df_all_ver = pd.concat([ver1, ver2, ver3, ver4], axis=0)\n",
    "df_all_ver.sort_values(by='CV RMSE', inplace=True)\n",
    "df_all_ver = round(df_all_ver, 3)\n",
    "df_all_ver = df_all_ver[~((df_all_ver[\"CV RMSE\"] > 100) | (df_all_ver[\"Test RMSE\"] > 100))]\n",
    "df_all_ver.head(10)"
   ]
  },
  {
   "cell_type": "code",
   "execution_count": 4,
   "metadata": {
    "cell_id": "00002-fda41ab5-1578-4759-95fd-34bbab934939",
    "execution_millis": 82,
    "execution_start": 1602829944018,
    "output_cleared": false,
    "source_hash": "a46fdaaf"
   },
   "outputs": [
    {
     "data": {
      "text/plain": [
       "array(['dropna + all + unscaled', 'dropna + all + scaled',\n",
       "       'imputed + all + unscaled', 'imputed + all + scaled',\n",
       "       'dropna + selected + unscaled', 'dropna + selected + scaled',\n",
       "       'imputed + selected + unscaled', 'imputed + selected + scaled'],\n",
       "      dtype=object)"
      ]
     },
     "execution_count": 4,
     "metadata": {},
     "output_type": "execute_result"
    }
   ],
   "source": [
    "df_all_ver['Dataset Version'].unique()"
   ]
  },
  {
   "cell_type": "code",
   "execution_count": 5,
   "metadata": {
    "cell_id": "00003-7d415f67-fe9a-4bb4-9bee-fa5d53ac3de1",
    "execution_millis": 115,
    "execution_start": 1602852201510,
    "output_cleared": false,
    "source_hash": "69479740",
    "tags": []
   },
   "outputs": [
    {
     "data": {
      "application/vnd.plotly.v1+json": {
       "config": {
        "plotlyServerURL": "https://plot.ly"
       },
       "data": [
        {
         "name": "Train RMSE",
         "text": [
          1.262,
          2.064,
          1.423,
          0.908,
          0.552,
          4.782,
          4.819,
          5.172
         ],
         "textposition": "auto",
         "type": "bar",
         "x": [
          "CatBoost",
          "LightGBM",
          "RandomForest",
          "XGBoost",
          "DecisionTree",
          "Ridge",
          "Linear",
          "Lasso"
         ],
         "y": [
          1.262,
          2.064,
          1.423,
          0.908,
          0.552,
          4.782,
          4.819,
          5.172
         ]
        },
        {
         "name": "CV RMSE",
         "text": [
          3.2,
          3.311,
          3.345,
          3.497,
          4.343,
          4.866,
          4.896,
          5.177
         ],
         "textposition": "auto",
         "type": "bar",
         "x": [
          "CatBoost",
          "LightGBM",
          "RandomForest",
          "XGBoost",
          "DecisionTree",
          "Ridge",
          "Linear",
          "Lasso"
         ],
         "y": [
          3.2,
          3.311,
          3.345,
          3.497,
          4.343,
          4.866,
          4.896,
          5.177
         ]
        },
        {
         "name": "Test RMSE",
         "text": [
          3.396,
          3.656,
          3.723,
          3.822,
          5.3,
          5.569,
          5.603,
          5.956
         ],
         "textposition": "auto",
         "type": "bar",
         "x": [
          "CatBoost",
          "LightGBM",
          "RandomForest",
          "XGBoost",
          "DecisionTree",
          "Ridge",
          "Linear",
          "Lasso"
         ],
         "y": [
          3.396,
          3.656,
          3.723,
          3.822,
          5.3,
          5.569,
          5.603,
          5.956
         ]
        }
       ],
       "layout": {
        "font": {
         "size": 17
        },
        "height": 500,
        "margin": {
         "b": 100,
         "l": 100,
         "r": 100,
         "t": 100
        },
        "template": {
         "data": {
          "pie": [
           {
            "automargin": true,
            "type": "pie"
           }
          ],
          "scatter": [
           {
            "line": {
             "width": 3
            },
            "marker": {
             "size": 9
            },
            "type": "scatter"
           }
          ],
          "scatter3d": [
           {
            "line": {
             "width": 3
            },
            "marker": {
             "size": 9
            },
            "type": "scatter3d"
           }
          ],
          "scattergeo": [
           {
            "line": {
             "width": 3
            },
            "marker": {
             "size": 9
            },
            "type": "scattergeo"
           }
          ],
          "scattergl": [
           {
            "line": {
             "width": 3
            },
            "marker": {
             "size": 9
            },
            "type": "scattergl"
           }
          ],
          "scatterpolar": [
           {
            "line": {
             "width": 3
            },
            "marker": {
             "size": 9
            },
            "type": "scatterpolar"
           }
          ],
          "scatterpolargl": [
           {
            "line": {
             "width": 3
            },
            "marker": {
             "size": 9
            },
            "type": "scatterpolargl"
           }
          ],
          "scatterternary": [
           {
            "line": {
             "width": 3
            },
            "marker": {
             "size": 9
            },
            "type": "scatterternary"
           }
          ],
          "table": [
           {
            "cells": {
             "height": 30
            },
            "header": {
             "height": 36
            },
            "type": "table"
           }
          ]
         },
         "layout": {
          "font": {
           "size": 18
          },
          "xaxis": {
           "title": {
            "standoff": 15
           }
          },
          "yaxis": {
           "title": {
            "standoff": 15
           }
          }
         }
        },
        "title": {
         "text": "Average RMSE Score of Base Model (on 8 dataset version each)"
        },
        "width": 1200,
        "xaxis": {},
        "yaxis": {
         "title": {
          "text": "RMSE Score"
         }
        }
       }
      }
     },
     "metadata": {},
     "output_type": "display_data"
    }
   ],
   "source": [
    "grouped = df_all_ver.groupby(['Model'], as_index=False)[['Train RMSE', 'CV RMSE', 'Test RMSE']].mean()\n",
    "grouped = round(grouped.sort_values(by='Test RMSE'), 3)\n",
    "\n",
    "fig = go.Figure()\n",
    "\n",
    "fig.add_trace(go.Bar(\n",
    "    x=grouped['Model'], y=grouped['Train RMSE'],\n",
    "    text=grouped['Train RMSE'], textposition='auto',\n",
    "    name='Train RMSE'\n",
    "))\n",
    "fig.add_trace(go.Bar(\n",
    "    x=grouped['Model'], y=grouped['CV RMSE'],\n",
    "    text=grouped['CV RMSE'], textposition='auto',\n",
    "    name='CV RMSE'\n",
    "))\n",
    "fig.add_trace(go.Bar(\n",
    "    x=grouped['Model'], y=grouped['Test RMSE'],\n",
    "    text=grouped['Test RMSE'], textposition='auto',\n",
    "    name='Test RMSE'\n",
    "))\n",
    "fig.update_layout(\n",
    "    title='Average RMSE Score of Base Model (on 8 dataset version each)',\n",
    "    xaxis=None,\n",
    "    yaxis=dict(title='RMSE Score'),\n",
    "    height=500,\n",
    "    width=1200,\n",
    "    margin=dict(l=100, r=100, t=100, b=100),\n",
    "    font_size=17\n",
    ")\n",
    "fig.show()"
   ]
  },
  {
   "cell_type": "code",
   "execution_count": 6,
   "metadata": {
    "cell_id": "00003-5f4ebd9b-cf80-4066-b959-a02203215676",
    "execution_millis": 303,
    "execution_start": 1602851013982,
    "output_cleared": false,
    "source_hash": "1be6e537",
    "tags": []
   },
   "outputs": [
    {
     "data": {
      "application/vnd.plotly.v1+json": {
       "config": {
        "plotlyServerURL": "https://plot.ly"
       },
       "data": [
        {
         "alignmentgroup": "True",
         "hovertemplate": "Dataset Version=dropna + all + unscaled<br>Model=%{x}<br>Test RMSE=%{text}<extra></extra>",
         "legendgroup": "dropna + all + unscaled",
         "marker": {
          "color": "#1F77B4"
         },
         "name": "dropna + all + unscaled",
         "offsetgroup": "dropna + all + unscaled",
         "orientation": "v",
         "showlegend": true,
         "text": [
          3.207,
          3.648,
          3.809,
          3.675,
          5.654,
          5.634,
          5.64,
          5.852
         ],
         "textposition": "auto",
         "type": "bar",
         "x": [
          "CatBoost",
          "LightGBM",
          "XGBoost",
          "RandomForest",
          "DecisionTree",
          "Ridge",
          "Linear",
          "Lasso"
         ],
         "xaxis": "x",
         "y": [
          3.207,
          3.648,
          3.809,
          3.675,
          5.654,
          5.634,
          5.64,
          5.852
         ],
         "yaxis": "y"
        },
        {
         "alignmentgroup": "True",
         "hovertemplate": "Dataset Version=dropna + all + scaled<br>Model=%{x}<br>Test RMSE=%{text}<extra></extra>",
         "legendgroup": "dropna + all + scaled",
         "marker": {
          "color": "#FF7F0E"
         },
         "name": "dropna + all + scaled",
         "offsetgroup": "dropna + all + scaled",
         "orientation": "v",
         "showlegend": true,
         "text": [
          3.207,
          3.649,
          3.811,
          3.674,
          5.718,
          5.634,
          6.593
         ],
         "textposition": "auto",
         "type": "bar",
         "x": [
          "CatBoost",
          "LightGBM",
          "XGBoost",
          "RandomForest",
          "DecisionTree",
          "Ridge",
          "Lasso"
         ],
         "xaxis": "x",
         "y": [
          3.207,
          3.649,
          3.811,
          3.674,
          5.718,
          5.634,
          6.593
         ],
         "yaxis": "y"
        },
        {
         "alignmentgroup": "True",
         "hovertemplate": "Dataset Version=imputed + all + unscaled<br>Model=%{x}<br>Test RMSE=%{text}<extra></extra>",
         "legendgroup": "imputed + all + unscaled",
         "marker": {
          "color": "#2CA02C"
         },
         "name": "imputed + all + unscaled",
         "offsetgroup": "imputed + all + unscaled",
         "orientation": "v",
         "showlegend": true,
         "text": [
          3.385,
          3.392,
          3.454,
          3.505,
          5.991,
          5.322,
          5.322,
          5.39
         ],
         "textposition": "auto",
         "type": "bar",
         "x": [
          "CatBoost",
          "RandomForest",
          "LightGBM",
          "XGBoost",
          "DecisionTree",
          "Linear",
          "Ridge",
          "Lasso"
         ],
         "xaxis": "x",
         "y": [
          3.385,
          3.392,
          3.454,
          3.505,
          5.991,
          5.322,
          5.322,
          5.39
         ],
         "yaxis": "y"
        },
        {
         "alignmentgroup": "True",
         "hovertemplate": "Dataset Version=imputed + all + scaled<br>Model=%{x}<br>Test RMSE=%{text}<extra></extra>",
         "legendgroup": "imputed + all + scaled",
         "marker": {
          "color": "#D62728"
         },
         "name": "imputed + all + scaled",
         "offsetgroup": "imputed + all + scaled",
         "orientation": "v",
         "showlegend": true,
         "text": [
          3.385,
          3.452,
          3.38,
          3.504,
          5.701,
          5.322,
          5.955
         ],
         "textposition": "auto",
         "type": "bar",
         "x": [
          "CatBoost",
          "RandomForest",
          "LightGBM",
          "XGBoost",
          "DecisionTree",
          "Ridge",
          "Lasso"
         ],
         "xaxis": "x",
         "y": [
          3.385,
          3.452,
          3.38,
          3.504,
          5.701,
          5.322,
          5.955
         ],
         "yaxis": "y"
        },
        {
         "alignmentgroup": "True",
         "hovertemplate": "Dataset Version=dropna + selected + unscaled<br>Model=%{x}<br>Test RMSE=%{text}<extra></extra>",
         "legendgroup": "dropna + selected + unscaled",
         "marker": {
          "color": "#9467BD"
         },
         "name": "dropna + selected + unscaled",
         "offsetgroup": "dropna + selected + unscaled",
         "orientation": "v",
         "showlegend": true,
         "text": [
          4.027,
          3.485,
          4.072,
          4.196,
          5.374,
          5.828,
          5.829,
          5.897
         ],
         "textposition": "auto",
         "type": "bar",
         "x": [
          "LightGBM",
          "CatBoost",
          "RandomForest",
          "XGBoost",
          "DecisionTree",
          "Ridge",
          "Linear",
          "Lasso"
         ],
         "xaxis": "x",
         "y": [
          4.027,
          3.485,
          4.072,
          4.196,
          5.374,
          5.828,
          5.829,
          5.897
         ],
         "yaxis": "y"
        },
        {
         "alignmentgroup": "True",
         "hovertemplate": "Dataset Version=dropna + selected + scaled<br>Model=%{x}<br>Test RMSE=%{text}<extra></extra>",
         "legendgroup": "dropna + selected + scaled",
         "marker": {
          "color": "#8C564B"
         },
         "name": "dropna + selected + scaled",
         "offsetgroup": "dropna + selected + scaled",
         "orientation": "v",
         "showlegend": true,
         "text": [
          3.485,
          4.041,
          4.032,
          4.197,
          5.718,
          5.829,
          5.829,
          6.593
         ],
         "textposition": "auto",
         "type": "bar",
         "x": [
          "CatBoost",
          "LightGBM",
          "RandomForest",
          "XGBoost",
          "DecisionTree",
          "Ridge",
          "Linear",
          "Lasso"
         ],
         "xaxis": "x",
         "y": [
          3.485,
          4.041,
          4.032,
          4.197,
          5.718,
          5.829,
          5.829,
          6.593
         ],
         "yaxis": "y"
        },
        {
         "alignmentgroup": "True",
         "hovertemplate": "Dataset Version=imputed + selected + unscaled<br>Model=%{x}<br>Test RMSE=%{text}<extra></extra>",
         "legendgroup": "imputed + selected + unscaled",
         "marker": {
          "color": "#E377C2"
         },
         "name": "imputed + selected + unscaled",
         "offsetgroup": "imputed + selected + unscaled",
         "orientation": "v",
         "showlegend": true,
         "text": [
          3.506,
          3.719,
          3.508,
          3.776,
          4.046,
          5.49,
          5.5,
          5.402
         ],
         "textposition": "auto",
         "type": "bar",
         "x": [
          "CatBoost",
          "RandomForest",
          "LightGBM",
          "XGBoost",
          "DecisionTree",
          "Ridge",
          "Linear",
          "Lasso"
         ],
         "xaxis": "x",
         "y": [
          3.506,
          3.719,
          3.508,
          3.776,
          4.046,
          5.49,
          5.5,
          5.402
         ],
         "yaxis": "y"
        },
        {
         "alignmentgroup": "True",
         "hovertemplate": "Dataset Version=imputed + selected + scaled<br>Model=%{x}<br>Test RMSE=%{text}<extra></extra>",
         "legendgroup": "imputed + selected + scaled",
         "marker": {
          "color": "#7F7F7F"
         },
         "name": "imputed + selected + scaled",
         "offsetgroup": "imputed + selected + scaled",
         "orientation": "v",
         "showlegend": true,
         "text": [
          3.506,
          3.765,
          3.544,
          3.776,
          4.196,
          5.49,
          5.5,
          5.964
         ],
         "textposition": "auto",
         "type": "bar",
         "x": [
          "CatBoost",
          "RandomForest",
          "LightGBM",
          "XGBoost",
          "DecisionTree",
          "Ridge",
          "Linear",
          "Lasso"
         ],
         "xaxis": "x",
         "y": [
          3.506,
          3.765,
          3.544,
          3.776,
          4.196,
          5.49,
          5.5,
          5.964
         ],
         "yaxis": "y"
        }
       ],
       "layout": {
        "barmode": "group",
        "height": 500,
        "legend": {
         "title": {
          "text": "Dataset Version"
         },
         "tracegroupgap": 0
        },
        "margin": {
         "t": 60
        },
        "template": {
         "data": {
          "pie": [
           {
            "automargin": true,
            "type": "pie"
           }
          ],
          "scatter": [
           {
            "line": {
             "width": 3
            },
            "marker": {
             "size": 9
            },
            "type": "scatter"
           }
          ],
          "scatter3d": [
           {
            "line": {
             "width": 3
            },
            "marker": {
             "size": 9
            },
            "type": "scatter3d"
           }
          ],
          "scattergeo": [
           {
            "line": {
             "width": 3
            },
            "marker": {
             "size": 9
            },
            "type": "scattergeo"
           }
          ],
          "scattergl": [
           {
            "line": {
             "width": 3
            },
            "marker": {
             "size": 9
            },
            "type": "scattergl"
           }
          ],
          "scatterpolar": [
           {
            "line": {
             "width": 3
            },
            "marker": {
             "size": 9
            },
            "type": "scatterpolar"
           }
          ],
          "scatterpolargl": [
           {
            "line": {
             "width": 3
            },
            "marker": {
             "size": 9
            },
            "type": "scatterpolargl"
           }
          ],
          "scatterternary": [
           {
            "line": {
             "width": 3
            },
            "marker": {
             "size": 9
            },
            "type": "scatterternary"
           }
          ],
          "table": [
           {
            "cells": {
             "height": 30
            },
            "header": {
             "height": 36
            },
            "type": "table"
           }
          ]
         },
         "layout": {
          "font": {
           "size": 18
          },
          "xaxis": {
           "title": {
            "standoff": 15
           }
          },
          "yaxis": {
           "title": {
            "standoff": 15
           }
          }
         }
        },
        "title": {
         "text": "RMSE Score on Test Set"
        },
        "width": 1200,
        "xaxis": {
         "anchor": "y",
         "domain": [
          0,
          1
         ],
         "title": {
          "text": "Model"
         }
        },
        "yaxis": {
         "anchor": "x",
         "domain": [
          0,
          1
         ],
         "title": {
          "text": "Test RMSE"
         }
        }
       }
      }
     },
     "metadata": {},
     "output_type": "display_data"
    }
   ],
   "source": [
    "order_all = {'Dataset Version': [\n",
    "    'dropna + all + unscaled', 'dropna + all + scaled',\n",
    "    'imputed + all + unscaled', 'imputed + all + scaled',\n",
    "    'dropna + selected + unscaled', 'dropna + selected + scaled',\n",
    "    'imputed + selected + unscaled', 'imputed + selected + scaled'\n",
    "]}\n",
    "\n",
    "fig = px.bar(\n",
    "    df_all_ver, x='Model', y='Test RMSE', color='Dataset Version',\n",
    "    barmode='group', category_orders=order_all, text='Test RMSE'\n",
    ")\n",
    "\n",
    "fig.update_layout(\n",
    "    title='RMSE Score on Test Set', \n",
    "    height=500,\n",
    "    width=1200\n",
    ")\n",
    "\n",
    "fig.show()"
   ]
  },
  {
   "cell_type": "code",
   "execution_count": 7,
   "metadata": {
    "cell_id": "00004-e6cc76da-a309-4a59-8136-ad80d3a1ba4d",
    "execution_millis": 139,
    "execution_start": 1602851042958,
    "output_cleared": false,
    "source_hash": "19d3c8",
    "tags": []
   },
   "outputs": [
    {
     "data": {
      "application/vnd.plotly.v1+json": {
       "config": {
        "plotlyServerURL": "https://plot.ly"
       },
       "data": [
        {
         "alignmentgroup": "True",
         "hovertemplate": "Dataset Version=dropna + all + unscaled<br>Model=%{x}<br>Fit Time=%{text}<extra></extra>",
         "legendgroup": "dropna + all + unscaled",
         "marker": {
          "color": "#1F77B4"
         },
         "name": "dropna + all + unscaled",
         "offsetgroup": "dropna + all + unscaled",
         "orientation": "v",
         "showlegend": true,
         "text": [
          3.48,
          0.219,
          0.406,
          2.914,
          0.05,
          0.01,
          0.026,
          0.015
         ],
         "textposition": "auto",
         "type": "bar",
         "x": [
          "CatBoost",
          "LightGBM",
          "XGBoost",
          "RandomForest",
          "DecisionTree",
          "Ridge",
          "Linear",
          "Lasso"
         ],
         "xaxis": "x",
         "y": [
          3.48,
          0.219,
          0.406,
          2.914,
          0.05,
          0.01,
          0.026,
          0.015
         ],
         "yaxis": "y"
        },
        {
         "alignmentgroup": "True",
         "hovertemplate": "Dataset Version=dropna + all + scaled<br>Model=%{x}<br>Fit Time=%{text}<extra></extra>",
         "legendgroup": "dropna + all + scaled",
         "marker": {
          "color": "#FF7F0E"
         },
         "name": "dropna + all + scaled",
         "offsetgroup": "dropna + all + scaled",
         "orientation": "v",
         "showlegend": true,
         "text": [
          3.275,
          0.23,
          0.519,
          2.929,
          0.052,
          0.006,
          0.008
         ],
         "textposition": "auto",
         "type": "bar",
         "x": [
          "CatBoost",
          "LightGBM",
          "XGBoost",
          "RandomForest",
          "DecisionTree",
          "Ridge",
          "Lasso"
         ],
         "xaxis": "x",
         "y": [
          3.275,
          0.23,
          0.519,
          2.929,
          0.052,
          0.006,
          0.008
         ],
         "yaxis": "y"
        },
        {
         "alignmentgroup": "True",
         "hovertemplate": "Dataset Version=imputed + all + unscaled<br>Model=%{x}<br>Fit Time=%{text}<extra></extra>",
         "legendgroup": "imputed + all + unscaled",
         "marker": {
          "color": "#2CA02C"
         },
         "name": "imputed + all + unscaled",
         "offsetgroup": "imputed + all + unscaled",
         "orientation": "v",
         "showlegend": true,
         "text": [
          3.53,
          3.192,
          0.233,
          0.468,
          0.062,
          0.026,
          0.009,
          0.012
         ],
         "textposition": "auto",
         "type": "bar",
         "x": [
          "CatBoost",
          "RandomForest",
          "LightGBM",
          "XGBoost",
          "DecisionTree",
          "Linear",
          "Ridge",
          "Lasso"
         ],
         "xaxis": "x",
         "y": [
          3.53,
          3.192,
          0.233,
          0.468,
          0.062,
          0.026,
          0.009,
          0.012
         ],
         "yaxis": "y"
        },
        {
         "alignmentgroup": "True",
         "hovertemplate": "Dataset Version=imputed + all + scaled<br>Model=%{x}<br>Fit Time=%{text}<extra></extra>",
         "legendgroup": "imputed + all + scaled",
         "marker": {
          "color": "#D62728"
         },
         "name": "imputed + all + scaled",
         "offsetgroup": "imputed + all + scaled",
         "orientation": "v",
         "showlegend": true,
         "text": [
          3.249,
          3.008,
          0.234,
          0.543,
          0.05,
          0.006,
          0.008
         ],
         "textposition": "auto",
         "type": "bar",
         "x": [
          "CatBoost",
          "RandomForest",
          "LightGBM",
          "XGBoost",
          "DecisionTree",
          "Ridge",
          "Lasso"
         ],
         "xaxis": "x",
         "y": [
          3.249,
          3.008,
          0.234,
          0.543,
          0.05,
          0.006,
          0.008
         ],
         "yaxis": "y"
        },
        {
         "alignmentgroup": "True",
         "hovertemplate": "Dataset Version=dropna + selected + unscaled<br>Model=%{x}<br>Fit Time=%{text}<extra></extra>",
         "legendgroup": "dropna + selected + unscaled",
         "marker": {
          "color": "#9467BD"
         },
         "name": "dropna + selected + unscaled",
         "offsetgroup": "dropna + selected + unscaled",
         "orientation": "v",
         "showlegend": true,
         "text": [
          0.177,
          3.455,
          1.396,
          0.2,
          0.024,
          0.004,
          0.011,
          0.007
         ],
         "textposition": "auto",
         "type": "bar",
         "x": [
          "LightGBM",
          "CatBoost",
          "RandomForest",
          "XGBoost",
          "DecisionTree",
          "Ridge",
          "Linear",
          "Lasso"
         ],
         "xaxis": "x",
         "y": [
          0.177,
          3.455,
          1.396,
          0.2,
          0.024,
          0.004,
          0.011,
          0.007
         ],
         "yaxis": "y"
        },
        {
         "alignmentgroup": "True",
         "hovertemplate": "Dataset Version=dropna + selected + scaled<br>Model=%{x}<br>Fit Time=%{text}<extra></extra>",
         "legendgroup": "dropna + selected + scaled",
         "marker": {
          "color": "#8C564B"
         },
         "name": "dropna + selected + scaled",
         "offsetgroup": "dropna + selected + scaled",
         "orientation": "v",
         "showlegend": true,
         "text": [
          2.99,
          0.184,
          1.398,
          0.23,
          0.026,
          0.002,
          0.006,
          0.005
         ],
         "textposition": "auto",
         "type": "bar",
         "x": [
          "CatBoost",
          "LightGBM",
          "RandomForest",
          "XGBoost",
          "DecisionTree",
          "Ridge",
          "Linear",
          "Lasso"
         ],
         "xaxis": "x",
         "y": [
          2.99,
          0.184,
          1.398,
          0.23,
          0.026,
          0.002,
          0.006,
          0.005
         ],
         "yaxis": "y"
        },
        {
         "alignmentgroup": "True",
         "hovertemplate": "Dataset Version=imputed + selected + unscaled<br>Model=%{x}<br>Fit Time=%{text}<extra></extra>",
         "legendgroup": "imputed + selected + unscaled",
         "marker": {
          "color": "#E377C2"
         },
         "name": "imputed + selected + unscaled",
         "offsetgroup": "imputed + selected + unscaled",
         "orientation": "v",
         "showlegend": true,
         "text": [
          4.421,
          1.604,
          0.244,
          0.228,
          0.032,
          0.004,
          0.011,
          0.008
         ],
         "textposition": "auto",
         "type": "bar",
         "x": [
          "CatBoost",
          "RandomForest",
          "LightGBM",
          "XGBoost",
          "DecisionTree",
          "Ridge",
          "Linear",
          "Lasso"
         ],
         "xaxis": "x",
         "y": [
          4.421,
          1.604,
          0.244,
          0.228,
          0.032,
          0.004,
          0.011,
          0.008
         ],
         "yaxis": "y"
        },
        {
         "alignmentgroup": "True",
         "hovertemplate": "Dataset Version=imputed + selected + scaled<br>Model=%{x}<br>Fit Time=%{text}<extra></extra>",
         "legendgroup": "imputed + selected + scaled",
         "marker": {
          "color": "#7F7F7F"
         },
         "name": "imputed + selected + scaled",
         "offsetgroup": "imputed + selected + scaled",
         "orientation": "v",
         "showlegend": true,
         "text": [
          3.999,
          1.574,
          0.242,
          0.252,
          0.029,
          0.002,
          0.005,
          0.005
         ],
         "textposition": "auto",
         "type": "bar",
         "x": [
          "CatBoost",
          "RandomForest",
          "LightGBM",
          "XGBoost",
          "DecisionTree",
          "Ridge",
          "Linear",
          "Lasso"
         ],
         "xaxis": "x",
         "y": [
          3.999,
          1.574,
          0.242,
          0.252,
          0.029,
          0.002,
          0.005,
          0.005
         ],
         "yaxis": "y"
        }
       ],
       "layout": {
        "barmode": "group",
        "height": 500,
        "legend": {
         "title": {
          "text": "Dataset Version"
         },
         "tracegroupgap": 0
        },
        "margin": {
         "t": 60
        },
        "template": {
         "data": {
          "pie": [
           {
            "automargin": true,
            "type": "pie"
           }
          ],
          "scatter": [
           {
            "line": {
             "width": 3
            },
            "marker": {
             "size": 9
            },
            "type": "scatter"
           }
          ],
          "scatter3d": [
           {
            "line": {
             "width": 3
            },
            "marker": {
             "size": 9
            },
            "type": "scatter3d"
           }
          ],
          "scattergeo": [
           {
            "line": {
             "width": 3
            },
            "marker": {
             "size": 9
            },
            "type": "scattergeo"
           }
          ],
          "scattergl": [
           {
            "line": {
             "width": 3
            },
            "marker": {
             "size": 9
            },
            "type": "scattergl"
           }
          ],
          "scatterpolar": [
           {
            "line": {
             "width": 3
            },
            "marker": {
             "size": 9
            },
            "type": "scatterpolar"
           }
          ],
          "scatterpolargl": [
           {
            "line": {
             "width": 3
            },
            "marker": {
             "size": 9
            },
            "type": "scatterpolargl"
           }
          ],
          "scatterternary": [
           {
            "line": {
             "width": 3
            },
            "marker": {
             "size": 9
            },
            "type": "scatterternary"
           }
          ],
          "table": [
           {
            "cells": {
             "height": 30
            },
            "header": {
             "height": 36
            },
            "type": "table"
           }
          ]
         },
         "layout": {
          "font": {
           "size": 18
          },
          "xaxis": {
           "title": {
            "standoff": 15
           }
          },
          "yaxis": {
           "title": {
            "standoff": 15
           }
          }
         }
        },
        "title": {
         "text": "Training Time on Cross Validation 5 Folds"
        },
        "width": 1200,
        "xaxis": {
         "anchor": "y",
         "domain": [
          0,
          1
         ],
         "title": {
          "text": "Model"
         }
        },
        "yaxis": {
         "anchor": "x",
         "domain": [
          0,
          1
         ],
         "title": {
          "text": "Fit Time"
         },
         "type": "log"
        }
       }
      }
     },
     "metadata": {},
     "output_type": "display_data"
    }
   ],
   "source": [
    "fig = px.bar(\n",
    "    df_all_ver, x='Model', y='Fit Time', color='Dataset Version',\n",
    "    barmode='group', category_orders=order_all, text='Fit Time',\n",
    "    log_y=True\n",
    ")\n",
    "\n",
    "fig.update_layout(\n",
    "    title='Training Time on Cross Validation 5 Folds',\n",
    "    height=500,\n",
    "    width=1200\n",
    ")\n",
    "\n",
    "fig.show()"
   ]
  },
  {
   "cell_type": "code",
   "execution_count": 8,
   "metadata": {
    "cell_id": "00003-0a221708-2f30-45f5-8507-8b3104cce91e",
    "execution_millis": 211,
    "execution_start": 1602850857283,
    "output_cleared": false,
    "source_hash": "d1533531"
   },
   "outputs": [
    {
     "data": {
      "application/vnd.plotly.v1+json": {
       "config": {
        "plotlyServerURL": "https://plot.ly"
       },
       "data": [
        {
         "alignmentgroup": "True",
         "hovertemplate": "Dataset Version=dropna + all + unscaled<br>Model=%{x}<br>Test RMSE=%{text}<extra></extra>",
         "legendgroup": "dropna + all + unscaled",
         "marker": {
          "color": "#1F77B4"
         },
         "name": "dropna + all + unscaled",
         "offsetgroup": "dropna + all + unscaled",
         "orientation": "v",
         "showlegend": true,
         "text": [
          3.207,
          3.648,
          3.809,
          3.675,
          5.654,
          5.634,
          5.64,
          5.852
         ],
         "textposition": "auto",
         "type": "bar",
         "x": [
          "CatBoost",
          "LightGBM",
          "XGBoost",
          "RandomForest",
          "DecisionTree",
          "Ridge",
          "Linear",
          "Lasso"
         ],
         "xaxis": "x",
         "y": [
          3.207,
          3.648,
          3.809,
          3.675,
          5.654,
          5.634,
          5.64,
          5.852
         ],
         "yaxis": "y"
        },
        {
         "alignmentgroup": "True",
         "hovertemplate": "Dataset Version=dropna + all + scaled<br>Model=%{x}<br>Test RMSE=%{text}<extra></extra>",
         "legendgroup": "dropna + all + scaled",
         "marker": {
          "color": "#FF7F0E"
         },
         "name": "dropna + all + scaled",
         "offsetgroup": "dropna + all + scaled",
         "orientation": "v",
         "showlegend": true,
         "text": [
          3.207,
          3.649,
          3.811,
          3.674,
          5.718,
          5.634,
          6.593
         ],
         "textposition": "auto",
         "type": "bar",
         "x": [
          "CatBoost",
          "LightGBM",
          "XGBoost",
          "RandomForest",
          "DecisionTree",
          "Ridge",
          "Lasso"
         ],
         "xaxis": "x",
         "y": [
          3.207,
          3.649,
          3.811,
          3.674,
          5.718,
          5.634,
          6.593
         ],
         "yaxis": "y"
        },
        {
         "alignmentgroup": "True",
         "hovertemplate": "Dataset Version=imputed + all + unscaled<br>Model=%{x}<br>Test RMSE=%{text}<extra></extra>",
         "legendgroup": "imputed + all + unscaled",
         "marker": {
          "color": "#2CA02C"
         },
         "name": "imputed + all + unscaled",
         "offsetgroup": "imputed + all + unscaled",
         "orientation": "v",
         "showlegend": true,
         "text": [
          3.385,
          3.392,
          3.454,
          3.505,
          5.991,
          5.322,
          5.322,
          5.39
         ],
         "textposition": "auto",
         "type": "bar",
         "x": [
          "CatBoost",
          "RandomForest",
          "LightGBM",
          "XGBoost",
          "DecisionTree",
          "Linear",
          "Ridge",
          "Lasso"
         ],
         "xaxis": "x",
         "y": [
          3.385,
          3.392,
          3.454,
          3.505,
          5.991,
          5.322,
          5.322,
          5.39
         ],
         "yaxis": "y"
        },
        {
         "alignmentgroup": "True",
         "hovertemplate": "Dataset Version=imputed + all + scaled<br>Model=%{x}<br>Test RMSE=%{text}<extra></extra>",
         "legendgroup": "imputed + all + scaled",
         "marker": {
          "color": "#D62728"
         },
         "name": "imputed + all + scaled",
         "offsetgroup": "imputed + all + scaled",
         "orientation": "v",
         "showlegend": true,
         "text": [
          3.385,
          3.452,
          3.38,
          3.504,
          5.701,
          5.322,
          5.955
         ],
         "textposition": "auto",
         "type": "bar",
         "x": [
          "CatBoost",
          "RandomForest",
          "LightGBM",
          "XGBoost",
          "DecisionTree",
          "Ridge",
          "Lasso"
         ],
         "xaxis": "x",
         "y": [
          3.385,
          3.452,
          3.38,
          3.504,
          5.701,
          5.322,
          5.955
         ],
         "yaxis": "y"
        }
       ],
       "layout": {
        "barmode": "group",
        "height": 500,
        "legend": {
         "title": {
          "text": "Dataset Version"
         },
         "tracegroupgap": 0
        },
        "margin": {
         "t": 60
        },
        "template": {
         "data": {
          "pie": [
           {
            "automargin": true,
            "type": "pie"
           }
          ],
          "scatter": [
           {
            "line": {
             "width": 3
            },
            "marker": {
             "size": 9
            },
            "type": "scatter"
           }
          ],
          "scatter3d": [
           {
            "line": {
             "width": 3
            },
            "marker": {
             "size": 9
            },
            "type": "scatter3d"
           }
          ],
          "scattergeo": [
           {
            "line": {
             "width": 3
            },
            "marker": {
             "size": 9
            },
            "type": "scattergeo"
           }
          ],
          "scattergl": [
           {
            "line": {
             "width": 3
            },
            "marker": {
             "size": 9
            },
            "type": "scattergl"
           }
          ],
          "scatterpolar": [
           {
            "line": {
             "width": 3
            },
            "marker": {
             "size": 9
            },
            "type": "scatterpolar"
           }
          ],
          "scatterpolargl": [
           {
            "line": {
             "width": 3
            },
            "marker": {
             "size": 9
            },
            "type": "scatterpolargl"
           }
          ],
          "scatterternary": [
           {
            "line": {
             "width": 3
            },
            "marker": {
             "size": 9
            },
            "type": "scatterternary"
           }
          ],
          "table": [
           {
            "cells": {
             "height": 30
            },
            "header": {
             "height": 36
            },
            "type": "table"
           }
          ]
         },
         "layout": {
          "font": {
           "size": 18
          },
          "xaxis": {
           "title": {
            "standoff": 15
           }
          },
          "yaxis": {
           "title": {
            "standoff": 15
           }
          }
         }
        },
        "title": {
         "text": "Model RMSE Score on Test Set (all features only)"
        },
        "width": 1200,
        "xaxis": {
         "anchor": "y",
         "domain": [
          0,
          1
         ],
         "title": {
          "text": "Model"
         }
        },
        "yaxis": {
         "anchor": "x",
         "domain": [
          0,
          1
         ],
         "title": {
          "text": "Test RMSE"
         }
        }
       }
      }
     },
     "metadata": {},
     "output_type": "display_data"
    }
   ],
   "source": [
    "filtered = df_all_ver[df_all_ver['Dataset Version'].str.contains('all')]\n",
    "\n",
    "order = {'Dataset Version': ['dropna + all + unscaled', 'dropna + all + scaled',\n",
    "                             'imputed + all + unscaled', 'imputed + all + scaled']}\n",
    "\n",
    "fig = px.bar(filtered, x='Model', y='Test RMSE', color='Dataset Version',\n",
    "             barmode='group', category_orders=order, text='Test RMSE')\n",
    "\n",
    "fig.update_layout(\n",
    "    title='Model RMSE Score on Test Set (all features only)',\n",
    "    height=500,\n",
    "    width=1200\n",
    ")\n",
    "\n",
    "fig.show()"
   ]
  },
  {
   "cell_type": "markdown",
   "metadata": {
    "cell_id": "00004-654fb49d-5f40-4c19-b413-46e0483706b6"
   },
   "source": [
    "## Best 5 Models"
   ]
  },
  {
   "cell_type": "markdown",
   "metadata": {},
   "source": [
    "### Before Tuning"
   ]
  },
  {
   "cell_type": "code",
   "execution_count": 9,
   "metadata": {},
   "outputs": [
    {
     "data": {
      "text/html": [
       "<div>\n",
       "<style scoped>\n",
       "    .dataframe tbody tr th:only-of-type {\n",
       "        vertical-align: middle;\n",
       "    }\n",
       "\n",
       "    .dataframe tbody tr th {\n",
       "        vertical-align: top;\n",
       "    }\n",
       "\n",
       "    .dataframe thead th {\n",
       "        text-align: right;\n",
       "    }\n",
       "</style>\n",
       "<table border=\"1\" class=\"dataframe\">\n",
       "  <thead>\n",
       "    <tr style=\"text-align: right;\">\n",
       "      <th></th>\n",
       "      <th>Model</th>\n",
       "      <th>Fit Time</th>\n",
       "      <th>Train R2</th>\n",
       "      <th>CV R2</th>\n",
       "      <th>Test R2</th>\n",
       "      <th>Train RMSE</th>\n",
       "      <th>CV RMSE</th>\n",
       "      <th>Test RMSE</th>\n",
       "      <th>Dataset Version</th>\n",
       "    </tr>\n",
       "  </thead>\n",
       "  <tbody>\n",
       "    <tr>\n",
       "      <th>0</th>\n",
       "      <td>CatBoost</td>\n",
       "      <td>3.480</td>\n",
       "      <td>0.992</td>\n",
       "      <td>0.925</td>\n",
       "      <td>0.925</td>\n",
       "      <td>0.950</td>\n",
       "      <td>2.939</td>\n",
       "      <td>3.207</td>\n",
       "      <td>dropna + all + unscaled</td>\n",
       "    </tr>\n",
       "    <tr>\n",
       "      <th>0</th>\n",
       "      <td>CatBoost</td>\n",
       "      <td>3.530</td>\n",
       "      <td>0.992</td>\n",
       "      <td>0.923</td>\n",
       "      <td>0.912</td>\n",
       "      <td>0.990</td>\n",
       "      <td>3.078</td>\n",
       "      <td>3.385</td>\n",
       "      <td>imputed + all + unscaled</td>\n",
       "    </tr>\n",
       "    <tr>\n",
       "      <th>1</th>\n",
       "      <td>LightGBM</td>\n",
       "      <td>0.219</td>\n",
       "      <td>0.973</td>\n",
       "      <td>0.919</td>\n",
       "      <td>0.904</td>\n",
       "      <td>1.793</td>\n",
       "      <td>3.078</td>\n",
       "      <td>3.648</td>\n",
       "      <td>dropna + all + unscaled</td>\n",
       "    </tr>\n",
       "    <tr>\n",
       "      <th>2</th>\n",
       "      <td>XGBoost</td>\n",
       "      <td>0.406</td>\n",
       "      <td>0.998</td>\n",
       "      <td>0.914</td>\n",
       "      <td>0.895</td>\n",
       "      <td>0.544</td>\n",
       "      <td>3.151</td>\n",
       "      <td>3.809</td>\n",
       "      <td>dropna + all + unscaled</td>\n",
       "    </tr>\n",
       "    <tr>\n",
       "      <th>3</th>\n",
       "      <td>RandomForest</td>\n",
       "      <td>2.914</td>\n",
       "      <td>0.988</td>\n",
       "      <td>0.913</td>\n",
       "      <td>0.902</td>\n",
       "      <td>1.207</td>\n",
       "      <td>3.200</td>\n",
       "      <td>3.675</td>\n",
       "      <td>dropna + all + unscaled</td>\n",
       "    </tr>\n",
       "    <tr>\n",
       "      <th>1</th>\n",
       "      <td>RandomForest</td>\n",
       "      <td>3.192</td>\n",
       "      <td>0.988</td>\n",
       "      <td>0.913</td>\n",
       "      <td>0.912</td>\n",
       "      <td>1.232</td>\n",
       "      <td>3.255</td>\n",
       "      <td>3.392</td>\n",
       "      <td>imputed + all + unscaled</td>\n",
       "    </tr>\n",
       "    <tr>\n",
       "      <th>2</th>\n",
       "      <td>LightGBM</td>\n",
       "      <td>0.233</td>\n",
       "      <td>0.972</td>\n",
       "      <td>0.913</td>\n",
       "      <td>0.908</td>\n",
       "      <td>1.851</td>\n",
       "      <td>3.264</td>\n",
       "      <td>3.454</td>\n",
       "      <td>imputed + all + unscaled</td>\n",
       "    </tr>\n",
       "    <tr>\n",
       "      <th>3</th>\n",
       "      <td>XGBoost</td>\n",
       "      <td>0.468</td>\n",
       "      <td>0.997</td>\n",
       "      <td>0.911</td>\n",
       "      <td>0.906</td>\n",
       "      <td>0.564</td>\n",
       "      <td>3.296</td>\n",
       "      <td>3.505</td>\n",
       "      <td>imputed + all + unscaled</td>\n",
       "    </tr>\n",
       "    <tr>\n",
       "      <th>0</th>\n",
       "      <td>LightGBM</td>\n",
       "      <td>0.177</td>\n",
       "      <td>0.956</td>\n",
       "      <td>0.903</td>\n",
       "      <td>0.882</td>\n",
       "      <td>2.295</td>\n",
       "      <td>3.388</td>\n",
       "      <td>4.027</td>\n",
       "      <td>dropna + selected + unscaled</td>\n",
       "    </tr>\n",
       "    <tr>\n",
       "      <th>1</th>\n",
       "      <td>CatBoost</td>\n",
       "      <td>3.455</td>\n",
       "      <td>0.980</td>\n",
       "      <td>0.902</td>\n",
       "      <td>0.912</td>\n",
       "      <td>1.555</td>\n",
       "      <td>3.388</td>\n",
       "      <td>3.485</td>\n",
       "      <td>dropna + selected + unscaled</td>\n",
       "    </tr>\n",
       "  </tbody>\n",
       "</table>\n",
       "</div>"
      ],
      "text/plain": [
       "          Model  Fit Time  Train R2  CV R2  Test R2  Train RMSE  CV RMSE  \\\n",
       "0      CatBoost     3.480     0.992  0.925    0.925       0.950    2.939   \n",
       "0      CatBoost     3.530     0.992  0.923    0.912       0.990    3.078   \n",
       "1      LightGBM     0.219     0.973  0.919    0.904       1.793    3.078   \n",
       "2       XGBoost     0.406     0.998  0.914    0.895       0.544    3.151   \n",
       "3  RandomForest     2.914     0.988  0.913    0.902       1.207    3.200   \n",
       "1  RandomForest     3.192     0.988  0.913    0.912       1.232    3.255   \n",
       "2      LightGBM     0.233     0.972  0.913    0.908       1.851    3.264   \n",
       "3       XGBoost     0.468     0.997  0.911    0.906       0.564    3.296   \n",
       "0      LightGBM     0.177     0.956  0.903    0.882       2.295    3.388   \n",
       "1      CatBoost     3.455     0.980  0.902    0.912       1.555    3.388   \n",
       "\n",
       "   Test RMSE               Dataset Version  \n",
       "0      3.207       dropna + all + unscaled  \n",
       "0      3.385      imputed + all + unscaled  \n",
       "1      3.648       dropna + all + unscaled  \n",
       "2      3.809       dropna + all + unscaled  \n",
       "3      3.675       dropna + all + unscaled  \n",
       "1      3.392      imputed + all + unscaled  \n",
       "2      3.454      imputed + all + unscaled  \n",
       "3      3.505      imputed + all + unscaled  \n",
       "0      4.027  dropna + selected + unscaled  \n",
       "1      3.485  dropna + selected + unscaled  "
      ]
     },
     "execution_count": 9,
     "metadata": {},
     "output_type": "execute_result"
    }
   ],
   "source": [
    "df_all_ver[df_all_ver[\"Dataset Version\"].str.contains(\"unscaled\")].head(10)"
   ]
  },
  {
   "cell_type": "code",
   "execution_count": 10,
   "metadata": {},
   "outputs": [],
   "source": [
    "def replace_ver(data):\n",
    "    if data == \"dropna + all + unscaled\":\n",
    "        return \"Ver1\"\n",
    "    elif data == \"imputed + all + unscaled\":\n",
    "        return \"Ver2\"\n",
    "    elif data == \"dropna + selected + unscaled\":\n",
    "        return \"Ver3\"\n",
    "    else:\n",
    "        return \"Ver4\""
   ]
  },
  {
   "cell_type": "code",
   "execution_count": 11,
   "metadata": {},
   "outputs": [
    {
     "data": {
      "text/html": [
       "<div>\n",
       "<style scoped>\n",
       "    .dataframe tbody tr th:only-of-type {\n",
       "        vertical-align: middle;\n",
       "    }\n",
       "\n",
       "    .dataframe tbody tr th {\n",
       "        vertical-align: top;\n",
       "    }\n",
       "\n",
       "    .dataframe thead th {\n",
       "        text-align: right;\n",
       "    }\n",
       "</style>\n",
       "<table border=\"1\" class=\"dataframe\">\n",
       "  <thead>\n",
       "    <tr style=\"text-align: right;\">\n",
       "      <th></th>\n",
       "      <th>Model</th>\n",
       "      <th>Fit Time</th>\n",
       "      <th>Train R2</th>\n",
       "      <th>CV R2</th>\n",
       "      <th>Test R2</th>\n",
       "      <th>Train RMSE</th>\n",
       "      <th>CV RMSE</th>\n",
       "      <th>Test RMSE</th>\n",
       "    </tr>\n",
       "  </thead>\n",
       "  <tbody>\n",
       "    <tr>\n",
       "      <th>0</th>\n",
       "      <td>CatBoost (Ver1)</td>\n",
       "      <td>3.480</td>\n",
       "      <td>0.992</td>\n",
       "      <td>0.925</td>\n",
       "      <td>0.925</td>\n",
       "      <td>0.950</td>\n",
       "      <td>2.939</td>\n",
       "      <td>3.207</td>\n",
       "    </tr>\n",
       "    <tr>\n",
       "      <th>0</th>\n",
       "      <td>CatBoost (Ver2)</td>\n",
       "      <td>3.530</td>\n",
       "      <td>0.992</td>\n",
       "      <td>0.923</td>\n",
       "      <td>0.912</td>\n",
       "      <td>0.990</td>\n",
       "      <td>3.078</td>\n",
       "      <td>3.385</td>\n",
       "    </tr>\n",
       "    <tr>\n",
       "      <th>1</th>\n",
       "      <td>LightGBM (Ver1)</td>\n",
       "      <td>0.219</td>\n",
       "      <td>0.973</td>\n",
       "      <td>0.919</td>\n",
       "      <td>0.904</td>\n",
       "      <td>1.793</td>\n",
       "      <td>3.078</td>\n",
       "      <td>3.648</td>\n",
       "    </tr>\n",
       "    <tr>\n",
       "      <th>2</th>\n",
       "      <td>XGBoost (Ver1)</td>\n",
       "      <td>0.406</td>\n",
       "      <td>0.998</td>\n",
       "      <td>0.914</td>\n",
       "      <td>0.895</td>\n",
       "      <td>0.544</td>\n",
       "      <td>3.151</td>\n",
       "      <td>3.809</td>\n",
       "    </tr>\n",
       "    <tr>\n",
       "      <th>3</th>\n",
       "      <td>RandomForest (Ver1)</td>\n",
       "      <td>2.914</td>\n",
       "      <td>0.988</td>\n",
       "      <td>0.913</td>\n",
       "      <td>0.902</td>\n",
       "      <td>1.207</td>\n",
       "      <td>3.200</td>\n",
       "      <td>3.675</td>\n",
       "    </tr>\n",
       "    <tr>\n",
       "      <th>1</th>\n",
       "      <td>RandomForest (Ver2)</td>\n",
       "      <td>3.192</td>\n",
       "      <td>0.988</td>\n",
       "      <td>0.913</td>\n",
       "      <td>0.912</td>\n",
       "      <td>1.232</td>\n",
       "      <td>3.255</td>\n",
       "      <td>3.392</td>\n",
       "    </tr>\n",
       "    <tr>\n",
       "      <th>2</th>\n",
       "      <td>LightGBM (Ver2)</td>\n",
       "      <td>0.233</td>\n",
       "      <td>0.972</td>\n",
       "      <td>0.913</td>\n",
       "      <td>0.908</td>\n",
       "      <td>1.851</td>\n",
       "      <td>3.264</td>\n",
       "      <td>3.454</td>\n",
       "    </tr>\n",
       "    <tr>\n",
       "      <th>3</th>\n",
       "      <td>XGBoost (Ver2)</td>\n",
       "      <td>0.468</td>\n",
       "      <td>0.997</td>\n",
       "      <td>0.911</td>\n",
       "      <td>0.906</td>\n",
       "      <td>0.564</td>\n",
       "      <td>3.296</td>\n",
       "      <td>3.505</td>\n",
       "    </tr>\n",
       "    <tr>\n",
       "      <th>0</th>\n",
       "      <td>LightGBM (Ver3)</td>\n",
       "      <td>0.177</td>\n",
       "      <td>0.956</td>\n",
       "      <td>0.903</td>\n",
       "      <td>0.882</td>\n",
       "      <td>2.295</td>\n",
       "      <td>3.388</td>\n",
       "      <td>4.027</td>\n",
       "    </tr>\n",
       "    <tr>\n",
       "      <th>1</th>\n",
       "      <td>CatBoost (Ver3)</td>\n",
       "      <td>3.455</td>\n",
       "      <td>0.980</td>\n",
       "      <td>0.902</td>\n",
       "      <td>0.912</td>\n",
       "      <td>1.555</td>\n",
       "      <td>3.388</td>\n",
       "      <td>3.485</td>\n",
       "    </tr>\n",
       "  </tbody>\n",
       "</table>\n",
       "</div>"
      ],
      "text/plain": [
       "                 Model  Fit Time  Train R2  CV R2  Test R2  Train RMSE  \\\n",
       "0      CatBoost (Ver1)     3.480     0.992  0.925    0.925       0.950   \n",
       "0      CatBoost (Ver2)     3.530     0.992  0.923    0.912       0.990   \n",
       "1      LightGBM (Ver1)     0.219     0.973  0.919    0.904       1.793   \n",
       "2       XGBoost (Ver1)     0.406     0.998  0.914    0.895       0.544   \n",
       "3  RandomForest (Ver1)     2.914     0.988  0.913    0.902       1.207   \n",
       "1  RandomForest (Ver2)     3.192     0.988  0.913    0.912       1.232   \n",
       "2      LightGBM (Ver2)     0.233     0.972  0.913    0.908       1.851   \n",
       "3       XGBoost (Ver2)     0.468     0.997  0.911    0.906       0.564   \n",
       "0      LightGBM (Ver3)     0.177     0.956  0.903    0.882       2.295   \n",
       "1      CatBoost (Ver3)     3.455     0.980  0.902    0.912       1.555   \n",
       "\n",
       "   CV RMSE  Test RMSE  \n",
       "0    2.939      3.207  \n",
       "0    3.078      3.385  \n",
       "1    3.078      3.648  \n",
       "2    3.151      3.809  \n",
       "3    3.200      3.675  \n",
       "1    3.255      3.392  \n",
       "2    3.264      3.454  \n",
       "3    3.296      3.505  \n",
       "0    3.388      4.027  \n",
       "1    3.388      3.485  "
      ]
     },
     "execution_count": 11,
     "metadata": {},
     "output_type": "execute_result"
    }
   ],
   "source": [
    "best_10_before = df_all_ver[df_all_ver[\"Dataset Version\"].str.contains(\"unscaled\")].head(10)\n",
    "best_10_before[\"Dataset Version\"] = best_10_before[\"Dataset Version\"].apply(replace_ver)\n",
    "best_10_before[\"Model\"] = best_10_before[\"Model\"] + \" (\" + best_10_before[\"Dataset Version\"] + \")\"\n",
    "best_10_before.drop(columns=[\"Dataset Version\"], inplace=True)\n",
    "best_10_before"
   ]
  },
  {
   "cell_type": "code",
   "execution_count": 76,
   "metadata": {},
   "outputs": [
    {
     "data": {
      "application/vnd.plotly.v1+json": {
       "config": {
        "plotlyServerURL": "https://plot.ly"
       },
       "data": [
        {
         "name": "Train RMSE",
         "text": [
          0.95,
          0.99,
          1.793,
          0.544,
          1.207
         ],
         "textposition": "auto",
         "type": "bar",
         "x": [
          "CatBoost (Ver1)",
          "CatBoost (Ver2)",
          "LightGBM (Ver1)",
          "XGBoost (Ver1)",
          "RandomForest (Ver1)"
         ],
         "y": [
          0.95,
          0.99,
          1.793,
          0.544,
          1.207
         ]
        },
        {
         "name": "CV RMSE",
         "text": [
          2.939,
          3.078,
          3.078,
          3.151,
          3.2
         ],
         "textposition": "auto",
         "type": "bar",
         "x": [
          "CatBoost (Ver1)",
          "CatBoost (Ver2)",
          "LightGBM (Ver1)",
          "XGBoost (Ver1)",
          "RandomForest (Ver1)"
         ],
         "y": [
          2.939,
          3.078,
          3.078,
          3.151,
          3.2
         ]
        },
        {
         "name": "Test RMSE",
         "text": [
          3.207,
          3.385,
          3.648,
          3.809,
          3.675
         ],
         "textposition": "auto",
         "type": "bar",
         "x": [
          "CatBoost (Ver1)",
          "CatBoost (Ver2)",
          "LightGBM (Ver1)",
          "XGBoost (Ver1)",
          "RandomForest (Ver1)"
         ],
         "y": [
          3.207,
          3.385,
          3.648,
          3.809,
          3.675
         ]
        }
       ],
       "layout": {
        "font": {
         "size": 17
        },
        "height": 500,
        "margin": {
         "b": 120,
         "l": 100,
         "r": 100,
         "t": 100
        },
        "template": {
         "data": {
          "bar": [
           {
            "error_x": {
             "color": "#2a3f5f"
            },
            "error_y": {
             "color": "#2a3f5f"
            },
            "marker": {
             "line": {
              "color": "#E5ECF6",
              "width": 0.5
             }
            },
            "type": "bar"
           }
          ],
          "barpolar": [
           {
            "marker": {
             "line": {
              "color": "#E5ECF6",
              "width": 0.5
             }
            },
            "type": "barpolar"
           }
          ],
          "carpet": [
           {
            "aaxis": {
             "endlinecolor": "#2a3f5f",
             "gridcolor": "white",
             "linecolor": "white",
             "minorgridcolor": "white",
             "startlinecolor": "#2a3f5f"
            },
            "baxis": {
             "endlinecolor": "#2a3f5f",
             "gridcolor": "white",
             "linecolor": "white",
             "minorgridcolor": "white",
             "startlinecolor": "#2a3f5f"
            },
            "type": "carpet"
           }
          ],
          "choropleth": [
           {
            "colorbar": {
             "outlinewidth": 0,
             "ticks": ""
            },
            "type": "choropleth"
           }
          ],
          "contour": [
           {
            "colorbar": {
             "outlinewidth": 0,
             "ticks": ""
            },
            "colorscale": [
             [
              0,
              "#0d0887"
             ],
             [
              0.1111111111111111,
              "#46039f"
             ],
             [
              0.2222222222222222,
              "#7201a8"
             ],
             [
              0.3333333333333333,
              "#9c179e"
             ],
             [
              0.4444444444444444,
              "#bd3786"
             ],
             [
              0.5555555555555556,
              "#d8576b"
             ],
             [
              0.6666666666666666,
              "#ed7953"
             ],
             [
              0.7777777777777778,
              "#fb9f3a"
             ],
             [
              0.8888888888888888,
              "#fdca26"
             ],
             [
              1,
              "#f0f921"
             ]
            ],
            "type": "contour"
           }
          ],
          "contourcarpet": [
           {
            "colorbar": {
             "outlinewidth": 0,
             "ticks": ""
            },
            "type": "contourcarpet"
           }
          ],
          "heatmap": [
           {
            "colorbar": {
             "outlinewidth": 0,
             "ticks": ""
            },
            "colorscale": [
             [
              0,
              "#0d0887"
             ],
             [
              0.1111111111111111,
              "#46039f"
             ],
             [
              0.2222222222222222,
              "#7201a8"
             ],
             [
              0.3333333333333333,
              "#9c179e"
             ],
             [
              0.4444444444444444,
              "#bd3786"
             ],
             [
              0.5555555555555556,
              "#d8576b"
             ],
             [
              0.6666666666666666,
              "#ed7953"
             ],
             [
              0.7777777777777778,
              "#fb9f3a"
             ],
             [
              0.8888888888888888,
              "#fdca26"
             ],
             [
              1,
              "#f0f921"
             ]
            ],
            "type": "heatmap"
           }
          ],
          "heatmapgl": [
           {
            "colorbar": {
             "outlinewidth": 0,
             "ticks": ""
            },
            "colorscale": [
             [
              0,
              "#0d0887"
             ],
             [
              0.1111111111111111,
              "#46039f"
             ],
             [
              0.2222222222222222,
              "#7201a8"
             ],
             [
              0.3333333333333333,
              "#9c179e"
             ],
             [
              0.4444444444444444,
              "#bd3786"
             ],
             [
              0.5555555555555556,
              "#d8576b"
             ],
             [
              0.6666666666666666,
              "#ed7953"
             ],
             [
              0.7777777777777778,
              "#fb9f3a"
             ],
             [
              0.8888888888888888,
              "#fdca26"
             ],
             [
              1,
              "#f0f921"
             ]
            ],
            "type": "heatmapgl"
           }
          ],
          "histogram": [
           {
            "marker": {
             "colorbar": {
              "outlinewidth": 0,
              "ticks": ""
             }
            },
            "type": "histogram"
           }
          ],
          "histogram2d": [
           {
            "colorbar": {
             "outlinewidth": 0,
             "ticks": ""
            },
            "colorscale": [
             [
              0,
              "#0d0887"
             ],
             [
              0.1111111111111111,
              "#46039f"
             ],
             [
              0.2222222222222222,
              "#7201a8"
             ],
             [
              0.3333333333333333,
              "#9c179e"
             ],
             [
              0.4444444444444444,
              "#bd3786"
             ],
             [
              0.5555555555555556,
              "#d8576b"
             ],
             [
              0.6666666666666666,
              "#ed7953"
             ],
             [
              0.7777777777777778,
              "#fb9f3a"
             ],
             [
              0.8888888888888888,
              "#fdca26"
             ],
             [
              1,
              "#f0f921"
             ]
            ],
            "type": "histogram2d"
           }
          ],
          "histogram2dcontour": [
           {
            "colorbar": {
             "outlinewidth": 0,
             "ticks": ""
            },
            "colorscale": [
             [
              0,
              "#0d0887"
             ],
             [
              0.1111111111111111,
              "#46039f"
             ],
             [
              0.2222222222222222,
              "#7201a8"
             ],
             [
              0.3333333333333333,
              "#9c179e"
             ],
             [
              0.4444444444444444,
              "#bd3786"
             ],
             [
              0.5555555555555556,
              "#d8576b"
             ],
             [
              0.6666666666666666,
              "#ed7953"
             ],
             [
              0.7777777777777778,
              "#fb9f3a"
             ],
             [
              0.8888888888888888,
              "#fdca26"
             ],
             [
              1,
              "#f0f921"
             ]
            ],
            "type": "histogram2dcontour"
           }
          ],
          "mesh3d": [
           {
            "colorbar": {
             "outlinewidth": 0,
             "ticks": ""
            },
            "type": "mesh3d"
           }
          ],
          "parcoords": [
           {
            "line": {
             "colorbar": {
              "outlinewidth": 0,
              "ticks": ""
             }
            },
            "type": "parcoords"
           }
          ],
          "pie": [
           {
            "automargin": true,
            "type": "pie"
           }
          ],
          "scatter": [
           {
            "marker": {
             "colorbar": {
              "outlinewidth": 0,
              "ticks": ""
             }
            },
            "type": "scatter"
           }
          ],
          "scatter3d": [
           {
            "line": {
             "colorbar": {
              "outlinewidth": 0,
              "ticks": ""
             }
            },
            "marker": {
             "colorbar": {
              "outlinewidth": 0,
              "ticks": ""
             }
            },
            "type": "scatter3d"
           }
          ],
          "scattercarpet": [
           {
            "marker": {
             "colorbar": {
              "outlinewidth": 0,
              "ticks": ""
             }
            },
            "type": "scattercarpet"
           }
          ],
          "scattergeo": [
           {
            "marker": {
             "colorbar": {
              "outlinewidth": 0,
              "ticks": ""
             }
            },
            "type": "scattergeo"
           }
          ],
          "scattergl": [
           {
            "marker": {
             "colorbar": {
              "outlinewidth": 0,
              "ticks": ""
             }
            },
            "type": "scattergl"
           }
          ],
          "scattermapbox": [
           {
            "marker": {
             "colorbar": {
              "outlinewidth": 0,
              "ticks": ""
             }
            },
            "type": "scattermapbox"
           }
          ],
          "scatterpolar": [
           {
            "marker": {
             "colorbar": {
              "outlinewidth": 0,
              "ticks": ""
             }
            },
            "type": "scatterpolar"
           }
          ],
          "scatterpolargl": [
           {
            "marker": {
             "colorbar": {
              "outlinewidth": 0,
              "ticks": ""
             }
            },
            "type": "scatterpolargl"
           }
          ],
          "scatterternary": [
           {
            "marker": {
             "colorbar": {
              "outlinewidth": 0,
              "ticks": ""
             }
            },
            "type": "scatterternary"
           }
          ],
          "surface": [
           {
            "colorbar": {
             "outlinewidth": 0,
             "ticks": ""
            },
            "colorscale": [
             [
              0,
              "#0d0887"
             ],
             [
              0.1111111111111111,
              "#46039f"
             ],
             [
              0.2222222222222222,
              "#7201a8"
             ],
             [
              0.3333333333333333,
              "#9c179e"
             ],
             [
              0.4444444444444444,
              "#bd3786"
             ],
             [
              0.5555555555555556,
              "#d8576b"
             ],
             [
              0.6666666666666666,
              "#ed7953"
             ],
             [
              0.7777777777777778,
              "#fb9f3a"
             ],
             [
              0.8888888888888888,
              "#fdca26"
             ],
             [
              1,
              "#f0f921"
             ]
            ],
            "type": "surface"
           }
          ],
          "table": [
           {
            "cells": {
             "fill": {
              "color": "#EBF0F8"
             },
             "line": {
              "color": "white"
             }
            },
            "header": {
             "fill": {
              "color": "#C8D4E3"
             },
             "line": {
              "color": "white"
             }
            },
            "type": "table"
           }
          ]
         },
         "layout": {
          "annotationdefaults": {
           "arrowcolor": "#2a3f5f",
           "arrowhead": 0,
           "arrowwidth": 1
          },
          "coloraxis": {
           "colorbar": {
            "outlinewidth": 0,
            "ticks": ""
           }
          },
          "colorscale": {
           "diverging": [
            [
             0,
             "#8e0152"
            ],
            [
             0.1,
             "#c51b7d"
            ],
            [
             0.2,
             "#de77ae"
            ],
            [
             0.3,
             "#f1b6da"
            ],
            [
             0.4,
             "#fde0ef"
            ],
            [
             0.5,
             "#f7f7f7"
            ],
            [
             0.6,
             "#e6f5d0"
            ],
            [
             0.7,
             "#b8e186"
            ],
            [
             0.8,
             "#7fbc41"
            ],
            [
             0.9,
             "#4d9221"
            ],
            [
             1,
             "#276419"
            ]
           ],
           "sequential": [
            [
             0,
             "#0d0887"
            ],
            [
             0.1111111111111111,
             "#46039f"
            ],
            [
             0.2222222222222222,
             "#7201a8"
            ],
            [
             0.3333333333333333,
             "#9c179e"
            ],
            [
             0.4444444444444444,
             "#bd3786"
            ],
            [
             0.5555555555555556,
             "#d8576b"
            ],
            [
             0.6666666666666666,
             "#ed7953"
            ],
            [
             0.7777777777777778,
             "#fb9f3a"
            ],
            [
             0.8888888888888888,
             "#fdca26"
            ],
            [
             1,
             "#f0f921"
            ]
           ],
           "sequentialminus": [
            [
             0,
             "#0d0887"
            ],
            [
             0.1111111111111111,
             "#46039f"
            ],
            [
             0.2222222222222222,
             "#7201a8"
            ],
            [
             0.3333333333333333,
             "#9c179e"
            ],
            [
             0.4444444444444444,
             "#bd3786"
            ],
            [
             0.5555555555555556,
             "#d8576b"
            ],
            [
             0.6666666666666666,
             "#ed7953"
            ],
            [
             0.7777777777777778,
             "#fb9f3a"
            ],
            [
             0.8888888888888888,
             "#fdca26"
            ],
            [
             1,
             "#f0f921"
            ]
           ]
          },
          "colorway": [
           "#636efa",
           "#EF553B",
           "#00cc96",
           "#ab63fa",
           "#FFA15A",
           "#19d3f3",
           "#FF6692",
           "#B6E880",
           "#FF97FF",
           "#FECB52"
          ],
          "font": {
           "color": "#2a3f5f"
          },
          "geo": {
           "bgcolor": "white",
           "lakecolor": "white",
           "landcolor": "#E5ECF6",
           "showlakes": true,
           "showland": true,
           "subunitcolor": "white"
          },
          "hoverlabel": {
           "align": "left"
          },
          "hovermode": "closest",
          "mapbox": {
           "style": "light"
          },
          "paper_bgcolor": "white",
          "plot_bgcolor": "#E5ECF6",
          "polar": {
           "angularaxis": {
            "gridcolor": "white",
            "linecolor": "white",
            "ticks": ""
           },
           "bgcolor": "#E5ECF6",
           "radialaxis": {
            "gridcolor": "white",
            "linecolor": "white",
            "ticks": ""
           }
          },
          "scene": {
           "xaxis": {
            "backgroundcolor": "#E5ECF6",
            "gridcolor": "white",
            "gridwidth": 2,
            "linecolor": "white",
            "showbackground": true,
            "ticks": "",
            "zerolinecolor": "white"
           },
           "yaxis": {
            "backgroundcolor": "#E5ECF6",
            "gridcolor": "white",
            "gridwidth": 2,
            "linecolor": "white",
            "showbackground": true,
            "ticks": "",
            "zerolinecolor": "white"
           },
           "zaxis": {
            "backgroundcolor": "#E5ECF6",
            "gridcolor": "white",
            "gridwidth": 2,
            "linecolor": "white",
            "showbackground": true,
            "ticks": "",
            "zerolinecolor": "white"
           }
          },
          "shapedefaults": {
           "line": {
            "color": "#2a3f5f"
           }
          },
          "ternary": {
           "aaxis": {
            "gridcolor": "white",
            "linecolor": "white",
            "ticks": ""
           },
           "baxis": {
            "gridcolor": "white",
            "linecolor": "white",
            "ticks": ""
           },
           "bgcolor": "#E5ECF6",
           "caxis": {
            "gridcolor": "white",
            "linecolor": "white",
            "ticks": ""
           }
          },
          "title": {
           "x": 0.05
          },
          "xaxis": {
           "automargin": true,
           "gridcolor": "white",
           "linecolor": "white",
           "ticks": "",
           "title": {
            "standoff": 15
           },
           "zerolinecolor": "white",
           "zerolinewidth": 2
          },
          "yaxis": {
           "automargin": true,
           "gridcolor": "white",
           "linecolor": "white",
           "ticks": "",
           "title": {
            "standoff": 15
           },
           "zerolinecolor": "white",
           "zerolinewidth": 2
          }
         }
        },
        "title": {
         "text": "Best 5 Model's RMSE Score"
        },
        "width": 600,
        "xaxis": {},
        "yaxis": {
         "title": {
          "text": "RMSE Score"
         }
        }
       }
      }
     },
     "metadata": {},
     "output_type": "display_data"
    }
   ],
   "source": [
    "best_10_before = df_all_ver[df_all_ver[\"Dataset Version\"].str.contains(\"unscaled\")].head(5)\n",
    "best_10_before[\"Dataset Version\"] = best_10_before[\"Dataset Version\"].apply(replace_ver)\n",
    "best_10_before[\"Model\"] = best_10_before[\"Model\"] + \" (\" + best_10_before[\"Dataset Version\"] + \")\"\n",
    "best_10_before.drop(columns=[\"Dataset Version\"], inplace=True)\n",
    "\n",
    "fig = go.Figure()\n",
    "\n",
    "fig.add_trace(go.Bar(\n",
    "    x=best_10_before['Model'], y=best_10_before['Train RMSE'],\n",
    "    text=best_10_before['Train RMSE'], textposition='auto',\n",
    "    name='Train RMSE'\n",
    "))\n",
    "fig.add_trace(go.Bar(\n",
    "    x=best_10_before['Model'], y=best_10_before['CV RMSE'],\n",
    "    text=best_10_before['CV RMSE'], textposition='auto',\n",
    "    name='CV RMSE'\n",
    "))\n",
    "fig.add_trace(go.Bar(\n",
    "    x=best_10_before['Model'], y=best_10_before['Test RMSE'],\n",
    "    text=best_10_before['Test RMSE'], textposition='auto',\n",
    "    name='Test RMSE'\n",
    "))\n",
    "fig.update_layout(\n",
    "    title='Best 5 Model\\'s RMSE Score',\n",
    "    xaxis=None,\n",
    "    yaxis=dict(title='RMSE Score'),\n",
    "    height=500,\n",
    "    width=600,\n",
    "    margin=dict(l=100, r=100, t=100, b=120),\n",
    "    font_size=17,\n",
    "    \n",
    ")\n",
    "fig.show()"
   ]
  },
  {
   "cell_type": "code",
   "execution_count": 13,
   "metadata": {},
   "outputs": [
    {
     "data": {
      "application/vnd.plotly.v1+json": {
       "config": {
        "plotlyServerURL": "https://plot.ly"
       },
       "data": [
        {
         "name": "Train R2",
         "text": [
          0.992,
          0.992,
          0.973,
          0.998,
          0.988
         ],
         "textposition": "auto",
         "type": "bar",
         "x": [
          "CatBoost (Ver1)",
          "CatBoost (Ver2)",
          "LightGBM (Ver1)",
          "XGBoost (Ver1)",
          "RandomForest (Ver1)"
         ],
         "y": [
          0.992,
          0.992,
          0.973,
          0.998,
          0.988
         ]
        },
        {
         "name": "CV R2",
         "text": [
          0.925,
          0.923,
          0.919,
          0.914,
          0.913
         ],
         "textposition": "auto",
         "type": "bar",
         "x": [
          "CatBoost (Ver1)",
          "CatBoost (Ver2)",
          "LightGBM (Ver1)",
          "XGBoost (Ver1)",
          "RandomForest (Ver1)"
         ],
         "y": [
          0.925,
          0.923,
          0.919,
          0.914,
          0.913
         ]
        },
        {
         "name": "Test R2",
         "text": [
          0.925,
          0.912,
          0.904,
          0.895,
          0.902
         ],
         "textposition": "auto",
         "type": "bar",
         "x": [
          "CatBoost (Ver1)",
          "CatBoost (Ver2)",
          "LightGBM (Ver1)",
          "XGBoost (Ver1)",
          "RandomForest (Ver1)"
         ],
         "y": [
          0.925,
          0.912,
          0.904,
          0.895,
          0.902
         ]
        }
       ],
       "layout": {
        "font": {
         "size": 17
        },
        "height": 500,
        "margin": {
         "b": 120,
         "l": 100,
         "r": 100,
         "t": 100
        },
        "template": {
         "data": {
          "pie": [
           {
            "automargin": true,
            "type": "pie"
           }
          ],
          "scatter": [
           {
            "line": {
             "width": 3
            },
            "marker": {
             "size": 9
            },
            "type": "scatter"
           }
          ],
          "scatter3d": [
           {
            "line": {
             "width": 3
            },
            "marker": {
             "size": 9
            },
            "type": "scatter3d"
           }
          ],
          "scattergeo": [
           {
            "line": {
             "width": 3
            },
            "marker": {
             "size": 9
            },
            "type": "scattergeo"
           }
          ],
          "scattergl": [
           {
            "line": {
             "width": 3
            },
            "marker": {
             "size": 9
            },
            "type": "scattergl"
           }
          ],
          "scatterpolar": [
           {
            "line": {
             "width": 3
            },
            "marker": {
             "size": 9
            },
            "type": "scatterpolar"
           }
          ],
          "scatterpolargl": [
           {
            "line": {
             "width": 3
            },
            "marker": {
             "size": 9
            },
            "type": "scatterpolargl"
           }
          ],
          "scatterternary": [
           {
            "line": {
             "width": 3
            },
            "marker": {
             "size": 9
            },
            "type": "scatterternary"
           }
          ],
          "table": [
           {
            "cells": {
             "height": 30
            },
            "header": {
             "height": 36
            },
            "type": "table"
           }
          ]
         },
         "layout": {
          "font": {
           "size": 18
          },
          "xaxis": {
           "title": {
            "standoff": 15
           }
          },
          "yaxis": {
           "title": {
            "standoff": 15
           }
          }
         }
        },
        "title": {
         "text": "Best 5 Model's R-Squared Score"
        },
        "width": 600,
        "xaxis": {},
        "yaxis": {
         "title": {
          "text": "R2 Score"
         }
        }
       }
      }
     },
     "metadata": {},
     "output_type": "display_data"
    }
   ],
   "source": [
    "fig = go.Figure()\n",
    "\n",
    "fig.add_trace(go.Bar(\n",
    "    x=best_10_before['Model'], y=best_10_before['Train R2'],\n",
    "    text=best_10_before['Train R2'], textposition='auto',\n",
    "    name='Train R2'\n",
    "))\n",
    "fig.add_trace(go.Bar(\n",
    "    x=best_10_before['Model'], y=best_10_before['CV R2'],\n",
    "    text=best_10_before['CV R2'], textposition='auto',\n",
    "    name='CV R2'\n",
    "))\n",
    "fig.add_trace(go.Bar(\n",
    "    x=best_10_before['Model'], y=best_10_before['Test R2'],\n",
    "    text=best_10_before['Test R2'], textposition='auto',\n",
    "    name='Test R2'\n",
    "))\n",
    "fig.update_layout(\n",
    "    title='Best 5 Model\\'s R-Squared Score',\n",
    "    xaxis=None,\n",
    "    yaxis=dict(title='R2 Score'),\n",
    "    height=500,\n",
    "    width=600,\n",
    "    margin=dict(l=100, r=100, t=100, b=120),\n",
    "    font_size=17,\n",
    "    \n",
    ")\n",
    "fig.show()"
   ]
  },
  {
   "cell_type": "markdown",
   "metadata": {},
   "source": [
    "### After Tuning"
   ]
  },
  {
   "cell_type": "code",
   "execution_count": 54,
   "metadata": {},
   "outputs": [
    {
     "data": {
      "text/html": [
       "<div>\n",
       "<style scoped>\n",
       "    .dataframe tbody tr th:only-of-type {\n",
       "        vertical-align: middle;\n",
       "    }\n",
       "\n",
       "    .dataframe tbody tr th {\n",
       "        vertical-align: top;\n",
       "    }\n",
       "\n",
       "    .dataframe thead th {\n",
       "        text-align: right;\n",
       "    }\n",
       "</style>\n",
       "<table border=\"1\" class=\"dataframe\">\n",
       "  <thead>\n",
       "    <tr style=\"text-align: right;\">\n",
       "      <th></th>\n",
       "      <th>Model</th>\n",
       "      <th>Fit Time</th>\n",
       "      <th>Train R2</th>\n",
       "      <th>CV R2</th>\n",
       "      <th>Test R2</th>\n",
       "      <th>Train RMSE</th>\n",
       "      <th>CV RMSE</th>\n",
       "      <th>Test RMSE</th>\n",
       "    </tr>\n",
       "  </thead>\n",
       "  <tbody>\n",
       "    <tr>\n",
       "      <th>0</th>\n",
       "      <td>LGBMRegressor (1244) {'objective': 'regression...</td>\n",
       "      <td>5.9132</td>\n",
       "      <td>0.9887</td>\n",
       "      <td>0.9288</td>\n",
       "      <td>0.9373</td>\n",
       "      <td>1.1671</td>\n",
       "      <td>2.8661</td>\n",
       "      <td>2.9412</td>\n",
       "    </tr>\n",
       "    <tr>\n",
       "      <th>1</th>\n",
       "      <td>LGBMRegressor (1244) {'objective': 'regression...</td>\n",
       "      <td>5.9058</td>\n",
       "      <td>0.9886</td>\n",
       "      <td>0.9281</td>\n",
       "      <td>0.9371</td>\n",
       "      <td>1.1696</td>\n",
       "      <td>2.8803</td>\n",
       "      <td>2.9456</td>\n",
       "    </tr>\n",
       "    <tr>\n",
       "      <th>2</th>\n",
       "      <td>XGBRegressor (1354) {'alpha': 0.00949506479294...</td>\n",
       "      <td>5.2654</td>\n",
       "      <td>0.9827</td>\n",
       "      <td>0.9252</td>\n",
       "      <td>0.9360</td>\n",
       "      <td>1.4419</td>\n",
       "      <td>2.9362</td>\n",
       "      <td>2.9712</td>\n",
       "    </tr>\n",
       "    <tr>\n",
       "      <th>3</th>\n",
       "      <td>XGBRegressor (1279) {'alpha': 0.00949506479294...</td>\n",
       "      <td>5.0459</td>\n",
       "      <td>0.9807</td>\n",
       "      <td>0.9248</td>\n",
       "      <td>0.9348</td>\n",
       "      <td>1.5216</td>\n",
       "      <td>2.9431</td>\n",
       "      <td>2.9980</td>\n",
       "    </tr>\n",
       "    <tr>\n",
       "      <th>4</th>\n",
       "      <td>LGBMRegressor (178) {'objective': 'regression'...</td>\n",
       "      <td>0.6100</td>\n",
       "      <td>0.9930</td>\n",
       "      <td>0.9214</td>\n",
       "      <td>0.9320</td>\n",
       "      <td>0.9174</td>\n",
       "      <td>3.0128</td>\n",
       "      <td>3.0624</td>\n",
       "    </tr>\n",
       "    <tr>\n",
       "      <th>5</th>\n",
       "      <td>XGBRegressor (131) {'alpha': 3.028612934937252...</td>\n",
       "      <td>0.6253</td>\n",
       "      <td>0.9805</td>\n",
       "      <td>0.9171</td>\n",
       "      <td>0.9261</td>\n",
       "      <td>1.5295</td>\n",
       "      <td>3.1138</td>\n",
       "      <td>3.1928</td>\n",
       "    </tr>\n",
       "  </tbody>\n",
       "</table>\n",
       "</div>"
      ],
      "text/plain": [
       "                                               Model  Fit Time  Train R2  \\\n",
       "0  LGBMRegressor (1244) {'objective': 'regression...    5.9132    0.9887   \n",
       "1  LGBMRegressor (1244) {'objective': 'regression...    5.9058    0.9886   \n",
       "2  XGBRegressor (1354) {'alpha': 0.00949506479294...    5.2654    0.9827   \n",
       "3  XGBRegressor (1279) {'alpha': 0.00949506479294...    5.0459    0.9807   \n",
       "4  LGBMRegressor (178) {'objective': 'regression'...    0.6100    0.9930   \n",
       "5  XGBRegressor (131) {'alpha': 3.028612934937252...    0.6253    0.9805   \n",
       "\n",
       "    CV R2  Test R2  Train RMSE  CV RMSE  Test RMSE  \n",
       "0  0.9288   0.9373      1.1671   2.8661     2.9412  \n",
       "1  0.9281   0.9371      1.1696   2.8803     2.9456  \n",
       "2  0.9252   0.9360      1.4419   2.9362     2.9712  \n",
       "3  0.9248   0.9348      1.5216   2.9431     2.9980  \n",
       "4  0.9214   0.9320      0.9174   3.0128     3.0624  \n",
       "5  0.9171   0.9261      1.5295   3.1138     3.1928  "
      ]
     },
     "execution_count": 54,
     "metadata": {},
     "output_type": "execute_result"
    }
   ],
   "source": [
    "df_tuned = pd.read_csv(\"../data/processed/tuning_dropna_all (XGB+LGB).csv\")\n",
    "df_tuned"
   ]
  },
  {
   "cell_type": "code",
   "execution_count": 55,
   "metadata": {},
   "outputs": [
    {
     "data": {
      "text/html": [
       "<div>\n",
       "<style scoped>\n",
       "    .dataframe tbody tr th:only-of-type {\n",
       "        vertical-align: middle;\n",
       "    }\n",
       "\n",
       "    .dataframe tbody tr th {\n",
       "        vertical-align: top;\n",
       "    }\n",
       "\n",
       "    .dataframe thead th {\n",
       "        text-align: right;\n",
       "    }\n",
       "</style>\n",
       "<table border=\"1\" class=\"dataframe\">\n",
       "  <thead>\n",
       "    <tr style=\"text-align: right;\">\n",
       "      <th></th>\n",
       "      <th>Model</th>\n",
       "      <th>Fit Time</th>\n",
       "      <th>Train R2</th>\n",
       "      <th>CV R2</th>\n",
       "      <th>Test R2</th>\n",
       "      <th>Train RMSE</th>\n",
       "      <th>CV RMSE</th>\n",
       "      <th>Test RMSE</th>\n",
       "    </tr>\n",
       "  </thead>\n",
       "  <tbody>\n",
       "    <tr>\n",
       "      <th>0</th>\n",
       "      <td>LightGBM_Tuned (Ver1)</td>\n",
       "      <td>5.913</td>\n",
       "      <td>0.989</td>\n",
       "      <td>0.929</td>\n",
       "      <td>0.937</td>\n",
       "      <td>1.167</td>\n",
       "      <td>2.866</td>\n",
       "      <td>2.941</td>\n",
       "    </tr>\n",
       "    <tr>\n",
       "      <th>2</th>\n",
       "      <td>XGBoost_Tuned (Ver1)</td>\n",
       "      <td>5.265</td>\n",
       "      <td>0.983</td>\n",
       "      <td>0.925</td>\n",
       "      <td>0.936</td>\n",
       "      <td>1.442</td>\n",
       "      <td>2.936</td>\n",
       "      <td>2.971</td>\n",
       "    </tr>\n",
       "  </tbody>\n",
       "</table>\n",
       "</div>"
      ],
      "text/plain": [
       "                   Model  Fit Time  Train R2  CV R2  Test R2  Train RMSE  \\\n",
       "0  LightGBM_Tuned (Ver1)     5.913     0.989  0.929    0.937       1.167   \n",
       "2   XGBoost_Tuned (Ver1)     5.265     0.983  0.925    0.936       1.442   \n",
       "\n",
       "   CV RMSE  Test RMSE  \n",
       "0    2.866      2.941  \n",
       "2    2.936      2.971  "
      ]
     },
     "execution_count": 55,
     "metadata": {},
     "output_type": "execute_result"
    }
   ],
   "source": [
    "df_tuned_top = round(df_tuned.iloc[[0,2]], 3)\n",
    "df_tuned_top[\"Model\"] = df_tuned_top[\"Model\"].apply(lambda x: x.split()[0]) + \"_Tuned (Ver1)\"\n",
    "df_tuned_top[\"Model\"] = df_tuned_top[\"Model\"].str.replace(\"LGBMRegressor\", \"LightGBM\")\n",
    "df_tuned_top[\"Model\"] = df_tuned_top[\"Model\"].str.replace(\"XGBRegressor\", \"XGBoost\")\n",
    "df_tuned_top"
   ]
  },
  {
   "cell_type": "code",
   "execution_count": 56,
   "metadata": {},
   "outputs": [
    {
     "data": {
      "text/html": [
       "<div>\n",
       "<style scoped>\n",
       "    .dataframe tbody tr th:only-of-type {\n",
       "        vertical-align: middle;\n",
       "    }\n",
       "\n",
       "    .dataframe tbody tr th {\n",
       "        vertical-align: top;\n",
       "    }\n",
       "\n",
       "    .dataframe thead th {\n",
       "        text-align: right;\n",
       "    }\n",
       "</style>\n",
       "<table border=\"1\" class=\"dataframe\">\n",
       "  <thead>\n",
       "    <tr style=\"text-align: right;\">\n",
       "      <th></th>\n",
       "      <th>Model</th>\n",
       "      <th>Fit Time</th>\n",
       "      <th>Train R2</th>\n",
       "      <th>CV R2</th>\n",
       "      <th>Test R2</th>\n",
       "      <th>Train RMSE</th>\n",
       "      <th>CV RMSE</th>\n",
       "      <th>Test RMSE</th>\n",
       "    </tr>\n",
       "  </thead>\n",
       "  <tbody>\n",
       "    <tr>\n",
       "      <th>0</th>\n",
       "      <td>LightGBM_Tuned (Ver1)</td>\n",
       "      <td>5.913</td>\n",
       "      <td>0.989</td>\n",
       "      <td>0.929</td>\n",
       "      <td>0.937</td>\n",
       "      <td>1.167</td>\n",
       "      <td>2.866</td>\n",
       "      <td>2.941</td>\n",
       "    </tr>\n",
       "    <tr>\n",
       "      <th>1</th>\n",
       "      <td>XGBoost_Tuned (Ver1)</td>\n",
       "      <td>5.265</td>\n",
       "      <td>0.983</td>\n",
       "      <td>0.925</td>\n",
       "      <td>0.936</td>\n",
       "      <td>1.442</td>\n",
       "      <td>2.936</td>\n",
       "      <td>2.971</td>\n",
       "    </tr>\n",
       "    <tr>\n",
       "      <th>2</th>\n",
       "      <td>CatBoost (Ver1)</td>\n",
       "      <td>3.480</td>\n",
       "      <td>0.992</td>\n",
       "      <td>0.925</td>\n",
       "      <td>0.925</td>\n",
       "      <td>0.950</td>\n",
       "      <td>2.939</td>\n",
       "      <td>3.207</td>\n",
       "    </tr>\n",
       "    <tr>\n",
       "      <th>3</th>\n",
       "      <td>CatBoost (Ver2)</td>\n",
       "      <td>3.530</td>\n",
       "      <td>0.992</td>\n",
       "      <td>0.923</td>\n",
       "      <td>0.912</td>\n",
       "      <td>0.990</td>\n",
       "      <td>3.078</td>\n",
       "      <td>3.385</td>\n",
       "    </tr>\n",
       "    <tr>\n",
       "      <th>4</th>\n",
       "      <td>LightGBM (Ver1)</td>\n",
       "      <td>0.219</td>\n",
       "      <td>0.973</td>\n",
       "      <td>0.919</td>\n",
       "      <td>0.904</td>\n",
       "      <td>1.793</td>\n",
       "      <td>3.078</td>\n",
       "      <td>3.648</td>\n",
       "    </tr>\n",
       "  </tbody>\n",
       "</table>\n",
       "</div>"
      ],
      "text/plain": [
       "                   Model  Fit Time  Train R2  CV R2  Test R2  Train RMSE  \\\n",
       "0  LightGBM_Tuned (Ver1)     5.913     0.989  0.929    0.937       1.167   \n",
       "1   XGBoost_Tuned (Ver1)     5.265     0.983  0.925    0.936       1.442   \n",
       "2        CatBoost (Ver1)     3.480     0.992  0.925    0.925       0.950   \n",
       "3        CatBoost (Ver2)     3.530     0.992  0.923    0.912       0.990   \n",
       "4        LightGBM (Ver1)     0.219     0.973  0.919    0.904       1.793   \n",
       "\n",
       "   CV RMSE  Test RMSE  \n",
       "0    2.866      2.941  \n",
       "1    2.936      2.971  \n",
       "2    2.939      3.207  \n",
       "3    3.078      3.385  \n",
       "4    3.078      3.648  "
      ]
     },
     "execution_count": 56,
     "metadata": {},
     "output_type": "execute_result"
    }
   ],
   "source": [
    "best_5_after = pd.concat([best_10_before, df_tuned_top], axis=0)\n",
    "best_5_after = best_5_after.sort_values(by=\"CV RMSE\").head().reset_index(drop=True)\n",
    "best_5_after"
   ]
  },
  {
   "cell_type": "code",
   "execution_count": 71,
   "metadata": {},
   "outputs": [
    {
     "data": {
      "text/plain": [
       "Templates configuration\n",
       "-----------------------\n",
       "    Default template: 'plotly'\n",
       "    Available templates:\n",
       "        ['ggplot2', 'seaborn', 'simple_white', 'plotly',\n",
       "         'plotly_white', 'plotly_dark', 'presentation', 'xgridoff',\n",
       "         'ygridoff', 'gridon', 'none']"
      ]
     },
     "execution_count": 71,
     "metadata": {},
     "output_type": "execute_result"
    }
   ],
   "source": [
    "pio.templates.default = \"plotly\"\n",
    "pio.templates"
   ]
  },
  {
   "cell_type": "code",
   "execution_count": 72,
   "metadata": {},
   "outputs": [
    {
     "data": {
      "application/vnd.plotly.v1+json": {
       "config": {
        "plotlyServerURL": "https://plot.ly"
       },
       "data": [
        {
         "name": "Train RMSE",
         "text": [
          1.167,
          1.442,
          0.95,
          0.99,
          1.793
         ],
         "textposition": "auto",
         "type": "bar",
         "x": [
          "LightGBM_Tuned (Ver1)",
          "XGBoost_Tuned (Ver1)",
          "CatBoost (Ver1)",
          "CatBoost (Ver2)",
          "LightGBM (Ver1)"
         ],
         "y": [
          1.167,
          1.442,
          0.95,
          0.99,
          1.793
         ]
        },
        {
         "name": "CV RMSE",
         "text": [
          2.866,
          2.936,
          2.939,
          3.078,
          3.078
         ],
         "textposition": "auto",
         "type": "bar",
         "x": [
          "LightGBM_Tuned (Ver1)",
          "XGBoost_Tuned (Ver1)",
          "CatBoost (Ver1)",
          "CatBoost (Ver2)",
          "LightGBM (Ver1)"
         ],
         "y": [
          2.866,
          2.936,
          2.939,
          3.078,
          3.078
         ]
        },
        {
         "name": "Test RMSE",
         "text": [
          2.941,
          2.971,
          3.207,
          3.385,
          3.648
         ],
         "textposition": "auto",
         "type": "bar",
         "x": [
          "LightGBM_Tuned (Ver1)",
          "XGBoost_Tuned (Ver1)",
          "CatBoost (Ver1)",
          "CatBoost (Ver2)",
          "LightGBM (Ver1)"
         ],
         "y": [
          2.941,
          2.971,
          3.207,
          3.385,
          3.648
         ]
        }
       ],
       "layout": {
        "font": {
         "size": 17
        },
        "height": 500,
        "margin": {
         "b": 120,
         "l": 100,
         "r": 100,
         "t": 100
        },
        "template": {
         "data": {
          "bar": [
           {
            "error_x": {
             "color": "#2a3f5f"
            },
            "error_y": {
             "color": "#2a3f5f"
            },
            "marker": {
             "line": {
              "color": "#E5ECF6",
              "width": 0.5
             }
            },
            "type": "bar"
           }
          ],
          "barpolar": [
           {
            "marker": {
             "line": {
              "color": "#E5ECF6",
              "width": 0.5
             }
            },
            "type": "barpolar"
           }
          ],
          "carpet": [
           {
            "aaxis": {
             "endlinecolor": "#2a3f5f",
             "gridcolor": "white",
             "linecolor": "white",
             "minorgridcolor": "white",
             "startlinecolor": "#2a3f5f"
            },
            "baxis": {
             "endlinecolor": "#2a3f5f",
             "gridcolor": "white",
             "linecolor": "white",
             "minorgridcolor": "white",
             "startlinecolor": "#2a3f5f"
            },
            "type": "carpet"
           }
          ],
          "choropleth": [
           {
            "colorbar": {
             "outlinewidth": 0,
             "ticks": ""
            },
            "type": "choropleth"
           }
          ],
          "contour": [
           {
            "colorbar": {
             "outlinewidth": 0,
             "ticks": ""
            },
            "colorscale": [
             [
              0,
              "#0d0887"
             ],
             [
              0.1111111111111111,
              "#46039f"
             ],
             [
              0.2222222222222222,
              "#7201a8"
             ],
             [
              0.3333333333333333,
              "#9c179e"
             ],
             [
              0.4444444444444444,
              "#bd3786"
             ],
             [
              0.5555555555555556,
              "#d8576b"
             ],
             [
              0.6666666666666666,
              "#ed7953"
             ],
             [
              0.7777777777777778,
              "#fb9f3a"
             ],
             [
              0.8888888888888888,
              "#fdca26"
             ],
             [
              1,
              "#f0f921"
             ]
            ],
            "type": "contour"
           }
          ],
          "contourcarpet": [
           {
            "colorbar": {
             "outlinewidth": 0,
             "ticks": ""
            },
            "type": "contourcarpet"
           }
          ],
          "heatmap": [
           {
            "colorbar": {
             "outlinewidth": 0,
             "ticks": ""
            },
            "colorscale": [
             [
              0,
              "#0d0887"
             ],
             [
              0.1111111111111111,
              "#46039f"
             ],
             [
              0.2222222222222222,
              "#7201a8"
             ],
             [
              0.3333333333333333,
              "#9c179e"
             ],
             [
              0.4444444444444444,
              "#bd3786"
             ],
             [
              0.5555555555555556,
              "#d8576b"
             ],
             [
              0.6666666666666666,
              "#ed7953"
             ],
             [
              0.7777777777777778,
              "#fb9f3a"
             ],
             [
              0.8888888888888888,
              "#fdca26"
             ],
             [
              1,
              "#f0f921"
             ]
            ],
            "type": "heatmap"
           }
          ],
          "heatmapgl": [
           {
            "colorbar": {
             "outlinewidth": 0,
             "ticks": ""
            },
            "colorscale": [
             [
              0,
              "#0d0887"
             ],
             [
              0.1111111111111111,
              "#46039f"
             ],
             [
              0.2222222222222222,
              "#7201a8"
             ],
             [
              0.3333333333333333,
              "#9c179e"
             ],
             [
              0.4444444444444444,
              "#bd3786"
             ],
             [
              0.5555555555555556,
              "#d8576b"
             ],
             [
              0.6666666666666666,
              "#ed7953"
             ],
             [
              0.7777777777777778,
              "#fb9f3a"
             ],
             [
              0.8888888888888888,
              "#fdca26"
             ],
             [
              1,
              "#f0f921"
             ]
            ],
            "type": "heatmapgl"
           }
          ],
          "histogram": [
           {
            "marker": {
             "colorbar": {
              "outlinewidth": 0,
              "ticks": ""
             }
            },
            "type": "histogram"
           }
          ],
          "histogram2d": [
           {
            "colorbar": {
             "outlinewidth": 0,
             "ticks": ""
            },
            "colorscale": [
             [
              0,
              "#0d0887"
             ],
             [
              0.1111111111111111,
              "#46039f"
             ],
             [
              0.2222222222222222,
              "#7201a8"
             ],
             [
              0.3333333333333333,
              "#9c179e"
             ],
             [
              0.4444444444444444,
              "#bd3786"
             ],
             [
              0.5555555555555556,
              "#d8576b"
             ],
             [
              0.6666666666666666,
              "#ed7953"
             ],
             [
              0.7777777777777778,
              "#fb9f3a"
             ],
             [
              0.8888888888888888,
              "#fdca26"
             ],
             [
              1,
              "#f0f921"
             ]
            ],
            "type": "histogram2d"
           }
          ],
          "histogram2dcontour": [
           {
            "colorbar": {
             "outlinewidth": 0,
             "ticks": ""
            },
            "colorscale": [
             [
              0,
              "#0d0887"
             ],
             [
              0.1111111111111111,
              "#46039f"
             ],
             [
              0.2222222222222222,
              "#7201a8"
             ],
             [
              0.3333333333333333,
              "#9c179e"
             ],
             [
              0.4444444444444444,
              "#bd3786"
             ],
             [
              0.5555555555555556,
              "#d8576b"
             ],
             [
              0.6666666666666666,
              "#ed7953"
             ],
             [
              0.7777777777777778,
              "#fb9f3a"
             ],
             [
              0.8888888888888888,
              "#fdca26"
             ],
             [
              1,
              "#f0f921"
             ]
            ],
            "type": "histogram2dcontour"
           }
          ],
          "mesh3d": [
           {
            "colorbar": {
             "outlinewidth": 0,
             "ticks": ""
            },
            "type": "mesh3d"
           }
          ],
          "parcoords": [
           {
            "line": {
             "colorbar": {
              "outlinewidth": 0,
              "ticks": ""
             }
            },
            "type": "parcoords"
           }
          ],
          "pie": [
           {
            "automargin": true,
            "type": "pie"
           }
          ],
          "scatter": [
           {
            "marker": {
             "colorbar": {
              "outlinewidth": 0,
              "ticks": ""
             }
            },
            "type": "scatter"
           }
          ],
          "scatter3d": [
           {
            "line": {
             "colorbar": {
              "outlinewidth": 0,
              "ticks": ""
             }
            },
            "marker": {
             "colorbar": {
              "outlinewidth": 0,
              "ticks": ""
             }
            },
            "type": "scatter3d"
           }
          ],
          "scattercarpet": [
           {
            "marker": {
             "colorbar": {
              "outlinewidth": 0,
              "ticks": ""
             }
            },
            "type": "scattercarpet"
           }
          ],
          "scattergeo": [
           {
            "marker": {
             "colorbar": {
              "outlinewidth": 0,
              "ticks": ""
             }
            },
            "type": "scattergeo"
           }
          ],
          "scattergl": [
           {
            "marker": {
             "colorbar": {
              "outlinewidth": 0,
              "ticks": ""
             }
            },
            "type": "scattergl"
           }
          ],
          "scattermapbox": [
           {
            "marker": {
             "colorbar": {
              "outlinewidth": 0,
              "ticks": ""
             }
            },
            "type": "scattermapbox"
           }
          ],
          "scatterpolar": [
           {
            "marker": {
             "colorbar": {
              "outlinewidth": 0,
              "ticks": ""
             }
            },
            "type": "scatterpolar"
           }
          ],
          "scatterpolargl": [
           {
            "marker": {
             "colorbar": {
              "outlinewidth": 0,
              "ticks": ""
             }
            },
            "type": "scatterpolargl"
           }
          ],
          "scatterternary": [
           {
            "marker": {
             "colorbar": {
              "outlinewidth": 0,
              "ticks": ""
             }
            },
            "type": "scatterternary"
           }
          ],
          "surface": [
           {
            "colorbar": {
             "outlinewidth": 0,
             "ticks": ""
            },
            "colorscale": [
             [
              0,
              "#0d0887"
             ],
             [
              0.1111111111111111,
              "#46039f"
             ],
             [
              0.2222222222222222,
              "#7201a8"
             ],
             [
              0.3333333333333333,
              "#9c179e"
             ],
             [
              0.4444444444444444,
              "#bd3786"
             ],
             [
              0.5555555555555556,
              "#d8576b"
             ],
             [
              0.6666666666666666,
              "#ed7953"
             ],
             [
              0.7777777777777778,
              "#fb9f3a"
             ],
             [
              0.8888888888888888,
              "#fdca26"
             ],
             [
              1,
              "#f0f921"
             ]
            ],
            "type": "surface"
           }
          ],
          "table": [
           {
            "cells": {
             "fill": {
              "color": "#EBF0F8"
             },
             "line": {
              "color": "white"
             }
            },
            "header": {
             "fill": {
              "color": "#C8D4E3"
             },
             "line": {
              "color": "white"
             }
            },
            "type": "table"
           }
          ]
         },
         "layout": {
          "annotationdefaults": {
           "arrowcolor": "#2a3f5f",
           "arrowhead": 0,
           "arrowwidth": 1
          },
          "coloraxis": {
           "colorbar": {
            "outlinewidth": 0,
            "ticks": ""
           }
          },
          "colorscale": {
           "diverging": [
            [
             0,
             "#8e0152"
            ],
            [
             0.1,
             "#c51b7d"
            ],
            [
             0.2,
             "#de77ae"
            ],
            [
             0.3,
             "#f1b6da"
            ],
            [
             0.4,
             "#fde0ef"
            ],
            [
             0.5,
             "#f7f7f7"
            ],
            [
             0.6,
             "#e6f5d0"
            ],
            [
             0.7,
             "#b8e186"
            ],
            [
             0.8,
             "#7fbc41"
            ],
            [
             0.9,
             "#4d9221"
            ],
            [
             1,
             "#276419"
            ]
           ],
           "sequential": [
            [
             0,
             "#0d0887"
            ],
            [
             0.1111111111111111,
             "#46039f"
            ],
            [
             0.2222222222222222,
             "#7201a8"
            ],
            [
             0.3333333333333333,
             "#9c179e"
            ],
            [
             0.4444444444444444,
             "#bd3786"
            ],
            [
             0.5555555555555556,
             "#d8576b"
            ],
            [
             0.6666666666666666,
             "#ed7953"
            ],
            [
             0.7777777777777778,
             "#fb9f3a"
            ],
            [
             0.8888888888888888,
             "#fdca26"
            ],
            [
             1,
             "#f0f921"
            ]
           ],
           "sequentialminus": [
            [
             0,
             "#0d0887"
            ],
            [
             0.1111111111111111,
             "#46039f"
            ],
            [
             0.2222222222222222,
             "#7201a8"
            ],
            [
             0.3333333333333333,
             "#9c179e"
            ],
            [
             0.4444444444444444,
             "#bd3786"
            ],
            [
             0.5555555555555556,
             "#d8576b"
            ],
            [
             0.6666666666666666,
             "#ed7953"
            ],
            [
             0.7777777777777778,
             "#fb9f3a"
            ],
            [
             0.8888888888888888,
             "#fdca26"
            ],
            [
             1,
             "#f0f921"
            ]
           ]
          },
          "colorway": [
           "#636efa",
           "#EF553B",
           "#00cc96",
           "#ab63fa",
           "#FFA15A",
           "#19d3f3",
           "#FF6692",
           "#B6E880",
           "#FF97FF",
           "#FECB52"
          ],
          "font": {
           "color": "#2a3f5f"
          },
          "geo": {
           "bgcolor": "white",
           "lakecolor": "white",
           "landcolor": "#E5ECF6",
           "showlakes": true,
           "showland": true,
           "subunitcolor": "white"
          },
          "hoverlabel": {
           "align": "left"
          },
          "hovermode": "closest",
          "mapbox": {
           "style": "light"
          },
          "paper_bgcolor": "white",
          "plot_bgcolor": "#E5ECF6",
          "polar": {
           "angularaxis": {
            "gridcolor": "white",
            "linecolor": "white",
            "ticks": ""
           },
           "bgcolor": "#E5ECF6",
           "radialaxis": {
            "gridcolor": "white",
            "linecolor": "white",
            "ticks": ""
           }
          },
          "scene": {
           "xaxis": {
            "backgroundcolor": "#E5ECF6",
            "gridcolor": "white",
            "gridwidth": 2,
            "linecolor": "white",
            "showbackground": true,
            "ticks": "",
            "zerolinecolor": "white"
           },
           "yaxis": {
            "backgroundcolor": "#E5ECF6",
            "gridcolor": "white",
            "gridwidth": 2,
            "linecolor": "white",
            "showbackground": true,
            "ticks": "",
            "zerolinecolor": "white"
           },
           "zaxis": {
            "backgroundcolor": "#E5ECF6",
            "gridcolor": "white",
            "gridwidth": 2,
            "linecolor": "white",
            "showbackground": true,
            "ticks": "",
            "zerolinecolor": "white"
           }
          },
          "shapedefaults": {
           "line": {
            "color": "#2a3f5f"
           }
          },
          "ternary": {
           "aaxis": {
            "gridcolor": "white",
            "linecolor": "white",
            "ticks": ""
           },
           "baxis": {
            "gridcolor": "white",
            "linecolor": "white",
            "ticks": ""
           },
           "bgcolor": "#E5ECF6",
           "caxis": {
            "gridcolor": "white",
            "linecolor": "white",
            "ticks": ""
           }
          },
          "title": {
           "x": 0.05
          },
          "xaxis": {
           "automargin": true,
           "gridcolor": "white",
           "linecolor": "white",
           "ticks": "",
           "title": {
            "standoff": 15
           },
           "zerolinecolor": "white",
           "zerolinewidth": 2
          },
          "yaxis": {
           "automargin": true,
           "gridcolor": "white",
           "linecolor": "white",
           "ticks": "",
           "title": {
            "standoff": 15
           },
           "zerolinecolor": "white",
           "zerolinewidth": 2
          }
         }
        },
        "title": {
         "text": "Best 5 Model's RMSE Score"
        },
        "width": 600,
        "xaxis": {},
        "yaxis": {
         "title": {
          "text": "RMSE Score"
         }
        }
       }
      }
     },
     "metadata": {},
     "output_type": "display_data"
    }
   ],
   "source": [
    "fig = go.Figure()\n",
    "\n",
    "fig.add_trace(go.Bar(\n",
    "    x=best_5_after['Model'], y=best_5_after['Train RMSE'],\n",
    "    text=best_5_after['Train RMSE'], textposition='auto',\n",
    "    name='Train RMSE'\n",
    "))\n",
    "fig.add_trace(go.Bar(\n",
    "    x=best_5_after['Model'], y=best_5_after['CV RMSE'],\n",
    "    text=best_5_after['CV RMSE'], textposition='auto',\n",
    "    name='CV RMSE'\n",
    "))\n",
    "fig.add_trace(go.Bar(\n",
    "    x=best_5_after['Model'], y=best_5_after['Test RMSE'],\n",
    "    text=best_5_after['Test RMSE'], textposition='auto',\n",
    "    name='Test RMSE'\n",
    "))\n",
    "fig.update_layout(\n",
    "    title='Best 5 Model\\'s RMSE Score',\n",
    "    xaxis=None,\n",
    "    yaxis=dict(title='RMSE Score'),\n",
    "    height=500,\n",
    "    width=600,\n",
    "    margin=dict(l=100, r=100, t=100, b=120),\n",
    "    font_size=17,\n",
    "    \n",
    ")\n",
    "fig.show()"
   ]
  },
  {
   "cell_type": "code",
   "execution_count": 73,
   "metadata": {},
   "outputs": [
    {
     "data": {
      "application/vnd.plotly.v1+json": {
       "config": {
        "plotlyServerURL": "https://plot.ly"
       },
       "data": [
        {
         "name": "Train R2",
         "text": [
          0.989,
          0.983,
          0.992,
          0.992,
          0.973
         ],
         "textposition": "auto",
         "type": "bar",
         "x": [
          "LightGBM_Tuned (Ver1)",
          "XGBoost_Tuned (Ver1)",
          "CatBoost (Ver1)",
          "CatBoost (Ver2)",
          "LightGBM (Ver1)"
         ],
         "y": [
          0.989,
          0.983,
          0.992,
          0.992,
          0.973
         ]
        },
        {
         "name": "CV R2",
         "text": [
          0.929,
          0.925,
          0.925,
          0.923,
          0.919
         ],
         "textposition": "auto",
         "type": "bar",
         "x": [
          "LightGBM_Tuned (Ver1)",
          "XGBoost_Tuned (Ver1)",
          "CatBoost (Ver1)",
          "CatBoost (Ver2)",
          "LightGBM (Ver1)"
         ],
         "y": [
          0.929,
          0.925,
          0.925,
          0.923,
          0.919
         ]
        },
        {
         "name": "Test R2",
         "text": [
          0.937,
          0.936,
          0.925,
          0.912,
          0.904
         ],
         "textposition": "auto",
         "type": "bar",
         "x": [
          "LightGBM_Tuned (Ver1)",
          "XGBoost_Tuned (Ver1)",
          "CatBoost (Ver1)",
          "CatBoost (Ver2)",
          "LightGBM (Ver1)"
         ],
         "y": [
          0.937,
          0.936,
          0.925,
          0.912,
          0.904
         ]
        }
       ],
       "layout": {
        "font": {
         "size": 17
        },
        "height": 500,
        "margin": {
         "b": 120,
         "l": 100,
         "r": 100,
         "t": 100
        },
        "template": {
         "data": {
          "bar": [
           {
            "error_x": {
             "color": "#2a3f5f"
            },
            "error_y": {
             "color": "#2a3f5f"
            },
            "marker": {
             "line": {
              "color": "#E5ECF6",
              "width": 0.5
             }
            },
            "type": "bar"
           }
          ],
          "barpolar": [
           {
            "marker": {
             "line": {
              "color": "#E5ECF6",
              "width": 0.5
             }
            },
            "type": "barpolar"
           }
          ],
          "carpet": [
           {
            "aaxis": {
             "endlinecolor": "#2a3f5f",
             "gridcolor": "white",
             "linecolor": "white",
             "minorgridcolor": "white",
             "startlinecolor": "#2a3f5f"
            },
            "baxis": {
             "endlinecolor": "#2a3f5f",
             "gridcolor": "white",
             "linecolor": "white",
             "minorgridcolor": "white",
             "startlinecolor": "#2a3f5f"
            },
            "type": "carpet"
           }
          ],
          "choropleth": [
           {
            "colorbar": {
             "outlinewidth": 0,
             "ticks": ""
            },
            "type": "choropleth"
           }
          ],
          "contour": [
           {
            "colorbar": {
             "outlinewidth": 0,
             "ticks": ""
            },
            "colorscale": [
             [
              0,
              "#0d0887"
             ],
             [
              0.1111111111111111,
              "#46039f"
             ],
             [
              0.2222222222222222,
              "#7201a8"
             ],
             [
              0.3333333333333333,
              "#9c179e"
             ],
             [
              0.4444444444444444,
              "#bd3786"
             ],
             [
              0.5555555555555556,
              "#d8576b"
             ],
             [
              0.6666666666666666,
              "#ed7953"
             ],
             [
              0.7777777777777778,
              "#fb9f3a"
             ],
             [
              0.8888888888888888,
              "#fdca26"
             ],
             [
              1,
              "#f0f921"
             ]
            ],
            "type": "contour"
           }
          ],
          "contourcarpet": [
           {
            "colorbar": {
             "outlinewidth": 0,
             "ticks": ""
            },
            "type": "contourcarpet"
           }
          ],
          "heatmap": [
           {
            "colorbar": {
             "outlinewidth": 0,
             "ticks": ""
            },
            "colorscale": [
             [
              0,
              "#0d0887"
             ],
             [
              0.1111111111111111,
              "#46039f"
             ],
             [
              0.2222222222222222,
              "#7201a8"
             ],
             [
              0.3333333333333333,
              "#9c179e"
             ],
             [
              0.4444444444444444,
              "#bd3786"
             ],
             [
              0.5555555555555556,
              "#d8576b"
             ],
             [
              0.6666666666666666,
              "#ed7953"
             ],
             [
              0.7777777777777778,
              "#fb9f3a"
             ],
             [
              0.8888888888888888,
              "#fdca26"
             ],
             [
              1,
              "#f0f921"
             ]
            ],
            "type": "heatmap"
           }
          ],
          "heatmapgl": [
           {
            "colorbar": {
             "outlinewidth": 0,
             "ticks": ""
            },
            "colorscale": [
             [
              0,
              "#0d0887"
             ],
             [
              0.1111111111111111,
              "#46039f"
             ],
             [
              0.2222222222222222,
              "#7201a8"
             ],
             [
              0.3333333333333333,
              "#9c179e"
             ],
             [
              0.4444444444444444,
              "#bd3786"
             ],
             [
              0.5555555555555556,
              "#d8576b"
             ],
             [
              0.6666666666666666,
              "#ed7953"
             ],
             [
              0.7777777777777778,
              "#fb9f3a"
             ],
             [
              0.8888888888888888,
              "#fdca26"
             ],
             [
              1,
              "#f0f921"
             ]
            ],
            "type": "heatmapgl"
           }
          ],
          "histogram": [
           {
            "marker": {
             "colorbar": {
              "outlinewidth": 0,
              "ticks": ""
             }
            },
            "type": "histogram"
           }
          ],
          "histogram2d": [
           {
            "colorbar": {
             "outlinewidth": 0,
             "ticks": ""
            },
            "colorscale": [
             [
              0,
              "#0d0887"
             ],
             [
              0.1111111111111111,
              "#46039f"
             ],
             [
              0.2222222222222222,
              "#7201a8"
             ],
             [
              0.3333333333333333,
              "#9c179e"
             ],
             [
              0.4444444444444444,
              "#bd3786"
             ],
             [
              0.5555555555555556,
              "#d8576b"
             ],
             [
              0.6666666666666666,
              "#ed7953"
             ],
             [
              0.7777777777777778,
              "#fb9f3a"
             ],
             [
              0.8888888888888888,
              "#fdca26"
             ],
             [
              1,
              "#f0f921"
             ]
            ],
            "type": "histogram2d"
           }
          ],
          "histogram2dcontour": [
           {
            "colorbar": {
             "outlinewidth": 0,
             "ticks": ""
            },
            "colorscale": [
             [
              0,
              "#0d0887"
             ],
             [
              0.1111111111111111,
              "#46039f"
             ],
             [
              0.2222222222222222,
              "#7201a8"
             ],
             [
              0.3333333333333333,
              "#9c179e"
             ],
             [
              0.4444444444444444,
              "#bd3786"
             ],
             [
              0.5555555555555556,
              "#d8576b"
             ],
             [
              0.6666666666666666,
              "#ed7953"
             ],
             [
              0.7777777777777778,
              "#fb9f3a"
             ],
             [
              0.8888888888888888,
              "#fdca26"
             ],
             [
              1,
              "#f0f921"
             ]
            ],
            "type": "histogram2dcontour"
           }
          ],
          "mesh3d": [
           {
            "colorbar": {
             "outlinewidth": 0,
             "ticks": ""
            },
            "type": "mesh3d"
           }
          ],
          "parcoords": [
           {
            "line": {
             "colorbar": {
              "outlinewidth": 0,
              "ticks": ""
             }
            },
            "type": "parcoords"
           }
          ],
          "pie": [
           {
            "automargin": true,
            "type": "pie"
           }
          ],
          "scatter": [
           {
            "marker": {
             "colorbar": {
              "outlinewidth": 0,
              "ticks": ""
             }
            },
            "type": "scatter"
           }
          ],
          "scatter3d": [
           {
            "line": {
             "colorbar": {
              "outlinewidth": 0,
              "ticks": ""
             }
            },
            "marker": {
             "colorbar": {
              "outlinewidth": 0,
              "ticks": ""
             }
            },
            "type": "scatter3d"
           }
          ],
          "scattercarpet": [
           {
            "marker": {
             "colorbar": {
              "outlinewidth": 0,
              "ticks": ""
             }
            },
            "type": "scattercarpet"
           }
          ],
          "scattergeo": [
           {
            "marker": {
             "colorbar": {
              "outlinewidth": 0,
              "ticks": ""
             }
            },
            "type": "scattergeo"
           }
          ],
          "scattergl": [
           {
            "marker": {
             "colorbar": {
              "outlinewidth": 0,
              "ticks": ""
             }
            },
            "type": "scattergl"
           }
          ],
          "scattermapbox": [
           {
            "marker": {
             "colorbar": {
              "outlinewidth": 0,
              "ticks": ""
             }
            },
            "type": "scattermapbox"
           }
          ],
          "scatterpolar": [
           {
            "marker": {
             "colorbar": {
              "outlinewidth": 0,
              "ticks": ""
             }
            },
            "type": "scatterpolar"
           }
          ],
          "scatterpolargl": [
           {
            "marker": {
             "colorbar": {
              "outlinewidth": 0,
              "ticks": ""
             }
            },
            "type": "scatterpolargl"
           }
          ],
          "scatterternary": [
           {
            "marker": {
             "colorbar": {
              "outlinewidth": 0,
              "ticks": ""
             }
            },
            "type": "scatterternary"
           }
          ],
          "surface": [
           {
            "colorbar": {
             "outlinewidth": 0,
             "ticks": ""
            },
            "colorscale": [
             [
              0,
              "#0d0887"
             ],
             [
              0.1111111111111111,
              "#46039f"
             ],
             [
              0.2222222222222222,
              "#7201a8"
             ],
             [
              0.3333333333333333,
              "#9c179e"
             ],
             [
              0.4444444444444444,
              "#bd3786"
             ],
             [
              0.5555555555555556,
              "#d8576b"
             ],
             [
              0.6666666666666666,
              "#ed7953"
             ],
             [
              0.7777777777777778,
              "#fb9f3a"
             ],
             [
              0.8888888888888888,
              "#fdca26"
             ],
             [
              1,
              "#f0f921"
             ]
            ],
            "type": "surface"
           }
          ],
          "table": [
           {
            "cells": {
             "fill": {
              "color": "#EBF0F8"
             },
             "line": {
              "color": "white"
             }
            },
            "header": {
             "fill": {
              "color": "#C8D4E3"
             },
             "line": {
              "color": "white"
             }
            },
            "type": "table"
           }
          ]
         },
         "layout": {
          "annotationdefaults": {
           "arrowcolor": "#2a3f5f",
           "arrowhead": 0,
           "arrowwidth": 1
          },
          "coloraxis": {
           "colorbar": {
            "outlinewidth": 0,
            "ticks": ""
           }
          },
          "colorscale": {
           "diverging": [
            [
             0,
             "#8e0152"
            ],
            [
             0.1,
             "#c51b7d"
            ],
            [
             0.2,
             "#de77ae"
            ],
            [
             0.3,
             "#f1b6da"
            ],
            [
             0.4,
             "#fde0ef"
            ],
            [
             0.5,
             "#f7f7f7"
            ],
            [
             0.6,
             "#e6f5d0"
            ],
            [
             0.7,
             "#b8e186"
            ],
            [
             0.8,
             "#7fbc41"
            ],
            [
             0.9,
             "#4d9221"
            ],
            [
             1,
             "#276419"
            ]
           ],
           "sequential": [
            [
             0,
             "#0d0887"
            ],
            [
             0.1111111111111111,
             "#46039f"
            ],
            [
             0.2222222222222222,
             "#7201a8"
            ],
            [
             0.3333333333333333,
             "#9c179e"
            ],
            [
             0.4444444444444444,
             "#bd3786"
            ],
            [
             0.5555555555555556,
             "#d8576b"
            ],
            [
             0.6666666666666666,
             "#ed7953"
            ],
            [
             0.7777777777777778,
             "#fb9f3a"
            ],
            [
             0.8888888888888888,
             "#fdca26"
            ],
            [
             1,
             "#f0f921"
            ]
           ],
           "sequentialminus": [
            [
             0,
             "#0d0887"
            ],
            [
             0.1111111111111111,
             "#46039f"
            ],
            [
             0.2222222222222222,
             "#7201a8"
            ],
            [
             0.3333333333333333,
             "#9c179e"
            ],
            [
             0.4444444444444444,
             "#bd3786"
            ],
            [
             0.5555555555555556,
             "#d8576b"
            ],
            [
             0.6666666666666666,
             "#ed7953"
            ],
            [
             0.7777777777777778,
             "#fb9f3a"
            ],
            [
             0.8888888888888888,
             "#fdca26"
            ],
            [
             1,
             "#f0f921"
            ]
           ]
          },
          "colorway": [
           "#636efa",
           "#EF553B",
           "#00cc96",
           "#ab63fa",
           "#FFA15A",
           "#19d3f3",
           "#FF6692",
           "#B6E880",
           "#FF97FF",
           "#FECB52"
          ],
          "font": {
           "color": "#2a3f5f"
          },
          "geo": {
           "bgcolor": "white",
           "lakecolor": "white",
           "landcolor": "#E5ECF6",
           "showlakes": true,
           "showland": true,
           "subunitcolor": "white"
          },
          "hoverlabel": {
           "align": "left"
          },
          "hovermode": "closest",
          "mapbox": {
           "style": "light"
          },
          "paper_bgcolor": "white",
          "plot_bgcolor": "#E5ECF6",
          "polar": {
           "angularaxis": {
            "gridcolor": "white",
            "linecolor": "white",
            "ticks": ""
           },
           "bgcolor": "#E5ECF6",
           "radialaxis": {
            "gridcolor": "white",
            "linecolor": "white",
            "ticks": ""
           }
          },
          "scene": {
           "xaxis": {
            "backgroundcolor": "#E5ECF6",
            "gridcolor": "white",
            "gridwidth": 2,
            "linecolor": "white",
            "showbackground": true,
            "ticks": "",
            "zerolinecolor": "white"
           },
           "yaxis": {
            "backgroundcolor": "#E5ECF6",
            "gridcolor": "white",
            "gridwidth": 2,
            "linecolor": "white",
            "showbackground": true,
            "ticks": "",
            "zerolinecolor": "white"
           },
           "zaxis": {
            "backgroundcolor": "#E5ECF6",
            "gridcolor": "white",
            "gridwidth": 2,
            "linecolor": "white",
            "showbackground": true,
            "ticks": "",
            "zerolinecolor": "white"
           }
          },
          "shapedefaults": {
           "line": {
            "color": "#2a3f5f"
           }
          },
          "ternary": {
           "aaxis": {
            "gridcolor": "white",
            "linecolor": "white",
            "ticks": ""
           },
           "baxis": {
            "gridcolor": "white",
            "linecolor": "white",
            "ticks": ""
           },
           "bgcolor": "#E5ECF6",
           "caxis": {
            "gridcolor": "white",
            "linecolor": "white",
            "ticks": ""
           }
          },
          "title": {
           "x": 0.05
          },
          "xaxis": {
           "automargin": true,
           "gridcolor": "white",
           "linecolor": "white",
           "ticks": "",
           "title": {
            "standoff": 15
           },
           "zerolinecolor": "white",
           "zerolinewidth": 2
          },
          "yaxis": {
           "automargin": true,
           "gridcolor": "white",
           "linecolor": "white",
           "ticks": "",
           "title": {
            "standoff": 15
           },
           "zerolinecolor": "white",
           "zerolinewidth": 2
          }
         }
        },
        "title": {
         "text": "Best 5 Model's R-Squared Score"
        },
        "width": 600,
        "xaxis": {},
        "yaxis": {
         "title": {
          "text": "R2 Score"
         }
        }
       }
      }
     },
     "metadata": {},
     "output_type": "display_data"
    }
   ],
   "source": [
    "fig = go.Figure()\n",
    "\n",
    "fig.add_trace(go.Bar(\n",
    "    x=best_5_after['Model'], y=best_5_after['Train R2'],\n",
    "    text=best_5_after['Train R2'], textposition='auto',\n",
    "    name='Train R2'\n",
    "))\n",
    "fig.add_trace(go.Bar(\n",
    "    x=best_5_after['Model'], y=best_5_after['CV R2'],\n",
    "    text=best_5_after['CV R2'], textposition='auto',\n",
    "    name='CV R2'\n",
    "))\n",
    "fig.add_trace(go.Bar(\n",
    "    x=best_5_after['Model'], y=best_5_after['Test R2'],\n",
    "    text=best_5_after['Test R2'], textposition='auto',\n",
    "    name='Test R2'\n",
    "))\n",
    "fig.update_layout(\n",
    "    title='Best 5 Model\\'s R-Squared Score',\n",
    "    xaxis=None,\n",
    "    yaxis=dict(title='R2 Score'),\n",
    "    height=500,\n",
    "    width=600,\n",
    "    margin=dict(l=100, r=100, t=100, b=120),\n",
    "    font_size=17,\n",
    "    \n",
    ")\n",
    "fig.show()"
   ]
  },
  {
   "cell_type": "code",
   "execution_count": null,
   "metadata": {},
   "outputs": [],
   "source": []
  }
 ],
 "metadata": {
  "deepnote_execution_queue": [],
  "deepnote_notebook_id": "a373ca5a-055e-4d24-bc9d-e95d5aab8611",
  "jupytext": {
   "formats": "notebooks//ipynb,markdown//md,scripts//py:percent"
  },
  "kernelspec": {
   "display_name": "Python 3",
   "language": "python",
   "name": "python3"
  },
  "language_info": {
   "codemirror_mode": {
    "name": "ipython",
    "version": 3
   },
   "file_extension": ".py",
   "mimetype": "text/x-python",
   "name": "python",
   "nbconvert_exporter": "python",
   "pygments_lexer": "ipython3",
   "version": "3.8.3-final"
  }
 },
 "nbformat": 4,
 "nbformat_minor": 4
}
