{
 "cells": [
  {
   "cell_type": "markdown",
   "metadata": {
    "id": "IN1jfOnfZIqT"
   },
   "source": [
    "# Data Understanding"
   ]
  },
  {
   "cell_type": "code",
   "execution_count": null,
   "metadata": {
    "colab": {
     "base_uri": "https://localhost:8080/",
     "height": 870
    },
    "executionInfo": {
     "elapsed": 4659,
     "status": "ok",
     "timestamp": 1602557851826,
     "user": {
      "displayName": "Abdillah Fikri",
      "photoUrl": "",
      "userId": "04470220666512949031"
     },
     "user_tz": -420
    },
    "id": "B7_GzMp7H60k",
    "outputId": "d637067a-0f84-4b12-d32d-b0346a9f008c",
    "scrolled": true
   },
   "outputs": [],
   "source": [
    "# !pip install -r requirements.txt"
   ]
  },
  {
   "cell_type": "code",
   "execution_count": 2,
   "metadata": {
    "colab": {
     "base_uri": "https://localhost:8080/",
     "height": 85
    },
    "execution": {
     "iopub.status.idle": "2020-10-15T12:54:12.762613Z",
     "shell.execute_reply": "2020-10-15T12:54:12.762613Z",
     "shell.execute_reply.started": "2020-10-15T12:54:08.538935Z"
    },
    "executionInfo": {
     "elapsed": 7454,
     "status": "ok",
     "timestamp": 1602557854624,
     "user": {
      "displayName": "Abdillah Fikri",
      "photoUrl": "",
      "userId": "04470220666512949031"
     },
     "user_tz": -420
    },
    "id": "vBMQYoVFZIqV",
    "outputId": "06bf21de-424e-4339-e9db-7861d53fd06a"
   },
   "outputs": [],
   "source": [
    "import pandas as pd\n",
    "import numpy as np\n",
    "import matplotlib.pyplot as plt\n",
    "import seaborn as sns\n",
    "import data_exploration as explor\n",
    "import plotly.graph_objects as go\n",
    "import plotly.express as px\n",
    "import missingno as msno\n",
    "import category_encoders as ce\n",
    "import miceforest as mf\n",
    "\n",
    "from sklearn.model_selection import train_test_split, cross_val_score, cross_validate, KFold\n",
    "from sklearn.tree import DecisionTreeRegressor\n",
    "from xgboost import XGBRegressor\n",
    "from lightgbm import LGBMRegressor\n",
    "from catboost import CatBoostRegressor\n",
    "from sklearn.ensemble import RandomForestRegressor\n",
    "from sklearn import metrics\n",
    "from sklearn.impute import SimpleImputer\n",
    "from sklearn.linear_model import LinearRegression, Lasso\n",
    "import optuna\n",
    "import lightgbm as lgb\n",
    "import xgboost as xgb\n",
    "import catboost as cb"
   ]
  },
  {
   "cell_type": "code",
   "execution_count": 3,
   "metadata": {
    "execution": {
     "iopub.execute_input": "2020-10-15T12:54:12.762613Z",
     "iopub.status.busy": "2020-10-15T12:54:12.762613Z",
     "iopub.status.idle": "2020-10-15T12:54:12.796610Z",
     "shell.execute_reply": "2020-10-15T12:54:12.793619Z",
     "shell.execute_reply.started": "2020-10-15T12:54:12.762613Z"
    },
    "executionInfo": {
     "elapsed": 7451,
     "status": "ok",
     "timestamp": 1602557854626,
     "user": {
      "displayName": "Abdillah Fikri",
      "photoUrl": "",
      "userId": "04470220666512949031"
     },
     "user_tz": -420
    },
    "id": "aIt9SQtmZIqZ"
   },
   "outputs": [],
   "source": [
    "sns.set(style='darkgrid', palette='muted')"
   ]
  },
  {
   "cell_type": "code",
   "execution_count": 4,
   "metadata": {
    "cell_id": "00002-1c7c9ecf-589f-4f15-9590-18a0d588c854",
    "execution": {
     "iopub.execute_input": "2020-10-15T12:54:12.811571Z",
     "iopub.status.busy": "2020-10-15T12:54:12.810575Z",
     "iopub.status.idle": "2020-10-15T12:54:12.890353Z",
     "shell.execute_reply": "2020-10-15T12:54:12.889391Z",
     "shell.execute_reply.started": "2020-10-15T12:54:12.811571Z"
    },
    "executionInfo": {
     "elapsed": 7448,
     "status": "ok",
     "timestamp": 1602557854628,
     "user": {
      "displayName": "Abdillah Fikri",
      "photoUrl": "",
      "userId": "04470220666512949031"
     },
     "user_tz": -420
    },
    "id": "S6ldr9t_Imtd",
    "output_cleared": false
   },
   "outputs": [],
   "source": [
    "df = pd.read_csv('used_car_data.csv')"
   ]
  },
  {
   "cell_type": "code",
   "execution_count": 5,
   "metadata": {
    "allow_embed": true,
    "cell_id": "00003-bba23622-1282-44d4-b65f-d5ec13f504fa",
    "colab": {
     "base_uri": "https://localhost:8080/",
     "height": 204
    },
    "execution": {
     "iopub.execute_input": "2020-10-15T12:54:12.892347Z",
     "iopub.status.busy": "2020-10-15T12:54:12.891350Z",
     "iopub.status.idle": "2020-10-15T12:54:12.938224Z",
     "shell.execute_reply": "2020-10-15T12:54:12.937227Z",
     "shell.execute_reply.started": "2020-10-15T12:54:12.892347Z"
    },
    "executionInfo": {
     "elapsed": 7433,
     "status": "ok",
     "timestamp": 1602557854630,
     "user": {
      "displayName": "Abdillah Fikri",
      "photoUrl": "",
      "userId": "04470220666512949031"
     },
     "user_tz": -420
    },
    "id": "oyIYOtRAIwWD",
    "outputId": "81d6ceaf-4424-4f11-9a9f-05f2a2bd9a01",
    "output_cleared": false
   },
   "outputs": [
    {
     "data": {
      "text/html": [
       "<div>\n",
       "<style scoped>\n",
       "    .dataframe tbody tr th:only-of-type {\n",
       "        vertical-align: middle;\n",
       "    }\n",
       "\n",
       "    .dataframe tbody tr th {\n",
       "        vertical-align: top;\n",
       "    }\n",
       "\n",
       "    .dataframe thead th {\n",
       "        text-align: right;\n",
       "    }\n",
       "</style>\n",
       "<table border=\"1\" class=\"dataframe\">\n",
       "  <thead>\n",
       "    <tr style=\"text-align: right;\">\n",
       "      <th></th>\n",
       "      <th>Name</th>\n",
       "      <th>Location</th>\n",
       "      <th>Year</th>\n",
       "      <th>Kilometers_Driven</th>\n",
       "      <th>Fuel_Type</th>\n",
       "      <th>Transmission</th>\n",
       "      <th>Owner_Type</th>\n",
       "      <th>Mileage</th>\n",
       "      <th>Engine</th>\n",
       "      <th>Power</th>\n",
       "      <th>Seats</th>\n",
       "      <th>Price</th>\n",
       "    </tr>\n",
       "  </thead>\n",
       "  <tbody>\n",
       "    <tr>\n",
       "      <th>0</th>\n",
       "      <td>Maruti Wagon R LXI CNG</td>\n",
       "      <td>Mumbai</td>\n",
       "      <td>2010</td>\n",
       "      <td>72000</td>\n",
       "      <td>CNG</td>\n",
       "      <td>Manual</td>\n",
       "      <td>First</td>\n",
       "      <td>26.6 km/kg</td>\n",
       "      <td>998 CC</td>\n",
       "      <td>58.16 bhp</td>\n",
       "      <td>5.0</td>\n",
       "      <td>1.75</td>\n",
       "    </tr>\n",
       "    <tr>\n",
       "      <th>1</th>\n",
       "      <td>Hyundai Creta 1.6 CRDi SX Option</td>\n",
       "      <td>Pune</td>\n",
       "      <td>2015</td>\n",
       "      <td>41000</td>\n",
       "      <td>Diesel</td>\n",
       "      <td>Manual</td>\n",
       "      <td>First</td>\n",
       "      <td>19.67 kmpl</td>\n",
       "      <td>1582 CC</td>\n",
       "      <td>126.2 bhp</td>\n",
       "      <td>5.0</td>\n",
       "      <td>12.50</td>\n",
       "    </tr>\n",
       "    <tr>\n",
       "      <th>2</th>\n",
       "      <td>Honda Jazz V</td>\n",
       "      <td>Chennai</td>\n",
       "      <td>2011</td>\n",
       "      <td>46000</td>\n",
       "      <td>Petrol</td>\n",
       "      <td>Manual</td>\n",
       "      <td>First</td>\n",
       "      <td>18.2 kmpl</td>\n",
       "      <td>1199 CC</td>\n",
       "      <td>88.7 bhp</td>\n",
       "      <td>5.0</td>\n",
       "      <td>4.50</td>\n",
       "    </tr>\n",
       "    <tr>\n",
       "      <th>3</th>\n",
       "      <td>Maruti Ertiga VDI</td>\n",
       "      <td>Chennai</td>\n",
       "      <td>2012</td>\n",
       "      <td>87000</td>\n",
       "      <td>Diesel</td>\n",
       "      <td>Manual</td>\n",
       "      <td>First</td>\n",
       "      <td>20.77 kmpl</td>\n",
       "      <td>1248 CC</td>\n",
       "      <td>88.76 bhp</td>\n",
       "      <td>7.0</td>\n",
       "      <td>6.00</td>\n",
       "    </tr>\n",
       "    <tr>\n",
       "      <th>4</th>\n",
       "      <td>Audi A4 New 2.0 TDI Multitronic</td>\n",
       "      <td>Coimbatore</td>\n",
       "      <td>2013</td>\n",
       "      <td>40670</td>\n",
       "      <td>Diesel</td>\n",
       "      <td>Automatic</td>\n",
       "      <td>Second</td>\n",
       "      <td>15.2 kmpl</td>\n",
       "      <td>1968 CC</td>\n",
       "      <td>140.8 bhp</td>\n",
       "      <td>5.0</td>\n",
       "      <td>17.74</td>\n",
       "    </tr>\n",
       "  </tbody>\n",
       "</table>\n",
       "</div>"
      ],
      "text/plain": [
       "                               Name    Location  Year  Kilometers_Driven  \\\n",
       "0            Maruti Wagon R LXI CNG      Mumbai  2010              72000   \n",
       "1  Hyundai Creta 1.6 CRDi SX Option        Pune  2015              41000   \n",
       "2                      Honda Jazz V     Chennai  2011              46000   \n",
       "3                 Maruti Ertiga VDI     Chennai  2012              87000   \n",
       "4   Audi A4 New 2.0 TDI Multitronic  Coimbatore  2013              40670   \n",
       "\n",
       "  Fuel_Type Transmission Owner_Type     Mileage   Engine      Power  Seats  \\\n",
       "0       CNG       Manual      First  26.6 km/kg   998 CC  58.16 bhp    5.0   \n",
       "1    Diesel       Manual      First  19.67 kmpl  1582 CC  126.2 bhp    5.0   \n",
       "2    Petrol       Manual      First   18.2 kmpl  1199 CC   88.7 bhp    5.0   \n",
       "3    Diesel       Manual      First  20.77 kmpl  1248 CC  88.76 bhp    7.0   \n",
       "4    Diesel    Automatic     Second   15.2 kmpl  1968 CC  140.8 bhp    5.0   \n",
       "\n",
       "   Price  \n",
       "0   1.75  \n",
       "1  12.50  \n",
       "2   4.50  \n",
       "3   6.00  \n",
       "4  17.74  "
      ]
     },
     "execution_count": 5,
     "metadata": {},
     "output_type": "execute_result"
    }
   ],
   "source": [
    "df.head()"
   ]
  },
  {
   "cell_type": "code",
   "execution_count": 6,
   "metadata": {
    "cell_id": "00004-051bff9d-c702-4146-a192-9dc23cb206dd",
    "colab": {
     "base_uri": "https://localhost:8080/",
     "height": 34
    },
    "execution": {
     "iopub.execute_input": "2020-10-15T12:54:12.940220Z",
     "iopub.status.busy": "2020-10-15T12:54:12.940220Z",
     "iopub.status.idle": "2020-10-15T12:54:12.955180Z",
     "shell.execute_reply": "2020-10-15T12:54:12.952193Z",
     "shell.execute_reply.started": "2020-10-15T12:54:12.940220Z"
    },
    "executionInfo": {
     "elapsed": 7418,
     "status": "ok",
     "timestamp": 1602557854632,
     "user": {
      "displayName": "Abdillah Fikri",
      "photoUrl": "",
      "userId": "04470220666512949031"
     },
     "user_tz": -420
    },
    "id": "t9SkWlvWIaiv",
    "outputId": "36bd118f-e883-4bfa-af80-1cb61b74b3f5",
    "output_cleared": false,
    "tags": []
   },
   "outputs": [
    {
     "data": {
      "text/plain": [
       "(6019, 12)"
      ]
     },
     "execution_count": 6,
     "metadata": {},
     "output_type": "execute_result"
    }
   ],
   "source": [
    "df.shape"
   ]
  },
  {
   "cell_type": "code",
   "execution_count": 7,
   "metadata": {
    "cell_id": "00005-214f7a33-5f2d-48cc-86a1-c41cd663c527",
    "colab": {
     "base_uri": "https://localhost:8080/",
     "height": 111
    },
    "execution": {
     "iopub.execute_input": "2020-10-15T12:54:12.957174Z",
     "iopub.status.busy": "2020-10-15T12:54:12.956177Z",
     "iopub.status.idle": "2020-10-15T12:54:13.046934Z",
     "shell.execute_reply": "2020-10-15T12:54:13.045935Z",
     "shell.execute_reply.started": "2020-10-15T12:54:12.957174Z"
    },
    "executionInfo": {
     "elapsed": 7392,
     "status": "ok",
     "timestamp": 1602557854634,
     "user": {
      "displayName": "Abdillah Fikri",
      "photoUrl": "",
      "userId": "04470220666512949031"
     },
     "user_tz": -420
    },
    "id": "8lVpvltpIai0",
    "outputId": "89f2afa2-d987-46e5-fbfc-308b8ae2be3e",
    "output_cleared": false,
    "tags": []
   },
   "outputs": [
    {
     "data": {
      "text/html": [
       "<div>\n",
       "<style scoped>\n",
       "    .dataframe tbody tr th:only-of-type {\n",
       "        vertical-align: middle;\n",
       "    }\n",
       "\n",
       "    .dataframe tbody tr th {\n",
       "        vertical-align: top;\n",
       "    }\n",
       "\n",
       "    .dataframe thead th {\n",
       "        text-align: right;\n",
       "    }\n",
       "</style>\n",
       "<table border=\"1\" class=\"dataframe\">\n",
       "  <thead>\n",
       "    <tr style=\"text-align: right;\">\n",
       "      <th></th>\n",
       "      <th>Name</th>\n",
       "      <th>Location</th>\n",
       "      <th>Year</th>\n",
       "      <th>Kilometers_Driven</th>\n",
       "      <th>Fuel_Type</th>\n",
       "      <th>Transmission</th>\n",
       "      <th>Owner_Type</th>\n",
       "      <th>Mileage</th>\n",
       "      <th>Engine</th>\n",
       "      <th>Power</th>\n",
       "      <th>Seats</th>\n",
       "      <th>Price</th>\n",
       "    </tr>\n",
       "  </thead>\n",
       "  <tbody>\n",
       "    <tr>\n",
       "      <th>4446</th>\n",
       "      <td>Mahindra E Verito D4</td>\n",
       "      <td>Chennai</td>\n",
       "      <td>2016</td>\n",
       "      <td>50000</td>\n",
       "      <td>Electric</td>\n",
       "      <td>Automatic</td>\n",
       "      <td>First</td>\n",
       "      <td>NaN</td>\n",
       "      <td>72 CC</td>\n",
       "      <td>41 bhp</td>\n",
       "      <td>5.0</td>\n",
       "      <td>13.00</td>\n",
       "    </tr>\n",
       "    <tr>\n",
       "      <th>4904</th>\n",
       "      <td>Toyota Prius 2009-2016 Z4</td>\n",
       "      <td>Mumbai</td>\n",
       "      <td>2011</td>\n",
       "      <td>44000</td>\n",
       "      <td>Electric</td>\n",
       "      <td>Automatic</td>\n",
       "      <td>First</td>\n",
       "      <td>NaN</td>\n",
       "      <td>1798 CC</td>\n",
       "      <td>73 bhp</td>\n",
       "      <td>5.0</td>\n",
       "      <td>12.75</td>\n",
       "    </tr>\n",
       "  </tbody>\n",
       "</table>\n",
       "</div>"
      ],
      "text/plain": [
       "                           Name Location  Year  Kilometers_Driven Fuel_Type  \\\n",
       "4446       Mahindra E Verito D4  Chennai  2016              50000  Electric   \n",
       "4904  Toyota Prius 2009-2016 Z4   Mumbai  2011              44000  Electric   \n",
       "\n",
       "     Transmission Owner_Type Mileage   Engine   Power  Seats  Price  \n",
       "4446    Automatic      First     NaN    72 CC  41 bhp    5.0  13.00  \n",
       "4904    Automatic      First     NaN  1798 CC  73 bhp    5.0  12.75  "
      ]
     },
     "execution_count": 7,
     "metadata": {},
     "output_type": "execute_result"
    }
   ],
   "source": [
    "df[df['Mileage'].isna()]"
   ]
  },
  {
   "cell_type": "code",
   "execution_count": 8,
   "metadata": {
    "cell_id": "00008-97aefa10-256d-4488-a2a5-34f8829ef33b",
    "colab": {
     "base_uri": "https://localhost:8080/",
     "height": 421
    },
    "execution": {
     "iopub.execute_input": "2020-10-15T12:54:13.049925Z",
     "iopub.status.busy": "2020-10-15T12:54:13.049925Z",
     "iopub.status.idle": "2020-10-15T12:54:13.093810Z",
     "shell.execute_reply": "2020-10-15T12:54:13.091816Z",
     "shell.execute_reply.started": "2020-10-15T12:54:13.049925Z"
    },
    "executionInfo": {
     "elapsed": 7716,
     "status": "ok",
     "timestamp": 1602557854979,
     "user": {
      "displayName": "Abdillah Fikri",
      "photoUrl": "",
      "userId": "04470220666512949031"
     },
     "user_tz": -420
    },
    "id": "BW8xd0boIajE",
    "outputId": "2cb72400-0ff0-4d74-ca2a-7b3deb81908c",
    "output_cleared": false,
    "tags": []
   },
   "outputs": [
    {
     "data": {
      "text/html": [
       "<div>\n",
       "<style scoped>\n",
       "    .dataframe tbody tr th:only-of-type {\n",
       "        vertical-align: middle;\n",
       "    }\n",
       "\n",
       "    .dataframe tbody tr th {\n",
       "        vertical-align: top;\n",
       "    }\n",
       "\n",
       "    .dataframe thead th {\n",
       "        text-align: right;\n",
       "    }\n",
       "</style>\n",
       "<table border=\"1\" class=\"dataframe\">\n",
       "  <thead>\n",
       "    <tr style=\"text-align: right;\">\n",
       "      <th></th>\n",
       "      <th>null (sum)</th>\n",
       "      <th>null (%)</th>\n",
       "    </tr>\n",
       "  </thead>\n",
       "  <tbody>\n",
       "    <tr>\n",
       "      <th>Seats</th>\n",
       "      <td>42</td>\n",
       "      <td>0.70</td>\n",
       "    </tr>\n",
       "    <tr>\n",
       "      <th>Engine</th>\n",
       "      <td>36</td>\n",
       "      <td>0.60</td>\n",
       "    </tr>\n",
       "    <tr>\n",
       "      <th>Power</th>\n",
       "      <td>36</td>\n",
       "      <td>0.60</td>\n",
       "    </tr>\n",
       "    <tr>\n",
       "      <th>Mileage</th>\n",
       "      <td>2</td>\n",
       "      <td>0.03</td>\n",
       "    </tr>\n",
       "    <tr>\n",
       "      <th>Name</th>\n",
       "      <td>0</td>\n",
       "      <td>0.00</td>\n",
       "    </tr>\n",
       "    <tr>\n",
       "      <th>Location</th>\n",
       "      <td>0</td>\n",
       "      <td>0.00</td>\n",
       "    </tr>\n",
       "    <tr>\n",
       "      <th>Year</th>\n",
       "      <td>0</td>\n",
       "      <td>0.00</td>\n",
       "    </tr>\n",
       "    <tr>\n",
       "      <th>Kilometers_Driven</th>\n",
       "      <td>0</td>\n",
       "      <td>0.00</td>\n",
       "    </tr>\n",
       "    <tr>\n",
       "      <th>Fuel_Type</th>\n",
       "      <td>0</td>\n",
       "      <td>0.00</td>\n",
       "    </tr>\n",
       "    <tr>\n",
       "      <th>Transmission</th>\n",
       "      <td>0</td>\n",
       "      <td>0.00</td>\n",
       "    </tr>\n",
       "    <tr>\n",
       "      <th>Owner_Type</th>\n",
       "      <td>0</td>\n",
       "      <td>0.00</td>\n",
       "    </tr>\n",
       "    <tr>\n",
       "      <th>Price</th>\n",
       "      <td>0</td>\n",
       "      <td>0.00</td>\n",
       "    </tr>\n",
       "  </tbody>\n",
       "</table>\n",
       "</div>"
      ],
      "text/plain": [
       "                   null (sum)  null (%)\n",
       "Seats                      42      0.70\n",
       "Engine                     36      0.60\n",
       "Power                      36      0.60\n",
       "Mileage                     2      0.03\n",
       "Name                        0      0.00\n",
       "Location                    0      0.00\n",
       "Year                        0      0.00\n",
       "Kilometers_Driven           0      0.00\n",
       "Fuel_Type                   0      0.00\n",
       "Transmission                0      0.00\n",
       "Owner_Type                  0      0.00\n",
       "Price                       0      0.00"
      ]
     },
     "execution_count": 8,
     "metadata": {},
     "output_type": "execute_result"
    }
   ],
   "source": [
    "explor.null_checker(df)"
   ]
  },
  {
   "cell_type": "code",
   "execution_count": 9,
   "metadata": {
    "cell_id": "00009-41c0c52f-802c-4530-b39e-6b7dce61e76a",
    "colab": {
     "base_uri": "https://localhost:8080/",
     "height": 340
    },
    "execution": {
     "iopub.execute_input": "2020-10-15T12:54:13.098804Z",
     "iopub.status.busy": "2020-10-15T12:54:13.096801Z",
     "iopub.status.idle": "2020-10-15T12:54:13.123728Z",
     "shell.execute_reply": "2020-10-15T12:54:13.122731Z",
     "shell.execute_reply.started": "2020-10-15T12:54:13.098804Z"
    },
    "executionInfo": {
     "elapsed": 7700,
     "status": "ok",
     "timestamp": 1602557854981,
     "user": {
      "displayName": "Abdillah Fikri",
      "photoUrl": "",
      "userId": "04470220666512949031"
     },
     "user_tz": -420
    },
    "id": "2tMHFHl6MiKm",
    "outputId": "f538eb58-48f5-446c-cdad-d092dfa2a4b9",
    "output_cleared": false,
    "tags": []
   },
   "outputs": [
    {
     "name": "stdout",
     "output_type": "stream",
     "text": [
      "<class 'pandas.core.frame.DataFrame'>\n",
      "RangeIndex: 6019 entries, 0 to 6018\n",
      "Data columns (total 12 columns):\n",
      " #   Column             Non-Null Count  Dtype  \n",
      "---  ------             --------------  -----  \n",
      " 0   Name               6019 non-null   object \n",
      " 1   Location           6019 non-null   object \n",
      " 2   Year               6019 non-null   int64  \n",
      " 3   Kilometers_Driven  6019 non-null   int64  \n",
      " 4   Fuel_Type          6019 non-null   object \n",
      " 5   Transmission       6019 non-null   object \n",
      " 6   Owner_Type         6019 non-null   object \n",
      " 7   Mileage            6017 non-null   object \n",
      " 8   Engine             5983 non-null   object \n",
      " 9   Power              5983 non-null   object \n",
      " 10  Seats              5977 non-null   float64\n",
      " 11  Price              6019 non-null   float64\n",
      "dtypes: float64(2), int64(2), object(8)\n",
      "memory usage: 564.4+ KB\n"
     ]
    }
   ],
   "source": [
    "df.info()"
   ]
  },
  {
   "cell_type": "code",
   "execution_count": 10,
   "metadata": {
    "cell_id": "00010-dd494b3f-977c-45a6-9a61-a44468a913b0",
    "execution": {
     "iopub.execute_input": "2020-10-15T12:54:13.126720Z",
     "iopub.status.busy": "2020-10-15T12:54:13.125723Z",
     "iopub.status.idle": "2020-10-15T12:54:13.169605Z",
     "shell.execute_reply": "2020-10-15T12:54:13.168607Z",
     "shell.execute_reply.started": "2020-10-15T12:54:13.126720Z"
    },
    "executionInfo": {
     "elapsed": 7698,
     "status": "ok",
     "timestamp": 1602557854982,
     "user": {
      "displayName": "Abdillah Fikri",
      "photoUrl": "",
      "userId": "04470220666512949031"
     },
     "user_tz": -420
    },
    "id": "s_ceUlxOKg7V",
    "output_cleared": false
   },
   "outputs": [],
   "source": [
    "df['Brand'] = df['Name'].apply(lambda x: x.split(' ')[0])\n",
    "df['Series'] = df['Name'].apply(lambda x: x.split(' ')[1])\n",
    "df['Type'] = df['Name'].apply(lambda x: x.split(' ')[2])\n",
    "df.drop(columns='Name', inplace=True)"
   ]
  },
  {
   "cell_type": "code",
   "execution_count": 11,
   "metadata": {
    "cell_id": "00011-a1625de7-7e59-420d-844b-5a3a2d1e652d",
    "colab": {
     "base_uri": "https://localhost:8080/",
     "height": 204
    },
    "execution": {
     "iopub.execute_input": "2020-10-15T12:54:13.170603Z",
     "iopub.status.busy": "2020-10-15T12:54:13.170603Z",
     "iopub.status.idle": "2020-10-15T12:54:13.194464Z",
     "shell.execute_reply": "2020-10-15T12:54:13.193466Z",
     "shell.execute_reply.started": "2020-10-15T12:54:13.170603Z"
    },
    "executionInfo": {
     "elapsed": 7675,
     "status": "ok",
     "timestamp": 1602557854983,
     "user": {
      "displayName": "Abdillah Fikri",
      "photoUrl": "",
      "userId": "04470220666512949031"
     },
     "user_tz": -420
    },
    "id": "aY7bafplKu4K",
    "outputId": "377dfcdc-b00b-464e-b9e1-bf25f058da5d",
    "output_cleared": false
   },
   "outputs": [
    {
     "data": {
      "text/html": [
       "<div>\n",
       "<style scoped>\n",
       "    .dataframe tbody tr th:only-of-type {\n",
       "        vertical-align: middle;\n",
       "    }\n",
       "\n",
       "    .dataframe tbody tr th {\n",
       "        vertical-align: top;\n",
       "    }\n",
       "\n",
       "    .dataframe thead th {\n",
       "        text-align: right;\n",
       "    }\n",
       "</style>\n",
       "<table border=\"1\" class=\"dataframe\">\n",
       "  <thead>\n",
       "    <tr style=\"text-align: right;\">\n",
       "      <th></th>\n",
       "      <th>Location</th>\n",
       "      <th>Year</th>\n",
       "      <th>Kilometers_Driven</th>\n",
       "      <th>Fuel_Type</th>\n",
       "      <th>Transmission</th>\n",
       "      <th>Owner_Type</th>\n",
       "      <th>Mileage</th>\n",
       "      <th>Engine</th>\n",
       "      <th>Power</th>\n",
       "      <th>Seats</th>\n",
       "      <th>Price</th>\n",
       "      <th>Brand</th>\n",
       "      <th>Series</th>\n",
       "      <th>Type</th>\n",
       "    </tr>\n",
       "  </thead>\n",
       "  <tbody>\n",
       "    <tr>\n",
       "      <th>0</th>\n",
       "      <td>Mumbai</td>\n",
       "      <td>2010</td>\n",
       "      <td>72000</td>\n",
       "      <td>CNG</td>\n",
       "      <td>Manual</td>\n",
       "      <td>First</td>\n",
       "      <td>26.6 km/kg</td>\n",
       "      <td>998 CC</td>\n",
       "      <td>58.16 bhp</td>\n",
       "      <td>5.0</td>\n",
       "      <td>1.75</td>\n",
       "      <td>Maruti</td>\n",
       "      <td>Wagon</td>\n",
       "      <td>R</td>\n",
       "    </tr>\n",
       "    <tr>\n",
       "      <th>1</th>\n",
       "      <td>Pune</td>\n",
       "      <td>2015</td>\n",
       "      <td>41000</td>\n",
       "      <td>Diesel</td>\n",
       "      <td>Manual</td>\n",
       "      <td>First</td>\n",
       "      <td>19.67 kmpl</td>\n",
       "      <td>1582 CC</td>\n",
       "      <td>126.2 bhp</td>\n",
       "      <td>5.0</td>\n",
       "      <td>12.50</td>\n",
       "      <td>Hyundai</td>\n",
       "      <td>Creta</td>\n",
       "      <td>1.6</td>\n",
       "    </tr>\n",
       "    <tr>\n",
       "      <th>2</th>\n",
       "      <td>Chennai</td>\n",
       "      <td>2011</td>\n",
       "      <td>46000</td>\n",
       "      <td>Petrol</td>\n",
       "      <td>Manual</td>\n",
       "      <td>First</td>\n",
       "      <td>18.2 kmpl</td>\n",
       "      <td>1199 CC</td>\n",
       "      <td>88.7 bhp</td>\n",
       "      <td>5.0</td>\n",
       "      <td>4.50</td>\n",
       "      <td>Honda</td>\n",
       "      <td>Jazz</td>\n",
       "      <td>V</td>\n",
       "    </tr>\n",
       "    <tr>\n",
       "      <th>3</th>\n",
       "      <td>Chennai</td>\n",
       "      <td>2012</td>\n",
       "      <td>87000</td>\n",
       "      <td>Diesel</td>\n",
       "      <td>Manual</td>\n",
       "      <td>First</td>\n",
       "      <td>20.77 kmpl</td>\n",
       "      <td>1248 CC</td>\n",
       "      <td>88.76 bhp</td>\n",
       "      <td>7.0</td>\n",
       "      <td>6.00</td>\n",
       "      <td>Maruti</td>\n",
       "      <td>Ertiga</td>\n",
       "      <td>VDI</td>\n",
       "    </tr>\n",
       "    <tr>\n",
       "      <th>4</th>\n",
       "      <td>Coimbatore</td>\n",
       "      <td>2013</td>\n",
       "      <td>40670</td>\n",
       "      <td>Diesel</td>\n",
       "      <td>Automatic</td>\n",
       "      <td>Second</td>\n",
       "      <td>15.2 kmpl</td>\n",
       "      <td>1968 CC</td>\n",
       "      <td>140.8 bhp</td>\n",
       "      <td>5.0</td>\n",
       "      <td>17.74</td>\n",
       "      <td>Audi</td>\n",
       "      <td>A4</td>\n",
       "      <td>New</td>\n",
       "    </tr>\n",
       "  </tbody>\n",
       "</table>\n",
       "</div>"
      ],
      "text/plain": [
       "     Location  Year  Kilometers_Driven Fuel_Type Transmission Owner_Type  \\\n",
       "0      Mumbai  2010              72000       CNG       Manual      First   \n",
       "1        Pune  2015              41000    Diesel       Manual      First   \n",
       "2     Chennai  2011              46000    Petrol       Manual      First   \n",
       "3     Chennai  2012              87000    Diesel       Manual      First   \n",
       "4  Coimbatore  2013              40670    Diesel    Automatic     Second   \n",
       "\n",
       "      Mileage   Engine      Power  Seats  Price    Brand  Series Type  \n",
       "0  26.6 km/kg   998 CC  58.16 bhp    5.0   1.75   Maruti   Wagon    R  \n",
       "1  19.67 kmpl  1582 CC  126.2 bhp    5.0  12.50  Hyundai   Creta  1.6  \n",
       "2   18.2 kmpl  1199 CC   88.7 bhp    5.0   4.50    Honda    Jazz    V  \n",
       "3  20.77 kmpl  1248 CC  88.76 bhp    7.0   6.00   Maruti  Ertiga  VDI  \n",
       "4   15.2 kmpl  1968 CC  140.8 bhp    5.0  17.74     Audi      A4  New  "
      ]
     },
     "execution_count": 11,
     "metadata": {},
     "output_type": "execute_result"
    }
   ],
   "source": [
    "df.head()"
   ]
  },
  {
   "cell_type": "code",
   "execution_count": 12,
   "metadata": {
    "cell_id": "00012-d9063eee-15ac-4071-9fe3-e39d9dd7cf01",
    "colab": {
     "base_uri": "https://localhost:8080/",
     "height": 80
    },
    "execution": {
     "iopub.execute_input": "2020-10-15T12:54:13.198462Z",
     "iopub.status.busy": "2020-10-15T12:54:13.197460Z",
     "iopub.status.idle": "2020-10-15T12:54:13.241337Z",
     "shell.execute_reply": "2020-10-15T12:54:13.240341Z",
     "shell.execute_reply.started": "2020-10-15T12:54:13.198462Z"
    },
    "executionInfo": {
     "elapsed": 7659,
     "status": "ok",
     "timestamp": 1602557854984,
     "user": {
      "displayName": "Abdillah Fikri",
      "photoUrl": "",
      "userId": "04470220666512949031"
     },
     "user_tz": -420
    },
    "id": "VGanyS85IajY",
    "outputId": "78b54a45-cd8e-421d-8986-f4425808a80f",
    "output_cleared": false,
    "tags": []
   },
   "outputs": [
    {
     "data": {
      "text/html": [
       "<div>\n",
       "<style scoped>\n",
       "    .dataframe tbody tr th:only-of-type {\n",
       "        vertical-align: middle;\n",
       "    }\n",
       "\n",
       "    .dataframe tbody tr th {\n",
       "        vertical-align: top;\n",
       "    }\n",
       "\n",
       "    .dataframe thead th {\n",
       "        text-align: right;\n",
       "    }\n",
       "</style>\n",
       "<table border=\"1\" class=\"dataframe\">\n",
       "  <thead>\n",
       "    <tr style=\"text-align: right;\">\n",
       "      <th></th>\n",
       "      <th>Location</th>\n",
       "      <th>Year</th>\n",
       "      <th>Kilometers_Driven</th>\n",
       "      <th>Fuel_Type</th>\n",
       "      <th>Transmission</th>\n",
       "      <th>Owner_Type</th>\n",
       "      <th>Mileage</th>\n",
       "      <th>Engine</th>\n",
       "      <th>Power</th>\n",
       "      <th>Seats</th>\n",
       "      <th>Price</th>\n",
       "      <th>Brand</th>\n",
       "      <th>Series</th>\n",
       "      <th>Type</th>\n",
       "    </tr>\n",
       "  </thead>\n",
       "  <tbody>\n",
       "    <tr>\n",
       "      <th>4446</th>\n",
       "      <td>Chennai</td>\n",
       "      <td>2016</td>\n",
       "      <td>50000</td>\n",
       "      <td>Electric</td>\n",
       "      <td>Automatic</td>\n",
       "      <td>First</td>\n",
       "      <td>NaN</td>\n",
       "      <td>72 CC</td>\n",
       "      <td>41 bhp</td>\n",
       "      <td>5.0</td>\n",
       "      <td>13.0</td>\n",
       "      <td>Mahindra</td>\n",
       "      <td>E</td>\n",
       "      <td>Verito</td>\n",
       "    </tr>\n",
       "  </tbody>\n",
       "</table>\n",
       "</div>"
      ],
      "text/plain": [
       "     Location  Year  Kilometers_Driven Fuel_Type Transmission Owner_Type  \\\n",
       "4446  Chennai  2016              50000  Electric    Automatic      First   \n",
       "\n",
       "     Mileage Engine   Power  Seats  Price     Brand Series    Type  \n",
       "4446     NaN  72 CC  41 bhp    5.0   13.0  Mahindra      E  Verito  "
      ]
     },
     "execution_count": 12,
     "metadata": {},
     "output_type": "execute_result"
    }
   ],
   "source": [
    "df[(df['Engine']=='72 CC')]"
   ]
  },
  {
   "cell_type": "code",
   "execution_count": 13,
   "metadata": {
    "cell_id": "00013-4aa8d13b-6dab-4f52-ae70-fc8f25367feb",
    "colab": {
     "base_uri": "https://localhost:8080/",
     "height": 68
    },
    "execution": {
     "iopub.execute_input": "2020-10-15T12:54:13.242335Z",
     "iopub.status.busy": "2020-10-15T12:54:13.242335Z",
     "iopub.status.idle": "2020-10-15T12:54:13.288213Z",
     "shell.execute_reply": "2020-10-15T12:54:13.287214Z",
     "shell.execute_reply.started": "2020-10-15T12:54:13.242335Z"
    },
    "executionInfo": {
     "elapsed": 7643,
     "status": "ok",
     "timestamp": 1602557854985,
     "user": {
      "displayName": "Abdillah Fikri",
      "photoUrl": "",
      "userId": "04470220666512949031"
     },
     "user_tz": -420
    },
    "id": "6m3Suen4Z_9Y",
    "outputId": "dfa71fa1-e6b4-49d1-cf08-52501b67afe3",
    "output_cleared": false,
    "tags": []
   },
   "outputs": [
    {
     "name": "stdout",
     "output_type": "stream",
     "text": [
      "Satuan pada feature Mileage: ['km/kg' 'kmpl' nan]\n",
      "Satuan pada feature Engine: ['CC' nan]\n",
      "Satuan pada feature Power: ['bhp' nan]\n"
     ]
    }
   ],
   "source": [
    "print('Satuan pada feature Mileage:', df['Mileage'].apply(lambda x: x if pd.isna(x) else x.split(' ')[1]).unique())\n",
    "print('Satuan pada feature Engine:', df['Engine'].apply(lambda x: x if pd.isna(x) else x.split(' ')[1]).unique())\n",
    "print('Satuan pada feature Power:', df['Power'].apply(lambda x: x if pd.isna(x) else x.split(' ')[1]).unique())"
   ]
  },
  {
   "cell_type": "code",
   "execution_count": 14,
   "metadata": {
    "colab": {
     "base_uri": "https://localhost:8080/",
     "height": 68
    },
    "execution": {
     "iopub.execute_input": "2020-10-15T12:54:13.289210Z",
     "iopub.status.busy": "2020-10-15T12:54:13.289210Z",
     "iopub.status.idle": "2020-10-15T12:54:13.320127Z",
     "shell.execute_reply": "2020-10-15T12:54:13.319129Z",
     "shell.execute_reply.started": "2020-10-15T12:54:13.289210Z"
    },
    "executionInfo": {
     "elapsed": 7625,
     "status": "ok",
     "timestamp": 1602557854986,
     "user": {
      "displayName": "Abdillah Fikri",
      "photoUrl": "",
      "userId": "04470220666512949031"
     },
     "user_tz": -420
    },
    "id": "IPkNA-lwZIrE",
    "outputId": "2336f28d-a97d-40ad-d2a9-0c61d22ca548",
    "tags": []
   },
   "outputs": [
    {
     "name": "stdout",
     "output_type": "stream",
     "text": [
      "Invalid Value pada feature Mileage: [nan]\n",
      "Invalid Value pada feature Engine: [nan]\n",
      "Invalid Value pada feature Power: ['null bhp' nan]\n"
     ]
    }
   ],
   "source": [
    "print('Invalid Value pada feature Mileage:', pd.Series([x for x in df['Mileage'] if str(x).split(' ')[0].isalpha()]).unique())\n",
    "print('Invalid Value pada feature Engine:', pd.Series([x for x in df['Engine'] if str(x).split(' ')[0].isalpha()]).unique())\n",
    "print('Invalid Value pada feature Power:', pd.Series([x for x in df['Power'] if str(x).split(' ')[0].isalpha()]).unique())"
   ]
  },
  {
   "cell_type": "code",
   "execution_count": 15,
   "metadata": {
    "cell_id": "00014-3095d6e2-739a-4e9a-91dd-1b6a1aeecb0c",
    "colab": {
     "base_uri": "https://localhost:8080/",
     "height": 68
    },
    "execution": {
     "iopub.execute_input": "2020-10-15T12:54:13.322124Z",
     "iopub.status.busy": "2020-10-15T12:54:13.322124Z",
     "iopub.status.idle": "2020-10-15T12:54:13.352043Z",
     "shell.execute_reply": "2020-10-15T12:54:13.351046Z",
     "shell.execute_reply.started": "2020-10-15T12:54:13.322124Z"
    },
    "executionInfo": {
     "elapsed": 7605,
     "status": "ok",
     "timestamp": 1602557854987,
     "user": {
      "displayName": "Abdillah Fikri",
      "photoUrl": "",
      "userId": "04470220666512949031"
     },
     "user_tz": -420
    },
    "id": "fvUS80s_t_k8",
    "outputId": "08d25d02-34df-4bc3-b2d4-cb4613f9b9c2",
    "output_cleared": false
   },
   "outputs": [
    {
     "data": {
      "text/plain": [
       "kmpl     5951\n",
       "km/kg      66\n",
       "Name: Mileage, dtype: int64"
      ]
     },
     "execution_count": 15,
     "metadata": {},
     "output_type": "execute_result"
    }
   ],
   "source": [
    "df['Mileage'].apply(lambda x: x if pd.isna(x) else x.split(' ')[1]).value_counts()"
   ]
  },
  {
   "cell_type": "code",
   "execution_count": 16,
   "metadata": {
    "cell_id": "00016-3c631710-d459-4dc7-854c-9b601a8f78a7",
    "execution": {
     "iopub.execute_input": "2020-10-15T12:54:13.354037Z",
     "iopub.status.busy": "2020-10-15T12:54:13.354037Z",
     "iopub.status.idle": "2020-10-15T12:54:13.415872Z",
     "shell.execute_reply": "2020-10-15T12:54:13.414874Z",
     "shell.execute_reply.started": "2020-10-15T12:54:13.354037Z"
    },
    "executionInfo": {
     "elapsed": 7601,
     "status": "ok",
     "timestamp": 1602557854987,
     "user": {
      "displayName": "Abdillah Fikri",
      "photoUrl": "",
      "userId": "04470220666512949031"
     },
     "user_tz": -420
    },
    "id": "3kGt8wrVLscx",
    "output_cleared": false
   },
   "outputs": [],
   "source": [
    "df['Mileage (kmpl)'] = df['Mileage'].apply(lambda x: x if pd.isna(x) else x.split(' ')[0])\n",
    "df['Engine (CC)'] = df['Engine'].apply(lambda x: x if pd.isna(x) else x.split(' ')[0])\n",
    "df['Power (bhp)'] = df['Power'].apply(lambda x: x if pd.isna(x) else x.split(' ')[0])\n",
    "\n",
    "df['Mileage (kmpl)'] = pd.to_numeric(df['Mileage (kmpl)'], errors='coerce')\n",
    "df['Engine (CC)'] = pd.to_numeric(df['Engine (CC)'], errors='coerce')\n",
    "df['Power (bhp)'] = pd.to_numeric(df['Power (bhp)'], errors='coerce')\n",
    "\n",
    "df.drop(columns=['Mileage', 'Engine', 'Power'], inplace=True)"
   ]
  },
  {
   "cell_type": "code",
   "execution_count": 17,
   "metadata": {
    "cell_id": "00017-1cd20bd3-e6f2-422f-aceb-75c7b5c48651",
    "colab": {
     "base_uri": "https://localhost:8080/",
     "height": 204
    },
    "execution": {
     "iopub.execute_input": "2020-10-15T12:54:13.416868Z",
     "iopub.status.busy": "2020-10-15T12:54:13.416868Z",
     "iopub.status.idle": "2020-10-15T12:54:13.447785Z",
     "shell.execute_reply": "2020-10-15T12:54:13.446788Z",
     "shell.execute_reply.started": "2020-10-15T12:54:13.416868Z"
    },
    "executionInfo": {
     "elapsed": 7583,
     "status": "ok",
     "timestamp": 1602557854988,
     "user": {
      "displayName": "Abdillah Fikri",
      "photoUrl": "",
      "userId": "04470220666512949031"
     },
     "user_tz": -420
    },
    "id": "L0OayFyZd12B",
    "outputId": "2f48f4c2-7706-4154-cec3-c2049d985c1a",
    "output_cleared": false
   },
   "outputs": [
    {
     "data": {
      "text/html": [
       "<div>\n",
       "<style scoped>\n",
       "    .dataframe tbody tr th:only-of-type {\n",
       "        vertical-align: middle;\n",
       "    }\n",
       "\n",
       "    .dataframe tbody tr th {\n",
       "        vertical-align: top;\n",
       "    }\n",
       "\n",
       "    .dataframe thead th {\n",
       "        text-align: right;\n",
       "    }\n",
       "</style>\n",
       "<table border=\"1\" class=\"dataframe\">\n",
       "  <thead>\n",
       "    <tr style=\"text-align: right;\">\n",
       "      <th></th>\n",
       "      <th>Location</th>\n",
       "      <th>Year</th>\n",
       "      <th>Kilometers_Driven</th>\n",
       "      <th>Fuel_Type</th>\n",
       "      <th>Transmission</th>\n",
       "      <th>Owner_Type</th>\n",
       "      <th>Seats</th>\n",
       "      <th>Price</th>\n",
       "      <th>Brand</th>\n",
       "      <th>Series</th>\n",
       "      <th>Type</th>\n",
       "      <th>Mileage (kmpl)</th>\n",
       "      <th>Engine (CC)</th>\n",
       "      <th>Power (bhp)</th>\n",
       "    </tr>\n",
       "  </thead>\n",
       "  <tbody>\n",
       "    <tr>\n",
       "      <th>0</th>\n",
       "      <td>Mumbai</td>\n",
       "      <td>2010</td>\n",
       "      <td>72000</td>\n",
       "      <td>CNG</td>\n",
       "      <td>Manual</td>\n",
       "      <td>First</td>\n",
       "      <td>5.0</td>\n",
       "      <td>1.75</td>\n",
       "      <td>Maruti</td>\n",
       "      <td>Wagon</td>\n",
       "      <td>R</td>\n",
       "      <td>26.60</td>\n",
       "      <td>998.0</td>\n",
       "      <td>58.16</td>\n",
       "    </tr>\n",
       "    <tr>\n",
       "      <th>1</th>\n",
       "      <td>Pune</td>\n",
       "      <td>2015</td>\n",
       "      <td>41000</td>\n",
       "      <td>Diesel</td>\n",
       "      <td>Manual</td>\n",
       "      <td>First</td>\n",
       "      <td>5.0</td>\n",
       "      <td>12.50</td>\n",
       "      <td>Hyundai</td>\n",
       "      <td>Creta</td>\n",
       "      <td>1.6</td>\n",
       "      <td>19.67</td>\n",
       "      <td>1582.0</td>\n",
       "      <td>126.20</td>\n",
       "    </tr>\n",
       "    <tr>\n",
       "      <th>2</th>\n",
       "      <td>Chennai</td>\n",
       "      <td>2011</td>\n",
       "      <td>46000</td>\n",
       "      <td>Petrol</td>\n",
       "      <td>Manual</td>\n",
       "      <td>First</td>\n",
       "      <td>5.0</td>\n",
       "      <td>4.50</td>\n",
       "      <td>Honda</td>\n",
       "      <td>Jazz</td>\n",
       "      <td>V</td>\n",
       "      <td>18.20</td>\n",
       "      <td>1199.0</td>\n",
       "      <td>88.70</td>\n",
       "    </tr>\n",
       "    <tr>\n",
       "      <th>3</th>\n",
       "      <td>Chennai</td>\n",
       "      <td>2012</td>\n",
       "      <td>87000</td>\n",
       "      <td>Diesel</td>\n",
       "      <td>Manual</td>\n",
       "      <td>First</td>\n",
       "      <td>7.0</td>\n",
       "      <td>6.00</td>\n",
       "      <td>Maruti</td>\n",
       "      <td>Ertiga</td>\n",
       "      <td>VDI</td>\n",
       "      <td>20.77</td>\n",
       "      <td>1248.0</td>\n",
       "      <td>88.76</td>\n",
       "    </tr>\n",
       "    <tr>\n",
       "      <th>4</th>\n",
       "      <td>Coimbatore</td>\n",
       "      <td>2013</td>\n",
       "      <td>40670</td>\n",
       "      <td>Diesel</td>\n",
       "      <td>Automatic</td>\n",
       "      <td>Second</td>\n",
       "      <td>5.0</td>\n",
       "      <td>17.74</td>\n",
       "      <td>Audi</td>\n",
       "      <td>A4</td>\n",
       "      <td>New</td>\n",
       "      <td>15.20</td>\n",
       "      <td>1968.0</td>\n",
       "      <td>140.80</td>\n",
       "    </tr>\n",
       "  </tbody>\n",
       "</table>\n",
       "</div>"
      ],
      "text/plain": [
       "     Location  Year  Kilometers_Driven Fuel_Type Transmission Owner_Type  \\\n",
       "0      Mumbai  2010              72000       CNG       Manual      First   \n",
       "1        Pune  2015              41000    Diesel       Manual      First   \n",
       "2     Chennai  2011              46000    Petrol       Manual      First   \n",
       "3     Chennai  2012              87000    Diesel       Manual      First   \n",
       "4  Coimbatore  2013              40670    Diesel    Automatic     Second   \n",
       "\n",
       "   Seats  Price    Brand  Series Type  Mileage (kmpl)  Engine (CC)  \\\n",
       "0    5.0   1.75   Maruti   Wagon    R           26.60        998.0   \n",
       "1    5.0  12.50  Hyundai   Creta  1.6           19.67       1582.0   \n",
       "2    5.0   4.50    Honda    Jazz    V           18.20       1199.0   \n",
       "3    7.0   6.00   Maruti  Ertiga  VDI           20.77       1248.0   \n",
       "4    5.0  17.74     Audi      A4  New           15.20       1968.0   \n",
       "\n",
       "   Power (bhp)  \n",
       "0        58.16  \n",
       "1       126.20  \n",
       "2        88.70  \n",
       "3        88.76  \n",
       "4       140.80  "
      ]
     },
     "execution_count": 17,
     "metadata": {},
     "output_type": "execute_result"
    }
   ],
   "source": [
    "df.head()"
   ]
  },
  {
   "cell_type": "code",
   "execution_count": 18,
   "metadata": {
    "allow_embed": false,
    "cell_id": "00018-449a1211-5734-4bdb-a58d-5722fc129da5",
    "colab": {
     "base_uri": "https://localhost:8080/",
     "height": 297
    },
    "execution": {
     "iopub.execute_input": "2020-10-15T12:54:13.449780Z",
     "iopub.status.busy": "2020-10-15T12:54:13.448783Z",
     "iopub.status.idle": "2020-10-15T12:54:13.511429Z",
     "shell.execute_reply": "2020-10-15T12:54:13.510432Z",
     "shell.execute_reply.started": "2020-10-15T12:54:13.449780Z"
    },
    "executionInfo": {
     "elapsed": 7944,
     "status": "ok",
     "timestamp": 1602557855365,
     "user": {
      "displayName": "Abdillah Fikri",
      "photoUrl": "",
      "userId": "04470220666512949031"
     },
     "user_tz": -420
    },
    "id": "FMBbBCMFIajt",
    "outputId": "f9e41389-4aef-42f7-c85b-3ce466d44ad0",
    "output_cleared": false,
    "tags": []
   },
   "outputs": [
    {
     "data": {
      "text/html": [
       "<div>\n",
       "<style scoped>\n",
       "    .dataframe tbody tr th:only-of-type {\n",
       "        vertical-align: middle;\n",
       "    }\n",
       "\n",
       "    .dataframe tbody tr th {\n",
       "        vertical-align: top;\n",
       "    }\n",
       "\n",
       "    .dataframe thead th {\n",
       "        text-align: right;\n",
       "    }\n",
       "</style>\n",
       "<table border=\"1\" class=\"dataframe\">\n",
       "  <thead>\n",
       "    <tr style=\"text-align: right;\">\n",
       "      <th></th>\n",
       "      <th>Year</th>\n",
       "      <th>Kilometers_Driven</th>\n",
       "      <th>Seats</th>\n",
       "      <th>Price</th>\n",
       "      <th>Mileage (kmpl)</th>\n",
       "      <th>Engine (CC)</th>\n",
       "      <th>Power (bhp)</th>\n",
       "    </tr>\n",
       "  </thead>\n",
       "  <tbody>\n",
       "    <tr>\n",
       "      <th>count</th>\n",
       "      <td>6019.000000</td>\n",
       "      <td>6.019000e+03</td>\n",
       "      <td>5977.000000</td>\n",
       "      <td>6019.000000</td>\n",
       "      <td>6017.000000</td>\n",
       "      <td>5983.000000</td>\n",
       "      <td>5876.000000</td>\n",
       "    </tr>\n",
       "    <tr>\n",
       "      <th>mean</th>\n",
       "      <td>2013.358199</td>\n",
       "      <td>5.873838e+04</td>\n",
       "      <td>5.278735</td>\n",
       "      <td>9.479468</td>\n",
       "      <td>18.134961</td>\n",
       "      <td>1621.276450</td>\n",
       "      <td>113.253050</td>\n",
       "    </tr>\n",
       "    <tr>\n",
       "      <th>std</th>\n",
       "      <td>3.269742</td>\n",
       "      <td>9.126884e+04</td>\n",
       "      <td>0.808840</td>\n",
       "      <td>11.187917</td>\n",
       "      <td>4.582289</td>\n",
       "      <td>601.355233</td>\n",
       "      <td>53.874957</td>\n",
       "    </tr>\n",
       "    <tr>\n",
       "      <th>min</th>\n",
       "      <td>1998.000000</td>\n",
       "      <td>1.710000e+02</td>\n",
       "      <td>0.000000</td>\n",
       "      <td>0.440000</td>\n",
       "      <td>0.000000</td>\n",
       "      <td>72.000000</td>\n",
       "      <td>34.200000</td>\n",
       "    </tr>\n",
       "    <tr>\n",
       "      <th>25%</th>\n",
       "      <td>2011.000000</td>\n",
       "      <td>3.400000e+04</td>\n",
       "      <td>5.000000</td>\n",
       "      <td>3.500000</td>\n",
       "      <td>15.170000</td>\n",
       "      <td>1198.000000</td>\n",
       "      <td>75.000000</td>\n",
       "    </tr>\n",
       "    <tr>\n",
       "      <th>50%</th>\n",
       "      <td>2014.000000</td>\n",
       "      <td>5.300000e+04</td>\n",
       "      <td>5.000000</td>\n",
       "      <td>5.640000</td>\n",
       "      <td>18.150000</td>\n",
       "      <td>1493.000000</td>\n",
       "      <td>97.700000</td>\n",
       "    </tr>\n",
       "    <tr>\n",
       "      <th>75%</th>\n",
       "      <td>2016.000000</td>\n",
       "      <td>7.300000e+04</td>\n",
       "      <td>5.000000</td>\n",
       "      <td>9.950000</td>\n",
       "      <td>21.100000</td>\n",
       "      <td>1984.000000</td>\n",
       "      <td>138.100000</td>\n",
       "    </tr>\n",
       "    <tr>\n",
       "      <th>max</th>\n",
       "      <td>2019.000000</td>\n",
       "      <td>6.500000e+06</td>\n",
       "      <td>10.000000</td>\n",
       "      <td>160.000000</td>\n",
       "      <td>33.540000</td>\n",
       "      <td>5998.000000</td>\n",
       "      <td>560.000000</td>\n",
       "    </tr>\n",
       "  </tbody>\n",
       "</table>\n",
       "</div>"
      ],
      "text/plain": [
       "              Year  Kilometers_Driven        Seats        Price  \\\n",
       "count  6019.000000       6.019000e+03  5977.000000  6019.000000   \n",
       "mean   2013.358199       5.873838e+04     5.278735     9.479468   \n",
       "std       3.269742       9.126884e+04     0.808840    11.187917   \n",
       "min    1998.000000       1.710000e+02     0.000000     0.440000   \n",
       "25%    2011.000000       3.400000e+04     5.000000     3.500000   \n",
       "50%    2014.000000       5.300000e+04     5.000000     5.640000   \n",
       "75%    2016.000000       7.300000e+04     5.000000     9.950000   \n",
       "max    2019.000000       6.500000e+06    10.000000   160.000000   \n",
       "\n",
       "       Mileage (kmpl)  Engine (CC)  Power (bhp)  \n",
       "count     6017.000000  5983.000000  5876.000000  \n",
       "mean        18.134961  1621.276450   113.253050  \n",
       "std          4.582289   601.355233    53.874957  \n",
       "min          0.000000    72.000000    34.200000  \n",
       "25%         15.170000  1198.000000    75.000000  \n",
       "50%         18.150000  1493.000000    97.700000  \n",
       "75%         21.100000  1984.000000   138.100000  \n",
       "max         33.540000  5998.000000   560.000000  "
      ]
     },
     "execution_count": 18,
     "metadata": {},
     "output_type": "execute_result"
    }
   ],
   "source": [
    "df.describe()"
   ]
  },
  {
   "cell_type": "code",
   "execution_count": 19,
   "metadata": {
    "cell_id": "00019-2ad88c07-d7d0-4fb4-a7b0-94c417269d0a",
    "colab": {
     "base_uri": "https://localhost:8080/",
     "height": 419
    },
    "execution": {
     "iopub.execute_input": "2020-10-15T12:54:13.513423Z",
     "iopub.status.busy": "2020-10-15T12:54:13.512425Z",
     "iopub.status.idle": "2020-10-15T12:54:13.561330Z",
     "shell.execute_reply": "2020-10-15T12:54:13.560333Z",
     "shell.execute_reply.started": "2020-10-15T12:54:13.513423Z"
    },
    "executionInfo": {
     "elapsed": 7928,
     "status": "ok",
     "timestamp": 1602557855366,
     "user": {
      "displayName": "Abdillah Fikri",
      "photoUrl": "",
      "userId": "04470220666512949031"
     },
     "user_tz": -420
    },
    "id": "PJFktTnEIajw",
    "outputId": "79dc011e-2a51-469e-adda-f60748d14221",
    "output_cleared": false,
    "tags": []
   },
   "outputs": [
    {
     "data": {
      "text/html": [
       "<div>\n",
       "<style scoped>\n",
       "    .dataframe tbody tr th:only-of-type {\n",
       "        vertical-align: middle;\n",
       "    }\n",
       "\n",
       "    .dataframe tbody tr th {\n",
       "        vertical-align: top;\n",
       "    }\n",
       "\n",
       "    .dataframe thead th {\n",
       "        text-align: right;\n",
       "    }\n",
       "</style>\n",
       "<table border=\"1\" class=\"dataframe\">\n",
       "  <thead>\n",
       "    <tr style=\"text-align: right;\">\n",
       "      <th></th>\n",
       "      <th>Location</th>\n",
       "      <th>Year</th>\n",
       "      <th>Kilometers_Driven</th>\n",
       "      <th>Fuel_Type</th>\n",
       "      <th>Transmission</th>\n",
       "      <th>Owner_Type</th>\n",
       "      <th>Seats</th>\n",
       "      <th>Price</th>\n",
       "      <th>Brand</th>\n",
       "      <th>Series</th>\n",
       "      <th>Type</th>\n",
       "      <th>Mileage (kmpl)</th>\n",
       "      <th>Engine (CC)</th>\n",
       "      <th>Power (bhp)</th>\n",
       "    </tr>\n",
       "  </thead>\n",
       "  <tbody>\n",
       "    <tr>\n",
       "      <th>14</th>\n",
       "      <td>Pune</td>\n",
       "      <td>2012</td>\n",
       "      <td>85000</td>\n",
       "      <td>Diesel</td>\n",
       "      <td>Automatic</td>\n",
       "      <td>Second</td>\n",
       "      <td>5.0</td>\n",
       "      <td>17.50</td>\n",
       "      <td>Land</td>\n",
       "      <td>Rover</td>\n",
       "      <td>Freelander</td>\n",
       "      <td>0.0</td>\n",
       "      <td>2179.0</td>\n",
       "      <td>115.0</td>\n",
       "    </tr>\n",
       "    <tr>\n",
       "      <th>67</th>\n",
       "      <td>Coimbatore</td>\n",
       "      <td>2019</td>\n",
       "      <td>15369</td>\n",
       "      <td>Diesel</td>\n",
       "      <td>Automatic</td>\n",
       "      <td>First</td>\n",
       "      <td>5.0</td>\n",
       "      <td>35.67</td>\n",
       "      <td>Mercedes-Benz</td>\n",
       "      <td>C-Class</td>\n",
       "      <td>Progressive</td>\n",
       "      <td>0.0</td>\n",
       "      <td>1950.0</td>\n",
       "      <td>194.0</td>\n",
       "    </tr>\n",
       "    <tr>\n",
       "      <th>79</th>\n",
       "      <td>Hyderabad</td>\n",
       "      <td>2005</td>\n",
       "      <td>87591</td>\n",
       "      <td>Petrol</td>\n",
       "      <td>Manual</td>\n",
       "      <td>First</td>\n",
       "      <td>5.0</td>\n",
       "      <td>1.30</td>\n",
       "      <td>Hyundai</td>\n",
       "      <td>Santro</td>\n",
       "      <td>Xing</td>\n",
       "      <td>0.0</td>\n",
       "      <td>1086.0</td>\n",
       "      <td>NaN</td>\n",
       "    </tr>\n",
       "    <tr>\n",
       "      <th>194</th>\n",
       "      <td>Ahmedabad</td>\n",
       "      <td>2007</td>\n",
       "      <td>60006</td>\n",
       "      <td>Petrol</td>\n",
       "      <td>Manual</td>\n",
       "      <td>First</td>\n",
       "      <td>NaN</td>\n",
       "      <td>2.95</td>\n",
       "      <td>Honda</td>\n",
       "      <td>City</td>\n",
       "      <td>1.5</td>\n",
       "      <td>0.0</td>\n",
       "      <td>NaN</td>\n",
       "      <td>NaN</td>\n",
       "    </tr>\n",
       "    <tr>\n",
       "      <th>229</th>\n",
       "      <td>Bangalore</td>\n",
       "      <td>2015</td>\n",
       "      <td>70436</td>\n",
       "      <td>Diesel</td>\n",
       "      <td>Manual</td>\n",
       "      <td>First</td>\n",
       "      <td>NaN</td>\n",
       "      <td>3.60</td>\n",
       "      <td>Ford</td>\n",
       "      <td>Figo</td>\n",
       "      <td>Diesel</td>\n",
       "      <td>0.0</td>\n",
       "      <td>1498.0</td>\n",
       "      <td>99.0</td>\n",
       "    </tr>\n",
       "    <tr>\n",
       "      <th>...</th>\n",
       "      <td>...</td>\n",
       "      <td>...</td>\n",
       "      <td>...</td>\n",
       "      <td>...</td>\n",
       "      <td>...</td>\n",
       "      <td>...</td>\n",
       "      <td>...</td>\n",
       "      <td>...</td>\n",
       "      <td>...</td>\n",
       "      <td>...</td>\n",
       "      <td>...</td>\n",
       "      <td>...</td>\n",
       "      <td>...</td>\n",
       "      <td>...</td>\n",
       "    </tr>\n",
       "    <tr>\n",
       "      <th>5647</th>\n",
       "      <td>Mumbai</td>\n",
       "      <td>2001</td>\n",
       "      <td>227000</td>\n",
       "      <td>Diesel</td>\n",
       "      <td>Manual</td>\n",
       "      <td>Fourth &amp; Above</td>\n",
       "      <td>8.0</td>\n",
       "      <td>2.20</td>\n",
       "      <td>Toyota</td>\n",
       "      <td>Qualis</td>\n",
       "      <td>Fleet</td>\n",
       "      <td>0.0</td>\n",
       "      <td>2446.0</td>\n",
       "      <td>NaN</td>\n",
       "    </tr>\n",
       "    <tr>\n",
       "      <th>5875</th>\n",
       "      <td>Ahmedabad</td>\n",
       "      <td>2019</td>\n",
       "      <td>4000</td>\n",
       "      <td>Diesel</td>\n",
       "      <td>Automatic</td>\n",
       "      <td>First</td>\n",
       "      <td>5.0</td>\n",
       "      <td>35.00</td>\n",
       "      <td>Mercedes-Benz</td>\n",
       "      <td>C-Class</td>\n",
       "      <td>Progressive</td>\n",
       "      <td>0.0</td>\n",
       "      <td>1950.0</td>\n",
       "      <td>194.0</td>\n",
       "    </tr>\n",
       "    <tr>\n",
       "      <th>5943</th>\n",
       "      <td>Chennai</td>\n",
       "      <td>2002</td>\n",
       "      <td>75000</td>\n",
       "      <td>Diesel</td>\n",
       "      <td>Manual</td>\n",
       "      <td>First</td>\n",
       "      <td>6.0</td>\n",
       "      <td>1.70</td>\n",
       "      <td>Mahindra</td>\n",
       "      <td>Jeep</td>\n",
       "      <td>MM</td>\n",
       "      <td>0.0</td>\n",
       "      <td>2112.0</td>\n",
       "      <td>NaN</td>\n",
       "    </tr>\n",
       "    <tr>\n",
       "      <th>5972</th>\n",
       "      <td>Mumbai</td>\n",
       "      <td>2008</td>\n",
       "      <td>65000</td>\n",
       "      <td>Petrol</td>\n",
       "      <td>Manual</td>\n",
       "      <td>Second</td>\n",
       "      <td>5.0</td>\n",
       "      <td>1.39</td>\n",
       "      <td>Hyundai</td>\n",
       "      <td>Santro</td>\n",
       "      <td>Xing</td>\n",
       "      <td>0.0</td>\n",
       "      <td>1086.0</td>\n",
       "      <td>62.0</td>\n",
       "    </tr>\n",
       "    <tr>\n",
       "      <th>6011</th>\n",
       "      <td>Hyderabad</td>\n",
       "      <td>2009</td>\n",
       "      <td>53000</td>\n",
       "      <td>Petrol</td>\n",
       "      <td>Automatic</td>\n",
       "      <td>First</td>\n",
       "      <td>5.0</td>\n",
       "      <td>4.75</td>\n",
       "      <td>Skoda</td>\n",
       "      <td>Superb</td>\n",
       "      <td>3.6</td>\n",
       "      <td>0.0</td>\n",
       "      <td>3597.0</td>\n",
       "      <td>262.6</td>\n",
       "    </tr>\n",
       "  </tbody>\n",
       "</table>\n",
       "<p>68 rows × 14 columns</p>\n",
       "</div>"
      ],
      "text/plain": [
       "        Location  Year  Kilometers_Driven Fuel_Type Transmission  \\\n",
       "14          Pune  2012              85000    Diesel    Automatic   \n",
       "67    Coimbatore  2019              15369    Diesel    Automatic   \n",
       "79     Hyderabad  2005              87591    Petrol       Manual   \n",
       "194    Ahmedabad  2007              60006    Petrol       Manual   \n",
       "229    Bangalore  2015              70436    Diesel       Manual   \n",
       "...          ...   ...                ...       ...          ...   \n",
       "5647      Mumbai  2001             227000    Diesel       Manual   \n",
       "5875   Ahmedabad  2019               4000    Diesel    Automatic   \n",
       "5943     Chennai  2002              75000    Diesel       Manual   \n",
       "5972      Mumbai  2008              65000    Petrol       Manual   \n",
       "6011   Hyderabad  2009              53000    Petrol    Automatic   \n",
       "\n",
       "          Owner_Type  Seats  Price          Brand   Series         Type  \\\n",
       "14            Second    5.0  17.50           Land    Rover   Freelander   \n",
       "67             First    5.0  35.67  Mercedes-Benz  C-Class  Progressive   \n",
       "79             First    5.0   1.30        Hyundai   Santro         Xing   \n",
       "194            First    NaN   2.95          Honda     City          1.5   \n",
       "229            First    NaN   3.60           Ford     Figo       Diesel   \n",
       "...              ...    ...    ...            ...      ...          ...   \n",
       "5647  Fourth & Above    8.0   2.20         Toyota   Qualis        Fleet   \n",
       "5875           First    5.0  35.00  Mercedes-Benz  C-Class  Progressive   \n",
       "5943           First    6.0   1.70       Mahindra     Jeep           MM   \n",
       "5972          Second    5.0   1.39        Hyundai   Santro         Xing   \n",
       "6011           First    5.0   4.75          Skoda   Superb          3.6   \n",
       "\n",
       "      Mileage (kmpl)  Engine (CC)  Power (bhp)  \n",
       "14               0.0       2179.0        115.0  \n",
       "67               0.0       1950.0        194.0  \n",
       "79               0.0       1086.0          NaN  \n",
       "194              0.0          NaN          NaN  \n",
       "229              0.0       1498.0         99.0  \n",
       "...              ...          ...          ...  \n",
       "5647             0.0       2446.0          NaN  \n",
       "5875             0.0       1950.0        194.0  \n",
       "5943             0.0       2112.0          NaN  \n",
       "5972             0.0       1086.0         62.0  \n",
       "6011             0.0       3597.0        262.6  \n",
       "\n",
       "[68 rows x 14 columns]"
      ]
     },
     "execution_count": 19,
     "metadata": {},
     "output_type": "execute_result"
    }
   ],
   "source": [
    "df[df['Mileage (kmpl)']==0]"
   ]
  },
  {
   "cell_type": "code",
   "execution_count": 20,
   "metadata": {
    "cell_id": "00020-e43329af-54de-4465-87d6-cb3c4c39a087",
    "colab": {
     "base_uri": "https://localhost:8080/",
     "height": 80
    },
    "execution": {
     "iopub.execute_input": "2020-10-15T12:54:13.564326Z",
     "iopub.status.busy": "2020-10-15T12:54:13.563325Z",
     "iopub.status.idle": "2020-10-15T12:54:13.592266Z",
     "shell.execute_reply": "2020-10-15T12:54:13.591270Z",
     "shell.execute_reply.started": "2020-10-15T12:54:13.564326Z"
    },
    "executionInfo": {
     "elapsed": 7914,
     "status": "ok",
     "timestamp": 1602557855367,
     "user": {
      "displayName": "Abdillah Fikri",
      "photoUrl": "",
      "userId": "04470220666512949031"
     },
     "user_tz": -420
    },
    "id": "u6RCnI2OIajz",
    "outputId": "4703b6e0-e354-406d-98ea-e3eb349c8c8d",
    "output_cleared": false,
    "tags": []
   },
   "outputs": [
    {
     "data": {
      "text/html": [
       "<div>\n",
       "<style scoped>\n",
       "    .dataframe tbody tr th:only-of-type {\n",
       "        vertical-align: middle;\n",
       "    }\n",
       "\n",
       "    .dataframe tbody tr th {\n",
       "        vertical-align: top;\n",
       "    }\n",
       "\n",
       "    .dataframe thead th {\n",
       "        text-align: right;\n",
       "    }\n",
       "</style>\n",
       "<table border=\"1\" class=\"dataframe\">\n",
       "  <thead>\n",
       "    <tr style=\"text-align: right;\">\n",
       "      <th></th>\n",
       "      <th>Location</th>\n",
       "      <th>Year</th>\n",
       "      <th>Kilometers_Driven</th>\n",
       "      <th>Fuel_Type</th>\n",
       "      <th>Transmission</th>\n",
       "      <th>Owner_Type</th>\n",
       "      <th>Seats</th>\n",
       "      <th>Price</th>\n",
       "      <th>Brand</th>\n",
       "      <th>Series</th>\n",
       "      <th>Type</th>\n",
       "      <th>Mileage (kmpl)</th>\n",
       "      <th>Engine (CC)</th>\n",
       "      <th>Power (bhp)</th>\n",
       "    </tr>\n",
       "  </thead>\n",
       "  <tbody>\n",
       "    <tr>\n",
       "      <th>3999</th>\n",
       "      <td>Hyderabad</td>\n",
       "      <td>2012</td>\n",
       "      <td>125000</td>\n",
       "      <td>Petrol</td>\n",
       "      <td>Automatic</td>\n",
       "      <td>First</td>\n",
       "      <td>0.0</td>\n",
       "      <td>18.0</td>\n",
       "      <td>Audi</td>\n",
       "      <td>A4</td>\n",
       "      <td>3.2</td>\n",
       "      <td>10.5</td>\n",
       "      <td>3197.0</td>\n",
       "      <td>NaN</td>\n",
       "    </tr>\n",
       "  </tbody>\n",
       "</table>\n",
       "</div>"
      ],
      "text/plain": [
       "       Location  Year  Kilometers_Driven Fuel_Type Transmission Owner_Type  \\\n",
       "3999  Hyderabad  2012             125000    Petrol    Automatic      First   \n",
       "\n",
       "      Seats  Price Brand Series Type  Mileage (kmpl)  Engine (CC)  Power (bhp)  \n",
       "3999    0.0   18.0  Audi     A4  3.2            10.5       3197.0          NaN  "
      ]
     },
     "execution_count": 20,
     "metadata": {},
     "output_type": "execute_result"
    }
   ],
   "source": [
    "df[df['Seats']==0]"
   ]
  },
  {
   "cell_type": "code",
   "execution_count": 21,
   "metadata": {
    "cell_id": "00021-e0395a10-0bb0-43fd-99ef-52126dbb0aa8",
    "execution": {
     "iopub.execute_input": "2020-10-15T12:54:13.593244Z",
     "iopub.status.busy": "2020-10-15T12:54:13.593244Z",
     "iopub.status.idle": "2020-10-15T12:54:13.608205Z",
     "shell.execute_reply": "2020-10-15T12:54:13.607236Z",
     "shell.execute_reply.started": "2020-10-15T12:54:13.593244Z"
    },
    "executionInfo": {
     "elapsed": 7912,
     "status": "ok",
     "timestamp": 1602557855368,
     "user": {
      "displayName": "Abdillah Fikri",
      "photoUrl": "",
      "userId": "04470220666512949031"
     },
     "user_tz": -420
    },
    "id": "Afk7mbdfIaj2",
    "output_cleared": false,
    "tags": []
   },
   "outputs": [],
   "source": [
    "df['Mileage (kmpl)'] = df['Mileage (kmpl)'].replace(0, np.nan)\n",
    "df['Seats'] = df['Seats'].replace(0, np.nan)"
   ]
  },
  {
   "cell_type": "code",
   "execution_count": 22,
   "metadata": {
    "cell_id": "00022-bab6e9eb-e370-437d-bee9-837a51ebbb43",
    "colab": {
     "base_uri": "https://localhost:8080/",
     "height": 153
    },
    "execution": {
     "iopub.execute_input": "2020-10-15T12:54:13.609203Z",
     "iopub.status.busy": "2020-10-15T12:54:13.609203Z",
     "iopub.status.idle": "2020-10-15T12:54:13.639120Z",
     "shell.execute_reply": "2020-10-15T12:54:13.639120Z",
     "shell.execute_reply.started": "2020-10-15T12:54:13.609203Z"
    },
    "executionInfo": {
     "elapsed": 7898,
     "status": "ok",
     "timestamp": 1602557855369,
     "user": {
      "displayName": "Abdillah Fikri",
      "photoUrl": "",
      "userId": "04470220666512949031"
     },
     "user_tz": -420
    },
    "id": "wmm-4vqkIaj5",
    "outputId": "8c8c575e-3e82-45be-a919-f975933e10f1",
    "output_cleared": false,
    "tags": []
   },
   "outputs": [
    {
     "data": {
      "text/plain": [
       "Location         11\n",
       "Fuel_Type         5\n",
       "Transmission      2\n",
       "Owner_Type        4\n",
       "Brand            31\n",
       "Series          212\n",
       "Type            339\n",
       "dtype: int64"
      ]
     },
     "execution_count": 22,
     "metadata": {},
     "output_type": "execute_result"
    }
   ],
   "source": [
    "cat_cols = [col for col in df.columns if df[col].dtypes == 'object']\n",
    "df[cat_cols].nunique()"
   ]
  },
  {
   "cell_type": "code",
   "execution_count": 23,
   "metadata": {
    "colab": {
     "base_uri": "https://localhost:8080/",
     "height": 34
    },
    "execution": {
     "iopub.execute_input": "2020-10-15T12:54:13.641117Z",
     "iopub.status.busy": "2020-10-15T12:54:13.641117Z",
     "iopub.status.idle": "2020-10-15T12:54:13.656078Z",
     "shell.execute_reply": "2020-10-15T12:54:13.655080Z",
     "shell.execute_reply.started": "2020-10-15T12:54:13.641117Z"
    },
    "executionInfo": {
     "elapsed": 7881,
     "status": "ok",
     "timestamp": 1602557855370,
     "user": {
      "displayName": "Abdillah Fikri",
      "photoUrl": "",
      "userId": "04470220666512949031"
     },
     "user_tz": -420
    },
    "id": "Q2UrO_LJZIri",
    "outputId": "d0cdcf98-da27-4b8f-9b0e-c7906e47e546"
   },
   "outputs": [
    {
     "data": {
      "text/plain": [
       "['a', 'b']"
      ]
     },
     "execution_count": 23,
     "metadata": {},
     "output_type": "execute_result"
    }
   ],
   "source": [
    "['a', 'b']"
   ]
  },
  {
   "cell_type": "code",
   "execution_count": 24,
   "metadata": {
    "cell_id": "00023-826cb95b-08be-4095-8a0b-489a9f2a0fcc",
    "colab": {
     "base_uri": "https://localhost:8080/",
     "height": 1000
    },
    "execution": {
     "iopub.execute_input": "2020-10-15T12:54:13.657075Z",
     "iopub.status.busy": "2020-10-15T12:54:13.657075Z",
     "iopub.status.idle": "2020-10-15T12:54:13.686027Z",
     "shell.execute_reply": "2020-10-15T12:54:13.686027Z",
     "shell.execute_reply.started": "2020-10-15T12:54:13.657075Z"
    },
    "executionInfo": {
     "elapsed": 7865,
     "status": "ok",
     "timestamp": 1602557855371,
     "user": {
      "displayName": "Abdillah Fikri",
      "photoUrl": "",
      "userId": "04470220666512949031"
     },
     "user_tz": -420
    },
    "id": "YLT0EpfVlHZ2",
    "outputId": "612b2218-d5f4-41fd-a4f4-5f2c74655110",
    "output_cleared": false,
    "tags": []
   },
   "outputs": [
    {
     "name": "stdout",
     "output_type": "stream",
     "text": [
      "Location ['Mumbai' 'Pune' 'Chennai' 'Coimbatore' 'Hyderabad' 'Jaipur' 'Kochi'\n",
      " 'Kolkata' 'Delhi' 'Bangalore' 'Ahmedabad'] \n",
      "\n",
      "Fuel_Type ['CNG' 'Diesel' 'Petrol' 'LPG' 'Electric'] \n",
      "\n",
      "Transmission ['Manual' 'Automatic'] \n",
      "\n",
      "Owner_Type ['First' 'Second' 'Fourth & Above' 'Third'] \n",
      "\n",
      "Brand ['Maruti' 'Hyundai' 'Honda' 'Audi' 'Nissan' 'Toyota' 'Volkswagen' 'Tata'\n",
      " 'Land' 'Mitsubishi' 'Renault' 'Mercedes-Benz' 'BMW' 'Mahindra' 'Ford'\n",
      " 'Porsche' 'Datsun' 'Jaguar' 'Volvo' 'Chevrolet' 'Skoda' 'Mini' 'Fiat'\n",
      " 'Jeep' 'Smart' 'Ambassador' 'Isuzu' 'ISUZU' 'Force' 'Bentley'\n",
      " 'Lamborghini'] \n",
      "\n",
      "Series ['Wagon' 'Creta' 'Jazz' 'Ertiga' 'A4' 'EON' 'Micra' 'Innova' 'Vento'\n",
      " 'Indica' 'Ciaz' 'City' 'Swift' 'Rover' 'Pajero' 'Amaze' 'Duster' 'New'\n",
      " '3' 'S' 'A6' 'i20' 'Alto' 'WRV' 'Corolla' 'Ssangyong' 'Vitara' 'KUV'\n",
      " 'M-Class' 'Polo' 'Nano' 'Elantra' 'Xcent' 'Thar' 'Grand' 'KWID' 'i10'\n",
      " 'X-Trail' 'Zen' 'Figo' 'C-Class' 'Cayenne' 'XUV500' 'Terrano' 'Brio'\n",
      " 'Fiesta' 'Santro' 'Zest' 'Ritz' '5' 'Fortuner' 'Ecosport' 'Verna' 'GO'\n",
      " 'Omni' 'Etios' 'XF' 'Eeco' 'Civic' 'V40' 'B' 'Scorpio' 'CR-V' 'SLC' '1'\n",
      " 'Beat' 'Rapid' 'RS5' 'Superb' 'X5' 'GLC' 'Countryman' 'Optra' 'Lodgy'\n",
      " 'E-Class' 'Baleno' 'Laura' 'NuvoSport' 'Fabia' 'Indigo' 'Q3' 'Octavia'\n",
      " 'A8' 'Verito' 'Cooper' 'Santa' 'X1' 'Accent' 'Tucson' 'GLE' 'A-Star'\n",
      " 'Grande' 'X3' 'EcoSport' 'Q7' 'Jetta' 'GLA' 'Celerio' 'Sumo' 'Accord' '6'\n",
      " 'Manza' 'Spark' 'Clubman' 'Teana' '800' 'BRV' 'XE' 'Xenon' 'A3'\n",
      " 'GL-Class' 'BR-V' 'S80' 'Captur' 'Enjoy' 'Bolero' 'Q5' 'Cedia' 'S-Cross'\n",
      " 'Yeti' 'Endeavour' 'GLS' 'A' 'SX4' 'Camry' 'Mobilio' 'Linea' 'TT'\n",
      " 'Renault' 'Compass' 'Ikon' 'Sail' 'Quanto' 'Aveo' 'Xylo' 'Esteem'\n",
      " 'Safari' 'Ignis' 'XJ' 'Sunny' 'SLK-Class' 'Passat' 'Dzire' 'Cruze'\n",
      " 'Koleos' 'Qualis' 'Ameo' 'redi-GO' 'Fortwo' 'Outlander' 'Cayman' 'CLA'\n",
      " 'XC60' 'Boxster' 'XUV300' 'Hexa' 'Tiago' '7' 'Avventura' 'Tigor' 'S60'\n",
      " 'Classic' 'Beetle' 'Petra' 'Getz' 'A7' 'Elite' 'Aspire' 'Tiguan'\n",
      " 'Captiva' 'Punto' 'TUV' 'X6' 'Bolt' 'Evalia' 'Scala' 'Jeep' 'Sonata'\n",
      " 'Freestyle' 'Logan' 'Tavera' 'Estilo' 'XC90' 'Pulse' 'Montero' 'Panamera'\n",
      " 'CrossPolo' 'Fluence' 'Venture' 'Nexon' 'MUX' 'Platinum' 'R-Class'\n",
      " 'CLS-Class' 'D-MAX' 'S-Class' 'Lancer' 'Redi' 'E' 'Mustang' 'Fusion'\n",
      " 'Siena' '1000' 'SL-Class' 'Z4' 'Prius' 'One' 'Versa' 'WR-V' 'Continental'\n",
      " 'Gallardo' 'F'] \n",
      "\n",
      "Type ['R' '1.6' 'V' 'VDI' 'New' 'LPG' 'Diesel' 'Crysta' 'Vista' 'Zeta' '1.5'\n",
      " 'Range' 'Freelander' 'Sport' 'S' 'DDiS' '85PS' 'C-Class' 'Series' 'Cross'\n",
      " '2011-2015' '1.2' 'Petrol' 'Corporate' 'K10' 'i-VTEC' '2.5' '110PS'\n",
      " 'Altis' 'Rexton' '2.7' 'Brezza' '100' 'ML' 'LXi' 'LX' 'Magna' '2.0'\n",
      " 'CRDi' '1.1' 'CRDe' 'LDI' 'Ldi' 'i10' '2013-2015' 'RXT' 'Asta' 'SLX'\n",
      " 'Estilo' 'V2' 'ZX' 'Progressive' 'SHVS' '1.4' '2009-2014' 'W8' 'Sportz'\n",
      " 'XV' 'VX' 'Xing' 'Revotron' 'SX' 'VDi' 'i' '4x2' 'Transform' 'Plus' '3.0'\n",
      " '2015-2017' '5' 'Liva' 'Twist' '2006-2010' 'Class' 'XTA' 'VLX' '2.4'\n",
      " 'VXi' 'AT' 'VXI' '43' 'VTVT' 'VVT' 'LT' 'Coupe' 'Elegance' 'NXT' 'xDrive'\n",
      " '220' 'Cooper' 'Magnum' 'E250' 'Alpha' '1.99' 'ZDI' 'Ambiente' 'N6' 'eCS'\n",
      " '2012-2015' '1.3' 'L' 'Style' 'Active' 'Convertible' 'ZDi' 'Fe'\n",
      " 'sDrive20d' 'Leisure' 'GT' 'Era' 'MPI' '350d' 'Vxi' 'Punto' 'xDrive30d'\n",
      " 'Quadrajet' '1.0' 'Dzire' '800' '1.9' '2007-2011' '250d' '8' 'Delux' 'LS'\n",
      " 'Paseo' 'EXi' '45' 'H4' 'ELAN' 'Ambition' 'D' 'Club' 'RS' 'RVi' 'L&K'\n",
      " 'Classic' 'GD' '3.0d' 'AC' '2009-2013' 'Portfolio' 'LDi' 'XT' '35' '2007'\n",
      " 'S10' '2006-2013' 'GLE' 'VD' 'D3' 'ZLX' 'GLS' '30' 'Sports' 'Delta' '4.2'\n",
      " 'Aqua' '4x4' 'E' '2015-2019' 'Hurricane' '2.4L' 'ZXI' 'A/T' 'Vdi' 'G'\n",
      " '280' 'T' 'TCDi' 'sDrive' 'W6' 'Logan' '2.2' 'Hatchback' 'C2' '2014-2019'\n",
      " '2.8' '220d' 'W10' 'XL' 'S4' 'U-VA' 'E8' 'DI' 'Storme' 'i-DTEC' 'Option'\n",
      " 'DLS' '2.0L' 'Executive' 'IPL' 'ZXi' 'EX' '1.8' 'SLK' 'Highline' '3.2'\n",
      " '2008-2012' 'AMT' 'LTZ' 'Lx' 'Titanium' 'Emotion' 'Aspire' 'LXI' '2.6'\n",
      " 'XLT' 'W9' 'FS' 'Green' 'Facelift' 'Vitara' '40' '2011-2014' 'Hybrid'\n",
      " '2012-2014' '7' 'CDI' 'DX' 'TSI' '2009-2012' '200' '2010-2013' 'D5' 'Lxi'\n",
      " 'CS' 'Signature' 'Aura' 'Safari' '350' 'XE' 'W4' 'MULTIJET' 'D4' 'Nova'\n",
      " 'Sigma' 'Discovery' 'M' 'Zxi' 'GTI' 'i20' 'S6' 'Std' 'Countryman' '3.0L'\n",
      " 'VTi-L' 'xDrive20d' '3' 'Magna(O)' 'Rider' 'EVO' '300' '1.5D' 'Climber'\n",
      " '2013' 'T-Jet' 'H2' '1.2L' '1.2P' 'E4' 'SLE' 'MM' 'Embera' 'Adventure'\n",
      " 'LP' 'Turbo' 'C8' 'H5' 'E270' 'DICOR' 'D2' '2007-2015' 'S2' 'RxL'\n",
      " '2001-2003' 'N8' 'Cx' 'mHAWK' '3.6' 'CNG' 'X5' '1.05' '2.5L' '4WD'\n",
      " 'Etios' '2010' 'GS' 'Wizz' 'RXL' 'S8' 'Base' 'Select' 'W7' '2013-2016'\n",
      " 'E400' 'C6' 'R350' 'GVS' 'C4' '4X4' '230jM' 'V-Cross' '250' 'GOLD' '320'\n",
      " 'Exclusive' 'E350' 'Smiles' 'RXZ' '230' 'V6' 'E2' 'Mode' 'VXD' 'GO'\n",
      " 'Verito' 'V8' 'TRD' '55' 'Aero' 'SL' 'Xi' 'GLXD' '2009-2016' 'STD' 'DX2'\n",
      " '5.0' 'XXi' 'Edge' 'W2' 'CX' 'Flying' 'Fleet' 'Ultima' 'Konekt'\n",
      " 'Magnific' 'Type' 'LEI'] \n",
      "\n"
     ]
    }
   ],
   "source": [
    "for col in cat_cols:\n",
    "  print(col, df[col].unique(), '\\n')"
   ]
  },
  {
   "cell_type": "code",
   "execution_count": 25,
   "metadata": {
    "cell_id": "00024-47c53a05-57f5-4f76-8ebc-626044400a24",
    "execution": {
     "iopub.execute_input": "2020-10-15T12:54:13.687993Z",
     "iopub.status.busy": "2020-10-15T12:54:13.687993Z",
     "iopub.status.idle": "2020-10-15T12:54:13.701957Z",
     "shell.execute_reply": "2020-10-15T12:54:13.700991Z",
     "shell.execute_reply.started": "2020-10-15T12:54:13.687993Z"
    },
    "executionInfo": {
     "elapsed": 7862,
     "status": "ok",
     "timestamp": 1602557855372,
     "user": {
      "displayName": "Abdillah Fikri",
      "photoUrl": "",
      "userId": "04470220666512949031"
     },
     "user_tz": -420
    },
    "id": "Ei1r1wmzlRHu",
    "output_cleared": false
   },
   "outputs": [],
   "source": [
    "df['Brand'] = df['Brand'].replace('ISUZU', 'Isuzu')"
   ]
  },
  {
   "cell_type": "code",
   "execution_count": 26,
   "metadata": {
    "cell_id": "00025-57eb8332-9868-4559-adc8-cbaa48039fcd",
    "colab": {
     "base_uri": "https://localhost:8080/",
     "height": 85
    },
    "execution": {
     "iopub.execute_input": "2020-10-15T12:54:13.707937Z",
     "iopub.status.busy": "2020-10-15T12:54:13.706942Z",
     "iopub.status.idle": "2020-10-15T12:54:13.717912Z",
     "shell.execute_reply": "2020-10-15T12:54:13.716947Z",
     "shell.execute_reply.started": "2020-10-15T12:54:13.706942Z"
    },
    "executionInfo": {
     "elapsed": 7844,
     "status": "ok",
     "timestamp": 1602557855372,
     "user": {
      "displayName": "Abdillah Fikri",
      "photoUrl": "",
      "userId": "04470220666512949031"
     },
     "user_tz": -420
    },
    "id": "OXBlXSF3mZ4J",
    "outputId": "bb0f36dd-fab7-4f4a-fbd2-20ea42a9dd9d",
    "output_cleared": false,
    "tags": []
   },
   "outputs": [
    {
     "name": "stdout",
     "output_type": "stream",
     "text": [
      "Brand ['Maruti' 'Hyundai' 'Honda' 'Audi' 'Nissan' 'Toyota' 'Volkswagen' 'Tata'\n",
      " 'Land' 'Mitsubishi' 'Renault' 'Mercedes-Benz' 'BMW' 'Mahindra' 'Ford'\n",
      " 'Porsche' 'Datsun' 'Jaguar' 'Volvo' 'Chevrolet' 'Skoda' 'Mini' 'Fiat'\n",
      " 'Jeep' 'Smart' 'Ambassador' 'Isuzu' 'Force' 'Bentley' 'Lamborghini']\n"
     ]
    }
   ],
   "source": [
    "print('Brand', df['Brand'].unique())"
   ]
  },
  {
   "cell_type": "code",
   "execution_count": 27,
   "metadata": {
    "cell_id": "00026-3a835b06-20e7-4253-852f-976a27b4f497",
    "colab": {
     "base_uri": "https://localhost:8080/",
     "height": 119
    },
    "execution": {
     "iopub.execute_input": "2020-10-15T12:54:13.719939Z",
     "iopub.status.busy": "2020-10-15T12:54:13.719939Z",
     "iopub.status.idle": "2020-10-15T12:54:13.749824Z",
     "shell.execute_reply": "2020-10-15T12:54:13.748862Z",
     "shell.execute_reply.started": "2020-10-15T12:54:13.719939Z"
    },
    "executionInfo": {
     "elapsed": 7829,
     "status": "ok",
     "timestamp": 1602557855373,
     "user": {
      "displayName": "Abdillah Fikri",
      "photoUrl": "",
      "userId": "04470220666512949031"
     },
     "user_tz": -420
    },
    "id": "Q8rkmxpdm0Oz",
    "outputId": "82012ee0-04a0-43fa-9b89-8b553b9e8224",
    "output_cleared": false
   },
   "outputs": [
    {
     "data": {
      "text/plain": [
       "Diesel      3205\n",
       "Petrol      2746\n",
       "CNG           56\n",
       "LPG           10\n",
       "Electric       2\n",
       "Name: Fuel_Type, dtype: int64"
      ]
     },
     "execution_count": 27,
     "metadata": {},
     "output_type": "execute_result"
    }
   ],
   "source": [
    "df['Fuel_Type'].value_counts()"
   ]
  },
  {
   "cell_type": "code",
   "execution_count": 28,
   "metadata": {
    "cell_id": "00027-bbfa9e1f-1505-4f93-8bb1-e55ff6cae887",
    "colab": {
     "base_uri": "https://localhost:8080/",
     "height": 34
    },
    "execution": {
     "iopub.execute_input": "2020-10-15T12:54:13.750822Z",
     "iopub.status.busy": "2020-10-15T12:54:13.750822Z",
     "iopub.status.idle": "2020-10-15T12:54:13.765785Z",
     "shell.execute_reply": "2020-10-15T12:54:13.764821Z",
     "shell.execute_reply.started": "2020-10-15T12:54:13.750822Z"
    },
    "executionInfo": {
     "elapsed": 7813,
     "status": "ok",
     "timestamp": 1602557855374,
     "user": {
      "displayName": "Abdillah Fikri",
      "photoUrl": "",
      "userId": "04470220666512949031"
     },
     "user_tz": -420
    },
    "id": "zQVZX-GcIakM",
    "outputId": "5cd57e97-d41d-4239-cc33-7daa2f500015",
    "output_cleared": false,
    "tags": []
   },
   "outputs": [
    {
     "data": {
      "text/plain": [
       "212"
      ]
     },
     "execution_count": 28,
     "metadata": {},
     "output_type": "execute_result"
    }
   ],
   "source": [
    "df['Series'].nunique()"
   ]
  },
  {
   "cell_type": "code",
   "execution_count": 29,
   "metadata": {
    "cell_id": "00030-25fa031b-975c-43ae-9e06-a422b44e4789",
    "colab": {
     "base_uri": "https://localhost:8080/",
     "height": 204
    },
    "execution": {
     "iopub.execute_input": "2020-10-15T12:54:13.766780Z",
     "iopub.status.busy": "2020-10-15T12:54:13.766780Z",
     "iopub.status.idle": "2020-10-15T12:54:13.797697Z",
     "shell.execute_reply": "2020-10-15T12:54:13.796701Z",
     "shell.execute_reply.started": "2020-10-15T12:54:13.766780Z"
    },
    "executionInfo": {
     "elapsed": 7798,
     "status": "ok",
     "timestamp": 1602557855375,
     "user": {
      "displayName": "Abdillah Fikri",
      "photoUrl": "",
      "userId": "04470220666512949031"
     },
     "user_tz": -420
    },
    "id": "89WdS5GnIakU",
    "outputId": "6264b415-c8e5-424a-ff4c-f4352c89eb16",
    "output_cleared": false,
    "tags": []
   },
   "outputs": [
    {
     "data": {
      "text/html": [
       "<div>\n",
       "<style scoped>\n",
       "    .dataframe tbody tr th:only-of-type {\n",
       "        vertical-align: middle;\n",
       "    }\n",
       "\n",
       "    .dataframe tbody tr th {\n",
       "        vertical-align: top;\n",
       "    }\n",
       "\n",
       "    .dataframe thead th {\n",
       "        text-align: right;\n",
       "    }\n",
       "</style>\n",
       "<table border=\"1\" class=\"dataframe\">\n",
       "  <thead>\n",
       "    <tr style=\"text-align: right;\">\n",
       "      <th></th>\n",
       "      <th>Location</th>\n",
       "      <th>Year</th>\n",
       "      <th>Kilometers_Driven</th>\n",
       "      <th>Fuel_Type</th>\n",
       "      <th>Transmission</th>\n",
       "      <th>Owner_Type</th>\n",
       "      <th>Seats</th>\n",
       "      <th>Price</th>\n",
       "      <th>Brand</th>\n",
       "      <th>Series</th>\n",
       "      <th>Type</th>\n",
       "      <th>Mileage (kmpl)</th>\n",
       "      <th>Engine (CC)</th>\n",
       "      <th>Power (bhp)</th>\n",
       "    </tr>\n",
       "  </thead>\n",
       "  <tbody>\n",
       "    <tr>\n",
       "      <th>0</th>\n",
       "      <td>Mumbai</td>\n",
       "      <td>2010</td>\n",
       "      <td>72000</td>\n",
       "      <td>CNG</td>\n",
       "      <td>Manual</td>\n",
       "      <td>First</td>\n",
       "      <td>5.0</td>\n",
       "      <td>1.75</td>\n",
       "      <td>Maruti</td>\n",
       "      <td>Wagon</td>\n",
       "      <td>R</td>\n",
       "      <td>26.60</td>\n",
       "      <td>998.0</td>\n",
       "      <td>58.16</td>\n",
       "    </tr>\n",
       "    <tr>\n",
       "      <th>1</th>\n",
       "      <td>Pune</td>\n",
       "      <td>2015</td>\n",
       "      <td>41000</td>\n",
       "      <td>Diesel</td>\n",
       "      <td>Manual</td>\n",
       "      <td>First</td>\n",
       "      <td>5.0</td>\n",
       "      <td>12.50</td>\n",
       "      <td>Hyundai</td>\n",
       "      <td>Creta</td>\n",
       "      <td>1.6</td>\n",
       "      <td>19.67</td>\n",
       "      <td>1582.0</td>\n",
       "      <td>126.20</td>\n",
       "    </tr>\n",
       "    <tr>\n",
       "      <th>2</th>\n",
       "      <td>Chennai</td>\n",
       "      <td>2011</td>\n",
       "      <td>46000</td>\n",
       "      <td>Petrol</td>\n",
       "      <td>Manual</td>\n",
       "      <td>First</td>\n",
       "      <td>5.0</td>\n",
       "      <td>4.50</td>\n",
       "      <td>Honda</td>\n",
       "      <td>Jazz</td>\n",
       "      <td>V</td>\n",
       "      <td>18.20</td>\n",
       "      <td>1199.0</td>\n",
       "      <td>88.70</td>\n",
       "    </tr>\n",
       "    <tr>\n",
       "      <th>3</th>\n",
       "      <td>Chennai</td>\n",
       "      <td>2012</td>\n",
       "      <td>87000</td>\n",
       "      <td>Diesel</td>\n",
       "      <td>Manual</td>\n",
       "      <td>First</td>\n",
       "      <td>7.0</td>\n",
       "      <td>6.00</td>\n",
       "      <td>Maruti</td>\n",
       "      <td>Ertiga</td>\n",
       "      <td>VDI</td>\n",
       "      <td>20.77</td>\n",
       "      <td>1248.0</td>\n",
       "      <td>88.76</td>\n",
       "    </tr>\n",
       "    <tr>\n",
       "      <th>4</th>\n",
       "      <td>Coimbatore</td>\n",
       "      <td>2013</td>\n",
       "      <td>40670</td>\n",
       "      <td>Diesel</td>\n",
       "      <td>Automatic</td>\n",
       "      <td>Second</td>\n",
       "      <td>5.0</td>\n",
       "      <td>17.74</td>\n",
       "      <td>Audi</td>\n",
       "      <td>A4</td>\n",
       "      <td>New</td>\n",
       "      <td>15.20</td>\n",
       "      <td>1968.0</td>\n",
       "      <td>140.80</td>\n",
       "    </tr>\n",
       "  </tbody>\n",
       "</table>\n",
       "</div>"
      ],
      "text/plain": [
       "     Location  Year  Kilometers_Driven Fuel_Type Transmission Owner_Type  \\\n",
       "0      Mumbai  2010              72000       CNG       Manual      First   \n",
       "1        Pune  2015              41000    Diesel       Manual      First   \n",
       "2     Chennai  2011              46000    Petrol       Manual      First   \n",
       "3     Chennai  2012              87000    Diesel       Manual      First   \n",
       "4  Coimbatore  2013              40670    Diesel    Automatic     Second   \n",
       "\n",
       "   Seats  Price    Brand  Series Type  Mileage (kmpl)  Engine (CC)  \\\n",
       "0    5.0   1.75   Maruti   Wagon    R           26.60        998.0   \n",
       "1    5.0  12.50  Hyundai   Creta  1.6           19.67       1582.0   \n",
       "2    5.0   4.50    Honda    Jazz    V           18.20       1199.0   \n",
       "3    7.0   6.00   Maruti  Ertiga  VDI           20.77       1248.0   \n",
       "4    5.0  17.74     Audi      A4  New           15.20       1968.0   \n",
       "\n",
       "   Power (bhp)  \n",
       "0        58.16  \n",
       "1       126.20  \n",
       "2        88.70  \n",
       "3        88.76  \n",
       "4       140.80  "
      ]
     },
     "execution_count": 29,
     "metadata": {},
     "output_type": "execute_result"
    }
   ],
   "source": [
    "df.head()"
   ]
  },
  {
   "cell_type": "code",
   "execution_count": 30,
   "metadata": {
    "cell_id": "00031-7ddc6533-c13e-4779-b1f0-09774747357f",
    "colab": {
     "base_uri": "https://localhost:8080/",
     "height": 297
    },
    "execution": {
     "iopub.execute_input": "2020-10-15T12:54:13.798694Z",
     "iopub.status.busy": "2020-10-15T12:54:13.798694Z",
     "iopub.status.idle": "2020-10-15T12:54:13.845569Z",
     "shell.execute_reply": "2020-10-15T12:54:13.844623Z",
     "shell.execute_reply.started": "2020-10-15T12:54:13.798694Z"
    },
    "executionInfo": {
     "elapsed": 8308,
     "status": "ok",
     "timestamp": 1602557855905,
     "user": {
      "displayName": "Abdillah Fikri",
      "photoUrl": "",
      "userId": "04470220666512949031"
     },
     "user_tz": -420
    },
    "id": "Ney4gM1WIakY",
    "outputId": "36e479a6-a706-4b51-c4af-0814c7c27cb2",
    "output_cleared": false,
    "tags": []
   },
   "outputs": [
    {
     "data": {
      "text/html": [
       "<div>\n",
       "<style scoped>\n",
       "    .dataframe tbody tr th:only-of-type {\n",
       "        vertical-align: middle;\n",
       "    }\n",
       "\n",
       "    .dataframe tbody tr th {\n",
       "        vertical-align: top;\n",
       "    }\n",
       "\n",
       "    .dataframe thead th {\n",
       "        text-align: right;\n",
       "    }\n",
       "</style>\n",
       "<table border=\"1\" class=\"dataframe\">\n",
       "  <thead>\n",
       "    <tr style=\"text-align: right;\">\n",
       "      <th></th>\n",
       "      <th>Year</th>\n",
       "      <th>Kilometers_Driven</th>\n",
       "      <th>Seats</th>\n",
       "      <th>Price</th>\n",
       "      <th>Mileage (kmpl)</th>\n",
       "      <th>Engine (CC)</th>\n",
       "      <th>Power (bhp)</th>\n",
       "    </tr>\n",
       "  </thead>\n",
       "  <tbody>\n",
       "    <tr>\n",
       "      <th>count</th>\n",
       "      <td>6019.000000</td>\n",
       "      <td>6.019000e+03</td>\n",
       "      <td>5976.000000</td>\n",
       "      <td>6019.000000</td>\n",
       "      <td>5949.000000</td>\n",
       "      <td>5983.000000</td>\n",
       "      <td>5876.000000</td>\n",
       "    </tr>\n",
       "    <tr>\n",
       "      <th>mean</th>\n",
       "      <td>2013.358199</td>\n",
       "      <td>5.873838e+04</td>\n",
       "      <td>5.279618</td>\n",
       "      <td>9.479468</td>\n",
       "      <td>18.342252</td>\n",
       "      <td>1621.276450</td>\n",
       "      <td>113.253050</td>\n",
       "    </tr>\n",
       "    <tr>\n",
       "      <th>std</th>\n",
       "      <td>3.269742</td>\n",
       "      <td>9.126884e+04</td>\n",
       "      <td>0.806019</td>\n",
       "      <td>11.187917</td>\n",
       "      <td>4.175475</td>\n",
       "      <td>601.355233</td>\n",
       "      <td>53.874957</td>\n",
       "    </tr>\n",
       "    <tr>\n",
       "      <th>min</th>\n",
       "      <td>1998.000000</td>\n",
       "      <td>1.710000e+02</td>\n",
       "      <td>2.000000</td>\n",
       "      <td>0.440000</td>\n",
       "      <td>6.400000</td>\n",
       "      <td>72.000000</td>\n",
       "      <td>34.200000</td>\n",
       "    </tr>\n",
       "    <tr>\n",
       "      <th>25%</th>\n",
       "      <td>2011.000000</td>\n",
       "      <td>3.400000e+04</td>\n",
       "      <td>5.000000</td>\n",
       "      <td>3.500000</td>\n",
       "      <td>15.300000</td>\n",
       "      <td>1198.000000</td>\n",
       "      <td>75.000000</td>\n",
       "    </tr>\n",
       "    <tr>\n",
       "      <th>50%</th>\n",
       "      <td>2014.000000</td>\n",
       "      <td>5.300000e+04</td>\n",
       "      <td>5.000000</td>\n",
       "      <td>5.640000</td>\n",
       "      <td>18.200000</td>\n",
       "      <td>1493.000000</td>\n",
       "      <td>97.700000</td>\n",
       "    </tr>\n",
       "    <tr>\n",
       "      <th>75%</th>\n",
       "      <td>2016.000000</td>\n",
       "      <td>7.300000e+04</td>\n",
       "      <td>5.000000</td>\n",
       "      <td>9.950000</td>\n",
       "      <td>21.100000</td>\n",
       "      <td>1984.000000</td>\n",
       "      <td>138.100000</td>\n",
       "    </tr>\n",
       "    <tr>\n",
       "      <th>max</th>\n",
       "      <td>2019.000000</td>\n",
       "      <td>6.500000e+06</td>\n",
       "      <td>10.000000</td>\n",
       "      <td>160.000000</td>\n",
       "      <td>33.540000</td>\n",
       "      <td>5998.000000</td>\n",
       "      <td>560.000000</td>\n",
       "    </tr>\n",
       "  </tbody>\n",
       "</table>\n",
       "</div>"
      ],
      "text/plain": [
       "              Year  Kilometers_Driven        Seats        Price  \\\n",
       "count  6019.000000       6.019000e+03  5976.000000  6019.000000   \n",
       "mean   2013.358199       5.873838e+04     5.279618     9.479468   \n",
       "std       3.269742       9.126884e+04     0.806019    11.187917   \n",
       "min    1998.000000       1.710000e+02     2.000000     0.440000   \n",
       "25%    2011.000000       3.400000e+04     5.000000     3.500000   \n",
       "50%    2014.000000       5.300000e+04     5.000000     5.640000   \n",
       "75%    2016.000000       7.300000e+04     5.000000     9.950000   \n",
       "max    2019.000000       6.500000e+06    10.000000   160.000000   \n",
       "\n",
       "       Mileage (kmpl)  Engine (CC)  Power (bhp)  \n",
       "count     5949.000000  5983.000000  5876.000000  \n",
       "mean        18.342252  1621.276450   113.253050  \n",
       "std          4.175475   601.355233    53.874957  \n",
       "min          6.400000    72.000000    34.200000  \n",
       "25%         15.300000  1198.000000    75.000000  \n",
       "50%         18.200000  1493.000000    97.700000  \n",
       "75%         21.100000  1984.000000   138.100000  \n",
       "max         33.540000  5998.000000   560.000000  "
      ]
     },
     "execution_count": 30,
     "metadata": {},
     "output_type": "execute_result"
    }
   ],
   "source": [
    "df.describe()"
   ]
  },
  {
   "cell_type": "code",
   "execution_count": 31,
   "metadata": {
    "cell_id": "00032-a59a0124-6b41-4b36-aead-c0d4df135d9b",
    "colab": {
     "base_uri": "https://localhost:8080/",
     "height": 173
    },
    "execution": {
     "iopub.execute_input": "2020-10-15T12:54:13.849559Z",
     "iopub.status.busy": "2020-10-15T12:54:13.848562Z",
     "iopub.status.idle": "2020-10-15T12:54:13.909398Z",
     "shell.execute_reply": "2020-10-15T12:54:13.908402Z",
     "shell.execute_reply.started": "2020-10-15T12:54:13.849559Z"
    },
    "executionInfo": {
     "elapsed": 8286,
     "status": "ok",
     "timestamp": 1602557855906,
     "user": {
      "displayName": "Abdillah Fikri",
      "photoUrl": "",
      "userId": "04470220666512949031"
     },
     "user_tz": -420
    },
    "id": "3Jk-RIU6Iakb",
    "outputId": "7a8d1a40-3f4b-4597-ca7b-047f72aa0f7c",
    "output_cleared": false,
    "tags": []
   },
   "outputs": [
    {
     "data": {
      "text/html": [
       "<div>\n",
       "<style scoped>\n",
       "    .dataframe tbody tr th:only-of-type {\n",
       "        vertical-align: middle;\n",
       "    }\n",
       "\n",
       "    .dataframe tbody tr th {\n",
       "        vertical-align: top;\n",
       "    }\n",
       "\n",
       "    .dataframe thead th {\n",
       "        text-align: right;\n",
       "    }\n",
       "</style>\n",
       "<table border=\"1\" class=\"dataframe\">\n",
       "  <thead>\n",
       "    <tr style=\"text-align: right;\">\n",
       "      <th></th>\n",
       "      <th>Location</th>\n",
       "      <th>Fuel_Type</th>\n",
       "      <th>Transmission</th>\n",
       "      <th>Owner_Type</th>\n",
       "      <th>Brand</th>\n",
       "      <th>Series</th>\n",
       "      <th>Type</th>\n",
       "    </tr>\n",
       "  </thead>\n",
       "  <tbody>\n",
       "    <tr>\n",
       "      <th>count</th>\n",
       "      <td>6019</td>\n",
       "      <td>6019</td>\n",
       "      <td>6019</td>\n",
       "      <td>6019</td>\n",
       "      <td>6019</td>\n",
       "      <td>6019</td>\n",
       "      <td>6019</td>\n",
       "    </tr>\n",
       "    <tr>\n",
       "      <th>unique</th>\n",
       "      <td>11</td>\n",
       "      <td>5</td>\n",
       "      <td>2</td>\n",
       "      <td>4</td>\n",
       "      <td>30</td>\n",
       "      <td>212</td>\n",
       "      <td>339</td>\n",
       "    </tr>\n",
       "    <tr>\n",
       "      <th>top</th>\n",
       "      <td>Mumbai</td>\n",
       "      <td>Diesel</td>\n",
       "      <td>Manual</td>\n",
       "      <td>First</td>\n",
       "      <td>Maruti</td>\n",
       "      <td>Swift</td>\n",
       "      <td>1.5</td>\n",
       "    </tr>\n",
       "    <tr>\n",
       "      <th>freq</th>\n",
       "      <td>790</td>\n",
       "      <td>3205</td>\n",
       "      <td>4299</td>\n",
       "      <td>4929</td>\n",
       "      <td>1211</td>\n",
       "      <td>353</td>\n",
       "      <td>286</td>\n",
       "    </tr>\n",
       "  </tbody>\n",
       "</table>\n",
       "</div>"
      ],
      "text/plain": [
       "       Location Fuel_Type Transmission Owner_Type   Brand Series  Type\n",
       "count      6019      6019         6019       6019    6019   6019  6019\n",
       "unique       11         5            2          4      30    212   339\n",
       "top      Mumbai    Diesel       Manual      First  Maruti  Swift   1.5\n",
       "freq        790      3205         4299       4929    1211    353   286"
      ]
     },
     "execution_count": 31,
     "metadata": {},
     "output_type": "execute_result"
    }
   ],
   "source": [
    "df.describe(include=['object']) "
   ]
  },
  {
   "cell_type": "code",
   "execution_count": 32,
   "metadata": {
    "colab": {
     "base_uri": "https://localhost:8080/",
     "height": 483
    },
    "execution": {
     "iopub.execute_input": "2020-10-15T12:54:13.912389Z",
     "iopub.status.busy": "2020-10-15T12:54:13.911395Z",
     "iopub.status.idle": "2020-10-15T12:54:13.941312Z",
     "shell.execute_reply": "2020-10-15T12:54:13.940315Z",
     "shell.execute_reply.started": "2020-10-15T12:54:13.912389Z"
    },
    "executionInfo": {
     "elapsed": 8268,
     "status": "ok",
     "timestamp": 1602557855907,
     "user": {
      "displayName": "Abdillah Fikri",
      "photoUrl": "",
      "userId": "04470220666512949031"
     },
     "user_tz": -420
    },
    "id": "PMAtruMZZIsX",
    "outputId": "8c07d1b9-8321-47bd-d866-8ff2127b58fc"
   },
   "outputs": [
    {
     "data": {
      "text/html": [
       "<div>\n",
       "<style scoped>\n",
       "    .dataframe tbody tr th:only-of-type {\n",
       "        vertical-align: middle;\n",
       "    }\n",
       "\n",
       "    .dataframe tbody tr th {\n",
       "        vertical-align: top;\n",
       "    }\n",
       "\n",
       "    .dataframe thead th {\n",
       "        text-align: right;\n",
       "    }\n",
       "</style>\n",
       "<table border=\"1\" class=\"dataframe\">\n",
       "  <thead>\n",
       "    <tr style=\"text-align: right;\">\n",
       "      <th></th>\n",
       "      <th>null (sum)</th>\n",
       "      <th>null (%)</th>\n",
       "    </tr>\n",
       "  </thead>\n",
       "  <tbody>\n",
       "    <tr>\n",
       "      <th>Power (bhp)</th>\n",
       "      <td>143</td>\n",
       "      <td>2.38</td>\n",
       "    </tr>\n",
       "    <tr>\n",
       "      <th>Mileage (kmpl)</th>\n",
       "      <td>70</td>\n",
       "      <td>1.16</td>\n",
       "    </tr>\n",
       "    <tr>\n",
       "      <th>Seats</th>\n",
       "      <td>43</td>\n",
       "      <td>0.71</td>\n",
       "    </tr>\n",
       "    <tr>\n",
       "      <th>Engine (CC)</th>\n",
       "      <td>36</td>\n",
       "      <td>0.60</td>\n",
       "    </tr>\n",
       "    <tr>\n",
       "      <th>Location</th>\n",
       "      <td>0</td>\n",
       "      <td>0.00</td>\n",
       "    </tr>\n",
       "    <tr>\n",
       "      <th>Year</th>\n",
       "      <td>0</td>\n",
       "      <td>0.00</td>\n",
       "    </tr>\n",
       "    <tr>\n",
       "      <th>Kilometers_Driven</th>\n",
       "      <td>0</td>\n",
       "      <td>0.00</td>\n",
       "    </tr>\n",
       "    <tr>\n",
       "      <th>Fuel_Type</th>\n",
       "      <td>0</td>\n",
       "      <td>0.00</td>\n",
       "    </tr>\n",
       "    <tr>\n",
       "      <th>Transmission</th>\n",
       "      <td>0</td>\n",
       "      <td>0.00</td>\n",
       "    </tr>\n",
       "    <tr>\n",
       "      <th>Owner_Type</th>\n",
       "      <td>0</td>\n",
       "      <td>0.00</td>\n",
       "    </tr>\n",
       "    <tr>\n",
       "      <th>Price</th>\n",
       "      <td>0</td>\n",
       "      <td>0.00</td>\n",
       "    </tr>\n",
       "    <tr>\n",
       "      <th>Brand</th>\n",
       "      <td>0</td>\n",
       "      <td>0.00</td>\n",
       "    </tr>\n",
       "    <tr>\n",
       "      <th>Series</th>\n",
       "      <td>0</td>\n",
       "      <td>0.00</td>\n",
       "    </tr>\n",
       "    <tr>\n",
       "      <th>Type</th>\n",
       "      <td>0</td>\n",
       "      <td>0.00</td>\n",
       "    </tr>\n",
       "  </tbody>\n",
       "</table>\n",
       "</div>"
      ],
      "text/plain": [
       "                   null (sum)  null (%)\n",
       "Power (bhp)               143      2.38\n",
       "Mileage (kmpl)             70      1.16\n",
       "Seats                      43      0.71\n",
       "Engine (CC)                36      0.60\n",
       "Location                    0      0.00\n",
       "Year                        0      0.00\n",
       "Kilometers_Driven           0      0.00\n",
       "Fuel_Type                   0      0.00\n",
       "Transmission                0      0.00\n",
       "Owner_Type                  0      0.00\n",
       "Price                       0      0.00\n",
       "Brand                       0      0.00\n",
       "Series                      0      0.00\n",
       "Type                        0      0.00"
      ]
     },
     "execution_count": 32,
     "metadata": {},
     "output_type": "execute_result"
    }
   ],
   "source": [
    "explor.null_checker(df)"
   ]
  },
  {
   "cell_type": "code",
   "execution_count": 33,
   "metadata": {
    "cell_id": "00034-a74bd3e4-e566-4425-a0a5-cc1c9af4f640",
    "execution": {
     "iopub.execute_input": "2020-10-15T12:54:13.942312Z",
     "iopub.status.busy": "2020-10-15T12:54:13.942312Z",
     "iopub.status.idle": "2020-10-15T12:54:13.956273Z",
     "shell.execute_reply": "2020-10-15T12:54:13.955275Z",
     "shell.execute_reply.started": "2020-10-15T12:54:13.942312Z"
    },
    "executionInfo": {
     "elapsed": 8266,
     "status": "ok",
     "timestamp": 1602557855908,
     "user": {
      "displayName": "Abdillah Fikri",
      "photoUrl": "",
      "userId": "04470220666512949031"
     },
     "user_tz": -420
    },
    "id": "LbW9gLQVIakg",
    "output_cleared": false,
    "tags": []
   },
   "outputs": [],
   "source": [
    "df.loc[df['Fuel_Type']=='Electric', 'Mileage (kmpl)'] = df.loc[df['Fuel_Type']=='Electric', 'Mileage (kmpl)'].replace(np.nan, 0)"
   ]
  },
  {
   "cell_type": "code",
   "execution_count": 34,
   "metadata": {
    "cell_id": "00035-adb3a37b-199a-4d0e-ba89-ea8c10843673",
    "colab": {
     "base_uri": "https://localhost:8080/",
     "height": 111
    },
    "execution": {
     "iopub.execute_input": "2020-10-15T12:54:13.957271Z",
     "iopub.status.busy": "2020-10-15T12:54:13.957271Z",
     "iopub.status.idle": "2020-10-15T12:54:13.986194Z",
     "shell.execute_reply": "2020-10-15T12:54:13.985196Z",
     "shell.execute_reply.started": "2020-10-15T12:54:13.957271Z"
    },
    "executionInfo": {
     "elapsed": 8251,
     "status": "ok",
     "timestamp": 1602557855908,
     "user": {
      "displayName": "Abdillah Fikri",
      "photoUrl": "",
      "userId": "04470220666512949031"
     },
     "user_tz": -420
    },
    "id": "bKob_zWgIakl",
    "outputId": "baf516c7-97ef-40f1-a137-4a3c21b0e9dc",
    "output_cleared": false,
    "tags": []
   },
   "outputs": [
    {
     "data": {
      "text/html": [
       "<div>\n",
       "<style scoped>\n",
       "    .dataframe tbody tr th:only-of-type {\n",
       "        vertical-align: middle;\n",
       "    }\n",
       "\n",
       "    .dataframe tbody tr th {\n",
       "        vertical-align: top;\n",
       "    }\n",
       "\n",
       "    .dataframe thead th {\n",
       "        text-align: right;\n",
       "    }\n",
       "</style>\n",
       "<table border=\"1\" class=\"dataframe\">\n",
       "  <thead>\n",
       "    <tr style=\"text-align: right;\">\n",
       "      <th></th>\n",
       "      <th>Location</th>\n",
       "      <th>Year</th>\n",
       "      <th>Kilometers_Driven</th>\n",
       "      <th>Fuel_Type</th>\n",
       "      <th>Transmission</th>\n",
       "      <th>Owner_Type</th>\n",
       "      <th>Seats</th>\n",
       "      <th>Price</th>\n",
       "      <th>Brand</th>\n",
       "      <th>Series</th>\n",
       "      <th>Type</th>\n",
       "      <th>Mileage (kmpl)</th>\n",
       "      <th>Engine (CC)</th>\n",
       "      <th>Power (bhp)</th>\n",
       "    </tr>\n",
       "  </thead>\n",
       "  <tbody>\n",
       "    <tr>\n",
       "      <th>4446</th>\n",
       "      <td>Chennai</td>\n",
       "      <td>2016</td>\n",
       "      <td>50000</td>\n",
       "      <td>Electric</td>\n",
       "      <td>Automatic</td>\n",
       "      <td>First</td>\n",
       "      <td>5.0</td>\n",
       "      <td>13.00</td>\n",
       "      <td>Mahindra</td>\n",
       "      <td>E</td>\n",
       "      <td>Verito</td>\n",
       "      <td>0.0</td>\n",
       "      <td>72.0</td>\n",
       "      <td>41.0</td>\n",
       "    </tr>\n",
       "    <tr>\n",
       "      <th>4904</th>\n",
       "      <td>Mumbai</td>\n",
       "      <td>2011</td>\n",
       "      <td>44000</td>\n",
       "      <td>Electric</td>\n",
       "      <td>Automatic</td>\n",
       "      <td>First</td>\n",
       "      <td>5.0</td>\n",
       "      <td>12.75</td>\n",
       "      <td>Toyota</td>\n",
       "      <td>Prius</td>\n",
       "      <td>2009-2016</td>\n",
       "      <td>0.0</td>\n",
       "      <td>1798.0</td>\n",
       "      <td>73.0</td>\n",
       "    </tr>\n",
       "  </tbody>\n",
       "</table>\n",
       "</div>"
      ],
      "text/plain": [
       "     Location  Year  Kilometers_Driven Fuel_Type Transmission Owner_Type  \\\n",
       "4446  Chennai  2016              50000  Electric    Automatic      First   \n",
       "4904   Mumbai  2011              44000  Electric    Automatic      First   \n",
       "\n",
       "      Seats  Price     Brand Series       Type  Mileage (kmpl)  Engine (CC)  \\\n",
       "4446    5.0  13.00  Mahindra      E     Verito             0.0         72.0   \n",
       "4904    5.0  12.75    Toyota  Prius  2009-2016             0.0       1798.0   \n",
       "\n",
       "      Power (bhp)  \n",
       "4446         41.0  \n",
       "4904         73.0  "
      ]
     },
     "execution_count": 34,
     "metadata": {},
     "output_type": "execute_result"
    }
   ],
   "source": [
    "df.loc[df['Fuel_Type']=='Electric']"
   ]
  },
  {
   "cell_type": "markdown",
   "metadata": {
    "id": "g1GS1AAUZIt9"
   },
   "source": [
    "# Preprocessing"
   ]
  },
  {
   "cell_type": "code",
   "execution_count": 35,
   "metadata": {
    "colab": {
     "base_uri": "https://localhost:8080/",
     "height": 34
    },
    "execution": {
     "iopub.execute_input": "2020-10-15T12:54:13.988187Z",
     "iopub.status.busy": "2020-10-15T12:54:13.987190Z",
     "iopub.status.idle": "2020-10-15T12:54:14.002152Z",
     "shell.execute_reply": "2020-10-15T12:54:14.001155Z",
     "shell.execute_reply.started": "2020-10-15T12:54:13.988187Z"
    },
    "executionInfo": {
     "elapsed": 8249,
     "status": "ok",
     "timestamp": 1602557855909,
     "user": {
      "displayName": "Abdillah Fikri",
      "photoUrl": "",
      "userId": "04470220666512949031"
     },
     "user_tz": -420
    },
    "id": "INV8VvOYZItN",
    "outputId": "d4ca600b-dc4f-4db2-fba8-54aa6678f0c0"
   },
   "outputs": [
    {
     "data": {
      "text/plain": [
       "(6018, 14)"
      ]
     },
     "execution_count": 35,
     "metadata": {},
     "output_type": "execute_result"
    }
   ],
   "source": [
    "# Delete outlier\n",
    "df = df[~(df.Kilometers_Driven > 1e6)]\n",
    "df.shape"
   ]
  },
  {
   "cell_type": "markdown",
   "metadata": {
    "id": "yEgVyyNSZIt9"
   },
   "source": [
    "## Train test split"
   ]
  },
  {
   "cell_type": "code",
   "execution_count": 36,
   "metadata": {
    "execution": {
     "iopub.execute_input": "2020-10-15T12:54:14.005145Z",
     "iopub.status.busy": "2020-10-15T12:54:14.004145Z",
     "iopub.status.idle": "2020-10-15T12:54:14.033068Z",
     "shell.execute_reply": "2020-10-15T12:54:14.032071Z",
     "shell.execute_reply.started": "2020-10-15T12:54:14.005145Z"
    },
    "executionInfo": {
     "elapsed": 8232,
     "status": "ok",
     "timestamp": 1602557855911,
     "user": {
      "displayName": "Abdillah Fikri",
      "photoUrl": "",
      "userId": "04470220666512949031"
     },
     "user_tz": -420
    },
    "id": "nPxFt6bSZIt-"
   },
   "outputs": [],
   "source": [
    "# melakukan train test split di awal untuk mencegah data bocor ke test set saat dilakukan encoding/imputation\n",
    "features = df.drop(columns=['Price'])\n",
    "target = df['Price']\n",
    "X_train, X_test, y_train, y_test = train_test_split(features, target, test_size=0.25, random_state=0)"
   ]
  },
  {
   "cell_type": "markdown",
   "metadata": {
    "id": "oxqsMHrKZIuA"
   },
   "source": [
    "## Encoding"
   ]
  },
  {
   "cell_type": "code",
   "execution_count": 37,
   "metadata": {
    "cell_id": "00036-c7e04c20-9ab9-48dc-a699-9e7a06582a8c",
    "colab": {
     "base_uri": "https://localhost:8080/",
     "height": 85
    },
    "execution": {
     "iopub.execute_input": "2020-10-15T12:54:14.034066Z",
     "iopub.status.busy": "2020-10-15T12:54:14.034066Z",
     "iopub.status.idle": "2020-10-15T12:54:14.187654Z",
     "shell.execute_reply": "2020-10-15T12:54:14.186657Z",
     "shell.execute_reply.started": "2020-10-15T12:54:14.034066Z"
    },
    "executionInfo": {
     "elapsed": 1054,
     "status": "ok",
     "timestamp": 1602557861674,
     "user": {
      "displayName": "Abdillah Fikri",
      "photoUrl": "",
      "userId": "04470220666512949031"
     },
     "user_tz": -420
    },
    "id": "_0criLnZIakn",
    "outputId": "766c5c78-5fac-492b-e39c-674c73139932",
    "output_cleared": false,
    "tags": []
   },
   "outputs": [
    {
     "name": "stderr",
     "output_type": "stream",
     "text": [
      "C:\\Users\\Fikri\\anaconda3\\lib\\site-packages\\category_encoders\\utils.py:21: FutureWarning: is_categorical is deprecated and will be removed in a future version.  Use is_categorical_dtype instead\n",
      "  elif pd.api.types.is_categorical(cols):\n"
     ]
    }
   ],
   "source": [
    "# One hot encoding\n",
    "col_to_encode = ['Location', 'Fuel_Type', 'Transmission', 'Owner_Type', 'Brand']\n",
    "oh_encoder = ce.OneHotEncoder(cols=col_to_encode,\n",
    "                              use_cat_names=True)\n",
    "oh_encoder.fit(X_train)\n",
    "\n",
    "# Encoding train set\n",
    "X_train = oh_encoder.transform(X_train)\n",
    "# Encoding test set\n",
    "X_test = oh_encoder.transform(X_test)"
   ]
  },
  {
   "cell_type": "code",
   "execution_count": 38,
   "metadata": {
    "colab": {
     "base_uri": "https://localhost:8080/",
     "height": 85
    },
    "execution": {
     "iopub.execute_input": "2020-10-15T12:54:14.188652Z",
     "iopub.status.busy": "2020-10-15T12:54:14.188652Z",
     "iopub.status.idle": "2020-10-15T12:54:14.267439Z",
     "shell.execute_reply": "2020-10-15T12:54:14.266443Z",
     "shell.execute_reply.started": "2020-10-15T12:54:14.188652Z"
    },
    "executionInfo": {
     "elapsed": 587,
     "status": "ok",
     "timestamp": 1602557861677,
     "user": {
      "displayName": "Abdillah Fikri",
      "photoUrl": "",
      "userId": "04470220666512949031"
     },
     "user_tz": -420
    },
    "id": "kcMLnvJxZIuD",
    "outputId": "ec506ea3-a38a-4b80-9e62-2f3af531162a"
   },
   "outputs": [
    {
     "name": "stderr",
     "output_type": "stream",
     "text": [
      "C:\\Users\\Fikri\\anaconda3\\lib\\site-packages\\category_encoders\\utils.py:21: FutureWarning: is_categorical is deprecated and will be removed in a future version.  Use is_categorical_dtype instead\n",
      "  elif pd.api.types.is_categorical(cols):\n"
     ]
    }
   ],
   "source": [
    "# Target encoding/One hot encoding untuk feature dengan kategori yang banyak\n",
    "col_to_encode = ['Series', 'Type']\n",
    "target_encoder = ce.TargetEncoder(cols=col_to_encode)\n",
    "target_encoder.fit(X_train, y_train)\n",
    "\n",
    "# Encoding train set\n",
    "X_train = target_encoder.transform(X_train)\n",
    "# Encoding test set\n",
    "X_test = target_encoder.transform(X_test)"
   ]
  },
  {
   "cell_type": "markdown",
   "metadata": {
    "id": "6MJs1hK7Iv1N"
   },
   "source": [
    "## Missing Value Imputation"
   ]
  },
  {
   "cell_type": "code",
   "execution_count": 39,
   "metadata": {
    "execution": {
     "iopub.execute_input": "2020-10-15T12:54:14.269434Z",
     "iopub.status.busy": "2020-10-15T12:54:14.269434Z",
     "iopub.status.idle": "2020-10-15T12:54:25.487160Z",
     "shell.execute_reply": "2020-10-15T12:54:25.487160Z",
     "shell.execute_reply.started": "2020-10-15T12:54:14.269434Z"
    },
    "executionInfo": {
     "elapsed": 9747,
     "status": "ok",
     "timestamp": 1602558096090,
     "user": {
      "displayName": "Abdillah Fikri",
      "photoUrl": "",
      "userId": "04470220666512949031"
     },
     "user_tz": -420
    },
    "id": "ccgkETh_Iv1O"
   },
   "outputs": [],
   "source": [
    "# memprediksi nilai missing value dengan algoritma \n",
    "imputer = mf.KernelDataSet(\n",
    "  X_train,\n",
    "  save_all_iterations=True,\n",
    "  random_state=1991,\n",
    "  mean_match_candidates=5\n",
    ")\n",
    "\n",
    "imputer.mice(10)"
   ]
  },
  {
   "cell_type": "code",
   "execution_count": 40,
   "metadata": {
    "execution": {
     "iopub.execute_input": "2020-10-15T12:54:25.487160Z",
     "iopub.status.busy": "2020-10-15T12:54:25.487160Z",
     "iopub.status.idle": "2020-10-15T12:54:25.503631Z",
     "shell.execute_reply": "2020-10-15T12:54:25.502669Z",
     "shell.execute_reply.started": "2020-10-15T12:54:25.487160Z"
    },
    "executionInfo": {
     "elapsed": 769,
     "status": "ok",
     "timestamp": 1602558116061,
     "user": {
      "displayName": "Abdillah Fikri",
      "photoUrl": "",
      "userId": "04470220666512949031"
     },
     "user_tz": -420
    },
    "id": "e_zrbZk6Iv1S",
    "scrolled": true
   },
   "outputs": [],
   "source": [
    "# Train set imputation\n",
    "X_train_full = imputer.complete_data()"
   ]
  },
  {
   "cell_type": "code",
   "execution_count": 41,
   "metadata": {
    "execution": {
     "iopub.execute_input": "2020-10-15T12:54:25.505624Z",
     "iopub.status.busy": "2020-10-15T12:54:25.504627Z",
     "iopub.status.idle": "2020-10-15T12:54:27.936064Z",
     "shell.execute_reply": "2020-10-15T12:54:27.936064Z",
     "shell.execute_reply.started": "2020-10-15T12:54:25.505624Z"
    },
    "executionInfo": {
     "elapsed": 2626,
     "status": "ok",
     "timestamp": 1602558147720,
     "user": {
      "displayName": "Abdillah Fikri",
      "photoUrl": "",
      "userId": "04470220666512949031"
     },
     "user_tz": -420
    },
    "id": "s3TrxVjQIv1Z"
   },
   "outputs": [],
   "source": [
    "# Test set imputation\n",
    "new_data = imputer.impute_new_data(X_test)\n",
    "X_test_full = new_data.complete_data()"
   ]
  },
  {
   "cell_type": "markdown",
   "metadata": {
    "id": "zYZVKzQYIxVx"
   },
   "source": [
    "## Feature Selection"
   ]
  },
  {
   "cell_type": "code",
   "execution_count": 42,
   "metadata": {
    "execution": {
     "iopub.execute_input": "2020-10-15T12:54:27.936064Z",
     "iopub.status.busy": "2020-10-15T12:54:27.936064Z",
     "iopub.status.idle": "2020-10-15T12:54:28.031986Z",
     "shell.execute_reply": "2020-10-15T12:54:28.030987Z",
     "shell.execute_reply.started": "2020-10-15T12:54:27.936064Z"
    },
    "executionInfo": {
     "elapsed": 974,
     "status": "ok",
     "timestamp": 1602558988123,
     "user": {
      "displayName": "Abdillah Fikri",
      "photoUrl": "",
      "userId": "04470220666512949031"
     },
     "user_tz": -420
    },
    "id": "5RY-BaL8IxVy"
   },
   "outputs": [],
   "source": [
    "# Memfilter feature dengan korelasi tinggi\n",
    "corr_price = X_train.join(y_train).corr()['Price']\n",
    "index = corr_price[(corr_price < -0.20) | (corr_price > 0.20)].index\n",
    "\n",
    "X_train_full =  X_train_full[index[:-1]]\n",
    "X_test_full = X_test_full[index[:-1]]"
   ]
  },
  {
   "cell_type": "markdown",
   "metadata": {
    "id": "wV2sjkqEZIup"
   },
   "source": [
    "# Modeling"
   ]
  },
  {
   "cell_type": "markdown",
   "metadata": {
    "id": "4g_nWqotKl6_"
   },
   "source": [
    "## Functions"
   ]
  },
  {
   "cell_type": "code",
   "execution_count": 43,
   "metadata": {
    "execution": {
     "iopub.execute_input": "2020-10-15T12:54:28.032983Z",
     "iopub.status.busy": "2020-10-15T12:54:28.032983Z",
     "iopub.status.idle": "2020-10-15T12:54:28.047942Z",
     "shell.execute_reply": "2020-10-15T12:54:28.046978Z",
     "shell.execute_reply.started": "2020-10-15T12:54:28.032983Z"
    },
    "executionInfo": {
     "elapsed": 1009,
     "status": "ok",
     "timestamp": 1602559132744,
     "user": {
      "displayName": "Abdillah Fikri",
      "photoUrl": "",
      "userId": "04470220666512949031"
     },
     "user_tz": -420
    },
    "id": "Qp4QHIuFZIuq"
   },
   "outputs": [],
   "source": [
    "def get_cv_score(models, X_train, y_train):\n",
    "    \n",
    "    cv = KFold(n_splits=5, shuffle=True, random_state=0)\n",
    "    summary = []\n",
    "    for label, model in models.items():\n",
    "        cv_results = cross_validate(model, X_train, y_train, cv=cv, \n",
    "                                    scoring=['r2',\n",
    "                                             'neg_root_mean_squared_error',\n",
    "                                             'neg_mean_absolute_error'])\n",
    "        \n",
    "        temp = pd.DataFrame(cv_results).copy()\n",
    "        temp['Model'] = label\n",
    "        summary.append(temp)\n",
    "    \n",
    "    summary = pd.concat(summary)\n",
    "    summary = summary.groupby('Model').mean()\n",
    "    \n",
    "    summary.drop(columns=['fit_time', 'score_time'], inplace=True)\n",
    "    summary.columns = ['CV R2', 'CV RMSE', 'CV MAE']\n",
    "    summary[['CV RMSE', 'CV MAE']] = summary[['CV RMSE', 'CV MAE']] * -1\n",
    "    \n",
    "    return summary"
   ]
  },
  {
   "cell_type": "code",
   "execution_count": 44,
   "metadata": {
    "execution": {
     "iopub.execute_input": "2020-10-15T12:54:28.049965Z",
     "iopub.status.busy": "2020-10-15T12:54:28.048938Z",
     "iopub.status.idle": "2020-10-15T12:54:28.063899Z",
     "shell.execute_reply": "2020-10-15T12:54:28.061903Z",
     "shell.execute_reply.started": "2020-10-15T12:54:28.049965Z"
    },
    "executionInfo": {
     "elapsed": 806,
     "status": "ok",
     "timestamp": 1602559132746,
     "user": {
      "displayName": "Abdillah Fikri",
      "photoUrl": "",
      "userId": "04470220666512949031"
     },
     "user_tz": -420
    },
    "id": "BXEr8F5VZIu0"
   },
   "outputs": [],
   "source": [
    "def evaluate_model(models, X_train, X_test, y_train, y_test):\n",
    "\n",
    "    summary = {'Model':[], 'Train R2':[], 'Train RMSE':[], 'Train MAE':[],\n",
    "               'Test R2':[], 'Test RMSE':[], 'Test MAE':[]}\n",
    "\n",
    "    for label, model in models.items():\n",
    "        model.fit(X_train, y_train)\n",
    "\n",
    "        y_train_pred = model.predict(X_train)\n",
    "        y_test_pred = model.predict(X_test)\n",
    "\n",
    "        summary['Model'].append(label)\n",
    "\n",
    "        summary['Train R2'].append(\n",
    "            metrics.r2_score(y_train, y_train_pred))\n",
    "        summary['Train RMSE'].append(\n",
    "            np.sqrt(metrics.mean_squared_error(y_train, y_train_pred)))\n",
    "        summary['Train MAE'].append(\n",
    "            metrics.mean_absolute_error(y_train, y_train_pred))\n",
    "\n",
    "        summary['Test R2'].append(\n",
    "            metrics.r2_score(y_test, y_test_pred))\n",
    "        summary['Test RMSE'].append(\n",
    "            np.sqrt(metrics.mean_squared_error(y_test, y_test_pred)))\n",
    "        summary['Test MAE'].append(\n",
    "            metrics.mean_absolute_error(y_test, y_test_pred))\n",
    "    \n",
    "    summary = pd.DataFrame(summary)\n",
    "    summary.set_index('Model', inplace=True)\n",
    "\n",
    "    cv_scores = get_cv_score(models, X_train, y_train)\n",
    "    summary = summary.join(cv_scores)\n",
    "    summary = summary[['Train R2', 'CV R2', 'Test R2',\n",
    "                       'Train RMSE', 'CV RMSE', 'Test RMSE',\n",
    "                       'Train MAE', 'CV MAE', 'Test MAE']]\n",
    "    \n",
    "    return round(summary.sort_values(by='Test RMSE'), 4)"
   ]
  },
  {
   "cell_type": "markdown",
   "metadata": {
    "id": "aR4Sp3UCZIu2"
   },
   "source": [
    "## Base Model"
   ]
  },
  {
   "cell_type": "code",
   "execution_count": 45,
   "metadata": {
    "execution": {
     "iopub.execute_input": "2020-10-15T12:54:28.065895Z",
     "iopub.status.busy": "2020-10-15T12:54:28.065895Z",
     "iopub.status.idle": "2020-10-15T12:54:28.079856Z",
     "shell.execute_reply": "2020-10-15T12:54:28.077864Z",
     "shell.execute_reply.started": "2020-10-15T12:54:28.065895Z"
    },
    "executionInfo": {
     "elapsed": 678,
     "status": "ok",
     "timestamp": 1602559134050,
     "user": {
      "displayName": "Abdillah Fikri",
      "photoUrl": "",
      "userId": "04470220666512949031"
     },
     "user_tz": -420
    },
    "id": "Oux2OxeDZIu2"
   },
   "outputs": [],
   "source": [
    "tree_model = DecisionTreeRegressor()\n",
    "rf_model = RandomForestRegressor()\n",
    "xgb_model = XGBRegressor(objective='reg:squarederror')\n",
    "lgb_model = LGBMRegressor()\n",
    "cat_model = CatBoostRegressor(silent=True)\n",
    "lr_model = LinearRegression()\n",
    "lasso_model = Lasso()\n",
    "\n",
    "models = {'DecisionTreeRegressor' : tree_model,\n",
    "          'RandomForestRegressor' : rf_model,\n",
    "          'XGBRegressor' : xgb_model,\n",
    "          'CatBoostRegressor' : cat_model,\n",
    "          'LGBMRegressor' : lgb_model,\n",
    "          'LinearRegression': lr_model,\n",
    "          'LassoRegression': lasso_model}"
   ]
  },
  {
   "cell_type": "markdown",
   "metadata": {
    "id": "kCSEOF35MoSB"
   },
   "source": [
    "### Unscaled dataset"
   ]
  },
  {
   "cell_type": "code",
   "execution_count": 46,
   "metadata": {
    "colab": {
     "base_uri": "https://localhost:8080/",
     "height": 297
    },
    "execution": {
     "iopub.execute_input": "2020-10-15T12:54:28.081881Z",
     "iopub.status.busy": "2020-10-15T12:54:28.080854Z",
     "iopub.status.idle": "2020-10-15T12:55:11.188310Z",
     "shell.execute_reply": "2020-10-15T12:55:11.187312Z",
     "shell.execute_reply.started": "2020-10-15T12:54:28.081881Z"
    },
    "executionInfo": {
     "elapsed": 30383,
     "status": "ok",
     "timestamp": 1602559165523,
     "user": {
      "displayName": "Abdillah Fikri",
      "photoUrl": "",
      "userId": "04470220666512949031"
     },
     "user_tz": -420
    },
    "id": "DgfsmUm-HqGG",
    "outputId": "857f512d-6910-4625-e01b-c6b587a9094c"
   },
   "outputs": [],
   "source": [
    "# evaluasi model memakai function\n",
    "unscaled = evaluate_model(models, X_train_full, X_test_full, y_train, y_test)"
   ]
  },
  {
   "cell_type": "markdown",
   "metadata": {
    "id": "AodaQJBNMtob"
   },
   "source": [
    "### Scaled dataset"
   ]
  },
  {
   "cell_type": "code",
   "execution_count": 47,
   "metadata": {
    "execution": {
     "iopub.execute_input": "2020-10-15T12:55:11.191302Z",
     "iopub.status.busy": "2020-10-15T12:55:11.190305Z",
     "iopub.status.idle": "2020-10-15T12:55:11.236183Z",
     "shell.execute_reply": "2020-10-15T12:55:11.235184Z",
     "shell.execute_reply.started": "2020-10-15T12:55:11.191302Z"
    },
    "executionInfo": {
     "elapsed": 25276,
     "status": "ok",
     "timestamp": 1602559165525,
     "user": {
      "displayName": "Abdillah Fikri",
      "photoUrl": "",
      "userId": "04470220666512949031"
     },
     "user_tz": -420
    },
    "id": "2lQZQbORMwYB"
   },
   "outputs": [],
   "source": [
    "# Scaling data\n",
    "from sklearn.preprocessing import RobustScaler\n",
    "\n",
    "scaler = RobustScaler()\n",
    "scaler.fit(X_train_full)\n",
    "X_train_full_scaled = scaler.transform(X_train_full)\n",
    "X_test_full_scaled = scaler.transform(X_test_full)"
   ]
  },
  {
   "cell_type": "code",
   "execution_count": 48,
   "metadata": {
    "colab": {
     "base_uri": "https://localhost:8080/",
     "height": 297
    },
    "execution": {
     "iopub.execute_input": "2020-10-15T12:55:11.239174Z",
     "iopub.status.busy": "2020-10-15T12:55:11.238177Z",
     "iopub.status.idle": "2020-10-15T12:55:54.767071Z",
     "shell.execute_reply": "2020-10-15T12:55:54.767071Z",
     "shell.execute_reply.started": "2020-10-15T12:55:11.239174Z"
    },
    "executionInfo": {
     "elapsed": 54513,
     "status": "ok",
     "timestamp": 1602559195270,
     "user": {
      "displayName": "Abdillah Fikri",
      "photoUrl": "",
      "userId": "04470220666512949031"
     },
     "user_tz": -420
    },
    "id": "58C87fQHNRII",
    "outputId": "06962bd1-1bb2-4c3e-bd1c-74e71a1d0ed5"
   },
   "outputs": [],
   "source": [
    "# evaluasi model memakai function\n",
    "scaled = evaluate_model(models, X_train_full_scaled, X_test_full_scaled, y_train, y_test)"
   ]
  },
  {
   "cell_type": "markdown",
   "metadata": {
    "id": "bg_vcQxLLg0n"
   },
   "source": [
    "### Summarizing"
   ]
  },
  {
   "cell_type": "code",
   "execution_count": 49,
   "metadata": {
    "execution": {
     "iopub.execute_input": "2020-10-15T12:55:54.771050Z",
     "iopub.status.busy": "2020-10-15T12:55:54.770053Z",
     "iopub.status.idle": "2020-10-15T12:55:54.784016Z",
     "shell.execute_reply": "2020-10-15T12:55:54.783018Z",
     "shell.execute_reply.started": "2020-10-15T12:55:54.771050Z"
    }
   },
   "outputs": [],
   "source": [
    "unscaled['Dataset Version'] = 'imputed + selected + unscaled'\n",
    "scaled['Dataset Version'] = 'imputed + selected + scaled'"
   ]
  },
  {
   "cell_type": "code",
   "execution_count": 50,
   "metadata": {
    "execution": {
     "iopub.execute_input": "2020-10-15T12:55:54.786011Z",
     "iopub.status.busy": "2020-10-15T12:55:54.786011Z",
     "iopub.status.idle": "2020-10-15T12:55:54.831887Z",
     "shell.execute_reply": "2020-10-15T12:55:54.830889Z",
     "shell.execute_reply.started": "2020-10-15T12:55:54.786011Z"
    }
   },
   "outputs": [
    {
     "data": {
      "text/html": [
       "<div>\n",
       "<style scoped>\n",
       "    .dataframe tbody tr th:only-of-type {\n",
       "        vertical-align: middle;\n",
       "    }\n",
       "\n",
       "    .dataframe tbody tr th {\n",
       "        vertical-align: top;\n",
       "    }\n",
       "\n",
       "    .dataframe thead th {\n",
       "        text-align: right;\n",
       "    }\n",
       "</style>\n",
       "<table border=\"1\" class=\"dataframe\">\n",
       "  <thead>\n",
       "    <tr style=\"text-align: right;\">\n",
       "      <th></th>\n",
       "      <th>Train R2</th>\n",
       "      <th>CV R2</th>\n",
       "      <th>Test R2</th>\n",
       "      <th>Train RMSE</th>\n",
       "      <th>CV RMSE</th>\n",
       "      <th>Test RMSE</th>\n",
       "      <th>Train MAE</th>\n",
       "      <th>CV MAE</th>\n",
       "      <th>Test MAE</th>\n",
       "      <th>Dataset Version</th>\n",
       "    </tr>\n",
       "    <tr>\n",
       "      <th>Model</th>\n",
       "      <th></th>\n",
       "      <th></th>\n",
       "      <th></th>\n",
       "      <th></th>\n",
       "      <th></th>\n",
       "      <th></th>\n",
       "      <th></th>\n",
       "      <th></th>\n",
       "      <th></th>\n",
       "      <th></th>\n",
       "    </tr>\n",
       "  </thead>\n",
       "  <tbody>\n",
       "    <tr>\n",
       "      <th>CatBoostRegressor</th>\n",
       "      <td>0.9808</td>\n",
       "      <td>0.9064</td>\n",
       "      <td>0.9075</td>\n",
       "      <td>1.5367</td>\n",
       "      <td>3.3863</td>\n",
       "      <td>3.4717</td>\n",
       "      <td>0.9668</td>\n",
       "      <td>1.4603</td>\n",
       "      <td>1.4506</td>\n",
       "      <td>imputed + selected + unscaled</td>\n",
       "    </tr>\n",
       "    <tr>\n",
       "      <th>LGBMRegressor</th>\n",
       "      <td>0.9561</td>\n",
       "      <td>0.9050</td>\n",
       "      <td>0.9024</td>\n",
       "      <td>2.3213</td>\n",
       "      <td>3.4087</td>\n",
       "      <td>3.5672</td>\n",
       "      <td>1.1265</td>\n",
       "      <td>1.4891</td>\n",
       "      <td>1.5095</td>\n",
       "      <td>imputed + selected + unscaled</td>\n",
       "    </tr>\n",
       "    <tr>\n",
       "      <th>RandomForestRegressor</th>\n",
       "      <td>0.9800</td>\n",
       "      <td>0.9023</td>\n",
       "      <td>0.8977</td>\n",
       "      <td>1.5686</td>\n",
       "      <td>3.4581</td>\n",
       "      <td>3.6503</td>\n",
       "      <td>0.7783</td>\n",
       "      <td>1.5027</td>\n",
       "      <td>1.5460</td>\n",
       "      <td>imputed + selected + unscaled</td>\n",
       "    </tr>\n",
       "    <tr>\n",
       "      <th>DecisionTreeRegressor</th>\n",
       "      <td>0.9907</td>\n",
       "      <td>0.8204</td>\n",
       "      <td>0.8817</td>\n",
       "      <td>1.0687</td>\n",
       "      <td>4.6699</td>\n",
       "      <td>3.9258</td>\n",
       "      <td>0.4730</td>\n",
       "      <td>1.8500</td>\n",
       "      <td>1.7971</td>\n",
       "      <td>imputed + selected + unscaled</td>\n",
       "    </tr>\n",
       "    <tr>\n",
       "      <th>XGBRegressor</th>\n",
       "      <td>0.9875</td>\n",
       "      <td>0.8871</td>\n",
       "      <td>0.8747</td>\n",
       "      <td>1.2366</td>\n",
       "      <td>3.7042</td>\n",
       "      <td>4.0404</td>\n",
       "      <td>0.7449</td>\n",
       "      <td>1.5277</td>\n",
       "      <td>1.5738</td>\n",
       "      <td>imputed + selected + unscaled</td>\n",
       "    </tr>\n",
       "    <tr>\n",
       "      <th>LassoRegression</th>\n",
       "      <td>0.7917</td>\n",
       "      <td>0.7904</td>\n",
       "      <td>0.7763</td>\n",
       "      <td>5.0571</td>\n",
       "      <td>5.0633</td>\n",
       "      <td>5.3994</td>\n",
       "      <td>2.6957</td>\n",
       "      <td>2.7100</td>\n",
       "      <td>2.8720</td>\n",
       "      <td>imputed + selected + unscaled</td>\n",
       "    </tr>\n",
       "    <tr>\n",
       "      <th>LinearRegression</th>\n",
       "      <td>0.7998</td>\n",
       "      <td>0.7952</td>\n",
       "      <td>0.7685</td>\n",
       "      <td>4.9580</td>\n",
       "      <td>5.0039</td>\n",
       "      <td>5.4925</td>\n",
       "      <td>2.7229</td>\n",
       "      <td>2.7455</td>\n",
       "      <td>2.9064</td>\n",
       "      <td>imputed + selected + unscaled</td>\n",
       "    </tr>\n",
       "    <tr>\n",
       "      <th>CatBoostRegressor</th>\n",
       "      <td>0.9808</td>\n",
       "      <td>0.9064</td>\n",
       "      <td>0.9075</td>\n",
       "      <td>1.5367</td>\n",
       "      <td>3.3863</td>\n",
       "      <td>3.4717</td>\n",
       "      <td>0.9668</td>\n",
       "      <td>1.4603</td>\n",
       "      <td>1.4506</td>\n",
       "      <td>imputed + selected + scaled</td>\n",
       "    </tr>\n",
       "    <tr>\n",
       "      <th>LGBMRegressor</th>\n",
       "      <td>0.9558</td>\n",
       "      <td>0.9059</td>\n",
       "      <td>0.9034</td>\n",
       "      <td>2.3299</td>\n",
       "      <td>3.3926</td>\n",
       "      <td>3.5472</td>\n",
       "      <td>1.1294</td>\n",
       "      <td>1.4847</td>\n",
       "      <td>1.4967</td>\n",
       "      <td>imputed + selected + scaled</td>\n",
       "    </tr>\n",
       "    <tr>\n",
       "      <th>RandomForestRegressor</th>\n",
       "      <td>0.9795</td>\n",
       "      <td>0.9024</td>\n",
       "      <td>0.8923</td>\n",
       "      <td>1.5860</td>\n",
       "      <td>3.4560</td>\n",
       "      <td>3.7459</td>\n",
       "      <td>0.7790</td>\n",
       "      <td>1.5106</td>\n",
       "      <td>1.5612</td>\n",
       "      <td>imputed + selected + scaled</td>\n",
       "    </tr>\n",
       "    <tr>\n",
       "      <th>XGBRegressor</th>\n",
       "      <td>0.9875</td>\n",
       "      <td>0.8871</td>\n",
       "      <td>0.8747</td>\n",
       "      <td>1.2366</td>\n",
       "      <td>3.7046</td>\n",
       "      <td>4.0405</td>\n",
       "      <td>0.7449</td>\n",
       "      <td>1.5284</td>\n",
       "      <td>1.5738</td>\n",
       "      <td>imputed + selected + scaled</td>\n",
       "    </tr>\n",
       "    <tr>\n",
       "      <th>DecisionTreeRegressor</th>\n",
       "      <td>0.9907</td>\n",
       "      <td>0.8357</td>\n",
       "      <td>0.8692</td>\n",
       "      <td>1.0687</td>\n",
       "      <td>4.4683</td>\n",
       "      <td>4.1281</td>\n",
       "      <td>0.4730</td>\n",
       "      <td>1.8070</td>\n",
       "      <td>1.8247</td>\n",
       "      <td>imputed + selected + scaled</td>\n",
       "    </tr>\n",
       "    <tr>\n",
       "      <th>LinearRegression</th>\n",
       "      <td>0.7998</td>\n",
       "      <td>0.7952</td>\n",
       "      <td>0.7685</td>\n",
       "      <td>4.9580</td>\n",
       "      <td>5.0039</td>\n",
       "      <td>5.4925</td>\n",
       "      <td>2.7229</td>\n",
       "      <td>2.7455</td>\n",
       "      <td>2.9064</td>\n",
       "      <td>imputed + selected + scaled</td>\n",
       "    </tr>\n",
       "    <tr>\n",
       "      <th>LassoRegression</th>\n",
       "      <td>0.7572</td>\n",
       "      <td>0.7547</td>\n",
       "      <td>0.7275</td>\n",
       "      <td>5.4600</td>\n",
       "      <td>5.4751</td>\n",
       "      <td>5.9591</td>\n",
       "      <td>2.5936</td>\n",
       "      <td>2.6119</td>\n",
       "      <td>2.8533</td>\n",
       "      <td>imputed + selected + scaled</td>\n",
       "    </tr>\n",
       "  </tbody>\n",
       "</table>\n",
       "</div>"
      ],
      "text/plain": [
       "                       Train R2   CV R2  Test R2  Train RMSE  CV RMSE  \\\n",
       "Model                                                                   \n",
       "CatBoostRegressor        0.9808  0.9064   0.9075      1.5367   3.3863   \n",
       "LGBMRegressor            0.9561  0.9050   0.9024      2.3213   3.4087   \n",
       "RandomForestRegressor    0.9800  0.9023   0.8977      1.5686   3.4581   \n",
       "DecisionTreeRegressor    0.9907  0.8204   0.8817      1.0687   4.6699   \n",
       "XGBRegressor             0.9875  0.8871   0.8747      1.2366   3.7042   \n",
       "LassoRegression          0.7917  0.7904   0.7763      5.0571   5.0633   \n",
       "LinearRegression         0.7998  0.7952   0.7685      4.9580   5.0039   \n",
       "CatBoostRegressor        0.9808  0.9064   0.9075      1.5367   3.3863   \n",
       "LGBMRegressor            0.9558  0.9059   0.9034      2.3299   3.3926   \n",
       "RandomForestRegressor    0.9795  0.9024   0.8923      1.5860   3.4560   \n",
       "XGBRegressor             0.9875  0.8871   0.8747      1.2366   3.7046   \n",
       "DecisionTreeRegressor    0.9907  0.8357   0.8692      1.0687   4.4683   \n",
       "LinearRegression         0.7998  0.7952   0.7685      4.9580   5.0039   \n",
       "LassoRegression          0.7572  0.7547   0.7275      5.4600   5.4751   \n",
       "\n",
       "                       Test RMSE  Train MAE  CV MAE  Test MAE  \\\n",
       "Model                                                           \n",
       "CatBoostRegressor         3.4717     0.9668  1.4603    1.4506   \n",
       "LGBMRegressor             3.5672     1.1265  1.4891    1.5095   \n",
       "RandomForestRegressor     3.6503     0.7783  1.5027    1.5460   \n",
       "DecisionTreeRegressor     3.9258     0.4730  1.8500    1.7971   \n",
       "XGBRegressor              4.0404     0.7449  1.5277    1.5738   \n",
       "LassoRegression           5.3994     2.6957  2.7100    2.8720   \n",
       "LinearRegression          5.4925     2.7229  2.7455    2.9064   \n",
       "CatBoostRegressor         3.4717     0.9668  1.4603    1.4506   \n",
       "LGBMRegressor             3.5472     1.1294  1.4847    1.4967   \n",
       "RandomForestRegressor     3.7459     0.7790  1.5106    1.5612   \n",
       "XGBRegressor              4.0405     0.7449  1.5284    1.5738   \n",
       "DecisionTreeRegressor     4.1281     0.4730  1.8070    1.8247   \n",
       "LinearRegression          5.4925     2.7229  2.7455    2.9064   \n",
       "LassoRegression           5.9591     2.5936  2.6119    2.8533   \n",
       "\n",
       "                                     Dataset Version  \n",
       "Model                                                 \n",
       "CatBoostRegressor      imputed + selected + unscaled  \n",
       "LGBMRegressor          imputed + selected + unscaled  \n",
       "RandomForestRegressor  imputed + selected + unscaled  \n",
       "DecisionTreeRegressor  imputed + selected + unscaled  \n",
       "XGBRegressor           imputed + selected + unscaled  \n",
       "LassoRegression        imputed + selected + unscaled  \n",
       "LinearRegression       imputed + selected + unscaled  \n",
       "CatBoostRegressor        imputed + selected + scaled  \n",
       "LGBMRegressor            imputed + selected + scaled  \n",
       "RandomForestRegressor    imputed + selected + scaled  \n",
       "XGBRegressor             imputed + selected + scaled  \n",
       "DecisionTreeRegressor    imputed + selected + scaled  \n",
       "LinearRegression         imputed + selected + scaled  \n",
       "LassoRegression          imputed + selected + scaled  "
      ]
     },
     "execution_count": 50,
     "metadata": {},
     "output_type": "execute_result"
    }
   ],
   "source": [
    "imputed_selected = pd.concat([unscaled, scaled], axis=0)\n",
    "imputed_selected"
   ]
  },
  {
   "cell_type": "code",
   "execution_count": 51,
   "metadata": {
    "execution": {
     "iopub.execute_input": "2020-10-15T12:55:54.834878Z",
     "iopub.status.busy": "2020-10-15T12:55:54.833882Z",
     "iopub.status.idle": "2020-10-15T12:55:54.847844Z",
     "shell.execute_reply": "2020-10-15T12:55:54.846847Z",
     "shell.execute_reply.started": "2020-10-15T12:55:54.834878Z"
    }
   },
   "outputs": [],
   "source": [
    "imputed_selected.to_csv('imputed_selected.csv')"
   ]
  }
 ],
 "metadata": {
  "colab": {
   "collapsed_sections": [],
   "name": "Modeling_imputed_selected_features.ipynb",
   "provenance": [
    {
     "file_id": "1NgCHIKsxmWD4jCur1sU6c3ASdRZ-PE99",
     "timestamp": 1602317956566
    }
   ],
   "toc_visible": true
  },
  "deepnote_execution_queue": [],
  "deepnote_notebook_id": "7e6ba86d-f2b0-4a20-b936-811e696ed5ab",
  "jupytext": {
   "formats": "notebooks//ipynb,markdown//md,scripts//py:percent"
  },
  "kernelspec": {
   "display_name": "Python 3",
   "language": "python",
   "name": "python3"
  },
  "language_info": {
   "codemirror_mode": {
    "name": "ipython",
    "version": 3
   },
   "file_extension": ".py",
   "mimetype": "text/x-python",
   "name": "python",
   "nbconvert_exporter": "python",
   "pygments_lexer": "ipython3",
   "version": "3.8.5"
  },
  "toc-autonumbering": true,
  "toc-showcode": false,
  "toc-showmarkdowntxt": false,
  "toc-showtags": false
 },
 "nbformat": 4,
 "nbformat_minor": 4
}
