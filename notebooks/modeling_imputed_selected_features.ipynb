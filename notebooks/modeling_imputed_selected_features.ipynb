{
 "cells": [
  {
   "cell_type": "markdown",
   "metadata": {
    "id": "IN1jfOnfZIqT"
   },
   "source": [
    "# Data Importing"
   ]
  },
  {
   "cell_type": "code",
   "execution_count": 1,
   "metadata": {},
   "outputs": [],
   "source": [
    "import pandas as pd\n",
    "import numpy as np\n",
    "import category_encoders as ce\n",
    "import miceforest as mf\n",
    "import optuna\n",
    "import lightgbm as lgb\n",
    "import xgboost as xgb\n",
    "\n",
    "from utils import *\n",
    "from sklearn.model_selection import train_test_split, cross_val_score, cross_validate, KFold\n",
    "from sklearn.tree import DecisionTreeRegressor\n",
    "from xgboost import XGBRegressor\n",
    "from lightgbm import LGBMRegressor\n",
    "from catboost import CatBoostRegressor\n",
    "from sklearn.ensemble import RandomForestRegressor\n",
    "from sklearn.linear_model import LinearRegression, Lasso\n",
    "from sklearn import metrics\n",
    "from sklearn.impute import SimpleImputer"
   ]
  },
  {
   "cell_type": "code",
   "execution_count": 2,
   "metadata": {},
   "outputs": [
    {
     "data": {
      "text/html": [
       "<div>\n",
       "<style scoped>\n",
       "    .dataframe tbody tr th:only-of-type {\n",
       "        vertical-align: middle;\n",
       "    }\n",
       "\n",
       "    .dataframe tbody tr th {\n",
       "        vertical-align: top;\n",
       "    }\n",
       "\n",
       "    .dataframe thead th {\n",
       "        text-align: right;\n",
       "    }\n",
       "</style>\n",
       "<table border=\"1\" class=\"dataframe\">\n",
       "  <thead>\n",
       "    <tr style=\"text-align: right;\">\n",
       "      <th></th>\n",
       "      <th>Location</th>\n",
       "      <th>Year</th>\n",
       "      <th>Kilometers_Driven</th>\n",
       "      <th>Fuel_Type</th>\n",
       "      <th>Transmission</th>\n",
       "      <th>Owner_Type</th>\n",
       "      <th>Seats</th>\n",
       "      <th>Price</th>\n",
       "      <th>Brand</th>\n",
       "      <th>Series</th>\n",
       "      <th>Type</th>\n",
       "      <th>Mileage (kmpl)</th>\n",
       "      <th>Engine (CC)</th>\n",
       "      <th>Power (bhp)</th>\n",
       "    </tr>\n",
       "  </thead>\n",
       "  <tbody>\n",
       "    <tr>\n",
       "      <th>0</th>\n",
       "      <td>Mumbai</td>\n",
       "      <td>2010</td>\n",
       "      <td>72000</td>\n",
       "      <td>CNG</td>\n",
       "      <td>Manual</td>\n",
       "      <td>First</td>\n",
       "      <td>5.0</td>\n",
       "      <td>1.75</td>\n",
       "      <td>Maruti</td>\n",
       "      <td>Wagon</td>\n",
       "      <td>R</td>\n",
       "      <td>26.60</td>\n",
       "      <td>998.0</td>\n",
       "      <td>58.16</td>\n",
       "    </tr>\n",
       "    <tr>\n",
       "      <th>1</th>\n",
       "      <td>Pune</td>\n",
       "      <td>2015</td>\n",
       "      <td>41000</td>\n",
       "      <td>Diesel</td>\n",
       "      <td>Manual</td>\n",
       "      <td>First</td>\n",
       "      <td>5.0</td>\n",
       "      <td>12.50</td>\n",
       "      <td>Hyundai</td>\n",
       "      <td>Creta</td>\n",
       "      <td>1.6</td>\n",
       "      <td>19.67</td>\n",
       "      <td>1582.0</td>\n",
       "      <td>126.20</td>\n",
       "    </tr>\n",
       "    <tr>\n",
       "      <th>2</th>\n",
       "      <td>Chennai</td>\n",
       "      <td>2011</td>\n",
       "      <td>46000</td>\n",
       "      <td>Petrol</td>\n",
       "      <td>Manual</td>\n",
       "      <td>First</td>\n",
       "      <td>5.0</td>\n",
       "      <td>4.50</td>\n",
       "      <td>Honda</td>\n",
       "      <td>Jazz</td>\n",
       "      <td>V</td>\n",
       "      <td>18.20</td>\n",
       "      <td>1199.0</td>\n",
       "      <td>88.70</td>\n",
       "    </tr>\n",
       "    <tr>\n",
       "      <th>3</th>\n",
       "      <td>Chennai</td>\n",
       "      <td>2012</td>\n",
       "      <td>87000</td>\n",
       "      <td>Diesel</td>\n",
       "      <td>Manual</td>\n",
       "      <td>First</td>\n",
       "      <td>7.0</td>\n",
       "      <td>6.00</td>\n",
       "      <td>Maruti</td>\n",
       "      <td>Ertiga</td>\n",
       "      <td>VDI</td>\n",
       "      <td>20.77</td>\n",
       "      <td>1248.0</td>\n",
       "      <td>88.76</td>\n",
       "    </tr>\n",
       "    <tr>\n",
       "      <th>4</th>\n",
       "      <td>Coimbatore</td>\n",
       "      <td>2013</td>\n",
       "      <td>40670</td>\n",
       "      <td>Diesel</td>\n",
       "      <td>Automatic</td>\n",
       "      <td>Second</td>\n",
       "      <td>5.0</td>\n",
       "      <td>17.74</td>\n",
       "      <td>Audi</td>\n",
       "      <td>A4</td>\n",
       "      <td>New</td>\n",
       "      <td>15.20</td>\n",
       "      <td>1968.0</td>\n",
       "      <td>140.80</td>\n",
       "    </tr>\n",
       "  </tbody>\n",
       "</table>\n",
       "</div>"
      ],
      "text/plain": [
       "     Location  Year  Kilometers_Driven Fuel_Type Transmission Owner_Type  \\\n",
       "0      Mumbai  2010              72000       CNG       Manual      First   \n",
       "1        Pune  2015              41000    Diesel       Manual      First   \n",
       "2     Chennai  2011              46000    Petrol       Manual      First   \n",
       "3     Chennai  2012              87000    Diesel       Manual      First   \n",
       "4  Coimbatore  2013              40670    Diesel    Automatic     Second   \n",
       "\n",
       "   Seats  Price    Brand  Series Type  Mileage (kmpl)  Engine (CC)  \\\n",
       "0    5.0   1.75   Maruti   Wagon    R           26.60        998.0   \n",
       "1    5.0  12.50  Hyundai   Creta  1.6           19.67       1582.0   \n",
       "2    5.0   4.50    Honda    Jazz    V           18.20       1199.0   \n",
       "3    7.0   6.00   Maruti  Ertiga  VDI           20.77       1248.0   \n",
       "4    5.0  17.74     Audi      A4  New           15.20       1968.0   \n",
       "\n",
       "   Power (bhp)  \n",
       "0        58.16  \n",
       "1       126.20  \n",
       "2        88.70  \n",
       "3        88.76  \n",
       "4       140.80  "
      ]
     },
     "execution_count": 2,
     "metadata": {},
     "output_type": "execute_result"
    }
   ],
   "source": [
    "df = pd.read_csv('../data/processed/after_prep.csv')\n",
    "df.head()"
   ]
  },
  {
   "cell_type": "code",
   "execution_count": 3,
   "metadata": {},
   "outputs": [
    {
     "name": "stdout",
     "output_type": "stream",
     "text": [
      "<class 'pandas.core.frame.DataFrame'>\n",
      "RangeIndex: 6019 entries, 0 to 6018\n",
      "Data columns (total 14 columns):\n",
      " #   Column             Non-Null Count  Dtype  \n",
      "---  ------             --------------  -----  \n",
      " 0   Location           6019 non-null   object \n",
      " 1   Year               6019 non-null   int64  \n",
      " 2   Kilometers_Driven  6019 non-null   int64  \n",
      " 3   Fuel_Type          6019 non-null   object \n",
      " 4   Transmission       6019 non-null   object \n",
      " 5   Owner_Type         6019 non-null   object \n",
      " 6   Seats              5976 non-null   float64\n",
      " 7   Price              6019 non-null   float64\n",
      " 8   Brand              6019 non-null   object \n",
      " 9   Series             6019 non-null   object \n",
      " 10  Type               6019 non-null   object \n",
      " 11  Mileage (kmpl)     5951 non-null   float64\n",
      " 12  Engine (CC)        5983 non-null   float64\n",
      " 13  Power (bhp)        5876 non-null   float64\n",
      "dtypes: float64(5), int64(2), object(7)\n",
      "memory usage: 658.5+ KB\n"
     ]
    }
   ],
   "source": [
    "df.info()"
   ]
  },
  {
   "cell_type": "markdown",
   "metadata": {
    "id": "g1GS1AAUZIt9"
   },
   "source": [
    "# Preprocessing"
   ]
  },
  {
   "cell_type": "code",
   "execution_count": 4,
   "metadata": {
    "colab": {
     "base_uri": "https://localhost:8080/",
     "height": 34
    },
    "execution": {
     "iopub.execute_input": "2020-10-15T12:54:13.988187Z",
     "iopub.status.busy": "2020-10-15T12:54:13.987190Z",
     "iopub.status.idle": "2020-10-15T12:54:14.002152Z",
     "shell.execute_reply": "2020-10-15T12:54:14.001155Z",
     "shell.execute_reply.started": "2020-10-15T12:54:13.988187Z"
    },
    "executionInfo": {
     "elapsed": 8249,
     "status": "ok",
     "timestamp": 1602557855909,
     "user": {
      "displayName": "Abdillah Fikri",
      "photoUrl": "",
      "userId": "04470220666512949031"
     },
     "user_tz": -420
    },
    "id": "INV8VvOYZItN",
    "outputId": "d4ca600b-dc4f-4db2-fba8-54aa6678f0c0"
   },
   "outputs": [
    {
     "data": {
      "text/plain": [
       "(6018, 14)"
      ]
     },
     "execution_count": 4,
     "metadata": {},
     "output_type": "execute_result"
    }
   ],
   "source": [
    "# Delete outlier\n",
    "df = df[~(df.Kilometers_Driven > 1e6)]\n",
    "df.shape"
   ]
  },
  {
   "cell_type": "markdown",
   "metadata": {
    "id": "yEgVyyNSZIt9"
   },
   "source": [
    "## Train test split"
   ]
  },
  {
   "cell_type": "code",
   "execution_count": 5,
   "metadata": {
    "execution": {
     "iopub.execute_input": "2020-10-15T12:54:14.005145Z",
     "iopub.status.busy": "2020-10-15T12:54:14.004145Z",
     "iopub.status.idle": "2020-10-15T12:54:14.033068Z",
     "shell.execute_reply": "2020-10-15T12:54:14.032071Z",
     "shell.execute_reply.started": "2020-10-15T12:54:14.005145Z"
    },
    "executionInfo": {
     "elapsed": 8232,
     "status": "ok",
     "timestamp": 1602557855911,
     "user": {
      "displayName": "Abdillah Fikri",
      "photoUrl": "",
      "userId": "04470220666512949031"
     },
     "user_tz": -420
    },
    "id": "nPxFt6bSZIt-"
   },
   "outputs": [],
   "source": [
    "# melakukan train test split di awal untuk mencegah data bocor ke test set saat dilakukan encoding/imputation\n",
    "features = df.drop(columns=['Price'])\n",
    "target = df['Price']\n",
    "X_train, X_test, y_train, y_test = train_test_split(features, target, test_size=0.25, random_state=0)"
   ]
  },
  {
   "cell_type": "markdown",
   "metadata": {
    "id": "oxqsMHrKZIuA"
   },
   "source": [
    "## Encoding"
   ]
  },
  {
   "cell_type": "code",
   "execution_count": 6,
   "metadata": {
    "cell_id": "00036-c7e04c20-9ab9-48dc-a699-9e7a06582a8c",
    "colab": {
     "base_uri": "https://localhost:8080/",
     "height": 85
    },
    "execution": {
     "iopub.execute_input": "2020-10-15T12:54:14.034066Z",
     "iopub.status.busy": "2020-10-15T12:54:14.034066Z",
     "iopub.status.idle": "2020-10-15T12:54:14.187654Z",
     "shell.execute_reply": "2020-10-15T12:54:14.186657Z",
     "shell.execute_reply.started": "2020-10-15T12:54:14.034066Z"
    },
    "executionInfo": {
     "elapsed": 1054,
     "status": "ok",
     "timestamp": 1602557861674,
     "user": {
      "displayName": "Abdillah Fikri",
      "photoUrl": "",
      "userId": "04470220666512949031"
     },
     "user_tz": -420
    },
    "id": "_0criLnZIakn",
    "outputId": "766c5c78-5fac-492b-e39c-674c73139932",
    "output_cleared": false,
    "tags": []
   },
   "outputs": [],
   "source": [
    "# # One hot encoding\n",
    "# col_to_encode = ['Location', 'Fuel_Type', 'Transmission', 'Owner_Type', 'Brand']\n",
    "# oh_encoder = ce.OneHotEncoder(cols=col_to_encode,\n",
    "#                               use_cat_names=True)\n",
    "# oh_encoder.fit(X_train)\n",
    "\n",
    "# # Encoding train set\n",
    "# X_train = oh_encoder.transform(X_train)\n",
    "# # Encoding test set\n",
    "# X_test = oh_encoder.transform(X_test)"
   ]
  },
  {
   "cell_type": "code",
   "execution_count": 7,
   "metadata": {
    "colab": {
     "base_uri": "https://localhost:8080/",
     "height": 85
    },
    "execution": {
     "iopub.execute_input": "2020-10-15T12:54:14.188652Z",
     "iopub.status.busy": "2020-10-15T12:54:14.188652Z",
     "iopub.status.idle": "2020-10-15T12:54:14.267439Z",
     "shell.execute_reply": "2020-10-15T12:54:14.266443Z",
     "shell.execute_reply.started": "2020-10-15T12:54:14.188652Z"
    },
    "executionInfo": {
     "elapsed": 587,
     "status": "ok",
     "timestamp": 1602557861677,
     "user": {
      "displayName": "Abdillah Fikri",
      "photoUrl": "",
      "userId": "04470220666512949031"
     },
     "user_tz": -420
    },
    "id": "kcMLnvJxZIuD",
    "outputId": "ec506ea3-a38a-4b80-9e62-2f3af531162a"
   },
   "outputs": [],
   "source": [
    "# Target encoding\n",
    "col_to_encode = ['Series', 'Type', 'Location', 'Fuel_Type', 'Transmission', 'Owner_Type', 'Brand']\n",
    "target_encoder = ce.TargetEncoder(cols=col_to_encode)\n",
    "target_encoder.fit(X_train, y_train)\n",
    "\n",
    "# Encoding train set\n",
    "X_train = target_encoder.transform(X_train)\n",
    "# Encoding test set\n",
    "X_test = target_encoder.transform(X_test)"
   ]
  },
  {
   "cell_type": "markdown",
   "metadata": {
    "id": "6MJs1hK7Iv1N"
   },
   "source": [
    "## Missing Value Imputation"
   ]
  },
  {
   "cell_type": "code",
   "execution_count": 8,
   "metadata": {
    "execution": {
     "iopub.execute_input": "2020-10-15T12:54:14.269434Z",
     "iopub.status.busy": "2020-10-15T12:54:14.269434Z",
     "iopub.status.idle": "2020-10-15T12:54:25.487160Z",
     "shell.execute_reply": "2020-10-15T12:54:25.487160Z",
     "shell.execute_reply.started": "2020-10-15T12:54:14.269434Z"
    },
    "executionInfo": {
     "elapsed": 9747,
     "status": "ok",
     "timestamp": 1602558096090,
     "user": {
      "displayName": "Abdillah Fikri",
      "photoUrl": "",
      "userId": "04470220666512949031"
     },
     "user_tz": -420
    },
    "id": "ccgkETh_Iv1O"
   },
   "outputs": [],
   "source": [
    "# memprediksi nilai missing value dengan algoritma \n",
    "imputer = mf.KernelDataSet(\n",
    "  X_train,\n",
    "  save_all_iterations=True,\n",
    "  random_state=1991,\n",
    "  mean_match_candidates=5\n",
    ")\n",
    "\n",
    "imputer.mice(10)"
   ]
  },
  {
   "cell_type": "code",
   "execution_count": 9,
   "metadata": {
    "execution": {
     "iopub.execute_input": "2020-10-15T12:54:25.487160Z",
     "iopub.status.busy": "2020-10-15T12:54:25.487160Z",
     "iopub.status.idle": "2020-10-15T12:54:25.503631Z",
     "shell.execute_reply": "2020-10-15T12:54:25.502669Z",
     "shell.execute_reply.started": "2020-10-15T12:54:25.487160Z"
    },
    "executionInfo": {
     "elapsed": 769,
     "status": "ok",
     "timestamp": 1602558116061,
     "user": {
      "displayName": "Abdillah Fikri",
      "photoUrl": "",
      "userId": "04470220666512949031"
     },
     "user_tz": -420
    },
    "id": "e_zrbZk6Iv1S",
    "scrolled": true
   },
   "outputs": [],
   "source": [
    "# Train set imputation\n",
    "X_train_full = imputer.complete_data()"
   ]
  },
  {
   "cell_type": "code",
   "execution_count": 10,
   "metadata": {
    "execution": {
     "iopub.execute_input": "2020-10-15T12:54:25.505624Z",
     "iopub.status.busy": "2020-10-15T12:54:25.504627Z",
     "iopub.status.idle": "2020-10-15T12:54:27.936064Z",
     "shell.execute_reply": "2020-10-15T12:54:27.936064Z",
     "shell.execute_reply.started": "2020-10-15T12:54:25.505624Z"
    },
    "executionInfo": {
     "elapsed": 2626,
     "status": "ok",
     "timestamp": 1602558147720,
     "user": {
      "displayName": "Abdillah Fikri",
      "photoUrl": "",
      "userId": "04470220666512949031"
     },
     "user_tz": -420
    },
    "id": "s3TrxVjQIv1Z"
   },
   "outputs": [],
   "source": [
    "# Test set imputation\n",
    "new_data = imputer.impute_new_data(X_test)\n",
    "X_test_full = new_data.complete_data()"
   ]
  },
  {
   "cell_type": "markdown",
   "metadata": {
    "id": "zYZVKzQYIxVx"
   },
   "source": [
    "## Feature Selection"
   ]
  },
  {
   "cell_type": "code",
   "execution_count": 11,
   "metadata": {
    "execution": {
     "iopub.execute_input": "2020-10-15T12:54:27.936064Z",
     "iopub.status.busy": "2020-10-15T12:54:27.936064Z",
     "iopub.status.idle": "2020-10-15T12:54:28.031986Z",
     "shell.execute_reply": "2020-10-15T12:54:28.030987Z",
     "shell.execute_reply.started": "2020-10-15T12:54:27.936064Z"
    },
    "executionInfo": {
     "elapsed": 974,
     "status": "ok",
     "timestamp": 1602558988123,
     "user": {
      "displayName": "Abdillah Fikri",
      "photoUrl": "",
      "userId": "04470220666512949031"
     },
     "user_tz": -420
    },
    "id": "5RY-BaL8IxVy"
   },
   "outputs": [],
   "source": [
    "# Memfilter feature dengan korelasi tinggi\n",
    "corr_price = X_train.join(y_train).corr()['Price']\n",
    "index = corr_price[(corr_price < -0.20) | (corr_price > 0.20)].index\n",
    "\n",
    "X_train_full =  X_train_full[index[:-1]]\n",
    "X_test_full = X_test_full[index[:-1]]"
   ]
  },
  {
   "cell_type": "markdown",
   "metadata": {
    "id": "wV2sjkqEZIup"
   },
   "source": [
    "# Modeling"
   ]
  },
  {
   "cell_type": "markdown",
   "metadata": {
    "id": "4g_nWqotKl6_"
   },
   "source": [
    "## Functions"
   ]
  },
  {
   "cell_type": "code",
   "execution_count": 12,
   "metadata": {
    "execution": {
     "iopub.execute_input": "2020-10-15T12:54:28.032983Z",
     "iopub.status.busy": "2020-10-15T12:54:28.032983Z",
     "iopub.status.idle": "2020-10-15T12:54:28.047942Z",
     "shell.execute_reply": "2020-10-15T12:54:28.046978Z",
     "shell.execute_reply.started": "2020-10-15T12:54:28.032983Z"
    },
    "executionInfo": {
     "elapsed": 1009,
     "status": "ok",
     "timestamp": 1602559132744,
     "user": {
      "displayName": "Abdillah Fikri",
      "photoUrl": "",
      "userId": "04470220666512949031"
     },
     "user_tz": -420
    },
    "id": "Qp4QHIuFZIuq"
   },
   "outputs": [],
   "source": [
    "def get_cv_score(models, X_train, y_train):\n",
    "    \n",
    "    cv = KFold(n_splits=5, shuffle=True, random_state=0)\n",
    "    summary = []\n",
    "    for label, model in models.items():\n",
    "        cv_results = cross_validate(model, X_train, y_train, cv=cv, \n",
    "                                    scoring=['r2',\n",
    "                                             'neg_root_mean_squared_error',\n",
    "                                             'neg_mean_absolute_error'])\n",
    "        \n",
    "        temp = pd.DataFrame(cv_results).copy()\n",
    "        temp['Model'] = label\n",
    "        summary.append(temp)\n",
    "    \n",
    "    summary = pd.concat(summary)\n",
    "    summary = summary.groupby('Model').mean()\n",
    "    \n",
    "    summary.drop(columns=['fit_time', 'score_time'], inplace=True)\n",
    "    summary.columns = ['CV R2', 'CV RMSE', 'CV MAE']\n",
    "    summary[['CV RMSE', 'CV MAE']] = summary[['CV RMSE', 'CV MAE']] * -1\n",
    "    \n",
    "    return summary"
   ]
  },
  {
   "cell_type": "code",
   "execution_count": 13,
   "metadata": {
    "execution": {
     "iopub.execute_input": "2020-10-15T12:54:28.049965Z",
     "iopub.status.busy": "2020-10-15T12:54:28.048938Z",
     "iopub.status.idle": "2020-10-15T12:54:28.063899Z",
     "shell.execute_reply": "2020-10-15T12:54:28.061903Z",
     "shell.execute_reply.started": "2020-10-15T12:54:28.049965Z"
    },
    "executionInfo": {
     "elapsed": 806,
     "status": "ok",
     "timestamp": 1602559132746,
     "user": {
      "displayName": "Abdillah Fikri",
      "photoUrl": "",
      "userId": "04470220666512949031"
     },
     "user_tz": -420
    },
    "id": "BXEr8F5VZIu0"
   },
   "outputs": [],
   "source": [
    "def evaluate_model(models, X_train, X_test, y_train, y_test):\n",
    "\n",
    "    summary = {'Model':[], 'Train R2':[], 'Train RMSE':[], 'Train MAE':[],\n",
    "               'Test R2':[], 'Test RMSE':[], 'Test MAE':[]}\n",
    "\n",
    "    for label, model in models.items():\n",
    "        model.fit(X_train, y_train)\n",
    "\n",
    "        y_train_pred = model.predict(X_train)\n",
    "        y_test_pred = model.predict(X_test)\n",
    "\n",
    "        summary['Model'].append(label)\n",
    "\n",
    "        summary['Train R2'].append(\n",
    "            metrics.r2_score(y_train, y_train_pred))\n",
    "        summary['Train RMSE'].append(\n",
    "            np.sqrt(metrics.mean_squared_error(y_train, y_train_pred)))\n",
    "        summary['Train MAE'].append(\n",
    "            metrics.mean_absolute_error(y_train, y_train_pred))\n",
    "\n",
    "        summary['Test R2'].append(\n",
    "            metrics.r2_score(y_test, y_test_pred))\n",
    "        summary['Test RMSE'].append(\n",
    "            np.sqrt(metrics.mean_squared_error(y_test, y_test_pred)))\n",
    "        summary['Test MAE'].append(\n",
    "            metrics.mean_absolute_error(y_test, y_test_pred))\n",
    "    \n",
    "    summary = pd.DataFrame(summary)\n",
    "    summary.set_index('Model', inplace=True)\n",
    "\n",
    "    cv_scores = get_cv_score(models, X_train, y_train)\n",
    "    summary = summary.join(cv_scores)\n",
    "    summary = summary[['Train R2', 'CV R2', 'Test R2',\n",
    "                       'Train RMSE', 'CV RMSE', 'Test RMSE',\n",
    "                       'Train MAE', 'CV MAE', 'Test MAE']]\n",
    "    \n",
    "    return round(summary.sort_values(by='Test RMSE'), 4)"
   ]
  },
  {
   "cell_type": "markdown",
   "metadata": {
    "id": "aR4Sp3UCZIu2"
   },
   "source": [
    "## Base Model"
   ]
  },
  {
   "cell_type": "code",
   "execution_count": 14,
   "metadata": {
    "execution": {
     "iopub.execute_input": "2020-10-15T12:54:28.065895Z",
     "iopub.status.busy": "2020-10-15T12:54:28.065895Z",
     "iopub.status.idle": "2020-10-15T12:54:28.079856Z",
     "shell.execute_reply": "2020-10-15T12:54:28.077864Z",
     "shell.execute_reply.started": "2020-10-15T12:54:28.065895Z"
    },
    "executionInfo": {
     "elapsed": 678,
     "status": "ok",
     "timestamp": 1602559134050,
     "user": {
      "displayName": "Abdillah Fikri",
      "photoUrl": "",
      "userId": "04470220666512949031"
     },
     "user_tz": -420
    },
    "id": "Oux2OxeDZIu2"
   },
   "outputs": [],
   "source": [
    "tree_model = DecisionTreeRegressor()\n",
    "rf_model = RandomForestRegressor()\n",
    "xgb_model = XGBRegressor(objective='reg:squarederror')\n",
    "lgb_model = LGBMRegressor()\n",
    "cat_model = CatBoostRegressor(silent=True)\n",
    "lr_model = LinearRegression()\n",
    "lasso_model = Lasso()\n",
    "\n",
    "models = {'DecisionTreeRegressor' : tree_model,\n",
    "          'RandomForestRegressor' : rf_model,\n",
    "          'XGBRegressor' : xgb_model,\n",
    "          'CatBoostRegressor' : cat_model,\n",
    "          'LGBMRegressor' : lgb_model,\n",
    "          'LinearRegression': lr_model,\n",
    "          'LassoRegression': lasso_model}"
   ]
  },
  {
   "cell_type": "markdown",
   "metadata": {
    "id": "kCSEOF35MoSB"
   },
   "source": [
    "### Unscaled dataset"
   ]
  },
  {
   "cell_type": "code",
   "execution_count": 15,
   "metadata": {
    "colab": {
     "base_uri": "https://localhost:8080/",
     "height": 297
    },
    "execution": {
     "iopub.execute_input": "2020-10-15T12:54:28.081881Z",
     "iopub.status.busy": "2020-10-15T12:54:28.080854Z",
     "iopub.status.idle": "2020-10-15T12:55:11.188310Z",
     "shell.execute_reply": "2020-10-15T12:55:11.187312Z",
     "shell.execute_reply.started": "2020-10-15T12:54:28.081881Z"
    },
    "executionInfo": {
     "elapsed": 30383,
     "status": "ok",
     "timestamp": 1602559165523,
     "user": {
      "displayName": "Abdillah Fikri",
      "photoUrl": "",
      "userId": "04470220666512949031"
     },
     "user_tz": -420
    },
    "id": "DgfsmUm-HqGG",
    "outputId": "857f512d-6910-4625-e01b-c6b587a9094c"
   },
   "outputs": [],
   "source": [
    "# evaluasi model memakai function\n",
    "unscaled = evaluate_model(models, X_train_full, X_test_full, y_train, y_test)"
   ]
  },
  {
   "cell_type": "markdown",
   "metadata": {
    "id": "AodaQJBNMtob"
   },
   "source": [
    "### Scaled dataset"
   ]
  },
  {
   "cell_type": "code",
   "execution_count": 16,
   "metadata": {
    "execution": {
     "iopub.execute_input": "2020-10-15T12:55:11.191302Z",
     "iopub.status.busy": "2020-10-15T12:55:11.190305Z",
     "iopub.status.idle": "2020-10-15T12:55:11.236183Z",
     "shell.execute_reply": "2020-10-15T12:55:11.235184Z",
     "shell.execute_reply.started": "2020-10-15T12:55:11.191302Z"
    },
    "executionInfo": {
     "elapsed": 25276,
     "status": "ok",
     "timestamp": 1602559165525,
     "user": {
      "displayName": "Abdillah Fikri",
      "photoUrl": "",
      "userId": "04470220666512949031"
     },
     "user_tz": -420
    },
    "id": "2lQZQbORMwYB"
   },
   "outputs": [],
   "source": [
    "# Scaling data\n",
    "from sklearn.preprocessing import RobustScaler\n",
    "\n",
    "scaler = RobustScaler()\n",
    "scaler.fit(X_train_full)\n",
    "X_train_full_scaled = scaler.transform(X_train_full)\n",
    "X_test_full_scaled = scaler.transform(X_test_full)"
   ]
  },
  {
   "cell_type": "code",
   "execution_count": 17,
   "metadata": {
    "colab": {
     "base_uri": "https://localhost:8080/",
     "height": 297
    },
    "execution": {
     "iopub.execute_input": "2020-10-15T12:55:11.239174Z",
     "iopub.status.busy": "2020-10-15T12:55:11.238177Z",
     "iopub.status.idle": "2020-10-15T12:55:54.767071Z",
     "shell.execute_reply": "2020-10-15T12:55:54.767071Z",
     "shell.execute_reply.started": "2020-10-15T12:55:11.239174Z"
    },
    "executionInfo": {
     "elapsed": 54513,
     "status": "ok",
     "timestamp": 1602559195270,
     "user": {
      "displayName": "Abdillah Fikri",
      "photoUrl": "",
      "userId": "04470220666512949031"
     },
     "user_tz": -420
    },
    "id": "58C87fQHNRII",
    "outputId": "06962bd1-1bb2-4c3e-bd1c-74e71a1d0ed5"
   },
   "outputs": [],
   "source": [
    "# evaluasi model memakai function\n",
    "scaled = evaluate_model(models, X_train_full_scaled, X_test_full_scaled, y_train, y_test)"
   ]
  },
  {
   "cell_type": "markdown",
   "metadata": {
    "id": "bg_vcQxLLg0n"
   },
   "source": [
    "### Summarizing"
   ]
  },
  {
   "cell_type": "code",
   "execution_count": 18,
   "metadata": {
    "execution": {
     "iopub.execute_input": "2020-10-15T12:55:54.771050Z",
     "iopub.status.busy": "2020-10-15T12:55:54.770053Z",
     "iopub.status.idle": "2020-10-15T12:55:54.784016Z",
     "shell.execute_reply": "2020-10-15T12:55:54.783018Z",
     "shell.execute_reply.started": "2020-10-15T12:55:54.771050Z"
    }
   },
   "outputs": [],
   "source": [
    "unscaled['Dataset Version'] = 'imputed + selected + unscaled'\n",
    "scaled['Dataset Version'] = 'imputed + selected + scaled'"
   ]
  },
  {
   "cell_type": "code",
   "execution_count": 19,
   "metadata": {
    "execution": {
     "iopub.execute_input": "2020-10-15T12:55:54.786011Z",
     "iopub.status.busy": "2020-10-15T12:55:54.786011Z",
     "iopub.status.idle": "2020-10-15T12:55:54.831887Z",
     "shell.execute_reply": "2020-10-15T12:55:54.830889Z",
     "shell.execute_reply.started": "2020-10-15T12:55:54.786011Z"
    }
   },
   "outputs": [
    {
     "data": {
      "text/html": [
       "<div>\n",
       "<style scoped>\n",
       "    .dataframe tbody tr th:only-of-type {\n",
       "        vertical-align: middle;\n",
       "    }\n",
       "\n",
       "    .dataframe tbody tr th {\n",
       "        vertical-align: top;\n",
       "    }\n",
       "\n",
       "    .dataframe thead th {\n",
       "        text-align: right;\n",
       "    }\n",
       "</style>\n",
       "<table border=\"1\" class=\"dataframe\">\n",
       "  <thead>\n",
       "    <tr style=\"text-align: right;\">\n",
       "      <th></th>\n",
       "      <th>Train R2</th>\n",
       "      <th>CV R2</th>\n",
       "      <th>Test R2</th>\n",
       "      <th>Train RMSE</th>\n",
       "      <th>CV RMSE</th>\n",
       "      <th>Test RMSE</th>\n",
       "      <th>Train MAE</th>\n",
       "      <th>CV MAE</th>\n",
       "      <th>Test MAE</th>\n",
       "      <th>Dataset Version</th>\n",
       "    </tr>\n",
       "    <tr>\n",
       "      <th>Model</th>\n",
       "      <th></th>\n",
       "      <th></th>\n",
       "      <th></th>\n",
       "      <th></th>\n",
       "      <th></th>\n",
       "      <th></th>\n",
       "      <th></th>\n",
       "      <th></th>\n",
       "      <th></th>\n",
       "      <th></th>\n",
       "    </tr>\n",
       "  </thead>\n",
       "  <tbody>\n",
       "    <tr>\n",
       "      <th>LGBMRegressor</th>\n",
       "      <td>0.9661</td>\n",
       "      <td>0.9104</td>\n",
       "      <td>0.9086</td>\n",
       "      <td>2.0413</td>\n",
       "      <td>3.3043</td>\n",
       "      <td>3.4511</td>\n",
       "      <td>0.8994</td>\n",
       "      <td>1.2858</td>\n",
       "      <td>1.2924</td>\n",
       "      <td>imputed + selected + unscaled</td>\n",
       "    </tr>\n",
       "    <tr>\n",
       "      <th>CatBoostRegressor</th>\n",
       "      <td>0.9899</td>\n",
       "      <td>0.9173</td>\n",
       "      <td>0.9067</td>\n",
       "      <td>1.1141</td>\n",
       "      <td>3.1805</td>\n",
       "      <td>3.4867</td>\n",
       "      <td>0.7171</td>\n",
       "      <td>1.2311</td>\n",
       "      <td>1.2570</td>\n",
       "      <td>imputed + selected + unscaled</td>\n",
       "    </tr>\n",
       "    <tr>\n",
       "      <th>RandomForestRegressor</th>\n",
       "      <td>0.9863</td>\n",
       "      <td>0.9026</td>\n",
       "      <td>0.8869</td>\n",
       "      <td>1.2946</td>\n",
       "      <td>3.4454</td>\n",
       "      <td>3.8384</td>\n",
       "      <td>0.5312</td>\n",
       "      <td>1.3585</td>\n",
       "      <td>1.4156</td>\n",
       "      <td>imputed + selected + unscaled</td>\n",
       "    </tr>\n",
       "    <tr>\n",
       "      <th>XGBRegressor</th>\n",
       "      <td>0.9954</td>\n",
       "      <td>0.9068</td>\n",
       "      <td>0.8835</td>\n",
       "      <td>0.7494</td>\n",
       "      <td>3.3722</td>\n",
       "      <td>3.8962</td>\n",
       "      <td>0.4892</td>\n",
       "      <td>1.2957</td>\n",
       "      <td>1.3519</td>\n",
       "      <td>imputed + selected + unscaled</td>\n",
       "    </tr>\n",
       "    <tr>\n",
       "      <th>DecisionTreeRegressor</th>\n",
       "      <td>0.9990</td>\n",
       "      <td>0.8326</td>\n",
       "      <td>0.8724</td>\n",
       "      <td>0.3581</td>\n",
       "      <td>4.4707</td>\n",
       "      <td>4.0778</td>\n",
       "      <td>0.0962</td>\n",
       "      <td>1.7618</td>\n",
       "      <td>1.7258</td>\n",
       "      <td>imputed + selected + unscaled</td>\n",
       "    </tr>\n",
       "    <tr>\n",
       "      <th>LinearRegression</th>\n",
       "      <td>0.7975</td>\n",
       "      <td>0.7947</td>\n",
       "      <td>0.7770</td>\n",
       "      <td>4.9863</td>\n",
       "      <td>5.0119</td>\n",
       "      <td>5.3902</td>\n",
       "      <td>2.7136</td>\n",
       "      <td>2.7292</td>\n",
       "      <td>2.8814</td>\n",
       "      <td>imputed + selected + unscaled</td>\n",
       "    </tr>\n",
       "    <tr>\n",
       "      <th>LassoRegression</th>\n",
       "      <td>0.7948</td>\n",
       "      <td>0.7925</td>\n",
       "      <td>0.7761</td>\n",
       "      <td>5.0194</td>\n",
       "      <td>5.0399</td>\n",
       "      <td>5.4014</td>\n",
       "      <td>2.6484</td>\n",
       "      <td>2.6638</td>\n",
       "      <td>2.8202</td>\n",
       "      <td>imputed + selected + unscaled</td>\n",
       "    </tr>\n",
       "    <tr>\n",
       "      <th>LGBMRegressor</th>\n",
       "      <td>0.9662</td>\n",
       "      <td>0.9120</td>\n",
       "      <td>0.9081</td>\n",
       "      <td>2.0369</td>\n",
       "      <td>3.2726</td>\n",
       "      <td>3.4609</td>\n",
       "      <td>0.8997</td>\n",
       "      <td>1.2751</td>\n",
       "      <td>1.3010</td>\n",
       "      <td>imputed + selected + scaled</td>\n",
       "    </tr>\n",
       "    <tr>\n",
       "      <th>CatBoostRegressor</th>\n",
       "      <td>0.9899</td>\n",
       "      <td>0.9173</td>\n",
       "      <td>0.9067</td>\n",
       "      <td>1.1141</td>\n",
       "      <td>3.1805</td>\n",
       "      <td>3.4867</td>\n",
       "      <td>0.7171</td>\n",
       "      <td>1.2311</td>\n",
       "      <td>1.2569</td>\n",
       "      <td>imputed + selected + scaled</td>\n",
       "    </tr>\n",
       "    <tr>\n",
       "      <th>RandomForestRegressor</th>\n",
       "      <td>0.9865</td>\n",
       "      <td>0.9074</td>\n",
       "      <td>0.8898</td>\n",
       "      <td>1.2870</td>\n",
       "      <td>3.3634</td>\n",
       "      <td>3.7887</td>\n",
       "      <td>0.5284</td>\n",
       "      <td>1.3512</td>\n",
       "      <td>1.4073</td>\n",
       "      <td>imputed + selected + scaled</td>\n",
       "    </tr>\n",
       "    <tr>\n",
       "      <th>XGBRegressor</th>\n",
       "      <td>0.9954</td>\n",
       "      <td>0.9068</td>\n",
       "      <td>0.8835</td>\n",
       "      <td>0.7494</td>\n",
       "      <td>3.3722</td>\n",
       "      <td>3.8963</td>\n",
       "      <td>0.4892</td>\n",
       "      <td>1.2957</td>\n",
       "      <td>1.3522</td>\n",
       "      <td>imputed + selected + scaled</td>\n",
       "    </tr>\n",
       "    <tr>\n",
       "      <th>DecisionTreeRegressor</th>\n",
       "      <td>0.9990</td>\n",
       "      <td>0.8355</td>\n",
       "      <td>0.8666</td>\n",
       "      <td>0.3581</td>\n",
       "      <td>4.4287</td>\n",
       "      <td>4.1692</td>\n",
       "      <td>0.0962</td>\n",
       "      <td>1.7510</td>\n",
       "      <td>1.7691</td>\n",
       "      <td>imputed + selected + scaled</td>\n",
       "    </tr>\n",
       "    <tr>\n",
       "      <th>LinearRegression</th>\n",
       "      <td>0.7975</td>\n",
       "      <td>0.7947</td>\n",
       "      <td>0.7770</td>\n",
       "      <td>4.9863</td>\n",
       "      <td>5.0119</td>\n",
       "      <td>5.3902</td>\n",
       "      <td>2.7136</td>\n",
       "      <td>2.7292</td>\n",
       "      <td>2.8814</td>\n",
       "      <td>imputed + selected + scaled</td>\n",
       "    </tr>\n",
       "    <tr>\n",
       "      <th>LassoRegression</th>\n",
       "      <td>0.7579</td>\n",
       "      <td>0.7542</td>\n",
       "      <td>0.7228</td>\n",
       "      <td>5.4523</td>\n",
       "      <td>5.4843</td>\n",
       "      <td>6.0104</td>\n",
       "      <td>2.6109</td>\n",
       "      <td>2.6347</td>\n",
       "      <td>2.8508</td>\n",
       "      <td>imputed + selected + scaled</td>\n",
       "    </tr>\n",
       "  </tbody>\n",
       "</table>\n",
       "</div>"
      ],
      "text/plain": [
       "                       Train R2   CV R2  Test R2  Train RMSE  CV RMSE  \\\n",
       "Model                                                                   \n",
       "LGBMRegressor            0.9661  0.9104   0.9086      2.0413   3.3043   \n",
       "CatBoostRegressor        0.9899  0.9173   0.9067      1.1141   3.1805   \n",
       "RandomForestRegressor    0.9863  0.9026   0.8869      1.2946   3.4454   \n",
       "XGBRegressor             0.9954  0.9068   0.8835      0.7494   3.3722   \n",
       "DecisionTreeRegressor    0.9990  0.8326   0.8724      0.3581   4.4707   \n",
       "LinearRegression         0.7975  0.7947   0.7770      4.9863   5.0119   \n",
       "LassoRegression          0.7948  0.7925   0.7761      5.0194   5.0399   \n",
       "LGBMRegressor            0.9662  0.9120   0.9081      2.0369   3.2726   \n",
       "CatBoostRegressor        0.9899  0.9173   0.9067      1.1141   3.1805   \n",
       "RandomForestRegressor    0.9865  0.9074   0.8898      1.2870   3.3634   \n",
       "XGBRegressor             0.9954  0.9068   0.8835      0.7494   3.3722   \n",
       "DecisionTreeRegressor    0.9990  0.8355   0.8666      0.3581   4.4287   \n",
       "LinearRegression         0.7975  0.7947   0.7770      4.9863   5.0119   \n",
       "LassoRegression          0.7579  0.7542   0.7228      5.4523   5.4843   \n",
       "\n",
       "                       Test RMSE  Train MAE  CV MAE  Test MAE  \\\n",
       "Model                                                           \n",
       "LGBMRegressor             3.4511     0.8994  1.2858    1.2924   \n",
       "CatBoostRegressor         3.4867     0.7171  1.2311    1.2570   \n",
       "RandomForestRegressor     3.8384     0.5312  1.3585    1.4156   \n",
       "XGBRegressor              3.8962     0.4892  1.2957    1.3519   \n",
       "DecisionTreeRegressor     4.0778     0.0962  1.7618    1.7258   \n",
       "LinearRegression          5.3902     2.7136  2.7292    2.8814   \n",
       "LassoRegression           5.4014     2.6484  2.6638    2.8202   \n",
       "LGBMRegressor             3.4609     0.8997  1.2751    1.3010   \n",
       "CatBoostRegressor         3.4867     0.7171  1.2311    1.2569   \n",
       "RandomForestRegressor     3.7887     0.5284  1.3512    1.4073   \n",
       "XGBRegressor              3.8963     0.4892  1.2957    1.3522   \n",
       "DecisionTreeRegressor     4.1692     0.0962  1.7510    1.7691   \n",
       "LinearRegression          5.3902     2.7136  2.7292    2.8814   \n",
       "LassoRegression           6.0104     2.6109  2.6347    2.8508   \n",
       "\n",
       "                                     Dataset Version  \n",
       "Model                                                 \n",
       "LGBMRegressor          imputed + selected + unscaled  \n",
       "CatBoostRegressor      imputed + selected + unscaled  \n",
       "RandomForestRegressor  imputed + selected + unscaled  \n",
       "XGBRegressor           imputed + selected + unscaled  \n",
       "DecisionTreeRegressor  imputed + selected + unscaled  \n",
       "LinearRegression       imputed + selected + unscaled  \n",
       "LassoRegression        imputed + selected + unscaled  \n",
       "LGBMRegressor            imputed + selected + scaled  \n",
       "CatBoostRegressor        imputed + selected + scaled  \n",
       "RandomForestRegressor    imputed + selected + scaled  \n",
       "XGBRegressor             imputed + selected + scaled  \n",
       "DecisionTreeRegressor    imputed + selected + scaled  \n",
       "LinearRegression         imputed + selected + scaled  \n",
       "LassoRegression          imputed + selected + scaled  "
      ]
     },
     "execution_count": 19,
     "metadata": {},
     "output_type": "execute_result"
    }
   ],
   "source": [
    "imputed_selected = pd.concat([unscaled, scaled], axis=0)\n",
    "imputed_selected"
   ]
  },
  {
   "cell_type": "code",
   "execution_count": 20,
   "metadata": {
    "execution": {
     "iopub.execute_input": "2020-10-15T12:55:54.834878Z",
     "iopub.status.busy": "2020-10-15T12:55:54.833882Z",
     "iopub.status.idle": "2020-10-15T12:55:54.847844Z",
     "shell.execute_reply": "2020-10-15T12:55:54.846847Z",
     "shell.execute_reply.started": "2020-10-15T12:55:54.834878Z"
    }
   },
   "outputs": [],
   "source": [
    "imputed_selected.to_csv('../data/processed/summary_imputed_selected.csv')"
   ]
  }
 ],
 "metadata": {
  "colab": {
   "collapsed_sections": [],
   "name": "Modeling_imputed_selected_features.ipynb",
   "provenance": [
    {
     "file_id": "1NgCHIKsxmWD4jCur1sU6c3ASdRZ-PE99",
     "timestamp": 1602317956566
    }
   ],
   "toc_visible": true
  },
  "deepnote_execution_queue": [],
  "deepnote_notebook_id": "7e6ba86d-f2b0-4a20-b936-811e696ed5ab",
  "jupytext": {
   "formats": "notebooks//ipynb,markdown//md,scripts//py:percent"
  },
  "kernelspec": {
   "display_name": "Python 3",
   "language": "python",
   "name": "python3"
  },
  "language_info": {
   "codemirror_mode": {
    "name": "ipython",
    "version": 3
   },
   "file_extension": ".py",
   "mimetype": "text/x-python",
   "name": "python",
   "nbconvert_exporter": "python",
   "pygments_lexer": "ipython3",
   "version": "3.8.6-final"
  },
  "toc-autonumbering": true,
  "toc-showcode": false,
  "toc-showmarkdowntxt": false,
  "toc-showtags": false
 },
 "nbformat": 4,
 "nbformat_minor": 4
}
