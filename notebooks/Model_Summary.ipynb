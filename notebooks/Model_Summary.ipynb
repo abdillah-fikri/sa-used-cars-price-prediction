{
 "cells": [
  {
   "cell_type": "code",
   "execution_count": 6,
   "metadata": {
    "cell_id": "00000-22bc0b26-1ea9-4900-a08a-fed218efdabd",
    "execution_millis": 554,
    "execution_start": 1602829891550,
    "output_cleared": false,
    "source_hash": "9c12a302"
   },
   "outputs": [
    {
     "data": {
      "text/plain": [
       "Templates configuration\n",
       "-----------------------\n",
       "    Default template: 'presentation'\n",
       "    Available templates:\n",
       "        ['ggplot2', 'seaborn', 'simple_white', 'plotly',\n",
       "         'plotly_white', 'plotly_dark', 'presentation', 'xgridoff',\n",
       "         'ygridoff', 'gridon', 'none']"
      ]
     },
     "execution_count": 6,
     "metadata": {},
     "output_type": "execute_result"
    }
   ],
   "source": [
    "import pandas as pd\n",
    "import numpy as np\n",
    "import plotly.graph_objects as go\n",
    "import plotly.express as px\n",
    "import plotly.io as pio\n",
    "\n",
    "pio.templates.default = \"presentation\"\n",
    "pio.templates"
   ]
  },
  {
   "cell_type": "code",
   "execution_count": 109,
   "metadata": {},
   "outputs": [
    {
     "data": {
      "text/html": [
       "<div>\n",
       "<style scoped>\n",
       "    .dataframe tbody tr th:only-of-type {\n",
       "        vertical-align: middle;\n",
       "    }\n",
       "\n",
       "    .dataframe tbody tr th {\n",
       "        vertical-align: top;\n",
       "    }\n",
       "\n",
       "    .dataframe thead th {\n",
       "        text-align: right;\n",
       "    }\n",
       "</style>\n",
       "<table border=\"1\" class=\"dataframe\">\n",
       "  <thead>\n",
       "    <tr style=\"text-align: right;\">\n",
       "      <th></th>\n",
       "      <th>Model</th>\n",
       "      <th>Train R2</th>\n",
       "      <th>CV R2</th>\n",
       "      <th>Test R2</th>\n",
       "      <th>Train RMSE</th>\n",
       "      <th>CV RMSE</th>\n",
       "      <th>Test RMSE</th>\n",
       "      <th>Train MAE</th>\n",
       "      <th>CV MAE</th>\n",
       "      <th>Test MAE</th>\n",
       "      <th>Dataset Version</th>\n",
       "    </tr>\n",
       "  </thead>\n",
       "  <tbody>\n",
       "    <tr>\n",
       "      <th>0</th>\n",
       "      <td>CatBoostRegressor</td>\n",
       "      <td>0.992</td>\n",
       "      <td>0.917</td>\n",
       "      <td>0.927</td>\n",
       "      <td>0.973</td>\n",
       "      <td>3.061</td>\n",
       "      <td>3.174</td>\n",
       "      <td>0.647</td>\n",
       "      <td>1.150</td>\n",
       "      <td>1.211</td>\n",
       "      <td>dropna + all + unscaled</td>\n",
       "    </tr>\n",
       "    <tr>\n",
       "      <th>7</th>\n",
       "      <td>CatBoostRegressor</td>\n",
       "      <td>0.992</td>\n",
       "      <td>0.917</td>\n",
       "      <td>0.927</td>\n",
       "      <td>0.973</td>\n",
       "      <td>3.061</td>\n",
       "      <td>3.174</td>\n",
       "      <td>0.647</td>\n",
       "      <td>1.150</td>\n",
       "      <td>1.211</td>\n",
       "      <td>dropna + all + scaled</td>\n",
       "    </tr>\n",
       "    <tr>\n",
       "      <th>7</th>\n",
       "      <td>CatBoostRegressor</td>\n",
       "      <td>0.989</td>\n",
       "      <td>0.915</td>\n",
       "      <td>0.923</td>\n",
       "      <td>1.130</td>\n",
       "      <td>3.141</td>\n",
       "      <td>3.254</td>\n",
       "      <td>0.723</td>\n",
       "      <td>1.213</td>\n",
       "      <td>1.258</td>\n",
       "      <td>dropna + selected + scaled</td>\n",
       "    </tr>\n",
       "    <tr>\n",
       "      <th>0</th>\n",
       "      <td>CatBoostRegressor</td>\n",
       "      <td>0.989</td>\n",
       "      <td>0.915</td>\n",
       "      <td>0.923</td>\n",
       "      <td>1.130</td>\n",
       "      <td>3.141</td>\n",
       "      <td>3.254</td>\n",
       "      <td>0.723</td>\n",
       "      <td>1.213</td>\n",
       "      <td>1.258</td>\n",
       "      <td>dropna + selected + unscaled</td>\n",
       "    </tr>\n",
       "    <tr>\n",
       "      <th>7</th>\n",
       "      <td>CatBoostRegressor</td>\n",
       "      <td>0.993</td>\n",
       "      <td>0.924</td>\n",
       "      <td>0.912</td>\n",
       "      <td>0.956</td>\n",
       "      <td>3.038</td>\n",
       "      <td>3.389</td>\n",
       "      <td>0.633</td>\n",
       "      <td>1.179</td>\n",
       "      <td>1.158</td>\n",
       "      <td>imputed + all + scaled</td>\n",
       "    </tr>\n",
       "  </tbody>\n",
       "</table>\n",
       "</div>"
      ],
      "text/plain": [
       "               Model  Train R2  CV R2  Test R2  Train RMSE  CV RMSE  \\\n",
       "0  CatBoostRegressor     0.992  0.917    0.927       0.973    3.061   \n",
       "7  CatBoostRegressor     0.992  0.917    0.927       0.973    3.061   \n",
       "7  CatBoostRegressor     0.989  0.915    0.923       1.130    3.141   \n",
       "0  CatBoostRegressor     0.989  0.915    0.923       1.130    3.141   \n",
       "7  CatBoostRegressor     0.993  0.924    0.912       0.956    3.038   \n",
       "\n",
       "   Test RMSE  Train MAE  CV MAE  Test MAE               Dataset Version  \n",
       "0      3.174      0.647   1.150     1.211       dropna + all + unscaled  \n",
       "7      3.174      0.647   1.150     1.211         dropna + all + scaled  \n",
       "7      3.254      0.723   1.213     1.258    dropna + selected + scaled  \n",
       "0      3.254      0.723   1.213     1.258  dropna + selected + unscaled  \n",
       "7      3.389      0.633   1.179     1.158        imputed + all + scaled  "
      ]
     },
     "execution_count": 109,
     "metadata": {},
     "output_type": "execute_result"
    }
   ],
   "source": [
    "ver1 = pd.read_csv('../data/processed/summary_dropna_all.csv')\n",
    "ver2 = pd.read_csv('../data/processed/summary_dropna_selected.csv')\n",
    "ver3 = pd.read_csv('../data/processed/summary_imputed_all.csv')\n",
    "ver4 = pd.read_csv('../data/processed/summary_imputed_selected.csv')\n",
    "\n",
    "df_all_ver = pd.concat([ver1, ver2, ver3, ver4], axis=0)\n",
    "df_all_ver.sort_values(by='Test RMSE', inplace=True)\n",
    "df_all_ver = round(df_all_ver, 3)\n",
    "df_all_ver.head()"
   ]
  },
  {
   "cell_type": "code",
   "execution_count": 112,
   "metadata": {
    "cell_id": "00002-fda41ab5-1578-4759-95fd-34bbab934939",
    "execution_millis": 82,
    "execution_start": 1602829944018,
    "output_cleared": false,
    "source_hash": "a46fdaaf"
   },
   "outputs": [
    {
     "data": {
      "text/plain": [
       "array(['dropna + all + unscaled', 'dropna + all + scaled',\n",
       "       'dropna + selected + scaled', 'dropna + selected + unscaled',\n",
       "       'imputed + all + scaled', 'imputed + all + unscaled',\n",
       "       'imputed + selected + unscaled', 'imputed + selected + scaled'],\n",
       "      dtype=object)"
      ]
     },
     "execution_count": 112,
     "metadata": {},
     "output_type": "execute_result"
    }
   ],
   "source": [
    "df_all_ver['Dataset Version'].unique()"
   ]
  },
  {
   "cell_type": "code",
   "execution_count": 113,
   "metadata": {},
   "outputs": [],
   "source": [
    "df_all_ver[\"Model\"] = df_all_ver[\"Model\"].str.replace(\"Regressor\", \"\")"
   ]
  },
  {
   "cell_type": "code",
   "execution_count": 115,
   "metadata": {
    "cell_id": "00003-7d415f67-fe9a-4bb4-9bee-fa5d53ac3de1",
    "execution_millis": 115,
    "execution_start": 1602852201510,
    "output_cleared": false,
    "source_hash": "69479740",
    "tags": []
   },
   "outputs": [
    {
     "data": {
      "application/vnd.plotly.v1+json": {
       "config": {
        "plotlyServerURL": "https://plot.ly"
       },
       "data": [
        {
         "name": "Train RMSE",
         "text": [
          1.043,
          1.943,
          1.286,
          0.633,
          0.186,
          4.904,
          5.151
         ],
         "textposition": "auto",
         "type": "bar",
         "x": [
          "CatBoost",
          "LGBM",
          "RandomForest",
          "XGB",
          "DecisionTree",
          "LinearRegression",
          "LassoRegression"
         ],
         "y": [
          1.043,
          1.943,
          1.286,
          0.633,
          0.186,
          4.904,
          5.151
         ]
        },
        {
         "name": "CV RMSE",
         "text": [
          3.105,
          3.236,
          3.378,
          3.441,
          4.727,
          4.926,
          5.166
         ],
         "textposition": "auto",
         "type": "bar",
         "x": [
          "CatBoost",
          "LGBM",
          "RandomForest",
          "XGB",
          "DecisionTree",
          "LinearRegression",
          "LassoRegression"
         ],
         "y": [
          3.105,
          3.236,
          3.378,
          3.441,
          4.727,
          4.926,
          5.166
         ]
        },
        {
         "name": "Test RMSE",
         "text": [
          3.326,
          3.558,
          3.857,
          3.881,
          4.668,
          5.586,
          5.946
         ],
         "textposition": "auto",
         "type": "bar",
         "x": [
          "CatBoost",
          "LGBM",
          "RandomForest",
          "XGB",
          "DecisionTree",
          "LinearRegression",
          "LassoRegression"
         ],
         "y": [
          3.326,
          3.558,
          3.857,
          3.881,
          4.668,
          5.586,
          5.946
         ]
        }
       ],
       "layout": {
        "font": {
         "size": 17
        },
        "height": 500,
        "margin": {
         "b": 100,
         "l": 100,
         "r": 100,
         "t": 100
        },
        "template": {
         "data": {
          "pie": [
           {
            "automargin": true,
            "type": "pie"
           }
          ],
          "scatter": [
           {
            "line": {
             "width": 3
            },
            "marker": {
             "size": 9
            },
            "type": "scatter"
           }
          ],
          "scatter3d": [
           {
            "line": {
             "width": 3
            },
            "marker": {
             "size": 9
            },
            "type": "scatter3d"
           }
          ],
          "scattergeo": [
           {
            "line": {
             "width": 3
            },
            "marker": {
             "size": 9
            },
            "type": "scattergeo"
           }
          ],
          "scattergl": [
           {
            "line": {
             "width": 3
            },
            "marker": {
             "size": 9
            },
            "type": "scattergl"
           }
          ],
          "scatterpolar": [
           {
            "line": {
             "width": 3
            },
            "marker": {
             "size": 9
            },
            "type": "scatterpolar"
           }
          ],
          "scatterpolargl": [
           {
            "line": {
             "width": 3
            },
            "marker": {
             "size": 9
            },
            "type": "scatterpolargl"
           }
          ],
          "scatterternary": [
           {
            "line": {
             "width": 3
            },
            "marker": {
             "size": 9
            },
            "type": "scatterternary"
           }
          ],
          "table": [
           {
            "cells": {
             "height": 30
            },
            "header": {
             "height": 36
            },
            "type": "table"
           }
          ]
         },
         "layout": {
          "font": {
           "size": 18
          },
          "xaxis": {
           "title": {
            "standoff": 15
           }
          },
          "yaxis": {
           "title": {
            "standoff": 15
           }
          }
         }
        },
        "title": {
         "text": "Average RMSE Score <br>(7 Models with 8 Dataset Version)"
        },
        "width": 1200,
        "xaxis": {},
        "yaxis": {
         "title": {
          "text": "RMSE Score"
         }
        }
       }
      }
     },
     "metadata": {},
     "output_type": "display_data"
    }
   ],
   "source": [
    "grouped = df_all_ver.groupby(['Model'], as_index=False)[['Train RMSE', 'CV RMSE', 'Test RMSE']].mean()\n",
    "grouped = round(grouped.sort_values(by='Test RMSE'), 3)\n",
    "\n",
    "fig = go.Figure()\n",
    "\n",
    "fig.add_trace(go.Bar(\n",
    "    x=grouped['Model'], y=grouped['Train RMSE'],\n",
    "    text=grouped['Train RMSE'], textposition='auto',\n",
    "    name='Train RMSE'\n",
    "))\n",
    "fig.add_trace(go.Bar(\n",
    "    x=grouped['Model'], y=grouped['CV RMSE'],\n",
    "    text=grouped['CV RMSE'], textposition='auto',\n",
    "    name='CV RMSE'\n",
    "))\n",
    "fig.add_trace(go.Bar(\n",
    "    x=grouped['Model'], y=grouped['Test RMSE'],\n",
    "    text=grouped['Test RMSE'], textposition='auto',\n",
    "    name='Test RMSE'\n",
    "))\n",
    "fig.update_layout(\n",
    "    title='Average RMSE Score <br>(7 Models with 8 Dataset Version)',\n",
    "    xaxis=None,\n",
    "    yaxis=dict(title='RMSE Score'),\n",
    "    height=500,\n",
    "    width=1200,\n",
    "    margin=dict(l=100, r=100, t=100, b=100),\n",
    "    font_size=17\n",
    ")\n",
    "fig.show()"
   ]
  },
  {
   "cell_type": "code",
   "execution_count": 40,
   "metadata": {
    "cell_id": "00003-5f4ebd9b-cf80-4066-b959-a02203215676",
    "execution_millis": 303,
    "execution_start": 1602851013982,
    "output_cleared": false,
    "source_hash": "1be6e537",
    "tags": []
   },
   "outputs": [
    {
     "data": {
      "application/vnd.plotly.v1+json": {
       "config": {
        "plotlyServerURL": "https://plot.ly"
       },
       "data": [
        {
         "alignmentgroup": "True",
         "hovertemplate": "Dataset Version=dropna + all + unscaled<br>Model=%{x}<br>Test RMSE=%{text}<extra></extra>",
         "legendgroup": "dropna + all + unscaled",
         "marker": {
          "color": "#1F77B4"
         },
         "name": "dropna + all + unscaled",
         "offsetgroup": "dropna + all + unscaled",
         "orientation": "v",
         "showlegend": true,
         "text": [
          3.1735,
          3.5669,
          3.847,
          3.9693,
          5.2961,
          5.7621,
          5.803999999999999
         ],
         "textposition": "auto",
         "type": "bar",
         "x": [
          "CatBoostRegressor",
          "LGBMRegressor",
          "XGBRegressor",
          "RandomForestRegressor",
          "DecisionTreeRegressor",
          "LinearRegression",
          "LassoRegression"
         ],
         "xaxis": "x",
         "y": [
          3.1735,
          3.5669,
          3.847,
          3.9693,
          5.2961,
          5.7621,
          5.803999999999999
         ],
         "yaxis": "y"
        },
        {
         "alignmentgroup": "True",
         "hovertemplate": "Dataset Version=dropna + all + scaled<br>Model=%{x}<br>Test RMSE=%{text}<extra></extra>",
         "legendgroup": "dropna + all + scaled",
         "marker": {
          "color": "#FF7F0E"
         },
         "name": "dropna + all + scaled",
         "offsetgroup": "dropna + all + scaled",
         "orientation": "v",
         "showlegend": true,
         "text": [
          3.1735,
          3.5425,
          3.8472,
          3.9875,
          5.1563,
          5.7621,
          6.5558
         ],
         "textposition": "auto",
         "type": "bar",
         "x": [
          "CatBoostRegressor",
          "LGBMRegressor",
          "XGBRegressor",
          "RandomForestRegressor",
          "DecisionTreeRegressor",
          "LinearRegression",
          "LassoRegression"
         ],
         "xaxis": "x",
         "y": [
          3.1735,
          3.5425,
          3.8472,
          3.9875,
          5.1563,
          5.7621,
          6.5558
         ],
         "yaxis": "y"
        },
        {
         "alignmentgroup": "True",
         "hovertemplate": "Dataset Version=imputed + all + unscaled<br>Model=%{x}<br>Test RMSE=%{text}<extra></extra>",
         "legendgroup": "imputed + all + unscaled",
         "marker": {
          "color": "#2CA02C"
         },
         "name": "imputed + all + unscaled",
         "offsetgroup": "imputed + all + unscaled",
         "orientation": "v",
         "showlegend": true,
         "text": [
          3.3892,
          3.4266,
          3.5818,
          3.7071,
          4.3004,
          5.3815,
          5.3889
         ],
         "textposition": "auto",
         "type": "bar",
         "x": [
          "CatBoostRegressor",
          "LGBMRegressor",
          "RandomForestRegressor",
          "XGBRegressor",
          "DecisionTreeRegressor",
          "LinearRegression",
          "LassoRegression"
         ],
         "xaxis": "x",
         "y": [
          3.3892,
          3.4266,
          3.5818,
          3.7071,
          4.3004,
          5.3815,
          5.3889
         ],
         "yaxis": "y"
        },
        {
         "alignmentgroup": "True",
         "hovertemplate": "Dataset Version=imputed + all + scaled<br>Model=%{x}<br>Test RMSE=%{text}<extra></extra>",
         "legendgroup": "imputed + all + scaled",
         "marker": {
          "color": "#D62728"
         },
         "name": "imputed + all + scaled",
         "offsetgroup": "imputed + all + scaled",
         "orientation": "v",
         "showlegend": true,
         "text": [
          3.3892,
          3.446,
          3.6312,
          3.6502,
          4.4447,
          5.3815,
          6.0046
         ],
         "textposition": "auto",
         "type": "bar",
         "x": [
          "CatBoostRegressor",
          "LGBMRegressor",
          "RandomForestRegressor",
          "XGBRegressor",
          "DecisionTreeRegressor",
          "LinearRegression",
          "LassoRegression"
         ],
         "xaxis": "x",
         "y": [
          3.3892,
          3.446,
          3.6312,
          3.6502,
          4.4447,
          5.3815,
          6.0046
         ],
         "yaxis": "y"
        },
        {
         "alignmentgroup": "True",
         "hovertemplate": "Dataset Version=dropna + selected + unscaled<br>Model=%{x}<br>Test RMSE=%{text}<extra></extra>",
         "legendgroup": "dropna + selected + unscaled",
         "marker": {
          "color": "#9467BD"
         },
         "name": "dropna + selected + unscaled",
         "offsetgroup": "dropna + selected + unscaled",
         "orientation": "v",
         "showlegend": true,
         "text": [
          3.2544,
          3.7753,
          3.9988,
          4.1007,
          4.8904,
          5.8109,
          5.8439
         ],
         "textposition": "auto",
         "type": "bar",
         "x": [
          "CatBoostRegressor",
          "LGBMRegressor",
          "RandomForestRegressor",
          "XGBRegressor",
          "DecisionTreeRegressor",
          "LinearRegression",
          "LassoRegression"
         ],
         "xaxis": "x",
         "y": [
          3.2544,
          3.7753,
          3.9988,
          4.1007,
          4.8904,
          5.8109,
          5.8439
         ],
         "yaxis": "y"
        },
        {
         "alignmentgroup": "True",
         "hovertemplate": "Dataset Version=dropna + selected + scaled<br>Model=%{x}<br>Test RMSE=%{text}<extra></extra>",
         "legendgroup": "dropna + selected + scaled",
         "marker": {
          "color": "#8C564B"
         },
         "name": "dropna + selected + scaled",
         "offsetgroup": "dropna + selected + scaled",
         "orientation": "v",
         "showlegend": true,
         "text": [
          3.2544,
          3.7988,
          4.0585,
          4.1007,
          5.0132,
          5.8109,
          6.5558
         ],
         "textposition": "auto",
         "type": "bar",
         "x": [
          "CatBoostRegressor",
          "LGBMRegressor",
          "RandomForestRegressor",
          "XGBRegressor",
          "DecisionTreeRegressor",
          "LinearRegression",
          "LassoRegression"
         ],
         "xaxis": "x",
         "y": [
          3.2544,
          3.7988,
          4.0585,
          4.1007,
          5.0132,
          5.8109,
          6.5558
         ],
         "yaxis": "y"
        },
        {
         "alignmentgroup": "True",
         "hovertemplate": "Dataset Version=imputed + selected + unscaled<br>Model=%{x}<br>Test RMSE=%{text}<extra></extra>",
         "legendgroup": "imputed + selected + unscaled",
         "marker": {
          "color": "#E377C2"
         },
         "name": "imputed + selected + unscaled",
         "offsetgroup": "imputed + selected + unscaled",
         "orientation": "v",
         "showlegend": true,
         "text": [
          3.4511,
          3.4867,
          3.8384,
          3.8962,
          4.0778,
          5.3902,
          5.4014
         ],
         "textposition": "auto",
         "type": "bar",
         "x": [
          "LGBMRegressor",
          "CatBoostRegressor",
          "RandomForestRegressor",
          "XGBRegressor",
          "DecisionTreeRegressor",
          "LinearRegression",
          "LassoRegression"
         ],
         "xaxis": "x",
         "y": [
          3.4511,
          3.4867,
          3.8384,
          3.8962,
          4.0778,
          5.3902,
          5.4014
         ],
         "yaxis": "y"
        },
        {
         "alignmentgroup": "True",
         "hovertemplate": "Dataset Version=imputed + selected + scaled<br>Model=%{x}<br>Test RMSE=%{text}<extra></extra>",
         "legendgroup": "imputed + selected + scaled",
         "marker": {
          "color": "#7F7F7F"
         },
         "name": "imputed + selected + scaled",
         "offsetgroup": "imputed + selected + scaled",
         "orientation": "v",
         "showlegend": true,
         "text": [
          3.4609,
          3.4867,
          3.7887,
          3.8963,
          4.1692,
          5.3902,
          6.0104
         ],
         "textposition": "auto",
         "type": "bar",
         "x": [
          "LGBMRegressor",
          "CatBoostRegressor",
          "RandomForestRegressor",
          "XGBRegressor",
          "DecisionTreeRegressor",
          "LinearRegression",
          "LassoRegression"
         ],
         "xaxis": "x",
         "y": [
          3.4609,
          3.4867,
          3.7887,
          3.8963,
          4.1692,
          5.3902,
          6.0104
         ],
         "yaxis": "y"
        }
       ],
       "layout": {
        "barmode": "group",
        "legend": {
         "title": {
          "text": "Dataset Version"
         },
         "tracegroupgap": 0
        },
        "margin": {
         "t": 60
        },
        "template": {
         "data": {
          "pie": [
           {
            "automargin": true,
            "type": "pie"
           }
          ],
          "scatter": [
           {
            "line": {
             "width": 3
            },
            "marker": {
             "size": 9
            },
            "type": "scatter"
           }
          ],
          "scatter3d": [
           {
            "line": {
             "width": 3
            },
            "marker": {
             "size": 9
            },
            "type": "scatter3d"
           }
          ],
          "scattergeo": [
           {
            "line": {
             "width": 3
            },
            "marker": {
             "size": 9
            },
            "type": "scattergeo"
           }
          ],
          "scattergl": [
           {
            "line": {
             "width": 3
            },
            "marker": {
             "size": 9
            },
            "type": "scattergl"
           }
          ],
          "scatterpolar": [
           {
            "line": {
             "width": 3
            },
            "marker": {
             "size": 9
            },
            "type": "scatterpolar"
           }
          ],
          "scatterpolargl": [
           {
            "line": {
             "width": 3
            },
            "marker": {
             "size": 9
            },
            "type": "scatterpolargl"
           }
          ],
          "scatterternary": [
           {
            "line": {
             "width": 3
            },
            "marker": {
             "size": 9
            },
            "type": "scatterternary"
           }
          ],
          "table": [
           {
            "cells": {
             "height": 30
            },
            "header": {
             "height": 36
            },
            "type": "table"
           }
          ]
         },
         "layout": {
          "font": {
           "size": 18
          },
          "xaxis": {
           "title": {
            "standoff": 15
           }
          },
          "yaxis": {
           "title": {
            "standoff": 15
           }
          }
         }
        },
        "title": {
         "text": "RMSE Score on Test Set"
        },
        "xaxis": {
         "anchor": "y",
         "domain": [
          0,
          1
         ],
         "title": {
          "text": "Model"
         }
        },
        "yaxis": {
         "anchor": "x",
         "domain": [
          0,
          1
         ],
         "title": {
          "text": "Test RMSE"
         }
        }
       }
      }
     },
     "metadata": {},
     "output_type": "display_data"
    }
   ],
   "source": [
    "order_all = {'Dataset Version': [\n",
    "    'dropna + all + unscaled', 'dropna + all + scaled',\n",
    "    'imputed + all + unscaled', 'imputed + all + scaled',\n",
    "    'dropna + selected + unscaled', 'dropna + selected + scaled',\n",
    "    'imputed + selected + unscaled', 'imputed + selected + scaled'\n",
    "]}\n",
    "\n",
    "fig = px.bar(\n",
    "    df_all_ver, x='Model', y='Test RMSE', color='Dataset Version',\n",
    "    barmode='group', category_orders=order_all, text='Test RMSE'\n",
    ")\n",
    "\n",
    "fig.update_layout(title='RMSE Score on Test Set')\n",
    "\n",
    "fig.show()"
   ]
  },
  {
   "cell_type": "code",
   "execution_count": 41,
   "metadata": {
    "cell_id": "00004-e6cc76da-a309-4a59-8136-ad80d3a1ba4d",
    "execution_millis": 139,
    "execution_start": 1602851042958,
    "output_cleared": false,
    "source_hash": "19d3c8",
    "tags": []
   },
   "outputs": [
    {
     "ename": "ValueError",
     "evalue": "Value of 'y' is not the name of a column in 'data_frame'. Expected one of ['Model', 'Train R2', 'CV R2', 'Test R2', 'Train RMSE', 'CV RMSE', 'Test RMSE', 'Train MAE', 'CV MAE', 'Test MAE', 'Dataset Version'] but received: Fit Time",
     "output_type": "error",
     "traceback": [
      "\u001b[1;31m---------------------------------------------------------------------------\u001b[0m",
      "\u001b[1;31mValueError\u001b[0m                                Traceback (most recent call last)",
      "\u001b[1;32m<ipython-input-41-2a94bf6d6485>\u001b[0m in \u001b[0;36m<module>\u001b[1;34m\u001b[0m\n\u001b[1;32m----> 1\u001b[1;33m fig = px.bar(\n\u001b[0m\u001b[0;32m      2\u001b[0m     \u001b[0mdf_all_ver\u001b[0m\u001b[1;33m,\u001b[0m \u001b[0mx\u001b[0m\u001b[1;33m=\u001b[0m\u001b[1;34m'Model'\u001b[0m\u001b[1;33m,\u001b[0m \u001b[0my\u001b[0m\u001b[1;33m=\u001b[0m\u001b[1;34m'Fit Time'\u001b[0m\u001b[1;33m,\u001b[0m \u001b[0mcolor\u001b[0m\u001b[1;33m=\u001b[0m\u001b[1;34m'Dataset Version'\u001b[0m\u001b[1;33m,\u001b[0m\u001b[1;33m\u001b[0m\u001b[1;33m\u001b[0m\u001b[0m\n\u001b[0;32m      3\u001b[0m     \u001b[0mbarmode\u001b[0m\u001b[1;33m=\u001b[0m\u001b[1;34m'group'\u001b[0m\u001b[1;33m,\u001b[0m \u001b[0mcategory_orders\u001b[0m\u001b[1;33m=\u001b[0m\u001b[0morder_all\u001b[0m\u001b[1;33m,\u001b[0m \u001b[0mtext\u001b[0m\u001b[1;33m=\u001b[0m\u001b[1;34m'Fit Time'\u001b[0m\u001b[1;33m,\u001b[0m\u001b[1;33m\u001b[0m\u001b[1;33m\u001b[0m\u001b[0m\n\u001b[0;32m      4\u001b[0m     \u001b[0mlog_y\u001b[0m\u001b[1;33m=\u001b[0m\u001b[1;32mTrue\u001b[0m\u001b[1;33m\u001b[0m\u001b[1;33m\u001b[0m\u001b[0m\n\u001b[0;32m      5\u001b[0m )\n",
      "\u001b[1;32mc:\\Users\\Fikri\\Documents\\venv-ds\\lib\\site-packages\\plotly\\express\\_chart_types.py\u001b[0m in \u001b[0;36mbar\u001b[1;34m(data_frame, x, y, color, facet_row, facet_col, facet_col_wrap, facet_row_spacing, facet_col_spacing, hover_name, hover_data, custom_data, text, base, error_x, error_x_minus, error_y, error_y_minus, animation_frame, animation_group, category_orders, labels, color_discrete_sequence, color_discrete_map, color_continuous_scale, range_color, color_continuous_midpoint, opacity, orientation, barmode, log_x, log_y, range_x, range_y, title, template, width, height)\u001b[0m\n\u001b[0;32m    348\u001b[0m     \u001b[0mmark\u001b[0m\u001b[1;33m.\u001b[0m\u001b[1;33m\u001b[0m\u001b[1;33m\u001b[0m\u001b[0m\n\u001b[0;32m    349\u001b[0m     \"\"\"\n\u001b[1;32m--> 350\u001b[1;33m     return make_figure(\n\u001b[0m\u001b[0;32m    351\u001b[0m         \u001b[0margs\u001b[0m\u001b[1;33m=\u001b[0m\u001b[0mlocals\u001b[0m\u001b[1;33m(\u001b[0m\u001b[1;33m)\u001b[0m\u001b[1;33m,\u001b[0m\u001b[1;33m\u001b[0m\u001b[1;33m\u001b[0m\u001b[0m\n\u001b[0;32m    352\u001b[0m         \u001b[0mconstructor\u001b[0m\u001b[1;33m=\u001b[0m\u001b[0mgo\u001b[0m\u001b[1;33m.\u001b[0m\u001b[0mBar\u001b[0m\u001b[1;33m,\u001b[0m\u001b[1;33m\u001b[0m\u001b[1;33m\u001b[0m\u001b[0m\n",
      "\u001b[1;32mc:\\Users\\Fikri\\Documents\\venv-ds\\lib\\site-packages\\plotly\\express\\_core.py\u001b[0m in \u001b[0;36mmake_figure\u001b[1;34m(args, constructor, trace_patch, layout_patch)\u001b[0m\n\u001b[0;32m   1824\u001b[0m     \u001b[0mapply_default_cascade\u001b[0m\u001b[1;33m(\u001b[0m\u001b[0margs\u001b[0m\u001b[1;33m)\u001b[0m\u001b[1;33m\u001b[0m\u001b[1;33m\u001b[0m\u001b[0m\n\u001b[0;32m   1825\u001b[0m \u001b[1;33m\u001b[0m\u001b[0m\n\u001b[1;32m-> 1826\u001b[1;33m     \u001b[0margs\u001b[0m \u001b[1;33m=\u001b[0m \u001b[0mbuild_dataframe\u001b[0m\u001b[1;33m(\u001b[0m\u001b[0margs\u001b[0m\u001b[1;33m,\u001b[0m \u001b[0mconstructor\u001b[0m\u001b[1;33m)\u001b[0m\u001b[1;33m\u001b[0m\u001b[1;33m\u001b[0m\u001b[0m\n\u001b[0m\u001b[0;32m   1827\u001b[0m     \u001b[1;32mif\u001b[0m \u001b[0mconstructor\u001b[0m \u001b[1;32min\u001b[0m \u001b[1;33m[\u001b[0m\u001b[0mgo\u001b[0m\u001b[1;33m.\u001b[0m\u001b[0mTreemap\u001b[0m\u001b[1;33m,\u001b[0m \u001b[0mgo\u001b[0m\u001b[1;33m.\u001b[0m\u001b[0mSunburst\u001b[0m\u001b[1;33m]\u001b[0m \u001b[1;32mand\u001b[0m \u001b[0margs\u001b[0m\u001b[1;33m[\u001b[0m\u001b[1;34m\"path\"\u001b[0m\u001b[1;33m]\u001b[0m \u001b[1;32mis\u001b[0m \u001b[1;32mnot\u001b[0m \u001b[1;32mNone\u001b[0m\u001b[1;33m:\u001b[0m\u001b[1;33m\u001b[0m\u001b[1;33m\u001b[0m\u001b[0m\n\u001b[0;32m   1828\u001b[0m         \u001b[0margs\u001b[0m \u001b[1;33m=\u001b[0m \u001b[0mprocess_dataframe_hierarchy\u001b[0m\u001b[1;33m(\u001b[0m\u001b[0margs\u001b[0m\u001b[1;33m)\u001b[0m\u001b[1;33m\u001b[0m\u001b[1;33m\u001b[0m\u001b[0m\n",
      "\u001b[1;32mc:\\Users\\Fikri\\Documents\\venv-ds\\lib\\site-packages\\plotly\\express\\_core.py\u001b[0m in \u001b[0;36mbuild_dataframe\u001b[1;34m(args, constructor)\u001b[0m\n\u001b[0;32m   1356\u001b[0m     \u001b[1;31m# now that things have been prepped, we do the systematic rewriting of `args`\u001b[0m\u001b[1;33m\u001b[0m\u001b[1;33m\u001b[0m\u001b[1;33m\u001b[0m\u001b[0m\n\u001b[0;32m   1357\u001b[0m \u001b[1;33m\u001b[0m\u001b[0m\n\u001b[1;32m-> 1358\u001b[1;33m     df_output, wide_id_vars = process_args_into_dataframe(\n\u001b[0m\u001b[0;32m   1359\u001b[0m         \u001b[0margs\u001b[0m\u001b[1;33m,\u001b[0m \u001b[0mwide_mode\u001b[0m\u001b[1;33m,\u001b[0m \u001b[0mvar_name\u001b[0m\u001b[1;33m,\u001b[0m \u001b[0mvalue_name\u001b[0m\u001b[1;33m\u001b[0m\u001b[1;33m\u001b[0m\u001b[0m\n\u001b[0;32m   1360\u001b[0m     )\n",
      "\u001b[1;32mc:\\Users\\Fikri\\Documents\\venv-ds\\lib\\site-packages\\plotly\\express\\_core.py\u001b[0m in \u001b[0;36mprocess_args_into_dataframe\u001b[1;34m(args, wide_mode, var_name, value_name)\u001b[0m\n\u001b[0;32m   1162\u001b[0m                         \u001b[1;32mif\u001b[0m \u001b[0margument\u001b[0m \u001b[1;33m==\u001b[0m \u001b[1;34m\"index\"\u001b[0m\u001b[1;33m:\u001b[0m\u001b[1;33m\u001b[0m\u001b[1;33m\u001b[0m\u001b[0m\n\u001b[0;32m   1163\u001b[0m                             \u001b[0merr_msg\u001b[0m \u001b[1;33m+=\u001b[0m \u001b[1;34m\"\\n To use the index, pass it in directly as `df.index`.\"\u001b[0m\u001b[1;33m\u001b[0m\u001b[1;33m\u001b[0m\u001b[0m\n\u001b[1;32m-> 1164\u001b[1;33m                         \u001b[1;32mraise\u001b[0m \u001b[0mValueError\u001b[0m\u001b[1;33m(\u001b[0m\u001b[0merr_msg\u001b[0m\u001b[1;33m)\u001b[0m\u001b[1;33m\u001b[0m\u001b[1;33m\u001b[0m\u001b[0m\n\u001b[0m\u001b[0;32m   1165\u001b[0m                 \u001b[1;32melif\u001b[0m \u001b[0mlength\u001b[0m \u001b[1;32mand\u001b[0m \u001b[0mlen\u001b[0m\u001b[1;33m(\u001b[0m\u001b[0mdf_input\u001b[0m\u001b[1;33m[\u001b[0m\u001b[0margument\u001b[0m\u001b[1;33m]\u001b[0m\u001b[1;33m)\u001b[0m \u001b[1;33m!=\u001b[0m \u001b[0mlength\u001b[0m\u001b[1;33m:\u001b[0m\u001b[1;33m\u001b[0m\u001b[1;33m\u001b[0m\u001b[0m\n\u001b[0;32m   1166\u001b[0m                     raise ValueError(\n",
      "\u001b[1;31mValueError\u001b[0m: Value of 'y' is not the name of a column in 'data_frame'. Expected one of ['Model', 'Train R2', 'CV R2', 'Test R2', 'Train RMSE', 'CV RMSE', 'Test RMSE', 'Train MAE', 'CV MAE', 'Test MAE', 'Dataset Version'] but received: Fit Time"
     ]
    }
   ],
   "source": [
    "fig = px.bar(\n",
    "    df_all_ver, x='Model', y='Fit Time', color='Dataset Version',\n",
    "    barmode='group', category_orders=order_all, text='Fit Time',\n",
    "    log_y=True\n",
    ")\n",
    "\n",
    "fig.update_layout(title='Training Time on Cross Validation 5 Folds')\n",
    "\n",
    "fig.show()"
   ]
  },
  {
   "cell_type": "code",
   "execution_count": 42,
   "metadata": {
    "cell_id": "00003-0a221708-2f30-45f5-8507-8b3104cce91e",
    "execution_millis": 211,
    "execution_start": 1602850857283,
    "output_cleared": false,
    "source_hash": "d1533531"
   },
   "outputs": [
    {
     "data": {
      "application/vnd.plotly.v1+json": {
       "config": {
        "plotlyServerURL": "https://plot.ly"
       },
       "data": [
        {
         "alignmentgroup": "True",
         "hovertemplate": "Dataset Version=dropna + all + unscaled<br>Model=%{x}<br>Test RMSE=%{text}<extra></extra>",
         "legendgroup": "dropna + all + unscaled",
         "marker": {
          "color": "#1F77B4"
         },
         "name": "dropna + all + unscaled",
         "offsetgroup": "dropna + all + unscaled",
         "orientation": "v",
         "showlegend": true,
         "text": [
          3.1735,
          3.5669,
          3.847,
          3.9693,
          5.2961,
          5.7621,
          5.803999999999999
         ],
         "textposition": "auto",
         "type": "bar",
         "x": [
          "CatBoostRegressor",
          "LGBMRegressor",
          "XGBRegressor",
          "RandomForestRegressor",
          "DecisionTreeRegressor",
          "LinearRegression",
          "LassoRegression"
         ],
         "xaxis": "x",
         "y": [
          3.1735,
          3.5669,
          3.847,
          3.9693,
          5.2961,
          5.7621,
          5.803999999999999
         ],
         "yaxis": "y"
        },
        {
         "alignmentgroup": "True",
         "hovertemplate": "Dataset Version=dropna + all + scaled<br>Model=%{x}<br>Test RMSE=%{text}<extra></extra>",
         "legendgroup": "dropna + all + scaled",
         "marker": {
          "color": "#FF7F0E"
         },
         "name": "dropna + all + scaled",
         "offsetgroup": "dropna + all + scaled",
         "orientation": "v",
         "showlegend": true,
         "text": [
          3.1735,
          3.5425,
          3.8472,
          3.9875,
          5.1563,
          5.7621,
          6.5558
         ],
         "textposition": "auto",
         "type": "bar",
         "x": [
          "CatBoostRegressor",
          "LGBMRegressor",
          "XGBRegressor",
          "RandomForestRegressor",
          "DecisionTreeRegressor",
          "LinearRegression",
          "LassoRegression"
         ],
         "xaxis": "x",
         "y": [
          3.1735,
          3.5425,
          3.8472,
          3.9875,
          5.1563,
          5.7621,
          6.5558
         ],
         "yaxis": "y"
        },
        {
         "alignmentgroup": "True",
         "hovertemplate": "Dataset Version=imputed + all + unscaled<br>Model=%{x}<br>Test RMSE=%{text}<extra></extra>",
         "legendgroup": "imputed + all + unscaled",
         "marker": {
          "color": "#2CA02C"
         },
         "name": "imputed + all + unscaled",
         "offsetgroup": "imputed + all + unscaled",
         "orientation": "v",
         "showlegend": true,
         "text": [
          3.3892,
          3.4266,
          3.5818,
          3.7071,
          4.3004,
          5.3815,
          5.3889
         ],
         "textposition": "auto",
         "type": "bar",
         "x": [
          "CatBoostRegressor",
          "LGBMRegressor",
          "RandomForestRegressor",
          "XGBRegressor",
          "DecisionTreeRegressor",
          "LinearRegression",
          "LassoRegression"
         ],
         "xaxis": "x",
         "y": [
          3.3892,
          3.4266,
          3.5818,
          3.7071,
          4.3004,
          5.3815,
          5.3889
         ],
         "yaxis": "y"
        },
        {
         "alignmentgroup": "True",
         "hovertemplate": "Dataset Version=imputed + all + scaled<br>Model=%{x}<br>Test RMSE=%{text}<extra></extra>",
         "legendgroup": "imputed + all + scaled",
         "marker": {
          "color": "#D62728"
         },
         "name": "imputed + all + scaled",
         "offsetgroup": "imputed + all + scaled",
         "orientation": "v",
         "showlegend": true,
         "text": [
          3.3892,
          3.446,
          3.6312,
          3.6502,
          4.4447,
          5.3815,
          6.0046
         ],
         "textposition": "auto",
         "type": "bar",
         "x": [
          "CatBoostRegressor",
          "LGBMRegressor",
          "RandomForestRegressor",
          "XGBRegressor",
          "DecisionTreeRegressor",
          "LinearRegression",
          "LassoRegression"
         ],
         "xaxis": "x",
         "y": [
          3.3892,
          3.446,
          3.6312,
          3.6502,
          4.4447,
          5.3815,
          6.0046
         ],
         "yaxis": "y"
        }
       ],
       "layout": {
        "barmode": "group",
        "legend": {
         "title": {
          "text": "Dataset Version"
         },
         "tracegroupgap": 0
        },
        "margin": {
         "t": 60
        },
        "template": {
         "data": {
          "pie": [
           {
            "automargin": true,
            "type": "pie"
           }
          ],
          "scatter": [
           {
            "line": {
             "width": 3
            },
            "marker": {
             "size": 9
            },
            "type": "scatter"
           }
          ],
          "scatter3d": [
           {
            "line": {
             "width": 3
            },
            "marker": {
             "size": 9
            },
            "type": "scatter3d"
           }
          ],
          "scattergeo": [
           {
            "line": {
             "width": 3
            },
            "marker": {
             "size": 9
            },
            "type": "scattergeo"
           }
          ],
          "scattergl": [
           {
            "line": {
             "width": 3
            },
            "marker": {
             "size": 9
            },
            "type": "scattergl"
           }
          ],
          "scatterpolar": [
           {
            "line": {
             "width": 3
            },
            "marker": {
             "size": 9
            },
            "type": "scatterpolar"
           }
          ],
          "scatterpolargl": [
           {
            "line": {
             "width": 3
            },
            "marker": {
             "size": 9
            },
            "type": "scatterpolargl"
           }
          ],
          "scatterternary": [
           {
            "line": {
             "width": 3
            },
            "marker": {
             "size": 9
            },
            "type": "scatterternary"
           }
          ],
          "table": [
           {
            "cells": {
             "height": 30
            },
            "header": {
             "height": 36
            },
            "type": "table"
           }
          ]
         },
         "layout": {
          "font": {
           "size": 18
          },
          "xaxis": {
           "title": {
            "standoff": 15
           }
          },
          "yaxis": {
           "title": {
            "standoff": 15
           }
          }
         }
        },
        "title": {
         "text": "Model RMSE Score on Test Set (all features only)"
        },
        "xaxis": {
         "anchor": "y",
         "domain": [
          0,
          1
         ],
         "title": {
          "text": "Model"
         }
        },
        "yaxis": {
         "anchor": "x",
         "domain": [
          0,
          1
         ],
         "title": {
          "text": "Test RMSE"
         }
        }
       }
      }
     },
     "metadata": {},
     "output_type": "display_data"
    }
   ],
   "source": [
    "filtered = df_all_ver[df_all_ver['Dataset Version'].str.contains('all')]\n",
    "\n",
    "order = {'Dataset Version': ['dropna + all + unscaled', 'dropna + all + scaled',\n",
    "                             'imputed + all + unscaled', 'imputed + all + scaled']}\n",
    "\n",
    "fig = px.bar(filtered, x='Model', y='Test RMSE', color='Dataset Version',\n",
    "             barmode='group', category_orders=order, text='Test RMSE')\n",
    "\n",
    "fig.update_layout(title='Model RMSE Score on Test Set (all features only)')\n",
    "\n",
    "fig.show()"
   ]
  },
  {
   "cell_type": "markdown",
   "metadata": {
    "cell_id": "00004-654fb49d-5f40-4c19-b413-46e0483706b6"
   },
   "source": [
    "## Best 5 Models"
   ]
  },
  {
   "cell_type": "code",
   "execution_count": 116,
   "metadata": {},
   "outputs": [
    {
     "data": {
      "text/html": [
       "<div>\n",
       "<style scoped>\n",
       "    .dataframe tbody tr th:only-of-type {\n",
       "        vertical-align: middle;\n",
       "    }\n",
       "\n",
       "    .dataframe tbody tr th {\n",
       "        vertical-align: top;\n",
       "    }\n",
       "\n",
       "    .dataframe thead th {\n",
       "        text-align: right;\n",
       "    }\n",
       "</style>\n",
       "<table border=\"1\" class=\"dataframe\">\n",
       "  <thead>\n",
       "    <tr style=\"text-align: right;\">\n",
       "      <th></th>\n",
       "      <th>Model</th>\n",
       "      <th>Train R2</th>\n",
       "      <th>CV R2</th>\n",
       "      <th>Test R2</th>\n",
       "      <th>Train RMSE</th>\n",
       "      <th>CV RMSE</th>\n",
       "      <th>Test RMSE</th>\n",
       "      <th>Train MAE</th>\n",
       "      <th>CV MAE</th>\n",
       "      <th>Test MAE</th>\n",
       "      <th>Dataset Version</th>\n",
       "    </tr>\n",
       "  </thead>\n",
       "  <tbody>\n",
       "    <tr>\n",
       "      <th>0</th>\n",
       "      <td>CatBoost</td>\n",
       "      <td>0.992</td>\n",
       "      <td>0.917</td>\n",
       "      <td>0.927</td>\n",
       "      <td>0.973</td>\n",
       "      <td>3.061</td>\n",
       "      <td>3.174</td>\n",
       "      <td>0.647</td>\n",
       "      <td>1.150</td>\n",
       "      <td>1.211</td>\n",
       "      <td>dropna + all + unscaled</td>\n",
       "    </tr>\n",
       "    <tr>\n",
       "      <th>0</th>\n",
       "      <td>CatBoost</td>\n",
       "      <td>0.989</td>\n",
       "      <td>0.915</td>\n",
       "      <td>0.923</td>\n",
       "      <td>1.130</td>\n",
       "      <td>3.141</td>\n",
       "      <td>3.254</td>\n",
       "      <td>0.723</td>\n",
       "      <td>1.213</td>\n",
       "      <td>1.258</td>\n",
       "      <td>dropna + selected + unscaled</td>\n",
       "    </tr>\n",
       "    <tr>\n",
       "      <th>0</th>\n",
       "      <td>CatBoost</td>\n",
       "      <td>0.993</td>\n",
       "      <td>0.924</td>\n",
       "      <td>0.912</td>\n",
       "      <td>0.956</td>\n",
       "      <td>3.038</td>\n",
       "      <td>3.389</td>\n",
       "      <td>0.633</td>\n",
       "      <td>1.179</td>\n",
       "      <td>1.158</td>\n",
       "      <td>imputed + all + unscaled</td>\n",
       "    </tr>\n",
       "    <tr>\n",
       "      <th>1</th>\n",
       "      <td>LGBM</td>\n",
       "      <td>0.971</td>\n",
       "      <td>0.916</td>\n",
       "      <td>0.910</td>\n",
       "      <td>1.882</td>\n",
       "      <td>3.197</td>\n",
       "      <td>3.427</td>\n",
       "      <td>0.829</td>\n",
       "      <td>1.269</td>\n",
       "      <td>1.258</td>\n",
       "      <td>imputed + all + unscaled</td>\n",
       "    </tr>\n",
       "    <tr>\n",
       "      <th>0</th>\n",
       "      <td>LGBM</td>\n",
       "      <td>0.966</td>\n",
       "      <td>0.910</td>\n",
       "      <td>0.909</td>\n",
       "      <td>2.041</td>\n",
       "      <td>3.304</td>\n",
       "      <td>3.451</td>\n",
       "      <td>0.899</td>\n",
       "      <td>1.286</td>\n",
       "      <td>1.292</td>\n",
       "      <td>imputed + selected + unscaled</td>\n",
       "    </tr>\n",
       "    <tr>\n",
       "      <th>1</th>\n",
       "      <td>CatBoost</td>\n",
       "      <td>0.990</td>\n",
       "      <td>0.917</td>\n",
       "      <td>0.907</td>\n",
       "      <td>1.114</td>\n",
       "      <td>3.180</td>\n",
       "      <td>3.487</td>\n",
       "      <td>0.717</td>\n",
       "      <td>1.231</td>\n",
       "      <td>1.257</td>\n",
       "      <td>imputed + selected + unscaled</td>\n",
       "    </tr>\n",
       "    <tr>\n",
       "      <th>1</th>\n",
       "      <td>LGBM</td>\n",
       "      <td>0.971</td>\n",
       "      <td>0.916</td>\n",
       "      <td>0.908</td>\n",
       "      <td>1.860</td>\n",
       "      <td>3.130</td>\n",
       "      <td>3.567</td>\n",
       "      <td>0.803</td>\n",
       "      <td>1.208</td>\n",
       "      <td>1.333</td>\n",
       "      <td>dropna + all + unscaled</td>\n",
       "    </tr>\n",
       "    <tr>\n",
       "      <th>2</th>\n",
       "      <td>RandomForest</td>\n",
       "      <td>0.988</td>\n",
       "      <td>0.910</td>\n",
       "      <td>0.902</td>\n",
       "      <td>1.234</td>\n",
       "      <td>3.314</td>\n",
       "      <td>3.582</td>\n",
       "      <td>0.487</td>\n",
       "      <td>1.328</td>\n",
       "      <td>1.378</td>\n",
       "      <td>imputed + all + unscaled</td>\n",
       "    </tr>\n",
       "    <tr>\n",
       "      <th>3</th>\n",
       "      <td>XGB</td>\n",
       "      <td>0.998</td>\n",
       "      <td>0.909</td>\n",
       "      <td>0.894</td>\n",
       "      <td>0.541</td>\n",
       "      <td>3.322</td>\n",
       "      <td>3.707</td>\n",
       "      <td>0.375</td>\n",
       "      <td>1.260</td>\n",
       "      <td>1.272</td>\n",
       "      <td>imputed + all + unscaled</td>\n",
       "    </tr>\n",
       "    <tr>\n",
       "      <th>1</th>\n",
       "      <td>LGBM</td>\n",
       "      <td>0.966</td>\n",
       "      <td>0.906</td>\n",
       "      <td>0.897</td>\n",
       "      <td>2.028</td>\n",
       "      <td>3.317</td>\n",
       "      <td>3.775</td>\n",
       "      <td>0.870</td>\n",
       "      <td>1.257</td>\n",
       "      <td>1.369</td>\n",
       "      <td>dropna + selected + unscaled</td>\n",
       "    </tr>\n",
       "  </tbody>\n",
       "</table>\n",
       "</div>"
      ],
      "text/plain": [
       "          Model  Train R2  CV R2  Test R2  Train RMSE  CV RMSE  Test RMSE  \\\n",
       "0      CatBoost     0.992  0.917    0.927       0.973    3.061      3.174   \n",
       "0      CatBoost     0.989  0.915    0.923       1.130    3.141      3.254   \n",
       "0      CatBoost     0.993  0.924    0.912       0.956    3.038      3.389   \n",
       "1          LGBM     0.971  0.916    0.910       1.882    3.197      3.427   \n",
       "0          LGBM     0.966  0.910    0.909       2.041    3.304      3.451   \n",
       "1      CatBoost     0.990  0.917    0.907       1.114    3.180      3.487   \n",
       "1          LGBM     0.971  0.916    0.908       1.860    3.130      3.567   \n",
       "2  RandomForest     0.988  0.910    0.902       1.234    3.314      3.582   \n",
       "3           XGB     0.998  0.909    0.894       0.541    3.322      3.707   \n",
       "1          LGBM     0.966  0.906    0.897       2.028    3.317      3.775   \n",
       "\n",
       "   Train MAE  CV MAE  Test MAE                Dataset Version  \n",
       "0      0.647   1.150     1.211        dropna + all + unscaled  \n",
       "0      0.723   1.213     1.258   dropna + selected + unscaled  \n",
       "0      0.633   1.179     1.158       imputed + all + unscaled  \n",
       "1      0.829   1.269     1.258       imputed + all + unscaled  \n",
       "0      0.899   1.286     1.292  imputed + selected + unscaled  \n",
       "1      0.717   1.231     1.257  imputed + selected + unscaled  \n",
       "1      0.803   1.208     1.333        dropna + all + unscaled  \n",
       "2      0.487   1.328     1.378       imputed + all + unscaled  \n",
       "3      0.375   1.260     1.272       imputed + all + unscaled  \n",
       "1      0.870   1.257     1.369   dropna + selected + unscaled  "
      ]
     },
     "execution_count": 116,
     "metadata": {},
     "output_type": "execute_result"
    }
   ],
   "source": [
    "df_all_ver[df_all_ver[\"Dataset Version\"].str.contains(\"unscaled\")].head(10)"
   ]
  },
  {
   "cell_type": "code",
   "execution_count": 117,
   "metadata": {},
   "outputs": [],
   "source": [
    "def replace_ver(data):\n",
    "    if data == \"dropna + all + unscaled\":\n",
    "        return \"Ver1\"\n",
    "    elif data == \"imputed + all + unscaled\":\n",
    "        return \"Ver2\"\n",
    "    elif data == \"dropna + selected + unscaled\":\n",
    "        return \"Ver3\"\n",
    "    else:\n",
    "        return \"Ver4\""
   ]
  },
  {
   "cell_type": "code",
   "execution_count": 118,
   "metadata": {},
   "outputs": [
    {
     "data": {
      "text/html": [
       "<div>\n",
       "<style scoped>\n",
       "    .dataframe tbody tr th:only-of-type {\n",
       "        vertical-align: middle;\n",
       "    }\n",
       "\n",
       "    .dataframe tbody tr th {\n",
       "        vertical-align: top;\n",
       "    }\n",
       "\n",
       "    .dataframe thead th {\n",
       "        text-align: right;\n",
       "    }\n",
       "</style>\n",
       "<table border=\"1\" class=\"dataframe\">\n",
       "  <thead>\n",
       "    <tr style=\"text-align: right;\">\n",
       "      <th></th>\n",
       "      <th>Model</th>\n",
       "      <th>Train R2</th>\n",
       "      <th>CV R2</th>\n",
       "      <th>Test R2</th>\n",
       "      <th>Train RMSE</th>\n",
       "      <th>CV RMSE</th>\n",
       "      <th>Test RMSE</th>\n",
       "      <th>Train MAE</th>\n",
       "      <th>CV MAE</th>\n",
       "      <th>Test MAE</th>\n",
       "    </tr>\n",
       "  </thead>\n",
       "  <tbody>\n",
       "    <tr>\n",
       "      <th>0</th>\n",
       "      <td>CatBoost (Ver1)</td>\n",
       "      <td>0.992</td>\n",
       "      <td>0.917</td>\n",
       "      <td>0.927</td>\n",
       "      <td>0.973</td>\n",
       "      <td>3.061</td>\n",
       "      <td>3.174</td>\n",
       "      <td>0.647</td>\n",
       "      <td>1.150</td>\n",
       "      <td>1.211</td>\n",
       "    </tr>\n",
       "    <tr>\n",
       "      <th>0</th>\n",
       "      <td>CatBoost (Ver3)</td>\n",
       "      <td>0.989</td>\n",
       "      <td>0.915</td>\n",
       "      <td>0.923</td>\n",
       "      <td>1.130</td>\n",
       "      <td>3.141</td>\n",
       "      <td>3.254</td>\n",
       "      <td>0.723</td>\n",
       "      <td>1.213</td>\n",
       "      <td>1.258</td>\n",
       "    </tr>\n",
       "    <tr>\n",
       "      <th>0</th>\n",
       "      <td>CatBoost (Ver2)</td>\n",
       "      <td>0.993</td>\n",
       "      <td>0.924</td>\n",
       "      <td>0.912</td>\n",
       "      <td>0.956</td>\n",
       "      <td>3.038</td>\n",
       "      <td>3.389</td>\n",
       "      <td>0.633</td>\n",
       "      <td>1.179</td>\n",
       "      <td>1.158</td>\n",
       "    </tr>\n",
       "    <tr>\n",
       "      <th>1</th>\n",
       "      <td>LGBM (Ver2)</td>\n",
       "      <td>0.971</td>\n",
       "      <td>0.916</td>\n",
       "      <td>0.910</td>\n",
       "      <td>1.882</td>\n",
       "      <td>3.197</td>\n",
       "      <td>3.427</td>\n",
       "      <td>0.829</td>\n",
       "      <td>1.269</td>\n",
       "      <td>1.258</td>\n",
       "    </tr>\n",
       "    <tr>\n",
       "      <th>0</th>\n",
       "      <td>LGBM (Ver4)</td>\n",
       "      <td>0.966</td>\n",
       "      <td>0.910</td>\n",
       "      <td>0.909</td>\n",
       "      <td>2.041</td>\n",
       "      <td>3.304</td>\n",
       "      <td>3.451</td>\n",
       "      <td>0.899</td>\n",
       "      <td>1.286</td>\n",
       "      <td>1.292</td>\n",
       "    </tr>\n",
       "    <tr>\n",
       "      <th>1</th>\n",
       "      <td>CatBoost (Ver4)</td>\n",
       "      <td>0.990</td>\n",
       "      <td>0.917</td>\n",
       "      <td>0.907</td>\n",
       "      <td>1.114</td>\n",
       "      <td>3.180</td>\n",
       "      <td>3.487</td>\n",
       "      <td>0.717</td>\n",
       "      <td>1.231</td>\n",
       "      <td>1.257</td>\n",
       "    </tr>\n",
       "    <tr>\n",
       "      <th>1</th>\n",
       "      <td>LGBM (Ver1)</td>\n",
       "      <td>0.971</td>\n",
       "      <td>0.916</td>\n",
       "      <td>0.908</td>\n",
       "      <td>1.860</td>\n",
       "      <td>3.130</td>\n",
       "      <td>3.567</td>\n",
       "      <td>0.803</td>\n",
       "      <td>1.208</td>\n",
       "      <td>1.333</td>\n",
       "    </tr>\n",
       "    <tr>\n",
       "      <th>2</th>\n",
       "      <td>RandomForest (Ver2)</td>\n",
       "      <td>0.988</td>\n",
       "      <td>0.910</td>\n",
       "      <td>0.902</td>\n",
       "      <td>1.234</td>\n",
       "      <td>3.314</td>\n",
       "      <td>3.582</td>\n",
       "      <td>0.487</td>\n",
       "      <td>1.328</td>\n",
       "      <td>1.378</td>\n",
       "    </tr>\n",
       "    <tr>\n",
       "      <th>3</th>\n",
       "      <td>XGB (Ver2)</td>\n",
       "      <td>0.998</td>\n",
       "      <td>0.909</td>\n",
       "      <td>0.894</td>\n",
       "      <td>0.541</td>\n",
       "      <td>3.322</td>\n",
       "      <td>3.707</td>\n",
       "      <td>0.375</td>\n",
       "      <td>1.260</td>\n",
       "      <td>1.272</td>\n",
       "    </tr>\n",
       "    <tr>\n",
       "      <th>1</th>\n",
       "      <td>LGBM (Ver3)</td>\n",
       "      <td>0.966</td>\n",
       "      <td>0.906</td>\n",
       "      <td>0.897</td>\n",
       "      <td>2.028</td>\n",
       "      <td>3.317</td>\n",
       "      <td>3.775</td>\n",
       "      <td>0.870</td>\n",
       "      <td>1.257</td>\n",
       "      <td>1.369</td>\n",
       "    </tr>\n",
       "  </tbody>\n",
       "</table>\n",
       "</div>"
      ],
      "text/plain": [
       "                 Model  Train R2  CV R2  Test R2  Train RMSE  CV RMSE  \\\n",
       "0      CatBoost (Ver1)     0.992  0.917    0.927       0.973    3.061   \n",
       "0      CatBoost (Ver3)     0.989  0.915    0.923       1.130    3.141   \n",
       "0      CatBoost (Ver2)     0.993  0.924    0.912       0.956    3.038   \n",
       "1          LGBM (Ver2)     0.971  0.916    0.910       1.882    3.197   \n",
       "0          LGBM (Ver4)     0.966  0.910    0.909       2.041    3.304   \n",
       "1      CatBoost (Ver4)     0.990  0.917    0.907       1.114    3.180   \n",
       "1          LGBM (Ver1)     0.971  0.916    0.908       1.860    3.130   \n",
       "2  RandomForest (Ver2)     0.988  0.910    0.902       1.234    3.314   \n",
       "3           XGB (Ver2)     0.998  0.909    0.894       0.541    3.322   \n",
       "1          LGBM (Ver3)     0.966  0.906    0.897       2.028    3.317   \n",
       "\n",
       "   Test RMSE  Train MAE  CV MAE  Test MAE  \n",
       "0      3.174      0.647   1.150     1.211  \n",
       "0      3.254      0.723   1.213     1.258  \n",
       "0      3.389      0.633   1.179     1.158  \n",
       "1      3.427      0.829   1.269     1.258  \n",
       "0      3.451      0.899   1.286     1.292  \n",
       "1      3.487      0.717   1.231     1.257  \n",
       "1      3.567      0.803   1.208     1.333  \n",
       "2      3.582      0.487   1.328     1.378  \n",
       "3      3.707      0.375   1.260     1.272  \n",
       "1      3.775      0.870   1.257     1.369  "
      ]
     },
     "execution_count": 118,
     "metadata": {},
     "output_type": "execute_result"
    }
   ],
   "source": [
    "best_10_before = df_all_ver[df_all_ver[\"Dataset Version\"].str.contains(\"unscaled\")].head(10)\n",
    "best_10_before[\"Dataset Version\"] = best_10_before[\"Dataset Version\"].apply(replace_ver)\n",
    "best_10_before[\"Model\"] = best_10_before[\"Model\"] + \" (\" + best_10_before[\"Dataset Version\"] + \")\"\n",
    "best_10_before.drop(columns=[\"Dataset Version\"], inplace=True)\n",
    "best_10_before"
   ]
  },
  {
   "cell_type": "code",
   "execution_count": 119,
   "metadata": {},
   "outputs": [
    {
     "data": {
      "application/vnd.plotly.v1+json": {
       "config": {
        "plotlyServerURL": "https://plot.ly"
       },
       "data": [
        {
         "name": "Train RMSE",
         "text": [
          0.973,
          1.13,
          0.956,
          1.882,
          2.041
         ],
         "textposition": "auto",
         "type": "bar",
         "x": [
          "CatBoost (Ver1)",
          "CatBoost (Ver3)",
          "CatBoost (Ver2)",
          "LGBM (Ver2)",
          "LGBM (Ver4)"
         ],
         "y": [
          0.973,
          1.13,
          0.956,
          1.882,
          2.041
         ]
        },
        {
         "name": "CV RMSE",
         "text": [
          3.061,
          3.141,
          3.038,
          3.197,
          3.304
         ],
         "textposition": "auto",
         "type": "bar",
         "x": [
          "CatBoost (Ver1)",
          "CatBoost (Ver3)",
          "CatBoost (Ver2)",
          "LGBM (Ver2)",
          "LGBM (Ver4)"
         ],
         "y": [
          3.061,
          3.141,
          3.038,
          3.197,
          3.304
         ]
        },
        {
         "name": "Test RMSE",
         "text": [
          3.174,
          3.254,
          3.389,
          3.427,
          3.451
         ],
         "textposition": "auto",
         "type": "bar",
         "x": [
          "CatBoost (Ver1)",
          "CatBoost (Ver3)",
          "CatBoost (Ver2)",
          "LGBM (Ver2)",
          "LGBM (Ver4)"
         ],
         "y": [
          3.174,
          3.254,
          3.389,
          3.427,
          3.451
         ]
        }
       ],
       "layout": {
        "font": {
         "size": 17
        },
        "height": 500,
        "margin": {
         "b": 120,
         "l": 100,
         "r": 100,
         "t": 100
        },
        "template": {
         "data": {
          "pie": [
           {
            "automargin": true,
            "type": "pie"
           }
          ],
          "scatter": [
           {
            "line": {
             "width": 3
            },
            "marker": {
             "size": 9
            },
            "type": "scatter"
           }
          ],
          "scatter3d": [
           {
            "line": {
             "width": 3
            },
            "marker": {
             "size": 9
            },
            "type": "scatter3d"
           }
          ],
          "scattergeo": [
           {
            "line": {
             "width": 3
            },
            "marker": {
             "size": 9
            },
            "type": "scattergeo"
           }
          ],
          "scattergl": [
           {
            "line": {
             "width": 3
            },
            "marker": {
             "size": 9
            },
            "type": "scattergl"
           }
          ],
          "scatterpolar": [
           {
            "line": {
             "width": 3
            },
            "marker": {
             "size": 9
            },
            "type": "scatterpolar"
           }
          ],
          "scatterpolargl": [
           {
            "line": {
             "width": 3
            },
            "marker": {
             "size": 9
            },
            "type": "scatterpolargl"
           }
          ],
          "scatterternary": [
           {
            "line": {
             "width": 3
            },
            "marker": {
             "size": 9
            },
            "type": "scatterternary"
           }
          ],
          "table": [
           {
            "cells": {
             "height": 30
            },
            "header": {
             "height": 36
            },
            "type": "table"
           }
          ]
         },
         "layout": {
          "font": {
           "size": 18
          },
          "xaxis": {
           "title": {
            "standoff": 15
           }
          },
          "yaxis": {
           "title": {
            "standoff": 15
           }
          }
         }
        },
        "title": {
         "text": "Best 5 Model's RMSE Score"
        },
        "width": 600,
        "xaxis": {},
        "yaxis": {
         "title": {
          "text": "RMSE Score"
         }
        }
       }
      }
     },
     "metadata": {},
     "output_type": "display_data"
    }
   ],
   "source": [
    "best_10_before = df_all_ver[df_all_ver[\"Dataset Version\"].str.contains(\"unscaled\")].head(5)\n",
    "best_10_before[\"Dataset Version\"] = best_10_before[\"Dataset Version\"].apply(replace_ver)\n",
    "best_10_before[\"Model\"] = best_10_before[\"Model\"] + \" (\" + best_10_before[\"Dataset Version\"] + \")\"\n",
    "best_10_before.drop(columns=[\"Dataset Version\"], inplace=True)\n",
    "\n",
    "fig = go.Figure()\n",
    "\n",
    "fig.add_trace(go.Bar(\n",
    "    x=best_10_before['Model'], y=best_10_before['Train RMSE'],\n",
    "    text=best_10_before['Train RMSE'], textposition='auto',\n",
    "    name='Train RMSE'\n",
    "))\n",
    "fig.add_trace(go.Bar(\n",
    "    x=best_10_before['Model'], y=best_10_before['CV RMSE'],\n",
    "    text=best_10_before['CV RMSE'], textposition='auto',\n",
    "    name='CV RMSE'\n",
    "))\n",
    "fig.add_trace(go.Bar(\n",
    "    x=best_10_before['Model'], y=best_10_before['Test RMSE'],\n",
    "    text=best_10_before['Test RMSE'], textposition='auto',\n",
    "    name='Test RMSE'\n",
    "))\n",
    "fig.update_layout(\n",
    "    title='Best 5 Model\\'s RMSE Score',\n",
    "    xaxis=None,\n",
    "    yaxis=dict(title='RMSE Score'),\n",
    "    height=500,\n",
    "    width=600,\n",
    "    margin=dict(l=100, r=100, t=100, b=120),\n",
    "    font_size=17,\n",
    "    \n",
    ")\n",
    "fig.show()"
   ]
  },
  {
   "cell_type": "code",
   "execution_count": 120,
   "metadata": {},
   "outputs": [
    {
     "data": {
      "application/vnd.plotly.v1+json": {
       "config": {
        "plotlyServerURL": "https://plot.ly"
       },
       "data": [
        {
         "name": "Train R2",
         "text": [
          0.992,
          0.989,
          0.993,
          0.971,
          0.966
         ],
         "textposition": "auto",
         "type": "bar",
         "x": [
          "CatBoost (Ver1)",
          "CatBoost (Ver3)",
          "CatBoost (Ver2)",
          "LGBM (Ver2)",
          "LGBM (Ver4)"
         ],
         "y": [
          0.992,
          0.989,
          0.993,
          0.971,
          0.966
         ]
        },
        {
         "name": "CV R2",
         "text": [
          0.917,
          0.915,
          0.924,
          0.916,
          0.91
         ],
         "textposition": "auto",
         "type": "bar",
         "x": [
          "CatBoost (Ver1)",
          "CatBoost (Ver3)",
          "CatBoost (Ver2)",
          "LGBM (Ver2)",
          "LGBM (Ver4)"
         ],
         "y": [
          0.917,
          0.915,
          0.924,
          0.916,
          0.91
         ]
        },
        {
         "name": "Test R2",
         "text": [
          0.927,
          0.923,
          0.912,
          0.91,
          0.909
         ],
         "textposition": "auto",
         "type": "bar",
         "x": [
          "CatBoost (Ver1)",
          "CatBoost (Ver3)",
          "CatBoost (Ver2)",
          "LGBM (Ver2)",
          "LGBM (Ver4)"
         ],
         "y": [
          0.927,
          0.923,
          0.912,
          0.91,
          0.909
         ]
        }
       ],
       "layout": {
        "font": {
         "size": 17
        },
        "height": 500,
        "margin": {
         "b": 120,
         "l": 100,
         "r": 100,
         "t": 100
        },
        "template": {
         "data": {
          "pie": [
           {
            "automargin": true,
            "type": "pie"
           }
          ],
          "scatter": [
           {
            "line": {
             "width": 3
            },
            "marker": {
             "size": 9
            },
            "type": "scatter"
           }
          ],
          "scatter3d": [
           {
            "line": {
             "width": 3
            },
            "marker": {
             "size": 9
            },
            "type": "scatter3d"
           }
          ],
          "scattergeo": [
           {
            "line": {
             "width": 3
            },
            "marker": {
             "size": 9
            },
            "type": "scattergeo"
           }
          ],
          "scattergl": [
           {
            "line": {
             "width": 3
            },
            "marker": {
             "size": 9
            },
            "type": "scattergl"
           }
          ],
          "scatterpolar": [
           {
            "line": {
             "width": 3
            },
            "marker": {
             "size": 9
            },
            "type": "scatterpolar"
           }
          ],
          "scatterpolargl": [
           {
            "line": {
             "width": 3
            },
            "marker": {
             "size": 9
            },
            "type": "scatterpolargl"
           }
          ],
          "scatterternary": [
           {
            "line": {
             "width": 3
            },
            "marker": {
             "size": 9
            },
            "type": "scatterternary"
           }
          ],
          "table": [
           {
            "cells": {
             "height": 30
            },
            "header": {
             "height": 36
            },
            "type": "table"
           }
          ]
         },
         "layout": {
          "font": {
           "size": 18
          },
          "xaxis": {
           "title": {
            "standoff": 15
           }
          },
          "yaxis": {
           "title": {
            "standoff": 15
           }
          }
         }
        },
        "title": {
         "text": "Best 5 Model's R-Squared Score"
        },
        "width": 600,
        "xaxis": {},
        "yaxis": {
         "title": {
          "text": "R2 Score"
         }
        }
       }
      }
     },
     "metadata": {},
     "output_type": "display_data"
    }
   ],
   "source": [
    "fig = go.Figure()\n",
    "\n",
    "fig.add_trace(go.Bar(\n",
    "    x=best_10_before['Model'], y=best_10_before['Train R2'],\n",
    "    text=best_10_before['Train R2'], textposition='auto',\n",
    "    name='Train R2'\n",
    "))\n",
    "fig.add_trace(go.Bar(\n",
    "    x=best_10_before['Model'], y=best_10_before['CV R2'],\n",
    "    text=best_10_before['CV R2'], textposition='auto',\n",
    "    name='CV R2'\n",
    "))\n",
    "fig.add_trace(go.Bar(\n",
    "    x=best_10_before['Model'], y=best_10_before['Test R2'],\n",
    "    text=best_10_before['Test R2'], textposition='auto',\n",
    "    name='Test R2'\n",
    "))\n",
    "fig.update_layout(\n",
    "    title='Best 5 Model\\'s R-Squared Score',\n",
    "    xaxis=None,\n",
    "    yaxis=dict(title='R2 Score'),\n",
    "    height=500,\n",
    "    width=600,\n",
    "    margin=dict(l=100, r=100, t=100, b=120),\n",
    "    font_size=17,\n",
    "    \n",
    ")\n",
    "fig.show()"
   ]
  },
  {
   "cell_type": "code",
   "execution_count": null,
   "metadata": {},
   "outputs": [],
   "source": []
  }
 ],
 "metadata": {
  "deepnote_execution_queue": [],
  "deepnote_notebook_id": "a373ca5a-055e-4d24-bc9d-e95d5aab8611",
  "jupytext": {
   "formats": "notebooks//ipynb,markdown//md,scripts//py:percent"
  },
  "kernelspec": {
   "display_name": "Python 3",
   "language": "python",
   "name": "python3"
  },
  "language_info": {
   "codemirror_mode": {
    "name": "ipython",
    "version": 3
   },
   "file_extension": ".py",
   "mimetype": "text/x-python",
   "name": "python",
   "nbconvert_exporter": "python",
   "pygments_lexer": "ipython3",
   "version": "3.8.6-final"
  }
 },
 "nbformat": 4,
 "nbformat_minor": 4
}
