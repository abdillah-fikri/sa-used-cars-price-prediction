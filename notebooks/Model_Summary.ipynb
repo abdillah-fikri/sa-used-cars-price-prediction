{
 "cells": [
  {
   "cell_type": "code",
   "execution_count": 1,
   "metadata": {
    "cell_id": "00000-22bc0b26-1ea9-4900-a08a-fed218efdabd",
    "execution_millis": 554,
    "execution_start": 1602829891550,
    "output_cleared": false,
    "source_hash": "9c12a302"
   },
   "outputs": [
    {
     "data": {
      "text/plain": [
       "Templates configuration\n",
       "-----------------------\n",
       "    Default template: 'presentation'\n",
       "    Available templates:\n",
       "        ['ggplot2', 'seaborn', 'simple_white', 'plotly',\n",
       "         'plotly_white', 'plotly_dark', 'presentation', 'xgridoff',\n",
       "         'ygridoff', 'gridon', 'none']"
      ]
     },
     "execution_count": 1,
     "metadata": {},
     "output_type": "execute_result"
    }
   ],
   "source": [
    "import pandas as pd\n",
    "import numpy as np\n",
    "import plotly.graph_objects as go\n",
    "import plotly.express as px\n",
    "import plotly.io as pio\n",
    "\n",
    "pio.templates.default = \"presentation\"\n",
    "pio.templates"
   ]
  },
  {
   "cell_type": "code",
   "execution_count": 2,
   "metadata": {},
   "outputs": [
    {
     "data": {
      "text/html": [
       "<div>\n",
       "<style scoped>\n",
       "    .dataframe tbody tr th:only-of-type {\n",
       "        vertical-align: middle;\n",
       "    }\n",
       "\n",
       "    .dataframe tbody tr th {\n",
       "        vertical-align: top;\n",
       "    }\n",
       "\n",
       "    .dataframe thead th {\n",
       "        text-align: right;\n",
       "    }\n",
       "</style>\n",
       "<table border=\"1\" class=\"dataframe\">\n",
       "  <thead>\n",
       "    <tr style=\"text-align: right;\">\n",
       "      <th></th>\n",
       "      <th>Model</th>\n",
       "      <th>Fit Time</th>\n",
       "      <th>Train R2</th>\n",
       "      <th>CV R2</th>\n",
       "      <th>Test R2</th>\n",
       "      <th>Train RMSE</th>\n",
       "      <th>CV RMSE</th>\n",
       "      <th>Test RMSE</th>\n",
       "      <th>Dataset Version</th>\n",
       "    </tr>\n",
       "  </thead>\n",
       "  <tbody>\n",
       "    <tr>\n",
       "      <th>0</th>\n",
       "      <td>CatBoost</td>\n",
       "      <td>3.480</td>\n",
       "      <td>0.992</td>\n",
       "      <td>0.925</td>\n",
       "      <td>0.925</td>\n",
       "      <td>0.950</td>\n",
       "      <td>2.939</td>\n",
       "      <td>3.207</td>\n",
       "      <td>dropna + all + unscaled</td>\n",
       "    </tr>\n",
       "    <tr>\n",
       "      <th>8</th>\n",
       "      <td>CatBoost</td>\n",
       "      <td>3.275</td>\n",
       "      <td>0.992</td>\n",
       "      <td>0.925</td>\n",
       "      <td>0.925</td>\n",
       "      <td>0.950</td>\n",
       "      <td>2.939</td>\n",
       "      <td>3.207</td>\n",
       "      <td>dropna + all + scaled</td>\n",
       "    </tr>\n",
       "    <tr>\n",
       "      <th>0</th>\n",
       "      <td>CatBoost</td>\n",
       "      <td>3.530</td>\n",
       "      <td>0.992</td>\n",
       "      <td>0.923</td>\n",
       "      <td>0.912</td>\n",
       "      <td>0.990</td>\n",
       "      <td>3.078</td>\n",
       "      <td>3.385</td>\n",
       "      <td>imputed + all + unscaled</td>\n",
       "    </tr>\n",
       "    <tr>\n",
       "      <th>8</th>\n",
       "      <td>CatBoost</td>\n",
       "      <td>3.249</td>\n",
       "      <td>0.992</td>\n",
       "      <td>0.923</td>\n",
       "      <td>0.912</td>\n",
       "      <td>0.990</td>\n",
       "      <td>3.078</td>\n",
       "      <td>3.385</td>\n",
       "      <td>imputed + all + scaled</td>\n",
       "    </tr>\n",
       "    <tr>\n",
       "      <th>1</th>\n",
       "      <td>LightGBM</td>\n",
       "      <td>0.219</td>\n",
       "      <td>0.973</td>\n",
       "      <td>0.919</td>\n",
       "      <td>0.904</td>\n",
       "      <td>1.793</td>\n",
       "      <td>3.078</td>\n",
       "      <td>3.648</td>\n",
       "      <td>dropna + all + unscaled</td>\n",
       "    </tr>\n",
       "    <tr>\n",
       "      <th>9</th>\n",
       "      <td>LightGBM</td>\n",
       "      <td>0.230</td>\n",
       "      <td>0.973</td>\n",
       "      <td>0.919</td>\n",
       "      <td>0.903</td>\n",
       "      <td>1.788</td>\n",
       "      <td>3.083</td>\n",
       "      <td>3.649</td>\n",
       "      <td>dropna + all + scaled</td>\n",
       "    </tr>\n",
       "    <tr>\n",
       "      <th>2</th>\n",
       "      <td>XGBoost</td>\n",
       "      <td>0.406</td>\n",
       "      <td>0.998</td>\n",
       "      <td>0.914</td>\n",
       "      <td>0.895</td>\n",
       "      <td>0.544</td>\n",
       "      <td>3.151</td>\n",
       "      <td>3.809</td>\n",
       "      <td>dropna + all + unscaled</td>\n",
       "    </tr>\n",
       "    <tr>\n",
       "      <th>10</th>\n",
       "      <td>XGBoost</td>\n",
       "      <td>0.519</td>\n",
       "      <td>0.998</td>\n",
       "      <td>0.914</td>\n",
       "      <td>0.895</td>\n",
       "      <td>0.544</td>\n",
       "      <td>3.151</td>\n",
       "      <td>3.811</td>\n",
       "      <td>dropna + all + scaled</td>\n",
       "    </tr>\n",
       "    <tr>\n",
       "      <th>11</th>\n",
       "      <td>RandomForest</td>\n",
       "      <td>2.929</td>\n",
       "      <td>0.988</td>\n",
       "      <td>0.914</td>\n",
       "      <td>0.902</td>\n",
       "      <td>1.210</td>\n",
       "      <td>3.177</td>\n",
       "      <td>3.674</td>\n",
       "      <td>dropna + all + scaled</td>\n",
       "    </tr>\n",
       "    <tr>\n",
       "      <th>3</th>\n",
       "      <td>RandomForest</td>\n",
       "      <td>2.914</td>\n",
       "      <td>0.988</td>\n",
       "      <td>0.913</td>\n",
       "      <td>0.902</td>\n",
       "      <td>1.207</td>\n",
       "      <td>3.200</td>\n",
       "      <td>3.675</td>\n",
       "      <td>dropna + all + unscaled</td>\n",
       "    </tr>\n",
       "  </tbody>\n",
       "</table>\n",
       "</div>"
      ],
      "text/plain": [
       "           Model  Fit Time  Train R2  CV R2  Test R2  Train RMSE  CV RMSE  \\\n",
       "0       CatBoost     3.480     0.992  0.925    0.925       0.950    2.939   \n",
       "8       CatBoost     3.275     0.992  0.925    0.925       0.950    2.939   \n",
       "0       CatBoost     3.530     0.992  0.923    0.912       0.990    3.078   \n",
       "8       CatBoost     3.249     0.992  0.923    0.912       0.990    3.078   \n",
       "1       LightGBM     0.219     0.973  0.919    0.904       1.793    3.078   \n",
       "9       LightGBM     0.230     0.973  0.919    0.903       1.788    3.083   \n",
       "2        XGBoost     0.406     0.998  0.914    0.895       0.544    3.151   \n",
       "10       XGBoost     0.519     0.998  0.914    0.895       0.544    3.151   \n",
       "11  RandomForest     2.929     0.988  0.914    0.902       1.210    3.177   \n",
       "3   RandomForest     2.914     0.988  0.913    0.902       1.207    3.200   \n",
       "\n",
       "    Test RMSE           Dataset Version  \n",
       "0       3.207   dropna + all + unscaled  \n",
       "8       3.207     dropna + all + scaled  \n",
       "0       3.385  imputed + all + unscaled  \n",
       "8       3.385    imputed + all + scaled  \n",
       "1       3.648   dropna + all + unscaled  \n",
       "9       3.649     dropna + all + scaled  \n",
       "2       3.809   dropna + all + unscaled  \n",
       "10      3.811     dropna + all + scaled  \n",
       "11      3.674     dropna + all + scaled  \n",
       "3       3.675   dropna + all + unscaled  "
      ]
     },
     "execution_count": 2,
     "metadata": {},
     "output_type": "execute_result"
    }
   ],
   "source": [
    "ver1 = pd.read_csv('../data/processed/summary_dropna_all.csv')\n",
    "ver2 = pd.read_csv('../data/processed/summary_dropna_selected.csv')\n",
    "ver3 = pd.read_csv('../data/processed/summary_imputed_all.csv')\n",
    "ver4 = pd.read_csv('../data/processed/summary_imputed_selected.csv')\n",
    "\n",
    "df_all_ver = pd.concat([ver1, ver2, ver3, ver4], axis=0)\n",
    "df_all_ver.sort_values(by='CV RMSE', inplace=True)\n",
    "df_all_ver = round(df_all_ver, 3)\n",
    "df_all_ver = df_all_ver[~((df_all_ver[\"CV RMSE\"] > 100) | (df_all_ver[\"Test RMSE\"] > 100))]\n",
    "df_all_ver.head(10)"
   ]
  },
  {
   "cell_type": "code",
   "execution_count": 3,
   "metadata": {
    "cell_id": "00002-fda41ab5-1578-4759-95fd-34bbab934939",
    "execution_millis": 82,
    "execution_start": 1602829944018,
    "output_cleared": false,
    "source_hash": "a46fdaaf"
   },
   "outputs": [
    {
     "data": {
      "text/plain": [
       "array(['dropna + all + unscaled', 'dropna + all + scaled',\n",
       "       'imputed + all + unscaled', 'imputed + all + scaled',\n",
       "       'dropna + selected + unscaled', 'dropna + selected + scaled',\n",
       "       'imputed + selected + unscaled', 'imputed + selected + scaled'],\n",
       "      dtype=object)"
      ]
     },
     "execution_count": 3,
     "metadata": {},
     "output_type": "execute_result"
    }
   ],
   "source": [
    "df_all_ver['Dataset Version'].unique()"
   ]
  },
  {
   "cell_type": "code",
   "execution_count": 4,
   "metadata": {
    "cell_id": "00003-7d415f67-fe9a-4bb4-9bee-fa5d53ac3de1",
    "execution_millis": 115,
    "execution_start": 1602852201510,
    "output_cleared": false,
    "source_hash": "69479740",
    "tags": []
   },
   "outputs": [
    {
     "data": {
      "application/vnd.plotly.v1+json": {
       "config": {
        "plotlyServerURL": "https://plot.ly"
       },
       "data": [
        {
         "name": "Train RMSE",
         "text": [
          1.262,
          2.064,
          1.423,
          0.908,
          0.552,
          4.782,
          4.819,
          5.172
         ],
         "textposition": "auto",
         "type": "bar",
         "x": [
          "CatBoost",
          "LightGBM",
          "RandomForest",
          "XGBoost",
          "DecisionTree",
          "Ridge",
          "Linear",
          "Lasso"
         ],
         "y": [
          1.262,
          2.064,
          1.423,
          0.908,
          0.552,
          4.782,
          4.819,
          5.172
         ]
        },
        {
         "name": "CV RMSE",
         "text": [
          3.2,
          3.311,
          3.345,
          3.497,
          4.343,
          4.866,
          4.896,
          5.177
         ],
         "textposition": "auto",
         "type": "bar",
         "x": [
          "CatBoost",
          "LightGBM",
          "RandomForest",
          "XGBoost",
          "DecisionTree",
          "Ridge",
          "Linear",
          "Lasso"
         ],
         "y": [
          3.2,
          3.311,
          3.345,
          3.497,
          4.343,
          4.866,
          4.896,
          5.177
         ]
        },
        {
         "name": "Test RMSE",
         "text": [
          3.396,
          3.656,
          3.723,
          3.822,
          5.3,
          5.569,
          5.603,
          5.956
         ],
         "textposition": "auto",
         "type": "bar",
         "x": [
          "CatBoost",
          "LightGBM",
          "RandomForest",
          "XGBoost",
          "DecisionTree",
          "Ridge",
          "Linear",
          "Lasso"
         ],
         "y": [
          3.396,
          3.656,
          3.723,
          3.822,
          5.3,
          5.569,
          5.603,
          5.956
         ]
        }
       ],
       "layout": {
        "font": {
         "size": 17
        },
        "height": 500,
        "margin": {
         "b": 100,
         "l": 100,
         "r": 100,
         "t": 100
        },
        "shapes": [
         {
          "line": {
           "color": "Red",
           "width": 3
          },
          "type": "rect",
          "x0": 0.55,
          "x1": 1.45,
          "xref": "x",
          "y0": 0,
          "y1": 3.8,
          "yref": "y"
         },
         {
          "line": {
           "color": "Purple",
           "width": 3
          },
          "type": "rect",
          "x0": 4.55,
          "x1": 7.45,
          "xref": "x",
          "y0": 0,
          "y1": 6.1,
          "yref": "y"
         }
        ],
        "template": {
         "data": {
          "pie": [
           {
            "automargin": true,
            "type": "pie"
           }
          ],
          "scatter": [
           {
            "line": {
             "width": 3
            },
            "marker": {
             "size": 9
            },
            "type": "scatter"
           }
          ],
          "scatter3d": [
           {
            "line": {
             "width": 3
            },
            "marker": {
             "size": 9
            },
            "type": "scatter3d"
           }
          ],
          "scattergeo": [
           {
            "line": {
             "width": 3
            },
            "marker": {
             "size": 9
            },
            "type": "scattergeo"
           }
          ],
          "scattergl": [
           {
            "line": {
             "width": 3
            },
            "marker": {
             "size": 9
            },
            "type": "scattergl"
           }
          ],
          "scatterpolar": [
           {
            "line": {
             "width": 3
            },
            "marker": {
             "size": 9
            },
            "type": "scatterpolar"
           }
          ],
          "scatterpolargl": [
           {
            "line": {
             "width": 3
            },
            "marker": {
             "size": 9
            },
            "type": "scatterpolargl"
           }
          ],
          "scatterternary": [
           {
            "line": {
             "width": 3
            },
            "marker": {
             "size": 9
            },
            "type": "scatterternary"
           }
          ],
          "table": [
           {
            "cells": {
             "height": 30
            },
            "header": {
             "height": 36
            },
            "type": "table"
           }
          ]
         },
         "layout": {
          "font": {
           "size": 18
          },
          "xaxis": {
           "title": {
            "standoff": 15
           }
          },
          "yaxis": {
           "title": {
            "standoff": 15
           }
          }
         }
        },
        "title": {
         "text": "Average RMSE Score of Base Model (on 8 dataset version each)"
        },
        "width": 1200,
        "xaxis": {},
        "yaxis": {
         "title": {
          "text": "RMSE Score"
         }
        }
       }
      }
     },
     "metadata": {},
     "output_type": "display_data"
    }
   ],
   "source": [
    "grouped = df_all_ver.groupby(['Model'], as_index=False)[['Train RMSE', 'CV RMSE', 'Test RMSE']].mean()\n",
    "grouped = round(grouped.sort_values(by='Test RMSE'), 3)\n",
    "\n",
    "fig = go.Figure()\n",
    "\n",
    "fig.add_trace(go.Bar(\n",
    "    x=grouped['Model'], y=grouped['Train RMSE'],\n",
    "    text=grouped['Train RMSE'], textposition='auto',\n",
    "    name='Train RMSE'\n",
    "))\n",
    "fig.add_trace(go.Bar(\n",
    "    x=grouped['Model'], y=grouped['CV RMSE'],\n",
    "    text=grouped['CV RMSE'], textposition='auto',\n",
    "    name='CV RMSE'\n",
    "))\n",
    "fig.add_trace(go.Bar(\n",
    "    x=grouped['Model'], y=grouped['Test RMSE'],\n",
    "    text=grouped['Test RMSE'], textposition='auto',\n",
    "    name='Test RMSE'\n",
    "))\n",
    "fig.update_layout(\n",
    "    title='Average RMSE Score of Base Model (on 8 dataset version each)',\n",
    "    xaxis=None,\n",
    "    yaxis=dict(title='RMSE Score'),\n",
    "    height=500,\n",
    "    width=1200,\n",
    "    margin=dict(l=100, r=100, t=100, b=100),\n",
    "    font_size=17\n",
    ")\n",
    "fig.add_shape(type=\"rect\",\n",
    "    xref=\"x\", yref=\"y\",\n",
    "    x0=0.55, y0=0,\n",
    "    x1=1.45, y1=3.8,\n",
    "    line=dict(\n",
    "        color=\"Red\",\n",
    "        width=3,\n",
    "    ),\n",
    ")\n",
    "fig.add_shape(type=\"rect\",\n",
    "    xref=\"x\", yref=\"y\",\n",
    "    x0=4.55, y0=0,\n",
    "    x1=7.45, y1=6.1,\n",
    "    line=dict(\n",
    "        color=\"Purple\",\n",
    "        width=3,\n",
    "    ),\n",
    ")\n",
    "fig.show()"
   ]
  },
  {
   "cell_type": "code",
   "execution_count": 5,
   "metadata": {
    "cell_id": "00003-5f4ebd9b-cf80-4066-b959-a02203215676",
    "execution_millis": 303,
    "execution_start": 1602851013982,
    "output_cleared": false,
    "source_hash": "1be6e537",
    "tags": []
   },
   "outputs": [
    {
     "data": {
      "application/vnd.plotly.v1+json": {
       "config": {
        "plotlyServerURL": "https://plot.ly"
       },
       "data": [
        {
         "alignmentgroup": "True",
         "hovertemplate": "Dataset Version=dropna + all + unscaled<br>Model=%{x}<br>Test RMSE=%{text}<extra></extra>",
         "legendgroup": "dropna + all + unscaled",
         "marker": {
          "color": "#1F77B4"
         },
         "name": "dropna + all + unscaled",
         "offsetgroup": "dropna + all + unscaled",
         "orientation": "v",
         "showlegend": true,
         "text": [
          3.207,
          3.648,
          3.809,
          3.675,
          5.654,
          5.634,
          5.64,
          5.852
         ],
         "textposition": "auto",
         "type": "bar",
         "x": [
          "CatBoost",
          "LightGBM",
          "XGBoost",
          "RandomForest",
          "DecisionTree",
          "Ridge",
          "Linear",
          "Lasso"
         ],
         "xaxis": "x",
         "y": [
          3.207,
          3.648,
          3.809,
          3.675,
          5.654,
          5.634,
          5.64,
          5.852
         ],
         "yaxis": "y"
        },
        {
         "alignmentgroup": "True",
         "hovertemplate": "Dataset Version=dropna + all + scaled<br>Model=%{x}<br>Test RMSE=%{text}<extra></extra>",
         "legendgroup": "dropna + all + scaled",
         "marker": {
          "color": "#FF7F0E"
         },
         "name": "dropna + all + scaled",
         "offsetgroup": "dropna + all + scaled",
         "orientation": "v",
         "showlegend": true,
         "text": [
          3.207,
          3.649,
          3.811,
          3.674,
          5.718,
          5.634,
          6.593
         ],
         "textposition": "auto",
         "type": "bar",
         "x": [
          "CatBoost",
          "LightGBM",
          "XGBoost",
          "RandomForest",
          "DecisionTree",
          "Ridge",
          "Lasso"
         ],
         "xaxis": "x",
         "y": [
          3.207,
          3.649,
          3.811,
          3.674,
          5.718,
          5.634,
          6.593
         ],
         "yaxis": "y"
        },
        {
         "alignmentgroup": "True",
         "hovertemplate": "Dataset Version=imputed + all + unscaled<br>Model=%{x}<br>Test RMSE=%{text}<extra></extra>",
         "legendgroup": "imputed + all + unscaled",
         "marker": {
          "color": "#2CA02C"
         },
         "name": "imputed + all + unscaled",
         "offsetgroup": "imputed + all + unscaled",
         "orientation": "v",
         "showlegend": true,
         "text": [
          3.385,
          3.392,
          3.454,
          3.505,
          5.991,
          5.322,
          5.322,
          5.39
         ],
         "textposition": "auto",
         "type": "bar",
         "x": [
          "CatBoost",
          "RandomForest",
          "LightGBM",
          "XGBoost",
          "DecisionTree",
          "Linear",
          "Ridge",
          "Lasso"
         ],
         "xaxis": "x",
         "y": [
          3.385,
          3.392,
          3.454,
          3.505,
          5.991,
          5.322,
          5.322,
          5.39
         ],
         "yaxis": "y"
        },
        {
         "alignmentgroup": "True",
         "hovertemplate": "Dataset Version=imputed + all + scaled<br>Model=%{x}<br>Test RMSE=%{text}<extra></extra>",
         "legendgroup": "imputed + all + scaled",
         "marker": {
          "color": "#D62728"
         },
         "name": "imputed + all + scaled",
         "offsetgroup": "imputed + all + scaled",
         "orientation": "v",
         "showlegend": true,
         "text": [
          3.385,
          3.452,
          3.38,
          3.504,
          5.701,
          5.322,
          5.955
         ],
         "textposition": "auto",
         "type": "bar",
         "x": [
          "CatBoost",
          "RandomForest",
          "LightGBM",
          "XGBoost",
          "DecisionTree",
          "Ridge",
          "Lasso"
         ],
         "xaxis": "x",
         "y": [
          3.385,
          3.452,
          3.38,
          3.504,
          5.701,
          5.322,
          5.955
         ],
         "yaxis": "y"
        },
        {
         "alignmentgroup": "True",
         "hovertemplate": "Dataset Version=dropna + selected + unscaled<br>Model=%{x}<br>Test RMSE=%{text}<extra></extra>",
         "legendgroup": "dropna + selected + unscaled",
         "marker": {
          "color": "#9467BD"
         },
         "name": "dropna + selected + unscaled",
         "offsetgroup": "dropna + selected + unscaled",
         "orientation": "v",
         "showlegend": true,
         "text": [
          4.027,
          3.485,
          4.072,
          4.196,
          5.374,
          5.828,
          5.829,
          5.897
         ],
         "textposition": "auto",
         "type": "bar",
         "x": [
          "LightGBM",
          "CatBoost",
          "RandomForest",
          "XGBoost",
          "DecisionTree",
          "Ridge",
          "Linear",
          "Lasso"
         ],
         "xaxis": "x",
         "y": [
          4.027,
          3.485,
          4.072,
          4.196,
          5.374,
          5.828,
          5.829,
          5.897
         ],
         "yaxis": "y"
        },
        {
         "alignmentgroup": "True",
         "hovertemplate": "Dataset Version=dropna + selected + scaled<br>Model=%{x}<br>Test RMSE=%{text}<extra></extra>",
         "legendgroup": "dropna + selected + scaled",
         "marker": {
          "color": "#8C564B"
         },
         "name": "dropna + selected + scaled",
         "offsetgroup": "dropna + selected + scaled",
         "orientation": "v",
         "showlegend": true,
         "text": [
          3.485,
          4.041,
          4.032,
          4.197,
          5.718,
          5.829,
          5.829,
          6.593
         ],
         "textposition": "auto",
         "type": "bar",
         "x": [
          "CatBoost",
          "LightGBM",
          "RandomForest",
          "XGBoost",
          "DecisionTree",
          "Ridge",
          "Linear",
          "Lasso"
         ],
         "xaxis": "x",
         "y": [
          3.485,
          4.041,
          4.032,
          4.197,
          5.718,
          5.829,
          5.829,
          6.593
         ],
         "yaxis": "y"
        },
        {
         "alignmentgroup": "True",
         "hovertemplate": "Dataset Version=imputed + selected + unscaled<br>Model=%{x}<br>Test RMSE=%{text}<extra></extra>",
         "legendgroup": "imputed + selected + unscaled",
         "marker": {
          "color": "#E377C2"
         },
         "name": "imputed + selected + unscaled",
         "offsetgroup": "imputed + selected + unscaled",
         "orientation": "v",
         "showlegend": true,
         "text": [
          3.506,
          3.719,
          3.508,
          3.776,
          4.046,
          5.49,
          5.5,
          5.402
         ],
         "textposition": "auto",
         "type": "bar",
         "x": [
          "CatBoost",
          "RandomForest",
          "LightGBM",
          "XGBoost",
          "DecisionTree",
          "Ridge",
          "Linear",
          "Lasso"
         ],
         "xaxis": "x",
         "y": [
          3.506,
          3.719,
          3.508,
          3.776,
          4.046,
          5.49,
          5.5,
          5.402
         ],
         "yaxis": "y"
        },
        {
         "alignmentgroup": "True",
         "hovertemplate": "Dataset Version=imputed + selected + scaled<br>Model=%{x}<br>Test RMSE=%{text}<extra></extra>",
         "legendgroup": "imputed + selected + scaled",
         "marker": {
          "color": "#7F7F7F"
         },
         "name": "imputed + selected + scaled",
         "offsetgroup": "imputed + selected + scaled",
         "orientation": "v",
         "showlegend": true,
         "text": [
          3.506,
          3.765,
          3.544,
          3.776,
          4.196,
          5.49,
          5.5,
          5.964
         ],
         "textposition": "auto",
         "type": "bar",
         "x": [
          "CatBoost",
          "RandomForest",
          "LightGBM",
          "XGBoost",
          "DecisionTree",
          "Ridge",
          "Linear",
          "Lasso"
         ],
         "xaxis": "x",
         "y": [
          3.506,
          3.765,
          3.544,
          3.776,
          4.196,
          5.49,
          5.5,
          5.964
         ],
         "yaxis": "y"
        }
       ],
       "layout": {
        "barmode": "group",
        "height": 500,
        "legend": {
         "title": {
          "text": "Dataset Version"
         },
         "tracegroupgap": 0
        },
        "margin": {
         "t": 60
        },
        "template": {
         "data": {
          "pie": [
           {
            "automargin": true,
            "type": "pie"
           }
          ],
          "scatter": [
           {
            "line": {
             "width": 3
            },
            "marker": {
             "size": 9
            },
            "type": "scatter"
           }
          ],
          "scatter3d": [
           {
            "line": {
             "width": 3
            },
            "marker": {
             "size": 9
            },
            "type": "scatter3d"
           }
          ],
          "scattergeo": [
           {
            "line": {
             "width": 3
            },
            "marker": {
             "size": 9
            },
            "type": "scattergeo"
           }
          ],
          "scattergl": [
           {
            "line": {
             "width": 3
            },
            "marker": {
             "size": 9
            },
            "type": "scattergl"
           }
          ],
          "scatterpolar": [
           {
            "line": {
             "width": 3
            },
            "marker": {
             "size": 9
            },
            "type": "scatterpolar"
           }
          ],
          "scatterpolargl": [
           {
            "line": {
             "width": 3
            },
            "marker": {
             "size": 9
            },
            "type": "scatterpolargl"
           }
          ],
          "scatterternary": [
           {
            "line": {
             "width": 3
            },
            "marker": {
             "size": 9
            },
            "type": "scatterternary"
           }
          ],
          "table": [
           {
            "cells": {
             "height": 30
            },
            "header": {
             "height": 36
            },
            "type": "table"
           }
          ]
         },
         "layout": {
          "font": {
           "size": 18
          },
          "xaxis": {
           "title": {
            "standoff": 15
           }
          },
          "yaxis": {
           "title": {
            "standoff": 15
           }
          }
         }
        },
        "title": {
         "text": "RMSE Score on Test Set"
        },
        "width": 1200,
        "xaxis": {
         "anchor": "y",
         "domain": [
          0,
          1
         ],
         "title": {
          "text": "Model"
         }
        },
        "yaxis": {
         "anchor": "x",
         "domain": [
          0,
          1
         ],
         "title": {
          "text": "Test RMSE"
         }
        }
       }
      }
     },
     "metadata": {},
     "output_type": "display_data"
    }
   ],
   "source": [
    "order_all = {'Dataset Version': [\n",
    "    'dropna + all + unscaled', 'dropna + all + scaled',\n",
    "    'imputed + all + unscaled', 'imputed + all + scaled',\n",
    "    'dropna + selected + unscaled', 'dropna + selected + scaled',\n",
    "    'imputed + selected + unscaled', 'imputed + selected + scaled'\n",
    "]}\n",
    "\n",
    "fig = px.bar(\n",
    "    df_all_ver, x='Model', y='Test RMSE', color='Dataset Version',\n",
    "    barmode='group', category_orders=order_all, text='Test RMSE'\n",
    ")\n",
    "\n",
    "fig.update_layout(\n",
    "    title='RMSE Score on Test Set', \n",
    "    height=500,\n",
    "    width=1200\n",
    ")\n",
    "\n",
    "fig.show()"
   ]
  },
  {
   "cell_type": "code",
   "execution_count": 6,
   "metadata": {
    "cell_id": "00004-e6cc76da-a309-4a59-8136-ad80d3a1ba4d",
    "execution_millis": 139,
    "execution_start": 1602851042958,
    "output_cleared": false,
    "source_hash": "19d3c8",
    "tags": []
   },
   "outputs": [
    {
     "data": {
      "application/vnd.plotly.v1+json": {
       "config": {
        "plotlyServerURL": "https://plot.ly"
       },
       "data": [
        {
         "alignmentgroup": "True",
         "hovertemplate": "Dataset Version=dropna + all + unscaled<br>Model=%{x}<br>Fit Time=%{text}<extra></extra>",
         "legendgroup": "dropna + all + unscaled",
         "marker": {
          "color": "#1F77B4"
         },
         "name": "dropna + all + unscaled",
         "offsetgroup": "dropna + all + unscaled",
         "orientation": "v",
         "showlegend": true,
         "text": [
          3.48,
          0.219,
          0.406,
          2.914,
          0.05,
          0.01,
          0.026,
          0.015
         ],
         "textposition": "auto",
         "type": "bar",
         "x": [
          "CatBoost",
          "LightGBM",
          "XGBoost",
          "RandomForest",
          "DecisionTree",
          "Ridge",
          "Linear",
          "Lasso"
         ],
         "xaxis": "x",
         "y": [
          3.48,
          0.219,
          0.406,
          2.914,
          0.05,
          0.01,
          0.026,
          0.015
         ],
         "yaxis": "y"
        },
        {
         "alignmentgroup": "True",
         "hovertemplate": "Dataset Version=dropna + all + scaled<br>Model=%{x}<br>Fit Time=%{text}<extra></extra>",
         "legendgroup": "dropna + all + scaled",
         "marker": {
          "color": "#FF7F0E"
         },
         "name": "dropna + all + scaled",
         "offsetgroup": "dropna + all + scaled",
         "orientation": "v",
         "showlegend": true,
         "text": [
          3.275,
          0.23,
          0.519,
          2.929,
          0.052,
          0.006,
          0.008
         ],
         "textposition": "auto",
         "type": "bar",
         "x": [
          "CatBoost",
          "LightGBM",
          "XGBoost",
          "RandomForest",
          "DecisionTree",
          "Ridge",
          "Lasso"
         ],
         "xaxis": "x",
         "y": [
          3.275,
          0.23,
          0.519,
          2.929,
          0.052,
          0.006,
          0.008
         ],
         "yaxis": "y"
        },
        {
         "alignmentgroup": "True",
         "hovertemplate": "Dataset Version=imputed + all + unscaled<br>Model=%{x}<br>Fit Time=%{text}<extra></extra>",
         "legendgroup": "imputed + all + unscaled",
         "marker": {
          "color": "#2CA02C"
         },
         "name": "imputed + all + unscaled",
         "offsetgroup": "imputed + all + unscaled",
         "orientation": "v",
         "showlegend": true,
         "text": [
          3.53,
          3.192,
          0.233,
          0.468,
          0.062,
          0.026,
          0.009,
          0.012
         ],
         "textposition": "auto",
         "type": "bar",
         "x": [
          "CatBoost",
          "RandomForest",
          "LightGBM",
          "XGBoost",
          "DecisionTree",
          "Linear",
          "Ridge",
          "Lasso"
         ],
         "xaxis": "x",
         "y": [
          3.53,
          3.192,
          0.233,
          0.468,
          0.062,
          0.026,
          0.009,
          0.012
         ],
         "yaxis": "y"
        },
        {
         "alignmentgroup": "True",
         "hovertemplate": "Dataset Version=imputed + all + scaled<br>Model=%{x}<br>Fit Time=%{text}<extra></extra>",
         "legendgroup": "imputed + all + scaled",
         "marker": {
          "color": "#D62728"
         },
         "name": "imputed + all + scaled",
         "offsetgroup": "imputed + all + scaled",
         "orientation": "v",
         "showlegend": true,
         "text": [
          3.249,
          3.008,
          0.234,
          0.543,
          0.05,
          0.006,
          0.008
         ],
         "textposition": "auto",
         "type": "bar",
         "x": [
          "CatBoost",
          "RandomForest",
          "LightGBM",
          "XGBoost",
          "DecisionTree",
          "Ridge",
          "Lasso"
         ],
         "xaxis": "x",
         "y": [
          3.249,
          3.008,
          0.234,
          0.543,
          0.05,
          0.006,
          0.008
         ],
         "yaxis": "y"
        },
        {
         "alignmentgroup": "True",
         "hovertemplate": "Dataset Version=dropna + selected + unscaled<br>Model=%{x}<br>Fit Time=%{text}<extra></extra>",
         "legendgroup": "dropna + selected + unscaled",
         "marker": {
          "color": "#9467BD"
         },
         "name": "dropna + selected + unscaled",
         "offsetgroup": "dropna + selected + unscaled",
         "orientation": "v",
         "showlegend": true,
         "text": [
          0.177,
          3.455,
          1.396,
          0.2,
          0.024,
          0.004,
          0.011,
          0.007
         ],
         "textposition": "auto",
         "type": "bar",
         "x": [
          "LightGBM",
          "CatBoost",
          "RandomForest",
          "XGBoost",
          "DecisionTree",
          "Ridge",
          "Linear",
          "Lasso"
         ],
         "xaxis": "x",
         "y": [
          0.177,
          3.455,
          1.396,
          0.2,
          0.024,
          0.004,
          0.011,
          0.007
         ],
         "yaxis": "y"
        },
        {
         "alignmentgroup": "True",
         "hovertemplate": "Dataset Version=dropna + selected + scaled<br>Model=%{x}<br>Fit Time=%{text}<extra></extra>",
         "legendgroup": "dropna + selected + scaled",
         "marker": {
          "color": "#8C564B"
         },
         "name": "dropna + selected + scaled",
         "offsetgroup": "dropna + selected + scaled",
         "orientation": "v",
         "showlegend": true,
         "text": [
          2.99,
          0.184,
          1.398,
          0.23,
          0.026,
          0.002,
          0.006,
          0.005
         ],
         "textposition": "auto",
         "type": "bar",
         "x": [
          "CatBoost",
          "LightGBM",
          "RandomForest",
          "XGBoost",
          "DecisionTree",
          "Ridge",
          "Linear",
          "Lasso"
         ],
         "xaxis": "x",
         "y": [
          2.99,
          0.184,
          1.398,
          0.23,
          0.026,
          0.002,
          0.006,
          0.005
         ],
         "yaxis": "y"
        },
        {
         "alignmentgroup": "True",
         "hovertemplate": "Dataset Version=imputed + selected + unscaled<br>Model=%{x}<br>Fit Time=%{text}<extra></extra>",
         "legendgroup": "imputed + selected + unscaled",
         "marker": {
          "color": "#E377C2"
         },
         "name": "imputed + selected + unscaled",
         "offsetgroup": "imputed + selected + unscaled",
         "orientation": "v",
         "showlegend": true,
         "text": [
          4.421,
          1.604,
          0.244,
          0.228,
          0.032,
          0.004,
          0.011,
          0.008
         ],
         "textposition": "auto",
         "type": "bar",
         "x": [
          "CatBoost",
          "RandomForest",
          "LightGBM",
          "XGBoost",
          "DecisionTree",
          "Ridge",
          "Linear",
          "Lasso"
         ],
         "xaxis": "x",
         "y": [
          4.421,
          1.604,
          0.244,
          0.228,
          0.032,
          0.004,
          0.011,
          0.008
         ],
         "yaxis": "y"
        },
        {
         "alignmentgroup": "True",
         "hovertemplate": "Dataset Version=imputed + selected + scaled<br>Model=%{x}<br>Fit Time=%{text}<extra></extra>",
         "legendgroup": "imputed + selected + scaled",
         "marker": {
          "color": "#7F7F7F"
         },
         "name": "imputed + selected + scaled",
         "offsetgroup": "imputed + selected + scaled",
         "orientation": "v",
         "showlegend": true,
         "text": [
          3.999,
          1.574,
          0.242,
          0.252,
          0.029,
          0.002,
          0.005,
          0.005
         ],
         "textposition": "auto",
         "type": "bar",
         "x": [
          "CatBoost",
          "RandomForest",
          "LightGBM",
          "XGBoost",
          "DecisionTree",
          "Ridge",
          "Linear",
          "Lasso"
         ],
         "xaxis": "x",
         "y": [
          3.999,
          1.574,
          0.242,
          0.252,
          0.029,
          0.002,
          0.005,
          0.005
         ],
         "yaxis": "y"
        }
       ],
       "layout": {
        "barmode": "group",
        "height": 500,
        "legend": {
         "title": {
          "text": "Dataset Version"
         },
         "tracegroupgap": 0
        },
        "margin": {
         "t": 60
        },
        "template": {
         "data": {
          "pie": [
           {
            "automargin": true,
            "type": "pie"
           }
          ],
          "scatter": [
           {
            "line": {
             "width": 3
            },
            "marker": {
             "size": 9
            },
            "type": "scatter"
           }
          ],
          "scatter3d": [
           {
            "line": {
             "width": 3
            },
            "marker": {
             "size": 9
            },
            "type": "scatter3d"
           }
          ],
          "scattergeo": [
           {
            "line": {
             "width": 3
            },
            "marker": {
             "size": 9
            },
            "type": "scattergeo"
           }
          ],
          "scattergl": [
           {
            "line": {
             "width": 3
            },
            "marker": {
             "size": 9
            },
            "type": "scattergl"
           }
          ],
          "scatterpolar": [
           {
            "line": {
             "width": 3
            },
            "marker": {
             "size": 9
            },
            "type": "scatterpolar"
           }
          ],
          "scatterpolargl": [
           {
            "line": {
             "width": 3
            },
            "marker": {
             "size": 9
            },
            "type": "scatterpolargl"
           }
          ],
          "scatterternary": [
           {
            "line": {
             "width": 3
            },
            "marker": {
             "size": 9
            },
            "type": "scatterternary"
           }
          ],
          "table": [
           {
            "cells": {
             "height": 30
            },
            "header": {
             "height": 36
            },
            "type": "table"
           }
          ]
         },
         "layout": {
          "font": {
           "size": 18
          },
          "xaxis": {
           "title": {
            "standoff": 15
           }
          },
          "yaxis": {
           "title": {
            "standoff": 15
           }
          }
         }
        },
        "title": {
         "text": "Training Time on Cross Validation 5 Folds"
        },
        "width": 1200,
        "xaxis": {
         "anchor": "y",
         "domain": [
          0,
          1
         ],
         "title": {
          "text": "Model"
         }
        },
        "yaxis": {
         "anchor": "x",
         "domain": [
          0,
          1
         ],
         "title": {
          "text": "Fit Time"
         },
         "type": "log"
        }
       }
      }
     },
     "metadata": {},
     "output_type": "display_data"
    }
   ],
   "source": [
    "fig = px.bar(\n",
    "    df_all_ver, x='Model', y='Fit Time', color='Dataset Version',\n",
    "    barmode='group', category_orders=order_all, text='Fit Time',\n",
    "    log_y=True\n",
    ")\n",
    "\n",
    "fig.update_layout(\n",
    "    title='Training Time on Cross Validation 5 Folds',\n",
    "    height=500,\n",
    "    width=1200\n",
    ")\n",
    "\n",
    "fig.show()"
   ]
  },
  {
   "cell_type": "code",
   "execution_count": 7,
   "metadata": {
    "cell_id": "00003-0a221708-2f30-45f5-8507-8b3104cce91e",
    "execution_millis": 211,
    "execution_start": 1602850857283,
    "output_cleared": false,
    "source_hash": "d1533531"
   },
   "outputs": [
    {
     "data": {
      "application/vnd.plotly.v1+json": {
       "config": {
        "plotlyServerURL": "https://plot.ly"
       },
       "data": [
        {
         "alignmentgroup": "True",
         "hovertemplate": "Dataset Version=dropna + all + unscaled<br>Model=%{x}<br>Test RMSE=%{text}<extra></extra>",
         "legendgroup": "dropna + all + unscaled",
         "marker": {
          "color": "#1F77B4"
         },
         "name": "dropna + all + unscaled",
         "offsetgroup": "dropna + all + unscaled",
         "orientation": "v",
         "showlegend": true,
         "text": [
          3.207,
          3.648,
          3.809,
          3.675,
          5.654,
          5.634,
          5.64,
          5.852
         ],
         "textposition": "auto",
         "type": "bar",
         "x": [
          "CatBoost",
          "LightGBM",
          "XGBoost",
          "RandomForest",
          "DecisionTree",
          "Ridge",
          "Linear",
          "Lasso"
         ],
         "xaxis": "x",
         "y": [
          3.207,
          3.648,
          3.809,
          3.675,
          5.654,
          5.634,
          5.64,
          5.852
         ],
         "yaxis": "y"
        },
        {
         "alignmentgroup": "True",
         "hovertemplate": "Dataset Version=dropna + all + scaled<br>Model=%{x}<br>Test RMSE=%{text}<extra></extra>",
         "legendgroup": "dropna + all + scaled",
         "marker": {
          "color": "#FF7F0E"
         },
         "name": "dropna + all + scaled",
         "offsetgroup": "dropna + all + scaled",
         "orientation": "v",
         "showlegend": true,
         "text": [
          3.207,
          3.649,
          3.811,
          3.674,
          5.718,
          5.634,
          6.593
         ],
         "textposition": "auto",
         "type": "bar",
         "x": [
          "CatBoost",
          "LightGBM",
          "XGBoost",
          "RandomForest",
          "DecisionTree",
          "Ridge",
          "Lasso"
         ],
         "xaxis": "x",
         "y": [
          3.207,
          3.649,
          3.811,
          3.674,
          5.718,
          5.634,
          6.593
         ],
         "yaxis": "y"
        },
        {
         "alignmentgroup": "True",
         "hovertemplate": "Dataset Version=imputed + all + unscaled<br>Model=%{x}<br>Test RMSE=%{text}<extra></extra>",
         "legendgroup": "imputed + all + unscaled",
         "marker": {
          "color": "#2CA02C"
         },
         "name": "imputed + all + unscaled",
         "offsetgroup": "imputed + all + unscaled",
         "orientation": "v",
         "showlegend": true,
         "text": [
          3.385,
          3.392,
          3.454,
          3.505,
          5.991,
          5.322,
          5.322,
          5.39
         ],
         "textposition": "auto",
         "type": "bar",
         "x": [
          "CatBoost",
          "RandomForest",
          "LightGBM",
          "XGBoost",
          "DecisionTree",
          "Linear",
          "Ridge",
          "Lasso"
         ],
         "xaxis": "x",
         "y": [
          3.385,
          3.392,
          3.454,
          3.505,
          5.991,
          5.322,
          5.322,
          5.39
         ],
         "yaxis": "y"
        },
        {
         "alignmentgroup": "True",
         "hovertemplate": "Dataset Version=imputed + all + scaled<br>Model=%{x}<br>Test RMSE=%{text}<extra></extra>",
         "legendgroup": "imputed + all + scaled",
         "marker": {
          "color": "#D62728"
         },
         "name": "imputed + all + scaled",
         "offsetgroup": "imputed + all + scaled",
         "orientation": "v",
         "showlegend": true,
         "text": [
          3.385,
          3.452,
          3.38,
          3.504,
          5.701,
          5.322,
          5.955
         ],
         "textposition": "auto",
         "type": "bar",
         "x": [
          "CatBoost",
          "RandomForest",
          "LightGBM",
          "XGBoost",
          "DecisionTree",
          "Ridge",
          "Lasso"
         ],
         "xaxis": "x",
         "y": [
          3.385,
          3.452,
          3.38,
          3.504,
          5.701,
          5.322,
          5.955
         ],
         "yaxis": "y"
        }
       ],
       "layout": {
        "barmode": "group",
        "height": 500,
        "legend": {
         "title": {
          "text": "Dataset Version"
         },
         "tracegroupgap": 0
        },
        "margin": {
         "t": 60
        },
        "template": {
         "data": {
          "pie": [
           {
            "automargin": true,
            "type": "pie"
           }
          ],
          "scatter": [
           {
            "line": {
             "width": 3
            },
            "marker": {
             "size": 9
            },
            "type": "scatter"
           }
          ],
          "scatter3d": [
           {
            "line": {
             "width": 3
            },
            "marker": {
             "size": 9
            },
            "type": "scatter3d"
           }
          ],
          "scattergeo": [
           {
            "line": {
             "width": 3
            },
            "marker": {
             "size": 9
            },
            "type": "scattergeo"
           }
          ],
          "scattergl": [
           {
            "line": {
             "width": 3
            },
            "marker": {
             "size": 9
            },
            "type": "scattergl"
           }
          ],
          "scatterpolar": [
           {
            "line": {
             "width": 3
            },
            "marker": {
             "size": 9
            },
            "type": "scatterpolar"
           }
          ],
          "scatterpolargl": [
           {
            "line": {
             "width": 3
            },
            "marker": {
             "size": 9
            },
            "type": "scatterpolargl"
           }
          ],
          "scatterternary": [
           {
            "line": {
             "width": 3
            },
            "marker": {
             "size": 9
            },
            "type": "scatterternary"
           }
          ],
          "table": [
           {
            "cells": {
             "height": 30
            },
            "header": {
             "height": 36
            },
            "type": "table"
           }
          ]
         },
         "layout": {
          "font": {
           "size": 18
          },
          "xaxis": {
           "title": {
            "standoff": 15
           }
          },
          "yaxis": {
           "title": {
            "standoff": 15
           }
          }
         }
        },
        "title": {
         "text": "Model RMSE Score on Test Set (all features only)"
        },
        "width": 1200,
        "xaxis": {
         "anchor": "y",
         "domain": [
          0,
          1
         ],
         "title": {
          "text": "Model"
         }
        },
        "yaxis": {
         "anchor": "x",
         "domain": [
          0,
          1
         ],
         "title": {
          "text": "Test RMSE"
         }
        }
       }
      }
     },
     "metadata": {},
     "output_type": "display_data"
    }
   ],
   "source": [
    "filtered = df_all_ver[df_all_ver['Dataset Version'].str.contains('all')]\n",
    "\n",
    "order = {'Dataset Version': ['dropna + all + unscaled', 'dropna + all + scaled',\n",
    "                             'imputed + all + unscaled', 'imputed + all + scaled']}\n",
    "\n",
    "fig = px.bar(filtered, x='Model', y='Test RMSE', color='Dataset Version',\n",
    "             barmode='group', category_orders=order, text='Test RMSE')\n",
    "\n",
    "fig.update_layout(\n",
    "    title='Model RMSE Score on Test Set (all features only)',\n",
    "    height=500,\n",
    "    width=1200\n",
    ")\n",
    "\n",
    "fig.show()"
   ]
  },
  {
   "cell_type": "markdown",
   "metadata": {
    "cell_id": "00004-654fb49d-5f40-4c19-b413-46e0483706b6"
   },
   "source": [
    "## Best 5 Models"
   ]
  },
  {
   "cell_type": "markdown",
   "metadata": {},
   "source": [
    "### Before Tuning"
   ]
  },
  {
   "cell_type": "code",
   "execution_count": 8,
   "metadata": {},
   "outputs": [
    {
     "data": {
      "text/html": [
       "<div>\n",
       "<style scoped>\n",
       "    .dataframe tbody tr th:only-of-type {\n",
       "        vertical-align: middle;\n",
       "    }\n",
       "\n",
       "    .dataframe tbody tr th {\n",
       "        vertical-align: top;\n",
       "    }\n",
       "\n",
       "    .dataframe thead th {\n",
       "        text-align: right;\n",
       "    }\n",
       "</style>\n",
       "<table border=\"1\" class=\"dataframe\">\n",
       "  <thead>\n",
       "    <tr style=\"text-align: right;\">\n",
       "      <th></th>\n",
       "      <th>Model</th>\n",
       "      <th>Fit Time</th>\n",
       "      <th>Train R2</th>\n",
       "      <th>CV R2</th>\n",
       "      <th>Test R2</th>\n",
       "      <th>Train RMSE</th>\n",
       "      <th>CV RMSE</th>\n",
       "      <th>Test RMSE</th>\n",
       "      <th>Dataset Version</th>\n",
       "    </tr>\n",
       "  </thead>\n",
       "  <tbody>\n",
       "    <tr>\n",
       "      <th>0</th>\n",
       "      <td>CatBoost</td>\n",
       "      <td>3.480</td>\n",
       "      <td>0.992</td>\n",
       "      <td>0.925</td>\n",
       "      <td>0.925</td>\n",
       "      <td>0.950</td>\n",
       "      <td>2.939</td>\n",
       "      <td>3.207</td>\n",
       "      <td>dropna + all + unscaled</td>\n",
       "    </tr>\n",
       "    <tr>\n",
       "      <th>0</th>\n",
       "      <td>CatBoost</td>\n",
       "      <td>3.530</td>\n",
       "      <td>0.992</td>\n",
       "      <td>0.923</td>\n",
       "      <td>0.912</td>\n",
       "      <td>0.990</td>\n",
       "      <td>3.078</td>\n",
       "      <td>3.385</td>\n",
       "      <td>imputed + all + unscaled</td>\n",
       "    </tr>\n",
       "    <tr>\n",
       "      <th>1</th>\n",
       "      <td>LightGBM</td>\n",
       "      <td>0.219</td>\n",
       "      <td>0.973</td>\n",
       "      <td>0.919</td>\n",
       "      <td>0.904</td>\n",
       "      <td>1.793</td>\n",
       "      <td>3.078</td>\n",
       "      <td>3.648</td>\n",
       "      <td>dropna + all + unscaled</td>\n",
       "    </tr>\n",
       "    <tr>\n",
       "      <th>2</th>\n",
       "      <td>XGBoost</td>\n",
       "      <td>0.406</td>\n",
       "      <td>0.998</td>\n",
       "      <td>0.914</td>\n",
       "      <td>0.895</td>\n",
       "      <td>0.544</td>\n",
       "      <td>3.151</td>\n",
       "      <td>3.809</td>\n",
       "      <td>dropna + all + unscaled</td>\n",
       "    </tr>\n",
       "    <tr>\n",
       "      <th>3</th>\n",
       "      <td>RandomForest</td>\n",
       "      <td>2.914</td>\n",
       "      <td>0.988</td>\n",
       "      <td>0.913</td>\n",
       "      <td>0.902</td>\n",
       "      <td>1.207</td>\n",
       "      <td>3.200</td>\n",
       "      <td>3.675</td>\n",
       "      <td>dropna + all + unscaled</td>\n",
       "    </tr>\n",
       "    <tr>\n",
       "      <th>1</th>\n",
       "      <td>RandomForest</td>\n",
       "      <td>3.192</td>\n",
       "      <td>0.988</td>\n",
       "      <td>0.913</td>\n",
       "      <td>0.912</td>\n",
       "      <td>1.232</td>\n",
       "      <td>3.255</td>\n",
       "      <td>3.392</td>\n",
       "      <td>imputed + all + unscaled</td>\n",
       "    </tr>\n",
       "    <tr>\n",
       "      <th>2</th>\n",
       "      <td>LightGBM</td>\n",
       "      <td>0.233</td>\n",
       "      <td>0.972</td>\n",
       "      <td>0.913</td>\n",
       "      <td>0.908</td>\n",
       "      <td>1.851</td>\n",
       "      <td>3.264</td>\n",
       "      <td>3.454</td>\n",
       "      <td>imputed + all + unscaled</td>\n",
       "    </tr>\n",
       "    <tr>\n",
       "      <th>3</th>\n",
       "      <td>XGBoost</td>\n",
       "      <td>0.468</td>\n",
       "      <td>0.997</td>\n",
       "      <td>0.911</td>\n",
       "      <td>0.906</td>\n",
       "      <td>0.564</td>\n",
       "      <td>3.296</td>\n",
       "      <td>3.505</td>\n",
       "      <td>imputed + all + unscaled</td>\n",
       "    </tr>\n",
       "    <tr>\n",
       "      <th>0</th>\n",
       "      <td>LightGBM</td>\n",
       "      <td>0.177</td>\n",
       "      <td>0.956</td>\n",
       "      <td>0.903</td>\n",
       "      <td>0.882</td>\n",
       "      <td>2.295</td>\n",
       "      <td>3.388</td>\n",
       "      <td>4.027</td>\n",
       "      <td>dropna + selected + unscaled</td>\n",
       "    </tr>\n",
       "    <tr>\n",
       "      <th>1</th>\n",
       "      <td>CatBoost</td>\n",
       "      <td>3.455</td>\n",
       "      <td>0.980</td>\n",
       "      <td>0.902</td>\n",
       "      <td>0.912</td>\n",
       "      <td>1.555</td>\n",
       "      <td>3.388</td>\n",
       "      <td>3.485</td>\n",
       "      <td>dropna + selected + unscaled</td>\n",
       "    </tr>\n",
       "  </tbody>\n",
       "</table>\n",
       "</div>"
      ],
      "text/plain": [
       "          Model  Fit Time  Train R2  CV R2  Test R2  Train RMSE  CV RMSE  \\\n",
       "0      CatBoost     3.480     0.992  0.925    0.925       0.950    2.939   \n",
       "0      CatBoost     3.530     0.992  0.923    0.912       0.990    3.078   \n",
       "1      LightGBM     0.219     0.973  0.919    0.904       1.793    3.078   \n",
       "2       XGBoost     0.406     0.998  0.914    0.895       0.544    3.151   \n",
       "3  RandomForest     2.914     0.988  0.913    0.902       1.207    3.200   \n",
       "1  RandomForest     3.192     0.988  0.913    0.912       1.232    3.255   \n",
       "2      LightGBM     0.233     0.972  0.913    0.908       1.851    3.264   \n",
       "3       XGBoost     0.468     0.997  0.911    0.906       0.564    3.296   \n",
       "0      LightGBM     0.177     0.956  0.903    0.882       2.295    3.388   \n",
       "1      CatBoost     3.455     0.980  0.902    0.912       1.555    3.388   \n",
       "\n",
       "   Test RMSE               Dataset Version  \n",
       "0      3.207       dropna + all + unscaled  \n",
       "0      3.385      imputed + all + unscaled  \n",
       "1      3.648       dropna + all + unscaled  \n",
       "2      3.809       dropna + all + unscaled  \n",
       "3      3.675       dropna + all + unscaled  \n",
       "1      3.392      imputed + all + unscaled  \n",
       "2      3.454      imputed + all + unscaled  \n",
       "3      3.505      imputed + all + unscaled  \n",
       "0      4.027  dropna + selected + unscaled  \n",
       "1      3.485  dropna + selected + unscaled  "
      ]
     },
     "execution_count": 8,
     "metadata": {},
     "output_type": "execute_result"
    }
   ],
   "source": [
    "df_all_ver[df_all_ver[\"Dataset Version\"].str.contains(\"unscaled\")].head(10)"
   ]
  },
  {
   "cell_type": "code",
   "execution_count": 9,
   "metadata": {},
   "outputs": [],
   "source": [
    "def replace_ver(data):\n",
    "    if data == \"dropna + all + unscaled\":\n",
    "        return \"Ver1\"\n",
    "    elif data == \"imputed + all + unscaled\":\n",
    "        return \"Ver2\"\n",
    "    elif data == \"dropna + selected + unscaled\":\n",
    "        return \"Ver3\"\n",
    "    else:\n",
    "        return \"Ver4\""
   ]
  },
  {
   "cell_type": "code",
   "execution_count": 10,
   "metadata": {},
   "outputs": [
    {
     "data": {
      "text/html": [
       "<div>\n",
       "<style scoped>\n",
       "    .dataframe tbody tr th:only-of-type {\n",
       "        vertical-align: middle;\n",
       "    }\n",
       "\n",
       "    .dataframe tbody tr th {\n",
       "        vertical-align: top;\n",
       "    }\n",
       "\n",
       "    .dataframe thead th {\n",
       "        text-align: right;\n",
       "    }\n",
       "</style>\n",
       "<table border=\"1\" class=\"dataframe\">\n",
       "  <thead>\n",
       "    <tr style=\"text-align: right;\">\n",
       "      <th></th>\n",
       "      <th>Model</th>\n",
       "      <th>Fit Time</th>\n",
       "      <th>Train R2</th>\n",
       "      <th>CV R2</th>\n",
       "      <th>Test R2</th>\n",
       "      <th>Train RMSE</th>\n",
       "      <th>CV RMSE</th>\n",
       "      <th>Test RMSE</th>\n",
       "    </tr>\n",
       "  </thead>\n",
       "  <tbody>\n",
       "    <tr>\n",
       "      <th>0</th>\n",
       "      <td>CatBoost (Ver1)</td>\n",
       "      <td>3.480</td>\n",
       "      <td>0.992</td>\n",
       "      <td>0.925</td>\n",
       "      <td>0.925</td>\n",
       "      <td>0.950</td>\n",
       "      <td>2.939</td>\n",
       "      <td>3.207</td>\n",
       "    </tr>\n",
       "    <tr>\n",
       "      <th>0</th>\n",
       "      <td>CatBoost (Ver2)</td>\n",
       "      <td>3.530</td>\n",
       "      <td>0.992</td>\n",
       "      <td>0.923</td>\n",
       "      <td>0.912</td>\n",
       "      <td>0.990</td>\n",
       "      <td>3.078</td>\n",
       "      <td>3.385</td>\n",
       "    </tr>\n",
       "    <tr>\n",
       "      <th>1</th>\n",
       "      <td>LightGBM (Ver1)</td>\n",
       "      <td>0.219</td>\n",
       "      <td>0.973</td>\n",
       "      <td>0.919</td>\n",
       "      <td>0.904</td>\n",
       "      <td>1.793</td>\n",
       "      <td>3.078</td>\n",
       "      <td>3.648</td>\n",
       "    </tr>\n",
       "    <tr>\n",
       "      <th>2</th>\n",
       "      <td>XGBoost (Ver1)</td>\n",
       "      <td>0.406</td>\n",
       "      <td>0.998</td>\n",
       "      <td>0.914</td>\n",
       "      <td>0.895</td>\n",
       "      <td>0.544</td>\n",
       "      <td>3.151</td>\n",
       "      <td>3.809</td>\n",
       "    </tr>\n",
       "    <tr>\n",
       "      <th>3</th>\n",
       "      <td>RandomForest (Ver1)</td>\n",
       "      <td>2.914</td>\n",
       "      <td>0.988</td>\n",
       "      <td>0.913</td>\n",
       "      <td>0.902</td>\n",
       "      <td>1.207</td>\n",
       "      <td>3.200</td>\n",
       "      <td>3.675</td>\n",
       "    </tr>\n",
       "    <tr>\n",
       "      <th>1</th>\n",
       "      <td>RandomForest (Ver2)</td>\n",
       "      <td>3.192</td>\n",
       "      <td>0.988</td>\n",
       "      <td>0.913</td>\n",
       "      <td>0.912</td>\n",
       "      <td>1.232</td>\n",
       "      <td>3.255</td>\n",
       "      <td>3.392</td>\n",
       "    </tr>\n",
       "    <tr>\n",
       "      <th>2</th>\n",
       "      <td>LightGBM (Ver2)</td>\n",
       "      <td>0.233</td>\n",
       "      <td>0.972</td>\n",
       "      <td>0.913</td>\n",
       "      <td>0.908</td>\n",
       "      <td>1.851</td>\n",
       "      <td>3.264</td>\n",
       "      <td>3.454</td>\n",
       "    </tr>\n",
       "    <tr>\n",
       "      <th>3</th>\n",
       "      <td>XGBoost (Ver2)</td>\n",
       "      <td>0.468</td>\n",
       "      <td>0.997</td>\n",
       "      <td>0.911</td>\n",
       "      <td>0.906</td>\n",
       "      <td>0.564</td>\n",
       "      <td>3.296</td>\n",
       "      <td>3.505</td>\n",
       "    </tr>\n",
       "    <tr>\n",
       "      <th>0</th>\n",
       "      <td>LightGBM (Ver3)</td>\n",
       "      <td>0.177</td>\n",
       "      <td>0.956</td>\n",
       "      <td>0.903</td>\n",
       "      <td>0.882</td>\n",
       "      <td>2.295</td>\n",
       "      <td>3.388</td>\n",
       "      <td>4.027</td>\n",
       "    </tr>\n",
       "    <tr>\n",
       "      <th>1</th>\n",
       "      <td>CatBoost (Ver3)</td>\n",
       "      <td>3.455</td>\n",
       "      <td>0.980</td>\n",
       "      <td>0.902</td>\n",
       "      <td>0.912</td>\n",
       "      <td>1.555</td>\n",
       "      <td>3.388</td>\n",
       "      <td>3.485</td>\n",
       "    </tr>\n",
       "  </tbody>\n",
       "</table>\n",
       "</div>"
      ],
      "text/plain": [
       "                 Model  Fit Time  Train R2  CV R2  Test R2  Train RMSE  \\\n",
       "0      CatBoost (Ver1)     3.480     0.992  0.925    0.925       0.950   \n",
       "0      CatBoost (Ver2)     3.530     0.992  0.923    0.912       0.990   \n",
       "1      LightGBM (Ver1)     0.219     0.973  0.919    0.904       1.793   \n",
       "2       XGBoost (Ver1)     0.406     0.998  0.914    0.895       0.544   \n",
       "3  RandomForest (Ver1)     2.914     0.988  0.913    0.902       1.207   \n",
       "1  RandomForest (Ver2)     3.192     0.988  0.913    0.912       1.232   \n",
       "2      LightGBM (Ver2)     0.233     0.972  0.913    0.908       1.851   \n",
       "3       XGBoost (Ver2)     0.468     0.997  0.911    0.906       0.564   \n",
       "0      LightGBM (Ver3)     0.177     0.956  0.903    0.882       2.295   \n",
       "1      CatBoost (Ver3)     3.455     0.980  0.902    0.912       1.555   \n",
       "\n",
       "   CV RMSE  Test RMSE  \n",
       "0    2.939      3.207  \n",
       "0    3.078      3.385  \n",
       "1    3.078      3.648  \n",
       "2    3.151      3.809  \n",
       "3    3.200      3.675  \n",
       "1    3.255      3.392  \n",
       "2    3.264      3.454  \n",
       "3    3.296      3.505  \n",
       "0    3.388      4.027  \n",
       "1    3.388      3.485  "
      ]
     },
     "execution_count": 10,
     "metadata": {},
     "output_type": "execute_result"
    }
   ],
   "source": [
    "best_10_before = df_all_ver[df_all_ver[\"Dataset Version\"].str.contains(\"unscaled\")].head(10)\n",
    "best_10_before[\"Dataset Version\"] = best_10_before[\"Dataset Version\"].apply(replace_ver)\n",
    "best_10_before[\"Model\"] = best_10_before[\"Model\"] + \" (\" + best_10_before[\"Dataset Version\"] + \")\"\n",
    "best_10_before.drop(columns=[\"Dataset Version\"], inplace=True)\n",
    "best_10_before"
   ]
  },
  {
   "cell_type": "code",
   "execution_count": 11,
   "metadata": {},
   "outputs": [
    {
     "data": {
      "application/vnd.plotly.v1+json": {
       "config": {
        "plotlyServerURL": "https://plot.ly"
       },
       "data": [
        {
         "name": "Train RMSE",
         "text": [
          0.95,
          0.99,
          1.793,
          0.544,
          1.207,
          1.232,
          1.851
         ],
         "textposition": "auto",
         "type": "bar",
         "x": [
          "CatBoost (Ver1)",
          "CatBoost (Ver2)",
          "LightGBM (Ver1)",
          "XGBoost (Ver1)",
          "RandomForest (Ver1)",
          "RandomForest (Ver2)",
          "LightGBM (Ver2)"
         ],
         "y": [
          0.95,
          0.99,
          1.793,
          0.544,
          1.207,
          1.232,
          1.851
         ]
        },
        {
         "name": "CV RMSE",
         "text": [
          2.939,
          3.078,
          3.078,
          3.151,
          3.2,
          3.255,
          3.264
         ],
         "textposition": "auto",
         "type": "bar",
         "x": [
          "CatBoost (Ver1)",
          "CatBoost (Ver2)",
          "LightGBM (Ver1)",
          "XGBoost (Ver1)",
          "RandomForest (Ver1)",
          "RandomForest (Ver2)",
          "LightGBM (Ver2)"
         ],
         "y": [
          2.939,
          3.078,
          3.078,
          3.151,
          3.2,
          3.255,
          3.264
         ]
        },
        {
         "name": "Test RMSE",
         "text": [
          3.207,
          3.385,
          3.648,
          3.809,
          3.675,
          3.392,
          3.454
         ],
         "textposition": "auto",
         "type": "bar",
         "x": [
          "CatBoost (Ver1)",
          "CatBoost (Ver2)",
          "LightGBM (Ver1)",
          "XGBoost (Ver1)",
          "RandomForest (Ver1)",
          "RandomForest (Ver2)",
          "LightGBM (Ver2)"
         ],
         "y": [
          3.207,
          3.385,
          3.648,
          3.809,
          3.675,
          3.392,
          3.454
         ]
        }
       ],
       "layout": {
        "font": {
         "size": 15
        },
        "height": 600,
        "margin": {
         "b": 120,
         "l": 100,
         "r": 100,
         "t": 70
        },
        "showlegend": false,
        "template": {
         "data": {
          "pie": [
           {
            "automargin": true,
            "type": "pie"
           }
          ],
          "scatter": [
           {
            "line": {
             "width": 3
            },
            "marker": {
             "size": 9
            },
            "type": "scatter"
           }
          ],
          "scatter3d": [
           {
            "line": {
             "width": 3
            },
            "marker": {
             "size": 9
            },
            "type": "scatter3d"
           }
          ],
          "scattergeo": [
           {
            "line": {
             "width": 3
            },
            "marker": {
             "size": 9
            },
            "type": "scattergeo"
           }
          ],
          "scattergl": [
           {
            "line": {
             "width": 3
            },
            "marker": {
             "size": 9
            },
            "type": "scattergl"
           }
          ],
          "scatterpolar": [
           {
            "line": {
             "width": 3
            },
            "marker": {
             "size": 9
            },
            "type": "scatterpolar"
           }
          ],
          "scatterpolargl": [
           {
            "line": {
             "width": 3
            },
            "marker": {
             "size": 9
            },
            "type": "scatterpolargl"
           }
          ],
          "scatterternary": [
           {
            "line": {
             "width": 3
            },
            "marker": {
             "size": 9
            },
            "type": "scatterternary"
           }
          ],
          "table": [
           {
            "cells": {
             "height": 30
            },
            "header": {
             "height": 36
            },
            "type": "table"
           }
          ]
         },
         "layout": {
          "font": {
           "size": 18
          },
          "xaxis": {
           "title": {
            "standoff": 15
           }
          },
          "yaxis": {
           "title": {
            "standoff": 15
           }
          }
         }
        },
        "title": {
         "text": "Before Tuning"
        },
        "width": 720,
        "xaxis": {},
        "yaxis": {
         "title": {
          "text": "RMSE Score"
         }
        }
       }
      }
     },
     "metadata": {},
     "output_type": "display_data"
    }
   ],
   "source": [
    "best_before = df_all_ver[df_all_ver[\"Dataset Version\"].str.contains(\"unscaled\")].head(7)\n",
    "best_before[\"Dataset Version\"] = best_before[\"Dataset Version\"].apply(replace_ver)\n",
    "best_before[\"Model\"] = best_before[\"Model\"] + \" (\" + best_before[\"Dataset Version\"] + \")\"\n",
    "best_before.drop(columns=[\"Dataset Version\"], inplace=True)\n",
    "\n",
    "fig = go.Figure()\n",
    "\n",
    "fig.add_trace(go.Bar(\n",
    "    x=best_before['Model'], y=best_before['Train RMSE'],\n",
    "    text=best_before['Train RMSE'], textposition='auto',\n",
    "    name='Train RMSE'\n",
    "))\n",
    "fig.add_trace(go.Bar(\n",
    "    x=best_before['Model'], y=best_before['CV RMSE'],\n",
    "    text=best_before['CV RMSE'], textposition='auto',\n",
    "    name='CV RMSE'\n",
    "))\n",
    "fig.add_trace(go.Bar(\n",
    "    x=best_before['Model'], y=best_before['Test RMSE'],\n",
    "    text=best_before['Test RMSE'], textposition='auto',\n",
    "    name='Test RMSE'\n",
    "))\n",
    "fig.update_layout(\n",
    "    title='Before Tuning',\n",
    "    xaxis=None,\n",
    "    yaxis=dict(title='RMSE Score'),\n",
    "    height=500*1.2,\n",
    "    width=600*1.2,\n",
    "    margin=dict(l=100, r=100, t=70, b=120),\n",
    "    font_size=15,\n",
    "    showlegend=False\n",
    ")\n",
    "fig.show()"
   ]
  },
  {
   "cell_type": "code",
   "execution_count": 12,
   "metadata": {},
   "outputs": [
    {
     "data": {
      "application/vnd.plotly.v1+json": {
       "config": {
        "plotlyServerURL": "https://plot.ly"
       },
       "data": [
        {
         "name": "Train R2",
         "text": [
          0.992,
          0.992,
          0.973,
          0.998,
          0.988,
          0.988,
          0.972
         ],
         "textposition": "auto",
         "type": "bar",
         "x": [
          "CatBoost (Ver1)",
          "CatBoost (Ver2)",
          "LightGBM (Ver1)",
          "XGBoost (Ver1)",
          "RandomForest (Ver1)",
          "RandomForest (Ver2)",
          "LightGBM (Ver2)"
         ],
         "y": [
          0.992,
          0.992,
          0.973,
          0.998,
          0.988,
          0.988,
          0.972
         ]
        },
        {
         "name": "CV R2",
         "text": [
          0.925,
          0.923,
          0.919,
          0.914,
          0.913,
          0.913,
          0.913
         ],
         "textposition": "auto",
         "type": "bar",
         "x": [
          "CatBoost (Ver1)",
          "CatBoost (Ver2)",
          "LightGBM (Ver1)",
          "XGBoost (Ver1)",
          "RandomForest (Ver1)",
          "RandomForest (Ver2)",
          "LightGBM (Ver2)"
         ],
         "y": [
          0.925,
          0.923,
          0.919,
          0.914,
          0.913,
          0.913,
          0.913
         ]
        },
        {
         "name": "Test R2",
         "text": [
          0.925,
          0.912,
          0.904,
          0.895,
          0.902,
          0.912,
          0.908
         ],
         "textposition": "auto",
         "type": "bar",
         "x": [
          "CatBoost (Ver1)",
          "CatBoost (Ver2)",
          "LightGBM (Ver1)",
          "XGBoost (Ver1)",
          "RandomForest (Ver1)",
          "RandomForest (Ver2)",
          "LightGBM (Ver2)"
         ],
         "y": [
          0.925,
          0.912,
          0.904,
          0.895,
          0.902,
          0.912,
          0.908
         ]
        }
       ],
       "layout": {
        "font": {
         "size": 15
        },
        "height": 600,
        "margin": {
         "b": 120,
         "l": 100,
         "r": 100,
         "t": 100
        },
        "template": {
         "data": {
          "pie": [
           {
            "automargin": true,
            "type": "pie"
           }
          ],
          "scatter": [
           {
            "line": {
             "width": 3
            },
            "marker": {
             "size": 9
            },
            "type": "scatter"
           }
          ],
          "scatter3d": [
           {
            "line": {
             "width": 3
            },
            "marker": {
             "size": 9
            },
            "type": "scatter3d"
           }
          ],
          "scattergeo": [
           {
            "line": {
             "width": 3
            },
            "marker": {
             "size": 9
            },
            "type": "scattergeo"
           }
          ],
          "scattergl": [
           {
            "line": {
             "width": 3
            },
            "marker": {
             "size": 9
            },
            "type": "scattergl"
           }
          ],
          "scatterpolar": [
           {
            "line": {
             "width": 3
            },
            "marker": {
             "size": 9
            },
            "type": "scatterpolar"
           }
          ],
          "scatterpolargl": [
           {
            "line": {
             "width": 3
            },
            "marker": {
             "size": 9
            },
            "type": "scatterpolargl"
           }
          ],
          "scatterternary": [
           {
            "line": {
             "width": 3
            },
            "marker": {
             "size": 9
            },
            "type": "scatterternary"
           }
          ],
          "table": [
           {
            "cells": {
             "height": 30
            },
            "header": {
             "height": 36
            },
            "type": "table"
           }
          ]
         },
         "layout": {
          "font": {
           "size": 18
          },
          "xaxis": {
           "title": {
            "standoff": 15
           }
          },
          "yaxis": {
           "title": {
            "standoff": 15
           }
          }
         }
        },
        "title": {
         "text": "Before Tuning"
        },
        "width": 720,
        "xaxis": {},
        "yaxis": {
         "title": {
          "text": "RMSE Score"
         }
        }
       }
      }
     },
     "metadata": {},
     "output_type": "display_data"
    }
   ],
   "source": [
    "fig = go.Figure()\n",
    "\n",
    "fig.add_trace(go.Bar(\n",
    "    x=best_before['Model'], y=best_before['Train R2'],\n",
    "    text=best_before['Train R2'], textposition='auto',\n",
    "    name='Train R2'\n",
    "))\n",
    "fig.add_trace(go.Bar(\n",
    "    x=best_before['Model'], y=best_before['CV R2'],\n",
    "    text=best_before['CV R2'], textposition='auto',\n",
    "    name='CV R2'\n",
    "))\n",
    "fig.add_trace(go.Bar(\n",
    "    x=best_before['Model'], y=best_before['Test R2'],\n",
    "    text=best_before['Test R2'], textposition='auto',\n",
    "    name='Test R2'\n",
    "))\n",
    "fig.update_layout(\n",
    "    title='Before Tuning',\n",
    "    xaxis=None,\n",
    "    yaxis=dict(title='RMSE Score'),\n",
    "    height=500*1.2,\n",
    "    width=600*1.2,\n",
    "    margin=dict(l=100, r=100, t=100, b=120),\n",
    "    font_size=15,\n",
    ")\n",
    "fig.show()"
   ]
  },
  {
   "cell_type": "markdown",
   "metadata": {},
   "source": [
    "### After Tuning"
   ]
  },
  {
   "cell_type": "code",
   "execution_count": 13,
   "metadata": {},
   "outputs": [
    {
     "data": {
      "text/html": [
       "<div>\n",
       "<style scoped>\n",
       "    .dataframe tbody tr th:only-of-type {\n",
       "        vertical-align: middle;\n",
       "    }\n",
       "\n",
       "    .dataframe tbody tr th {\n",
       "        vertical-align: top;\n",
       "    }\n",
       "\n",
       "    .dataframe thead th {\n",
       "        text-align: right;\n",
       "    }\n",
       "</style>\n",
       "<table border=\"1\" class=\"dataframe\">\n",
       "  <thead>\n",
       "    <tr style=\"text-align: right;\">\n",
       "      <th></th>\n",
       "      <th>Model</th>\n",
       "      <th>Fit Time</th>\n",
       "      <th>Train R2</th>\n",
       "      <th>CV R2</th>\n",
       "      <th>Test R2</th>\n",
       "      <th>Train RMSE</th>\n",
       "      <th>CV RMSE</th>\n",
       "      <th>Test RMSE</th>\n",
       "    </tr>\n",
       "  </thead>\n",
       "  <tbody>\n",
       "    <tr>\n",
       "      <th>0</th>\n",
       "      <td>LGBMRegressor (1244) {'objective': 'regression...</td>\n",
       "      <td>5.9132</td>\n",
       "      <td>0.9887</td>\n",
       "      <td>0.9288</td>\n",
       "      <td>0.9373</td>\n",
       "      <td>1.1671</td>\n",
       "      <td>2.8661</td>\n",
       "      <td>2.9412</td>\n",
       "    </tr>\n",
       "    <tr>\n",
       "      <th>1</th>\n",
       "      <td>LGBMRegressor (1244) {'objective': 'regression...</td>\n",
       "      <td>5.9058</td>\n",
       "      <td>0.9886</td>\n",
       "      <td>0.9281</td>\n",
       "      <td>0.9371</td>\n",
       "      <td>1.1696</td>\n",
       "      <td>2.8803</td>\n",
       "      <td>2.9456</td>\n",
       "    </tr>\n",
       "    <tr>\n",
       "      <th>2</th>\n",
       "      <td>XGBRegressor (1354) {'alpha': 0.00949506479294...</td>\n",
       "      <td>5.2654</td>\n",
       "      <td>0.9827</td>\n",
       "      <td>0.9252</td>\n",
       "      <td>0.9360</td>\n",
       "      <td>1.4419</td>\n",
       "      <td>2.9362</td>\n",
       "      <td>2.9712</td>\n",
       "    </tr>\n",
       "    <tr>\n",
       "      <th>3</th>\n",
       "      <td>XGBRegressor (1279) {'alpha': 0.00949506479294...</td>\n",
       "      <td>5.0459</td>\n",
       "      <td>0.9807</td>\n",
       "      <td>0.9248</td>\n",
       "      <td>0.9348</td>\n",
       "      <td>1.5216</td>\n",
       "      <td>2.9431</td>\n",
       "      <td>2.9980</td>\n",
       "    </tr>\n",
       "    <tr>\n",
       "      <th>4</th>\n",
       "      <td>LGBMRegressor (178) {'objective': 'regression'...</td>\n",
       "      <td>0.6100</td>\n",
       "      <td>0.9930</td>\n",
       "      <td>0.9214</td>\n",
       "      <td>0.9320</td>\n",
       "      <td>0.9174</td>\n",
       "      <td>3.0128</td>\n",
       "      <td>3.0624</td>\n",
       "    </tr>\n",
       "    <tr>\n",
       "      <th>5</th>\n",
       "      <td>XGBRegressor (131) {'alpha': 3.028612934937252...</td>\n",
       "      <td>0.6253</td>\n",
       "      <td>0.9805</td>\n",
       "      <td>0.9171</td>\n",
       "      <td>0.9261</td>\n",
       "      <td>1.5295</td>\n",
       "      <td>3.1138</td>\n",
       "      <td>3.1928</td>\n",
       "    </tr>\n",
       "  </tbody>\n",
       "</table>\n",
       "</div>"
      ],
      "text/plain": [
       "                                               Model  Fit Time  Train R2  \\\n",
       "0  LGBMRegressor (1244) {'objective': 'regression...    5.9132    0.9887   \n",
       "1  LGBMRegressor (1244) {'objective': 'regression...    5.9058    0.9886   \n",
       "2  XGBRegressor (1354) {'alpha': 0.00949506479294...    5.2654    0.9827   \n",
       "3  XGBRegressor (1279) {'alpha': 0.00949506479294...    5.0459    0.9807   \n",
       "4  LGBMRegressor (178) {'objective': 'regression'...    0.6100    0.9930   \n",
       "5  XGBRegressor (131) {'alpha': 3.028612934937252...    0.6253    0.9805   \n",
       "\n",
       "    CV R2  Test R2  Train RMSE  CV RMSE  Test RMSE  \n",
       "0  0.9288   0.9373      1.1671   2.8661     2.9412  \n",
       "1  0.9281   0.9371      1.1696   2.8803     2.9456  \n",
       "2  0.9252   0.9360      1.4419   2.9362     2.9712  \n",
       "3  0.9248   0.9348      1.5216   2.9431     2.9980  \n",
       "4  0.9214   0.9320      0.9174   3.0128     3.0624  \n",
       "5  0.9171   0.9261      1.5295   3.1138     3.1928  "
      ]
     },
     "execution_count": 13,
     "metadata": {},
     "output_type": "execute_result"
    }
   ],
   "source": [
    "ver1_tuned = pd.read_csv(\"../data/processed/tuning_dropna_all (XGB+LGB).csv\")\n",
    "ver1_tuned"
   ]
  },
  {
   "cell_type": "code",
   "execution_count": 14,
   "metadata": {},
   "outputs": [
    {
     "data": {
      "text/html": [
       "<div>\n",
       "<style scoped>\n",
       "    .dataframe tbody tr th:only-of-type {\n",
       "        vertical-align: middle;\n",
       "    }\n",
       "\n",
       "    .dataframe tbody tr th {\n",
       "        vertical-align: top;\n",
       "    }\n",
       "\n",
       "    .dataframe thead th {\n",
       "        text-align: right;\n",
       "    }\n",
       "</style>\n",
       "<table border=\"1\" class=\"dataframe\">\n",
       "  <thead>\n",
       "    <tr style=\"text-align: right;\">\n",
       "      <th></th>\n",
       "      <th>Model</th>\n",
       "      <th>Fit Time</th>\n",
       "      <th>Train R2</th>\n",
       "      <th>CV R2</th>\n",
       "      <th>Test R2</th>\n",
       "      <th>Train RMSE</th>\n",
       "      <th>CV RMSE</th>\n",
       "      <th>Test RMSE</th>\n",
       "    </tr>\n",
       "  </thead>\n",
       "  <tbody>\n",
       "    <tr>\n",
       "      <th>0</th>\n",
       "      <td>LightGBM_Tuned (Ver1)</td>\n",
       "      <td>5.913</td>\n",
       "      <td>0.989</td>\n",
       "      <td>0.929</td>\n",
       "      <td>0.937</td>\n",
       "      <td>1.167</td>\n",
       "      <td>2.866</td>\n",
       "      <td>2.941</td>\n",
       "    </tr>\n",
       "    <tr>\n",
       "      <th>2</th>\n",
       "      <td>XGBoost_Tuned (Ver1)</td>\n",
       "      <td>5.265</td>\n",
       "      <td>0.983</td>\n",
       "      <td>0.925</td>\n",
       "      <td>0.936</td>\n",
       "      <td>1.442</td>\n",
       "      <td>2.936</td>\n",
       "      <td>2.971</td>\n",
       "    </tr>\n",
       "  </tbody>\n",
       "</table>\n",
       "</div>"
      ],
      "text/plain": [
       "                   Model  Fit Time  Train R2  CV R2  Test R2  Train RMSE  \\\n",
       "0  LightGBM_Tuned (Ver1)     5.913     0.989  0.929    0.937       1.167   \n",
       "2   XGBoost_Tuned (Ver1)     5.265     0.983  0.925    0.936       1.442   \n",
       "\n",
       "   CV RMSE  Test RMSE  \n",
       "0    2.866      2.941  \n",
       "2    2.936      2.971  "
      ]
     },
     "execution_count": 14,
     "metadata": {},
     "output_type": "execute_result"
    }
   ],
   "source": [
    "ver1_tuned_top = round(ver1_tuned.iloc[[0,2]], 3)\n",
    "ver1_tuned_top[\"Model\"] = ver1_tuned_top[\"Model\"].apply(lambda x: x.split()[0]) + \"_Tuned (Ver1)\"\n",
    "ver1_tuned_top[\"Model\"] = ver1_tuned_top[\"Model\"].str.replace(\"LGBMRegressor\", \"LightGBM\")\n",
    "ver1_tuned_top[\"Model\"] = ver1_tuned_top[\"Model\"].str.replace(\"XGBRegressor\", \"XGBoost\")\n",
    "ver1_tuned_top"
   ]
  },
  {
   "cell_type": "code",
   "execution_count": 15,
   "metadata": {},
   "outputs": [
    {
     "data": {
      "text/html": [
       "<div>\n",
       "<style scoped>\n",
       "    .dataframe tbody tr th:only-of-type {\n",
       "        vertical-align: middle;\n",
       "    }\n",
       "\n",
       "    .dataframe tbody tr th {\n",
       "        vertical-align: top;\n",
       "    }\n",
       "\n",
       "    .dataframe thead th {\n",
       "        text-align: right;\n",
       "    }\n",
       "</style>\n",
       "<table border=\"1\" class=\"dataframe\">\n",
       "  <thead>\n",
       "    <tr style=\"text-align: right;\">\n",
       "      <th></th>\n",
       "      <th>Model</th>\n",
       "      <th>Fit Time</th>\n",
       "      <th>Train R2</th>\n",
       "      <th>CV R2</th>\n",
       "      <th>Test R2</th>\n",
       "      <th>Train RMSE</th>\n",
       "      <th>CV RMSE</th>\n",
       "      <th>Test RMSE</th>\n",
       "    </tr>\n",
       "  </thead>\n",
       "  <tbody>\n",
       "    <tr>\n",
       "      <th>0</th>\n",
       "      <td>XGBRegressor (1757) {'objective': 'reg:squared...</td>\n",
       "      <td>10.0355</td>\n",
       "      <td>0.9961</td>\n",
       "      <td>0.9259</td>\n",
       "      <td>0.9087</td>\n",
       "      <td>0.6960</td>\n",
       "      <td>2.9985</td>\n",
       "      <td>3.4499</td>\n",
       "    </tr>\n",
       "    <tr>\n",
       "      <th>1</th>\n",
       "      <td>XGBRegressor (2000) {'objective': 'reg:squared...</td>\n",
       "      <td>11.6454</td>\n",
       "      <td>0.9968</td>\n",
       "      <td>0.9258</td>\n",
       "      <td>0.9085</td>\n",
       "      <td>0.6248</td>\n",
       "      <td>2.9999</td>\n",
       "      <td>3.4523</td>\n",
       "    </tr>\n",
       "    <tr>\n",
       "      <th>2</th>\n",
       "      <td>LGBMRegressor (940) {'objective': 'regression'...</td>\n",
       "      <td>5.3027</td>\n",
       "      <td>0.9907</td>\n",
       "      <td>0.9258</td>\n",
       "      <td>0.9095</td>\n",
       "      <td>1.0706</td>\n",
       "      <td>3.0011</td>\n",
       "      <td>3.4347</td>\n",
       "    </tr>\n",
       "    <tr>\n",
       "      <th>3</th>\n",
       "      <td>LGBMRegressor (942) {'objective': 'regression'...</td>\n",
       "      <td>5.3318</td>\n",
       "      <td>0.9909</td>\n",
       "      <td>0.9255</td>\n",
       "      <td>0.9084</td>\n",
       "      <td>1.0593</td>\n",
       "      <td>3.0069</td>\n",
       "      <td>3.4556</td>\n",
       "    </tr>\n",
       "    <tr>\n",
       "      <th>4</th>\n",
       "      <td>LGBMRegressor (331) {'objective': 'regression'...</td>\n",
       "      <td>1.4528</td>\n",
       "      <td>0.9924</td>\n",
       "      <td>0.9232</td>\n",
       "      <td>0.9116</td>\n",
       "      <td>0.9643</td>\n",
       "      <td>3.0562</td>\n",
       "      <td>3.3936</td>\n",
       "    </tr>\n",
       "    <tr>\n",
       "      <th>5</th>\n",
       "      <td>XGBRegressor (1064) {'objective': 'reg:squared...</td>\n",
       "      <td>2.2883</td>\n",
       "      <td>0.9854</td>\n",
       "      <td>0.9224</td>\n",
       "      <td>0.9129</td>\n",
       "      <td>1.3406</td>\n",
       "      <td>3.0743</td>\n",
       "      <td>3.3692</td>\n",
       "    </tr>\n",
       "  </tbody>\n",
       "</table>\n",
       "</div>"
      ],
      "text/plain": [
       "                                               Model  Fit Time  Train R2  \\\n",
       "0  XGBRegressor (1757) {'objective': 'reg:squared...   10.0355    0.9961   \n",
       "1  XGBRegressor (2000) {'objective': 'reg:squared...   11.6454    0.9968   \n",
       "2  LGBMRegressor (940) {'objective': 'regression'...    5.3027    0.9907   \n",
       "3  LGBMRegressor (942) {'objective': 'regression'...    5.3318    0.9909   \n",
       "4  LGBMRegressor (331) {'objective': 'regression'...    1.4528    0.9924   \n",
       "5  XGBRegressor (1064) {'objective': 'reg:squared...    2.2883    0.9854   \n",
       "\n",
       "    CV R2  Test R2  Train RMSE  CV RMSE  Test RMSE  \n",
       "0  0.9259   0.9087      0.6960   2.9985     3.4499  \n",
       "1  0.9258   0.9085      0.6248   2.9999     3.4523  \n",
       "2  0.9258   0.9095      1.0706   3.0011     3.4347  \n",
       "3  0.9255   0.9084      1.0593   3.0069     3.4556  \n",
       "4  0.9232   0.9116      0.9643   3.0562     3.3936  \n",
       "5  0.9224   0.9129      1.3406   3.0743     3.3692  "
      ]
     },
     "execution_count": 15,
     "metadata": {},
     "output_type": "execute_result"
    }
   ],
   "source": [
    "ver2_tuned = pd.read_csv(\"../data/processed/tuning_imputed_all (XGB+LGB).csv\")\n",
    "ver2_tuned"
   ]
  },
  {
   "cell_type": "code",
   "execution_count": 16,
   "metadata": {},
   "outputs": [
    {
     "data": {
      "text/html": [
       "<div>\n",
       "<style scoped>\n",
       "    .dataframe tbody tr th:only-of-type {\n",
       "        vertical-align: middle;\n",
       "    }\n",
       "\n",
       "    .dataframe tbody tr th {\n",
       "        vertical-align: top;\n",
       "    }\n",
       "\n",
       "    .dataframe thead th {\n",
       "        text-align: right;\n",
       "    }\n",
       "</style>\n",
       "<table border=\"1\" class=\"dataframe\">\n",
       "  <thead>\n",
       "    <tr style=\"text-align: right;\">\n",
       "      <th></th>\n",
       "      <th>Model</th>\n",
       "      <th>Fit Time</th>\n",
       "      <th>Train R2</th>\n",
       "      <th>CV R2</th>\n",
       "      <th>Test R2</th>\n",
       "      <th>Train RMSE</th>\n",
       "      <th>CV RMSE</th>\n",
       "      <th>Test RMSE</th>\n",
       "    </tr>\n",
       "  </thead>\n",
       "  <tbody>\n",
       "    <tr>\n",
       "      <th>0</th>\n",
       "      <td>XGBoost_Tuned (Ver2)</td>\n",
       "      <td>10.036</td>\n",
       "      <td>0.996</td>\n",
       "      <td>0.926</td>\n",
       "      <td>0.909</td>\n",
       "      <td>0.696</td>\n",
       "      <td>2.998</td>\n",
       "      <td>3.450</td>\n",
       "    </tr>\n",
       "    <tr>\n",
       "      <th>2</th>\n",
       "      <td>LightGBM_Tuned (Ver2)</td>\n",
       "      <td>5.303</td>\n",
       "      <td>0.991</td>\n",
       "      <td>0.926</td>\n",
       "      <td>0.910</td>\n",
       "      <td>1.071</td>\n",
       "      <td>3.001</td>\n",
       "      <td>3.435</td>\n",
       "    </tr>\n",
       "  </tbody>\n",
       "</table>\n",
       "</div>"
      ],
      "text/plain": [
       "                   Model  Fit Time  Train R2  CV R2  Test R2  Train RMSE  \\\n",
       "0   XGBoost_Tuned (Ver2)    10.036     0.996  0.926    0.909       0.696   \n",
       "2  LightGBM_Tuned (Ver2)     5.303     0.991  0.926    0.910       1.071   \n",
       "\n",
       "   CV RMSE  Test RMSE  \n",
       "0    2.998      3.450  \n",
       "2    3.001      3.435  "
      ]
     },
     "execution_count": 16,
     "metadata": {},
     "output_type": "execute_result"
    }
   ],
   "source": [
    "ver2_tuned_top = round(ver2_tuned.iloc[[0,2]], 3)\n",
    "ver2_tuned_top[\"Model\"] = ver2_tuned_top[\"Model\"].apply(lambda x: x.split()[0]) + \"_Tuned (Ver2)\"\n",
    "ver2_tuned_top[\"Model\"] = ver2_tuned_top[\"Model\"].str.replace(\"LGBMRegressor\", \"LightGBM\")\n",
    "ver2_tuned_top[\"Model\"] = ver2_tuned_top[\"Model\"].str.replace(\"XGBRegressor\", \"XGBoost\")\n",
    "ver2_tuned_top"
   ]
  },
  {
   "cell_type": "code",
   "execution_count": 17,
   "metadata": {},
   "outputs": [
    {
     "data": {
      "text/html": [
       "<div>\n",
       "<style scoped>\n",
       "    .dataframe tbody tr th:only-of-type {\n",
       "        vertical-align: middle;\n",
       "    }\n",
       "\n",
       "    .dataframe tbody tr th {\n",
       "        vertical-align: top;\n",
       "    }\n",
       "\n",
       "    .dataframe thead th {\n",
       "        text-align: right;\n",
       "    }\n",
       "</style>\n",
       "<table border=\"1\" class=\"dataframe\">\n",
       "  <thead>\n",
       "    <tr style=\"text-align: right;\">\n",
       "      <th></th>\n",
       "      <th>Model</th>\n",
       "      <th>Fit Time</th>\n",
       "      <th>Train R2</th>\n",
       "      <th>CV R2</th>\n",
       "      <th>Test R2</th>\n",
       "      <th>Train RMSE</th>\n",
       "      <th>CV RMSE</th>\n",
       "      <th>Test RMSE</th>\n",
       "    </tr>\n",
       "  </thead>\n",
       "  <tbody>\n",
       "    <tr>\n",
       "      <th>0</th>\n",
       "      <td>LightGBM_Tuned (Ver1)</td>\n",
       "      <td>5.913</td>\n",
       "      <td>0.989</td>\n",
       "      <td>0.929</td>\n",
       "      <td>0.937</td>\n",
       "      <td>1.167</td>\n",
       "      <td>2.866</td>\n",
       "      <td>2.941</td>\n",
       "    </tr>\n",
       "    <tr>\n",
       "      <th>1</th>\n",
       "      <td>XGBoost_Tuned (Ver1)</td>\n",
       "      <td>5.265</td>\n",
       "      <td>0.983</td>\n",
       "      <td>0.925</td>\n",
       "      <td>0.936</td>\n",
       "      <td>1.442</td>\n",
       "      <td>2.936</td>\n",
       "      <td>2.971</td>\n",
       "    </tr>\n",
       "    <tr>\n",
       "      <th>2</th>\n",
       "      <td>CatBoost (Ver1)</td>\n",
       "      <td>3.480</td>\n",
       "      <td>0.992</td>\n",
       "      <td>0.925</td>\n",
       "      <td>0.925</td>\n",
       "      <td>0.950</td>\n",
       "      <td>2.939</td>\n",
       "      <td>3.207</td>\n",
       "    </tr>\n",
       "    <tr>\n",
       "      <th>3</th>\n",
       "      <td>XGBoost_Tuned (Ver2)</td>\n",
       "      <td>10.036</td>\n",
       "      <td>0.996</td>\n",
       "      <td>0.926</td>\n",
       "      <td>0.909</td>\n",
       "      <td>0.696</td>\n",
       "      <td>2.998</td>\n",
       "      <td>3.450</td>\n",
       "    </tr>\n",
       "    <tr>\n",
       "      <th>4</th>\n",
       "      <td>LightGBM_Tuned (Ver2)</td>\n",
       "      <td>5.303</td>\n",
       "      <td>0.991</td>\n",
       "      <td>0.926</td>\n",
       "      <td>0.910</td>\n",
       "      <td>1.071</td>\n",
       "      <td>3.001</td>\n",
       "      <td>3.435</td>\n",
       "    </tr>\n",
       "    <tr>\n",
       "      <th>5</th>\n",
       "      <td>CatBoost (Ver2)</td>\n",
       "      <td>3.530</td>\n",
       "      <td>0.992</td>\n",
       "      <td>0.923</td>\n",
       "      <td>0.912</td>\n",
       "      <td>0.990</td>\n",
       "      <td>3.078</td>\n",
       "      <td>3.385</td>\n",
       "    </tr>\n",
       "    <tr>\n",
       "      <th>6</th>\n",
       "      <td>LightGBM (Ver1)</td>\n",
       "      <td>0.219</td>\n",
       "      <td>0.973</td>\n",
       "      <td>0.919</td>\n",
       "      <td>0.904</td>\n",
       "      <td>1.793</td>\n",
       "      <td>3.078</td>\n",
       "      <td>3.648</td>\n",
       "    </tr>\n",
       "  </tbody>\n",
       "</table>\n",
       "</div>"
      ],
      "text/plain": [
       "                   Model  Fit Time  Train R2  CV R2  Test R2  Train RMSE  \\\n",
       "0  LightGBM_Tuned (Ver1)     5.913     0.989  0.929    0.937       1.167   \n",
       "1   XGBoost_Tuned (Ver1)     5.265     0.983  0.925    0.936       1.442   \n",
       "2        CatBoost (Ver1)     3.480     0.992  0.925    0.925       0.950   \n",
       "3   XGBoost_Tuned (Ver2)    10.036     0.996  0.926    0.909       0.696   \n",
       "4  LightGBM_Tuned (Ver2)     5.303     0.991  0.926    0.910       1.071   \n",
       "5        CatBoost (Ver2)     3.530     0.992  0.923    0.912       0.990   \n",
       "6        LightGBM (Ver1)     0.219     0.973  0.919    0.904       1.793   \n",
       "\n",
       "   CV RMSE  Test RMSE  \n",
       "0    2.866      2.941  \n",
       "1    2.936      2.971  \n",
       "2    2.939      3.207  \n",
       "3    2.998      3.450  \n",
       "4    3.001      3.435  \n",
       "5    3.078      3.385  \n",
       "6    3.078      3.648  "
      ]
     },
     "execution_count": 17,
     "metadata": {},
     "output_type": "execute_result"
    }
   ],
   "source": [
    "best_after = pd.concat([best_10_before, ver1_tuned_top, ver2_tuned_top], axis=0)\n",
    "best_after = best_after.sort_values(by=\"CV RMSE\").head(7).reset_index(drop=True)\n",
    "best_after"
   ]
  },
  {
   "cell_type": "code",
   "execution_count": 18,
   "metadata": {},
   "outputs": [
    {
     "name": "stdout",
     "output_type": "stream",
     "text": [
      "D3: ['#1F77B4', '#FF7F0E', '#2CA02C', '#D62728', '#9467BD', '#8C564B', '#E377C2', '#7F7F7F', '#BCBD22', '#17BECF']\n",
      "Plotly: ['#636EFA', '#EF553B', '#00CC96', '#AB63FA', '#FFA15A', '#19D3F3', '#FF6692', '#B6E880', '#FF97FF', '#FECB52']\n"
     ]
    }
   ],
   "source": [
    "print(\"D3:\", px.colors.qualitative.D3)\n",
    "print(\"Plotly:\", px.colors.qualitative.Plotly)"
   ]
  },
  {
   "cell_type": "code",
   "execution_count": 19,
   "metadata": {},
   "outputs": [],
   "source": [
    "colors1 = ['#636EFA','#636EFA','#636EFA','#636EFA','#636EFA','#636EFA','#636EFA']\n",
    "colors2 = ['#EF553B','#EF553B','#EF553B','#EF553B','#EF553B','#EF553B','#EF553B']\n",
    "colors3 = ['#00CC96','#00CC96','#00CC96','#00CC96','#00CC96','#00CC96','#00CC96']"
   ]
  },
  {
   "cell_type": "code",
   "execution_count": 20,
   "metadata": {},
   "outputs": [
    {
     "data": {
      "application/vnd.plotly.v1+json": {
       "config": {
        "plotlyServerURL": "https://plot.ly"
       },
       "data": [
        {
         "name": "Train RMSE",
         "text": [
          1.167,
          1.442,
          0.95,
          0.696,
          1.071,
          0.99,
          1.793
         ],
         "textposition": "auto",
         "type": "bar",
         "x": [
          "LightGBM_Tuned (Ver1)",
          "XGBoost_Tuned (Ver1)",
          "CatBoost (Ver1)",
          "XGBoost_Tuned (Ver2)",
          "LightGBM_Tuned (Ver2)",
          "CatBoost (Ver2)",
          "LightGBM (Ver1)"
         ],
         "y": [
          1.167,
          1.442,
          0.95,
          0.696,
          1.071,
          0.99,
          1.793
         ]
        },
        {
         "name": "CV RMSE",
         "text": [
          2.866,
          2.936,
          2.939,
          2.998,
          3.001,
          3.078,
          3.078
         ],
         "textposition": "auto",
         "type": "bar",
         "x": [
          "LightGBM_Tuned (Ver1)",
          "XGBoost_Tuned (Ver1)",
          "CatBoost (Ver1)",
          "XGBoost_Tuned (Ver2)",
          "LightGBM_Tuned (Ver2)",
          "CatBoost (Ver2)",
          "LightGBM (Ver1)"
         ],
         "y": [
          2.866,
          2.936,
          2.939,
          2.998,
          3.001,
          3.078,
          3.078
         ]
        },
        {
         "name": "Test RMSE",
         "text": [
          2.941,
          2.971,
          3.207,
          3.45,
          3.435,
          3.385,
          3.648
         ],
         "textposition": "auto",
         "type": "bar",
         "x": [
          "LightGBM_Tuned (Ver1)",
          "XGBoost_Tuned (Ver1)",
          "CatBoost (Ver1)",
          "XGBoost_Tuned (Ver2)",
          "LightGBM_Tuned (Ver2)",
          "CatBoost (Ver2)",
          "LightGBM (Ver1)"
         ],
         "y": [
          2.941,
          2.971,
          3.207,
          3.45,
          3.435,
          3.385,
          3.648
         ]
        }
       ],
       "layout": {
        "font": {
         "size": 15
        },
        "height": 600,
        "margin": {
         "b": 120,
         "l": 70,
         "r": 100,
         "t": 70
        },
        "shapes": [
         {
          "line": {
           "color": "Red",
           "width": 3
          },
          "type": "rect",
          "x0": -0.47,
          "x1": 1.47,
          "xref": "x",
          "y0": 0,
          "y1": 3.03,
          "yref": "y"
         },
         {
          "line": {
           "color": "Purple",
           "width": 3
          },
          "type": "rect",
          "x0": 2.53,
          "x1": 4.47,
          "xref": "x",
          "y0": 0,
          "y1": 3.5,
          "yref": "y"
         }
        ],
        "template": {
         "data": {
          "pie": [
           {
            "automargin": true,
            "type": "pie"
           }
          ],
          "scatter": [
           {
            "line": {
             "width": 3
            },
            "marker": {
             "size": 9
            },
            "type": "scatter"
           }
          ],
          "scatter3d": [
           {
            "line": {
             "width": 3
            },
            "marker": {
             "size": 9
            },
            "type": "scatter3d"
           }
          ],
          "scattergeo": [
           {
            "line": {
             "width": 3
            },
            "marker": {
             "size": 9
            },
            "type": "scattergeo"
           }
          ],
          "scattergl": [
           {
            "line": {
             "width": 3
            },
            "marker": {
             "size": 9
            },
            "type": "scattergl"
           }
          ],
          "scatterpolar": [
           {
            "line": {
             "width": 3
            },
            "marker": {
             "size": 9
            },
            "type": "scatterpolar"
           }
          ],
          "scatterpolargl": [
           {
            "line": {
             "width": 3
            },
            "marker": {
             "size": 9
            },
            "type": "scatterpolargl"
           }
          ],
          "scatterternary": [
           {
            "line": {
             "width": 3
            },
            "marker": {
             "size": 9
            },
            "type": "scatterternary"
           }
          ],
          "table": [
           {
            "cells": {
             "height": 30
            },
            "header": {
             "height": 36
            },
            "type": "table"
           }
          ]
         },
         "layout": {
          "font": {
           "size": 18
          },
          "xaxis": {
           "title": {
            "standoff": 15
           }
          },
          "yaxis": {
           "title": {
            "standoff": 15
           }
          }
         }
        },
        "title": {
         "text": "After Tuning"
        },
        "width": 720,
        "xaxis": {},
        "yaxis": {
         "range": [
          0,
          4
         ],
         "title": {}
        }
       }
      }
     },
     "metadata": {},
     "output_type": "display_data"
    }
   ],
   "source": [
    "fig = go.Figure()\n",
    "\n",
    "fig.add_trace(go.Bar(\n",
    "    x=best_after['Model'], y=best_after['Train RMSE'],\n",
    "    text=best_after['Train RMSE'], textposition='auto',\n",
    "    name='Train RMSE',\n",
    "    #marker_color=colors1\n",
    "))\n",
    "fig.add_trace(go.Bar(\n",
    "    x=best_after['Model'], y=best_after['CV RMSE'],\n",
    "    text=best_after['CV RMSE'], textposition='auto',\n",
    "    name='CV RMSE',\n",
    "    #marker_color=colors2\n",
    "))\n",
    "fig.add_trace(go.Bar(\n",
    "    x=best_after['Model'], y=best_after['Test RMSE'],\n",
    "    text=best_after['Test RMSE'], textposition='auto',\n",
    "    name='Test RMSE',\n",
    "    #marker_color=colors3\n",
    "))\n",
    "fig.update_layout(\n",
    "    title='After Tuning',\n",
    "    xaxis=None,\n",
    "    yaxis=dict(\n",
    "        title=None,\n",
    "        range=[0,4]\n",
    "    ),\n",
    "    height=500*1.2,\n",
    "    width=600*1.2,\n",
    "    margin=dict(l=70, r=100, t=70, b=120),\n",
    "    font_size=15,  \n",
    ")\n",
    "fig.add_shape(type=\"rect\",\n",
    "    xref=\"x\", yref=\"y\",\n",
    "    x0=-0.47, y0=0,\n",
    "    x1=1.47, y1=3.03,\n",
    "    line=dict(\n",
    "        color=\"Red\",\n",
    "        width=3,\n",
    "    ),\n",
    ")\n",
    "fig.add_shape(type=\"rect\",\n",
    "    xref=\"x\", yref=\"y\",\n",
    "    x0=2.53, y0=0,\n",
    "    x1=4.47, y1=3.5,\n",
    "    line=dict(\n",
    "        color=\"Purple\",\n",
    "        width=3,\n",
    "    ),\n",
    ")\n",
    "fig.show()"
   ]
  },
  {
   "cell_type": "code",
   "execution_count": 21,
   "metadata": {},
   "outputs": [
    {
     "data": {
      "application/vnd.plotly.v1+json": {
       "config": {
        "plotlyServerURL": "https://plot.ly"
       },
       "data": [
        {
         "name": "Train R2",
         "text": [
          0.989,
          0.983,
          0.992,
          0.996,
          0.991,
          0.992,
          0.973
         ],
         "textposition": "auto",
         "type": "bar",
         "x": [
          "LightGBM_Tuned (Ver1)",
          "XGBoost_Tuned (Ver1)",
          "CatBoost (Ver1)",
          "XGBoost_Tuned (Ver2)",
          "LightGBM_Tuned (Ver2)",
          "CatBoost (Ver2)",
          "LightGBM (Ver1)"
         ],
         "y": [
          0.989,
          0.983,
          0.992,
          0.996,
          0.991,
          0.992,
          0.973
         ]
        },
        {
         "name": "CV R2",
         "text": [
          0.929,
          0.925,
          0.925,
          0.926,
          0.926,
          0.923,
          0.919
         ],
         "textposition": "auto",
         "type": "bar",
         "x": [
          "LightGBM_Tuned (Ver1)",
          "XGBoost_Tuned (Ver1)",
          "CatBoost (Ver1)",
          "XGBoost_Tuned (Ver2)",
          "LightGBM_Tuned (Ver2)",
          "CatBoost (Ver2)",
          "LightGBM (Ver1)"
         ],
         "y": [
          0.929,
          0.925,
          0.925,
          0.926,
          0.926,
          0.923,
          0.919
         ]
        },
        {
         "name": "Test R2",
         "text": [
          0.937,
          0.936,
          0.925,
          0.909,
          0.91,
          0.912,
          0.904
         ],
         "textposition": "auto",
         "type": "bar",
         "x": [
          "LightGBM_Tuned (Ver1)",
          "XGBoost_Tuned (Ver1)",
          "CatBoost (Ver1)",
          "XGBoost_Tuned (Ver2)",
          "LightGBM_Tuned (Ver2)",
          "CatBoost (Ver2)",
          "LightGBM (Ver1)"
         ],
         "y": [
          0.937,
          0.936,
          0.925,
          0.909,
          0.91,
          0.912,
          0.904
         ]
        }
       ],
       "layout": {
        "font": {
         "size": 16
        },
        "height": 600,
        "margin": {
         "b": 120,
         "l": 100,
         "r": 100,
         "t": 70
        },
        "template": {
         "data": {
          "pie": [
           {
            "automargin": true,
            "type": "pie"
           }
          ],
          "scatter": [
           {
            "line": {
             "width": 3
            },
            "marker": {
             "size": 9
            },
            "type": "scatter"
           }
          ],
          "scatter3d": [
           {
            "line": {
             "width": 3
            },
            "marker": {
             "size": 9
            },
            "type": "scatter3d"
           }
          ],
          "scattergeo": [
           {
            "line": {
             "width": 3
            },
            "marker": {
             "size": 9
            },
            "type": "scattergeo"
           }
          ],
          "scattergl": [
           {
            "line": {
             "width": 3
            },
            "marker": {
             "size": 9
            },
            "type": "scattergl"
           }
          ],
          "scatterpolar": [
           {
            "line": {
             "width": 3
            },
            "marker": {
             "size": 9
            },
            "type": "scatterpolar"
           }
          ],
          "scatterpolargl": [
           {
            "line": {
             "width": 3
            },
            "marker": {
             "size": 9
            },
            "type": "scatterpolargl"
           }
          ],
          "scatterternary": [
           {
            "line": {
             "width": 3
            },
            "marker": {
             "size": 9
            },
            "type": "scatterternary"
           }
          ],
          "table": [
           {
            "cells": {
             "height": 30
            },
            "header": {
             "height": 36
            },
            "type": "table"
           }
          ]
         },
         "layout": {
          "font": {
           "size": 18
          },
          "xaxis": {
           "title": {
            "standoff": 15
           }
          },
          "yaxis": {
           "title": {
            "standoff": 15
           }
          }
         }
        },
        "title": {
         "text": "After Tuning"
        },
        "width": 720,
        "xaxis": {},
        "yaxis": {}
       }
      }
     },
     "metadata": {},
     "output_type": "display_data"
    }
   ],
   "source": [
    "fig = go.Figure()\n",
    "\n",
    "fig.add_trace(go.Bar(\n",
    "    x=best_after['Model'], y=best_after['Train R2'],\n",
    "    text=best_after['Train R2'], textposition='auto',\n",
    "    name='Train R2'\n",
    "))\n",
    "fig.add_trace(go.Bar(\n",
    "    x=best_after['Model'], y=best_after['CV R2'],\n",
    "    text=best_after['CV R2'], textposition='auto',\n",
    "    name='CV R2'\n",
    "))\n",
    "fig.add_trace(go.Bar(\n",
    "    x=best_after['Model'], y=best_after['Test R2'],\n",
    "    text=best_after['Test R2'], textposition='auto',\n",
    "    name='Test R2'\n",
    "))\n",
    "fig.update_layout(\n",
    "    title='After Tuning',\n",
    "    xaxis=None,\n",
    "    yaxis=None,\n",
    "    height=500*1.2,\n",
    "    width=600*1.2,\n",
    "    margin=dict(l=100, r=100, t=70, b=120),\n",
    "    font_size=16,  \n",
    ")\n",
    "fig.show()"
   ]
  },
  {
   "cell_type": "code",
   "execution_count": 32,
   "metadata": {},
   "outputs": [],
   "source": [
    "final_model = best_after.loc[1]\n",
    "final_model = pd.DataFrame(final_model).T"
   ]
  },
  {
   "cell_type": "code",
   "execution_count": 33,
   "metadata": {},
   "outputs": [
    {
     "data": {
      "text/html": [
       "<div>\n",
       "<style scoped>\n",
       "    .dataframe tbody tr th:only-of-type {\n",
       "        vertical-align: middle;\n",
       "    }\n",
       "\n",
       "    .dataframe tbody tr th {\n",
       "        vertical-align: top;\n",
       "    }\n",
       "\n",
       "    .dataframe thead th {\n",
       "        text-align: right;\n",
       "    }\n",
       "</style>\n",
       "<table border=\"1\" class=\"dataframe\">\n",
       "  <thead>\n",
       "    <tr style=\"text-align: right;\">\n",
       "      <th></th>\n",
       "      <th>Model</th>\n",
       "      <th>Fit Time</th>\n",
       "      <th>Train R2</th>\n",
       "      <th>CV R2</th>\n",
       "      <th>Test R2</th>\n",
       "      <th>Train RMSE</th>\n",
       "      <th>CV RMSE</th>\n",
       "      <th>Test RMSE</th>\n",
       "    </tr>\n",
       "  </thead>\n",
       "  <tbody>\n",
       "    <tr>\n",
       "      <th>1</th>\n",
       "      <td>XGBoost_Tuned (Ver1)</td>\n",
       "      <td>5.265</td>\n",
       "      <td>0.983</td>\n",
       "      <td>0.925</td>\n",
       "      <td>0.936</td>\n",
       "      <td>1.442</td>\n",
       "      <td>2.936</td>\n",
       "      <td>2.971</td>\n",
       "    </tr>\n",
       "  </tbody>\n",
       "</table>\n",
       "</div>"
      ],
      "text/plain": [
       "                  Model Fit Time Train R2  CV R2 Test R2 Train RMSE CV RMSE  \\\n",
       "1  XGBoost_Tuned (Ver1)    5.265    0.983  0.925   0.936      1.442   2.936   \n",
       "\n",
       "  Test RMSE  \n",
       "1     2.971  "
      ]
     },
     "execution_count": 33,
     "metadata": {},
     "output_type": "execute_result"
    }
   ],
   "source": [
    "final_model"
   ]
  },
  {
   "cell_type": "code",
   "execution_count": 40,
   "metadata": {},
   "outputs": [
    {
     "data": {
      "application/vnd.plotly.v1+json": {
       "config": {
        "plotlyServerURL": "https://plot.ly"
       },
       "data": [
        {
         "name": "Train RMSE",
         "text": [
          1.442
         ],
         "textposition": "auto",
         "type": "bar",
         "x": [
          "XGBoost_Tuned (Ver1)"
         ],
         "y": [
          1.442
         ]
        },
        {
         "name": "CV RMSE",
         "text": [
          2.936
         ],
         "textposition": "auto",
         "type": "bar",
         "x": [
          "XGBoost_Tuned (Ver1)"
         ],
         "y": [
          2.936
         ]
        },
        {
         "name": "Test RMSE",
         "text": [
          2.971
         ],
         "textposition": "auto",
         "type": "bar",
         "x": [
          "XGBoost_Tuned (Ver1)"
         ],
         "y": [
          2.971
         ]
        }
       ],
       "layout": {
        "font": {
         "size": 15
        },
        "height": 600,
        "margin": {
         "b": 120,
         "l": 70,
         "r": 100,
         "t": 70
        },
        "showlegend": false,
        "template": {
         "data": {
          "pie": [
           {
            "automargin": true,
            "type": "pie"
           }
          ],
          "scatter": [
           {
            "line": {
             "width": 3
            },
            "marker": {
             "size": 9
            },
            "type": "scatter"
           }
          ],
          "scatter3d": [
           {
            "line": {
             "width": 3
            },
            "marker": {
             "size": 9
            },
            "type": "scatter3d"
           }
          ],
          "scattergeo": [
           {
            "line": {
             "width": 3
            },
            "marker": {
             "size": 9
            },
            "type": "scattergeo"
           }
          ],
          "scattergl": [
           {
            "line": {
             "width": 3
            },
            "marker": {
             "size": 9
            },
            "type": "scattergl"
           }
          ],
          "scatterpolar": [
           {
            "line": {
             "width": 3
            },
            "marker": {
             "size": 9
            },
            "type": "scatterpolar"
           }
          ],
          "scatterpolargl": [
           {
            "line": {
             "width": 3
            },
            "marker": {
             "size": 9
            },
            "type": "scatterpolargl"
           }
          ],
          "scatterternary": [
           {
            "line": {
             "width": 3
            },
            "marker": {
             "size": 9
            },
            "type": "scatterternary"
           }
          ],
          "table": [
           {
            "cells": {
             "height": 30
            },
            "header": {
             "height": 36
            },
            "type": "table"
           }
          ]
         },
         "layout": {
          "font": {
           "size": 18
          },
          "xaxis": {
           "title": {
            "standoff": 15
           }
          },
          "yaxis": {
           "title": {
            "standoff": 15
           }
          }
         }
        },
        "title": {
         "text": "RMSE Score"
        },
        "width": 360,
        "xaxis": {},
        "yaxis": {}
       }
      }
     },
     "metadata": {},
     "output_type": "display_data"
    }
   ],
   "source": [
    "fig = go.Figure()\n",
    "\n",
    "fig.add_trace(go.Bar(\n",
    "    x=final_model['Model'], y=final_model['Train RMSE'],\n",
    "    text=final_model['Train RMSE'], textposition='auto',\n",
    "    name='Train RMSE',\n",
    "    #marker_color=colors1\n",
    "))\n",
    "fig.add_trace(go.Bar(\n",
    "    x=final_model['Model'], y=final_model['CV RMSE'],\n",
    "    text=final_model['CV RMSE'], textposition='auto',\n",
    "    name='CV RMSE',\n",
    "    #marker_color=colors2\n",
    "))\n",
    "fig.add_trace(go.Bar(\n",
    "    x=final_model['Model'], y=final_model['Test RMSE'],\n",
    "    text=final_model['Test RMSE'], textposition='auto',\n",
    "    name='Test RMSE',\n",
    "    #marker_color=colors3\n",
    "))\n",
    "fig.update_layout(\n",
    "    title='RMSE Score',\n",
    "    xaxis=None,\n",
    "    yaxis=None,\n",
    "    height=500*1.2,\n",
    "    width=300*1.2,\n",
    "    margin=dict(l=70, r=100, t=70, b=120),\n",
    "    font_size=15, \n",
    "    showlegend=False\n",
    ")\n",
    "fig.show()"
   ]
  },
  {
   "cell_type": "code",
   "execution_count": 42,
   "metadata": {},
   "outputs": [
    {
     "data": {
      "application/vnd.plotly.v1+json": {
       "config": {
        "plotlyServerURL": "https://plot.ly"
       },
       "data": [
        {
         "name": "Train R2",
         "text": [
          0.983
         ],
         "textposition": "auto",
         "type": "bar",
         "x": [
          "XGBoost_Tuned (Ver1)"
         ],
         "y": [
          0.983
         ]
        },
        {
         "name": "CV R2",
         "text": [
          0.925
         ],
         "textposition": "auto",
         "type": "bar",
         "x": [
          "XGBoost_Tuned (Ver1)"
         ],
         "y": [
          0.925
         ]
        },
        {
         "name": "Test R2",
         "text": [
          0.936
         ],
         "textposition": "auto",
         "type": "bar",
         "x": [
          "XGBoost_Tuned (Ver1)"
         ],
         "y": [
          0.936
         ]
        }
       ],
       "layout": {
        "font": {
         "size": 15
        },
        "height": 600,
        "margin": {
         "b": 120,
         "l": 70,
         "r": 100,
         "t": 70
        },
        "showlegend": false,
        "template": {
         "data": {
          "pie": [
           {
            "automargin": true,
            "type": "pie"
           }
          ],
          "scatter": [
           {
            "line": {
             "width": 3
            },
            "marker": {
             "size": 9
            },
            "type": "scatter"
           }
          ],
          "scatter3d": [
           {
            "line": {
             "width": 3
            },
            "marker": {
             "size": 9
            },
            "type": "scatter3d"
           }
          ],
          "scattergeo": [
           {
            "line": {
             "width": 3
            },
            "marker": {
             "size": 9
            },
            "type": "scattergeo"
           }
          ],
          "scattergl": [
           {
            "line": {
             "width": 3
            },
            "marker": {
             "size": 9
            },
            "type": "scattergl"
           }
          ],
          "scatterpolar": [
           {
            "line": {
             "width": 3
            },
            "marker": {
             "size": 9
            },
            "type": "scatterpolar"
           }
          ],
          "scatterpolargl": [
           {
            "line": {
             "width": 3
            },
            "marker": {
             "size": 9
            },
            "type": "scatterpolargl"
           }
          ],
          "scatterternary": [
           {
            "line": {
             "width": 3
            },
            "marker": {
             "size": 9
            },
            "type": "scatterternary"
           }
          ],
          "table": [
           {
            "cells": {
             "height": 30
            },
            "header": {
             "height": 36
            },
            "type": "table"
           }
          ]
         },
         "layout": {
          "font": {
           "size": 18
          },
          "xaxis": {
           "title": {
            "standoff": 15
           }
          },
          "yaxis": {
           "title": {
            "standoff": 15
           }
          }
         }
        },
        "title": {
         "text": "R-Squared Score"
        },
        "width": 360,
        "xaxis": {},
        "yaxis": {}
       }
      }
     },
     "metadata": {},
     "output_type": "display_data"
    }
   ],
   "source": [
    "fig = go.Figure()\n",
    "\n",
    "fig.add_trace(go.Bar(\n",
    "    x=final_model['Model'], y=final_model['Train R2'],\n",
    "    text=final_model['Train R2'], textposition='auto',\n",
    "    name='Train R2',\n",
    "    #marker_color=colors1\n",
    "))\n",
    "fig.add_trace(go.Bar(\n",
    "    x=final_model['Model'], y=final_model['CV R2'],\n",
    "    text=final_model['CV R2'], textposition='auto',\n",
    "    name='CV R2',\n",
    "    #marker_color=colors2\n",
    "))\n",
    "fig.add_trace(go.Bar(\n",
    "    x=final_model['Model'], y=final_model['Test R2'],\n",
    "    text=final_model['Test R2'], textposition='auto',\n",
    "    name='Test R2',\n",
    "    #marker_color=colors3\n",
    "))\n",
    "fig.update_layout(\n",
    "    title='R-Squared Score',\n",
    "    xaxis=None,\n",
    "    yaxis=None,\n",
    "    height=500*1.2,\n",
    "    width=300*1.2,\n",
    "    margin=dict(l=70, r=100, t=70, b=120),\n",
    "    font_size=15, \n",
    "    showlegend=False\n",
    ")\n",
    "fig.show()"
   ]
  }
 ],
 "metadata": {
  "deepnote_execution_queue": [],
  "deepnote_notebook_id": "a373ca5a-055e-4d24-bc9d-e95d5aab8611",
  "jupytext": {
   "formats": "notebooks//ipynb,markdown//md,scripts//py:percent"
  },
  "kernelspec": {
   "display_name": "Python 3",
   "language": "python",
   "name": "python3"
  },
  "language_info": {
   "codemirror_mode": {
    "name": "ipython",
    "version": 3
   },
   "file_extension": ".py",
   "mimetype": "text/x-python",
   "name": "python",
   "nbconvert_exporter": "python",
   "pygments_lexer": "ipython3",
   "version": "3.8.3-final"
  }
 },
 "nbformat": 4,
 "nbformat_minor": 4
}
