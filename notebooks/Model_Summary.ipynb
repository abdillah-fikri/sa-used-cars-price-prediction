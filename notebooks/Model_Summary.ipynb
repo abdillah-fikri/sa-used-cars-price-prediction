{
 "cells": [
  {
   "cell_type": "code",
   "execution_count": null,
   "metadata": {
    "cell_id": "00000-22bc0b26-1ea9-4900-a08a-fed218efdabd",
    "execution_millis": 554,
    "execution_start": 1602829891550,
    "output_cleared": false,
    "source_hash": "9c12a302"
   },
   "outputs": [],
   "source": [
    "import pandas as pd\n",
    "import numpy as np\n",
    "import plotly.graph_objects as go\n",
    "import plotly.express as px"
   ]
  },
  {
   "cell_type": "code",
   "execution_count": null,
   "metadata": {},
   "outputs": [],
   "source": [
    "ver1 = pd.read_csv('../data/processed/summary_dropna_all.csv')\n",
    "ver2 = pd.read_csv('../data/processed/summary_dropna_selected.csv')\n",
    "ver3 = pd.read_csv('../data/processed/summary_imputed_all.csv')\n",
    "ver4 = pd.read_csv('../data/processed/summary_imputed_selected.csv')\n",
    "\n",
    "df_all_ver = pd.concat([ver1, ver2, ver3, ver4], axis=0)\n",
    "df_all_ver.sort_values(by='Test RMSE', inplace=True)\n",
    "df_all_ver.head()"
   ]
  },
  {
   "cell_type": "code",
   "execution_count": null,
   "metadata": {
    "cell_id": "00001-c84496a8-764a-4ebf-9d38-ea2d6e9b0438",
    "execution_millis": 117,
    "execution_start": 1602829939970,
    "output_cleared": false,
    "source_hash": "93fbbcfd"
   },
   "outputs": [],
   "source": [
    "df_all_ver = pd.read_excel('Model_Summary.xlsx')"
   ]
  },
  {
   "cell_type": "code",
   "execution_count": null,
   "metadata": {
    "cell_id": "00002-fda41ab5-1578-4759-95fd-34bbab934939",
    "execution_millis": 82,
    "execution_start": 1602829944018,
    "output_cleared": false,
    "source_hash": "a46fdaaf"
   },
   "outputs": [
    {
     "data": {
      "text/plain": [
       "array(['dropna + all + unscaled', 'dropna + all + scaled',\n",
       "       'imputed + all + scaled', 'imputed + all + unscaled',\n",
       "       'imputed + selected + scaled', 'imputed + selected + unscaled',\n",
       "       'dropna + selected + unscaled', 'dropna + selected + scaled'],\n",
       "      dtype=object)"
      ]
     },
     "execution_count": 8,
     "metadata": {},
     "output_type": "execute_result"
    }
   ],
   "source": [
    "df_all_ver['Dataset Version'].unique()"
   ]
  },
  {
   "cell_type": "code",
   "execution_count": null,
   "metadata": {
    "cell_id": "00003-7d415f67-fe9a-4bb4-9bee-fa5d53ac3de1",
    "execution_millis": 115,
    "execution_start": 1602852201510,
    "output_cleared": false,
    "source_hash": "69479740",
    "tags": []
   },
   "outputs": [
    {
     "data": {
      "text/html": [
       "<html>\n",
       "<head><meta charset=\"utf-8\" /></head>\n",
       "<body>\n",
       "    <div>            <script src=\"https://cdnjs.cloudflare.com/ajax/libs/mathjax/2.7.5/MathJax.js?config=TeX-AMS-MML_SVG\"></script><script type=\"text/javascript\">if (window.MathJax) {MathJax.Hub.Config({SVG: {font: \"STIX-Web\"}});}</script>                <script type=\"text/javascript\">window.PlotlyConfig = {MathJaxConfig: 'local'};</script>\n",
       "        <script src=\"https://cdn.plot.ly/plotly-latest.min.js\"></script>                <div id=\"0a579670-3260-473f-b0ad-5ca229e75e0b\" class=\"plotly-graph-div\" style=\"height:525px; width:100%;\"></div>            <script type=\"text/javascript\">                                    window.PLOTLYENV=window.PLOTLYENV || {};                                    if (document.getElementById(\"0a579670-3260-473f-b0ad-5ca229e75e0b\")) {                    Plotly.newPlot(                        \"0a579670-3260-473f-b0ad-5ca229e75e0b\",                        [{\"name\": \"Train RMSE\", \"text\": [1.2624, 2.0704, 1.3866, 0.9046, 0.552, 4.771, 5.17], \"textposition\": \"auto\", \"type\": \"bar\", \"x\": [\"CatBoostRegressor\", \"LGBMRegressor\", \"RandomForestRegressor\", \"XGBRegressor\", \"DecisionTreeRegressor\", \"LinearRegression\", \"LassoRegression\"], \"y\": [1.2624, 2.0704, 1.3866, 0.9046, 0.552, 4.771, 5.17]}, {\"name\": \"CV RMSE\", \"text\": [3.1995, 3.2653, 3.3504, 3.4966, 4.3947, 4.865, 5.1751], \"textposition\": \"auto\", \"type\": \"bar\", \"x\": [\"CatBoostRegressor\", \"LGBMRegressor\", \"RandomForestRegressor\", \"XGBRegressor\", \"DecisionTreeRegressor\", \"LinearRegression\", \"LassoRegression\"], \"y\": [3.1995, 3.2653, 3.3504, 3.4966, 4.3947, 4.865, 5.1751]}, {\"name\": \"Test RMSE\", \"text\": [3.4089, 3.6776, 3.7367, 3.9355, 5.0738, 5.5672, 5.9539], \"textposition\": \"auto\", \"type\": \"bar\", \"x\": [\"CatBoostRegressor\", \"LGBMRegressor\", \"RandomForestRegressor\", \"XGBRegressor\", \"DecisionTreeRegressor\", \"LinearRegression\", \"LassoRegression\"], \"y\": [3.4089, 3.6776, 3.7367, 3.9355, 5.0738, 5.5672, 5.9539]}],                        {\"template\": {\"data\": {\"bar\": [{\"error_x\": {\"color\": \"#2a3f5f\"}, \"error_y\": {\"color\": \"#2a3f5f\"}, \"marker\": {\"line\": {\"color\": \"#E5ECF6\", \"width\": 0.5}}, \"type\": \"bar\"}], \"barpolar\": [{\"marker\": {\"line\": {\"color\": \"#E5ECF6\", \"width\": 0.5}}, \"type\": \"barpolar\"}], \"carpet\": [{\"aaxis\": {\"endlinecolor\": \"#2a3f5f\", \"gridcolor\": \"white\", \"linecolor\": \"white\", \"minorgridcolor\": \"white\", \"startlinecolor\": \"#2a3f5f\"}, \"baxis\": {\"endlinecolor\": \"#2a3f5f\", \"gridcolor\": \"white\", \"linecolor\": \"white\", \"minorgridcolor\": \"white\", \"startlinecolor\": \"#2a3f5f\"}, \"type\": \"carpet\"}], \"choropleth\": [{\"colorbar\": {\"outlinewidth\": 0, \"ticks\": \"\"}, \"type\": \"choropleth\"}], \"contour\": [{\"colorbar\": {\"outlinewidth\": 0, \"ticks\": \"\"}, \"colorscale\": [[0.0, \"#0d0887\"], [0.1111111111111111, \"#46039f\"], [0.2222222222222222, \"#7201a8\"], [0.3333333333333333, \"#9c179e\"], [0.4444444444444444, \"#bd3786\"], [0.5555555555555556, \"#d8576b\"], [0.6666666666666666, \"#ed7953\"], [0.7777777777777778, \"#fb9f3a\"], [0.8888888888888888, \"#fdca26\"], [1.0, \"#f0f921\"]], \"type\": \"contour\"}], \"contourcarpet\": [{\"colorbar\": {\"outlinewidth\": 0, \"ticks\": \"\"}, \"type\": \"contourcarpet\"}], \"heatmap\": [{\"colorbar\": {\"outlinewidth\": 0, \"ticks\": \"\"}, \"colorscale\": [[0.0, \"#0d0887\"], [0.1111111111111111, \"#46039f\"], [0.2222222222222222, \"#7201a8\"], [0.3333333333333333, \"#9c179e\"], [0.4444444444444444, \"#bd3786\"], [0.5555555555555556, \"#d8576b\"], [0.6666666666666666, \"#ed7953\"], [0.7777777777777778, \"#fb9f3a\"], [0.8888888888888888, \"#fdca26\"], [1.0, \"#f0f921\"]], \"type\": \"heatmap\"}], \"heatmapgl\": [{\"colorbar\": {\"outlinewidth\": 0, \"ticks\": \"\"}, \"colorscale\": [[0.0, \"#0d0887\"], [0.1111111111111111, \"#46039f\"], [0.2222222222222222, \"#7201a8\"], [0.3333333333333333, \"#9c179e\"], [0.4444444444444444, \"#bd3786\"], [0.5555555555555556, \"#d8576b\"], [0.6666666666666666, \"#ed7953\"], [0.7777777777777778, \"#fb9f3a\"], [0.8888888888888888, \"#fdca26\"], [1.0, \"#f0f921\"]], \"type\": \"heatmapgl\"}], \"histogram\": [{\"marker\": {\"colorbar\": {\"outlinewidth\": 0, \"ticks\": \"\"}}, \"type\": \"histogram\"}], \"histogram2d\": [{\"colorbar\": {\"outlinewidth\": 0, \"ticks\": \"\"}, \"colorscale\": [[0.0, \"#0d0887\"], [0.1111111111111111, \"#46039f\"], [0.2222222222222222, \"#7201a8\"], [0.3333333333333333, \"#9c179e\"], [0.4444444444444444, \"#bd3786\"], [0.5555555555555556, \"#d8576b\"], [0.6666666666666666, \"#ed7953\"], [0.7777777777777778, \"#fb9f3a\"], [0.8888888888888888, \"#fdca26\"], [1.0, \"#f0f921\"]], \"type\": \"histogram2d\"}], \"histogram2dcontour\": [{\"colorbar\": {\"outlinewidth\": 0, \"ticks\": \"\"}, \"colorscale\": [[0.0, \"#0d0887\"], [0.1111111111111111, \"#46039f\"], [0.2222222222222222, \"#7201a8\"], [0.3333333333333333, \"#9c179e\"], [0.4444444444444444, \"#bd3786\"], [0.5555555555555556, \"#d8576b\"], [0.6666666666666666, \"#ed7953\"], [0.7777777777777778, \"#fb9f3a\"], [0.8888888888888888, \"#fdca26\"], [1.0, \"#f0f921\"]], \"type\": \"histogram2dcontour\"}], \"mesh3d\": [{\"colorbar\": {\"outlinewidth\": 0, \"ticks\": \"\"}, \"type\": \"mesh3d\"}], \"parcoords\": [{\"line\": {\"colorbar\": {\"outlinewidth\": 0, \"ticks\": \"\"}}, \"type\": \"parcoords\"}], \"pie\": [{\"automargin\": true, \"type\": \"pie\"}], \"scatter\": [{\"marker\": {\"colorbar\": {\"outlinewidth\": 0, \"ticks\": \"\"}}, \"type\": \"scatter\"}], \"scatter3d\": [{\"line\": {\"colorbar\": {\"outlinewidth\": 0, \"ticks\": \"\"}}, \"marker\": {\"colorbar\": {\"outlinewidth\": 0, \"ticks\": \"\"}}, \"type\": \"scatter3d\"}], \"scattercarpet\": [{\"marker\": {\"colorbar\": {\"outlinewidth\": 0, \"ticks\": \"\"}}, \"type\": \"scattercarpet\"}], \"scattergeo\": [{\"marker\": {\"colorbar\": {\"outlinewidth\": 0, \"ticks\": \"\"}}, \"type\": \"scattergeo\"}], \"scattergl\": [{\"marker\": {\"colorbar\": {\"outlinewidth\": 0, \"ticks\": \"\"}}, \"type\": \"scattergl\"}], \"scattermapbox\": [{\"marker\": {\"colorbar\": {\"outlinewidth\": 0, \"ticks\": \"\"}}, \"type\": \"scattermapbox\"}], \"scatterpolar\": [{\"marker\": {\"colorbar\": {\"outlinewidth\": 0, \"ticks\": \"\"}}, \"type\": \"scatterpolar\"}], \"scatterpolargl\": [{\"marker\": {\"colorbar\": {\"outlinewidth\": 0, \"ticks\": \"\"}}, \"type\": \"scatterpolargl\"}], \"scatterternary\": [{\"marker\": {\"colorbar\": {\"outlinewidth\": 0, \"ticks\": \"\"}}, \"type\": \"scatterternary\"}], \"surface\": [{\"colorbar\": {\"outlinewidth\": 0, \"ticks\": \"\"}, \"colorscale\": [[0.0, \"#0d0887\"], [0.1111111111111111, \"#46039f\"], [0.2222222222222222, \"#7201a8\"], [0.3333333333333333, \"#9c179e\"], [0.4444444444444444, \"#bd3786\"], [0.5555555555555556, \"#d8576b\"], [0.6666666666666666, \"#ed7953\"], [0.7777777777777778, \"#fb9f3a\"], [0.8888888888888888, \"#fdca26\"], [1.0, \"#f0f921\"]], \"type\": \"surface\"}], \"table\": [{\"cells\": {\"fill\": {\"color\": \"#EBF0F8\"}, \"line\": {\"color\": \"white\"}}, \"header\": {\"fill\": {\"color\": \"#C8D4E3\"}, \"line\": {\"color\": \"white\"}}, \"type\": \"table\"}]}, \"layout\": {\"annotationdefaults\": {\"arrowcolor\": \"#2a3f5f\", \"arrowhead\": 0, \"arrowwidth\": 1}, \"coloraxis\": {\"colorbar\": {\"outlinewidth\": 0, \"ticks\": \"\"}}, \"colorscale\": {\"diverging\": [[0, \"#8e0152\"], [0.1, \"#c51b7d\"], [0.2, \"#de77ae\"], [0.3, \"#f1b6da\"], [0.4, \"#fde0ef\"], [0.5, \"#f7f7f7\"], [0.6, \"#e6f5d0\"], [0.7, \"#b8e186\"], [0.8, \"#7fbc41\"], [0.9, \"#4d9221\"], [1, \"#276419\"]], \"sequential\": [[0.0, \"#0d0887\"], [0.1111111111111111, \"#46039f\"], [0.2222222222222222, \"#7201a8\"], [0.3333333333333333, \"#9c179e\"], [0.4444444444444444, \"#bd3786\"], [0.5555555555555556, \"#d8576b\"], [0.6666666666666666, \"#ed7953\"], [0.7777777777777778, \"#fb9f3a\"], [0.8888888888888888, \"#fdca26\"], [1.0, \"#f0f921\"]], \"sequentialminus\": [[0.0, \"#0d0887\"], [0.1111111111111111, \"#46039f\"], [0.2222222222222222, \"#7201a8\"], [0.3333333333333333, \"#9c179e\"], [0.4444444444444444, \"#bd3786\"], [0.5555555555555556, \"#d8576b\"], [0.6666666666666666, \"#ed7953\"], [0.7777777777777778, \"#fb9f3a\"], [0.8888888888888888, \"#fdca26\"], [1.0, \"#f0f921\"]]}, \"colorway\": [\"#636efa\", \"#EF553B\", \"#00cc96\", \"#ab63fa\", \"#FFA15A\", \"#19d3f3\", \"#FF6692\", \"#B6E880\", \"#FF97FF\", \"#FECB52\"], \"font\": {\"color\": \"#2a3f5f\"}, \"geo\": {\"bgcolor\": \"white\", \"lakecolor\": \"white\", \"landcolor\": \"#E5ECF6\", \"showlakes\": true, \"showland\": true, \"subunitcolor\": \"white\"}, \"hoverlabel\": {\"align\": \"left\"}, \"hovermode\": \"closest\", \"mapbox\": {\"style\": \"light\"}, \"paper_bgcolor\": \"white\", \"plot_bgcolor\": \"#E5ECF6\", \"polar\": {\"angularaxis\": {\"gridcolor\": \"white\", \"linecolor\": \"white\", \"ticks\": \"\"}, \"bgcolor\": \"#E5ECF6\", \"radialaxis\": {\"gridcolor\": \"white\", \"linecolor\": \"white\", \"ticks\": \"\"}}, \"scene\": {\"xaxis\": {\"backgroundcolor\": \"#E5ECF6\", \"gridcolor\": \"white\", \"gridwidth\": 2, \"linecolor\": \"white\", \"showbackground\": true, \"ticks\": \"\", \"zerolinecolor\": \"white\"}, \"yaxis\": {\"backgroundcolor\": \"#E5ECF6\", \"gridcolor\": \"white\", \"gridwidth\": 2, \"linecolor\": \"white\", \"showbackground\": true, \"ticks\": \"\", \"zerolinecolor\": \"white\"}, \"zaxis\": {\"backgroundcolor\": \"#E5ECF6\", \"gridcolor\": \"white\", \"gridwidth\": 2, \"linecolor\": \"white\", \"showbackground\": true, \"ticks\": \"\", \"zerolinecolor\": \"white\"}}, \"shapedefaults\": {\"line\": {\"color\": \"#2a3f5f\"}}, \"ternary\": {\"aaxis\": {\"gridcolor\": \"white\", \"linecolor\": \"white\", \"ticks\": \"\"}, \"baxis\": {\"gridcolor\": \"white\", \"linecolor\": \"white\", \"ticks\": \"\"}, \"bgcolor\": \"#E5ECF6\", \"caxis\": {\"gridcolor\": \"white\", \"linecolor\": \"white\", \"ticks\": \"\"}}, \"title\": {\"x\": 0.05}, \"xaxis\": {\"automargin\": true, \"gridcolor\": \"white\", \"linecolor\": \"white\", \"ticks\": \"\", \"title\": {\"standoff\": 15}, \"zerolinecolor\": \"white\", \"zerolinewidth\": 2}, \"yaxis\": {\"automargin\": true, \"gridcolor\": \"white\", \"linecolor\": \"white\", \"ticks\": \"\", \"title\": {\"standoff\": 15}, \"zerolinecolor\": \"white\", \"zerolinewidth\": 2}}}, \"title\": {\"text\": \"Average RMSE Score\"}, \"xaxis\": {\"title\": {\"text\": \"Model\"}}, \"yaxis\": {\"title\": {\"text\": \"RMSE Score\"}}},                        {\"responsive\": true}                    ).then(function(){\n",
       "                            \n",
       "var gd = document.getElementById('0a579670-3260-473f-b0ad-5ca229e75e0b');\n",
       "var x = new MutationObserver(function (mutations, observer) {{\n",
       "        var display = window.getComputedStyle(gd).display;\n",
       "        if (!display || display === 'none') {{\n",
       "            console.log([gd, 'removed!']);\n",
       "            Plotly.purge(gd);\n",
       "            observer.disconnect();\n",
       "        }}\n",
       "}});\n",
       "\n",
       "// Listen for the removal of the full notebook cells\n",
       "var notebookContainer = gd.closest('#notebook-container');\n",
       "if (notebookContainer) {{\n",
       "    x.observe(notebookContainer, {childList: true});\n",
       "}}\n",
       "\n",
       "// Listen for the clearing of the current output cell\n",
       "var outputEl = gd.closest('.output');\n",
       "if (outputEl) {{\n",
       "    x.observe(outputEl, {childList: true});\n",
       "}}\n",
       "\n",
       "                        })                };                            </script>        </div>\n",
       "</body>\n",
       "</html>"
      ]
     },
     "metadata": {},
     "output_type": "display_data"
    }
   ],
   "source": [
    "grouped = df_all_ver.groupby(['Model'], as_index=False)[['Train RMSE', 'CV RMSE', 'Test RMSE']].mean()\n",
    "grouped = round(grouped.sort_values(by='Test RMSE'), 4)\n",
    "\n",
    "fig = go.Figure()\n",
    "\n",
    "fig.add_trace(go.Bar(\n",
    "    x=grouped['Model'], y=grouped['Train RMSE'],\n",
    "    text=grouped['Train RMSE'], textposition='auto',\n",
    "    name='Train RMSE'\n",
    "))\n",
    "fig.add_trace(go.Bar(\n",
    "    x=grouped['Model'], y=grouped['CV RMSE'],\n",
    "    text=grouped['CV RMSE'], textposition='auto',\n",
    "    name='CV RMSE'\n",
    "))\n",
    "fig.add_trace(go.Bar(\n",
    "    x=grouped['Model'], y=grouped['Test RMSE'],\n",
    "    text=grouped['Test RMSE'], textposition='auto',\n",
    "    name='Test RMSE'\n",
    "))\n",
    "fig.update_layout(\n",
    "    title='Average RMSE Score',\n",
    "    xaxis=dict(title='Model'),\n",
    "    yaxis=dict(title='RMSE Score')\n",
    ")\n",
    "fig.show()"
   ]
  },
  {
   "cell_type": "code",
   "execution_count": null,
   "metadata": {
    "cell_id": "00003-5f4ebd9b-cf80-4066-b959-a02203215676",
    "execution_millis": 303,
    "execution_start": 1602851013982,
    "output_cleared": false,
    "source_hash": "1be6e537",
    "tags": []
   },
   "outputs": [
    {
     "data": {
      "text/html": [
       "<html>\n",
       "<head><meta charset=\"utf-8\" /></head>\n",
       "<body>\n",
       "    <div>            <script src=\"https://cdnjs.cloudflare.com/ajax/libs/mathjax/2.7.5/MathJax.js?config=TeX-AMS-MML_SVG\"></script><script type=\"text/javascript\">if (window.MathJax) {MathJax.Hub.Config({SVG: {font: \"STIX-Web\"}});}</script>                <script type=\"text/javascript\">window.PlotlyConfig = {MathJaxConfig: 'local'};</script>\n",
       "        <script src=\"https://cdn.plot.ly/plotly-latest.min.js\"></script>                <div id=\"d9ac6b6e-3387-4f04-a990-06e6457f8eef\" class=\"plotly-graph-div\" style=\"height:525px; width:100%;\"></div>            <script type=\"text/javascript\">                                    window.PLOTLYENV=window.PLOTLYENV || {};                                    if (document.getElementById(\"d9ac6b6e-3387-4f04-a990-06e6457f8eef\")) {                    Plotly.newPlot(                        \"d9ac6b6e-3387-4f04-a990-06e6457f8eef\",                        [{\"alignmentgroup\": \"True\", \"hovertemplate\": \"Dataset Version=dropna + all + unscaled<br>Model=%{x}<br>Test RMSE=%{text}<extra></extra>\", \"legendgroup\": \"dropna + all + unscaled\", \"marker\": {\"color\": \"#636efa\"}, \"name\": \"dropna + all + unscaled\", \"offsetgroup\": \"dropna + all + unscaled\", \"orientation\": \"v\", \"showlegend\": true, \"text\": [3.2397, 3.6549, 3.6676, 3.8712, 5.6175, 5.6346, 5.8523], \"textposition\": \"auto\", \"type\": \"bar\", \"x\": [\"CatBoostRegressor\", \"LGBMRegressor\", \"RandomForestRegressor\", \"XGBRegressor\", \"DecisionTreeRegressor\", \"LinearRegression\", \"LassoRegression\"], \"xaxis\": \"x\", \"y\": [3.2397, 3.6549, 3.6676, 3.8712, 5.6175, 5.6346, 5.8523], \"yaxis\": \"y\"}, {\"alignmentgroup\": \"True\", \"hovertemplate\": \"Dataset Version=dropna + all + scaled<br>Model=%{x}<br>Test RMSE=%{text}<extra></extra>\", \"legendgroup\": \"dropna + all + scaled\", \"marker\": {\"color\": \"#EF553B\"}, \"name\": \"dropna + all + scaled\", \"offsetgroup\": \"dropna + all + scaled\", \"orientation\": \"v\", \"showlegend\": true, \"text\": [3.2397, 3.6471, 3.6748, 3.8711, 5.433, 5.6339, 6.5929], \"textposition\": \"auto\", \"type\": \"bar\", \"x\": [\"CatBoostRegressor\", \"LGBMRegressor\", \"RandomForestRegressor\", \"XGBRegressor\", \"DecisionTreeRegressor\", \"LinearRegression\", \"LassoRegression\"], \"xaxis\": \"x\", \"y\": [3.2397, 3.6471, 3.6748, 3.8711, 5.433, 5.6339, 6.5929], \"yaxis\": \"y\"}, {\"alignmentgroup\": \"True\", \"hovertemplate\": \"Dataset Version=imputed + all + unscaled<br>Model=%{x}<br>Test RMSE=%{text}<extra></extra>\", \"legendgroup\": \"imputed + all + unscaled\", \"marker\": {\"color\": \"#00cc96\"}, \"name\": \"imputed + all + unscaled\", \"offsetgroup\": \"imputed + all + unscaled\", \"orientation\": \"v\", \"showlegend\": true, \"text\": [3.3318, 3.4049, 3.4408, 3.6344, 5.0296, 5.3127, 5.3877], \"textposition\": \"auto\", \"type\": \"bar\", \"x\": [\"CatBoostRegressor\", \"RandomForestRegressor\", \"LGBMRegressor\", \"XGBRegressor\", \"DecisionTreeRegressor\", \"LinearRegression\", \"LassoRegression\"], \"xaxis\": \"x\", \"y\": [3.3318, 3.4049, 3.4408, 3.6344, 5.0296, 5.3127, 5.3877], \"yaxis\": \"y\"}, {\"alignmentgroup\": \"True\", \"hovertemplate\": \"Dataset Version=imputed + all + scaled<br>Model=%{x}<br>Test RMSE=%{text}<extra></extra>\", \"legendgroup\": \"imputed + all + scaled\", \"marker\": {\"color\": \"#ab63fa\"}, \"name\": \"imputed + all + scaled\", \"offsetgroup\": \"imputed + all + scaled\", \"orientation\": \"v\", \"showlegend\": true, \"text\": [3.3318, 3.3939, 3.4951, 3.6327, 5.1895, 5.3132, 5.95], \"textposition\": \"auto\", \"type\": \"bar\", \"x\": [\"CatBoostRegressor\", \"RandomForestRegressor\", \"LGBMRegressor\", \"XGBRegressor\", \"DecisionTreeRegressor\", \"LinearRegression\", \"LassoRegression\"], \"xaxis\": \"x\", \"y\": [3.3318, 3.3939, 3.4951, 3.6327, 5.1895, 5.3132, 5.95], \"yaxis\": \"y\"}, {\"alignmentgroup\": \"True\", \"hovertemplate\": \"Dataset Version=dropna + selected + unscaled<br>Model=%{x}<br>Test RMSE=%{text}<extra></extra>\", \"legendgroup\": \"dropna + selected + unscaled\", \"marker\": {\"color\": \"#FFA15A\"}, \"name\": \"dropna + selected + unscaled\", \"offsetgroup\": \"dropna + selected + unscaled\", \"orientation\": \"v\", \"showlegend\": true, \"text\": [3.5924, 4.0274, 4.0916, 4.1964, 5.6828, 5.8289, 5.8966], \"textposition\": \"auto\", \"type\": \"bar\", \"x\": [\"CatBoostRegressor\", \"LGBMRegressor\", \"RandomForestRegressor\", \"XGBRegressor\", \"DecisionTreeRegressor\", \"LinearRegression\", \"LassoRegression\"], \"xaxis\": \"x\", \"y\": [3.5924, 4.0274, 4.0916, 4.1964, 5.6828, 5.8289, 5.8966], \"yaxis\": \"y\"}, {\"alignmentgroup\": \"True\", \"hovertemplate\": \"Dataset Version=dropna + selected + scaled<br>Model=%{x}<br>Test RMSE=%{text}<extra></extra>\", \"legendgroup\": \"dropna + selected + scaled\", \"marker\": {\"color\": \"#19d3f3\"}, \"name\": \"dropna + selected + scaled\", \"offsetgroup\": \"dropna + selected + scaled\", \"orientation\": \"v\", \"showlegend\": true, \"text\": [3.5924, 4.0407, 4.1847, 4.1971, 5.4425, 5.8289, 6.5929], \"textposition\": \"auto\", \"type\": \"bar\", \"x\": [\"CatBoostRegressor\", \"LGBMRegressor\", \"RandomForestRegressor\", \"XGBRegressor\", \"DecisionTreeRegressor\", \"LinearRegression\", \"LassoRegression\"], \"xaxis\": \"x\", \"y\": [3.5924, 4.0407, 4.1847, 4.1971, 5.4425, 5.8289, 6.5929], \"yaxis\": \"y\"}, {\"alignmentgroup\": \"True\", \"hovertemplate\": \"Dataset Version=imputed + selected + unscaled<br>Model=%{x}<br>Test RMSE=%{text}<extra></extra>\", \"legendgroup\": \"imputed + selected + unscaled\", \"marker\": {\"color\": \"#FF6692\"}, \"name\": \"imputed + selected + unscaled\", \"offsetgroup\": \"imputed + selected + unscaled\", \"orientation\": \"v\", \"showlegend\": true, \"text\": [3.4717, 3.5672, 3.7114, 3.9808, 4.0404, 5.3994, 5.4925], \"textposition\": \"auto\", \"type\": \"bar\", \"x\": [\"CatBoostRegressor\", \"LGBMRegressor\", \"RandomForestRegressor\", \"DecisionTreeRegressor\", \"XGBRegressor\", \"LassoRegression\", \"LinearRegression\"], \"xaxis\": \"x\", \"y\": [3.4717, 3.5672, 3.7114, 3.9808, 4.0404, 5.3994, 5.4925], \"yaxis\": \"y\"}, {\"alignmentgroup\": \"True\", \"hovertemplate\": \"Dataset Version=imputed + selected + scaled<br>Model=%{x}<br>Test RMSE=%{text}<extra></extra>\", \"legendgroup\": \"imputed + selected + scaled\", \"marker\": {\"color\": \"#B6E880\"}, \"name\": \"imputed + selected + scaled\", \"offsetgroup\": \"imputed + selected + scaled\", \"orientation\": \"v\", \"showlegend\": true, \"text\": [3.4717, 3.5472, 3.7649, 4.0405, 4.2147, 5.4925, 5.9591], \"textposition\": \"auto\", \"type\": \"bar\", \"x\": [\"CatBoostRegressor\", \"LGBMRegressor\", \"RandomForestRegressor\", \"XGBRegressor\", \"DecisionTreeRegressor\", \"LinearRegression\", \"LassoRegression\"], \"xaxis\": \"x\", \"y\": [3.4717, 3.5472, 3.7649, 4.0405, 4.2147, 5.4925, 5.9591], \"yaxis\": \"y\"}],                        {\"barmode\": \"group\", \"legend\": {\"title\": {\"text\": \"Dataset Version\"}, \"tracegroupgap\": 0}, \"margin\": {\"t\": 60}, \"template\": {\"data\": {\"bar\": [{\"error_x\": {\"color\": \"#2a3f5f\"}, \"error_y\": {\"color\": \"#2a3f5f\"}, \"marker\": {\"line\": {\"color\": \"#E5ECF6\", \"width\": 0.5}}, \"type\": \"bar\"}], \"barpolar\": [{\"marker\": {\"line\": {\"color\": \"#E5ECF6\", \"width\": 0.5}}, \"type\": \"barpolar\"}], \"carpet\": [{\"aaxis\": {\"endlinecolor\": \"#2a3f5f\", \"gridcolor\": \"white\", \"linecolor\": \"white\", \"minorgridcolor\": \"white\", \"startlinecolor\": \"#2a3f5f\"}, \"baxis\": {\"endlinecolor\": \"#2a3f5f\", \"gridcolor\": \"white\", \"linecolor\": \"white\", \"minorgridcolor\": \"white\", \"startlinecolor\": \"#2a3f5f\"}, \"type\": \"carpet\"}], \"choropleth\": [{\"colorbar\": {\"outlinewidth\": 0, \"ticks\": \"\"}, \"type\": \"choropleth\"}], \"contour\": [{\"colorbar\": {\"outlinewidth\": 0, \"ticks\": \"\"}, \"colorscale\": [[0.0, \"#0d0887\"], [0.1111111111111111, \"#46039f\"], [0.2222222222222222, \"#7201a8\"], [0.3333333333333333, \"#9c179e\"], [0.4444444444444444, \"#bd3786\"], [0.5555555555555556, \"#d8576b\"], [0.6666666666666666, \"#ed7953\"], [0.7777777777777778, \"#fb9f3a\"], [0.8888888888888888, \"#fdca26\"], [1.0, \"#f0f921\"]], \"type\": \"contour\"}], \"contourcarpet\": [{\"colorbar\": {\"outlinewidth\": 0, \"ticks\": \"\"}, \"type\": \"contourcarpet\"}], \"heatmap\": [{\"colorbar\": {\"outlinewidth\": 0, \"ticks\": \"\"}, \"colorscale\": [[0.0, \"#0d0887\"], [0.1111111111111111, \"#46039f\"], [0.2222222222222222, \"#7201a8\"], [0.3333333333333333, \"#9c179e\"], [0.4444444444444444, \"#bd3786\"], [0.5555555555555556, \"#d8576b\"], [0.6666666666666666, \"#ed7953\"], [0.7777777777777778, \"#fb9f3a\"], [0.8888888888888888, \"#fdca26\"], [1.0, \"#f0f921\"]], \"type\": \"heatmap\"}], \"heatmapgl\": [{\"colorbar\": {\"outlinewidth\": 0, \"ticks\": \"\"}, \"colorscale\": [[0.0, \"#0d0887\"], [0.1111111111111111, \"#46039f\"], [0.2222222222222222, \"#7201a8\"], [0.3333333333333333, \"#9c179e\"], [0.4444444444444444, \"#bd3786\"], [0.5555555555555556, \"#d8576b\"], [0.6666666666666666, \"#ed7953\"], [0.7777777777777778, \"#fb9f3a\"], [0.8888888888888888, \"#fdca26\"], [1.0, \"#f0f921\"]], \"type\": \"heatmapgl\"}], \"histogram\": [{\"marker\": {\"colorbar\": {\"outlinewidth\": 0, \"ticks\": \"\"}}, \"type\": \"histogram\"}], \"histogram2d\": [{\"colorbar\": {\"outlinewidth\": 0, \"ticks\": \"\"}, \"colorscale\": [[0.0, \"#0d0887\"], [0.1111111111111111, \"#46039f\"], [0.2222222222222222, \"#7201a8\"], [0.3333333333333333, \"#9c179e\"], [0.4444444444444444, \"#bd3786\"], [0.5555555555555556, \"#d8576b\"], [0.6666666666666666, \"#ed7953\"], [0.7777777777777778, \"#fb9f3a\"], [0.8888888888888888, \"#fdca26\"], [1.0, \"#f0f921\"]], \"type\": \"histogram2d\"}], \"histogram2dcontour\": [{\"colorbar\": {\"outlinewidth\": 0, \"ticks\": \"\"}, \"colorscale\": [[0.0, \"#0d0887\"], [0.1111111111111111, \"#46039f\"], [0.2222222222222222, \"#7201a8\"], [0.3333333333333333, \"#9c179e\"], [0.4444444444444444, \"#bd3786\"], [0.5555555555555556, \"#d8576b\"], [0.6666666666666666, \"#ed7953\"], [0.7777777777777778, \"#fb9f3a\"], [0.8888888888888888, \"#fdca26\"], [1.0, \"#f0f921\"]], \"type\": \"histogram2dcontour\"}], \"mesh3d\": [{\"colorbar\": {\"outlinewidth\": 0, \"ticks\": \"\"}, \"type\": \"mesh3d\"}], \"parcoords\": [{\"line\": {\"colorbar\": {\"outlinewidth\": 0, \"ticks\": \"\"}}, \"type\": \"parcoords\"}], \"pie\": [{\"automargin\": true, \"type\": \"pie\"}], \"scatter\": [{\"marker\": {\"colorbar\": {\"outlinewidth\": 0, \"ticks\": \"\"}}, \"type\": \"scatter\"}], \"scatter3d\": [{\"line\": {\"colorbar\": {\"outlinewidth\": 0, \"ticks\": \"\"}}, \"marker\": {\"colorbar\": {\"outlinewidth\": 0, \"ticks\": \"\"}}, \"type\": \"scatter3d\"}], \"scattercarpet\": [{\"marker\": {\"colorbar\": {\"outlinewidth\": 0, \"ticks\": \"\"}}, \"type\": \"scattercarpet\"}], \"scattergeo\": [{\"marker\": {\"colorbar\": {\"outlinewidth\": 0, \"ticks\": \"\"}}, \"type\": \"scattergeo\"}], \"scattergl\": [{\"marker\": {\"colorbar\": {\"outlinewidth\": 0, \"ticks\": \"\"}}, \"type\": \"scattergl\"}], \"scattermapbox\": [{\"marker\": {\"colorbar\": {\"outlinewidth\": 0, \"ticks\": \"\"}}, \"type\": \"scattermapbox\"}], \"scatterpolar\": [{\"marker\": {\"colorbar\": {\"outlinewidth\": 0, \"ticks\": \"\"}}, \"type\": \"scatterpolar\"}], \"scatterpolargl\": [{\"marker\": {\"colorbar\": {\"outlinewidth\": 0, \"ticks\": \"\"}}, \"type\": \"scatterpolargl\"}], \"scatterternary\": [{\"marker\": {\"colorbar\": {\"outlinewidth\": 0, \"ticks\": \"\"}}, \"type\": \"scatterternary\"}], \"surface\": [{\"colorbar\": {\"outlinewidth\": 0, \"ticks\": \"\"}, \"colorscale\": [[0.0, \"#0d0887\"], [0.1111111111111111, \"#46039f\"], [0.2222222222222222, \"#7201a8\"], [0.3333333333333333, \"#9c179e\"], [0.4444444444444444, \"#bd3786\"], [0.5555555555555556, \"#d8576b\"], [0.6666666666666666, \"#ed7953\"], [0.7777777777777778, \"#fb9f3a\"], [0.8888888888888888, \"#fdca26\"], [1.0, \"#f0f921\"]], \"type\": \"surface\"}], \"table\": [{\"cells\": {\"fill\": {\"color\": \"#EBF0F8\"}, \"line\": {\"color\": \"white\"}}, \"header\": {\"fill\": {\"color\": \"#C8D4E3\"}, \"line\": {\"color\": \"white\"}}, \"type\": \"table\"}]}, \"layout\": {\"annotationdefaults\": {\"arrowcolor\": \"#2a3f5f\", \"arrowhead\": 0, \"arrowwidth\": 1}, \"coloraxis\": {\"colorbar\": {\"outlinewidth\": 0, \"ticks\": \"\"}}, \"colorscale\": {\"diverging\": [[0, \"#8e0152\"], [0.1, \"#c51b7d\"], [0.2, \"#de77ae\"], [0.3, \"#f1b6da\"], [0.4, \"#fde0ef\"], [0.5, \"#f7f7f7\"], [0.6, \"#e6f5d0\"], [0.7, \"#b8e186\"], [0.8, \"#7fbc41\"], [0.9, \"#4d9221\"], [1, \"#276419\"]], \"sequential\": [[0.0, \"#0d0887\"], [0.1111111111111111, \"#46039f\"], [0.2222222222222222, \"#7201a8\"], [0.3333333333333333, \"#9c179e\"], [0.4444444444444444, \"#bd3786\"], [0.5555555555555556, \"#d8576b\"], [0.6666666666666666, \"#ed7953\"], [0.7777777777777778, \"#fb9f3a\"], [0.8888888888888888, \"#fdca26\"], [1.0, \"#f0f921\"]], \"sequentialminus\": [[0.0, \"#0d0887\"], [0.1111111111111111, \"#46039f\"], [0.2222222222222222, \"#7201a8\"], [0.3333333333333333, \"#9c179e\"], [0.4444444444444444, \"#bd3786\"], [0.5555555555555556, \"#d8576b\"], [0.6666666666666666, \"#ed7953\"], [0.7777777777777778, \"#fb9f3a\"], [0.8888888888888888, \"#fdca26\"], [1.0, \"#f0f921\"]]}, \"colorway\": [\"#636efa\", \"#EF553B\", \"#00cc96\", \"#ab63fa\", \"#FFA15A\", \"#19d3f3\", \"#FF6692\", \"#B6E880\", \"#FF97FF\", \"#FECB52\"], \"font\": {\"color\": \"#2a3f5f\"}, \"geo\": {\"bgcolor\": \"white\", \"lakecolor\": \"white\", \"landcolor\": \"#E5ECF6\", \"showlakes\": true, \"showland\": true, \"subunitcolor\": \"white\"}, \"hoverlabel\": {\"align\": \"left\"}, \"hovermode\": \"closest\", \"mapbox\": {\"style\": \"light\"}, \"paper_bgcolor\": \"white\", \"plot_bgcolor\": \"#E5ECF6\", \"polar\": {\"angularaxis\": {\"gridcolor\": \"white\", \"linecolor\": \"white\", \"ticks\": \"\"}, \"bgcolor\": \"#E5ECF6\", \"radialaxis\": {\"gridcolor\": \"white\", \"linecolor\": \"white\", \"ticks\": \"\"}}, \"scene\": {\"xaxis\": {\"backgroundcolor\": \"#E5ECF6\", \"gridcolor\": \"white\", \"gridwidth\": 2, \"linecolor\": \"white\", \"showbackground\": true, \"ticks\": \"\", \"zerolinecolor\": \"white\"}, \"yaxis\": {\"backgroundcolor\": \"#E5ECF6\", \"gridcolor\": \"white\", \"gridwidth\": 2, \"linecolor\": \"white\", \"showbackground\": true, \"ticks\": \"\", \"zerolinecolor\": \"white\"}, \"zaxis\": {\"backgroundcolor\": \"#E5ECF6\", \"gridcolor\": \"white\", \"gridwidth\": 2, \"linecolor\": \"white\", \"showbackground\": true, \"ticks\": \"\", \"zerolinecolor\": \"white\"}}, \"shapedefaults\": {\"line\": {\"color\": \"#2a3f5f\"}}, \"ternary\": {\"aaxis\": {\"gridcolor\": \"white\", \"linecolor\": \"white\", \"ticks\": \"\"}, \"baxis\": {\"gridcolor\": \"white\", \"linecolor\": \"white\", \"ticks\": \"\"}, \"bgcolor\": \"#E5ECF6\", \"caxis\": {\"gridcolor\": \"white\", \"linecolor\": \"white\", \"ticks\": \"\"}}, \"title\": {\"x\": 0.05}, \"xaxis\": {\"automargin\": true, \"gridcolor\": \"white\", \"linecolor\": \"white\", \"ticks\": \"\", \"title\": {\"standoff\": 15}, \"zerolinecolor\": \"white\", \"zerolinewidth\": 2}, \"yaxis\": {\"automargin\": true, \"gridcolor\": \"white\", \"linecolor\": \"white\", \"ticks\": \"\", \"title\": {\"standoff\": 15}, \"zerolinecolor\": \"white\", \"zerolinewidth\": 2}}}, \"title\": {\"text\": \"RMSE Score on Test Set\"}, \"xaxis\": {\"anchor\": \"y\", \"domain\": [0.0, 1.0], \"title\": {\"text\": \"Model\"}}, \"yaxis\": {\"anchor\": \"x\", \"domain\": [0.0, 1.0], \"title\": {\"text\": \"Test RMSE\"}}},                        {\"responsive\": true}                    ).then(function(){\n",
       "                            \n",
       "var gd = document.getElementById('d9ac6b6e-3387-4f04-a990-06e6457f8eef');\n",
       "var x = new MutationObserver(function (mutations, observer) {{\n",
       "        var display = window.getComputedStyle(gd).display;\n",
       "        if (!display || display === 'none') {{\n",
       "            console.log([gd, 'removed!']);\n",
       "            Plotly.purge(gd);\n",
       "            observer.disconnect();\n",
       "        }}\n",
       "}});\n",
       "\n",
       "// Listen for the removal of the full notebook cells\n",
       "var notebookContainer = gd.closest('#notebook-container');\n",
       "if (notebookContainer) {{\n",
       "    x.observe(notebookContainer, {childList: true});\n",
       "}}\n",
       "\n",
       "// Listen for the clearing of the current output cell\n",
       "var outputEl = gd.closest('.output');\n",
       "if (outputEl) {{\n",
       "    x.observe(outputEl, {childList: true});\n",
       "}}\n",
       "\n",
       "                        })                };                            </script>        </div>\n",
       "</body>\n",
       "</html>"
      ]
     },
     "metadata": {},
     "output_type": "display_data"
    }
   ],
   "source": [
    "order_all = {'Dataset Version': [\n",
    "    'dropna + all + unscaled', 'dropna + all + scaled',\n",
    "    'imputed + all + unscaled', 'imputed + all + scaled',\n",
    "    'dropna + selected + unscaled', 'dropna + selected + scaled',\n",
    "    'imputed + selected + unscaled', 'imputed + selected + scaled'\n",
    "]}\n",
    "\n",
    "fig = px.bar(\n",
    "    df_all_ver, x='Model', y='Test RMSE', color='Dataset Version',\n",
    "    barmode='group', category_orders=order_all, text='Test RMSE'\n",
    ")\n",
    "\n",
    "fig.update_layout(title='RMSE Score on Test Set')\n",
    "\n",
    "fig.show()"
   ]
  },
  {
   "cell_type": "code",
   "execution_count": null,
   "metadata": {
    "cell_id": "00004-e6cc76da-a309-4a59-8136-ad80d3a1ba4d",
    "execution_millis": 139,
    "execution_start": 1602851042958,
    "output_cleared": false,
    "source_hash": "19d3c8",
    "tags": []
   },
   "outputs": [
    {
     "data": {
      "text/html": [
       "<html>\n",
       "<head><meta charset=\"utf-8\" /></head>\n",
       "<body>\n",
       "    <div>            <script src=\"https://cdnjs.cloudflare.com/ajax/libs/mathjax/2.7.5/MathJax.js?config=TeX-AMS-MML_SVG\"></script><script type=\"text/javascript\">if (window.MathJax) {MathJax.Hub.Config({SVG: {font: \"STIX-Web\"}});}</script>                <script type=\"text/javascript\">window.PlotlyConfig = {MathJaxConfig: 'local'};</script>\n",
       "        <script src=\"https://cdn.plot.ly/plotly-latest.min.js\"></script>                <div id=\"4c37f1f9-d7e6-42e8-8728-4df2d4a7679f\" class=\"plotly-graph-div\" style=\"height:525px; width:100%;\"></div>            <script type=\"text/javascript\">                                    window.PLOTLYENV=window.PLOTLYENV || {};                                    if (document.getElementById(\"4c37f1f9-d7e6-42e8-8728-4df2d4a7679f\")) {                    Plotly.newPlot(                        \"4c37f1f9-d7e6-42e8-8728-4df2d4a7679f\",                        [{\"alignmentgroup\": \"True\", \"hovertemplate\": \"Dataset Version=dropna + all + unscaled<br>Model=%{x}<br>Fit Time=%{text}<extra></extra>\", \"legendgroup\": \"dropna + all + unscaled\", \"marker\": {\"color\": \"#636efa\"}, \"name\": \"dropna + all + unscaled\", \"offsetgroup\": \"dropna + all + unscaled\", \"orientation\": \"v\", \"showlegend\": true, \"text\": [2.3006, 0.1517, 2.337, 0.4865, 0.048, 0.0117, 0.0122], \"textposition\": \"auto\", \"type\": \"bar\", \"x\": [\"CatBoostRegressor\", \"LGBMRegressor\", \"RandomForestRegressor\", \"XGBRegressor\", \"DecisionTreeRegressor\", \"LinearRegression\", \"LassoRegression\"], \"xaxis\": \"x\", \"y\": [2.3006, 0.1517, 2.337, 0.4865, 0.048, 0.0117, 0.0122], \"yaxis\": \"y\"}, {\"alignmentgroup\": \"True\", \"hovertemplate\": \"Dataset Version=dropna + all + scaled<br>Model=%{x}<br>Fit Time=%{text}<extra></extra>\", \"legendgroup\": \"dropna + all + scaled\", \"marker\": {\"color\": \"#EF553B\"}, \"name\": \"dropna + all + scaled\", \"offsetgroup\": \"dropna + all + scaled\", \"orientation\": \"v\", \"showlegend\": true, \"text\": [2.2978, 0.1427, 2.3267, 0.4799, 0.0478, 0.0093, 0.0076], \"textposition\": \"auto\", \"type\": \"bar\", \"x\": [\"CatBoostRegressor\", \"LGBMRegressor\", \"RandomForestRegressor\", \"XGBRegressor\", \"DecisionTreeRegressor\", \"LinearRegression\", \"LassoRegression\"], \"xaxis\": \"x\", \"y\": [2.2978, 0.1427, 2.3267, 0.4799, 0.0478, 0.0093, 0.0076], \"yaxis\": \"y\"}, {\"alignmentgroup\": \"True\", \"hovertemplate\": \"Dataset Version=imputed + all + unscaled<br>Model=%{x}<br>Fit Time=%{text}<extra></extra>\", \"legendgroup\": \"imputed + all + unscaled\", \"marker\": {\"color\": \"#00cc96\"}, \"name\": \"imputed + all + unscaled\", \"offsetgroup\": \"imputed + all + unscaled\", \"orientation\": \"v\", \"showlegend\": true, \"text\": [2.303, 2.4496, 0.1517, 0.5181, 0.0399, 0.0133, 0.0118], \"textposition\": \"auto\", \"type\": \"bar\", \"x\": [\"CatBoostRegressor\", \"RandomForestRegressor\", \"LGBMRegressor\", \"XGBRegressor\", \"DecisionTreeRegressor\", \"LinearRegression\", \"LassoRegression\"], \"xaxis\": \"x\", \"y\": [2.303, 2.4496, 0.1517, 0.5181, 0.0399, 0.0133, 0.0118], \"yaxis\": \"y\"}, {\"alignmentgroup\": \"True\", \"hovertemplate\": \"Dataset Version=imputed + all + scaled<br>Model=%{x}<br>Fit Time=%{text}<extra></extra>\", \"legendgroup\": \"imputed + all + scaled\", \"marker\": {\"color\": \"#ab63fa\"}, \"name\": \"imputed + all + scaled\", \"offsetgroup\": \"imputed + all + scaled\", \"orientation\": \"v\", \"showlegend\": true, \"text\": [2.34, 2.4572, 0.1422, 0.5108, 0.0485, 0.0131, 0.0107], \"textposition\": \"auto\", \"type\": \"bar\", \"x\": [\"CatBoostRegressor\", \"RandomForestRegressor\", \"LGBMRegressor\", \"XGBRegressor\", \"DecisionTreeRegressor\", \"LinearRegression\", \"LassoRegression\"], \"xaxis\": \"x\", \"y\": [2.34, 2.4572, 0.1422, 0.5108, 0.0485, 0.0131, 0.0107], \"yaxis\": \"y\"}, {\"alignmentgroup\": \"True\", \"hovertemplate\": \"Dataset Version=dropna + selected + unscaled<br>Model=%{x}<br>Fit Time=%{text}<extra></extra>\", \"legendgroup\": \"dropna + selected + unscaled\", \"marker\": {\"color\": \"#FFA15A\"}, \"name\": \"dropna + selected + unscaled\", \"offsetgroup\": \"dropna + selected + unscaled\", \"orientation\": \"v\", \"showlegend\": true, \"text\": [2.0013, 0.0898, 1.1339, 0.2095, 0.0256, 0.0048, 0.006], \"textposition\": \"auto\", \"type\": \"bar\", \"x\": [\"CatBoostRegressor\", \"LGBMRegressor\", \"RandomForestRegressor\", \"XGBRegressor\", \"DecisionTreeRegressor\", \"LinearRegression\", \"LassoRegression\"], \"xaxis\": \"x\", \"y\": [2.0013, 0.0898, 1.1339, 0.2095, 0.0256, 0.0048, 0.006], \"yaxis\": \"y\"}, {\"alignmentgroup\": \"True\", \"hovertemplate\": \"Dataset Version=dropna + selected + scaled<br>Model=%{x}<br>Fit Time=%{text}<extra></extra>\", \"legendgroup\": \"dropna + selected + scaled\", \"marker\": {\"color\": \"#19d3f3\"}, \"name\": \"dropna + selected + scaled\", \"offsetgroup\": \"dropna + selected + scaled\", \"orientation\": \"v\", \"showlegend\": true, \"text\": [2.0192, 0.0993, 1.13, 0.2104, 0.0228, 0.0024, 0.0025], \"textposition\": \"auto\", \"type\": \"bar\", \"x\": [\"CatBoostRegressor\", \"LGBMRegressor\", \"RandomForestRegressor\", \"XGBRegressor\", \"DecisionTreeRegressor\", \"LinearRegression\", \"LassoRegression\"], \"xaxis\": \"x\", \"y\": [2.0192, 0.0993, 1.13, 0.2104, 0.0228, 0.0024, 0.0025], \"yaxis\": \"y\"}, {\"alignmentgroup\": \"True\", \"hovertemplate\": \"Dataset Version=imputed + selected + unscaled<br>Model=%{x}<br>Fit Time=%{text}<extra></extra>\", \"legendgroup\": \"imputed + selected + unscaled\", \"marker\": {\"color\": \"#FF6692\"}, \"name\": \"imputed + selected + unscaled\", \"offsetgroup\": \"imputed + selected + unscaled\", \"orientation\": \"v\", \"showlegend\": true, \"text\": [2.0262, 0.0894, 1.1906, 0.0272, 0.2121, 0.0058, 0.0048], \"textposition\": \"auto\", \"type\": \"bar\", \"x\": [\"CatBoostRegressor\", \"LGBMRegressor\", \"RandomForestRegressor\", \"DecisionTreeRegressor\", \"XGBRegressor\", \"LassoRegression\", \"LinearRegression\"], \"xaxis\": \"x\", \"y\": [2.0262, 0.0894, 1.1906, 0.0272, 0.2121, 0.0058, 0.0048], \"yaxis\": \"y\"}, {\"alignmentgroup\": \"True\", \"hovertemplate\": \"Dataset Version=imputed + selected + scaled<br>Model=%{x}<br>Fit Time=%{text}<extra></extra>\", \"legendgroup\": \"imputed + selected + scaled\", \"marker\": {\"color\": \"#B6E880\"}, \"name\": \"imputed + selected + scaled\", \"offsetgroup\": \"imputed + selected + scaled\", \"orientation\": \"v\", \"showlegend\": true, \"text\": [2.0475, 0.0925, 1.187, 0.2137, 0.0242, 0.0022, 0.0025], \"textposition\": \"auto\", \"type\": \"bar\", \"x\": [\"CatBoostRegressor\", \"LGBMRegressor\", \"RandomForestRegressor\", \"XGBRegressor\", \"DecisionTreeRegressor\", \"LinearRegression\", \"LassoRegression\"], \"xaxis\": \"x\", \"y\": [2.0475, 0.0925, 1.187, 0.2137, 0.0242, 0.0022, 0.0025], \"yaxis\": \"y\"}],                        {\"barmode\": \"group\", \"legend\": {\"title\": {\"text\": \"Dataset Version\"}, \"tracegroupgap\": 0}, \"margin\": {\"t\": 60}, \"template\": {\"data\": {\"bar\": [{\"error_x\": {\"color\": \"#2a3f5f\"}, \"error_y\": {\"color\": \"#2a3f5f\"}, \"marker\": {\"line\": {\"color\": \"#E5ECF6\", \"width\": 0.5}}, \"type\": \"bar\"}], \"barpolar\": [{\"marker\": {\"line\": {\"color\": \"#E5ECF6\", \"width\": 0.5}}, \"type\": \"barpolar\"}], \"carpet\": [{\"aaxis\": {\"endlinecolor\": \"#2a3f5f\", \"gridcolor\": \"white\", \"linecolor\": \"white\", \"minorgridcolor\": \"white\", \"startlinecolor\": \"#2a3f5f\"}, \"baxis\": {\"endlinecolor\": \"#2a3f5f\", \"gridcolor\": \"white\", \"linecolor\": \"white\", \"minorgridcolor\": \"white\", \"startlinecolor\": \"#2a3f5f\"}, \"type\": \"carpet\"}], \"choropleth\": [{\"colorbar\": {\"outlinewidth\": 0, \"ticks\": \"\"}, \"type\": \"choropleth\"}], \"contour\": [{\"colorbar\": {\"outlinewidth\": 0, \"ticks\": \"\"}, \"colorscale\": [[0.0, \"#0d0887\"], [0.1111111111111111, \"#46039f\"], [0.2222222222222222, \"#7201a8\"], [0.3333333333333333, \"#9c179e\"], [0.4444444444444444, \"#bd3786\"], [0.5555555555555556, \"#d8576b\"], [0.6666666666666666, \"#ed7953\"], [0.7777777777777778, \"#fb9f3a\"], [0.8888888888888888, \"#fdca26\"], [1.0, \"#f0f921\"]], \"type\": \"contour\"}], \"contourcarpet\": [{\"colorbar\": {\"outlinewidth\": 0, \"ticks\": \"\"}, \"type\": \"contourcarpet\"}], \"heatmap\": [{\"colorbar\": {\"outlinewidth\": 0, \"ticks\": \"\"}, \"colorscale\": [[0.0, \"#0d0887\"], [0.1111111111111111, \"#46039f\"], [0.2222222222222222, \"#7201a8\"], [0.3333333333333333, \"#9c179e\"], [0.4444444444444444, \"#bd3786\"], [0.5555555555555556, \"#d8576b\"], [0.6666666666666666, \"#ed7953\"], [0.7777777777777778, \"#fb9f3a\"], [0.8888888888888888, \"#fdca26\"], [1.0, \"#f0f921\"]], \"type\": \"heatmap\"}], \"heatmapgl\": [{\"colorbar\": {\"outlinewidth\": 0, \"ticks\": \"\"}, \"colorscale\": [[0.0, \"#0d0887\"], [0.1111111111111111, \"#46039f\"], [0.2222222222222222, \"#7201a8\"], [0.3333333333333333, \"#9c179e\"], [0.4444444444444444, \"#bd3786\"], [0.5555555555555556, \"#d8576b\"], [0.6666666666666666, \"#ed7953\"], [0.7777777777777778, \"#fb9f3a\"], [0.8888888888888888, \"#fdca26\"], [1.0, \"#f0f921\"]], \"type\": \"heatmapgl\"}], \"histogram\": [{\"marker\": {\"colorbar\": {\"outlinewidth\": 0, \"ticks\": \"\"}}, \"type\": \"histogram\"}], \"histogram2d\": [{\"colorbar\": {\"outlinewidth\": 0, \"ticks\": \"\"}, \"colorscale\": [[0.0, \"#0d0887\"], [0.1111111111111111, \"#46039f\"], [0.2222222222222222, \"#7201a8\"], [0.3333333333333333, \"#9c179e\"], [0.4444444444444444, \"#bd3786\"], [0.5555555555555556, \"#d8576b\"], [0.6666666666666666, \"#ed7953\"], [0.7777777777777778, \"#fb9f3a\"], [0.8888888888888888, \"#fdca26\"], [1.0, \"#f0f921\"]], \"type\": \"histogram2d\"}], \"histogram2dcontour\": [{\"colorbar\": {\"outlinewidth\": 0, \"ticks\": \"\"}, \"colorscale\": [[0.0, \"#0d0887\"], [0.1111111111111111, \"#46039f\"], [0.2222222222222222, \"#7201a8\"], [0.3333333333333333, \"#9c179e\"], [0.4444444444444444, \"#bd3786\"], [0.5555555555555556, \"#d8576b\"], [0.6666666666666666, \"#ed7953\"], [0.7777777777777778, \"#fb9f3a\"], [0.8888888888888888, \"#fdca26\"], [1.0, \"#f0f921\"]], \"type\": \"histogram2dcontour\"}], \"mesh3d\": [{\"colorbar\": {\"outlinewidth\": 0, \"ticks\": \"\"}, \"type\": \"mesh3d\"}], \"parcoords\": [{\"line\": {\"colorbar\": {\"outlinewidth\": 0, \"ticks\": \"\"}}, \"type\": \"parcoords\"}], \"pie\": [{\"automargin\": true, \"type\": \"pie\"}], \"scatter\": [{\"marker\": {\"colorbar\": {\"outlinewidth\": 0, \"ticks\": \"\"}}, \"type\": \"scatter\"}], \"scatter3d\": [{\"line\": {\"colorbar\": {\"outlinewidth\": 0, \"ticks\": \"\"}}, \"marker\": {\"colorbar\": {\"outlinewidth\": 0, \"ticks\": \"\"}}, \"type\": \"scatter3d\"}], \"scattercarpet\": [{\"marker\": {\"colorbar\": {\"outlinewidth\": 0, \"ticks\": \"\"}}, \"type\": \"scattercarpet\"}], \"scattergeo\": [{\"marker\": {\"colorbar\": {\"outlinewidth\": 0, \"ticks\": \"\"}}, \"type\": \"scattergeo\"}], \"scattergl\": [{\"marker\": {\"colorbar\": {\"outlinewidth\": 0, \"ticks\": \"\"}}, \"type\": \"scattergl\"}], \"scattermapbox\": [{\"marker\": {\"colorbar\": {\"outlinewidth\": 0, \"ticks\": \"\"}}, \"type\": \"scattermapbox\"}], \"scatterpolar\": [{\"marker\": {\"colorbar\": {\"outlinewidth\": 0, \"ticks\": \"\"}}, \"type\": \"scatterpolar\"}], \"scatterpolargl\": [{\"marker\": {\"colorbar\": {\"outlinewidth\": 0, \"ticks\": \"\"}}, \"type\": \"scatterpolargl\"}], \"scatterternary\": [{\"marker\": {\"colorbar\": {\"outlinewidth\": 0, \"ticks\": \"\"}}, \"type\": \"scatterternary\"}], \"surface\": [{\"colorbar\": {\"outlinewidth\": 0, \"ticks\": \"\"}, \"colorscale\": [[0.0, \"#0d0887\"], [0.1111111111111111, \"#46039f\"], [0.2222222222222222, \"#7201a8\"], [0.3333333333333333, \"#9c179e\"], [0.4444444444444444, \"#bd3786\"], [0.5555555555555556, \"#d8576b\"], [0.6666666666666666, \"#ed7953\"], [0.7777777777777778, \"#fb9f3a\"], [0.8888888888888888, \"#fdca26\"], [1.0, \"#f0f921\"]], \"type\": \"surface\"}], \"table\": [{\"cells\": {\"fill\": {\"color\": \"#EBF0F8\"}, \"line\": {\"color\": \"white\"}}, \"header\": {\"fill\": {\"color\": \"#C8D4E3\"}, \"line\": {\"color\": \"white\"}}, \"type\": \"table\"}]}, \"layout\": {\"annotationdefaults\": {\"arrowcolor\": \"#2a3f5f\", \"arrowhead\": 0, \"arrowwidth\": 1}, \"coloraxis\": {\"colorbar\": {\"outlinewidth\": 0, \"ticks\": \"\"}}, \"colorscale\": {\"diverging\": [[0, \"#8e0152\"], [0.1, \"#c51b7d\"], [0.2, \"#de77ae\"], [0.3, \"#f1b6da\"], [0.4, \"#fde0ef\"], [0.5, \"#f7f7f7\"], [0.6, \"#e6f5d0\"], [0.7, \"#b8e186\"], [0.8, \"#7fbc41\"], [0.9, \"#4d9221\"], [1, \"#276419\"]], \"sequential\": [[0.0, \"#0d0887\"], [0.1111111111111111, \"#46039f\"], [0.2222222222222222, \"#7201a8\"], [0.3333333333333333, \"#9c179e\"], [0.4444444444444444, \"#bd3786\"], [0.5555555555555556, \"#d8576b\"], [0.6666666666666666, \"#ed7953\"], [0.7777777777777778, \"#fb9f3a\"], [0.8888888888888888, \"#fdca26\"], [1.0, \"#f0f921\"]], \"sequentialminus\": [[0.0, \"#0d0887\"], [0.1111111111111111, \"#46039f\"], [0.2222222222222222, \"#7201a8\"], [0.3333333333333333, \"#9c179e\"], [0.4444444444444444, \"#bd3786\"], [0.5555555555555556, \"#d8576b\"], [0.6666666666666666, \"#ed7953\"], [0.7777777777777778, \"#fb9f3a\"], [0.8888888888888888, \"#fdca26\"], [1.0, \"#f0f921\"]]}, \"colorway\": [\"#636efa\", \"#EF553B\", \"#00cc96\", \"#ab63fa\", \"#FFA15A\", \"#19d3f3\", \"#FF6692\", \"#B6E880\", \"#FF97FF\", \"#FECB52\"], \"font\": {\"color\": \"#2a3f5f\"}, \"geo\": {\"bgcolor\": \"white\", \"lakecolor\": \"white\", \"landcolor\": \"#E5ECF6\", \"showlakes\": true, \"showland\": true, \"subunitcolor\": \"white\"}, \"hoverlabel\": {\"align\": \"left\"}, \"hovermode\": \"closest\", \"mapbox\": {\"style\": \"light\"}, \"paper_bgcolor\": \"white\", \"plot_bgcolor\": \"#E5ECF6\", \"polar\": {\"angularaxis\": {\"gridcolor\": \"white\", \"linecolor\": \"white\", \"ticks\": \"\"}, \"bgcolor\": \"#E5ECF6\", \"radialaxis\": {\"gridcolor\": \"white\", \"linecolor\": \"white\", \"ticks\": \"\"}}, \"scene\": {\"xaxis\": {\"backgroundcolor\": \"#E5ECF6\", \"gridcolor\": \"white\", \"gridwidth\": 2, \"linecolor\": \"white\", \"showbackground\": true, \"ticks\": \"\", \"zerolinecolor\": \"white\"}, \"yaxis\": {\"backgroundcolor\": \"#E5ECF6\", \"gridcolor\": \"white\", \"gridwidth\": 2, \"linecolor\": \"white\", \"showbackground\": true, \"ticks\": \"\", \"zerolinecolor\": \"white\"}, \"zaxis\": {\"backgroundcolor\": \"#E5ECF6\", \"gridcolor\": \"white\", \"gridwidth\": 2, \"linecolor\": \"white\", \"showbackground\": true, \"ticks\": \"\", \"zerolinecolor\": \"white\"}}, \"shapedefaults\": {\"line\": {\"color\": \"#2a3f5f\"}}, \"ternary\": {\"aaxis\": {\"gridcolor\": \"white\", \"linecolor\": \"white\", \"ticks\": \"\"}, \"baxis\": {\"gridcolor\": \"white\", \"linecolor\": \"white\", \"ticks\": \"\"}, \"bgcolor\": \"#E5ECF6\", \"caxis\": {\"gridcolor\": \"white\", \"linecolor\": \"white\", \"ticks\": \"\"}}, \"title\": {\"x\": 0.05}, \"xaxis\": {\"automargin\": true, \"gridcolor\": \"white\", \"linecolor\": \"white\", \"ticks\": \"\", \"title\": {\"standoff\": 15}, \"zerolinecolor\": \"white\", \"zerolinewidth\": 2}, \"yaxis\": {\"automargin\": true, \"gridcolor\": \"white\", \"linecolor\": \"white\", \"ticks\": \"\", \"title\": {\"standoff\": 15}, \"zerolinecolor\": \"white\", \"zerolinewidth\": 2}}}, \"title\": {\"text\": \"Training Time on Cross Validation 5 Folds\"}, \"xaxis\": {\"anchor\": \"y\", \"domain\": [0.0, 1.0], \"title\": {\"text\": \"Model\"}}, \"yaxis\": {\"anchor\": \"x\", \"domain\": [0.0, 1.0], \"title\": {\"text\": \"Fit Time\"}, \"type\": \"log\"}},                        {\"responsive\": true}                    ).then(function(){\n",
       "                            \n",
       "var gd = document.getElementById('4c37f1f9-d7e6-42e8-8728-4df2d4a7679f');\n",
       "var x = new MutationObserver(function (mutations, observer) {{\n",
       "        var display = window.getComputedStyle(gd).display;\n",
       "        if (!display || display === 'none') {{\n",
       "            console.log([gd, 'removed!']);\n",
       "            Plotly.purge(gd);\n",
       "            observer.disconnect();\n",
       "        }}\n",
       "}});\n",
       "\n",
       "// Listen for the removal of the full notebook cells\n",
       "var notebookContainer = gd.closest('#notebook-container');\n",
       "if (notebookContainer) {{\n",
       "    x.observe(notebookContainer, {childList: true});\n",
       "}}\n",
       "\n",
       "// Listen for the clearing of the current output cell\n",
       "var outputEl = gd.closest('.output');\n",
       "if (outputEl) {{\n",
       "    x.observe(outputEl, {childList: true});\n",
       "}}\n",
       "\n",
       "                        })                };                            </script>        </div>\n",
       "</body>\n",
       "</html>"
      ]
     },
     "metadata": {},
     "output_type": "display_data"
    }
   ],
   "source": [
    "fig = px.bar(\n",
    "    df_all_ver, x='Model', y='Fit Time', color='Dataset Version',\n",
    "    barmode='group', category_orders=order_all, text='Fit Time',\n",
    "    log_y=True\n",
    ")\n",
    "\n",
    "fig.update_layout(title='Training Time on Cross Validation 5 Folds')\n",
    "\n",
    "fig.show()"
   ]
  },
  {
   "cell_type": "code",
   "execution_count": null,
   "metadata": {
    "cell_id": "00003-0a221708-2f30-45f5-8507-8b3104cce91e",
    "execution_millis": 211,
    "execution_start": 1602850857283,
    "output_cleared": false,
    "source_hash": "d1533531"
   },
   "outputs": [
    {
     "data": {
      "text/html": [
       "<html>\n",
       "<head><meta charset=\"utf-8\" /></head>\n",
       "<body>\n",
       "    <div>            <script src=\"https://cdnjs.cloudflare.com/ajax/libs/mathjax/2.7.5/MathJax.js?config=TeX-AMS-MML_SVG\"></script><script type=\"text/javascript\">if (window.MathJax) {MathJax.Hub.Config({SVG: {font: \"STIX-Web\"}});}</script>                <script type=\"text/javascript\">window.PlotlyConfig = {MathJaxConfig: 'local'};</script>\n",
       "        <script src=\"https://cdn.plot.ly/plotly-latest.min.js\"></script>                <div id=\"995f8a95-566f-4165-ad2e-3fe0ec171ede\" class=\"plotly-graph-div\" style=\"height:525px; width:100%;\"></div>            <script type=\"text/javascript\">                                    window.PLOTLYENV=window.PLOTLYENV || {};                                    if (document.getElementById(\"995f8a95-566f-4165-ad2e-3fe0ec171ede\")) {                    Plotly.newPlot(                        \"995f8a95-566f-4165-ad2e-3fe0ec171ede\",                        [{\"alignmentgroup\": \"True\", \"hovertemplate\": \"Dataset Version=dropna + all + unscaled<br>Model=%{x}<br>Test RMSE=%{text}<extra></extra>\", \"legendgroup\": \"dropna + all + unscaled\", \"marker\": {\"color\": \"#636efa\"}, \"name\": \"dropna + all + unscaled\", \"offsetgroup\": \"dropna + all + unscaled\", \"orientation\": \"v\", \"showlegend\": true, \"text\": [3.2397, 3.6549, 3.6676, 3.8712, 5.6175, 5.6346, 5.8523], \"textposition\": \"auto\", \"type\": \"bar\", \"x\": [\"CatBoostRegressor\", \"LGBMRegressor\", \"RandomForestRegressor\", \"XGBRegressor\", \"DecisionTreeRegressor\", \"LinearRegression\", \"LassoRegression\"], \"xaxis\": \"x\", \"y\": [3.2397, 3.6549, 3.6676, 3.8712, 5.6175, 5.6346, 5.8523], \"yaxis\": \"y\"}, {\"alignmentgroup\": \"True\", \"hovertemplate\": \"Dataset Version=dropna + all + scaled<br>Model=%{x}<br>Test RMSE=%{text}<extra></extra>\", \"legendgroup\": \"dropna + all + scaled\", \"marker\": {\"color\": \"#EF553B\"}, \"name\": \"dropna + all + scaled\", \"offsetgroup\": \"dropna + all + scaled\", \"orientation\": \"v\", \"showlegend\": true, \"text\": [3.2397, 3.6471, 3.6748, 3.8711, 5.433, 5.6339, 6.5929], \"textposition\": \"auto\", \"type\": \"bar\", \"x\": [\"CatBoostRegressor\", \"LGBMRegressor\", \"RandomForestRegressor\", \"XGBRegressor\", \"DecisionTreeRegressor\", \"LinearRegression\", \"LassoRegression\"], \"xaxis\": \"x\", \"y\": [3.2397, 3.6471, 3.6748, 3.8711, 5.433, 5.6339, 6.5929], \"yaxis\": \"y\"}, {\"alignmentgroup\": \"True\", \"hovertemplate\": \"Dataset Version=imputed + all + unscaled<br>Model=%{x}<br>Test RMSE=%{text}<extra></extra>\", \"legendgroup\": \"imputed + all + unscaled\", \"marker\": {\"color\": \"#00cc96\"}, \"name\": \"imputed + all + unscaled\", \"offsetgroup\": \"imputed + all + unscaled\", \"orientation\": \"v\", \"showlegend\": true, \"text\": [3.3318, 3.4049, 3.4408, 3.6344, 5.0296, 5.3127, 5.3877], \"textposition\": \"auto\", \"type\": \"bar\", \"x\": [\"CatBoostRegressor\", \"RandomForestRegressor\", \"LGBMRegressor\", \"XGBRegressor\", \"DecisionTreeRegressor\", \"LinearRegression\", \"LassoRegression\"], \"xaxis\": \"x\", \"y\": [3.3318, 3.4049, 3.4408, 3.6344, 5.0296, 5.3127, 5.3877], \"yaxis\": \"y\"}, {\"alignmentgroup\": \"True\", \"hovertemplate\": \"Dataset Version=imputed + all + scaled<br>Model=%{x}<br>Test RMSE=%{text}<extra></extra>\", \"legendgroup\": \"imputed + all + scaled\", \"marker\": {\"color\": \"#ab63fa\"}, \"name\": \"imputed + all + scaled\", \"offsetgroup\": \"imputed + all + scaled\", \"orientation\": \"v\", \"showlegend\": true, \"text\": [3.3318, 3.3939, 3.4951, 3.6327, 5.1895, 5.3132, 5.95], \"textposition\": \"auto\", \"type\": \"bar\", \"x\": [\"CatBoostRegressor\", \"RandomForestRegressor\", \"LGBMRegressor\", \"XGBRegressor\", \"DecisionTreeRegressor\", \"LinearRegression\", \"LassoRegression\"], \"xaxis\": \"x\", \"y\": [3.3318, 3.3939, 3.4951, 3.6327, 5.1895, 5.3132, 5.95], \"yaxis\": \"y\"}],                        {\"barmode\": \"group\", \"legend\": {\"title\": {\"text\": \"Dataset Version\"}, \"tracegroupgap\": 0}, \"margin\": {\"t\": 60}, \"template\": {\"data\": {\"bar\": [{\"error_x\": {\"color\": \"#2a3f5f\"}, \"error_y\": {\"color\": \"#2a3f5f\"}, \"marker\": {\"line\": {\"color\": \"#E5ECF6\", \"width\": 0.5}}, \"type\": \"bar\"}], \"barpolar\": [{\"marker\": {\"line\": {\"color\": \"#E5ECF6\", \"width\": 0.5}}, \"type\": \"barpolar\"}], \"carpet\": [{\"aaxis\": {\"endlinecolor\": \"#2a3f5f\", \"gridcolor\": \"white\", \"linecolor\": \"white\", \"minorgridcolor\": \"white\", \"startlinecolor\": \"#2a3f5f\"}, \"baxis\": {\"endlinecolor\": \"#2a3f5f\", \"gridcolor\": \"white\", \"linecolor\": \"white\", \"minorgridcolor\": \"white\", \"startlinecolor\": \"#2a3f5f\"}, \"type\": \"carpet\"}], \"choropleth\": [{\"colorbar\": {\"outlinewidth\": 0, \"ticks\": \"\"}, \"type\": \"choropleth\"}], \"contour\": [{\"colorbar\": {\"outlinewidth\": 0, \"ticks\": \"\"}, \"colorscale\": [[0.0, \"#0d0887\"], [0.1111111111111111, \"#46039f\"], [0.2222222222222222, \"#7201a8\"], [0.3333333333333333, \"#9c179e\"], [0.4444444444444444, \"#bd3786\"], [0.5555555555555556, \"#d8576b\"], [0.6666666666666666, \"#ed7953\"], [0.7777777777777778, \"#fb9f3a\"], [0.8888888888888888, \"#fdca26\"], [1.0, \"#f0f921\"]], \"type\": \"contour\"}], \"contourcarpet\": [{\"colorbar\": {\"outlinewidth\": 0, \"ticks\": \"\"}, \"type\": \"contourcarpet\"}], \"heatmap\": [{\"colorbar\": {\"outlinewidth\": 0, \"ticks\": \"\"}, \"colorscale\": [[0.0, \"#0d0887\"], [0.1111111111111111, \"#46039f\"], [0.2222222222222222, \"#7201a8\"], [0.3333333333333333, \"#9c179e\"], [0.4444444444444444, \"#bd3786\"], [0.5555555555555556, \"#d8576b\"], [0.6666666666666666, \"#ed7953\"], [0.7777777777777778, \"#fb9f3a\"], [0.8888888888888888, \"#fdca26\"], [1.0, \"#f0f921\"]], \"type\": \"heatmap\"}], \"heatmapgl\": [{\"colorbar\": {\"outlinewidth\": 0, \"ticks\": \"\"}, \"colorscale\": [[0.0, \"#0d0887\"], [0.1111111111111111, \"#46039f\"], [0.2222222222222222, \"#7201a8\"], [0.3333333333333333, \"#9c179e\"], [0.4444444444444444, \"#bd3786\"], [0.5555555555555556, \"#d8576b\"], [0.6666666666666666, \"#ed7953\"], [0.7777777777777778, \"#fb9f3a\"], [0.8888888888888888, \"#fdca26\"], [1.0, \"#f0f921\"]], \"type\": \"heatmapgl\"}], \"histogram\": [{\"marker\": {\"colorbar\": {\"outlinewidth\": 0, \"ticks\": \"\"}}, \"type\": \"histogram\"}], \"histogram2d\": [{\"colorbar\": {\"outlinewidth\": 0, \"ticks\": \"\"}, \"colorscale\": [[0.0, \"#0d0887\"], [0.1111111111111111, \"#46039f\"], [0.2222222222222222, \"#7201a8\"], [0.3333333333333333, \"#9c179e\"], [0.4444444444444444, \"#bd3786\"], [0.5555555555555556, \"#d8576b\"], [0.6666666666666666, \"#ed7953\"], [0.7777777777777778, \"#fb9f3a\"], [0.8888888888888888, \"#fdca26\"], [1.0, \"#f0f921\"]], \"type\": \"histogram2d\"}], \"histogram2dcontour\": [{\"colorbar\": {\"outlinewidth\": 0, \"ticks\": \"\"}, \"colorscale\": [[0.0, \"#0d0887\"], [0.1111111111111111, \"#46039f\"], [0.2222222222222222, \"#7201a8\"], [0.3333333333333333, \"#9c179e\"], [0.4444444444444444, \"#bd3786\"], [0.5555555555555556, \"#d8576b\"], [0.6666666666666666, \"#ed7953\"], [0.7777777777777778, \"#fb9f3a\"], [0.8888888888888888, \"#fdca26\"], [1.0, \"#f0f921\"]], \"type\": \"histogram2dcontour\"}], \"mesh3d\": [{\"colorbar\": {\"outlinewidth\": 0, \"ticks\": \"\"}, \"type\": \"mesh3d\"}], \"parcoords\": [{\"line\": {\"colorbar\": {\"outlinewidth\": 0, \"ticks\": \"\"}}, \"type\": \"parcoords\"}], \"pie\": [{\"automargin\": true, \"type\": \"pie\"}], \"scatter\": [{\"marker\": {\"colorbar\": {\"outlinewidth\": 0, \"ticks\": \"\"}}, \"type\": \"scatter\"}], \"scatter3d\": [{\"line\": {\"colorbar\": {\"outlinewidth\": 0, \"ticks\": \"\"}}, \"marker\": {\"colorbar\": {\"outlinewidth\": 0, \"ticks\": \"\"}}, \"type\": \"scatter3d\"}], \"scattercarpet\": [{\"marker\": {\"colorbar\": {\"outlinewidth\": 0, \"ticks\": \"\"}}, \"type\": \"scattercarpet\"}], \"scattergeo\": [{\"marker\": {\"colorbar\": {\"outlinewidth\": 0, \"ticks\": \"\"}}, \"type\": \"scattergeo\"}], \"scattergl\": [{\"marker\": {\"colorbar\": {\"outlinewidth\": 0, \"ticks\": \"\"}}, \"type\": \"scattergl\"}], \"scattermapbox\": [{\"marker\": {\"colorbar\": {\"outlinewidth\": 0, \"ticks\": \"\"}}, \"type\": \"scattermapbox\"}], \"scatterpolar\": [{\"marker\": {\"colorbar\": {\"outlinewidth\": 0, \"ticks\": \"\"}}, \"type\": \"scatterpolar\"}], \"scatterpolargl\": [{\"marker\": {\"colorbar\": {\"outlinewidth\": 0, \"ticks\": \"\"}}, \"type\": \"scatterpolargl\"}], \"scatterternary\": [{\"marker\": {\"colorbar\": {\"outlinewidth\": 0, \"ticks\": \"\"}}, \"type\": \"scatterternary\"}], \"surface\": [{\"colorbar\": {\"outlinewidth\": 0, \"ticks\": \"\"}, \"colorscale\": [[0.0, \"#0d0887\"], [0.1111111111111111, \"#46039f\"], [0.2222222222222222, \"#7201a8\"], [0.3333333333333333, \"#9c179e\"], [0.4444444444444444, \"#bd3786\"], [0.5555555555555556, \"#d8576b\"], [0.6666666666666666, \"#ed7953\"], [0.7777777777777778, \"#fb9f3a\"], [0.8888888888888888, \"#fdca26\"], [1.0, \"#f0f921\"]], \"type\": \"surface\"}], \"table\": [{\"cells\": {\"fill\": {\"color\": \"#EBF0F8\"}, \"line\": {\"color\": \"white\"}}, \"header\": {\"fill\": {\"color\": \"#C8D4E3\"}, \"line\": {\"color\": \"white\"}}, \"type\": \"table\"}]}, \"layout\": {\"annotationdefaults\": {\"arrowcolor\": \"#2a3f5f\", \"arrowhead\": 0, \"arrowwidth\": 1}, \"coloraxis\": {\"colorbar\": {\"outlinewidth\": 0, \"ticks\": \"\"}}, \"colorscale\": {\"diverging\": [[0, \"#8e0152\"], [0.1, \"#c51b7d\"], [0.2, \"#de77ae\"], [0.3, \"#f1b6da\"], [0.4, \"#fde0ef\"], [0.5, \"#f7f7f7\"], [0.6, \"#e6f5d0\"], [0.7, \"#b8e186\"], [0.8, \"#7fbc41\"], [0.9, \"#4d9221\"], [1, \"#276419\"]], \"sequential\": [[0.0, \"#0d0887\"], [0.1111111111111111, \"#46039f\"], [0.2222222222222222, \"#7201a8\"], [0.3333333333333333, \"#9c179e\"], [0.4444444444444444, \"#bd3786\"], [0.5555555555555556, \"#d8576b\"], [0.6666666666666666, \"#ed7953\"], [0.7777777777777778, \"#fb9f3a\"], [0.8888888888888888, \"#fdca26\"], [1.0, \"#f0f921\"]], \"sequentialminus\": [[0.0, \"#0d0887\"], [0.1111111111111111, \"#46039f\"], [0.2222222222222222, \"#7201a8\"], [0.3333333333333333, \"#9c179e\"], [0.4444444444444444, \"#bd3786\"], [0.5555555555555556, \"#d8576b\"], [0.6666666666666666, \"#ed7953\"], [0.7777777777777778, \"#fb9f3a\"], [0.8888888888888888, \"#fdca26\"], [1.0, \"#f0f921\"]]}, \"colorway\": [\"#636efa\", \"#EF553B\", \"#00cc96\", \"#ab63fa\", \"#FFA15A\", \"#19d3f3\", \"#FF6692\", \"#B6E880\", \"#FF97FF\", \"#FECB52\"], \"font\": {\"color\": \"#2a3f5f\"}, \"geo\": {\"bgcolor\": \"white\", \"lakecolor\": \"white\", \"landcolor\": \"#E5ECF6\", \"showlakes\": true, \"showland\": true, \"subunitcolor\": \"white\"}, \"hoverlabel\": {\"align\": \"left\"}, \"hovermode\": \"closest\", \"mapbox\": {\"style\": \"light\"}, \"paper_bgcolor\": \"white\", \"plot_bgcolor\": \"#E5ECF6\", \"polar\": {\"angularaxis\": {\"gridcolor\": \"white\", \"linecolor\": \"white\", \"ticks\": \"\"}, \"bgcolor\": \"#E5ECF6\", \"radialaxis\": {\"gridcolor\": \"white\", \"linecolor\": \"white\", \"ticks\": \"\"}}, \"scene\": {\"xaxis\": {\"backgroundcolor\": \"#E5ECF6\", \"gridcolor\": \"white\", \"gridwidth\": 2, \"linecolor\": \"white\", \"showbackground\": true, \"ticks\": \"\", \"zerolinecolor\": \"white\"}, \"yaxis\": {\"backgroundcolor\": \"#E5ECF6\", \"gridcolor\": \"white\", \"gridwidth\": 2, \"linecolor\": \"white\", \"showbackground\": true, \"ticks\": \"\", \"zerolinecolor\": \"white\"}, \"zaxis\": {\"backgroundcolor\": \"#E5ECF6\", \"gridcolor\": \"white\", \"gridwidth\": 2, \"linecolor\": \"white\", \"showbackground\": true, \"ticks\": \"\", \"zerolinecolor\": \"white\"}}, \"shapedefaults\": {\"line\": {\"color\": \"#2a3f5f\"}}, \"ternary\": {\"aaxis\": {\"gridcolor\": \"white\", \"linecolor\": \"white\", \"ticks\": \"\"}, \"baxis\": {\"gridcolor\": \"white\", \"linecolor\": \"white\", \"ticks\": \"\"}, \"bgcolor\": \"#E5ECF6\", \"caxis\": {\"gridcolor\": \"white\", \"linecolor\": \"white\", \"ticks\": \"\"}}, \"title\": {\"x\": 0.05}, \"xaxis\": {\"automargin\": true, \"gridcolor\": \"white\", \"linecolor\": \"white\", \"ticks\": \"\", \"title\": {\"standoff\": 15}, \"zerolinecolor\": \"white\", \"zerolinewidth\": 2}, \"yaxis\": {\"automargin\": true, \"gridcolor\": \"white\", \"linecolor\": \"white\", \"ticks\": \"\", \"title\": {\"standoff\": 15}, \"zerolinecolor\": \"white\", \"zerolinewidth\": 2}}}, \"title\": {\"text\": \"Model RMSE Score on Test Set (all features only)\"}, \"xaxis\": {\"anchor\": \"y\", \"domain\": [0.0, 1.0], \"title\": {\"text\": \"Model\"}}, \"yaxis\": {\"anchor\": \"x\", \"domain\": [0.0, 1.0], \"title\": {\"text\": \"Test RMSE\"}}},                        {\"responsive\": true}                    ).then(function(){\n",
       "                            \n",
       "var gd = document.getElementById('995f8a95-566f-4165-ad2e-3fe0ec171ede');\n",
       "var x = new MutationObserver(function (mutations, observer) {{\n",
       "        var display = window.getComputedStyle(gd).display;\n",
       "        if (!display || display === 'none') {{\n",
       "            console.log([gd, 'removed!']);\n",
       "            Plotly.purge(gd);\n",
       "            observer.disconnect();\n",
       "        }}\n",
       "}});\n",
       "\n",
       "// Listen for the removal of the full notebook cells\n",
       "var notebookContainer = gd.closest('#notebook-container');\n",
       "if (notebookContainer) {{\n",
       "    x.observe(notebookContainer, {childList: true});\n",
       "}}\n",
       "\n",
       "// Listen for the clearing of the current output cell\n",
       "var outputEl = gd.closest('.output');\n",
       "if (outputEl) {{\n",
       "    x.observe(outputEl, {childList: true});\n",
       "}}\n",
       "\n",
       "                        })                };                            </script>        </div>\n",
       "</body>\n",
       "</html>"
      ]
     },
     "metadata": {},
     "output_type": "display_data"
    }
   ],
   "source": [
    "filtered = df_all_ver[df_all_ver['Dataset Version'].str.contains('all')]\n",
    "\n",
    "order = {'Dataset Version': ['dropna + all + unscaled', 'dropna + all + scaled',\n",
    "                             'imputed + all + unscaled', 'imputed + all + scaled']}\n",
    "\n",
    "fig = px.bar(filtered, x='Model', y='Test RMSE', color='Dataset Version',\n",
    "             barmode='group', category_orders=order, text='Test RMSE')\n",
    "\n",
    "fig.update_layout(title='Model RMSE Score on Test Set (all features only)')\n",
    "\n",
    "fig.show()"
   ]
  },
  {
   "cell_type": "code",
   "execution_count": null,
   "metadata": {
    "cell_id": "00004-654fb49d-5f40-4c19-b413-46e0483706b6"
   },
   "outputs": [],
   "source": []
  }
 ],
 "metadata": {
  "deepnote_execution_queue": [],
  "deepnote_notebook_id": "a373ca5a-055e-4d24-bc9d-e95d5aab8611",
  "jupytext": {
   "formats": "notebooks//ipynb,markdown//md,scripts//py:percent"
  },
  "kernelspec": {
   "display_name": "Python 3",
   "language": "python",
   "name": "python3"
  },
  "language_info": {
   "codemirror_mode": {
    "name": "ipython",
    "version": 3
   },
   "file_extension": ".py",
   "mimetype": "text/x-python",
   "name": "python",
   "nbconvert_exporter": "python",
   "pygments_lexer": "ipython3",
   "version": "3.7.6"
  }
 },
 "nbformat": 4,
 "nbformat_minor": 4
}
