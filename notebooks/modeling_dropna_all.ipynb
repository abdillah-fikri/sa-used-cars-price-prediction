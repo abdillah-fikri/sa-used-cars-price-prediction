{
 "cells": [
  {
   "cell_type": "markdown",
   "metadata": {
    "id": "IN1jfOnfZIqT"
   },
   "source": [
    "# Data Importing"
   ]
  },
  {
   "cell_type": "code",
   "execution_count": 1,
   "metadata": {
    "cell_id": "00035-adb3a37b-199a-4d0e-ba89-ea8c10843673",
    "colab": {
     "base_uri": "https://localhost:8080/",
     "height": 111
    },
    "execution": {
     "iopub.execute_input": "2020-10-13T13:29:52.833962Z",
     "iopub.status.busy": "2020-10-13T13:29:52.833962Z",
     "iopub.status.idle": "2020-10-13T13:29:52.864878Z",
     "shell.execute_reply": "2020-10-13T13:29:52.863881Z",
     "shell.execute_reply.started": "2020-10-13T13:29:52.833962Z"
    },
    "executionInfo": {
     "elapsed": 5713,
     "status": "ok",
     "timestamp": 1602555650537,
     "user": {
      "displayName": "Abdillah Fikri",
      "photoUrl": "",
      "userId": "04470220666512949031"
     },
     "user_tz": -420
    },
    "id": "bKob_zWgIakl",
    "outputId": "6062b1e9-6be6-48c6-f955-0d621e64a663",
    "output_cleared": false,
    "tags": []
   },
   "outputs": [],
   "source": [
    "import numpy as np\n",
    "import pandas as pd\n",
    "import category_encoders as ce\n",
    "\n",
    "from utils import null_checker, evaluate_model\n",
    "from sklearn.model_selection import train_test_split\n",
    "from sklearn.tree import DecisionTreeRegressor\n",
    "from xgboost import XGBRegressor\n",
    "from lightgbm import LGBMRegressor\n",
    "from catboost import CatBoostRegressor\n",
    "from sklearn.ensemble import RandomForestRegressor\n",
    "from sklearn.linear_model import LinearRegression, Lasso, Ridge"
   ]
  },
  {
   "cell_type": "code",
   "execution_count": 2,
   "metadata": {},
   "outputs": [
    {
     "output_type": "execute_result",
     "data": {
      "text/plain": [
       "     Location  Year  Kilometers_Driven Fuel_Type Transmission Owner_Type  \\\n",
       "0      Mumbai  2010              72000       CNG       Manual      First   \n",
       "1        Pune  2015              41000    Diesel       Manual      First   \n",
       "2     Chennai  2011              46000    Petrol       Manual      First   \n",
       "3     Chennai  2012              87000    Diesel       Manual      First   \n",
       "4  Coimbatore  2013              40670    Diesel    Automatic     Second   \n",
       "\n",
       "   Seats  Price    Brand  Series Type  Mileage (kmpl)  Engine (CC)  \\\n",
       "0    5.0   1.75   Maruti   Wagon    R           26.60        998.0   \n",
       "1    5.0  12.50  Hyundai   Creta  1.6           19.67       1582.0   \n",
       "2    5.0   4.50    Honda    Jazz    V           18.20       1199.0   \n",
       "3    7.0   6.00   Maruti  Ertiga  VDI           20.77       1248.0   \n",
       "4    5.0  17.74     Audi      A4  New           15.20       1968.0   \n",
       "\n",
       "   Power (bhp)  \n",
       "0        58.16  \n",
       "1       126.20  \n",
       "2        88.70  \n",
       "3        88.76  \n",
       "4       140.80  "
      ],
      "text/html": "<div>\n<style scoped>\n    .dataframe tbody tr th:only-of-type {\n        vertical-align: middle;\n    }\n\n    .dataframe tbody tr th {\n        vertical-align: top;\n    }\n\n    .dataframe thead th {\n        text-align: right;\n    }\n</style>\n<table border=\"1\" class=\"dataframe\">\n  <thead>\n    <tr style=\"text-align: right;\">\n      <th></th>\n      <th>Location</th>\n      <th>Year</th>\n      <th>Kilometers_Driven</th>\n      <th>Fuel_Type</th>\n      <th>Transmission</th>\n      <th>Owner_Type</th>\n      <th>Seats</th>\n      <th>Price</th>\n      <th>Brand</th>\n      <th>Series</th>\n      <th>Type</th>\n      <th>Mileage (kmpl)</th>\n      <th>Engine (CC)</th>\n      <th>Power (bhp)</th>\n    </tr>\n  </thead>\n  <tbody>\n    <tr>\n      <th>0</th>\n      <td>Mumbai</td>\n      <td>2010</td>\n      <td>72000</td>\n      <td>CNG</td>\n      <td>Manual</td>\n      <td>First</td>\n      <td>5.0</td>\n      <td>1.75</td>\n      <td>Maruti</td>\n      <td>Wagon</td>\n      <td>R</td>\n      <td>26.60</td>\n      <td>998.0</td>\n      <td>58.16</td>\n    </tr>\n    <tr>\n      <th>1</th>\n      <td>Pune</td>\n      <td>2015</td>\n      <td>41000</td>\n      <td>Diesel</td>\n      <td>Manual</td>\n      <td>First</td>\n      <td>5.0</td>\n      <td>12.50</td>\n      <td>Hyundai</td>\n      <td>Creta</td>\n      <td>1.6</td>\n      <td>19.67</td>\n      <td>1582.0</td>\n      <td>126.20</td>\n    </tr>\n    <tr>\n      <th>2</th>\n      <td>Chennai</td>\n      <td>2011</td>\n      <td>46000</td>\n      <td>Petrol</td>\n      <td>Manual</td>\n      <td>First</td>\n      <td>5.0</td>\n      <td>4.50</td>\n      <td>Honda</td>\n      <td>Jazz</td>\n      <td>V</td>\n      <td>18.20</td>\n      <td>1199.0</td>\n      <td>88.70</td>\n    </tr>\n    <tr>\n      <th>3</th>\n      <td>Chennai</td>\n      <td>2012</td>\n      <td>87000</td>\n      <td>Diesel</td>\n      <td>Manual</td>\n      <td>First</td>\n      <td>7.0</td>\n      <td>6.00</td>\n      <td>Maruti</td>\n      <td>Ertiga</td>\n      <td>VDI</td>\n      <td>20.77</td>\n      <td>1248.0</td>\n      <td>88.76</td>\n    </tr>\n    <tr>\n      <th>4</th>\n      <td>Coimbatore</td>\n      <td>2013</td>\n      <td>40670</td>\n      <td>Diesel</td>\n      <td>Automatic</td>\n      <td>Second</td>\n      <td>5.0</td>\n      <td>17.74</td>\n      <td>Audi</td>\n      <td>A4</td>\n      <td>New</td>\n      <td>15.20</td>\n      <td>1968.0</td>\n      <td>140.80</td>\n    </tr>\n  </tbody>\n</table>\n</div>"
     },
     "metadata": {},
     "execution_count": 2
    }
   ],
   "source": [
    "df = pd.read_csv('../data/processed/after_prep.csv')\n",
    "df.head()"
   ]
  },
  {
   "cell_type": "code",
   "execution_count": 3,
   "metadata": {},
   "outputs": [
    {
     "output_type": "stream",
     "name": "stdout",
     "text": [
      "<class 'pandas.core.frame.DataFrame'>\nRangeIndex: 6019 entries, 0 to 6018\nData columns (total 14 columns):\n #   Column             Non-Null Count  Dtype  \n---  ------             --------------  -----  \n 0   Location           6019 non-null   object \n 1   Year               6019 non-null   int64  \n 2   Kilometers_Driven  6019 non-null   int64  \n 3   Fuel_Type          6019 non-null   object \n 4   Transmission       6019 non-null   object \n 5   Owner_Type         6019 non-null   object \n 6   Seats              5976 non-null   float64\n 7   Price              6019 non-null   float64\n 8   Brand              6019 non-null   object \n 9   Series             6019 non-null   object \n 10  Type               6019 non-null   object \n 11  Mileage (kmpl)     5951 non-null   float64\n 12  Engine (CC)        5983 non-null   float64\n 13  Power (bhp)        5876 non-null   float64\ndtypes: float64(5), int64(2), object(7)\nmemory usage: 658.5+ KB\n"
     ]
    }
   ],
   "source": [
    "df.info()"
   ]
  },
  {
   "cell_type": "markdown",
   "metadata": {
    "id": "g1GS1AAUZIt9"
   },
   "source": [
    "# Preprocessing"
   ]
  },
  {
   "cell_type": "code",
   "execution_count": 4,
   "metadata": {
    "colab": {
     "base_uri": "https://localhost:8080/",
     "height": 34
    },
    "execution": {
     "iopub.execute_input": "2020-10-13T13:29:52.867870Z",
     "iopub.status.busy": "2020-10-13T13:29:52.866875Z",
     "iopub.status.idle": "2020-10-13T13:29:52.879124Z",
     "shell.execute_reply": "2020-10-13T13:29:52.879124Z",
     "shell.execute_reply.started": "2020-10-13T13:29:52.867870Z"
    },
    "executionInfo": {
     "elapsed": 5696,
     "status": "ok",
     "timestamp": 1602555650538,
     "user": {
      "displayName": "Abdillah Fikri",
      "photoUrl": "",
      "userId": "04470220666512949031"
     },
     "user_tz": -420
    },
    "id": "INV8VvOYZItN",
    "outputId": "6cf7dcec-3532-4b56-dd17-44ca7978010d"
   },
   "outputs": [
    {
     "output_type": "execute_result",
     "data": {
      "text/plain": [
       "(6018, 14)"
      ]
     },
     "metadata": {},
     "execution_count": 4
    }
   ],
   "source": [
    "# Delete outlier\n",
    "df = df[~(df.Kilometers_Driven > 1e6)]\n",
    "df.shape"
   ]
  },
  {
   "cell_type": "code",
   "execution_count": 5,
   "metadata": {
    "colab": {
     "base_uri": "https://localhost:8080/",
     "height": 483
    },
    "execution": {
     "iopub.execute_input": "2020-10-13T13:29:52.879124Z",
     "iopub.status.busy": "2020-10-13T13:29:52.879124Z",
     "iopub.status.idle": "2020-10-13T13:29:52.910917Z",
     "shell.execute_reply": "2020-10-13T13:29:52.909951Z",
     "shell.execute_reply.started": "2020-10-13T13:29:52.879124Z"
    },
    "executionInfo": {
     "elapsed": 5665,
     "status": "ok",
     "timestamp": 1602555650538,
     "user": {
      "displayName": "Abdillah Fikri",
      "photoUrl": "",
      "userId": "04470220666512949031"
     },
     "user_tz": -420
    },
    "id": "TYqvFHW1HqFX",
    "outputId": "6ccbecc5-7a77-4f56-9ed9-d63da75e6742"
   },
   "outputs": [
    {
     "output_type": "execute_result",
     "data": {
      "text/plain": [
       "                   null (sum)  null (%)\n",
       "Location                    0       0.0\n",
       "Year                        0       0.0\n",
       "Kilometers_Driven           0       0.0\n",
       "Fuel_Type                   0       0.0\n",
       "Transmission                0       0.0\n",
       "Owner_Type                  0       0.0\n",
       "Seats                       0       0.0\n",
       "Price                       0       0.0\n",
       "Brand                       0       0.0\n",
       "Series                      0       0.0\n",
       "Type                        0       0.0\n",
       "Mileage (kmpl)              0       0.0\n",
       "Engine (CC)                 0       0.0\n",
       "Power (bhp)                 0       0.0"
      ],
      "text/html": "<div>\n<style scoped>\n    .dataframe tbody tr th:only-of-type {\n        vertical-align: middle;\n    }\n\n    .dataframe tbody tr th {\n        vertical-align: top;\n    }\n\n    .dataframe thead th {\n        text-align: right;\n    }\n</style>\n<table border=\"1\" class=\"dataframe\">\n  <thead>\n    <tr style=\"text-align: right;\">\n      <th></th>\n      <th>null (sum)</th>\n      <th>null (%)</th>\n    </tr>\n  </thead>\n  <tbody>\n    <tr>\n      <th>Location</th>\n      <td>0</td>\n      <td>0.0</td>\n    </tr>\n    <tr>\n      <th>Year</th>\n      <td>0</td>\n      <td>0.0</td>\n    </tr>\n    <tr>\n      <th>Kilometers_Driven</th>\n      <td>0</td>\n      <td>0.0</td>\n    </tr>\n    <tr>\n      <th>Fuel_Type</th>\n      <td>0</td>\n      <td>0.0</td>\n    </tr>\n    <tr>\n      <th>Transmission</th>\n      <td>0</td>\n      <td>0.0</td>\n    </tr>\n    <tr>\n      <th>Owner_Type</th>\n      <td>0</td>\n      <td>0.0</td>\n    </tr>\n    <tr>\n      <th>Seats</th>\n      <td>0</td>\n      <td>0.0</td>\n    </tr>\n    <tr>\n      <th>Price</th>\n      <td>0</td>\n      <td>0.0</td>\n    </tr>\n    <tr>\n      <th>Brand</th>\n      <td>0</td>\n      <td>0.0</td>\n    </tr>\n    <tr>\n      <th>Series</th>\n      <td>0</td>\n      <td>0.0</td>\n    </tr>\n    <tr>\n      <th>Type</th>\n      <td>0</td>\n      <td>0.0</td>\n    </tr>\n    <tr>\n      <th>Mileage (kmpl)</th>\n      <td>0</td>\n      <td>0.0</td>\n    </tr>\n    <tr>\n      <th>Engine (CC)</th>\n      <td>0</td>\n      <td>0.0</td>\n    </tr>\n    <tr>\n      <th>Power (bhp)</th>\n      <td>0</td>\n      <td>0.0</td>\n    </tr>\n  </tbody>\n</table>\n</div>"
     },
     "metadata": {},
     "execution_count": 5
    }
   ],
   "source": [
    "# Drop missing values\n",
    "df = df.dropna()\n",
    "null_checker(df)"
   ]
  },
  {
   "cell_type": "markdown",
   "metadata": {
    "id": "yEgVyyNSZIt9"
   },
   "source": [
    "## Train test split"
   ]
  },
  {
   "cell_type": "code",
   "execution_count": 6,
   "metadata": {
    "execution": {
     "iopub.execute_input": "2020-10-13T13:29:52.911913Z",
     "iopub.status.busy": "2020-10-13T13:29:52.911913Z",
     "iopub.status.idle": "2020-10-13T13:29:52.926873Z",
     "shell.execute_reply": "2020-10-13T13:29:52.925908Z",
     "shell.execute_reply.started": "2020-10-13T13:29:52.911913Z"
    },
    "executionInfo": {
     "elapsed": 875,
     "status": "ok",
     "timestamp": 1602555655449,
     "user": {
      "displayName": "Abdillah Fikri",
      "photoUrl": "",
      "userId": "04470220666512949031"
     },
     "user_tz": -420
    },
    "id": "nPxFt6bSZIt-"
   },
   "outputs": [],
   "source": [
    "# melakukan train test split di awal untuk mencegah data leakage\n",
    "X = df.drop(columns=['Price'])\n",
    "y = df['Price']\n",
    "X_train, X_test, y_train, y_test = train_test_split(X, y, test_size=0.25, random_state=0)"
   ]
  },
  {
   "cell_type": "markdown",
   "metadata": {
    "id": "oxqsMHrKZIuA"
   },
   "source": [
    "## Encoding"
   ]
  },
  {
   "cell_type": "code",
   "execution_count": 7,
   "metadata": {
    "cell_id": "00036-c7e04c20-9ab9-48dc-a699-9e7a06582a8c",
    "colab": {
     "base_uri": "https://localhost:8080/",
     "height": 85
    },
    "execution": {
     "iopub.execute_input": "2020-10-13T13:29:52.928873Z",
     "iopub.status.busy": "2020-10-13T13:29:52.927872Z",
     "iopub.status.idle": "2020-10-13T13:29:53.107446Z",
     "shell.execute_reply": "2020-10-13T13:29:53.106483Z",
     "shell.execute_reply.started": "2020-10-13T13:29:52.928873Z"
    },
    "executionInfo": {
     "elapsed": 776,
     "status": "ok",
     "timestamp": 1602555727773,
     "user": {
      "displayName": "Abdillah Fikri",
      "photoUrl": "",
      "userId": "04470220666512949031"
     },
     "user_tz": -420
    },
    "id": "_0criLnZIakn",
    "outputId": "8b1555e3-4ca7-4bc9-c310-79d7840c1aa1",
    "output_cleared": false,
    "tags": []
   },
   "outputs": [],
   "source": [
    "# Define category mapping for label encoding\n",
    "mapping_owner = {\n",
    "    'First': 1, \n",
    "    'Second': 2, \n",
    "    'Third': 3, \n",
    "    'Fourth & Above': 4\n",
    "}\n",
    "mapping_trans = {\n",
    "    'Manual': 0, \n",
    "    'Automatic': 1, \n",
    "}\n",
    "\n",
    "# Encoding train set\n",
    "X_train[\"Owner_Type\"] = X_train[\"Owner_Type\"].map(mapping_owner)\n",
    "X_train[\"Transmission\"] = X_train[\"Transmission\"].map(mapping_trans)\n",
    "# Encoding test set\n",
    "X_test[\"Owner_Type\"] = X_test[\"Owner_Type\"].map(mapping_owner)\n",
    "X_test[\"Transmission\"] = X_test[\"Transmission\"].map(mapping_trans)"
   ]
  },
  {
   "cell_type": "code",
   "execution_count": 8,
   "metadata": {},
   "outputs": [],
   "source": [
    "# One hot encoding for low cardinality feature + Brand\n",
    "col_to_encode = ['Location', 'Fuel_Type', 'Brand']\n",
    "oh_encoder = ce.OneHotEncoder(cols=col_to_encode,\n",
    "                              use_cat_names=True)\n",
    "oh_encoder.fit(X_train)\n",
    "\n",
    "# Encoding train set\n",
    "X_train = oh_encoder.transform(X_train)\n",
    "# Encoding test set\n",
    "X_test = oh_encoder.transform(X_test)"
   ]
  },
  {
   "cell_type": "code",
   "execution_count": 9,
   "metadata": {
    "colab": {
     "base_uri": "https://localhost:8080/",
     "height": 85
    },
    "execution": {
     "iopub.execute_input": "2020-10-13T13:29:53.108444Z",
     "iopub.status.busy": "2020-10-13T13:29:53.108444Z",
     "iopub.status.idle": "2020-10-13T13:29:53.178943Z",
     "shell.execute_reply": "2020-10-13T13:29:53.178943Z",
     "shell.execute_reply.started": "2020-10-13T13:29:53.108444Z"
    },
    "executionInfo": {
     "elapsed": 856,
     "status": "ok",
     "timestamp": 1602555730207,
     "user": {
      "displayName": "Abdillah Fikri",
      "photoUrl": "",
      "userId": "04470220666512949031"
     },
     "user_tz": -420
    },
    "id": "kcMLnvJxZIuD",
    "outputId": "0f9c7677-a896-4027-9610-562e404a18b4"
   },
   "outputs": [],
   "source": [
    "# Target encoding for high cardinality feature\n",
    "col_to_encode = X_train.select_dtypes(\"object\").columns\n",
    "encoder = ce.TargetEncoder(cols=col_to_encode)\n",
    "encoder.fit(X_train, y_train)\n",
    "\n",
    "# Encoding train set\n",
    "X_train = encoder.transform(X_train)\n",
    "# Encoding test set\n",
    "X_test = encoder.transform(X_test)"
   ]
  },
  {
   "cell_type": "markdown",
   "metadata": {
    "id": "wV2sjkqEZIup"
   },
   "source": [
    "# Modeling"
   ]
  },
  {
   "cell_type": "markdown",
   "metadata": {
    "id": "aR4Sp3UCZIu2"
   },
   "source": [
    "## Base Model"
   ]
  },
  {
   "cell_type": "code",
   "execution_count": 10,
   "metadata": {
    "execution": {
     "iopub.execute_input": "2020-10-13T13:34:36.180450Z",
     "iopub.status.busy": "2020-10-13T13:34:36.179421Z",
     "iopub.status.idle": "2020-10-13T13:34:36.198368Z",
     "shell.execute_reply": "2020-10-13T13:34:36.197370Z",
     "shell.execute_reply.started": "2020-10-13T13:34:36.180450Z"
    },
    "executionInfo": {
     "elapsed": 802,
     "status": "ok",
     "timestamp": 1602556659028,
     "user": {
      "displayName": "Abdillah Fikri",
      "photoUrl": "",
      "userId": "04470220666512949031"
     },
     "user_tz": -420
    },
    "id": "Oux2OxeDZIu2"
   },
   "outputs": [],
   "source": [
    "tree_model = DecisionTreeRegressor()\n",
    "rf_model = RandomForestRegressor()\n",
    "xgb_model = XGBRegressor()\n",
    "lgb_model = LGBMRegressor()\n",
    "cat_model = CatBoostRegressor(silent=True)\n",
    "lr_model = LinearRegression()\n",
    "lasso_model = Lasso()\n",
    "ridge_model = Ridge()\n",
    "\n",
    "models = {'DecisionTree' : tree_model,\n",
    "          'RandomForest' : rf_model,\n",
    "          'XGBoost' : xgb_model,\n",
    "          'CatBoost' : cat_model,\n",
    "          'LightGBM' : lgb_model,\n",
    "          'Linear': lr_model,\n",
    "          'Lasso': lasso_model,\n",
    "          'Ridge': ridge_model}"
   ]
  },
  {
   "cell_type": "markdown",
   "metadata": {
    "id": "kCSEOF35MoSB"
   },
   "source": [
    "### Unscaled dataset"
   ]
  },
  {
   "cell_type": "code",
   "execution_count": 11,
   "metadata": {
    "colab": {
     "base_uri": "https://localhost:8080/",
     "height": 297
    },
    "execution": {
     "iopub.execute_input": "2020-10-13T13:48:49.354143Z",
     "iopub.status.busy": "2020-10-13T13:48:49.354143Z",
     "iopub.status.idle": "2020-10-13T13:49:38.126193Z",
     "shell.execute_reply": "2020-10-13T13:49:38.125196Z",
     "shell.execute_reply.started": "2020-10-13T13:48:49.354143Z"
    },
    "executionInfo": {
     "elapsed": 43072,
     "status": "ok",
     "timestamp": 1602556705466,
     "user": {
      "displayName": "Abdillah Fikri",
      "photoUrl": "",
      "userId": "04470220666512949031"
     },
     "user_tz": -420
    },
    "id": "DgfsmUm-HqGG",
    "outputId": "53cf5ba8-9d0d-44eb-c0f5-0e1c8d77f42f"
   },
   "outputs": [],
   "source": [
    "# evaluasi model memakai function\n",
    "unscaled = evaluate_model(models, X_train, X_test, y_train, y_test)"
   ]
  },
  {
   "cell_type": "markdown",
   "metadata": {
    "id": "AodaQJBNMtob"
   },
   "source": [
    "### Scaled dataset"
   ]
  },
  {
   "cell_type": "code",
   "execution_count": 12,
   "metadata": {
    "execution": {
     "iopub.execute_input": "2020-10-13T13:49:38.129185Z",
     "iopub.status.busy": "2020-10-13T13:49:38.129185Z",
     "iopub.status.idle": "2020-10-13T13:49:38.201992Z",
     "shell.execute_reply": "2020-10-13T13:49:38.200992Z",
     "shell.execute_reply.started": "2020-10-13T13:49:38.129185Z"
    },
    "id": "HUYPPvWk2oo_"
   },
   "outputs": [],
   "source": [
    "# Scaling data\r\n",
    "from sklearn.preprocessing import RobustScaler\r\n",
    "\r\n",
    "scaler = RobustScaler()\r\n",
    "scaler.fit(X_train)\r\n",
    "X_train_scaled = scaler.transform(X_train)\r\n",
    "X_test_scaled = scaler.transform(X_test)"
   ]
  },
  {
   "cell_type": "code",
   "execution_count": 13,
   "metadata": {
    "execution": {
     "iopub.execute_input": "2020-10-13T13:49:38.203987Z",
     "iopub.status.busy": "2020-10-13T13:49:38.202989Z",
     "iopub.status.idle": "2020-10-13T13:50:28.224677Z",
     "shell.execute_reply": "2020-10-13T13:50:28.223681Z",
     "shell.execute_reply.started": "2020-10-13T13:49:38.203987Z"
    }
   },
   "outputs": [],
   "source": [
    "# evaluasi model memakai function\n",
    "scaled = evaluate_model(models, X_train_scaled, X_test_scaled, y_train, y_test)"
   ]
  },
  {
   "cell_type": "markdown",
   "metadata": {},
   "source": [
    "### Summarizing"
   ]
  },
  {
   "cell_type": "code",
   "execution_count": 14,
   "metadata": {},
   "outputs": [],
   "source": [
    "unscaled['Dataset Version'] = 'dropna + all + unscaled'\n",
    "scaled['Dataset Version'] = 'dropna + all + scaled'"
   ]
  },
  {
   "cell_type": "code",
   "execution_count": 15,
   "metadata": {},
   "outputs": [
    {
     "output_type": "execute_result",
     "data": {
      "text/plain": [
       "              Fit Time  Train R2   CV R2       Test R2  Train RMSE  CV RMSE  \\\n",
       "Model                                                                         \n",
       "CatBoost        3.4798    0.9925  0.9253  9.254000e-01      0.9495   2.9393   \n",
       "LightGBM        0.2190    0.9732  0.9192  9.035000e-01      1.7933   3.0784   \n",
       "XGBoost         0.4057    0.9975  0.9143  8.948000e-01      0.5442   3.1510   \n",
       "RandomForest    2.9140    0.9879  0.9132  9.021000e-01      1.2068   3.1995   \n",
       "DecisionTree    0.0495    1.0000  0.8545  7.682000e-01      0.0131   4.1654   \n",
       "Ridge           0.0100    0.8199  0.8127  7.699000e-01      4.6498   4.7376   \n",
       "Linear          0.0258    0.8203  0.8122  7.693000e-01      4.6453   4.7447   \n",
       "Lasso           0.0150    0.7994  0.7988  7.517000e-01      4.9078   4.9099   \n",
       "CatBoost        3.2751    0.9925  0.9253  9.254000e-01      0.9495   2.9393   \n",
       "LightGBM        0.2302    0.9734  0.9188  9.034000e-01      1.7881   3.0829   \n",
       "XGBoost         0.5187    0.9975  0.9143  8.947000e-01      0.5442   3.1511   \n",
       "RandomForest    2.9288    0.9878  0.9142  9.021000e-01      1.2105   3.1771   \n",
       "DecisionTree    0.0521    1.0000  0.8497  7.629000e-01      0.0131   4.2368   \n",
       "Ridge           0.0061    0.8199  0.8127  7.698000e-01      4.6498   4.7375   \n",
       "Linear          0.0223    0.8203  0.8121 -1.331272e+18      4.6454   4.7454   \n",
       "Lasso           0.0081    0.7688  0.7677  6.848000e-01      5.2688   5.2659   \n",
       "\n",
       "                 Test RMSE          Dataset Version  \n",
       "Model                                                \n",
       "CatBoost      3.207000e+00  dropna + all + unscaled  \n",
       "LightGBM      3.647700e+00  dropna + all + unscaled  \n",
       "XGBoost       3.809100e+00  dropna + all + unscaled  \n",
       "RandomForest  3.675200e+00  dropna + all + unscaled  \n",
       "DecisionTree  5.653900e+00  dropna + all + unscaled  \n",
       "Ridge         5.633600e+00  dropna + all + unscaled  \n",
       "Linear        5.640500e+00  dropna + all + unscaled  \n",
       "Lasso         5.852300e+00  dropna + all + unscaled  \n",
       "CatBoost      3.207000e+00    dropna + all + scaled  \n",
       "LightGBM      3.649300e+00    dropna + all + scaled  \n",
       "XGBoost       3.810700e+00    dropna + all + scaled  \n",
       "RandomForest  3.673600e+00    dropna + all + scaled  \n",
       "DecisionTree  5.717800e+00    dropna + all + scaled  \n",
       "Ridge         5.634000e+00    dropna + all + scaled  \n",
       "Linear        1.354986e+10    dropna + all + scaled  \n",
       "Lasso         6.592900e+00    dropna + all + scaled  "
      ],
      "text/html": "<div>\n<style scoped>\n    .dataframe tbody tr th:only-of-type {\n        vertical-align: middle;\n    }\n\n    .dataframe tbody tr th {\n        vertical-align: top;\n    }\n\n    .dataframe thead th {\n        text-align: right;\n    }\n</style>\n<table border=\"1\" class=\"dataframe\">\n  <thead>\n    <tr style=\"text-align: right;\">\n      <th></th>\n      <th>Fit Time</th>\n      <th>Train R2</th>\n      <th>CV R2</th>\n      <th>Test R2</th>\n      <th>Train RMSE</th>\n      <th>CV RMSE</th>\n      <th>Test RMSE</th>\n      <th>Dataset Version</th>\n    </tr>\n    <tr>\n      <th>Model</th>\n      <th></th>\n      <th></th>\n      <th></th>\n      <th></th>\n      <th></th>\n      <th></th>\n      <th></th>\n      <th></th>\n    </tr>\n  </thead>\n  <tbody>\n    <tr>\n      <th>CatBoost</th>\n      <td>3.4798</td>\n      <td>0.9925</td>\n      <td>0.9253</td>\n      <td>9.254000e-01</td>\n      <td>0.9495</td>\n      <td>2.9393</td>\n      <td>3.207000e+00</td>\n      <td>dropna + all + unscaled</td>\n    </tr>\n    <tr>\n      <th>LightGBM</th>\n      <td>0.2190</td>\n      <td>0.9732</td>\n      <td>0.9192</td>\n      <td>9.035000e-01</td>\n      <td>1.7933</td>\n      <td>3.0784</td>\n      <td>3.647700e+00</td>\n      <td>dropna + all + unscaled</td>\n    </tr>\n    <tr>\n      <th>XGBoost</th>\n      <td>0.4057</td>\n      <td>0.9975</td>\n      <td>0.9143</td>\n      <td>8.948000e-01</td>\n      <td>0.5442</td>\n      <td>3.1510</td>\n      <td>3.809100e+00</td>\n      <td>dropna + all + unscaled</td>\n    </tr>\n    <tr>\n      <th>RandomForest</th>\n      <td>2.9140</td>\n      <td>0.9879</td>\n      <td>0.9132</td>\n      <td>9.021000e-01</td>\n      <td>1.2068</td>\n      <td>3.1995</td>\n      <td>3.675200e+00</td>\n      <td>dropna + all + unscaled</td>\n    </tr>\n    <tr>\n      <th>DecisionTree</th>\n      <td>0.0495</td>\n      <td>1.0000</td>\n      <td>0.8545</td>\n      <td>7.682000e-01</td>\n      <td>0.0131</td>\n      <td>4.1654</td>\n      <td>5.653900e+00</td>\n      <td>dropna + all + unscaled</td>\n    </tr>\n    <tr>\n      <th>Ridge</th>\n      <td>0.0100</td>\n      <td>0.8199</td>\n      <td>0.8127</td>\n      <td>7.699000e-01</td>\n      <td>4.6498</td>\n      <td>4.7376</td>\n      <td>5.633600e+00</td>\n      <td>dropna + all + unscaled</td>\n    </tr>\n    <tr>\n      <th>Linear</th>\n      <td>0.0258</td>\n      <td>0.8203</td>\n      <td>0.8122</td>\n      <td>7.693000e-01</td>\n      <td>4.6453</td>\n      <td>4.7447</td>\n      <td>5.640500e+00</td>\n      <td>dropna + all + unscaled</td>\n    </tr>\n    <tr>\n      <th>Lasso</th>\n      <td>0.0150</td>\n      <td>0.7994</td>\n      <td>0.7988</td>\n      <td>7.517000e-01</td>\n      <td>4.9078</td>\n      <td>4.9099</td>\n      <td>5.852300e+00</td>\n      <td>dropna + all + unscaled</td>\n    </tr>\n    <tr>\n      <th>CatBoost</th>\n      <td>3.2751</td>\n      <td>0.9925</td>\n      <td>0.9253</td>\n      <td>9.254000e-01</td>\n      <td>0.9495</td>\n      <td>2.9393</td>\n      <td>3.207000e+00</td>\n      <td>dropna + all + scaled</td>\n    </tr>\n    <tr>\n      <th>LightGBM</th>\n      <td>0.2302</td>\n      <td>0.9734</td>\n      <td>0.9188</td>\n      <td>9.034000e-01</td>\n      <td>1.7881</td>\n      <td>3.0829</td>\n      <td>3.649300e+00</td>\n      <td>dropna + all + scaled</td>\n    </tr>\n    <tr>\n      <th>XGBoost</th>\n      <td>0.5187</td>\n      <td>0.9975</td>\n      <td>0.9143</td>\n      <td>8.947000e-01</td>\n      <td>0.5442</td>\n      <td>3.1511</td>\n      <td>3.810700e+00</td>\n      <td>dropna + all + scaled</td>\n    </tr>\n    <tr>\n      <th>RandomForest</th>\n      <td>2.9288</td>\n      <td>0.9878</td>\n      <td>0.9142</td>\n      <td>9.021000e-01</td>\n      <td>1.2105</td>\n      <td>3.1771</td>\n      <td>3.673600e+00</td>\n      <td>dropna + all + scaled</td>\n    </tr>\n    <tr>\n      <th>DecisionTree</th>\n      <td>0.0521</td>\n      <td>1.0000</td>\n      <td>0.8497</td>\n      <td>7.629000e-01</td>\n      <td>0.0131</td>\n      <td>4.2368</td>\n      <td>5.717800e+00</td>\n      <td>dropna + all + scaled</td>\n    </tr>\n    <tr>\n      <th>Ridge</th>\n      <td>0.0061</td>\n      <td>0.8199</td>\n      <td>0.8127</td>\n      <td>7.698000e-01</td>\n      <td>4.6498</td>\n      <td>4.7375</td>\n      <td>5.634000e+00</td>\n      <td>dropna + all + scaled</td>\n    </tr>\n    <tr>\n      <th>Linear</th>\n      <td>0.0223</td>\n      <td>0.8203</td>\n      <td>0.8121</td>\n      <td>-1.331272e+18</td>\n      <td>4.6454</td>\n      <td>4.7454</td>\n      <td>1.354986e+10</td>\n      <td>dropna + all + scaled</td>\n    </tr>\n    <tr>\n      <th>Lasso</th>\n      <td>0.0081</td>\n      <td>0.7688</td>\n      <td>0.7677</td>\n      <td>6.848000e-01</td>\n      <td>5.2688</td>\n      <td>5.2659</td>\n      <td>6.592900e+00</td>\n      <td>dropna + all + scaled</td>\n    </tr>\n  </tbody>\n</table>\n</div>"
     },
     "metadata": {},
     "execution_count": 15
    }
   ],
   "source": [
    "dropna_all = pd.concat([unscaled, scaled], axis=0)\n",
    "dropna_all"
   ]
  },
  {
   "cell_type": "code",
   "execution_count": 16,
   "metadata": {},
   "outputs": [],
   "source": [
    "dropna_all.to_csv('../data/processed/summary_dropna_all.csv')"
   ]
  }
 ],
 "metadata": {
  "colab": {
   "collapsed_sections": [],
   "name": "Modeling_dropna_all.ipynb",
   "provenance": [
    {
     "file_id": "1NgCHIKsxmWD4jCur1sU6c3ASdRZ-PE99",
     "timestamp": 1602317956566
    }
   ],
   "toc_visible": true
  },
  "deepnote_execution_queue": [],
  "deepnote_notebook_id": "7e6ba86d-f2b0-4a20-b936-811e696ed5ab",
  "jupytext": {
   "formats": "notebooks//ipynb,markdown//md,scripts//py:percent"
  },
  "kernelspec": {
   "display_name": "Python 3.8.5 64-bit ('ds_env': conda)",
   "metadata": {
    "interpreter": {
     "hash": "9147bcb9e0785203a659ab3390718fd781c9994811db246717fd6ffdcf1dd807"
    }
   },
   "name": "Python 3.8.5 64-bit ('ds_env': conda)"
  },
  "language_info": {
   "codemirror_mode": {
    "name": "ipython",
    "version": 3
   },
   "file_extension": ".py",
   "mimetype": "text/x-python",
   "name": "python",
   "nbconvert_exporter": "python",
   "pygments_lexer": "ipython3",
   "version": "3.8.5-final"
  },
  "toc-autonumbering": true,
  "toc-showcode": false,
  "toc-showmarkdowntxt": false,
  "toc-showtags": false
 },
 "nbformat": 4,
 "nbformat_minor": 4
}