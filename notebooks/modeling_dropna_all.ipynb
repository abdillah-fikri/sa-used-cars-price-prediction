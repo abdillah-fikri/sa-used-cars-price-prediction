{
 "cells": [
  {
   "cell_type": "markdown",
   "metadata": {
    "id": "IN1jfOnfZIqT"
   },
   "source": [
    "# Data Importing"
   ]
  },
  {
   "cell_type": "code",
   "execution_count": 1,
   "metadata": {
    "cell_id": "00035-adb3a37b-199a-4d0e-ba89-ea8c10843673",
    "colab": {
     "base_uri": "https://localhost:8080/",
     "height": 111
    },
    "execution": {
     "iopub.execute_input": "2020-10-13T13:29:52.833962Z",
     "iopub.status.busy": "2020-10-13T13:29:52.833962Z",
     "iopub.status.idle": "2020-10-13T13:29:52.864878Z",
     "shell.execute_reply": "2020-10-13T13:29:52.863881Z",
     "shell.execute_reply.started": "2020-10-13T13:29:52.833962Z"
    },
    "executionInfo": {
     "elapsed": 5713,
     "status": "ok",
     "timestamp": 1602555650537,
     "user": {
      "displayName": "Abdillah Fikri",
      "photoUrl": "",
      "userId": "04470220666512949031"
     },
     "user_tz": -420
    },
    "id": "bKob_zWgIakl",
    "outputId": "6062b1e9-6be6-48c6-f955-0d621e64a663",
    "output_cleared": false,
    "tags": []
   },
   "outputs": [],
   "source": [
    "import pandas as pd\n",
    "import numpy as np\n",
    "import category_encoders as ce\n",
    "import miceforest as mf\n",
    "import optuna\n",
    "import lightgbm as lgb\n",
    "import xgboost as xgb\n",
    "\n",
    "from utils import *\n",
    "from sklearn.model_selection import train_test_split, cross_val_score, cross_validate, KFold\n",
    "from sklearn.tree import DecisionTreeRegressor\n",
    "from xgboost import XGBRegressor\n",
    "from lightgbm import LGBMRegressor\n",
    "from catboost import CatBoostRegressor\n",
    "from sklearn.ensemble import RandomForestRegressor\n",
    "from sklearn.linear_model import LinearRegression, Lasso\n",
    "from sklearn import metrics\n",
    "from sklearn.impute import SimpleImputer"
   ]
  },
  {
   "cell_type": "code",
   "execution_count": 2,
   "metadata": {},
   "outputs": [
    {
     "data": {
      "text/html": [
       "<div>\n",
       "<style scoped>\n",
       "    .dataframe tbody tr th:only-of-type {\n",
       "        vertical-align: middle;\n",
       "    }\n",
       "\n",
       "    .dataframe tbody tr th {\n",
       "        vertical-align: top;\n",
       "    }\n",
       "\n",
       "    .dataframe thead th {\n",
       "        text-align: right;\n",
       "    }\n",
       "</style>\n",
       "<table border=\"1\" class=\"dataframe\">\n",
       "  <thead>\n",
       "    <tr style=\"text-align: right;\">\n",
       "      <th></th>\n",
       "      <th>Location</th>\n",
       "      <th>Year</th>\n",
       "      <th>Kilometers_Driven</th>\n",
       "      <th>Fuel_Type</th>\n",
       "      <th>Transmission</th>\n",
       "      <th>Owner_Type</th>\n",
       "      <th>Seats</th>\n",
       "      <th>Price</th>\n",
       "      <th>Brand</th>\n",
       "      <th>Series</th>\n",
       "      <th>Type</th>\n",
       "      <th>Mileage (kmpl)</th>\n",
       "      <th>Engine (CC)</th>\n",
       "      <th>Power (bhp)</th>\n",
       "    </tr>\n",
       "  </thead>\n",
       "  <tbody>\n",
       "    <tr>\n",
       "      <th>0</th>\n",
       "      <td>Mumbai</td>\n",
       "      <td>2010</td>\n",
       "      <td>72000</td>\n",
       "      <td>CNG</td>\n",
       "      <td>Manual</td>\n",
       "      <td>First</td>\n",
       "      <td>5.0</td>\n",
       "      <td>1.75</td>\n",
       "      <td>Maruti</td>\n",
       "      <td>Wagon</td>\n",
       "      <td>R</td>\n",
       "      <td>26.60</td>\n",
       "      <td>998.0</td>\n",
       "      <td>58.16</td>\n",
       "    </tr>\n",
       "    <tr>\n",
       "      <th>1</th>\n",
       "      <td>Pune</td>\n",
       "      <td>2015</td>\n",
       "      <td>41000</td>\n",
       "      <td>Diesel</td>\n",
       "      <td>Manual</td>\n",
       "      <td>First</td>\n",
       "      <td>5.0</td>\n",
       "      <td>12.50</td>\n",
       "      <td>Hyundai</td>\n",
       "      <td>Creta</td>\n",
       "      <td>1.6</td>\n",
       "      <td>19.67</td>\n",
       "      <td>1582.0</td>\n",
       "      <td>126.20</td>\n",
       "    </tr>\n",
       "    <tr>\n",
       "      <th>2</th>\n",
       "      <td>Chennai</td>\n",
       "      <td>2011</td>\n",
       "      <td>46000</td>\n",
       "      <td>Petrol</td>\n",
       "      <td>Manual</td>\n",
       "      <td>First</td>\n",
       "      <td>5.0</td>\n",
       "      <td>4.50</td>\n",
       "      <td>Honda</td>\n",
       "      <td>Jazz</td>\n",
       "      <td>V</td>\n",
       "      <td>18.20</td>\n",
       "      <td>1199.0</td>\n",
       "      <td>88.70</td>\n",
       "    </tr>\n",
       "    <tr>\n",
       "      <th>3</th>\n",
       "      <td>Chennai</td>\n",
       "      <td>2012</td>\n",
       "      <td>87000</td>\n",
       "      <td>Diesel</td>\n",
       "      <td>Manual</td>\n",
       "      <td>First</td>\n",
       "      <td>7.0</td>\n",
       "      <td>6.00</td>\n",
       "      <td>Maruti</td>\n",
       "      <td>Ertiga</td>\n",
       "      <td>VDI</td>\n",
       "      <td>20.77</td>\n",
       "      <td>1248.0</td>\n",
       "      <td>88.76</td>\n",
       "    </tr>\n",
       "    <tr>\n",
       "      <th>4</th>\n",
       "      <td>Coimbatore</td>\n",
       "      <td>2013</td>\n",
       "      <td>40670</td>\n",
       "      <td>Diesel</td>\n",
       "      <td>Automatic</td>\n",
       "      <td>Second</td>\n",
       "      <td>5.0</td>\n",
       "      <td>17.74</td>\n",
       "      <td>Audi</td>\n",
       "      <td>A4</td>\n",
       "      <td>New</td>\n",
       "      <td>15.20</td>\n",
       "      <td>1968.0</td>\n",
       "      <td>140.80</td>\n",
       "    </tr>\n",
       "  </tbody>\n",
       "</table>\n",
       "</div>"
      ],
      "text/plain": [
       "     Location  Year  Kilometers_Driven Fuel_Type Transmission Owner_Type  \\\n",
       "0      Mumbai  2010              72000       CNG       Manual      First   \n",
       "1        Pune  2015              41000    Diesel       Manual      First   \n",
       "2     Chennai  2011              46000    Petrol       Manual      First   \n",
       "3     Chennai  2012              87000    Diesel       Manual      First   \n",
       "4  Coimbatore  2013              40670    Diesel    Automatic     Second   \n",
       "\n",
       "   Seats  Price    Brand  Series Type  Mileage (kmpl)  Engine (CC)  \\\n",
       "0    5.0   1.75   Maruti   Wagon    R           26.60        998.0   \n",
       "1    5.0  12.50  Hyundai   Creta  1.6           19.67       1582.0   \n",
       "2    5.0   4.50    Honda    Jazz    V           18.20       1199.0   \n",
       "3    7.0   6.00   Maruti  Ertiga  VDI           20.77       1248.0   \n",
       "4    5.0  17.74     Audi      A4  New           15.20       1968.0   \n",
       "\n",
       "   Power (bhp)  \n",
       "0        58.16  \n",
       "1       126.20  \n",
       "2        88.70  \n",
       "3        88.76  \n",
       "4       140.80  "
      ]
     },
     "execution_count": 2,
     "metadata": {},
     "output_type": "execute_result"
    }
   ],
   "source": [
    "df = pd.read_csv('../data/processed/after_prep.csv')\n",
    "df.head()"
   ]
  },
  {
   "cell_type": "code",
   "execution_count": 3,
   "metadata": {},
   "outputs": [
    {
     "name": "stdout",
     "output_type": "stream",
     "text": [
      "<class 'pandas.core.frame.DataFrame'>\n",
      "RangeIndex: 6019 entries, 0 to 6018\n",
      "Data columns (total 14 columns):\n",
      " #   Column             Non-Null Count  Dtype  \n",
      "---  ------             --------------  -----  \n",
      " 0   Location           6019 non-null   object \n",
      " 1   Year               6019 non-null   int64  \n",
      " 2   Kilometers_Driven  6019 non-null   int64  \n",
      " 3   Fuel_Type          6019 non-null   object \n",
      " 4   Transmission       6019 non-null   object \n",
      " 5   Owner_Type         6019 non-null   object \n",
      " 6   Seats              5976 non-null   float64\n",
      " 7   Price              6019 non-null   float64\n",
      " 8   Brand              6019 non-null   object \n",
      " 9   Series             6019 non-null   object \n",
      " 10  Type               6019 non-null   object \n",
      " 11  Mileage (kmpl)     5951 non-null   float64\n",
      " 12  Engine (CC)        5983 non-null   float64\n",
      " 13  Power (bhp)        5876 non-null   float64\n",
      "dtypes: float64(5), int64(2), object(7)\n",
      "memory usage: 658.5+ KB\n"
     ]
    }
   ],
   "source": [
    "df.info()"
   ]
  },
  {
   "cell_type": "markdown",
   "metadata": {
    "id": "g1GS1AAUZIt9"
   },
   "source": [
    "# Preprocessing"
   ]
  },
  {
   "cell_type": "code",
   "execution_count": 4,
   "metadata": {
    "colab": {
     "base_uri": "https://localhost:8080/",
     "height": 34
    },
    "execution": {
     "iopub.execute_input": "2020-10-13T13:29:52.867870Z",
     "iopub.status.busy": "2020-10-13T13:29:52.866875Z",
     "iopub.status.idle": "2020-10-13T13:29:52.879124Z",
     "shell.execute_reply": "2020-10-13T13:29:52.879124Z",
     "shell.execute_reply.started": "2020-10-13T13:29:52.867870Z"
    },
    "executionInfo": {
     "elapsed": 5696,
     "status": "ok",
     "timestamp": 1602555650538,
     "user": {
      "displayName": "Abdillah Fikri",
      "photoUrl": "",
      "userId": "04470220666512949031"
     },
     "user_tz": -420
    },
    "id": "INV8VvOYZItN",
    "outputId": "6cf7dcec-3532-4b56-dd17-44ca7978010d"
   },
   "outputs": [
    {
     "data": {
      "text/plain": [
       "(6018, 14)"
      ]
     },
     "execution_count": 4,
     "metadata": {},
     "output_type": "execute_result"
    }
   ],
   "source": [
    "# Delete outlier\n",
    "df = df[~(df.Kilometers_Driven > 1e6)]\n",
    "df.shape"
   ]
  },
  {
   "cell_type": "code",
   "execution_count": 19,
   "metadata": {
    "colab": {
     "base_uri": "https://localhost:8080/",
     "height": 483
    },
    "execution": {
     "iopub.execute_input": "2020-10-13T13:29:52.879124Z",
     "iopub.status.busy": "2020-10-13T13:29:52.879124Z",
     "iopub.status.idle": "2020-10-13T13:29:52.910917Z",
     "shell.execute_reply": "2020-10-13T13:29:52.909951Z",
     "shell.execute_reply.started": "2020-10-13T13:29:52.879124Z"
    },
    "executionInfo": {
     "elapsed": 5665,
     "status": "ok",
     "timestamp": 1602555650538,
     "user": {
      "displayName": "Abdillah Fikri",
      "photoUrl": "",
      "userId": "04470220666512949031"
     },
     "user_tz": -420
    },
    "id": "TYqvFHW1HqFX",
    "outputId": "6ccbecc5-7a77-4f56-9ed9-d63da75e6742"
   },
   "outputs": [
    {
     "data": {
      "text/html": [
       "<div>\n",
       "<style scoped>\n",
       "    .dataframe tbody tr th:only-of-type {\n",
       "        vertical-align: middle;\n",
       "    }\n",
       "\n",
       "    .dataframe tbody tr th {\n",
       "        vertical-align: top;\n",
       "    }\n",
       "\n",
       "    .dataframe thead th {\n",
       "        text-align: right;\n",
       "    }\n",
       "</style>\n",
       "<table border=\"1\" class=\"dataframe\">\n",
       "  <thead>\n",
       "    <tr style=\"text-align: right;\">\n",
       "      <th></th>\n",
       "      <th>null (sum)</th>\n",
       "      <th>null (%)</th>\n",
       "    </tr>\n",
       "  </thead>\n",
       "  <tbody>\n",
       "    <tr>\n",
       "      <th>Location</th>\n",
       "      <td>0</td>\n",
       "      <td>0.0</td>\n",
       "    </tr>\n",
       "    <tr>\n",
       "      <th>Year</th>\n",
       "      <td>0</td>\n",
       "      <td>0.0</td>\n",
       "    </tr>\n",
       "    <tr>\n",
       "      <th>Kilometers_Driven</th>\n",
       "      <td>0</td>\n",
       "      <td>0.0</td>\n",
       "    </tr>\n",
       "    <tr>\n",
       "      <th>Fuel_Type</th>\n",
       "      <td>0</td>\n",
       "      <td>0.0</td>\n",
       "    </tr>\n",
       "    <tr>\n",
       "      <th>Transmission</th>\n",
       "      <td>0</td>\n",
       "      <td>0.0</td>\n",
       "    </tr>\n",
       "    <tr>\n",
       "      <th>Owner_Type</th>\n",
       "      <td>0</td>\n",
       "      <td>0.0</td>\n",
       "    </tr>\n",
       "    <tr>\n",
       "      <th>Seats</th>\n",
       "      <td>0</td>\n",
       "      <td>0.0</td>\n",
       "    </tr>\n",
       "    <tr>\n",
       "      <th>Price</th>\n",
       "      <td>0</td>\n",
       "      <td>0.0</td>\n",
       "    </tr>\n",
       "    <tr>\n",
       "      <th>Brand</th>\n",
       "      <td>0</td>\n",
       "      <td>0.0</td>\n",
       "    </tr>\n",
       "    <tr>\n",
       "      <th>Series</th>\n",
       "      <td>0</td>\n",
       "      <td>0.0</td>\n",
       "    </tr>\n",
       "    <tr>\n",
       "      <th>Type</th>\n",
       "      <td>0</td>\n",
       "      <td>0.0</td>\n",
       "    </tr>\n",
       "    <tr>\n",
       "      <th>Mileage (kmpl)</th>\n",
       "      <td>0</td>\n",
       "      <td>0.0</td>\n",
       "    </tr>\n",
       "    <tr>\n",
       "      <th>Engine (CC)</th>\n",
       "      <td>0</td>\n",
       "      <td>0.0</td>\n",
       "    </tr>\n",
       "    <tr>\n",
       "      <th>Power (bhp)</th>\n",
       "      <td>0</td>\n",
       "      <td>0.0</td>\n",
       "    </tr>\n",
       "  </tbody>\n",
       "</table>\n",
       "</div>"
      ],
      "text/plain": [
       "                   null (sum)  null (%)\n",
       "Location                    0       0.0\n",
       "Year                        0       0.0\n",
       "Kilometers_Driven           0       0.0\n",
       "Fuel_Type                   0       0.0\n",
       "Transmission                0       0.0\n",
       "Owner_Type                  0       0.0\n",
       "Seats                       0       0.0\n",
       "Price                       0       0.0\n",
       "Brand                       0       0.0\n",
       "Series                      0       0.0\n",
       "Type                        0       0.0\n",
       "Mileage (kmpl)              0       0.0\n",
       "Engine (CC)                 0       0.0\n",
       "Power (bhp)                 0       0.0"
      ]
     },
     "execution_count": 19,
     "metadata": {},
     "output_type": "execute_result"
    }
   ],
   "source": [
    "# Drop missing values\n",
    "df = df.dropna()\n",
    "null_checker(df)"
   ]
  },
  {
   "cell_type": "markdown",
   "metadata": {
    "id": "yEgVyyNSZIt9"
   },
   "source": [
    "## Train test split"
   ]
  },
  {
   "cell_type": "code",
   "execution_count": 6,
   "metadata": {
    "execution": {
     "iopub.execute_input": "2020-10-13T13:29:52.911913Z",
     "iopub.status.busy": "2020-10-13T13:29:52.911913Z",
     "iopub.status.idle": "2020-10-13T13:29:52.926873Z",
     "shell.execute_reply": "2020-10-13T13:29:52.925908Z",
     "shell.execute_reply.started": "2020-10-13T13:29:52.911913Z"
    },
    "executionInfo": {
     "elapsed": 875,
     "status": "ok",
     "timestamp": 1602555655449,
     "user": {
      "displayName": "Abdillah Fikri",
      "photoUrl": "",
      "userId": "04470220666512949031"
     },
     "user_tz": -420
    },
    "id": "nPxFt6bSZIt-"
   },
   "outputs": [],
   "source": [
    "# melakukan train test split di awal untuk mencegah data bocor ke test set saat dilakukan encoding/imputation\n",
    "features = df.drop(columns=['Price'])\n",
    "target = df['Price']\n",
    "X_train, X_test, y_train, y_test = train_test_split(features, target, test_size=0.25, random_state=0)"
   ]
  },
  {
   "cell_type": "markdown",
   "metadata": {
    "id": "oxqsMHrKZIuA"
   },
   "source": [
    "## Encoding"
   ]
  },
  {
   "cell_type": "code",
   "execution_count": 7,
   "metadata": {
    "cell_id": "00036-c7e04c20-9ab9-48dc-a699-9e7a06582a8c",
    "colab": {
     "base_uri": "https://localhost:8080/",
     "height": 85
    },
    "execution": {
     "iopub.execute_input": "2020-10-13T13:29:52.928873Z",
     "iopub.status.busy": "2020-10-13T13:29:52.927872Z",
     "iopub.status.idle": "2020-10-13T13:29:53.107446Z",
     "shell.execute_reply": "2020-10-13T13:29:53.106483Z",
     "shell.execute_reply.started": "2020-10-13T13:29:52.928873Z"
    },
    "executionInfo": {
     "elapsed": 776,
     "status": "ok",
     "timestamp": 1602555727773,
     "user": {
      "displayName": "Abdillah Fikri",
      "photoUrl": "",
      "userId": "04470220666512949031"
     },
     "user_tz": -420
    },
    "id": "_0criLnZIakn",
    "outputId": "8b1555e3-4ca7-4bc9-c310-79d7840c1aa1",
    "output_cleared": false,
    "tags": []
   },
   "outputs": [],
   "source": [
    "# One hot encoding\n",
    "col_to_encode = ['Location', 'Fuel_Type', 'Transmission', 'Owner_Type', 'Brand']\n",
    "oh_encoder = ce.OneHotEncoder(cols=col_to_encode,\n",
    "                              use_cat_names=True)\n",
    "oh_encoder.fit(X_train)\n",
    "\n",
    "# Encoding train set\n",
    "X_train = oh_encoder.transform(X_train)\n",
    "# Encoding test set\n",
    "X_test = oh_encoder.transform(X_test)"
   ]
  },
  {
   "cell_type": "code",
   "execution_count": 8,
   "metadata": {
    "colab": {
     "base_uri": "https://localhost:8080/",
     "height": 85
    },
    "execution": {
     "iopub.execute_input": "2020-10-13T13:29:53.108444Z",
     "iopub.status.busy": "2020-10-13T13:29:53.108444Z",
     "iopub.status.idle": "2020-10-13T13:29:53.178943Z",
     "shell.execute_reply": "2020-10-13T13:29:53.178943Z",
     "shell.execute_reply.started": "2020-10-13T13:29:53.108444Z"
    },
    "executionInfo": {
     "elapsed": 856,
     "status": "ok",
     "timestamp": 1602555730207,
     "user": {
      "displayName": "Abdillah Fikri",
      "photoUrl": "",
      "userId": "04470220666512949031"
     },
     "user_tz": -420
    },
    "id": "kcMLnvJxZIuD",
    "outputId": "0f9c7677-a896-4027-9610-562e404a18b4"
   },
   "outputs": [],
   "source": [
    "# Target encoding/One hot encoding untuk feature dengan kategori yang banyak\n",
    "col_to_encode = ['Series', 'Type']\n",
    "target_encoder = ce.TargetEncoder(cols=col_to_encode)\n",
    "target_encoder.fit(X_train, y_train)\n",
    "\n",
    "# Encoding train set\n",
    "X_train = target_encoder.transform(X_train)\n",
    "# Encoding test set\n",
    "X_test = target_encoder.transform(X_test)"
   ]
  },
  {
   "cell_type": "markdown",
   "metadata": {
    "id": "wV2sjkqEZIup"
   },
   "source": [
    "# Modeling"
   ]
  },
  {
   "cell_type": "markdown",
   "metadata": {
    "id": "4g_nWqotKl6_"
   },
   "source": [
    "## Functions"
   ]
  },
  {
   "cell_type": "code",
   "execution_count": 9,
   "metadata": {
    "execution": {
     "iopub.execute_input": "2020-10-13T13:29:53.181043Z",
     "iopub.status.busy": "2020-10-13T13:29:53.181043Z",
     "iopub.status.idle": "2020-10-13T13:29:53.195221Z",
     "shell.execute_reply": "2020-10-13T13:29:53.194224Z",
     "shell.execute_reply.started": "2020-10-13T13:29:53.181043Z"
    },
    "executionInfo": {
     "elapsed": 984,
     "status": "ok",
     "timestamp": 1602555740977,
     "user": {
      "displayName": "Abdillah Fikri",
      "photoUrl": "",
      "userId": "04470220666512949031"
     },
     "user_tz": -420
    },
    "id": "Qp4QHIuFZIuq"
   },
   "outputs": [],
   "source": [
    "def get_cv_score(models, X_train, y_train):\n",
    "    \n",
    "    cv = KFold(n_splits=5, shuffle=True, random_state=0)\n",
    "    summary = []\n",
    "    for label, model in models.items():\n",
    "        cv_results = cross_validate(model, X_train, y_train, cv=cv, \n",
    "                                    scoring=['r2',\n",
    "                                             'neg_root_mean_squared_error',\n",
    "                                             'neg_mean_absolute_error'])\n",
    "        \n",
    "        temp = pd.DataFrame(cv_results).copy()\n",
    "        temp['Model'] = label\n",
    "        summary.append(temp)\n",
    "    \n",
    "    summary = pd.concat(summary)\n",
    "    summary = summary.groupby('Model').mean()\n",
    "    \n",
    "    summary.drop(columns=['fit_time', 'score_time'], inplace=True)\n",
    "    summary.columns = ['CV R2', 'CV RMSE', 'CV MAE']\n",
    "    summary[['CV RMSE', 'CV MAE']] = summary[['CV RMSE', 'CV MAE']] * -1\n",
    "    \n",
    "    return summary"
   ]
  },
  {
   "cell_type": "code",
   "execution_count": 10,
   "metadata": {
    "execution": {
     "iopub.execute_input": "2020-10-13T13:29:53.198250Z",
     "iopub.status.busy": "2020-10-13T13:29:53.197220Z",
     "iopub.status.idle": "2020-10-13T13:29:53.212177Z",
     "shell.execute_reply": "2020-10-13T13:29:53.210182Z",
     "shell.execute_reply.started": "2020-10-13T13:29:53.198250Z"
    },
    "executionInfo": {
     "elapsed": 837,
     "status": "ok",
     "timestamp": 1602556656550,
     "user": {
      "displayName": "Abdillah Fikri",
      "photoUrl": "",
      "userId": "04470220666512949031"
     },
     "user_tz": -420
    },
    "id": "BXEr8F5VZIu0"
   },
   "outputs": [],
   "source": [
    "def evaluate_model(models, X_train, X_test, y_train, y_test):\n",
    "\n",
    "    summary = {'Model':[], 'Train R2':[], 'Train RMSE':[], 'Train MAE':[],\n",
    "               'Test R2':[], 'Test RMSE':[], 'Test MAE':[]}\n",
    "\n",
    "    for label, model in models.items():\n",
    "        model.fit(X_train, y_train)\n",
    "\n",
    "        y_train_pred = model.predict(X_train)\n",
    "        y_test_pred = model.predict(X_test)\n",
    "\n",
    "        summary['Model'].append(label)\n",
    "\n",
    "        summary['Train R2'].append(\n",
    "            metrics.r2_score(y_train, y_train_pred))\n",
    "        summary['Train RMSE'].append(\n",
    "            np.sqrt(metrics.mean_squared_error(y_train, y_train_pred)))\n",
    "        summary['Train MAE'].append(\n",
    "            metrics.mean_absolute_error(y_train, y_train_pred))\n",
    "\n",
    "        summary['Test R2'].append(\n",
    "            metrics.r2_score(y_test, y_test_pred))\n",
    "        summary['Test RMSE'].append(\n",
    "            np.sqrt(metrics.mean_squared_error(y_test, y_test_pred)))\n",
    "        summary['Test MAE'].append(\n",
    "            metrics.mean_absolute_error(y_test, y_test_pred))\n",
    "    \n",
    "    summary = pd.DataFrame(summary)\n",
    "    summary.set_index('Model', inplace=True)\n",
    "\n",
    "    cv_scores = get_cv_score(models, X_train, y_train)\n",
    "    summary = summary.join(cv_scores)\n",
    "    summary = summary[['Train R2', 'CV R2', 'Test R2',\n",
    "                       'Train RMSE', 'CV RMSE', 'Test RMSE',\n",
    "                       'Train MAE', 'CV MAE', 'Test MAE']]\n",
    "    \n",
    "    return round(summary.sort_values(by='Test RMSE'), 4)"
   ]
  },
  {
   "cell_type": "markdown",
   "metadata": {
    "id": "aR4Sp3UCZIu2"
   },
   "source": [
    "## Base Model"
   ]
  },
  {
   "cell_type": "code",
   "execution_count": 11,
   "metadata": {
    "execution": {
     "iopub.execute_input": "2020-10-13T13:34:36.180450Z",
     "iopub.status.busy": "2020-10-13T13:34:36.179421Z",
     "iopub.status.idle": "2020-10-13T13:34:36.198368Z",
     "shell.execute_reply": "2020-10-13T13:34:36.197370Z",
     "shell.execute_reply.started": "2020-10-13T13:34:36.180450Z"
    },
    "executionInfo": {
     "elapsed": 802,
     "status": "ok",
     "timestamp": 1602556659028,
     "user": {
      "displayName": "Abdillah Fikri",
      "photoUrl": "",
      "userId": "04470220666512949031"
     },
     "user_tz": -420
    },
    "id": "Oux2OxeDZIu2"
   },
   "outputs": [],
   "source": [
    "tree_model = DecisionTreeRegressor()\n",
    "rf_model = RandomForestRegressor()\n",
    "xgb_model = XGBRegressor(objective='reg:squarederror')\n",
    "lgb_model = LGBMRegressor()\n",
    "cat_model = CatBoostRegressor(verbose=0, iterations=2000)\n",
    "lr_model = LinearRegression()\n",
    "lasso_model = Lasso()\n",
    "\n",
    "models_tree = {'DecisionTreeRegressor' : tree_model,\n",
    "          'RandomForestRegressor' : rf_model,\n",
    "          'XGBRegressor' : xgb_model,\n",
    "          'CatBoostRegressor' : cat_model,\n",
    "          'LGBMRegressor' : lgb_model}\n",
    "\n",
    "models_linear ={'LinearRegression': lr_model,\n",
    "          'LassoRegression': lasso_model}"
   ]
  },
  {
   "cell_type": "markdown",
   "metadata": {
    "id": "kCSEOF35MoSB"
   },
   "source": [
    "### Unscaled dataset"
   ]
  },
  {
   "cell_type": "code",
   "execution_count": 12,
   "metadata": {},
   "outputs": [
    {
     "data": {
      "text/html": [
       "<div>\n",
       "<style scoped>\n",
       "    .dataframe tbody tr th:only-of-type {\n",
       "        vertical-align: middle;\n",
       "    }\n",
       "\n",
       "    .dataframe tbody tr th {\n",
       "        vertical-align: top;\n",
       "    }\n",
       "\n",
       "    .dataframe thead th {\n",
       "        text-align: right;\n",
       "    }\n",
       "</style>\n",
       "<table border=\"1\" class=\"dataframe\">\n",
       "  <thead>\n",
       "    <tr style=\"text-align: right;\">\n",
       "      <th></th>\n",
       "      <th>Train R2</th>\n",
       "      <th>CV R2</th>\n",
       "      <th>Test R2</th>\n",
       "      <th>Train RMSE</th>\n",
       "      <th>CV RMSE</th>\n",
       "      <th>Test RMSE</th>\n",
       "      <th>Train MAE</th>\n",
       "      <th>CV MAE</th>\n",
       "      <th>Test MAE</th>\n",
       "    </tr>\n",
       "    <tr>\n",
       "      <th>Model</th>\n",
       "      <th></th>\n",
       "      <th></th>\n",
       "      <th></th>\n",
       "      <th></th>\n",
       "      <th></th>\n",
       "      <th></th>\n",
       "      <th></th>\n",
       "      <th></th>\n",
       "      <th></th>\n",
       "    </tr>\n",
       "  </thead>\n",
       "  <tbody>\n",
       "    <tr>\n",
       "      <th>CatBoostRegressor</th>\n",
       "      <td>0.9936</td>\n",
       "      <td>0.9282</td>\n",
       "      <td>0.9241</td>\n",
       "      <td>0.8776</td>\n",
       "      <td>2.8746</td>\n",
       "      <td>3.2346</td>\n",
       "      <td>0.6022</td>\n",
       "      <td>1.1218</td>\n",
       "      <td>1.2277</td>\n",
       "    </tr>\n",
       "    <tr>\n",
       "      <th>LGBMRegressor</th>\n",
       "      <td>0.9729</td>\n",
       "      <td>0.9190</td>\n",
       "      <td>0.9031</td>\n",
       "      <td>1.8035</td>\n",
       "      <td>3.0825</td>\n",
       "      <td>3.6549</td>\n",
       "      <td>0.7936</td>\n",
       "      <td>1.1914</td>\n",
       "      <td>1.3504</td>\n",
       "    </tr>\n",
       "    <tr>\n",
       "      <th>RandomForestRegressor</th>\n",
       "      <td>0.9882</td>\n",
       "      <td>0.9162</td>\n",
       "      <td>0.8993</td>\n",
       "      <td>1.1884</td>\n",
       "      <td>3.1446</td>\n",
       "      <td>3.7260</td>\n",
       "      <td>0.4632</td>\n",
       "      <td>1.2620</td>\n",
       "      <td>1.4293</td>\n",
       "    </tr>\n",
       "    <tr>\n",
       "      <th>XGBRegressor</th>\n",
       "      <td>0.9977</td>\n",
       "      <td>0.9134</td>\n",
       "      <td>0.8913</td>\n",
       "      <td>0.5278</td>\n",
       "      <td>3.1670</td>\n",
       "      <td>3.8712</td>\n",
       "      <td>0.3761</td>\n",
       "      <td>1.2154</td>\n",
       "      <td>1.3612</td>\n",
       "    </tr>\n",
       "    <tr>\n",
       "      <th>DecisionTreeRegressor</th>\n",
       "      <td>1.0000</td>\n",
       "      <td>0.8367</td>\n",
       "      <td>0.7932</td>\n",
       "      <td>0.0131</td>\n",
       "      <td>4.3782</td>\n",
       "      <td>5.3410</td>\n",
       "      <td>0.0006</td>\n",
       "      <td>1.7404</td>\n",
       "      <td>1.8852</td>\n",
       "    </tr>\n",
       "  </tbody>\n",
       "</table>\n",
       "</div>"
      ],
      "text/plain": [
       "                       Train R2   CV R2  Test R2  Train RMSE  CV RMSE  \\\n",
       "Model                                                                   \n",
       "CatBoostRegressor        0.9936  0.9282   0.9241      0.8776   2.8746   \n",
       "LGBMRegressor            0.9729  0.9190   0.9031      1.8035   3.0825   \n",
       "RandomForestRegressor    0.9882  0.9162   0.8993      1.1884   3.1446   \n",
       "XGBRegressor             0.9977  0.9134   0.8913      0.5278   3.1670   \n",
       "DecisionTreeRegressor    1.0000  0.8367   0.7932      0.0131   4.3782   \n",
       "\n",
       "                       Test RMSE  Train MAE  CV MAE  Test MAE  \n",
       "Model                                                          \n",
       "CatBoostRegressor         3.2346     0.6022  1.1218    1.2277  \n",
       "LGBMRegressor             3.6549     0.7936  1.1914    1.3504  \n",
       "RandomForestRegressor     3.7260     0.4632  1.2620    1.4293  \n",
       "XGBRegressor              3.8712     0.3761  1.2154    1.3612  \n",
       "DecisionTreeRegressor     5.3410     0.0006  1.7404    1.8852  "
      ]
     },
     "execution_count": 12,
     "metadata": {},
     "output_type": "execute_result"
    }
   ],
   "source": [
    "evaluate_model(models_tree, X_train, X_test, y_train, y_test)"
   ]
  },
  {
   "cell_type": "code",
   "execution_count": 13,
   "metadata": {
    "colab": {
     "base_uri": "https://localhost:8080/",
     "height": 297
    },
    "execution": {
     "iopub.execute_input": "2020-10-13T13:48:49.354143Z",
     "iopub.status.busy": "2020-10-13T13:48:49.354143Z",
     "iopub.status.idle": "2020-10-13T13:49:38.126193Z",
     "shell.execute_reply": "2020-10-13T13:49:38.125196Z",
     "shell.execute_reply.started": "2020-10-13T13:48:49.354143Z"
    },
    "executionInfo": {
     "elapsed": 43072,
     "status": "ok",
     "timestamp": 1602556705466,
     "user": {
      "displayName": "Abdillah Fikri",
      "photoUrl": "",
      "userId": "04470220666512949031"
     },
     "user_tz": -420
    },
    "id": "DgfsmUm-HqGG",
    "outputId": "53cf5ba8-9d0d-44eb-c0f5-0e1c8d77f42f"
   },
   "outputs": [],
   "source": [
    "# evaluasi model memakai function\n",
    "unscaled = evaluate_model(models_tree, X_train, X_test, y_train, y_test)"
   ]
  },
  {
   "cell_type": "markdown",
   "metadata": {
    "id": "AodaQJBNMtob"
   },
   "source": [
    "### Scaled dataset"
   ]
  },
  {
   "cell_type": "code",
   "execution_count": 14,
   "metadata": {
    "execution": {
     "iopub.execute_input": "2020-10-13T13:49:38.129185Z",
     "iopub.status.busy": "2020-10-13T13:49:38.129185Z",
     "iopub.status.idle": "2020-10-13T13:49:38.201992Z",
     "shell.execute_reply": "2020-10-13T13:49:38.200992Z",
     "shell.execute_reply.started": "2020-10-13T13:49:38.129185Z"
    },
    "id": "HUYPPvWk2oo_"
   },
   "outputs": [],
   "source": [
    "# Scaling data\r\n",
    "from sklearn.preprocessing import RobustScaler\r\n",
    "\r\n",
    "scaler = RobustScaler()\r\n",
    "scaler.fit(X_train)\r\n",
    "X_train_scaled = scaler.transform(X_train)\r\n",
    "X_test_scaled = scaler.transform(X_test)"
   ]
  },
  {
   "cell_type": "code",
   "execution_count": 15,
   "metadata": {
    "execution": {
     "iopub.execute_input": "2020-10-13T13:49:38.203987Z",
     "iopub.status.busy": "2020-10-13T13:49:38.202989Z",
     "iopub.status.idle": "2020-10-13T13:50:28.224677Z",
     "shell.execute_reply": "2020-10-13T13:50:28.223681Z",
     "shell.execute_reply.started": "2020-10-13T13:49:38.203987Z"
    }
   },
   "outputs": [],
   "source": [
    "# evaluasi model memakai function\n",
    "scaled = evaluate_model(models_tree, X_train_scaled, X_test_scaled, y_train, y_test)"
   ]
  },
  {
   "cell_type": "markdown",
   "metadata": {},
   "source": [
    "### Summarizing"
   ]
  },
  {
   "cell_type": "code",
   "execution_count": 16,
   "metadata": {},
   "outputs": [],
   "source": [
    "unscaled['Dataset Version'] = 'dropna + all + unscaled'\n",
    "scaled['Dataset Version'] = 'dropna + all + scaled'"
   ]
  },
  {
   "cell_type": "code",
   "execution_count": 17,
   "metadata": {},
   "outputs": [
    {
     "data": {
      "text/html": [
       "<div>\n",
       "<style scoped>\n",
       "    .dataframe tbody tr th:only-of-type {\n",
       "        vertical-align: middle;\n",
       "    }\n",
       "\n",
       "    .dataframe tbody tr th {\n",
       "        vertical-align: top;\n",
       "    }\n",
       "\n",
       "    .dataframe thead th {\n",
       "        text-align: right;\n",
       "    }\n",
       "</style>\n",
       "<table border=\"1\" class=\"dataframe\">\n",
       "  <thead>\n",
       "    <tr style=\"text-align: right;\">\n",
       "      <th></th>\n",
       "      <th>Train R2</th>\n",
       "      <th>CV R2</th>\n",
       "      <th>Test R2</th>\n",
       "      <th>Train RMSE</th>\n",
       "      <th>CV RMSE</th>\n",
       "      <th>Test RMSE</th>\n",
       "      <th>Train MAE</th>\n",
       "      <th>CV MAE</th>\n",
       "      <th>Test MAE</th>\n",
       "      <th>Dataset Version</th>\n",
       "    </tr>\n",
       "    <tr>\n",
       "      <th>Model</th>\n",
       "      <th></th>\n",
       "      <th></th>\n",
       "      <th></th>\n",
       "      <th></th>\n",
       "      <th></th>\n",
       "      <th></th>\n",
       "      <th></th>\n",
       "      <th></th>\n",
       "      <th></th>\n",
       "      <th></th>\n",
       "    </tr>\n",
       "  </thead>\n",
       "  <tbody>\n",
       "    <tr>\n",
       "      <th>CatBoostRegressor</th>\n",
       "      <td>0.9936</td>\n",
       "      <td>0.9282</td>\n",
       "      <td>0.9241</td>\n",
       "      <td>0.8776</td>\n",
       "      <td>2.8746</td>\n",
       "      <td>3.2346</td>\n",
       "      <td>0.6022</td>\n",
       "      <td>1.1218</td>\n",
       "      <td>1.2277</td>\n",
       "      <td>dropna + all + unscaled</td>\n",
       "    </tr>\n",
       "    <tr>\n",
       "      <th>LGBMRegressor</th>\n",
       "      <td>0.9729</td>\n",
       "      <td>0.9190</td>\n",
       "      <td>0.9031</td>\n",
       "      <td>1.8035</td>\n",
       "      <td>3.0825</td>\n",
       "      <td>3.6549</td>\n",
       "      <td>0.7936</td>\n",
       "      <td>1.1914</td>\n",
       "      <td>1.3504</td>\n",
       "      <td>dropna + all + unscaled</td>\n",
       "    </tr>\n",
       "    <tr>\n",
       "      <th>RandomForestRegressor</th>\n",
       "      <td>0.9888</td>\n",
       "      <td>0.9140</td>\n",
       "      <td>0.8959</td>\n",
       "      <td>1.1590</td>\n",
       "      <td>3.1808</td>\n",
       "      <td>3.7885</td>\n",
       "      <td>0.4676</td>\n",
       "      <td>1.2640</td>\n",
       "      <td>1.4497</td>\n",
       "      <td>dropna + all + unscaled</td>\n",
       "    </tr>\n",
       "    <tr>\n",
       "      <th>XGBRegressor</th>\n",
       "      <td>0.9977</td>\n",
       "      <td>0.9134</td>\n",
       "      <td>0.8913</td>\n",
       "      <td>0.5278</td>\n",
       "      <td>3.1670</td>\n",
       "      <td>3.8712</td>\n",
       "      <td>0.3761</td>\n",
       "      <td>1.2154</td>\n",
       "      <td>1.3612</td>\n",
       "      <td>dropna + all + unscaled</td>\n",
       "    </tr>\n",
       "    <tr>\n",
       "      <th>DecisionTreeRegressor</th>\n",
       "      <td>1.0000</td>\n",
       "      <td>0.8548</td>\n",
       "      <td>0.7637</td>\n",
       "      <td>0.0131</td>\n",
       "      <td>4.1590</td>\n",
       "      <td>5.7092</td>\n",
       "      <td>0.0006</td>\n",
       "      <td>1.7353</td>\n",
       "      <td>1.9412</td>\n",
       "      <td>dropna + all + unscaled</td>\n",
       "    </tr>\n",
       "    <tr>\n",
       "      <th>CatBoostRegressor</th>\n",
       "      <td>0.9936</td>\n",
       "      <td>0.9282</td>\n",
       "      <td>0.9241</td>\n",
       "      <td>0.8776</td>\n",
       "      <td>2.8746</td>\n",
       "      <td>3.2346</td>\n",
       "      <td>0.6022</td>\n",
       "      <td>1.1218</td>\n",
       "      <td>1.2277</td>\n",
       "      <td>dropna + all + scaled</td>\n",
       "    </tr>\n",
       "    <tr>\n",
       "      <th>LGBMRegressor</th>\n",
       "      <td>0.9731</td>\n",
       "      <td>0.9190</td>\n",
       "      <td>0.9036</td>\n",
       "      <td>1.7988</td>\n",
       "      <td>3.0816</td>\n",
       "      <td>3.6471</td>\n",
       "      <td>0.7914</td>\n",
       "      <td>1.1868</td>\n",
       "      <td>1.3393</td>\n",
       "      <td>dropna + all + scaled</td>\n",
       "    </tr>\n",
       "    <tr>\n",
       "      <th>RandomForestRegressor</th>\n",
       "      <td>0.9865</td>\n",
       "      <td>0.9153</td>\n",
       "      <td>0.8985</td>\n",
       "      <td>1.2749</td>\n",
       "      <td>3.1569</td>\n",
       "      <td>3.7422</td>\n",
       "      <td>0.4670</td>\n",
       "      <td>1.2512</td>\n",
       "      <td>1.4496</td>\n",
       "      <td>dropna + all + scaled</td>\n",
       "    </tr>\n",
       "    <tr>\n",
       "      <th>XGBRegressor</th>\n",
       "      <td>0.9977</td>\n",
       "      <td>0.9134</td>\n",
       "      <td>0.8913</td>\n",
       "      <td>0.5278</td>\n",
       "      <td>3.1670</td>\n",
       "      <td>3.8711</td>\n",
       "      <td>0.3761</td>\n",
       "      <td>1.2155</td>\n",
       "      <td>1.3610</td>\n",
       "      <td>dropna + all + scaled</td>\n",
       "    </tr>\n",
       "    <tr>\n",
       "      <th>DecisionTreeRegressor</th>\n",
       "      <td>1.0000</td>\n",
       "      <td>0.8570</td>\n",
       "      <td>0.7837</td>\n",
       "      <td>0.0131</td>\n",
       "      <td>4.1237</td>\n",
       "      <td>5.4613</td>\n",
       "      <td>0.0006</td>\n",
       "      <td>1.7187</td>\n",
       "      <td>1.9386</td>\n",
       "      <td>dropna + all + scaled</td>\n",
       "    </tr>\n",
       "  </tbody>\n",
       "</table>\n",
       "</div>"
      ],
      "text/plain": [
       "                       Train R2   CV R2  Test R2  Train RMSE  CV RMSE  \\\n",
       "Model                                                                   \n",
       "CatBoostRegressor        0.9936  0.9282   0.9241      0.8776   2.8746   \n",
       "LGBMRegressor            0.9729  0.9190   0.9031      1.8035   3.0825   \n",
       "RandomForestRegressor    0.9888  0.9140   0.8959      1.1590   3.1808   \n",
       "XGBRegressor             0.9977  0.9134   0.8913      0.5278   3.1670   \n",
       "DecisionTreeRegressor    1.0000  0.8548   0.7637      0.0131   4.1590   \n",
       "CatBoostRegressor        0.9936  0.9282   0.9241      0.8776   2.8746   \n",
       "LGBMRegressor            0.9731  0.9190   0.9036      1.7988   3.0816   \n",
       "RandomForestRegressor    0.9865  0.9153   0.8985      1.2749   3.1569   \n",
       "XGBRegressor             0.9977  0.9134   0.8913      0.5278   3.1670   \n",
       "DecisionTreeRegressor    1.0000  0.8570   0.7837      0.0131   4.1237   \n",
       "\n",
       "                       Test RMSE  Train MAE  CV MAE  Test MAE  \\\n",
       "Model                                                           \n",
       "CatBoostRegressor         3.2346     0.6022  1.1218    1.2277   \n",
       "LGBMRegressor             3.6549     0.7936  1.1914    1.3504   \n",
       "RandomForestRegressor     3.7885     0.4676  1.2640    1.4497   \n",
       "XGBRegressor              3.8712     0.3761  1.2154    1.3612   \n",
       "DecisionTreeRegressor     5.7092     0.0006  1.7353    1.9412   \n",
       "CatBoostRegressor         3.2346     0.6022  1.1218    1.2277   \n",
       "LGBMRegressor             3.6471     0.7914  1.1868    1.3393   \n",
       "RandomForestRegressor     3.7422     0.4670  1.2512    1.4496   \n",
       "XGBRegressor              3.8711     0.3761  1.2155    1.3610   \n",
       "DecisionTreeRegressor     5.4613     0.0006  1.7187    1.9386   \n",
       "\n",
       "                               Dataset Version  \n",
       "Model                                           \n",
       "CatBoostRegressor      dropna + all + unscaled  \n",
       "LGBMRegressor          dropna + all + unscaled  \n",
       "RandomForestRegressor  dropna + all + unscaled  \n",
       "XGBRegressor           dropna + all + unscaled  \n",
       "DecisionTreeRegressor  dropna + all + unscaled  \n",
       "CatBoostRegressor        dropna + all + scaled  \n",
       "LGBMRegressor            dropna + all + scaled  \n",
       "RandomForestRegressor    dropna + all + scaled  \n",
       "XGBRegressor             dropna + all + scaled  \n",
       "DecisionTreeRegressor    dropna + all + scaled  "
      ]
     },
     "execution_count": 17,
     "metadata": {},
     "output_type": "execute_result"
    }
   ],
   "source": [
    "dropna_all = pd.concat([unscaled, scaled], axis=0)\n",
    "dropna_all"
   ]
  },
  {
   "cell_type": "code",
   "execution_count": 18,
   "metadata": {},
   "outputs": [],
   "source": [
    "dropna_all.to_csv('../data/processed/summary_dropna_all.csv')"
   ]
  }
 ],
 "metadata": {
  "colab": {
   "collapsed_sections": [],
   "name": "Modeling_dropna_all.ipynb",
   "provenance": [
    {
     "file_id": "1NgCHIKsxmWD4jCur1sU6c3ASdRZ-PE99",
     "timestamp": 1602317956566
    }
   ],
   "toc_visible": true
  },
  "deepnote_execution_queue": [],
  "deepnote_notebook_id": "7e6ba86d-f2b0-4a20-b936-811e696ed5ab",
  "jupytext": {
   "formats": "notebooks//ipynb,markdown//md,scripts//py:percent"
  },
  "kernelspec": {
   "display_name": "Python 3.8.5 64-bit ('ds_env': conda)",
   "metadata": {
    "interpreter": {
     "hash": "8d4d772f21767a3a72f3356b4ab1badff3b831eb21eba306d4ebdf1fe7777d12"
    }
   },
   "name": "Python 3.8.5 64-bit ('ds_env': conda)"
  },
  "language_info": {
   "codemirror_mode": {
    "name": "ipython",
    "version": 3
   },
   "file_extension": ".py",
   "mimetype": "text/x-python",
   "name": "python",
   "nbconvert_exporter": "python",
   "pygments_lexer": "ipython3",
   "version": "3.8.5-final"
  },
  "toc-autonumbering": true,
  "toc-showcode": false,
  "toc-showmarkdowntxt": false,
  "toc-showtags": false
 },
 "nbformat": 4,
 "nbformat_minor": 4
}
