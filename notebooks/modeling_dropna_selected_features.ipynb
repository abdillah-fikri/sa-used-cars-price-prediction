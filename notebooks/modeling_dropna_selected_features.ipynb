{
 "cells": [
  {
   "cell_type": "markdown",
   "metadata": {
    "id": "IN1jfOnfZIqT"
   },
   "source": [
    "# Data Importing"
   ]
  },
  {
   "cell_type": "code",
   "execution_count": 1,
   "metadata": {
    "execution": {
     "iopub.execute_input": "2020-10-08T14:24:16.108907Z",
     "iopub.status.busy": "2020-10-08T14:24:16.107910Z",
     "iopub.status.idle": "2020-10-08T14:24:21.655591Z",
     "shell.execute_reply": "2020-10-08T14:24:21.651602Z",
     "shell.execute_reply.started": "2020-10-08T14:24:16.108907Z"
    },
    "id": "vBMQYoVFZIqV"
   },
   "outputs": [],
   "source": [
    "import numpy as np\n",
    "import pandas as pd\n",
    "import category_encoders as ce\n",
    "\n",
    "from utils import null_checker, evaluate_model\n",
    "from sklearn.model_selection import train_test_split\n",
    "from sklearn.tree import DecisionTreeRegressor\n",
    "from xgboost import XGBRegressor\n",
    "from lightgbm import LGBMRegressor\n",
    "from catboost import CatBoostRegressor\n",
    "from sklearn.ensemble import RandomForestRegressor\n",
    "from sklearn.linear_model import LinearRegression, Lasso, Ridge"
   ]
  },
  {
   "cell_type": "code",
   "execution_count": 2,
   "metadata": {},
   "outputs": [
    {
     "data": {
      "text/html": [
       "<div>\n",
       "<style scoped>\n",
       "    .dataframe tbody tr th:only-of-type {\n",
       "        vertical-align: middle;\n",
       "    }\n",
       "\n",
       "    .dataframe tbody tr th {\n",
       "        vertical-align: top;\n",
       "    }\n",
       "\n",
       "    .dataframe thead th {\n",
       "        text-align: right;\n",
       "    }\n",
       "</style>\n",
       "<table border=\"1\" class=\"dataframe\">\n",
       "  <thead>\n",
       "    <tr style=\"text-align: right;\">\n",
       "      <th></th>\n",
       "      <th>Location</th>\n",
       "      <th>Year</th>\n",
       "      <th>Kilometers_Driven</th>\n",
       "      <th>Fuel_Type</th>\n",
       "      <th>Transmission</th>\n",
       "      <th>Owner_Type</th>\n",
       "      <th>Seats</th>\n",
       "      <th>Price</th>\n",
       "      <th>Brand</th>\n",
       "      <th>Series</th>\n",
       "      <th>Type</th>\n",
       "      <th>Mileage (kmpl)</th>\n",
       "      <th>Engine (CC)</th>\n",
       "      <th>Power (bhp)</th>\n",
       "    </tr>\n",
       "  </thead>\n",
       "  <tbody>\n",
       "    <tr>\n",
       "      <th>0</th>\n",
       "      <td>Mumbai</td>\n",
       "      <td>2010</td>\n",
       "      <td>72000</td>\n",
       "      <td>CNG</td>\n",
       "      <td>Manual</td>\n",
       "      <td>First</td>\n",
       "      <td>5.0</td>\n",
       "      <td>1.75</td>\n",
       "      <td>Maruti</td>\n",
       "      <td>Wagon</td>\n",
       "      <td>R</td>\n",
       "      <td>26.60</td>\n",
       "      <td>998.0</td>\n",
       "      <td>58.16</td>\n",
       "    </tr>\n",
       "    <tr>\n",
       "      <th>1</th>\n",
       "      <td>Pune</td>\n",
       "      <td>2015</td>\n",
       "      <td>41000</td>\n",
       "      <td>Diesel</td>\n",
       "      <td>Manual</td>\n",
       "      <td>First</td>\n",
       "      <td>5.0</td>\n",
       "      <td>12.50</td>\n",
       "      <td>Hyundai</td>\n",
       "      <td>Creta</td>\n",
       "      <td>1.6</td>\n",
       "      <td>19.67</td>\n",
       "      <td>1582.0</td>\n",
       "      <td>126.20</td>\n",
       "    </tr>\n",
       "    <tr>\n",
       "      <th>2</th>\n",
       "      <td>Chennai</td>\n",
       "      <td>2011</td>\n",
       "      <td>46000</td>\n",
       "      <td>Petrol</td>\n",
       "      <td>Manual</td>\n",
       "      <td>First</td>\n",
       "      <td>5.0</td>\n",
       "      <td>4.50</td>\n",
       "      <td>Honda</td>\n",
       "      <td>Jazz</td>\n",
       "      <td>V</td>\n",
       "      <td>18.20</td>\n",
       "      <td>1199.0</td>\n",
       "      <td>88.70</td>\n",
       "    </tr>\n",
       "    <tr>\n",
       "      <th>3</th>\n",
       "      <td>Chennai</td>\n",
       "      <td>2012</td>\n",
       "      <td>87000</td>\n",
       "      <td>Diesel</td>\n",
       "      <td>Manual</td>\n",
       "      <td>First</td>\n",
       "      <td>7.0</td>\n",
       "      <td>6.00</td>\n",
       "      <td>Maruti</td>\n",
       "      <td>Ertiga</td>\n",
       "      <td>VDI</td>\n",
       "      <td>20.77</td>\n",
       "      <td>1248.0</td>\n",
       "      <td>88.76</td>\n",
       "    </tr>\n",
       "    <tr>\n",
       "      <th>4</th>\n",
       "      <td>Coimbatore</td>\n",
       "      <td>2013</td>\n",
       "      <td>40670</td>\n",
       "      <td>Diesel</td>\n",
       "      <td>Automatic</td>\n",
       "      <td>Second</td>\n",
       "      <td>5.0</td>\n",
       "      <td>17.74</td>\n",
       "      <td>Audi</td>\n",
       "      <td>A4</td>\n",
       "      <td>New</td>\n",
       "      <td>15.20</td>\n",
       "      <td>1968.0</td>\n",
       "      <td>140.80</td>\n",
       "    </tr>\n",
       "  </tbody>\n",
       "</table>\n",
       "</div>"
      ],
      "text/plain": [
       "     Location  Year  Kilometers_Driven Fuel_Type Transmission Owner_Type  \\\n",
       "0      Mumbai  2010              72000       CNG       Manual      First   \n",
       "1        Pune  2015              41000    Diesel       Manual      First   \n",
       "2     Chennai  2011              46000    Petrol       Manual      First   \n",
       "3     Chennai  2012              87000    Diesel       Manual      First   \n",
       "4  Coimbatore  2013              40670    Diesel    Automatic     Second   \n",
       "\n",
       "   Seats  Price    Brand  Series Type  Mileage (kmpl)  Engine (CC)  \\\n",
       "0    5.0   1.75   Maruti   Wagon    R           26.60        998.0   \n",
       "1    5.0  12.50  Hyundai   Creta  1.6           19.67       1582.0   \n",
       "2    5.0   4.50    Honda    Jazz    V           18.20       1199.0   \n",
       "3    7.0   6.00   Maruti  Ertiga  VDI           20.77       1248.0   \n",
       "4    5.0  17.74     Audi      A4  New           15.20       1968.0   \n",
       "\n",
       "   Power (bhp)  \n",
       "0        58.16  \n",
       "1       126.20  \n",
       "2        88.70  \n",
       "3        88.76  \n",
       "4       140.80  "
      ]
     },
     "execution_count": 2,
     "metadata": {},
     "output_type": "execute_result"
    }
   ],
   "source": [
    "df = pd.read_csv('../data/processed/after_prep.csv')\n",
    "df.head()"
   ]
  },
  {
   "cell_type": "code",
   "execution_count": 3,
   "metadata": {},
   "outputs": [
    {
     "name": "stdout",
     "output_type": "stream",
     "text": [
      "<class 'pandas.core.frame.DataFrame'>\n",
      "RangeIndex: 6019 entries, 0 to 6018\n",
      "Data columns (total 14 columns):\n",
      " #   Column             Non-Null Count  Dtype  \n",
      "---  ------             --------------  -----  \n",
      " 0   Location           6019 non-null   object \n",
      " 1   Year               6019 non-null   int64  \n",
      " 2   Kilometers_Driven  6019 non-null   int64  \n",
      " 3   Fuel_Type          6019 non-null   object \n",
      " 4   Transmission       6019 non-null   object \n",
      " 5   Owner_Type         6019 non-null   object \n",
      " 6   Seats              5976 non-null   float64\n",
      " 7   Price              6019 non-null   float64\n",
      " 8   Brand              6019 non-null   object \n",
      " 9   Series             6019 non-null   object \n",
      " 10  Type               6019 non-null   object \n",
      " 11  Mileage (kmpl)     5951 non-null   float64\n",
      " 12  Engine (CC)        5983 non-null   float64\n",
      " 13  Power (bhp)        5876 non-null   float64\n",
      "dtypes: float64(5), int64(2), object(7)\n",
      "memory usage: 658.5+ KB\n"
     ]
    }
   ],
   "source": [
    "df.info()"
   ]
  },
  {
   "cell_type": "markdown",
   "metadata": {
    "id": "g1GS1AAUZIt9"
   },
   "source": [
    "# Preprocessing"
   ]
  },
  {
   "cell_type": "code",
   "execution_count": 4,
   "metadata": {
    "execution": {
     "iopub.execute_input": "2020-10-08T14:24:34.751690Z",
     "iopub.status.busy": "2020-10-08T14:24:34.751690Z",
     "iopub.status.idle": "2020-10-08T14:24:34.765663Z",
     "shell.execute_reply": "2020-10-08T14:24:34.762660Z",
     "shell.execute_reply.started": "2020-10-08T14:24:34.751690Z"
    },
    "id": "INV8VvOYZItN"
   },
   "outputs": [
    {
     "data": {
      "text/plain": [
       "(6018, 14)"
      ]
     },
     "execution_count": 4,
     "metadata": {},
     "output_type": "execute_result"
    }
   ],
   "source": [
    "# Delete outlier\n",
    "df = df[~(df.Kilometers_Driven > 1e6)]\n",
    "df.shape"
   ]
  },
  {
   "cell_type": "code",
   "execution_count": 5,
   "metadata": {
    "id": "TYqvFHW1HqFX"
   },
   "outputs": [
    {
     "data": {
      "text/html": [
       "<div>\n",
       "<style scoped>\n",
       "    .dataframe tbody tr th:only-of-type {\n",
       "        vertical-align: middle;\n",
       "    }\n",
       "\n",
       "    .dataframe tbody tr th {\n",
       "        vertical-align: top;\n",
       "    }\n",
       "\n",
       "    .dataframe thead th {\n",
       "        text-align: right;\n",
       "    }\n",
       "</style>\n",
       "<table border=\"1\" class=\"dataframe\">\n",
       "  <thead>\n",
       "    <tr style=\"text-align: right;\">\n",
       "      <th></th>\n",
       "      <th>null (sum)</th>\n",
       "      <th>null (%)</th>\n",
       "    </tr>\n",
       "  </thead>\n",
       "  <tbody>\n",
       "    <tr>\n",
       "      <th>Location</th>\n",
       "      <td>0</td>\n",
       "      <td>0.0</td>\n",
       "    </tr>\n",
       "    <tr>\n",
       "      <th>Year</th>\n",
       "      <td>0</td>\n",
       "      <td>0.0</td>\n",
       "    </tr>\n",
       "    <tr>\n",
       "      <th>Kilometers_Driven</th>\n",
       "      <td>0</td>\n",
       "      <td>0.0</td>\n",
       "    </tr>\n",
       "    <tr>\n",
       "      <th>Fuel_Type</th>\n",
       "      <td>0</td>\n",
       "      <td>0.0</td>\n",
       "    </tr>\n",
       "    <tr>\n",
       "      <th>Transmission</th>\n",
       "      <td>0</td>\n",
       "      <td>0.0</td>\n",
       "    </tr>\n",
       "    <tr>\n",
       "      <th>Owner_Type</th>\n",
       "      <td>0</td>\n",
       "      <td>0.0</td>\n",
       "    </tr>\n",
       "    <tr>\n",
       "      <th>Seats</th>\n",
       "      <td>0</td>\n",
       "      <td>0.0</td>\n",
       "    </tr>\n",
       "    <tr>\n",
       "      <th>Price</th>\n",
       "      <td>0</td>\n",
       "      <td>0.0</td>\n",
       "    </tr>\n",
       "    <tr>\n",
       "      <th>Brand</th>\n",
       "      <td>0</td>\n",
       "      <td>0.0</td>\n",
       "    </tr>\n",
       "    <tr>\n",
       "      <th>Series</th>\n",
       "      <td>0</td>\n",
       "      <td>0.0</td>\n",
       "    </tr>\n",
       "    <tr>\n",
       "      <th>Type</th>\n",
       "      <td>0</td>\n",
       "      <td>0.0</td>\n",
       "    </tr>\n",
       "    <tr>\n",
       "      <th>Mileage (kmpl)</th>\n",
       "      <td>0</td>\n",
       "      <td>0.0</td>\n",
       "    </tr>\n",
       "    <tr>\n",
       "      <th>Engine (CC)</th>\n",
       "      <td>0</td>\n",
       "      <td>0.0</td>\n",
       "    </tr>\n",
       "    <tr>\n",
       "      <th>Power (bhp)</th>\n",
       "      <td>0</td>\n",
       "      <td>0.0</td>\n",
       "    </tr>\n",
       "  </tbody>\n",
       "</table>\n",
       "</div>"
      ],
      "text/plain": [
       "                   null (sum)  null (%)\n",
       "Location                    0       0.0\n",
       "Year                        0       0.0\n",
       "Kilometers_Driven           0       0.0\n",
       "Fuel_Type                   0       0.0\n",
       "Transmission                0       0.0\n",
       "Owner_Type                  0       0.0\n",
       "Seats                       0       0.0\n",
       "Price                       0       0.0\n",
       "Brand                       0       0.0\n",
       "Series                      0       0.0\n",
       "Type                        0       0.0\n",
       "Mileage (kmpl)              0       0.0\n",
       "Engine (CC)                 0       0.0\n",
       "Power (bhp)                 0       0.0"
      ]
     },
     "execution_count": 5,
     "metadata": {},
     "output_type": "execute_result"
    }
   ],
   "source": [
    "# Drop missing values\n",
    "df= df.dropna()\n",
    "null_checker(df)"
   ]
  },
  {
   "cell_type": "markdown",
   "metadata": {
    "id": "yEgVyyNSZIt9"
   },
   "source": [
    "## Train test split"
   ]
  },
  {
   "cell_type": "code",
   "execution_count": 6,
   "metadata": {
    "execution": {
     "iopub.execute_input": "2020-10-08T14:24:51.747335Z",
     "iopub.status.busy": "2020-10-08T14:24:51.747335Z",
     "iopub.status.idle": "2020-10-08T14:24:51.759305Z",
     "shell.execute_reply": "2020-10-08T14:24:51.757306Z",
     "shell.execute_reply.started": "2020-10-08T14:24:51.747335Z"
    },
    "id": "nPxFt6bSZIt-",
    "outputId": "50d71945-3c1c-4fe9-bb86-b9ae483a319b"
   },
   "outputs": [],
   "source": [
    "# melakukan train test split di awal untuk mencegah data leakage\n",
    "X = df.drop(columns=['Price'])\n",
    "y = df['Price']\n",
    "X_train, X_test, y_train, y_test = train_test_split(X, y, test_size=0.25, random_state=0)"
   ]
  },
  {
   "cell_type": "markdown",
   "metadata": {
    "id": "oxqsMHrKZIuA"
   },
   "source": [
    "## Encoding"
   ]
  },
  {
   "cell_type": "code",
   "execution_count": 7,
   "metadata": {},
   "outputs": [],
   "source": [
    "# Define category mapping for label encoding\n",
    "mapping_owner = {\n",
    "    'First': 1, \n",
    "    'Second': 2, \n",
    "    'Third': 3, \n",
    "    'Fourth & Above': 4\n",
    "}\n",
    "mapping_trans = {\n",
    "    'Manual': 0, \n",
    "    'Automatic': 1, \n",
    "}\n",
    "\n",
    "# Encoding train set\n",
    "X_train[\"Owner_Type\"] = X_train[\"Owner_Type\"].map(mapping_owner)\n",
    "X_train[\"Transmission\"] = X_train[\"Transmission\"].map(mapping_trans)\n",
    "# Encoding test set\n",
    "X_test[\"Owner_Type\"] = X_test[\"Owner_Type\"].map(mapping_owner)\n",
    "X_test[\"Transmission\"] = X_test[\"Transmission\"].map(mapping_trans)"
   ]
  },
  {
   "cell_type": "code",
   "execution_count": 8,
   "metadata": {
    "execution": {
     "iopub.execute_input": "2020-10-08T14:24:52.214085Z",
     "iopub.status.busy": "2020-10-08T14:24:52.213088Z",
     "iopub.status.idle": "2020-10-08T14:24:52.385628Z",
     "shell.execute_reply": "2020-10-08T14:24:52.384657Z",
     "shell.execute_reply.started": "2020-10-08T14:24:52.213088Z"
    },
    "id": "kcMLnvJxZIuD"
   },
   "outputs": [],
   "source": [
    "# One hot encoding for low cardinality feature + Brand\n",
    "col_to_encode = ['Location', 'Fuel_Type', 'Brand']\n",
    "oh_encoder = ce.OneHotEncoder(cols=col_to_encode,\n",
    "                              use_cat_names=True)\n",
    "oh_encoder.fit(X_train)\n",
    "\n",
    "# Encoding train set\n",
    "X_train = oh_encoder.transform(X_train)\n",
    "# Encoding test set\n",
    "X_test = oh_encoder.transform(X_test)"
   ]
  },
  {
   "cell_type": "code",
   "execution_count": 9,
   "metadata": {},
   "outputs": [],
   "source": [
    "# Target encoding for high cardinality feature\n",
    "col_to_encode = X_train.select_dtypes(\"object\").columns\n",
    "encoder = ce.TargetEncoder(cols=col_to_encode)\n",
    "encoder.fit(X_train, y_train)\n",
    "\n",
    "# Encoding train set\n",
    "X_train = encoder.transform(X_train)\n",
    "# Encoding test set\n",
    "X_test = encoder.transform(X_test)"
   ]
  },
  {
   "cell_type": "markdown",
   "metadata": {
    "id": "bw10NXJkIuLs"
   },
   "source": [
    "## Feature Selection"
   ]
  },
  {
   "cell_type": "code",
   "execution_count": 10,
   "metadata": {
    "id": "7u-fc0svIuLt"
   },
   "outputs": [],
   "source": [
    "# Memfilter feature dengan korelasi tinggi\n",
    "corr_price = X_train.join(y_train).corr()['Price']\n",
    "index = corr_price[(corr_price < -0.20) | (corr_price > 0.20)].index\n",
    "\n",
    "X_train =  X_train[index[:-1]]\n",
    "X_test = X_test[index[:-1]]"
   ]
  },
  {
   "cell_type": "markdown",
   "metadata": {
    "id": "wV2sjkqEZIup"
   },
   "source": [
    "# Modeling"
   ]
  },
  {
   "cell_type": "code",
   "execution_count": 11,
   "metadata": {
    "execution": {
     "iopub.execute_input": "2020-10-08T15:10:17.976797Z",
     "iopub.status.busy": "2020-10-08T15:10:17.975799Z",
     "iopub.status.idle": "2020-10-08T15:10:17.988765Z",
     "shell.execute_reply": "2020-10-08T15:10:17.987767Z",
     "shell.execute_reply.started": "2020-10-08T15:10:17.976797Z"
    },
    "id": "Oux2OxeDZIu2"
   },
   "outputs": [],
   "source": [
    "tree_model = DecisionTreeRegressor()\n",
    "rf_model = RandomForestRegressor()\n",
    "xgb_model = XGBRegressor()\n",
    "lgb_model = LGBMRegressor()\n",
    "cat_model = CatBoostRegressor(silent=True)\n",
    "lr_model = LinearRegression()\n",
    "lasso_model = Lasso()\n",
    "ridge_model = Ridge()\n",
    "\n",
    "models = {'DecisionTree' : tree_model,\n",
    "          'RandomForest' : rf_model,\n",
    "          'XGBoost' : xgb_model,\n",
    "          'CatBoost' : cat_model,\n",
    "          'LightGBM' : lgb_model,\n",
    "          'Linear': lr_model,\n",
    "          'Lasso': lasso_model,\n",
    "          'Ridge': ridge_model}"
   ]
  },
  {
   "cell_type": "markdown",
   "metadata": {
    "id": "kCSEOF35MoSB"
   },
   "source": [
    "### Unscaled dataset"
   ]
  },
  {
   "cell_type": "code",
   "execution_count": 12,
   "metadata": {
    "colab": {
     "base_uri": "https://localhost:8080/",
     "height": 297
    },
    "executionInfo": {
     "elapsed": 38364,
     "status": "ok",
     "timestamp": 1602353945658,
     "user": {
      "displayName": "Abdillah Fikri",
      "photoUrl": "",
      "userId": "04470220666512949031"
     },
     "user_tz": -420
    },
    "id": "DgfsmUm-HqGG",
    "outputId": "890d1059-fe50-4ed7-87d9-16413c775534"
   },
   "outputs": [],
   "source": [
    "# evaluasi model memakai function\n",
    "unscaled = evaluate_model(models, X_train, X_test, y_train, y_test)"
   ]
  },
  {
   "cell_type": "markdown",
   "metadata": {
    "id": "AodaQJBNMtob"
   },
   "source": [
    "### Scaled dataset"
   ]
  },
  {
   "cell_type": "code",
   "execution_count": 13,
   "metadata": {
    "id": "2lQZQbORMwYB"
   },
   "outputs": [],
   "source": [
    "# Scaling data\n",
    "from sklearn.preprocessing import RobustScaler\n",
    "\n",
    "scaler = RobustScaler()\n",
    "scaler.fit(X_train)\n",
    "X_train_scaled = scaler.transform(X_train)\n",
    "X_test_scaled = scaler.transform(X_test)"
   ]
  },
  {
   "cell_type": "code",
   "execution_count": 14,
   "metadata": {
    "colab": {
     "base_uri": "https://localhost:8080/",
     "height": 297
    },
    "executionInfo": {
     "elapsed": 81010,
     "status": "ok",
     "timestamp": 1602353988430,
     "user": {
      "displayName": "Abdillah Fikri",
      "photoUrl": "",
      "userId": "04470220666512949031"
     },
     "user_tz": -420
    },
    "id": "58C87fQHNRII",
    "outputId": "90af7df3-a745-4722-d77d-53f144212a91"
   },
   "outputs": [],
   "source": [
    "# evaluasi model memakai function\n",
    "scaled = evaluate_model(models, X_train_scaled, X_test_scaled, y_train, y_test)"
   ]
  },
  {
   "cell_type": "markdown",
   "metadata": {},
   "source": [
    "### Summarizing"
   ]
  },
  {
   "cell_type": "code",
   "execution_count": 15,
   "metadata": {},
   "outputs": [],
   "source": [
    "unscaled['Dataset Version'] = 'dropna + selected + unscaled'\n",
    "scaled['Dataset Version'] = 'dropna + selected + scaled'"
   ]
  },
  {
   "cell_type": "code",
   "execution_count": 16,
   "metadata": {},
   "outputs": [
    {
     "data": {
      "text/html": [
       "<div>\n",
       "<style scoped>\n",
       "    .dataframe tbody tr th:only-of-type {\n",
       "        vertical-align: middle;\n",
       "    }\n",
       "\n",
       "    .dataframe tbody tr th {\n",
       "        vertical-align: top;\n",
       "    }\n",
       "\n",
       "    .dataframe thead th {\n",
       "        text-align: right;\n",
       "    }\n",
       "</style>\n",
       "<table border=\"1\" class=\"dataframe\">\n",
       "  <thead>\n",
       "    <tr style=\"text-align: right;\">\n",
       "      <th></th>\n",
       "      <th>Fit Time</th>\n",
       "      <th>Train R2</th>\n",
       "      <th>CV R2</th>\n",
       "      <th>Test R2</th>\n",
       "      <th>Train RMSE</th>\n",
       "      <th>CV RMSE</th>\n",
       "      <th>Test RMSE</th>\n",
       "      <th>Dataset Version</th>\n",
       "    </tr>\n",
       "    <tr>\n",
       "      <th>Model</th>\n",
       "      <th></th>\n",
       "      <th></th>\n",
       "      <th></th>\n",
       "      <th></th>\n",
       "      <th></th>\n",
       "      <th></th>\n",
       "      <th></th>\n",
       "      <th></th>\n",
       "    </tr>\n",
       "  </thead>\n",
       "  <tbody>\n",
       "    <tr>\n",
       "      <th>LightGBM</th>\n",
       "      <td>0.1773</td>\n",
       "      <td>0.9561</td>\n",
       "      <td>0.9031</td>\n",
       "      <td>0.8824</td>\n",
       "      <td>2.2947</td>\n",
       "      <td>3.3883</td>\n",
       "      <td>4.0274</td>\n",
       "      <td>dropna + selected + unscaled</td>\n",
       "    </tr>\n",
       "    <tr>\n",
       "      <th>CatBoost</th>\n",
       "      <td>3.4547</td>\n",
       "      <td>0.9799</td>\n",
       "      <td>0.9020</td>\n",
       "      <td>0.9119</td>\n",
       "      <td>1.5554</td>\n",
       "      <td>3.3884</td>\n",
       "      <td>3.4853</td>\n",
       "      <td>dropna + selected + unscaled</td>\n",
       "    </tr>\n",
       "    <tr>\n",
       "      <th>RandomForest</th>\n",
       "      <td>1.3959</td>\n",
       "      <td>0.9783</td>\n",
       "      <td>0.9007</td>\n",
       "      <td>0.8797</td>\n",
       "      <td>1.6140</td>\n",
       "      <td>3.4205</td>\n",
       "      <td>4.0724</td>\n",
       "      <td>dropna + selected + unscaled</td>\n",
       "    </tr>\n",
       "    <tr>\n",
       "      <th>XGBoost</th>\n",
       "      <td>0.2003</td>\n",
       "      <td>0.9866</td>\n",
       "      <td>0.8763</td>\n",
       "      <td>0.8723</td>\n",
       "      <td>1.2692</td>\n",
       "      <td>3.8017</td>\n",
       "      <td>4.1964</td>\n",
       "      <td>dropna + selected + unscaled</td>\n",
       "    </tr>\n",
       "    <tr>\n",
       "      <th>DecisionTree</th>\n",
       "      <td>0.0237</td>\n",
       "      <td>0.9897</td>\n",
       "      <td>0.8458</td>\n",
       "      <td>0.7906</td>\n",
       "      <td>1.1131</td>\n",
       "      <td>4.2085</td>\n",
       "      <td>5.3736</td>\n",
       "      <td>dropna + selected + unscaled</td>\n",
       "    </tr>\n",
       "    <tr>\n",
       "      <th>Ridge</th>\n",
       "      <td>0.0041</td>\n",
       "      <td>0.8028</td>\n",
       "      <td>0.7990</td>\n",
       "      <td>0.7537</td>\n",
       "      <td>4.8667</td>\n",
       "      <td>4.9071</td>\n",
       "      <td>5.8284</td>\n",
       "      <td>dropna + selected + unscaled</td>\n",
       "    </tr>\n",
       "    <tr>\n",
       "      <th>Linear</th>\n",
       "      <td>0.0112</td>\n",
       "      <td>0.8028</td>\n",
       "      <td>0.7989</td>\n",
       "      <td>0.7536</td>\n",
       "      <td>4.8666</td>\n",
       "      <td>4.9086</td>\n",
       "      <td>5.8289</td>\n",
       "      <td>dropna + selected + unscaled</td>\n",
       "    </tr>\n",
       "    <tr>\n",
       "      <th>Lasso</th>\n",
       "      <td>0.0068</td>\n",
       "      <td>0.7979</td>\n",
       "      <td>0.7975</td>\n",
       "      <td>0.7479</td>\n",
       "      <td>4.9266</td>\n",
       "      <td>4.9249</td>\n",
       "      <td>5.8966</td>\n",
       "      <td>dropna + selected + unscaled</td>\n",
       "    </tr>\n",
       "    <tr>\n",
       "      <th>CatBoost</th>\n",
       "      <td>2.9900</td>\n",
       "      <td>0.9799</td>\n",
       "      <td>0.9021</td>\n",
       "      <td>0.9119</td>\n",
       "      <td>1.5554</td>\n",
       "      <td>3.3883</td>\n",
       "      <td>3.4853</td>\n",
       "      <td>dropna + selected + scaled</td>\n",
       "    </tr>\n",
       "    <tr>\n",
       "      <th>LightGBM</th>\n",
       "      <td>0.1845</td>\n",
       "      <td>0.9564</td>\n",
       "      <td>0.9016</td>\n",
       "      <td>0.8816</td>\n",
       "      <td>2.2874</td>\n",
       "      <td>3.4130</td>\n",
       "      <td>4.0407</td>\n",
       "      <td>dropna + selected + scaled</td>\n",
       "    </tr>\n",
       "    <tr>\n",
       "      <th>RandomForest</th>\n",
       "      <td>1.3978</td>\n",
       "      <td>0.9773</td>\n",
       "      <td>0.8954</td>\n",
       "      <td>0.8821</td>\n",
       "      <td>1.6500</td>\n",
       "      <td>3.4992</td>\n",
       "      <td>4.0325</td>\n",
       "      <td>dropna + selected + scaled</td>\n",
       "    </tr>\n",
       "    <tr>\n",
       "      <th>XGBoost</th>\n",
       "      <td>0.2302</td>\n",
       "      <td>0.9866</td>\n",
       "      <td>0.8763</td>\n",
       "      <td>0.8723</td>\n",
       "      <td>1.2692</td>\n",
       "      <td>3.8020</td>\n",
       "      <td>4.1971</td>\n",
       "      <td>dropna + selected + scaled</td>\n",
       "    </tr>\n",
       "    <tr>\n",
       "      <th>DecisionTree</th>\n",
       "      <td>0.0265</td>\n",
       "      <td>0.9897</td>\n",
       "      <td>0.8408</td>\n",
       "      <td>0.7629</td>\n",
       "      <td>1.1131</td>\n",
       "      <td>4.2972</td>\n",
       "      <td>5.7184</td>\n",
       "      <td>dropna + selected + scaled</td>\n",
       "    </tr>\n",
       "    <tr>\n",
       "      <th>Ridge</th>\n",
       "      <td>0.0022</td>\n",
       "      <td>0.8028</td>\n",
       "      <td>0.7990</td>\n",
       "      <td>0.7536</td>\n",
       "      <td>4.8667</td>\n",
       "      <td>4.9070</td>\n",
       "      <td>5.8288</td>\n",
       "      <td>dropna + selected + scaled</td>\n",
       "    </tr>\n",
       "    <tr>\n",
       "      <th>Linear</th>\n",
       "      <td>0.0058</td>\n",
       "      <td>0.8028</td>\n",
       "      <td>0.7989</td>\n",
       "      <td>0.7536</td>\n",
       "      <td>4.8666</td>\n",
       "      <td>4.9086</td>\n",
       "      <td>5.8289</td>\n",
       "      <td>dropna + selected + scaled</td>\n",
       "    </tr>\n",
       "    <tr>\n",
       "      <th>Lasso</th>\n",
       "      <td>0.0052</td>\n",
       "      <td>0.7688</td>\n",
       "      <td>0.7677</td>\n",
       "      <td>0.6848</td>\n",
       "      <td>5.2688</td>\n",
       "      <td>5.2659</td>\n",
       "      <td>6.5929</td>\n",
       "      <td>dropna + selected + scaled</td>\n",
       "    </tr>\n",
       "  </tbody>\n",
       "</table>\n",
       "</div>"
      ],
      "text/plain": [
       "              Fit Time  Train R2   CV R2  Test R2  Train RMSE  CV RMSE  \\\n",
       "Model                                                                    \n",
       "LightGBM        0.1773    0.9561  0.9031   0.8824      2.2947   3.3883   \n",
       "CatBoost        3.4547    0.9799  0.9020   0.9119      1.5554   3.3884   \n",
       "RandomForest    1.3959    0.9783  0.9007   0.8797      1.6140   3.4205   \n",
       "XGBoost         0.2003    0.9866  0.8763   0.8723      1.2692   3.8017   \n",
       "DecisionTree    0.0237    0.9897  0.8458   0.7906      1.1131   4.2085   \n",
       "Ridge           0.0041    0.8028  0.7990   0.7537      4.8667   4.9071   \n",
       "Linear          0.0112    0.8028  0.7989   0.7536      4.8666   4.9086   \n",
       "Lasso           0.0068    0.7979  0.7975   0.7479      4.9266   4.9249   \n",
       "CatBoost        2.9900    0.9799  0.9021   0.9119      1.5554   3.3883   \n",
       "LightGBM        0.1845    0.9564  0.9016   0.8816      2.2874   3.4130   \n",
       "RandomForest    1.3978    0.9773  0.8954   0.8821      1.6500   3.4992   \n",
       "XGBoost         0.2302    0.9866  0.8763   0.8723      1.2692   3.8020   \n",
       "DecisionTree    0.0265    0.9897  0.8408   0.7629      1.1131   4.2972   \n",
       "Ridge           0.0022    0.8028  0.7990   0.7536      4.8667   4.9070   \n",
       "Linear          0.0058    0.8028  0.7989   0.7536      4.8666   4.9086   \n",
       "Lasso           0.0052    0.7688  0.7677   0.6848      5.2688   5.2659   \n",
       "\n",
       "              Test RMSE               Dataset Version  \n",
       "Model                                                  \n",
       "LightGBM         4.0274  dropna + selected + unscaled  \n",
       "CatBoost         3.4853  dropna + selected + unscaled  \n",
       "RandomForest     4.0724  dropna + selected + unscaled  \n",
       "XGBoost          4.1964  dropna + selected + unscaled  \n",
       "DecisionTree     5.3736  dropna + selected + unscaled  \n",
       "Ridge            5.8284  dropna + selected + unscaled  \n",
       "Linear           5.8289  dropna + selected + unscaled  \n",
       "Lasso            5.8966  dropna + selected + unscaled  \n",
       "CatBoost         3.4853    dropna + selected + scaled  \n",
       "LightGBM         4.0407    dropna + selected + scaled  \n",
       "RandomForest     4.0325    dropna + selected + scaled  \n",
       "XGBoost          4.1971    dropna + selected + scaled  \n",
       "DecisionTree     5.7184    dropna + selected + scaled  \n",
       "Ridge            5.8288    dropna + selected + scaled  \n",
       "Linear           5.8289    dropna + selected + scaled  \n",
       "Lasso            6.5929    dropna + selected + scaled  "
      ]
     },
     "execution_count": 16,
     "metadata": {},
     "output_type": "execute_result"
    }
   ],
   "source": [
    "dropna_selected = pd.concat([unscaled, scaled], axis=0)\n",
    "dropna_selected"
   ]
  },
  {
   "cell_type": "code",
   "execution_count": 17,
   "metadata": {},
   "outputs": [],
   "source": [
    "dropna_selected.to_csv('../data/processed/summary_dropna_selected.csv')"
   ]
  }
 ],
 "metadata": {
  "colab": {
   "collapsed_sections": [],
   "name": "Modeling_dropna_selected_features.ipynb",
   "provenance": [
    {
     "file_id": "1NgCHIKsxmWD4jCur1sU6c3ASdRZ-PE99",
     "timestamp": 1602317956566
    }
   ],
   "toc_visible": true
  },
  "deepnote_execution_queue": [],
  "deepnote_notebook_id": "7e6ba86d-f2b0-4a20-b936-811e696ed5ab",
  "jupytext": {
   "formats": "notebooks//ipynb,markdown//md,scripts//py:percent"
  },
  "kernelspec": {
   "display_name": "Python 3.8.5 64-bit ('ds_env': conda)",
   "metadata": {
    "interpreter": {
     "hash": "9147bcb9e0785203a659ab3390718fd781c9994811db246717fd6ffdcf1dd807"
    }
   },
   "name": "Python 3.8.5 64-bit ('ds_env': conda)"
  },
  "language_info": {
   "codemirror_mode": {
    "name": "ipython",
    "version": 3
   },
   "file_extension": ".py",
   "mimetype": "text/x-python",
   "name": "python",
   "nbconvert_exporter": "python",
   "pygments_lexer": "ipython3",
   "version": "3.8.5-final"
  },
  "toc-autonumbering": true,
  "toc-showcode": false,
  "toc-showmarkdowntxt": false,
  "toc-showtags": false
 },
 "nbformat": 4,
 "nbformat_minor": 4
}
