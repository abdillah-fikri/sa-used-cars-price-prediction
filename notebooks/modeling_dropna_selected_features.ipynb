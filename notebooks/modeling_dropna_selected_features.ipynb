{
 "cells": [
  {
   "cell_type": "markdown",
   "metadata": {
    "id": "IN1jfOnfZIqT"
   },
   "source": [
    "# Data Importing"
   ]
  },
  {
   "cell_type": "code",
   "execution_count": 1,
   "metadata": {
    "execution": {
     "iopub.execute_input": "2020-10-08T14:24:16.108907Z",
     "iopub.status.busy": "2020-10-08T14:24:16.107910Z",
     "iopub.status.idle": "2020-10-08T14:24:21.655591Z",
     "shell.execute_reply": "2020-10-08T14:24:21.651602Z",
     "shell.execute_reply.started": "2020-10-08T14:24:16.108907Z"
    },
    "id": "vBMQYoVFZIqV"
   },
   "outputs": [],
   "source": [
    "import pandas as pd\n",
    "import numpy as np\n",
    "import category_encoders as ce\n",
    "import miceforest as mf\n",
    "import optuna\n",
    "import lightgbm as lgb\n",
    "import xgboost as xgb\n",
    "\n",
    "from utils import *\n",
    "from sklearn.model_selection import train_test_split, cross_val_score, cross_validate, KFold\n",
    "from sklearn.tree import DecisionTreeRegressor\n",
    "from xgboost import XGBRegressor\n",
    "from lightgbm import LGBMRegressor\n",
    "from catboost import CatBoostRegressor\n",
    "from sklearn.ensemble import RandomForestRegressor\n",
    "from sklearn.linear_model import LinearRegression, Lasso\n",
    "from sklearn import metrics\n",
    "from sklearn.impute import SimpleImputer"
   ]
  },
  {
   "cell_type": "code",
   "execution_count": 2,
   "metadata": {},
   "outputs": [
    {
     "output_type": "execute_result",
     "data": {
      "text/plain": [
       "     Location  Year  Kilometers_Driven Fuel_Type Transmission Owner_Type  \\\n",
       "0      Mumbai  2010              72000       CNG       Manual      First   \n",
       "1        Pune  2015              41000    Diesel       Manual      First   \n",
       "2     Chennai  2011              46000    Petrol       Manual      First   \n",
       "3     Chennai  2012              87000    Diesel       Manual      First   \n",
       "4  Coimbatore  2013              40670    Diesel    Automatic     Second   \n",
       "\n",
       "   Seats  Price    Brand  Series Type  Mileage (kmpl)  Engine (CC)  \\\n",
       "0    5.0   1.75   Maruti   Wagon    R           26.60        998.0   \n",
       "1    5.0  12.50  Hyundai   Creta  1.6           19.67       1582.0   \n",
       "2    5.0   4.50    Honda    Jazz    V           18.20       1199.0   \n",
       "3    7.0   6.00   Maruti  Ertiga  VDI           20.77       1248.0   \n",
       "4    5.0  17.74     Audi      A4  New           15.20       1968.0   \n",
       "\n",
       "   Power (bhp)  \n",
       "0        58.16  \n",
       "1       126.20  \n",
       "2        88.70  \n",
       "3        88.76  \n",
       "4       140.80  "
      ],
      "text/html": "<div>\n<style scoped>\n    .dataframe tbody tr th:only-of-type {\n        vertical-align: middle;\n    }\n\n    .dataframe tbody tr th {\n        vertical-align: top;\n    }\n\n    .dataframe thead th {\n        text-align: right;\n    }\n</style>\n<table border=\"1\" class=\"dataframe\">\n  <thead>\n    <tr style=\"text-align: right;\">\n      <th></th>\n      <th>Location</th>\n      <th>Year</th>\n      <th>Kilometers_Driven</th>\n      <th>Fuel_Type</th>\n      <th>Transmission</th>\n      <th>Owner_Type</th>\n      <th>Seats</th>\n      <th>Price</th>\n      <th>Brand</th>\n      <th>Series</th>\n      <th>Type</th>\n      <th>Mileage (kmpl)</th>\n      <th>Engine (CC)</th>\n      <th>Power (bhp)</th>\n    </tr>\n  </thead>\n  <tbody>\n    <tr>\n      <th>0</th>\n      <td>Mumbai</td>\n      <td>2010</td>\n      <td>72000</td>\n      <td>CNG</td>\n      <td>Manual</td>\n      <td>First</td>\n      <td>5.0</td>\n      <td>1.75</td>\n      <td>Maruti</td>\n      <td>Wagon</td>\n      <td>R</td>\n      <td>26.60</td>\n      <td>998.0</td>\n      <td>58.16</td>\n    </tr>\n    <tr>\n      <th>1</th>\n      <td>Pune</td>\n      <td>2015</td>\n      <td>41000</td>\n      <td>Diesel</td>\n      <td>Manual</td>\n      <td>First</td>\n      <td>5.0</td>\n      <td>12.50</td>\n      <td>Hyundai</td>\n      <td>Creta</td>\n      <td>1.6</td>\n      <td>19.67</td>\n      <td>1582.0</td>\n      <td>126.20</td>\n    </tr>\n    <tr>\n      <th>2</th>\n      <td>Chennai</td>\n      <td>2011</td>\n      <td>46000</td>\n      <td>Petrol</td>\n      <td>Manual</td>\n      <td>First</td>\n      <td>5.0</td>\n      <td>4.50</td>\n      <td>Honda</td>\n      <td>Jazz</td>\n      <td>V</td>\n      <td>18.20</td>\n      <td>1199.0</td>\n      <td>88.70</td>\n    </tr>\n    <tr>\n      <th>3</th>\n      <td>Chennai</td>\n      <td>2012</td>\n      <td>87000</td>\n      <td>Diesel</td>\n      <td>Manual</td>\n      <td>First</td>\n      <td>7.0</td>\n      <td>6.00</td>\n      <td>Maruti</td>\n      <td>Ertiga</td>\n      <td>VDI</td>\n      <td>20.77</td>\n      <td>1248.0</td>\n      <td>88.76</td>\n    </tr>\n    <tr>\n      <th>4</th>\n      <td>Coimbatore</td>\n      <td>2013</td>\n      <td>40670</td>\n      <td>Diesel</td>\n      <td>Automatic</td>\n      <td>Second</td>\n      <td>5.0</td>\n      <td>17.74</td>\n      <td>Audi</td>\n      <td>A4</td>\n      <td>New</td>\n      <td>15.20</td>\n      <td>1968.0</td>\n      <td>140.80</td>\n    </tr>\n  </tbody>\n</table>\n</div>"
     },
     "metadata": {},
     "execution_count": 2
    }
   ],
   "source": [
    "df = pd.read_csv('../data/processed/after_prep.csv')\n",
    "df.head()"
   ]
  },
  {
   "cell_type": "code",
   "execution_count": 3,
   "metadata": {},
   "outputs": [
    {
     "output_type": "stream",
     "name": "stdout",
     "text": [
      "<class 'pandas.core.frame.DataFrame'>\nRangeIndex: 6019 entries, 0 to 6018\nData columns (total 14 columns):\n #   Column             Non-Null Count  Dtype  \n---  ------             --------------  -----  \n 0   Location           6019 non-null   object \n 1   Year               6019 non-null   int64  \n 2   Kilometers_Driven  6019 non-null   int64  \n 3   Fuel_Type          6019 non-null   object \n 4   Transmission       6019 non-null   object \n 5   Owner_Type         6019 non-null   object \n 6   Seats              5976 non-null   float64\n 7   Price              6019 non-null   float64\n 8   Brand              6019 non-null   object \n 9   Series             6019 non-null   object \n 10  Type               6019 non-null   object \n 11  Mileage (kmpl)     5951 non-null   float64\n 12  Engine (CC)        5983 non-null   float64\n 13  Power (bhp)        5876 non-null   float64\ndtypes: float64(5), int64(2), object(7)\nmemory usage: 658.5+ KB\n"
     ]
    }
   ],
   "source": [
    "df.info()"
   ]
  },
  {
   "cell_type": "markdown",
   "metadata": {
    "id": "g1GS1AAUZIt9"
   },
   "source": [
    "# Preprocessing"
   ]
  },
  {
   "cell_type": "code",
   "execution_count": 4,
   "metadata": {
    "execution": {
     "iopub.execute_input": "2020-10-08T14:24:34.751690Z",
     "iopub.status.busy": "2020-10-08T14:24:34.751690Z",
     "iopub.status.idle": "2020-10-08T14:24:34.765663Z",
     "shell.execute_reply": "2020-10-08T14:24:34.762660Z",
     "shell.execute_reply.started": "2020-10-08T14:24:34.751690Z"
    },
    "id": "INV8VvOYZItN"
   },
   "outputs": [
    {
     "output_type": "execute_result",
     "data": {
      "text/plain": [
       "(6018, 14)"
      ]
     },
     "metadata": {},
     "execution_count": 4
    }
   ],
   "source": [
    "# Delete outlier\n",
    "df = df[~(df.Kilometers_Driven > 1e6)]\n",
    "df.shape"
   ]
  },
  {
   "cell_type": "code",
   "execution_count": 5,
   "metadata": {
    "id": "TYqvFHW1HqFX"
   },
   "outputs": [
    {
     "output_type": "execute_result",
     "data": {
      "text/plain": [
       "                   null (sum)  null (%)\n",
       "Location                    0       0.0\n",
       "Year                        0       0.0\n",
       "Kilometers_Driven           0       0.0\n",
       "Fuel_Type                   0       0.0\n",
       "Transmission                0       0.0\n",
       "Owner_Type                  0       0.0\n",
       "Seats                       0       0.0\n",
       "Price                       0       0.0\n",
       "Brand                       0       0.0\n",
       "Series                      0       0.0\n",
       "Type                        0       0.0\n",
       "Mileage (kmpl)              0       0.0\n",
       "Engine (CC)                 0       0.0\n",
       "Power (bhp)                 0       0.0"
      ],
      "text/html": "<div>\n<style scoped>\n    .dataframe tbody tr th:only-of-type {\n        vertical-align: middle;\n    }\n\n    .dataframe tbody tr th {\n        vertical-align: top;\n    }\n\n    .dataframe thead th {\n        text-align: right;\n    }\n</style>\n<table border=\"1\" class=\"dataframe\">\n  <thead>\n    <tr style=\"text-align: right;\">\n      <th></th>\n      <th>null (sum)</th>\n      <th>null (%)</th>\n    </tr>\n  </thead>\n  <tbody>\n    <tr>\n      <th>Location</th>\n      <td>0</td>\n      <td>0.0</td>\n    </tr>\n    <tr>\n      <th>Year</th>\n      <td>0</td>\n      <td>0.0</td>\n    </tr>\n    <tr>\n      <th>Kilometers_Driven</th>\n      <td>0</td>\n      <td>0.0</td>\n    </tr>\n    <tr>\n      <th>Fuel_Type</th>\n      <td>0</td>\n      <td>0.0</td>\n    </tr>\n    <tr>\n      <th>Transmission</th>\n      <td>0</td>\n      <td>0.0</td>\n    </tr>\n    <tr>\n      <th>Owner_Type</th>\n      <td>0</td>\n      <td>0.0</td>\n    </tr>\n    <tr>\n      <th>Seats</th>\n      <td>0</td>\n      <td>0.0</td>\n    </tr>\n    <tr>\n      <th>Price</th>\n      <td>0</td>\n      <td>0.0</td>\n    </tr>\n    <tr>\n      <th>Brand</th>\n      <td>0</td>\n      <td>0.0</td>\n    </tr>\n    <tr>\n      <th>Series</th>\n      <td>0</td>\n      <td>0.0</td>\n    </tr>\n    <tr>\n      <th>Type</th>\n      <td>0</td>\n      <td>0.0</td>\n    </tr>\n    <tr>\n      <th>Mileage (kmpl)</th>\n      <td>0</td>\n      <td>0.0</td>\n    </tr>\n    <tr>\n      <th>Engine (CC)</th>\n      <td>0</td>\n      <td>0.0</td>\n    </tr>\n    <tr>\n      <th>Power (bhp)</th>\n      <td>0</td>\n      <td>0.0</td>\n    </tr>\n  </tbody>\n</table>\n</div>"
     },
     "metadata": {},
     "execution_count": 5
    }
   ],
   "source": [
    "# Drop missing values\n",
    "df= df.dropna()\n",
    "null_checker(df)"
   ]
  },
  {
   "cell_type": "markdown",
   "metadata": {
    "id": "yEgVyyNSZIt9"
   },
   "source": [
    "## Train test split"
   ]
  },
  {
   "cell_type": "code",
   "execution_count": 6,
   "metadata": {
    "execution": {
     "iopub.execute_input": "2020-10-08T14:24:51.747335Z",
     "iopub.status.busy": "2020-10-08T14:24:51.747335Z",
     "iopub.status.idle": "2020-10-08T14:24:51.759305Z",
     "shell.execute_reply": "2020-10-08T14:24:51.757306Z",
     "shell.execute_reply.started": "2020-10-08T14:24:51.747335Z"
    },
    "id": "nPxFt6bSZIt-",
    "outputId": "50d71945-3c1c-4fe9-bb86-b9ae483a319b"
   },
   "outputs": [],
   "source": [
    "# melakukan train test split di awal untuk mencegah data bocor ke test set saat dilakukan encoding/imputation\n",
    "features = df.drop(columns=['Price'])\n",
    "target = df['Price']\n",
    "X_train, X_test, y_train, y_test = train_test_split(features, target, test_size=0.25, random_state=0)"
   ]
  },
  {
   "cell_type": "markdown",
   "metadata": {
    "id": "oxqsMHrKZIuA"
   },
   "source": [
    "## Encoding"
   ]
  },
  {
   "cell_type": "code",
   "execution_count": 7,
   "metadata": {},
   "outputs": [],
   "source": [
    "# encodes = ['Location','Fuel_Type','Transmission','Owner_Type', 'Brand']\n",
    "# encoder = ce.OneHotEncoder(cols=encodes,\n",
    "#                           use_cat_names=True)\n",
    "# encoder.fit(X_train)\n",
    "\n",
    "# # encoding train set\n",
    "# X_train = encoder.transform(X_train)\n",
    "\n",
    "# # encoding test set\n",
    "# X_test = encoder.transform(X_test)"
   ]
  },
  {
   "cell_type": "code",
   "execution_count": 8,
   "metadata": {
    "execution": {
     "iopub.execute_input": "2020-10-08T14:24:52.214085Z",
     "iopub.status.busy": "2020-10-08T14:24:52.213088Z",
     "iopub.status.idle": "2020-10-08T14:24:52.385628Z",
     "shell.execute_reply": "2020-10-08T14:24:52.384657Z",
     "shell.execute_reply.started": "2020-10-08T14:24:52.213088Z"
    },
    "id": "kcMLnvJxZIuD"
   },
   "outputs": [],
   "source": [
    "# Target encoding\n",
    "col_to_encode = ['Series', 'Type', 'Location', 'Fuel_Type', 'Transmission', 'Owner_Type', 'Brand']\n",
    "target_encoder = ce.TargetEncoder(cols=col_to_encode)\n",
    "target_encoder.fit(X_train, y_train)\n",
    "\n",
    "# Encoding train set\n",
    "X_train = target_encoder.transform(X_train)\n",
    "# Encoding test set\n",
    "X_test = target_encoder.transform(X_test)"
   ]
  },
  {
   "cell_type": "markdown",
   "metadata": {
    "id": "bw10NXJkIuLs"
   },
   "source": [
    "## Feature Selection"
   ]
  },
  {
   "cell_type": "code",
   "execution_count": 9,
   "metadata": {
    "id": "7u-fc0svIuLt"
   },
   "outputs": [],
   "source": [
    "# Memfilter feature dengan korelasi tinggi\n",
    "corr_price = X_train.join(y_train).corr()['Price']\n",
    "index = corr_price[(corr_price < -0.20) | (corr_price > 0.20)].index\n",
    "\n",
    "X_train_selected = X_train[index[:-1]]\n",
    "X_test_selected = X_test[index[:-1]]"
   ]
  },
  {
   "cell_type": "code",
   "execution_count": 10,
   "metadata": {},
   "outputs": [
    {
     "output_type": "execute_result",
     "data": {
      "text/plain": [
       "(4383, 13)"
      ]
     },
     "metadata": {},
     "execution_count": 10
    }
   ],
   "source": [
    "X_train.shape"
   ]
  },
  {
   "cell_type": "code",
   "execution_count": 11,
   "metadata": {},
   "outputs": [
    {
     "output_type": "execute_result",
     "data": {
      "text/plain": [
       "(4383, 10)"
      ]
     },
     "metadata": {},
     "execution_count": 11
    }
   ],
   "source": [
    "X_train_selected.shape"
   ]
  },
  {
   "cell_type": "markdown",
   "metadata": {
    "id": "wV2sjkqEZIup"
   },
   "source": [
    "# Modeling"
   ]
  },
  {
   "cell_type": "markdown",
   "metadata": {
    "id": "4g_nWqotKl6_"
   },
   "source": [
    "## Functions"
   ]
  },
  {
   "cell_type": "code",
   "execution_count": 12,
   "metadata": {
    "execution": {
     "iopub.execute_input": "2020-10-08T14:26:01.181734Z",
     "iopub.status.busy": "2020-10-08T14:26:01.181734Z",
     "iopub.status.idle": "2020-10-08T14:26:01.202651Z",
     "shell.execute_reply": "2020-10-08T14:26:01.201684Z",
     "shell.execute_reply.started": "2020-10-08T14:26:01.181734Z"
    },
    "id": "Qp4QHIuFZIuq"
   },
   "outputs": [],
   "source": [
    "def get_cv_score(models, X_train, y_train):\n",
    "    \n",
    "    cv = KFold(n_splits=5, shuffle=True, random_state=0)\n",
    "    summary = []\n",
    "    for label, model in models.items():\n",
    "        cv_results = cross_validate(model, X_train, y_train, cv=cv, \n",
    "                                    scoring=['r2',\n",
    "                                             'neg_root_mean_squared_error',\n",
    "                                             'neg_mean_absolute_error'])\n",
    "        \n",
    "        temp = pd.DataFrame(cv_results).copy()\n",
    "        temp['Model'] = label\n",
    "        summary.append(temp)\n",
    "    \n",
    "    summary = pd.concat(summary)\n",
    "    summary = summary.groupby('Model').mean()\n",
    "    \n",
    "    summary.drop(columns=['fit_time', 'score_time'], inplace=True)\n",
    "    summary.columns = ['CV R2', 'CV RMSE', 'CV MAE']\n",
    "    summary[['CV RMSE', 'CV MAE']] = summary[['CV RMSE', 'CV MAE']] * -1\n",
    "    \n",
    "    return summary"
   ]
  },
  {
   "cell_type": "code",
   "execution_count": 13,
   "metadata": {
    "execution": {
     "iopub.execute_input": "2020-10-08T14:26:01.236560Z",
     "iopub.status.busy": "2020-10-08T14:26:01.235563Z",
     "iopub.status.idle": "2020-10-08T14:26:01.249526Z",
     "shell.execute_reply": "2020-10-08T14:26:01.248529Z",
     "shell.execute_reply.started": "2020-10-08T14:26:01.236560Z"
    },
    "id": "BXEr8F5VZIu0"
   },
   "outputs": [],
   "source": [
    "def evaluate_model(models, X_train, X_test, y_train, y_test):\n",
    "\n",
    "    summary = {'Model':[], 'Train R2':[], 'Train RMSE':[], 'Train MAE':[],\n",
    "               'Test R2':[], 'Test RMSE':[], 'Test MAE':[]}\n",
    "\n",
    "    for label, model in models.items():\n",
    "        model.fit(X_train, y_train)\n",
    "\n",
    "        y_train_pred = model.predict(X_train)\n",
    "        y_test_pred = model.predict(X_test)\n",
    "\n",
    "        summary['Model'].append(label)\n",
    "\n",
    "        summary['Train R2'].append(\n",
    "            metrics.r2_score(y_train, y_train_pred))\n",
    "        summary['Train RMSE'].append(\n",
    "            np.sqrt(metrics.mean_squared_error(y_train, y_train_pred)))\n",
    "        summary['Train MAE'].append(\n",
    "            metrics.mean_absolute_error(y_train, y_train_pred))\n",
    "\n",
    "        summary['Test R2'].append(\n",
    "            metrics.r2_score(y_test, y_test_pred))\n",
    "        summary['Test RMSE'].append(\n",
    "            np.sqrt(metrics.mean_squared_error(y_test, y_test_pred)))\n",
    "        summary['Test MAE'].append(\n",
    "            metrics.mean_absolute_error(y_test, y_test_pred))\n",
    "    \n",
    "    summary = pd.DataFrame(summary)\n",
    "    summary.set_index('Model', inplace=True)\n",
    "\n",
    "    cv_scores = get_cv_score(models, X_train, y_train)\n",
    "    summary = summary.join(cv_scores)\n",
    "    summary = summary[['Train R2', 'CV R2', 'Test R2',\n",
    "                       'Train RMSE', 'CV RMSE', 'Test RMSE',\n",
    "                       'Train MAE', 'CV MAE', 'Test MAE']]\n",
    "    \n",
    "    return round(summary.sort_values(by='Test RMSE'), 4)"
   ]
  },
  {
   "cell_type": "markdown",
   "metadata": {
    "id": "aR4Sp3UCZIu2"
   },
   "source": [
    "## Base Model"
   ]
  },
  {
   "cell_type": "code",
   "execution_count": 14,
   "metadata": {
    "execution": {
     "iopub.execute_input": "2020-10-08T15:10:17.976797Z",
     "iopub.status.busy": "2020-10-08T15:10:17.975799Z",
     "iopub.status.idle": "2020-10-08T15:10:17.988765Z",
     "shell.execute_reply": "2020-10-08T15:10:17.987767Z",
     "shell.execute_reply.started": "2020-10-08T15:10:17.976797Z"
    },
    "id": "Oux2OxeDZIu2"
   },
   "outputs": [],
   "source": [
    "tree_model = DecisionTreeRegressor()\n",
    "rf_model = RandomForestRegressor()\n",
    "xgb_model = XGBRegressor(objective='reg:squarederror')\n",
    "lgb_model = LGBMRegressor()\n",
    "cat_model = CatBoostRegressor(silent=True)\n",
    "lr_model = LinearRegression()\n",
    "lasso_model = Lasso()\n",
    "\n",
    "models = {'DecisionTreeRegressor' : tree_model,\n",
    "          'RandomForestRegressor' : rf_model,\n",
    "          'XGBRegressor' : xgb_model,\n",
    "          'CatBoostRegressor' : cat_model,\n",
    "          'LGBMRegressor' : lgb_model,\n",
    "          'LinearRegression': lr_model,\n",
    "          'LassoRegression': lasso_model}"
   ]
  },
  {
   "cell_type": "markdown",
   "metadata": {
    "id": "kCSEOF35MoSB"
   },
   "source": [
    "### Unscaled dataset"
   ]
  },
  {
   "cell_type": "code",
   "execution_count": 15,
   "metadata": {
    "colab": {
     "base_uri": "https://localhost:8080/",
     "height": 297
    },
    "executionInfo": {
     "elapsed": 38364,
     "status": "ok",
     "timestamp": 1602353945658,
     "user": {
      "displayName": "Abdillah Fikri",
      "photoUrl": "",
      "userId": "04470220666512949031"
     },
     "user_tz": -420
    },
    "id": "DgfsmUm-HqGG",
    "outputId": "890d1059-fe50-4ed7-87d9-16413c775534"
   },
   "outputs": [],
   "source": [
    "# evaluasi model memakai function\n",
    "unscaled = evaluate_model(models, X_train_selected, X_test_selected, y_train, y_test)"
   ]
  },
  {
   "cell_type": "markdown",
   "metadata": {
    "id": "AodaQJBNMtob"
   },
   "source": [
    "### Scaled dataset"
   ]
  },
  {
   "cell_type": "code",
   "execution_count": 16,
   "metadata": {
    "id": "2lQZQbORMwYB"
   },
   "outputs": [],
   "source": [
    "# Scaling data with RobustScaler\n",
    "from sklearn.preprocessing import RobustScaler\n",
    "\n",
    "scaler = RobustScaler()\n",
    "scaler.fit(X_train_selected)\n",
    "X_train_selected_scaled_r = scaler.transform(X_train_selected)\n",
    "X_test_selected_scaled_r = scaler.transform(X_test_selected)"
   ]
  },
  {
   "cell_type": "code",
   "execution_count": 17,
   "metadata": {
    "colab": {
     "base_uri": "https://localhost:8080/",
     "height": 297
    },
    "executionInfo": {
     "elapsed": 81010,
     "status": "ok",
     "timestamp": 1602353988430,
     "user": {
      "displayName": "Abdillah Fikri",
      "photoUrl": "",
      "userId": "04470220666512949031"
     },
     "user_tz": -420
    },
    "id": "58C87fQHNRII",
    "outputId": "90af7df3-a745-4722-d77d-53f144212a91"
   },
   "outputs": [],
   "source": [
    "# evaluasi model memakai function\n",
    "scaled = evaluate_model(models, X_train_selected_scaled_r, X_test_selected_scaled_r, y_train, y_test)"
   ]
  },
  {
   "cell_type": "markdown",
   "metadata": {},
   "source": [
    "### Summarizing"
   ]
  },
  {
   "cell_type": "code",
   "execution_count": 18,
   "metadata": {},
   "outputs": [],
   "source": [
    "unscaled['Dataset Version'] = 'dropna + selected + unscaled'\n",
    "scaled['Dataset Version'] = 'dropna + selected + scaled'"
   ]
  },
  {
   "cell_type": "code",
   "execution_count": 19,
   "metadata": {},
   "outputs": [
    {
     "output_type": "execute_result",
     "data": {
      "text/plain": [
       "                       Train R2   CV R2  Test R2  Train RMSE  CV RMSE  \\\n",
       "Model                                                                   \n",
       "CatBoostRegressor        0.9894  0.9150   0.9232      1.1300   3.1407   \n",
       "LGBMRegressor            0.9657  0.9056   0.8967      2.0282   3.3170   \n",
       "RandomForestRegressor    0.9853  0.9004   0.8841      1.3266   3.4119   \n",
       "XGBRegressor             0.9956  0.8844   0.8781      0.7283   3.6402   \n",
       "DecisionTreeRegressor    0.9989  0.8188   0.8266      0.3578   4.5950   \n",
       "LinearRegression         0.8028  0.8018   0.7552      4.8656   4.8721   \n",
       "LassoRegression          0.8005  0.8000   0.7524      4.8946   4.8950   \n",
       "CatBoostRegressor        0.9894  0.9150   0.9232      1.1300   3.1406   \n",
       "LGBMRegressor            0.9664  0.9062   0.8954      2.0082   3.3103   \n",
       "RandomForestRegressor    0.9849  0.8934   0.8806      1.3453   3.5212   \n",
       "XGBRegressor             0.9956  0.8844   0.8781      0.7283   3.6401   \n",
       "DecisionTreeRegressor    0.9989  0.8126   0.8178      0.3578   4.6562   \n",
       "LinearRegression         0.8028  0.8018   0.7552      4.8656   4.8721   \n",
       "LassoRegression          0.7691  0.7679   0.6884      5.2651   5.2649   \n",
       "\n",
       "                       Test RMSE  Train MAE  CV MAE  Test MAE  \\\n",
       "Model                                                           \n",
       "CatBoostRegressor         3.2544     0.7227  1.2130    1.2576   \n",
       "LGBMRegressor             3.7753     0.8705  1.2574    1.3694   \n",
       "RandomForestRegressor     3.9988     0.5277  1.3215    1.4292   \n",
       "XGBRegressor              4.1007     0.4730  1.2537    1.4143   \n",
       "DecisionTreeRegressor     4.8904     0.0979  1.6966    1.7332   \n",
       "LinearRegression          5.8109     2.6189  2.6321    2.8685   \n",
       "LassoRegression           5.8439     2.5570  2.5674    2.8026   \n",
       "CatBoostRegressor         3.2544     0.7227  1.2130    1.2576   \n",
       "LGBMRegressor             3.7988     0.8665  1.2599    1.3675   \n",
       "RandomForestRegressor     4.0585     0.5222  1.3258    1.4405   \n",
       "XGBRegressor              4.1007     0.4730  1.2537    1.4143   \n",
       "DecisionTreeRegressor     5.0132     0.0979  1.7067    1.8139   \n",
       "LinearRegression          5.8109     2.6189  2.6321    2.8685   \n",
       "LassoRegression           6.5558     2.4664  2.4766    2.8149   \n",
       "\n",
       "                                    Dataset Version  \n",
       "Model                                                \n",
       "CatBoostRegressor      dropna + selected + unscaled  \n",
       "LGBMRegressor          dropna + selected + unscaled  \n",
       "RandomForestRegressor  dropna + selected + unscaled  \n",
       "XGBRegressor           dropna + selected + unscaled  \n",
       "DecisionTreeRegressor  dropna + selected + unscaled  \n",
       "LinearRegression       dropna + selected + unscaled  \n",
       "LassoRegression        dropna + selected + unscaled  \n",
       "CatBoostRegressor        dropna + selected + scaled  \n",
       "LGBMRegressor            dropna + selected + scaled  \n",
       "RandomForestRegressor    dropna + selected + scaled  \n",
       "XGBRegressor             dropna + selected + scaled  \n",
       "DecisionTreeRegressor    dropna + selected + scaled  \n",
       "LinearRegression         dropna + selected + scaled  \n",
       "LassoRegression          dropna + selected + scaled  "
      ],
      "text/html": "<div>\n<style scoped>\n    .dataframe tbody tr th:only-of-type {\n        vertical-align: middle;\n    }\n\n    .dataframe tbody tr th {\n        vertical-align: top;\n    }\n\n    .dataframe thead th {\n        text-align: right;\n    }\n</style>\n<table border=\"1\" class=\"dataframe\">\n  <thead>\n    <tr style=\"text-align: right;\">\n      <th></th>\n      <th>Train R2</th>\n      <th>CV R2</th>\n      <th>Test R2</th>\n      <th>Train RMSE</th>\n      <th>CV RMSE</th>\n      <th>Test RMSE</th>\n      <th>Train MAE</th>\n      <th>CV MAE</th>\n      <th>Test MAE</th>\n      <th>Dataset Version</th>\n    </tr>\n    <tr>\n      <th>Model</th>\n      <th></th>\n      <th></th>\n      <th></th>\n      <th></th>\n      <th></th>\n      <th></th>\n      <th></th>\n      <th></th>\n      <th></th>\n      <th></th>\n    </tr>\n  </thead>\n  <tbody>\n    <tr>\n      <th>CatBoostRegressor</th>\n      <td>0.9894</td>\n      <td>0.9150</td>\n      <td>0.9232</td>\n      <td>1.1300</td>\n      <td>3.1407</td>\n      <td>3.2544</td>\n      <td>0.7227</td>\n      <td>1.2130</td>\n      <td>1.2576</td>\n      <td>dropna + selected + unscaled</td>\n    </tr>\n    <tr>\n      <th>LGBMRegressor</th>\n      <td>0.9657</td>\n      <td>0.9056</td>\n      <td>0.8967</td>\n      <td>2.0282</td>\n      <td>3.3170</td>\n      <td>3.7753</td>\n      <td>0.8705</td>\n      <td>1.2574</td>\n      <td>1.3694</td>\n      <td>dropna + selected + unscaled</td>\n    </tr>\n    <tr>\n      <th>RandomForestRegressor</th>\n      <td>0.9853</td>\n      <td>0.9004</td>\n      <td>0.8841</td>\n      <td>1.3266</td>\n      <td>3.4119</td>\n      <td>3.9988</td>\n      <td>0.5277</td>\n      <td>1.3215</td>\n      <td>1.4292</td>\n      <td>dropna + selected + unscaled</td>\n    </tr>\n    <tr>\n      <th>XGBRegressor</th>\n      <td>0.9956</td>\n      <td>0.8844</td>\n      <td>0.8781</td>\n      <td>0.7283</td>\n      <td>3.6402</td>\n      <td>4.1007</td>\n      <td>0.4730</td>\n      <td>1.2537</td>\n      <td>1.4143</td>\n      <td>dropna + selected + unscaled</td>\n    </tr>\n    <tr>\n      <th>DecisionTreeRegressor</th>\n      <td>0.9989</td>\n      <td>0.8188</td>\n      <td>0.8266</td>\n      <td>0.3578</td>\n      <td>4.5950</td>\n      <td>4.8904</td>\n      <td>0.0979</td>\n      <td>1.6966</td>\n      <td>1.7332</td>\n      <td>dropna + selected + unscaled</td>\n    </tr>\n    <tr>\n      <th>LinearRegression</th>\n      <td>0.8028</td>\n      <td>0.8018</td>\n      <td>0.7552</td>\n      <td>4.8656</td>\n      <td>4.8721</td>\n      <td>5.8109</td>\n      <td>2.6189</td>\n      <td>2.6321</td>\n      <td>2.8685</td>\n      <td>dropna + selected + unscaled</td>\n    </tr>\n    <tr>\n      <th>LassoRegression</th>\n      <td>0.8005</td>\n      <td>0.8000</td>\n      <td>0.7524</td>\n      <td>4.8946</td>\n      <td>4.8950</td>\n      <td>5.8439</td>\n      <td>2.5570</td>\n      <td>2.5674</td>\n      <td>2.8026</td>\n      <td>dropna + selected + unscaled</td>\n    </tr>\n    <tr>\n      <th>CatBoostRegressor</th>\n      <td>0.9894</td>\n      <td>0.9150</td>\n      <td>0.9232</td>\n      <td>1.1300</td>\n      <td>3.1406</td>\n      <td>3.2544</td>\n      <td>0.7227</td>\n      <td>1.2130</td>\n      <td>1.2576</td>\n      <td>dropna + selected + scaled</td>\n    </tr>\n    <tr>\n      <th>LGBMRegressor</th>\n      <td>0.9664</td>\n      <td>0.9062</td>\n      <td>0.8954</td>\n      <td>2.0082</td>\n      <td>3.3103</td>\n      <td>3.7988</td>\n      <td>0.8665</td>\n      <td>1.2599</td>\n      <td>1.3675</td>\n      <td>dropna + selected + scaled</td>\n    </tr>\n    <tr>\n      <th>RandomForestRegressor</th>\n      <td>0.9849</td>\n      <td>0.8934</td>\n      <td>0.8806</td>\n      <td>1.3453</td>\n      <td>3.5212</td>\n      <td>4.0585</td>\n      <td>0.5222</td>\n      <td>1.3258</td>\n      <td>1.4405</td>\n      <td>dropna + selected + scaled</td>\n    </tr>\n    <tr>\n      <th>XGBRegressor</th>\n      <td>0.9956</td>\n      <td>0.8844</td>\n      <td>0.8781</td>\n      <td>0.7283</td>\n      <td>3.6401</td>\n      <td>4.1007</td>\n      <td>0.4730</td>\n      <td>1.2537</td>\n      <td>1.4143</td>\n      <td>dropna + selected + scaled</td>\n    </tr>\n    <tr>\n      <th>DecisionTreeRegressor</th>\n      <td>0.9989</td>\n      <td>0.8126</td>\n      <td>0.8178</td>\n      <td>0.3578</td>\n      <td>4.6562</td>\n      <td>5.0132</td>\n      <td>0.0979</td>\n      <td>1.7067</td>\n      <td>1.8139</td>\n      <td>dropna + selected + scaled</td>\n    </tr>\n    <tr>\n      <th>LinearRegression</th>\n      <td>0.8028</td>\n      <td>0.8018</td>\n      <td>0.7552</td>\n      <td>4.8656</td>\n      <td>4.8721</td>\n      <td>5.8109</td>\n      <td>2.6189</td>\n      <td>2.6321</td>\n      <td>2.8685</td>\n      <td>dropna + selected + scaled</td>\n    </tr>\n    <tr>\n      <th>LassoRegression</th>\n      <td>0.7691</td>\n      <td>0.7679</td>\n      <td>0.6884</td>\n      <td>5.2651</td>\n      <td>5.2649</td>\n      <td>6.5558</td>\n      <td>2.4664</td>\n      <td>2.4766</td>\n      <td>2.8149</td>\n      <td>dropna + selected + scaled</td>\n    </tr>\n  </tbody>\n</table>\n</div>"
     },
     "metadata": {},
     "execution_count": 19
    }
   ],
   "source": [
    "dropna_selected = pd.concat([unscaled, scaled], axis=0)\n",
    "dropna_selected"
   ]
  },
  {
   "cell_type": "code",
   "execution_count": 20,
   "metadata": {},
   "outputs": [],
   "source": [
    "dropna_selected.to_csv('../data/processed/summary_dropna_selected.csv')"
   ]
  }
 ],
 "metadata": {
  "colab": {
   "collapsed_sections": [],
   "name": "Modeling_dropna_selected_features.ipynb",
   "provenance": [
    {
     "file_id": "1NgCHIKsxmWD4jCur1sU6c3ASdRZ-PE99",
     "timestamp": 1602317956566
    }
   ],
   "toc_visible": true
  },
  "deepnote_execution_queue": [],
  "deepnote_notebook_id": "7e6ba86d-f2b0-4a20-b936-811e696ed5ab",
  "jupytext": {
   "formats": "notebooks//ipynb,markdown//md,scripts//py:percent"
  },
  "kernelspec": {
   "display_name": "Python 3",
   "language": "python",
   "name": "python3"
  },
  "language_info": {
   "codemirror_mode": {
    "name": "ipython",
    "version": 3
   },
   "file_extension": ".py",
   "mimetype": "text/x-python",
   "name": "python",
   "nbconvert_exporter": "python",
   "pygments_lexer": "ipython3",
   "version": "3.8.6-final"
  },
  "toc-autonumbering": true,
  "toc-showcode": false,
  "toc-showmarkdowntxt": false,
  "toc-showtags": false
 },
 "nbformat": 4,
 "nbformat_minor": 4
}