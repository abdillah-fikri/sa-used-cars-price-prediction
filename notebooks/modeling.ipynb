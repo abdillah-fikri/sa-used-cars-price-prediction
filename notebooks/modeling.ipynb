{
 "cells": [],
 "metadata": {
  "jupytext": {
   "formats": "notebooks//ipynb,markdown//md,scripts/modeling//py:percent"
  }
 },
 "nbformat": 4,
 "nbformat_minor": 4
}
