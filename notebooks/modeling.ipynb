{
 "cells": [],
 "metadata": {
  "jupytext": {
   "formats": "notebooks//ipynb,markdown//md,scripts//py:percent"
  }
 },
 "nbformat": 4,
 "nbformat_minor": 4
}
