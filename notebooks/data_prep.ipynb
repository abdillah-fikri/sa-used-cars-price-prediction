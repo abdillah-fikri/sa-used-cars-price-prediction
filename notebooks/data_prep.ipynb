{
 "cells": [
  {
   "cell_type": "code",
   "execution_count": 7,
   "metadata": {},
   "outputs": [],
   "source": [
    "# Import library\n",
    "import category_encoders as ce\n",
    "import matplotlib.pyplot as plt\n",
    "import miceforest as mf\n",
    "import missingno as msno\n",
    "import numpy as np\n",
    "import pandas as pd\n",
    "import plotly.express as px\n",
    "import plotly.graph_objects as go\n",
    "import seaborn as sns\n",
    "from catboost import CatBoostRegressor\n",
    "from lightgbm import LGBMRegressor\n",
    "from sklearn import metrics\n",
    "from sklearn.ensemble import RandomForestRegressor\n",
    "from sklearn.impute import SimpleImputer\n",
    "from sklearn.model_selection import (GridSearchCV, KFold, RandomizedSearchCV,\n",
    "                                     cross_val_score, cross_validate,\n",
    "                                     train_test_split)\n",
    "from sklearn.tree import DecisionTreeRegressor\n",
    "from utils import *\n",
    "from xgboost import XGBRegressor"
   ]
  },
  {
   "cell_type": "code",
   "execution_count": 8,
   "metadata": {},
   "outputs": [],
   "source": [
    "# set seaborn default style\n",
    "sns.set(style='darkgrid', palette='muted')"
   ]
  },
  {
   "cell_type": "code",
   "execution_count": 11,
   "metadata": {},
   "outputs": [
    {
     "output_type": "stream",
     "name": "stdout",
     "text": [
      "Shape: (6019, 12)\n"
     ]
    },
    {
     "output_type": "execute_result",
     "data": {
      "text/plain": [
       "                               Name    Location  Year  Kilometers_Driven  \\\n",
       "0            Maruti Wagon R LXI CNG      Mumbai  2010              72000   \n",
       "1  Hyundai Creta 1.6 CRDi SX Option        Pune  2015              41000   \n",
       "2                      Honda Jazz V     Chennai  2011              46000   \n",
       "3                 Maruti Ertiga VDI     Chennai  2012              87000   \n",
       "4   Audi A4 New 2.0 TDI Multitronic  Coimbatore  2013              40670   \n",
       "\n",
       "  Fuel_Type Transmission Owner_Type     Mileage   Engine      Power  Seats  \\\n",
       "0       CNG       Manual      First  26.6 km/kg   998 CC  58.16 bhp    5.0   \n",
       "1    Diesel       Manual      First  19.67 kmpl  1582 CC  126.2 bhp    5.0   \n",
       "2    Petrol       Manual      First   18.2 kmpl  1199 CC   88.7 bhp    5.0   \n",
       "3    Diesel       Manual      First  20.77 kmpl  1248 CC  88.76 bhp    7.0   \n",
       "4    Diesel    Automatic     Second   15.2 kmpl  1968 CC  140.8 bhp    5.0   \n",
       "\n",
       "   Price  \n",
       "0   1.75  \n",
       "1  12.50  \n",
       "2   4.50  \n",
       "3   6.00  \n",
       "4  17.74  "
      ],
      "text/html": "<div>\n<style scoped>\n    .dataframe tbody tr th:only-of-type {\n        vertical-align: middle;\n    }\n\n    .dataframe tbody tr th {\n        vertical-align: top;\n    }\n\n    .dataframe thead th {\n        text-align: right;\n    }\n</style>\n<table border=\"1\" class=\"dataframe\">\n  <thead>\n    <tr style=\"text-align: right;\">\n      <th></th>\n      <th>Name</th>\n      <th>Location</th>\n      <th>Year</th>\n      <th>Kilometers_Driven</th>\n      <th>Fuel_Type</th>\n      <th>Transmission</th>\n      <th>Owner_Type</th>\n      <th>Mileage</th>\n      <th>Engine</th>\n      <th>Power</th>\n      <th>Seats</th>\n      <th>Price</th>\n    </tr>\n  </thead>\n  <tbody>\n    <tr>\n      <th>0</th>\n      <td>Maruti Wagon R LXI CNG</td>\n      <td>Mumbai</td>\n      <td>2010</td>\n      <td>72000</td>\n      <td>CNG</td>\n      <td>Manual</td>\n      <td>First</td>\n      <td>26.6 km/kg</td>\n      <td>998 CC</td>\n      <td>58.16 bhp</td>\n      <td>5.0</td>\n      <td>1.75</td>\n    </tr>\n    <tr>\n      <th>1</th>\n      <td>Hyundai Creta 1.6 CRDi SX Option</td>\n      <td>Pune</td>\n      <td>2015</td>\n      <td>41000</td>\n      <td>Diesel</td>\n      <td>Manual</td>\n      <td>First</td>\n      <td>19.67 kmpl</td>\n      <td>1582 CC</td>\n      <td>126.2 bhp</td>\n      <td>5.0</td>\n      <td>12.50</td>\n    </tr>\n    <tr>\n      <th>2</th>\n      <td>Honda Jazz V</td>\n      <td>Chennai</td>\n      <td>2011</td>\n      <td>46000</td>\n      <td>Petrol</td>\n      <td>Manual</td>\n      <td>First</td>\n      <td>18.2 kmpl</td>\n      <td>1199 CC</td>\n      <td>88.7 bhp</td>\n      <td>5.0</td>\n      <td>4.50</td>\n    </tr>\n    <tr>\n      <th>3</th>\n      <td>Maruti Ertiga VDI</td>\n      <td>Chennai</td>\n      <td>2012</td>\n      <td>87000</td>\n      <td>Diesel</td>\n      <td>Manual</td>\n      <td>First</td>\n      <td>20.77 kmpl</td>\n      <td>1248 CC</td>\n      <td>88.76 bhp</td>\n      <td>7.0</td>\n      <td>6.00</td>\n    </tr>\n    <tr>\n      <th>4</th>\n      <td>Audi A4 New 2.0 TDI Multitronic</td>\n      <td>Coimbatore</td>\n      <td>2013</td>\n      <td>40670</td>\n      <td>Diesel</td>\n      <td>Automatic</td>\n      <td>Second</td>\n      <td>15.2 kmpl</td>\n      <td>1968 CC</td>\n      <td>140.8 bhp</td>\n      <td>5.0</td>\n      <td>17.74</td>\n    </tr>\n  </tbody>\n</table>\n</div>"
     },
     "metadata": {},
     "execution_count": 11
    }
   ],
   "source": [
    "# Import data\n",
    "df = pd.read_csv('../data/raw/used_car_data.csv')\n",
    "print('Shape:', df.shape)\n",
    "df.head()"
   ]
  },
  {
   "cell_type": "code",
   "execution_count": 13,
   "metadata": {},
   "outputs": [
    {
     "output_type": "stream",
     "name": "stdout",
     "text": [
      "<class 'pandas.core.frame.DataFrame'>\nRangeIndex: 6019 entries, 0 to 6018\nData columns (total 12 columns):\n #   Column             Non-Null Count  Dtype  \n---  ------             --------------  -----  \n 0   Name               6019 non-null   object \n 1   Location           6019 non-null   object \n 2   Year               6019 non-null   int64  \n 3   Kilometers_Driven  6019 non-null   int64  \n 4   Fuel_Type          6019 non-null   object \n 5   Transmission       6019 non-null   object \n 6   Owner_Type         6019 non-null   object \n 7   Mileage            6017 non-null   object \n 8   Engine             5983 non-null   object \n 9   Power              5983 non-null   object \n 10  Seats              5977 non-null   float64\n 11  Price              6019 non-null   float64\ndtypes: float64(2), int64(2), object(8)\nmemory usage: 564.4+ KB\n"
     ]
    }
   ],
   "source": [
    "# check info\n",
    "df.info()"
   ]
  },
  {
   "cell_type": "code",
   "execution_count": 14,
   "metadata": {},
   "outputs": [
    {
     "output_type": "execute_result",
     "data": {
      "text/plain": [
       "                   null (sum)  null (%)\n",
       "Seats                      42      0.70\n",
       "Engine                     36      0.60\n",
       "Power                      36      0.60\n",
       "Mileage                     2      0.03\n",
       "Name                        0      0.00\n",
       "Location                    0      0.00\n",
       "Year                        0      0.00\n",
       "Kilometers_Driven           0      0.00\n",
       "Fuel_Type                   0      0.00\n",
       "Transmission                0      0.00\n",
       "Owner_Type                  0      0.00\n",
       "Price                       0      0.00"
      ],
      "text/html": "<div>\n<style scoped>\n    .dataframe tbody tr th:only-of-type {\n        vertical-align: middle;\n    }\n\n    .dataframe tbody tr th {\n        vertical-align: top;\n    }\n\n    .dataframe thead th {\n        text-align: right;\n    }\n</style>\n<table border=\"1\" class=\"dataframe\">\n  <thead>\n    <tr style=\"text-align: right;\">\n      <th></th>\n      <th>null (sum)</th>\n      <th>null (%)</th>\n    </tr>\n  </thead>\n  <tbody>\n    <tr>\n      <th>Seats</th>\n      <td>42</td>\n      <td>0.70</td>\n    </tr>\n    <tr>\n      <th>Engine</th>\n      <td>36</td>\n      <td>0.60</td>\n    </tr>\n    <tr>\n      <th>Power</th>\n      <td>36</td>\n      <td>0.60</td>\n    </tr>\n    <tr>\n      <th>Mileage</th>\n      <td>2</td>\n      <td>0.03</td>\n    </tr>\n    <tr>\n      <th>Name</th>\n      <td>0</td>\n      <td>0.00</td>\n    </tr>\n    <tr>\n      <th>Location</th>\n      <td>0</td>\n      <td>0.00</td>\n    </tr>\n    <tr>\n      <th>Year</th>\n      <td>0</td>\n      <td>0.00</td>\n    </tr>\n    <tr>\n      <th>Kilometers_Driven</th>\n      <td>0</td>\n      <td>0.00</td>\n    </tr>\n    <tr>\n      <th>Fuel_Type</th>\n      <td>0</td>\n      <td>0.00</td>\n    </tr>\n    <tr>\n      <th>Transmission</th>\n      <td>0</td>\n      <td>0.00</td>\n    </tr>\n    <tr>\n      <th>Owner_Type</th>\n      <td>0</td>\n      <td>0.00</td>\n    </tr>\n    <tr>\n      <th>Price</th>\n      <td>0</td>\n      <td>0.00</td>\n    </tr>\n  </tbody>\n</table>\n</div>"
     },
     "metadata": {},
     "execution_count": 14
    }
   ],
   "source": [
    "# check null\n",
    "null_checker(df)"
   ]
  },
  {
   "cell_type": "code",
   "execution_count": 15,
   "metadata": {},
   "outputs": [],
   "source": [
    "# Extrack features\n",
    "df['Brand'] = df['Name'].apply(lambda x: x.split(' ')[0])\n",
    "df['Series'] = df['Name'].apply(lambda x: x.split(' ')[1])\n",
    "df.drop(columns='Name', inplace=True)"
   ]
  },
  {
   "cell_type": "code",
   "execution_count": 16,
   "metadata": {},
   "outputs": [
    {
     "output_type": "stream",
     "name": "stdout",
     "text": [
      "Satuan pada feature Mileage: ['km/kg' 'kmpl' nan]\nSatuan pada feature Engine: ['CC' nan]\nSatuan pada feature Power: ['bhp' nan]\n"
     ]
    }
   ],
   "source": [
    "# Check features unit\n",
    "print('Satuan pada feature Mileage:', df['Mileage'].apply(lambda x: x if pd.isna(x) else x.split(' ')[1]).unique())\n",
    "print('Satuan pada feature Engine:', df['Engine'].apply(lambda x: x if pd.isna(x) else x.split(' ')[1]).unique())\n",
    "print('Satuan pada feature Power:', df['Power'].apply(lambda x: x if pd.isna(x) else x.split(' ')[1]).unique())"
   ]
  },
  {
   "cell_type": "code",
   "execution_count": 17,
   "metadata": {},
   "outputs": [
    {
     "output_type": "stream",
     "name": "stdout",
     "text": [
      "Invalid Value pada feature Mileage: [nan]\nInvalid Value pada feature Engine: [nan]\nInvalid Value pada feature Power: ['null bhp' nan]\n"
     ]
    }
   ],
   "source": [
    "# Check invalid value\n",
    "print('Invalid Value pada feature Mileage:', pd.Series([x for x in df['Mileage'] if str(x).split(' ')[0].isalpha()]).unique())\n",
    "print('Invalid Value pada feature Engine:', pd.Series([x for x in df['Engine'] if str(x).split(' ')[0].isalpha()]).unique())\n",
    "print('Invalid Value pada feature Power:', pd.Series([x for x in df['Power'] if str(x).split(' ')[0].isalpha()]).unique())"
   ]
  },
  {
   "cell_type": "code",
   "execution_count": 18,
   "metadata": {},
   "outputs": [],
   "source": [
    "# Remove features unit and convert to numeric\n",
    "df['Mileage (kmpl)'] = df['Mileage'].apply(lambda x: x if pd.isna(x) else x.split(' ')[0])\n",
    "df['Engine (CC)'] = df['Engine'].apply(lambda x: x if pd.isna(x) else x.split(' ')[0])\n",
    "df['Power (bhp)'] = df['Power'].apply(lambda x: x if pd.isna(x) else x.split(' ')[0])\n",
    "\n",
    "df['Mileage (kmpl)'] = pd.to_numeric(df['Mileage (kmpl)'], errors='coerce')\n",
    "df['Engine (CC)'] = pd.to_numeric(df['Engine (CC)'], errors='coerce')\n",
    "df['Power (bhp)'] = pd.to_numeric(df['Power (bhp)'], errors='coerce')\n",
    "\n",
    "df.drop(columns=['Mileage', 'Engine', 'Power'], inplace=True)"
   ]
  },
  {
   "cell_type": "code",
   "execution_count": 19,
   "metadata": {},
   "outputs": [
    {
     "output_type": "execute_result",
     "data": {
      "text/plain": [
       "     Location  Year  Kilometers_Driven Fuel_Type Transmission Owner_Type  \\\n",
       "0      Mumbai  2010              72000       CNG       Manual      First   \n",
       "1        Pune  2015              41000    Diesel       Manual      First   \n",
       "2     Chennai  2011              46000    Petrol       Manual      First   \n",
       "3     Chennai  2012              87000    Diesel       Manual      First   \n",
       "4  Coimbatore  2013              40670    Diesel    Automatic     Second   \n",
       "\n",
       "   Seats  Price    Brand  Series  Mileage (kmpl)  Engine (CC)  Power (bhp)  \n",
       "0    5.0   1.75   Maruti   Wagon           26.60        998.0        58.16  \n",
       "1    5.0  12.50  Hyundai   Creta           19.67       1582.0       126.20  \n",
       "2    5.0   4.50    Honda    Jazz           18.20       1199.0        88.70  \n",
       "3    7.0   6.00   Maruti  Ertiga           20.77       1248.0        88.76  \n",
       "4    5.0  17.74     Audi      A4           15.20       1968.0       140.80  "
      ],
      "text/html": "<div>\n<style scoped>\n    .dataframe tbody tr th:only-of-type {\n        vertical-align: middle;\n    }\n\n    .dataframe tbody tr th {\n        vertical-align: top;\n    }\n\n    .dataframe thead th {\n        text-align: right;\n    }\n</style>\n<table border=\"1\" class=\"dataframe\">\n  <thead>\n    <tr style=\"text-align: right;\">\n      <th></th>\n      <th>Location</th>\n      <th>Year</th>\n      <th>Kilometers_Driven</th>\n      <th>Fuel_Type</th>\n      <th>Transmission</th>\n      <th>Owner_Type</th>\n      <th>Seats</th>\n      <th>Price</th>\n      <th>Brand</th>\n      <th>Series</th>\n      <th>Mileage (kmpl)</th>\n      <th>Engine (CC)</th>\n      <th>Power (bhp)</th>\n    </tr>\n  </thead>\n  <tbody>\n    <tr>\n      <th>0</th>\n      <td>Mumbai</td>\n      <td>2010</td>\n      <td>72000</td>\n      <td>CNG</td>\n      <td>Manual</td>\n      <td>First</td>\n      <td>5.0</td>\n      <td>1.75</td>\n      <td>Maruti</td>\n      <td>Wagon</td>\n      <td>26.60</td>\n      <td>998.0</td>\n      <td>58.16</td>\n    </tr>\n    <tr>\n      <th>1</th>\n      <td>Pune</td>\n      <td>2015</td>\n      <td>41000</td>\n      <td>Diesel</td>\n      <td>Manual</td>\n      <td>First</td>\n      <td>5.0</td>\n      <td>12.50</td>\n      <td>Hyundai</td>\n      <td>Creta</td>\n      <td>19.67</td>\n      <td>1582.0</td>\n      <td>126.20</td>\n    </tr>\n    <tr>\n      <th>2</th>\n      <td>Chennai</td>\n      <td>2011</td>\n      <td>46000</td>\n      <td>Petrol</td>\n      <td>Manual</td>\n      <td>First</td>\n      <td>5.0</td>\n      <td>4.50</td>\n      <td>Honda</td>\n      <td>Jazz</td>\n      <td>18.20</td>\n      <td>1199.0</td>\n      <td>88.70</td>\n    </tr>\n    <tr>\n      <th>3</th>\n      <td>Chennai</td>\n      <td>2012</td>\n      <td>87000</td>\n      <td>Diesel</td>\n      <td>Manual</td>\n      <td>First</td>\n      <td>7.0</td>\n      <td>6.00</td>\n      <td>Maruti</td>\n      <td>Ertiga</td>\n      <td>20.77</td>\n      <td>1248.0</td>\n      <td>88.76</td>\n    </tr>\n    <tr>\n      <th>4</th>\n      <td>Coimbatore</td>\n      <td>2013</td>\n      <td>40670</td>\n      <td>Diesel</td>\n      <td>Automatic</td>\n      <td>Second</td>\n      <td>5.0</td>\n      <td>17.74</td>\n      <td>Audi</td>\n      <td>A4</td>\n      <td>15.20</td>\n      <td>1968.0</td>\n      <td>140.80</td>\n    </tr>\n  </tbody>\n</table>\n</div>"
     },
     "metadata": {},
     "execution_count": 19
    }
   ],
   "source": [
    "# Check result\n",
    "df.head()"
   ]
  },
  {
   "cell_type": "code",
   "execution_count": 20,
   "metadata": {},
   "outputs": [
    {
     "output_type": "execute_result",
     "data": {
      "text/plain": [
       "              Year  Kilometers_Driven        Seats        Price  \\\n",
       "count  6019.000000       6.019000e+03  5977.000000  6019.000000   \n",
       "mean   2013.358199       5.873838e+04     5.278735     9.479468   \n",
       "std       3.269742       9.126884e+04     0.808840    11.187917   \n",
       "min    1998.000000       1.710000e+02     0.000000     0.440000   \n",
       "25%    2011.000000       3.400000e+04     5.000000     3.500000   \n",
       "50%    2014.000000       5.300000e+04     5.000000     5.640000   \n",
       "75%    2016.000000       7.300000e+04     5.000000     9.950000   \n",
       "max    2019.000000       6.500000e+06    10.000000   160.000000   \n",
       "\n",
       "       Mileage (kmpl)  Engine (CC)  Power (bhp)  \n",
       "count     6017.000000  5983.000000  5876.000000  \n",
       "mean        18.134961  1621.276450   113.253050  \n",
       "std          4.582289   601.355233    53.874957  \n",
       "min          0.000000    72.000000    34.200000  \n",
       "25%         15.170000  1198.000000    75.000000  \n",
       "50%         18.150000  1493.000000    97.700000  \n",
       "75%         21.100000  1984.000000   138.100000  \n",
       "max         33.540000  5998.000000   560.000000  "
      ],
      "text/html": "<div>\n<style scoped>\n    .dataframe tbody tr th:only-of-type {\n        vertical-align: middle;\n    }\n\n    .dataframe tbody tr th {\n        vertical-align: top;\n    }\n\n    .dataframe thead th {\n        text-align: right;\n    }\n</style>\n<table border=\"1\" class=\"dataframe\">\n  <thead>\n    <tr style=\"text-align: right;\">\n      <th></th>\n      <th>Year</th>\n      <th>Kilometers_Driven</th>\n      <th>Seats</th>\n      <th>Price</th>\n      <th>Mileage (kmpl)</th>\n      <th>Engine (CC)</th>\n      <th>Power (bhp)</th>\n    </tr>\n  </thead>\n  <tbody>\n    <tr>\n      <th>count</th>\n      <td>6019.000000</td>\n      <td>6.019000e+03</td>\n      <td>5977.000000</td>\n      <td>6019.000000</td>\n      <td>6017.000000</td>\n      <td>5983.000000</td>\n      <td>5876.000000</td>\n    </tr>\n    <tr>\n      <th>mean</th>\n      <td>2013.358199</td>\n      <td>5.873838e+04</td>\n      <td>5.278735</td>\n      <td>9.479468</td>\n      <td>18.134961</td>\n      <td>1621.276450</td>\n      <td>113.253050</td>\n    </tr>\n    <tr>\n      <th>std</th>\n      <td>3.269742</td>\n      <td>9.126884e+04</td>\n      <td>0.808840</td>\n      <td>11.187917</td>\n      <td>4.582289</td>\n      <td>601.355233</td>\n      <td>53.874957</td>\n    </tr>\n    <tr>\n      <th>min</th>\n      <td>1998.000000</td>\n      <td>1.710000e+02</td>\n      <td>0.000000</td>\n      <td>0.440000</td>\n      <td>0.000000</td>\n      <td>72.000000</td>\n      <td>34.200000</td>\n    </tr>\n    <tr>\n      <th>25%</th>\n      <td>2011.000000</td>\n      <td>3.400000e+04</td>\n      <td>5.000000</td>\n      <td>3.500000</td>\n      <td>15.170000</td>\n      <td>1198.000000</td>\n      <td>75.000000</td>\n    </tr>\n    <tr>\n      <th>50%</th>\n      <td>2014.000000</td>\n      <td>5.300000e+04</td>\n      <td>5.000000</td>\n      <td>5.640000</td>\n      <td>18.150000</td>\n      <td>1493.000000</td>\n      <td>97.700000</td>\n    </tr>\n    <tr>\n      <th>75%</th>\n      <td>2016.000000</td>\n      <td>7.300000e+04</td>\n      <td>5.000000</td>\n      <td>9.950000</td>\n      <td>21.100000</td>\n      <td>1984.000000</td>\n      <td>138.100000</td>\n    </tr>\n    <tr>\n      <th>max</th>\n      <td>2019.000000</td>\n      <td>6.500000e+06</td>\n      <td>10.000000</td>\n      <td>160.000000</td>\n      <td>33.540000</td>\n      <td>5998.000000</td>\n      <td>560.000000</td>\n    </tr>\n  </tbody>\n</table>\n</div>"
     },
     "metadata": {},
     "execution_count": 20
    }
   ],
   "source": [
    "# Summary statistic\n",
    "df.describe()"
   ]
  },
  {
   "cell_type": "code",
   "execution_count": 21,
   "metadata": {},
   "outputs": [
    {
     "output_type": "execute_result",
     "data": {
      "text/plain": [
       "        Location  Year  Kilometers_Driven Fuel_Type Transmission  \\\n",
       "14          Pune  2012              85000    Diesel    Automatic   \n",
       "67    Coimbatore  2019              15369    Diesel    Automatic   \n",
       "79     Hyderabad  2005              87591    Petrol       Manual   \n",
       "194    Ahmedabad  2007              60006    Petrol       Manual   \n",
       "229    Bangalore  2015              70436    Diesel       Manual   \n",
       "...          ...   ...                ...       ...          ...   \n",
       "5647      Mumbai  2001             227000    Diesel       Manual   \n",
       "5875   Ahmedabad  2019               4000    Diesel    Automatic   \n",
       "5943     Chennai  2002              75000    Diesel       Manual   \n",
       "5972      Mumbai  2008              65000    Petrol       Manual   \n",
       "6011   Hyderabad  2009              53000    Petrol    Automatic   \n",
       "\n",
       "          Owner_Type  Seats  Price          Brand   Series  Mileage (kmpl)  \\\n",
       "14            Second    5.0  17.50           Land    Rover             0.0   \n",
       "67             First    5.0  35.67  Mercedes-Benz  C-Class             0.0   \n",
       "79             First    5.0   1.30        Hyundai   Santro             0.0   \n",
       "194            First    NaN   2.95          Honda     City             0.0   \n",
       "229            First    NaN   3.60           Ford     Figo             0.0   \n",
       "...              ...    ...    ...            ...      ...             ...   \n",
       "5647  Fourth & Above    8.0   2.20         Toyota   Qualis             0.0   \n",
       "5875           First    5.0  35.00  Mercedes-Benz  C-Class             0.0   \n",
       "5943           First    6.0   1.70       Mahindra     Jeep             0.0   \n",
       "5972          Second    5.0   1.39        Hyundai   Santro             0.0   \n",
       "6011           First    5.0   4.75          Skoda   Superb             0.0   \n",
       "\n",
       "      Engine (CC)  Power (bhp)  \n",
       "14         2179.0        115.0  \n",
       "67         1950.0        194.0  \n",
       "79         1086.0          NaN  \n",
       "194           NaN          NaN  \n",
       "229        1498.0         99.0  \n",
       "...           ...          ...  \n",
       "5647       2446.0          NaN  \n",
       "5875       1950.0        194.0  \n",
       "5943       2112.0          NaN  \n",
       "5972       1086.0         62.0  \n",
       "6011       3597.0        262.6  \n",
       "\n",
       "[68 rows x 13 columns]"
      ],
      "text/html": "<div>\n<style scoped>\n    .dataframe tbody tr th:only-of-type {\n        vertical-align: middle;\n    }\n\n    .dataframe tbody tr th {\n        vertical-align: top;\n    }\n\n    .dataframe thead th {\n        text-align: right;\n    }\n</style>\n<table border=\"1\" class=\"dataframe\">\n  <thead>\n    <tr style=\"text-align: right;\">\n      <th></th>\n      <th>Location</th>\n      <th>Year</th>\n      <th>Kilometers_Driven</th>\n      <th>Fuel_Type</th>\n      <th>Transmission</th>\n      <th>Owner_Type</th>\n      <th>Seats</th>\n      <th>Price</th>\n      <th>Brand</th>\n      <th>Series</th>\n      <th>Mileage (kmpl)</th>\n      <th>Engine (CC)</th>\n      <th>Power (bhp)</th>\n    </tr>\n  </thead>\n  <tbody>\n    <tr>\n      <th>14</th>\n      <td>Pune</td>\n      <td>2012</td>\n      <td>85000</td>\n      <td>Diesel</td>\n      <td>Automatic</td>\n      <td>Second</td>\n      <td>5.0</td>\n      <td>17.50</td>\n      <td>Land</td>\n      <td>Rover</td>\n      <td>0.0</td>\n      <td>2179.0</td>\n      <td>115.0</td>\n    </tr>\n    <tr>\n      <th>67</th>\n      <td>Coimbatore</td>\n      <td>2019</td>\n      <td>15369</td>\n      <td>Diesel</td>\n      <td>Automatic</td>\n      <td>First</td>\n      <td>5.0</td>\n      <td>35.67</td>\n      <td>Mercedes-Benz</td>\n      <td>C-Class</td>\n      <td>0.0</td>\n      <td>1950.0</td>\n      <td>194.0</td>\n    </tr>\n    <tr>\n      <th>79</th>\n      <td>Hyderabad</td>\n      <td>2005</td>\n      <td>87591</td>\n      <td>Petrol</td>\n      <td>Manual</td>\n      <td>First</td>\n      <td>5.0</td>\n      <td>1.30</td>\n      <td>Hyundai</td>\n      <td>Santro</td>\n      <td>0.0</td>\n      <td>1086.0</td>\n      <td>NaN</td>\n    </tr>\n    <tr>\n      <th>194</th>\n      <td>Ahmedabad</td>\n      <td>2007</td>\n      <td>60006</td>\n      <td>Petrol</td>\n      <td>Manual</td>\n      <td>First</td>\n      <td>NaN</td>\n      <td>2.95</td>\n      <td>Honda</td>\n      <td>City</td>\n      <td>0.0</td>\n      <td>NaN</td>\n      <td>NaN</td>\n    </tr>\n    <tr>\n      <th>229</th>\n      <td>Bangalore</td>\n      <td>2015</td>\n      <td>70436</td>\n      <td>Diesel</td>\n      <td>Manual</td>\n      <td>First</td>\n      <td>NaN</td>\n      <td>3.60</td>\n      <td>Ford</td>\n      <td>Figo</td>\n      <td>0.0</td>\n      <td>1498.0</td>\n      <td>99.0</td>\n    </tr>\n    <tr>\n      <th>...</th>\n      <td>...</td>\n      <td>...</td>\n      <td>...</td>\n      <td>...</td>\n      <td>...</td>\n      <td>...</td>\n      <td>...</td>\n      <td>...</td>\n      <td>...</td>\n      <td>...</td>\n      <td>...</td>\n      <td>...</td>\n      <td>...</td>\n    </tr>\n    <tr>\n      <th>5647</th>\n      <td>Mumbai</td>\n      <td>2001</td>\n      <td>227000</td>\n      <td>Diesel</td>\n      <td>Manual</td>\n      <td>Fourth &amp; Above</td>\n      <td>8.0</td>\n      <td>2.20</td>\n      <td>Toyota</td>\n      <td>Qualis</td>\n      <td>0.0</td>\n      <td>2446.0</td>\n      <td>NaN</td>\n    </tr>\n    <tr>\n      <th>5875</th>\n      <td>Ahmedabad</td>\n      <td>2019</td>\n      <td>4000</td>\n      <td>Diesel</td>\n      <td>Automatic</td>\n      <td>First</td>\n      <td>5.0</td>\n      <td>35.00</td>\n      <td>Mercedes-Benz</td>\n      <td>C-Class</td>\n      <td>0.0</td>\n      <td>1950.0</td>\n      <td>194.0</td>\n    </tr>\n    <tr>\n      <th>5943</th>\n      <td>Chennai</td>\n      <td>2002</td>\n      <td>75000</td>\n      <td>Diesel</td>\n      <td>Manual</td>\n      <td>First</td>\n      <td>6.0</td>\n      <td>1.70</td>\n      <td>Mahindra</td>\n      <td>Jeep</td>\n      <td>0.0</td>\n      <td>2112.0</td>\n      <td>NaN</td>\n    </tr>\n    <tr>\n      <th>5972</th>\n      <td>Mumbai</td>\n      <td>2008</td>\n      <td>65000</td>\n      <td>Petrol</td>\n      <td>Manual</td>\n      <td>Second</td>\n      <td>5.0</td>\n      <td>1.39</td>\n      <td>Hyundai</td>\n      <td>Santro</td>\n      <td>0.0</td>\n      <td>1086.0</td>\n      <td>62.0</td>\n    </tr>\n    <tr>\n      <th>6011</th>\n      <td>Hyderabad</td>\n      <td>2009</td>\n      <td>53000</td>\n      <td>Petrol</td>\n      <td>Automatic</td>\n      <td>First</td>\n      <td>5.0</td>\n      <td>4.75</td>\n      <td>Skoda</td>\n      <td>Superb</td>\n      <td>0.0</td>\n      <td>3597.0</td>\n      <td>262.6</td>\n    </tr>\n  </tbody>\n</table>\n<p>68 rows × 13 columns</p>\n</div>"
     },
     "metadata": {},
     "execution_count": 21
    }
   ],
   "source": [
    "# Check milage 0\n",
    "df[df['Mileage (kmpl)']==0]"
   ]
  },
  {
   "cell_type": "code",
   "execution_count": 22,
   "metadata": {},
   "outputs": [
    {
     "output_type": "execute_result",
     "data": {
      "text/plain": [
       "       Location  Year  Kilometers_Driven Fuel_Type Transmission Owner_Type  \\\n",
       "3999  Hyderabad  2012             125000    Petrol    Automatic      First   \n",
       "\n",
       "      Seats  Price Brand Series  Mileage (kmpl)  Engine (CC)  Power (bhp)  \n",
       "3999    0.0   18.0  Audi     A4            10.5       3197.0          NaN  "
      ],
      "text/html": "<div>\n<style scoped>\n    .dataframe tbody tr th:only-of-type {\n        vertical-align: middle;\n    }\n\n    .dataframe tbody tr th {\n        vertical-align: top;\n    }\n\n    .dataframe thead th {\n        text-align: right;\n    }\n</style>\n<table border=\"1\" class=\"dataframe\">\n  <thead>\n    <tr style=\"text-align: right;\">\n      <th></th>\n      <th>Location</th>\n      <th>Year</th>\n      <th>Kilometers_Driven</th>\n      <th>Fuel_Type</th>\n      <th>Transmission</th>\n      <th>Owner_Type</th>\n      <th>Seats</th>\n      <th>Price</th>\n      <th>Brand</th>\n      <th>Series</th>\n      <th>Mileage (kmpl)</th>\n      <th>Engine (CC)</th>\n      <th>Power (bhp)</th>\n    </tr>\n  </thead>\n  <tbody>\n    <tr>\n      <th>3999</th>\n      <td>Hyderabad</td>\n      <td>2012</td>\n      <td>125000</td>\n      <td>Petrol</td>\n      <td>Automatic</td>\n      <td>First</td>\n      <td>0.0</td>\n      <td>18.0</td>\n      <td>Audi</td>\n      <td>A4</td>\n      <td>10.5</td>\n      <td>3197.0</td>\n      <td>NaN</td>\n    </tr>\n  </tbody>\n</table>\n</div>"
     },
     "metadata": {},
     "execution_count": 22
    }
   ],
   "source": [
    "# Seats 0 value\n",
    "df[df['Seats']==0]"
   ]
  },
  {
   "cell_type": "code",
   "execution_count": 23,
   "metadata": {},
   "outputs": [],
   "source": [
    "# Replace 0 value to nan\n",
    "df['Mileage (kmpl)'] = df['Mileage (kmpl)'].replace(0, np.nan)\n",
    "df['Seats'] = df['Seats'].replace(0, np.nan)"
   ]
  },
  {
   "cell_type": "code",
   "execution_count": 24,
   "metadata": {},
   "outputs": [
    {
     "output_type": "execute_result",
     "data": {
      "text/plain": [
       "Location         11\n",
       "Fuel_Type         5\n",
       "Transmission      2\n",
       "Owner_Type        4\n",
       "Brand            31\n",
       "Series          212\n",
       "dtype: int64"
      ]
     },
     "metadata": {},
     "execution_count": 24
    }
   ],
   "source": [
    "# Check unique value\n",
    "cat_cols = [col for col in df.columns if df[col].dtypes == 'object']\n",
    "df[cat_cols].nunique()"
   ]
  },
  {
   "cell_type": "code",
   "execution_count": 25,
   "metadata": {},
   "outputs": [
    {
     "output_type": "stream",
     "name": "stdout",
     "text": [
      "Location ['Mumbai' 'Pune' 'Chennai' 'Coimbatore' 'Hyderabad' 'Jaipur' 'Kochi'\n 'Kolkata' 'Delhi' 'Bangalore' 'Ahmedabad'] \n\nFuel_Type ['CNG' 'Diesel' 'Petrol' 'LPG' 'Electric'] \n\nTransmission ['Manual' 'Automatic'] \n\nOwner_Type ['First' 'Second' 'Fourth & Above' 'Third'] \n\nBrand ['Maruti' 'Hyundai' 'Honda' 'Audi' 'Nissan' 'Toyota' 'Volkswagen' 'Tata'\n 'Land' 'Mitsubishi' 'Renault' 'Mercedes-Benz' 'BMW' 'Mahindra' 'Ford'\n 'Porsche' 'Datsun' 'Jaguar' 'Volvo' 'Chevrolet' 'Skoda' 'Mini' 'Fiat'\n 'Jeep' 'Smart' 'Ambassador' 'Isuzu' 'ISUZU' 'Force' 'Bentley'\n 'Lamborghini'] \n\nSeries ['Wagon' 'Creta' 'Jazz' 'Ertiga' 'A4' 'EON' 'Micra' 'Innova' 'Vento'\n 'Indica' 'Ciaz' 'City' 'Swift' 'Rover' 'Pajero' 'Amaze' 'Duster' 'New'\n '3' 'S' 'A6' 'i20' 'Alto' 'WRV' 'Corolla' 'Ssangyong' 'Vitara' 'KUV'\n 'M-Class' 'Polo' 'Nano' 'Elantra' 'Xcent' 'Thar' 'Grand' 'KWID' 'i10'\n 'X-Trail' 'Zen' 'Figo' 'C-Class' 'Cayenne' 'XUV500' 'Terrano' 'Brio'\n 'Fiesta' 'Santro' 'Zest' 'Ritz' '5' 'Fortuner' 'Ecosport' 'Verna' 'GO'\n 'Omni' 'Etios' 'XF' 'Eeco' 'Civic' 'V40' 'B' 'Scorpio' 'CR-V' 'SLC' '1'\n 'Beat' 'Rapid' 'RS5' 'Superb' 'X5' 'GLC' 'Countryman' 'Optra' 'Lodgy'\n 'E-Class' 'Baleno' 'Laura' 'NuvoSport' 'Fabia' 'Indigo' 'Q3' 'Octavia'\n 'A8' 'Verito' 'Cooper' 'Santa' 'X1' 'Accent' 'Tucson' 'GLE' 'A-Star'\n 'Grande' 'X3' 'EcoSport' 'Q7' 'Jetta' 'GLA' 'Celerio' 'Sumo' 'Accord' '6'\n 'Manza' 'Spark' 'Clubman' 'Teana' '800' 'BRV' 'XE' 'Xenon' 'A3'\n 'GL-Class' 'BR-V' 'S80' 'Captur' 'Enjoy' 'Bolero' 'Q5' 'Cedia' 'S-Cross'\n 'Yeti' 'Endeavour' 'GLS' 'A' 'SX4' 'Camry' 'Mobilio' 'Linea' 'TT'\n 'Renault' 'Compass' 'Ikon' 'Sail' 'Quanto' 'Aveo' 'Xylo' 'Esteem'\n 'Safari' 'Ignis' 'XJ' 'Sunny' 'SLK-Class' 'Passat' 'Dzire' 'Cruze'\n 'Koleos' 'Qualis' 'Ameo' 'redi-GO' 'Fortwo' 'Outlander' 'Cayman' 'CLA'\n 'XC60' 'Boxster' 'XUV300' 'Hexa' 'Tiago' '7' 'Avventura' 'Tigor' 'S60'\n 'Classic' 'Beetle' 'Petra' 'Getz' 'A7' 'Elite' 'Aspire' 'Tiguan'\n 'Captiva' 'Punto' 'TUV' 'X6' 'Bolt' 'Evalia' 'Scala' 'Jeep' 'Sonata'\n 'Freestyle' 'Logan' 'Tavera' 'Estilo' 'XC90' 'Pulse' 'Montero' 'Panamera'\n 'CrossPolo' 'Fluence' 'Venture' 'Nexon' 'MUX' 'Platinum' 'R-Class'\n 'CLS-Class' 'D-MAX' 'S-Class' 'Lancer' 'Redi' 'E' 'Mustang' 'Fusion'\n 'Siena' '1000' 'SL-Class' 'Z4' 'Prius' 'One' 'Versa' 'WR-V' 'Continental'\n 'Gallardo' 'F'] \n\n"
     ]
    }
   ],
   "source": [
    "for col in cat_cols:\n",
    "  print(col, df[col].unique(), '\\n')"
   ]
  },
  {
   "cell_type": "code",
   "execution_count": 26,
   "metadata": {},
   "outputs": [],
   "source": [
    "# Replace duplicated value\n",
    "df['Brand'] = df['Brand'].replace('ISUZU', 'Isuzu')"
   ]
  },
  {
   "cell_type": "code",
   "execution_count": 27,
   "metadata": {},
   "outputs": [
    {
     "output_type": "execute_result",
     "data": {
      "text/plain": [
       "     Location  Year  Kilometers_Driven Fuel_Type Transmission Owner_Type  \\\n",
       "0      Mumbai  2010              72000       CNG       Manual      First   \n",
       "1        Pune  2015              41000    Diesel       Manual      First   \n",
       "2     Chennai  2011              46000    Petrol       Manual      First   \n",
       "3     Chennai  2012              87000    Diesel       Manual      First   \n",
       "4  Coimbatore  2013              40670    Diesel    Automatic     Second   \n",
       "\n",
       "   Seats  Price    Brand  Series  Mileage (kmpl)  Engine (CC)  Power (bhp)  \n",
       "0    5.0   1.75   Maruti   Wagon           26.60        998.0        58.16  \n",
       "1    5.0  12.50  Hyundai   Creta           19.67       1582.0       126.20  \n",
       "2    5.0   4.50    Honda    Jazz           18.20       1199.0        88.70  \n",
       "3    7.0   6.00   Maruti  Ertiga           20.77       1248.0        88.76  \n",
       "4    5.0  17.74     Audi      A4           15.20       1968.0       140.80  "
      ],
      "text/html": "<div>\n<style scoped>\n    .dataframe tbody tr th:only-of-type {\n        vertical-align: middle;\n    }\n\n    .dataframe tbody tr th {\n        vertical-align: top;\n    }\n\n    .dataframe thead th {\n        text-align: right;\n    }\n</style>\n<table border=\"1\" class=\"dataframe\">\n  <thead>\n    <tr style=\"text-align: right;\">\n      <th></th>\n      <th>Location</th>\n      <th>Year</th>\n      <th>Kilometers_Driven</th>\n      <th>Fuel_Type</th>\n      <th>Transmission</th>\n      <th>Owner_Type</th>\n      <th>Seats</th>\n      <th>Price</th>\n      <th>Brand</th>\n      <th>Series</th>\n      <th>Mileage (kmpl)</th>\n      <th>Engine (CC)</th>\n      <th>Power (bhp)</th>\n    </tr>\n  </thead>\n  <tbody>\n    <tr>\n      <th>0</th>\n      <td>Mumbai</td>\n      <td>2010</td>\n      <td>72000</td>\n      <td>CNG</td>\n      <td>Manual</td>\n      <td>First</td>\n      <td>5.0</td>\n      <td>1.75</td>\n      <td>Maruti</td>\n      <td>Wagon</td>\n      <td>26.60</td>\n      <td>998.0</td>\n      <td>58.16</td>\n    </tr>\n    <tr>\n      <th>1</th>\n      <td>Pune</td>\n      <td>2015</td>\n      <td>41000</td>\n      <td>Diesel</td>\n      <td>Manual</td>\n      <td>First</td>\n      <td>5.0</td>\n      <td>12.50</td>\n      <td>Hyundai</td>\n      <td>Creta</td>\n      <td>19.67</td>\n      <td>1582.0</td>\n      <td>126.20</td>\n    </tr>\n    <tr>\n      <th>2</th>\n      <td>Chennai</td>\n      <td>2011</td>\n      <td>46000</td>\n      <td>Petrol</td>\n      <td>Manual</td>\n      <td>First</td>\n      <td>5.0</td>\n      <td>4.50</td>\n      <td>Honda</td>\n      <td>Jazz</td>\n      <td>18.20</td>\n      <td>1199.0</td>\n      <td>88.70</td>\n    </tr>\n    <tr>\n      <th>3</th>\n      <td>Chennai</td>\n      <td>2012</td>\n      <td>87000</td>\n      <td>Diesel</td>\n      <td>Manual</td>\n      <td>First</td>\n      <td>7.0</td>\n      <td>6.00</td>\n      <td>Maruti</td>\n      <td>Ertiga</td>\n      <td>20.77</td>\n      <td>1248.0</td>\n      <td>88.76</td>\n    </tr>\n    <tr>\n      <th>4</th>\n      <td>Coimbatore</td>\n      <td>2013</td>\n      <td>40670</td>\n      <td>Diesel</td>\n      <td>Automatic</td>\n      <td>Second</td>\n      <td>5.0</td>\n      <td>17.74</td>\n      <td>Audi</td>\n      <td>A4</td>\n      <td>15.20</td>\n      <td>1968.0</td>\n      <td>140.80</td>\n    </tr>\n  </tbody>\n</table>\n</div>"
     },
     "metadata": {},
     "execution_count": 27
    }
   ],
   "source": [
    "df.head()"
   ]
  },
  {
   "cell_type": "code",
   "execution_count": 28,
   "metadata": {},
   "outputs": [
    {
     "output_type": "execute_result",
     "data": {
      "text/plain": [
       "              Year  Kilometers_Driven        Seats        Price  \\\n",
       "count  6019.000000       6.019000e+03  5976.000000  6019.000000   \n",
       "mean   2013.358199       5.873838e+04     5.279618     9.479468   \n",
       "std       3.269742       9.126884e+04     0.806019    11.187917   \n",
       "min    1998.000000       1.710000e+02     2.000000     0.440000   \n",
       "25%    2011.000000       3.400000e+04     5.000000     3.500000   \n",
       "50%    2014.000000       5.300000e+04     5.000000     5.640000   \n",
       "75%    2016.000000       7.300000e+04     5.000000     9.950000   \n",
       "max    2019.000000       6.500000e+06    10.000000   160.000000   \n",
       "\n",
       "       Mileage (kmpl)  Engine (CC)  Power (bhp)  \n",
       "count     5949.000000  5983.000000  5876.000000  \n",
       "mean        18.342252  1621.276450   113.253050  \n",
       "std          4.175475   601.355233    53.874957  \n",
       "min          6.400000    72.000000    34.200000  \n",
       "25%         15.300000  1198.000000    75.000000  \n",
       "50%         18.200000  1493.000000    97.700000  \n",
       "75%         21.100000  1984.000000   138.100000  \n",
       "max         33.540000  5998.000000   560.000000  "
      ],
      "text/html": "<div>\n<style scoped>\n    .dataframe tbody tr th:only-of-type {\n        vertical-align: middle;\n    }\n\n    .dataframe tbody tr th {\n        vertical-align: top;\n    }\n\n    .dataframe thead th {\n        text-align: right;\n    }\n</style>\n<table border=\"1\" class=\"dataframe\">\n  <thead>\n    <tr style=\"text-align: right;\">\n      <th></th>\n      <th>Year</th>\n      <th>Kilometers_Driven</th>\n      <th>Seats</th>\n      <th>Price</th>\n      <th>Mileage (kmpl)</th>\n      <th>Engine (CC)</th>\n      <th>Power (bhp)</th>\n    </tr>\n  </thead>\n  <tbody>\n    <tr>\n      <th>count</th>\n      <td>6019.000000</td>\n      <td>6.019000e+03</td>\n      <td>5976.000000</td>\n      <td>6019.000000</td>\n      <td>5949.000000</td>\n      <td>5983.000000</td>\n      <td>5876.000000</td>\n    </tr>\n    <tr>\n      <th>mean</th>\n      <td>2013.358199</td>\n      <td>5.873838e+04</td>\n      <td>5.279618</td>\n      <td>9.479468</td>\n      <td>18.342252</td>\n      <td>1621.276450</td>\n      <td>113.253050</td>\n    </tr>\n    <tr>\n      <th>std</th>\n      <td>3.269742</td>\n      <td>9.126884e+04</td>\n      <td>0.806019</td>\n      <td>11.187917</td>\n      <td>4.175475</td>\n      <td>601.355233</td>\n      <td>53.874957</td>\n    </tr>\n    <tr>\n      <th>min</th>\n      <td>1998.000000</td>\n      <td>1.710000e+02</td>\n      <td>2.000000</td>\n      <td>0.440000</td>\n      <td>6.400000</td>\n      <td>72.000000</td>\n      <td>34.200000</td>\n    </tr>\n    <tr>\n      <th>25%</th>\n      <td>2011.000000</td>\n      <td>3.400000e+04</td>\n      <td>5.000000</td>\n      <td>3.500000</td>\n      <td>15.300000</td>\n      <td>1198.000000</td>\n      <td>75.000000</td>\n    </tr>\n    <tr>\n      <th>50%</th>\n      <td>2014.000000</td>\n      <td>5.300000e+04</td>\n      <td>5.000000</td>\n      <td>5.640000</td>\n      <td>18.200000</td>\n      <td>1493.000000</td>\n      <td>97.700000</td>\n    </tr>\n    <tr>\n      <th>75%</th>\n      <td>2016.000000</td>\n      <td>7.300000e+04</td>\n      <td>5.000000</td>\n      <td>9.950000</td>\n      <td>21.100000</td>\n      <td>1984.000000</td>\n      <td>138.100000</td>\n    </tr>\n    <tr>\n      <th>max</th>\n      <td>2019.000000</td>\n      <td>6.500000e+06</td>\n      <td>10.000000</td>\n      <td>160.000000</td>\n      <td>33.540000</td>\n      <td>5998.000000</td>\n      <td>560.000000</td>\n    </tr>\n  </tbody>\n</table>\n</div>"
     },
     "metadata": {},
     "execution_count": 28
    }
   ],
   "source": [
    "df.describe()"
   ]
  },
  {
   "cell_type": "code",
   "execution_count": 29,
   "metadata": {},
   "outputs": [
    {
     "output_type": "execute_result",
     "data": {
      "text/plain": [
       "       Location Fuel_Type Transmission Owner_Type   Brand Series\n",
       "count      6019      6019         6019       6019    6019   6019\n",
       "unique       11         5            2          4      30    212\n",
       "top      Mumbai    Diesel       Manual      First  Maruti  Swift\n",
       "freq        790      3205         4299       4929    1211    353"
      ],
      "text/html": "<div>\n<style scoped>\n    .dataframe tbody tr th:only-of-type {\n        vertical-align: middle;\n    }\n\n    .dataframe tbody tr th {\n        vertical-align: top;\n    }\n\n    .dataframe thead th {\n        text-align: right;\n    }\n</style>\n<table border=\"1\" class=\"dataframe\">\n  <thead>\n    <tr style=\"text-align: right;\">\n      <th></th>\n      <th>Location</th>\n      <th>Fuel_Type</th>\n      <th>Transmission</th>\n      <th>Owner_Type</th>\n      <th>Brand</th>\n      <th>Series</th>\n    </tr>\n  </thead>\n  <tbody>\n    <tr>\n      <th>count</th>\n      <td>6019</td>\n      <td>6019</td>\n      <td>6019</td>\n      <td>6019</td>\n      <td>6019</td>\n      <td>6019</td>\n    </tr>\n    <tr>\n      <th>unique</th>\n      <td>11</td>\n      <td>5</td>\n      <td>2</td>\n      <td>4</td>\n      <td>30</td>\n      <td>212</td>\n    </tr>\n    <tr>\n      <th>top</th>\n      <td>Mumbai</td>\n      <td>Diesel</td>\n      <td>Manual</td>\n      <td>First</td>\n      <td>Maruti</td>\n      <td>Swift</td>\n    </tr>\n    <tr>\n      <th>freq</th>\n      <td>790</td>\n      <td>3205</td>\n      <td>4299</td>\n      <td>4929</td>\n      <td>1211</td>\n      <td>353</td>\n    </tr>\n  </tbody>\n</table>\n</div>"
     },
     "metadata": {},
     "execution_count": 29
    }
   ],
   "source": [
    "df.describe(include=['object']) "
   ]
  },
  {
   "cell_type": "code",
   "execution_count": 30,
   "metadata": {},
   "outputs": [
    {
     "output_type": "execute_result",
     "data": {
      "text/plain": [
       "                   null (sum)  null (%)\n",
       "Power (bhp)               143      2.38\n",
       "Mileage (kmpl)             70      1.16\n",
       "Seats                      43      0.71\n",
       "Engine (CC)                36      0.60\n",
       "Location                    0      0.00\n",
       "Year                        0      0.00\n",
       "Kilometers_Driven           0      0.00\n",
       "Fuel_Type                   0      0.00\n",
       "Transmission                0      0.00\n",
       "Owner_Type                  0      0.00\n",
       "Price                       0      0.00\n",
       "Brand                       0      0.00\n",
       "Series                      0      0.00"
      ],
      "text/html": "<div>\n<style scoped>\n    .dataframe tbody tr th:only-of-type {\n        vertical-align: middle;\n    }\n\n    .dataframe tbody tr th {\n        vertical-align: top;\n    }\n\n    .dataframe thead th {\n        text-align: right;\n    }\n</style>\n<table border=\"1\" class=\"dataframe\">\n  <thead>\n    <tr style=\"text-align: right;\">\n      <th></th>\n      <th>null (sum)</th>\n      <th>null (%)</th>\n    </tr>\n  </thead>\n  <tbody>\n    <tr>\n      <th>Power (bhp)</th>\n      <td>143</td>\n      <td>2.38</td>\n    </tr>\n    <tr>\n      <th>Mileage (kmpl)</th>\n      <td>70</td>\n      <td>1.16</td>\n    </tr>\n    <tr>\n      <th>Seats</th>\n      <td>43</td>\n      <td>0.71</td>\n    </tr>\n    <tr>\n      <th>Engine (CC)</th>\n      <td>36</td>\n      <td>0.60</td>\n    </tr>\n    <tr>\n      <th>Location</th>\n      <td>0</td>\n      <td>0.00</td>\n    </tr>\n    <tr>\n      <th>Year</th>\n      <td>0</td>\n      <td>0.00</td>\n    </tr>\n    <tr>\n      <th>Kilometers_Driven</th>\n      <td>0</td>\n      <td>0.00</td>\n    </tr>\n    <tr>\n      <th>Fuel_Type</th>\n      <td>0</td>\n      <td>0.00</td>\n    </tr>\n    <tr>\n      <th>Transmission</th>\n      <td>0</td>\n      <td>0.00</td>\n    </tr>\n    <tr>\n      <th>Owner_Type</th>\n      <td>0</td>\n      <td>0.00</td>\n    </tr>\n    <tr>\n      <th>Price</th>\n      <td>0</td>\n      <td>0.00</td>\n    </tr>\n    <tr>\n      <th>Brand</th>\n      <td>0</td>\n      <td>0.00</td>\n    </tr>\n    <tr>\n      <th>Series</th>\n      <td>0</td>\n      <td>0.00</td>\n    </tr>\n  </tbody>\n</table>\n</div>"
     },
     "metadata": {},
     "execution_count": 30
    }
   ],
   "source": [
    "null_checker(df)"
   ]
  },
  {
   "cell_type": "code",
   "execution_count": null,
   "metadata": {},
   "outputs": [],
   "source": []
  }
 ],
 "metadata": {
  "jupytext": {
   "formats": "notebooks//ipynb,markdown//md,scripts/preparation//py:percent",
   "main_language": "python"
  },
  "kernelspec": {
   "name": "Python 3.8.6 64-bit ('venv')",
   "display_name": "Python 3.8.6 64-bit ('venv')",
   "metadata": {
    "interpreter": {
     "hash": "6881b799b850b05580eb5c78fcf905fdcfeacf53e20d91c1f7827cafeb6d87ae"
    }
   }
  }
 },
 "nbformat": 4,
 "nbformat_minor": 4
}