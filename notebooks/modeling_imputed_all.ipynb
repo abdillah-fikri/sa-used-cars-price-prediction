{
 "cells": [
  {
   "cell_type": "markdown",
   "metadata": {},
   "source": [
    "# Data Importing"
   ]
  },
  {
   "cell_type": "code",
   "execution_count": 1,
   "metadata": {},
   "outputs": [],
   "source": [
    "import pandas as pd\n",
    "import numpy as np\n",
    "import category_encoders as ce\n",
    "import miceforest as mf\n",
    "import optuna\n",
    "import lightgbm as lgb\n",
    "import xgboost as xgb\n",
    "\n",
    "from utils import *\n",
    "from sklearn.model_selection import train_test_split, cross_val_score, cross_validate, KFold\n",
    "from sklearn.tree import DecisionTreeRegressor\n",
    "from xgboost import XGBRegressor\n",
    "from lightgbm import LGBMRegressor\n",
    "from catboost import CatBoostRegressor\n",
    "from sklearn.ensemble import RandomForestRegressor\n",
    "from sklearn.linear_model import LinearRegression, Lasso\n",
    "from sklearn import metrics\n",
    "from sklearn.impute import SimpleImputer"
   ]
  },
  {
   "cell_type": "code",
   "execution_count": 2,
   "metadata": {},
   "outputs": [
    {
     "output_type": "execute_result",
     "data": {
      "text/plain": [
       "     Location  Year  Kilometers_Driven Fuel_Type Transmission Owner_Type  \\\n",
       "0      Mumbai  2010              72000       CNG       Manual      First   \n",
       "1        Pune  2015              41000    Diesel       Manual      First   \n",
       "2     Chennai  2011              46000    Petrol       Manual      First   \n",
       "3     Chennai  2012              87000    Diesel       Manual      First   \n",
       "4  Coimbatore  2013              40670    Diesel    Automatic     Second   \n",
       "\n",
       "   Seats  Price    Brand  Series Type  Mileage (kmpl)  Engine (CC)  \\\n",
       "0    5.0   1.75   Maruti   Wagon    R           26.60        998.0   \n",
       "1    5.0  12.50  Hyundai   Creta  1.6           19.67       1582.0   \n",
       "2    5.0   4.50    Honda    Jazz    V           18.20       1199.0   \n",
       "3    7.0   6.00   Maruti  Ertiga  VDI           20.77       1248.0   \n",
       "4    5.0  17.74     Audi      A4  New           15.20       1968.0   \n",
       "\n",
       "   Power (bhp)  \n",
       "0        58.16  \n",
       "1       126.20  \n",
       "2        88.70  \n",
       "3        88.76  \n",
       "4       140.80  "
      ],
      "text/html": "<div>\n<style scoped>\n    .dataframe tbody tr th:only-of-type {\n        vertical-align: middle;\n    }\n\n    .dataframe tbody tr th {\n        vertical-align: top;\n    }\n\n    .dataframe thead th {\n        text-align: right;\n    }\n</style>\n<table border=\"1\" class=\"dataframe\">\n  <thead>\n    <tr style=\"text-align: right;\">\n      <th></th>\n      <th>Location</th>\n      <th>Year</th>\n      <th>Kilometers_Driven</th>\n      <th>Fuel_Type</th>\n      <th>Transmission</th>\n      <th>Owner_Type</th>\n      <th>Seats</th>\n      <th>Price</th>\n      <th>Brand</th>\n      <th>Series</th>\n      <th>Type</th>\n      <th>Mileage (kmpl)</th>\n      <th>Engine (CC)</th>\n      <th>Power (bhp)</th>\n    </tr>\n  </thead>\n  <tbody>\n    <tr>\n      <th>0</th>\n      <td>Mumbai</td>\n      <td>2010</td>\n      <td>72000</td>\n      <td>CNG</td>\n      <td>Manual</td>\n      <td>First</td>\n      <td>5.0</td>\n      <td>1.75</td>\n      <td>Maruti</td>\n      <td>Wagon</td>\n      <td>R</td>\n      <td>26.60</td>\n      <td>998.0</td>\n      <td>58.16</td>\n    </tr>\n    <tr>\n      <th>1</th>\n      <td>Pune</td>\n      <td>2015</td>\n      <td>41000</td>\n      <td>Diesel</td>\n      <td>Manual</td>\n      <td>First</td>\n      <td>5.0</td>\n      <td>12.50</td>\n      <td>Hyundai</td>\n      <td>Creta</td>\n      <td>1.6</td>\n      <td>19.67</td>\n      <td>1582.0</td>\n      <td>126.20</td>\n    </tr>\n    <tr>\n      <th>2</th>\n      <td>Chennai</td>\n      <td>2011</td>\n      <td>46000</td>\n      <td>Petrol</td>\n      <td>Manual</td>\n      <td>First</td>\n      <td>5.0</td>\n      <td>4.50</td>\n      <td>Honda</td>\n      <td>Jazz</td>\n      <td>V</td>\n      <td>18.20</td>\n      <td>1199.0</td>\n      <td>88.70</td>\n    </tr>\n    <tr>\n      <th>3</th>\n      <td>Chennai</td>\n      <td>2012</td>\n      <td>87000</td>\n      <td>Diesel</td>\n      <td>Manual</td>\n      <td>First</td>\n      <td>7.0</td>\n      <td>6.00</td>\n      <td>Maruti</td>\n      <td>Ertiga</td>\n      <td>VDI</td>\n      <td>20.77</td>\n      <td>1248.0</td>\n      <td>88.76</td>\n    </tr>\n    <tr>\n      <th>4</th>\n      <td>Coimbatore</td>\n      <td>2013</td>\n      <td>40670</td>\n      <td>Diesel</td>\n      <td>Automatic</td>\n      <td>Second</td>\n      <td>5.0</td>\n      <td>17.74</td>\n      <td>Audi</td>\n      <td>A4</td>\n      <td>New</td>\n      <td>15.20</td>\n      <td>1968.0</td>\n      <td>140.80</td>\n    </tr>\n  </tbody>\n</table>\n</div>"
     },
     "metadata": {},
     "execution_count": 2
    }
   ],
   "source": [
    "df = pd.read_csv('../data/processed/after_prep.csv')\n",
    "df.head()"
   ]
  },
  {
   "cell_type": "code",
   "execution_count": 3,
   "metadata": {},
   "outputs": [
    {
     "output_type": "stream",
     "name": "stdout",
     "text": [
      "<class 'pandas.core.frame.DataFrame'>\nRangeIndex: 6019 entries, 0 to 6018\nData columns (total 14 columns):\n #   Column             Non-Null Count  Dtype  \n---  ------             --------------  -----  \n 0   Location           6019 non-null   object \n 1   Year               6019 non-null   int64  \n 2   Kilometers_Driven  6019 non-null   int64  \n 3   Fuel_Type          6019 non-null   object \n 4   Transmission       6019 non-null   object \n 5   Owner_Type         6019 non-null   object \n 6   Seats              5976 non-null   float64\n 7   Price              6019 non-null   float64\n 8   Brand              6019 non-null   object \n 9   Series             6019 non-null   object \n 10  Type               6019 non-null   object \n 11  Mileage (kmpl)     5951 non-null   float64\n 12  Engine (CC)        5983 non-null   float64\n 13  Power (bhp)        5876 non-null   float64\ndtypes: float64(5), int64(2), object(7)\nmemory usage: 658.5+ KB\n"
     ]
    }
   ],
   "source": [
    "df.info()"
   ]
  },
  {
   "cell_type": "markdown",
   "metadata": {
    "id": "g1GS1AAUZIt9"
   },
   "source": [
    "# Preprocessing"
   ]
  },
  {
   "cell_type": "code",
   "execution_count": 4,
   "metadata": {
    "execution": {
     "iopub.execute_input": "2020-10-15T12:50:17.869621Z",
     "iopub.status.busy": "2020-10-15T12:50:17.869621Z",
     "iopub.status.idle": "2020-10-15T12:50:17.883583Z",
     "shell.execute_reply": "2020-10-15T12:50:17.882586Z",
     "shell.execute_reply.started": "2020-10-15T12:50:17.869621Z"
    },
    "id": "INV8VvOYZItN"
   },
   "outputs": [
    {
     "output_type": "execute_result",
     "data": {
      "text/plain": [
       "(6018, 14)"
      ]
     },
     "metadata": {},
     "execution_count": 4
    }
   ],
   "source": [
    "# Delete outlier\n",
    "df = df[~(df.Kilometers_Driven > 1e6)]\n",
    "df.shape"
   ]
  },
  {
   "cell_type": "markdown",
   "metadata": {
    "id": "yEgVyyNSZIt9"
   },
   "source": [
    "## Train test split"
   ]
  },
  {
   "cell_type": "code",
   "execution_count": 5,
   "metadata": {
    "execution": {
     "iopub.execute_input": "2020-10-15T12:50:17.884579Z",
     "iopub.status.busy": "2020-10-15T12:50:17.884579Z",
     "iopub.status.idle": "2020-10-15T12:50:17.898543Z",
     "shell.execute_reply": "2020-10-15T12:50:17.897546Z",
     "shell.execute_reply.started": "2020-10-15T12:50:17.884579Z"
    },
    "id": "nPxFt6bSZIt-",
    "outputId": "2b131b44-7d5e-469d-9e5f-0bc241abd283"
   },
   "outputs": [],
   "source": [
    "# melakukan train test split di awal untuk mencegah data bocor ke test set saat dilakukan encoding/imputation\n",
    "features = df.drop(columns=['Price'])\n",
    "target = df['Price']\n",
    "X_train, X_test, y_train, y_test = train_test_split(features, target, test_size=0.25, random_state=0)"
   ]
  },
  {
   "cell_type": "markdown",
   "metadata": {
    "id": "oxqsMHrKZIuA"
   },
   "source": [
    "## Encoding"
   ]
  },
  {
   "cell_type": "code",
   "execution_count": 6,
   "metadata": {
    "cell_id": "00036-c7e04c20-9ab9-48dc-a699-9e7a06582a8c",
    "execution": {
     "iopub.execute_input": "2020-10-15T12:50:17.900538Z",
     "iopub.status.busy": "2020-10-15T12:50:17.899538Z",
     "iopub.status.idle": "2020-10-15T12:50:18.100999Z",
     "shell.execute_reply": "2020-10-15T12:50:18.100001Z",
     "shell.execute_reply.started": "2020-10-15T12:50:17.900538Z"
    },
    "id": "_0criLnZIakn",
    "output_cleared": false,
    "tags": []
   },
   "outputs": [],
   "source": [
    "# # One hot encoding\n",
    "# col_to_encode = ['Location', 'Fuel_Type', 'Transmission', 'Owner_Type', 'Brand']\n",
    "# oh_encoder = ce.OneHotEncoder(cols=col_to_encode,\n",
    "#                               use_cat_names=True)\n",
    "# oh_encoder.fit(X_train)\n",
    "\n",
    "# # Encoding train set\n",
    "# X_train = oh_encoder.transform(X_train)\n",
    "# # Encoding test set\n",
    "# X_test = oh_encoder.transform(X_test)"
   ]
  },
  {
   "cell_type": "code",
   "execution_count": 7,
   "metadata": {
    "execution": {
     "iopub.execute_input": "2020-10-15T12:50:18.102994Z",
     "iopub.status.busy": "2020-10-15T12:50:18.101997Z",
     "iopub.status.idle": "2020-10-15T12:50:18.179789Z",
     "shell.execute_reply": "2020-10-15T12:50:18.178825Z",
     "shell.execute_reply.started": "2020-10-15T12:50:18.102994Z"
    },
    "id": "kcMLnvJxZIuD"
   },
   "outputs": [],
   "source": [
    "# Target encoding\n",
    "col_to_encode = ['Series', 'Type', 'Location', 'Fuel_Type', 'Transmission', 'Owner_Type', 'Brand']\n",
    "target_encoder = ce.TargetEncoder(cols=col_to_encode)\n",
    "target_encoder.fit(X_train, y_train)\n",
    "\n",
    "# Encoding train set\n",
    "X_train = target_encoder.transform(X_train)\n",
    "# Encoding test set\n",
    "X_test = target_encoder.transform(X_test)"
   ]
  },
  {
   "cell_type": "markdown",
   "metadata": {
    "id": "6MJs1hK7Iv1N"
   },
   "source": [
    "## Missing Value Imputation"
   ]
  },
  {
   "cell_type": "code",
   "execution_count": 8,
   "metadata": {
    "execution": {
     "iopub.execute_input": "2020-10-15T12:50:18.181784Z",
     "iopub.status.busy": "2020-10-15T12:50:18.180785Z",
     "iopub.status.idle": "2020-10-15T12:50:29.221721Z",
     "shell.execute_reply": "2020-10-15T12:50:29.221721Z",
     "shell.execute_reply.started": "2020-10-15T12:50:18.181784Z"
    },
    "id": "ccgkETh_Iv1O"
   },
   "outputs": [],
   "source": [
    "# memprediksi nilai missing value dengan algoritma \n",
    "imputer = mf.KernelDataSet(\n",
    "  X_train,\n",
    "  save_all_iterations=True,\n",
    "  random_state=1991,\n",
    "  mean_match_candidates=5\n",
    ")\n",
    "\n",
    "imputer.mice(10)"
   ]
  },
  {
   "cell_type": "code",
   "execution_count": 9,
   "metadata": {
    "execution": {
     "iopub.execute_input": "2020-10-15T12:50:29.221721Z",
     "iopub.status.busy": "2020-10-15T12:50:29.221721Z",
     "iopub.status.idle": "2020-10-15T12:50:29.238494Z",
     "shell.execute_reply": "2020-10-15T12:50:29.237530Z",
     "shell.execute_reply.started": "2020-10-15T12:50:29.221721Z"
    },
    "id": "e_zrbZk6Iv1S",
    "scrolled": true
   },
   "outputs": [],
   "source": [
    "# Train set imputation\n",
    "X_train_full = imputer.complete_data()"
   ]
  },
  {
   "cell_type": "code",
   "execution_count": 10,
   "metadata": {
    "execution": {
     "iopub.execute_input": "2020-10-15T12:50:29.239490Z",
     "iopub.status.busy": "2020-10-15T12:50:29.239490Z",
     "iopub.status.idle": "2020-10-15T12:50:31.718460Z",
     "shell.execute_reply": "2020-10-15T12:50:31.718460Z",
     "shell.execute_reply.started": "2020-10-15T12:50:29.239490Z"
    },
    "id": "s3TrxVjQIv1Z"
   },
   "outputs": [],
   "source": [
    "# Test set imputation\n",
    "new_data = imputer.impute_new_data(X_test)\n",
    "X_test_full = new_data.complete_data()"
   ]
  },
  {
   "cell_type": "markdown",
   "metadata": {
    "id": "wV2sjkqEZIup"
   },
   "source": [
    "# Modeling"
   ]
  },
  {
   "cell_type": "markdown",
   "metadata": {
    "id": "4g_nWqotKl6_"
   },
   "source": [
    "## Functions"
   ]
  },
  {
   "cell_type": "code",
   "execution_count": 11,
   "metadata": {
    "execution": {
     "iopub.execute_input": "2020-10-15T12:50:31.718460Z",
     "iopub.status.busy": "2020-10-15T12:50:31.718460Z",
     "iopub.status.idle": "2020-10-15T12:50:31.734258Z",
     "shell.execute_reply": "2020-10-15T12:50:31.733261Z",
     "shell.execute_reply.started": "2020-10-15T12:50:31.718460Z"
    },
    "id": "Qp4QHIuFZIuq"
   },
   "outputs": [],
   "source": [
    "def get_cv_score(models, X_train, y_train):\n",
    "    \n",
    "    cv = KFold(n_splits=5, shuffle=True, random_state=0)\n",
    "    summary = []\n",
    "    for label, model in models.items():\n",
    "        cv_results = cross_validate(model, X_train, y_train, cv=cv, \n",
    "                                    scoring=['r2',\n",
    "                                             'neg_root_mean_squared_error',\n",
    "                                             'neg_mean_absolute_error'])\n",
    "        \n",
    "        temp = pd.DataFrame(cv_results).copy()\n",
    "        temp['Model'] = label\n",
    "        summary.append(temp)\n",
    "    \n",
    "    summary = pd.concat(summary)\n",
    "    summary = summary.groupby('Model').mean()\n",
    "    \n",
    "    summary.drop(columns=['fit_time', 'score_time'], inplace=True)\n",
    "    summary.columns = ['CV R2', 'CV RMSE', 'CV MAE']\n",
    "    summary[['CV RMSE', 'CV MAE']] = summary[['CV RMSE', 'CV MAE']] * -1\n",
    "    \n",
    "    return summary"
   ]
  },
  {
   "cell_type": "code",
   "execution_count": 12,
   "metadata": {
    "execution": {
     "iopub.execute_input": "2020-10-15T12:50:31.735253Z",
     "iopub.status.busy": "2020-10-15T12:50:31.735253Z",
     "iopub.status.idle": "2020-10-15T12:50:31.750216Z",
     "shell.execute_reply": "2020-10-15T12:50:31.749219Z",
     "shell.execute_reply.started": "2020-10-15T12:50:31.735253Z"
    },
    "id": "BXEr8F5VZIu0"
   },
   "outputs": [],
   "source": [
    "def evaluate_model(models, X_train, X_test, y_train, y_test):\n",
    "\n",
    "    summary = {'Model':[], 'Train R2':[], 'Train RMSE':[], 'Train MAE':[],\n",
    "               'Test R2':[], 'Test RMSE':[], 'Test MAE':[]}\n",
    "\n",
    "    for label, model in models.items():\n",
    "        model.fit(X_train, y_train)\n",
    "\n",
    "        y_train_pred = model.predict(X_train)\n",
    "        y_test_pred = model.predict(X_test)\n",
    "\n",
    "        summary['Model'].append(label)\n",
    "\n",
    "        summary['Train R2'].append(\n",
    "            metrics.r2_score(y_train, y_train_pred))\n",
    "        summary['Train RMSE'].append(\n",
    "            np.sqrt(metrics.mean_squared_error(y_train, y_train_pred)))\n",
    "        summary['Train MAE'].append(\n",
    "            metrics.mean_absolute_error(y_train, y_train_pred))\n",
    "\n",
    "        summary['Test R2'].append(\n",
    "            metrics.r2_score(y_test, y_test_pred))\n",
    "        summary['Test RMSE'].append(\n",
    "            np.sqrt(metrics.mean_squared_error(y_test, y_test_pred)))\n",
    "        summary['Test MAE'].append(\n",
    "            metrics.mean_absolute_error(y_test, y_test_pred))\n",
    "    \n",
    "    summary = pd.DataFrame(summary)\n",
    "    summary.set_index('Model', inplace=True)\n",
    "\n",
    "    cv_scores = get_cv_score(models, X_train, y_train)\n",
    "    summary = summary.join(cv_scores)\n",
    "    summary = summary[['Train R2', 'CV R2', 'Test R2',\n",
    "                       'Train RMSE', 'CV RMSE', 'Test RMSE',\n",
    "                       'Train MAE', 'CV MAE', 'Test MAE']]\n",
    "    \n",
    "    return round(summary.sort_values(by='CV RMSE'), 4)"
   ]
  },
  {
   "cell_type": "markdown",
   "metadata": {
    "id": "aR4Sp3UCZIu2"
   },
   "source": [
    "## Base Model"
   ]
  },
  {
   "cell_type": "code",
   "execution_count": 13,
   "metadata": {
    "execution": {
     "iopub.execute_input": "2020-10-15T12:50:31.751211Z",
     "iopub.status.busy": "2020-10-15T12:50:31.751211Z",
     "iopub.status.idle": "2020-10-15T12:50:31.765176Z",
     "shell.execute_reply": "2020-10-15T12:50:31.764178Z",
     "shell.execute_reply.started": "2020-10-15T12:50:31.751211Z"
    },
    "id": "Oux2OxeDZIu2"
   },
   "outputs": [],
   "source": [
    "tree_model = DecisionTreeRegressor()\n",
    "rf_model = RandomForestRegressor()\n",
    "xgb_model = XGBRegressor(objective='reg:squarederror')\n",
    "lgb_model = LGBMRegressor()\n",
    "cat_model = CatBoostRegressor(silent=True)\n",
    "lr_model = LinearRegression()\n",
    "lasso_model = Lasso()\n",
    "\n",
    "models = {'DecisionTreeRegressor' : tree_model,\n",
    "          'RandomForestRegressor' : rf_model,\n",
    "          'XGBRegressor' : xgb_model,\n",
    "          'CatBoostRegressor' : cat_model,\n",
    "          'LGBMRegressor' : lgb_model,\n",
    "          'LinearRegression': lr_model,\n",
    "          'LassoRegression': lasso_model}"
   ]
  },
  {
   "cell_type": "markdown",
   "metadata": {
    "id": "kCSEOF35MoSB"
   },
   "source": [
    "### Unscaled dataset"
   ]
  },
  {
   "cell_type": "code",
   "execution_count": 14,
   "metadata": {
    "colab": {
     "base_uri": "https://localhost:8080/",
     "height": 297
    },
    "execution": {
     "iopub.execute_input": "2020-10-15T12:50:31.768167Z",
     "iopub.status.busy": "2020-10-15T12:50:31.767170Z",
     "iopub.status.idle": "2020-10-15T12:51:28.813751Z",
     "shell.execute_reply": "2020-10-15T12:51:28.812752Z",
     "shell.execute_reply.started": "2020-10-15T12:50:31.768167Z"
    },
    "executionInfo": {
     "elapsed": 38364,
     "status": "ok",
     "timestamp": 1602353945658,
     "user": {
      "displayName": "Abdillah Fikri",
      "photoUrl": "",
      "userId": "04470220666512949031"
     },
     "user_tz": -420
    },
    "id": "DgfsmUm-HqGG",
    "outputId": "890d1059-fe50-4ed7-87d9-16413c775534"
   },
   "outputs": [],
   "source": [
    "# evaluasi model memakai function\n",
    "unscaled = evaluate_model(models, X_train_full, X_test_full, y_train, y_test)"
   ]
  },
  {
   "cell_type": "markdown",
   "metadata": {
    "id": "AodaQJBNMtob"
   },
   "source": [
    "### Scaled dataset"
   ]
  },
  {
   "cell_type": "code",
   "execution_count": 15,
   "metadata": {
    "execution": {
     "iopub.execute_input": "2020-10-15T12:51:28.815746Z",
     "iopub.status.busy": "2020-10-15T12:51:28.815746Z",
     "iopub.status.idle": "2020-10-15T12:51:28.893537Z",
     "shell.execute_reply": "2020-10-15T12:51:28.892540Z",
     "shell.execute_reply.started": "2020-10-15T12:51:28.815746Z"
    },
    "id": "2lQZQbORMwYB"
   },
   "outputs": [],
   "source": [
    "# Scaling data\n",
    "from sklearn.preprocessing import RobustScaler\n",
    "\n",
    "scaler = RobustScaler()\n",
    "scaler.fit(X_train_full)\n",
    "X_train_full_scaled = scaler.transform(X_train_full)\n",
    "X_test_full_scaled = scaler.transform(X_test_full)"
   ]
  },
  {
   "cell_type": "code",
   "execution_count": 16,
   "metadata": {
    "colab": {
     "base_uri": "https://localhost:8080/",
     "height": 297
    },
    "execution": {
     "iopub.execute_input": "2020-10-15T12:51:28.896529Z",
     "iopub.status.busy": "2020-10-15T12:51:28.895532Z",
     "iopub.status.idle": "2020-10-15T12:52:30.847826Z",
     "shell.execute_reply": "2020-10-15T12:52:30.847826Z",
     "shell.execute_reply.started": "2020-10-15T12:51:28.896529Z"
    },
    "executionInfo": {
     "elapsed": 81010,
     "status": "ok",
     "timestamp": 1602353988430,
     "user": {
      "displayName": "Abdillah Fikri",
      "photoUrl": "",
      "userId": "04470220666512949031"
     },
     "user_tz": -420
    },
    "id": "58C87fQHNRII",
    "outputId": "90af7df3-a745-4722-d77d-53f144212a91"
   },
   "outputs": [],
   "source": [
    "# evaluasi model memakai function\n",
    "scaled = evaluate_model(models, X_train_full_scaled, X_test_full_scaled, y_train, y_test)"
   ]
  },
  {
   "cell_type": "markdown",
   "metadata": {},
   "source": [
    "### Summarizing"
   ]
  },
  {
   "cell_type": "code",
   "execution_count": 17,
   "metadata": {
    "execution": {
     "iopub.execute_input": "2020-10-15T12:52:30.847826Z",
     "iopub.status.busy": "2020-10-15T12:52:30.847826Z",
     "iopub.status.idle": "2020-10-15T12:52:30.863806Z",
     "shell.execute_reply": "2020-10-15T12:52:30.862807Z",
     "shell.execute_reply.started": "2020-10-15T12:52:30.847826Z"
    },
    "id": "bg_vcQxLLg0n"
   },
   "outputs": [],
   "source": [
    "unscaled['Dataset Version'] = 'imputed + all + unscaled'\n",
    "scaled['Dataset Version'] = 'imputed + all + scaled'"
   ]
  },
  {
   "cell_type": "code",
   "execution_count": 18,
   "metadata": {
    "execution": {
     "iopub.execute_input": "2020-10-15T12:52:30.865799Z",
     "iopub.status.busy": "2020-10-15T12:52:30.865799Z",
     "iopub.status.idle": "2020-10-15T12:52:30.911677Z",
     "shell.execute_reply": "2020-10-15T12:52:30.910679Z",
     "shell.execute_reply.started": "2020-10-15T12:52:30.865799Z"
    }
   },
   "outputs": [
    {
     "output_type": "execute_result",
     "data": {
      "text/plain": [
       "                       Train R2   CV R2  Test R2  Train RMSE  CV RMSE  \\\n",
       "Model                                                                   \n",
       "CatBoostRegressor        0.9926  0.9245   0.9119      0.9559   3.0379   \n",
       "LGBMRegressor            0.9712  0.9162   0.9099      1.8815   3.1966   \n",
       "RandomForestRegressor    0.9876  0.9100   0.9016      1.2340   3.3141   \n",
       "XGBRegressor             0.9976  0.9094   0.8945      0.5408   3.3216   \n",
       "DecisionTreeRegressor    1.0000  0.8011   0.8581      0.0129   4.9092   \n",
       "LinearRegression         0.8015  0.7974   0.7778      4.9365   4.9799   \n",
       "LassoRegression          0.7969  0.7944   0.7772      4.9930   5.0170   \n",
       "CatBoostRegressor        0.9926  0.9245   0.9119      0.9559   3.0379   \n",
       "LGBMRegressor            0.9715  0.9149   0.9089      1.8698   3.2226   \n",
       "RandomForestRegressor    0.9876  0.9119   0.8988      1.2318   3.2761   \n",
       "XGBRegressor             0.9976  0.9094   0.8978      0.5408   3.3218   \n",
       "LinearRegression         0.8015  0.7974   0.7778      4.9365   4.9799   \n",
       "DecisionTreeRegressor    1.0000  0.7790   0.8484      0.0129   5.1550   \n",
       "LassoRegression          0.7587  0.7549   0.7233      5.4432   5.4768   \n",
       "\n",
       "                       Test RMSE  Train MAE  CV MAE  Test MAE  \\\n",
       "Model                                                           \n",
       "CatBoostRegressor         3.3892     0.6334  1.1790    1.1579   \n",
       "LGBMRegressor             3.4266     0.8291  1.2691    1.2578   \n",
       "RandomForestRegressor     3.5818     0.4874  1.3278    1.3780   \n",
       "XGBRegressor              3.7071     0.3753  1.2601    1.2720   \n",
       "DecisionTreeRegressor     4.3004     0.0006  1.9027    1.8647   \n",
       "LinearRegression          5.3815     2.7206  2.7377    2.9125   \n",
       "LassoRegression           5.3889     2.6605  2.6770    2.8361   \n",
       "CatBoostRegressor         3.3892     0.6334  1.1790    1.1579   \n",
       "LGBMRegressor             3.4460     0.8140  1.2739    1.2567   \n",
       "RandomForestRegressor     3.6312     0.4804  1.3304    1.3661   \n",
       "XGBRegressor              3.6502     0.3753  1.2602    1.2619   \n",
       "LinearRegression          5.3815     2.7206  2.7377    2.9125   \n",
       "DecisionTreeRegressor     4.4447     0.0006  1.9227    1.8328   \n",
       "LassoRegression           6.0046     2.6052  2.6289    2.8468   \n",
       "\n",
       "                                Dataset Version  \n",
       "Model                                            \n",
       "CatBoostRegressor      imputed + all + unscaled  \n",
       "LGBMRegressor          imputed + all + unscaled  \n",
       "RandomForestRegressor  imputed + all + unscaled  \n",
       "XGBRegressor           imputed + all + unscaled  \n",
       "DecisionTreeRegressor  imputed + all + unscaled  \n",
       "LinearRegression       imputed + all + unscaled  \n",
       "LassoRegression        imputed + all + unscaled  \n",
       "CatBoostRegressor        imputed + all + scaled  \n",
       "LGBMRegressor            imputed + all + scaled  \n",
       "RandomForestRegressor    imputed + all + scaled  \n",
       "XGBRegressor             imputed + all + scaled  \n",
       "LinearRegression         imputed + all + scaled  \n",
       "DecisionTreeRegressor    imputed + all + scaled  \n",
       "LassoRegression          imputed + all + scaled  "
      ],
      "text/html": "<div>\n<style scoped>\n    .dataframe tbody tr th:only-of-type {\n        vertical-align: middle;\n    }\n\n    .dataframe tbody tr th {\n        vertical-align: top;\n    }\n\n    .dataframe thead th {\n        text-align: right;\n    }\n</style>\n<table border=\"1\" class=\"dataframe\">\n  <thead>\n    <tr style=\"text-align: right;\">\n      <th></th>\n      <th>Train R2</th>\n      <th>CV R2</th>\n      <th>Test R2</th>\n      <th>Train RMSE</th>\n      <th>CV RMSE</th>\n      <th>Test RMSE</th>\n      <th>Train MAE</th>\n      <th>CV MAE</th>\n      <th>Test MAE</th>\n      <th>Dataset Version</th>\n    </tr>\n    <tr>\n      <th>Model</th>\n      <th></th>\n      <th></th>\n      <th></th>\n      <th></th>\n      <th></th>\n      <th></th>\n      <th></th>\n      <th></th>\n      <th></th>\n      <th></th>\n    </tr>\n  </thead>\n  <tbody>\n    <tr>\n      <th>CatBoostRegressor</th>\n      <td>0.9926</td>\n      <td>0.9245</td>\n      <td>0.9119</td>\n      <td>0.9559</td>\n      <td>3.0379</td>\n      <td>3.3892</td>\n      <td>0.6334</td>\n      <td>1.1790</td>\n      <td>1.1579</td>\n      <td>imputed + all + unscaled</td>\n    </tr>\n    <tr>\n      <th>LGBMRegressor</th>\n      <td>0.9712</td>\n      <td>0.9162</td>\n      <td>0.9099</td>\n      <td>1.8815</td>\n      <td>3.1966</td>\n      <td>3.4266</td>\n      <td>0.8291</td>\n      <td>1.2691</td>\n      <td>1.2578</td>\n      <td>imputed + all + unscaled</td>\n    </tr>\n    <tr>\n      <th>RandomForestRegressor</th>\n      <td>0.9876</td>\n      <td>0.9100</td>\n      <td>0.9016</td>\n      <td>1.2340</td>\n      <td>3.3141</td>\n      <td>3.5818</td>\n      <td>0.4874</td>\n      <td>1.3278</td>\n      <td>1.3780</td>\n      <td>imputed + all + unscaled</td>\n    </tr>\n    <tr>\n      <th>XGBRegressor</th>\n      <td>0.9976</td>\n      <td>0.9094</td>\n      <td>0.8945</td>\n      <td>0.5408</td>\n      <td>3.3216</td>\n      <td>3.7071</td>\n      <td>0.3753</td>\n      <td>1.2601</td>\n      <td>1.2720</td>\n      <td>imputed + all + unscaled</td>\n    </tr>\n    <tr>\n      <th>DecisionTreeRegressor</th>\n      <td>1.0000</td>\n      <td>0.8011</td>\n      <td>0.8581</td>\n      <td>0.0129</td>\n      <td>4.9092</td>\n      <td>4.3004</td>\n      <td>0.0006</td>\n      <td>1.9027</td>\n      <td>1.8647</td>\n      <td>imputed + all + unscaled</td>\n    </tr>\n    <tr>\n      <th>LinearRegression</th>\n      <td>0.8015</td>\n      <td>0.7974</td>\n      <td>0.7778</td>\n      <td>4.9365</td>\n      <td>4.9799</td>\n      <td>5.3815</td>\n      <td>2.7206</td>\n      <td>2.7377</td>\n      <td>2.9125</td>\n      <td>imputed + all + unscaled</td>\n    </tr>\n    <tr>\n      <th>LassoRegression</th>\n      <td>0.7969</td>\n      <td>0.7944</td>\n      <td>0.7772</td>\n      <td>4.9930</td>\n      <td>5.0170</td>\n      <td>5.3889</td>\n      <td>2.6605</td>\n      <td>2.6770</td>\n      <td>2.8361</td>\n      <td>imputed + all + unscaled</td>\n    </tr>\n    <tr>\n      <th>CatBoostRegressor</th>\n      <td>0.9926</td>\n      <td>0.9245</td>\n      <td>0.9119</td>\n      <td>0.9559</td>\n      <td>3.0379</td>\n      <td>3.3892</td>\n      <td>0.6334</td>\n      <td>1.1790</td>\n      <td>1.1579</td>\n      <td>imputed + all + scaled</td>\n    </tr>\n    <tr>\n      <th>LGBMRegressor</th>\n      <td>0.9715</td>\n      <td>0.9149</td>\n      <td>0.9089</td>\n      <td>1.8698</td>\n      <td>3.2226</td>\n      <td>3.4460</td>\n      <td>0.8140</td>\n      <td>1.2739</td>\n      <td>1.2567</td>\n      <td>imputed + all + scaled</td>\n    </tr>\n    <tr>\n      <th>RandomForestRegressor</th>\n      <td>0.9876</td>\n      <td>0.9119</td>\n      <td>0.8988</td>\n      <td>1.2318</td>\n      <td>3.2761</td>\n      <td>3.6312</td>\n      <td>0.4804</td>\n      <td>1.3304</td>\n      <td>1.3661</td>\n      <td>imputed + all + scaled</td>\n    </tr>\n    <tr>\n      <th>XGBRegressor</th>\n      <td>0.9976</td>\n      <td>0.9094</td>\n      <td>0.8978</td>\n      <td>0.5408</td>\n      <td>3.3218</td>\n      <td>3.6502</td>\n      <td>0.3753</td>\n      <td>1.2602</td>\n      <td>1.2619</td>\n      <td>imputed + all + scaled</td>\n    </tr>\n    <tr>\n      <th>LinearRegression</th>\n      <td>0.8015</td>\n      <td>0.7974</td>\n      <td>0.7778</td>\n      <td>4.9365</td>\n      <td>4.9799</td>\n      <td>5.3815</td>\n      <td>2.7206</td>\n      <td>2.7377</td>\n      <td>2.9125</td>\n      <td>imputed + all + scaled</td>\n    </tr>\n    <tr>\n      <th>DecisionTreeRegressor</th>\n      <td>1.0000</td>\n      <td>0.7790</td>\n      <td>0.8484</td>\n      <td>0.0129</td>\n      <td>5.1550</td>\n      <td>4.4447</td>\n      <td>0.0006</td>\n      <td>1.9227</td>\n      <td>1.8328</td>\n      <td>imputed + all + scaled</td>\n    </tr>\n    <tr>\n      <th>LassoRegression</th>\n      <td>0.7587</td>\n      <td>0.7549</td>\n      <td>0.7233</td>\n      <td>5.4432</td>\n      <td>5.4768</td>\n      <td>6.0046</td>\n      <td>2.6052</td>\n      <td>2.6289</td>\n      <td>2.8468</td>\n      <td>imputed + all + scaled</td>\n    </tr>\n  </tbody>\n</table>\n</div>"
     },
     "metadata": {},
     "execution_count": 18
    }
   ],
   "source": [
    "imputed_all = pd.concat([unscaled, scaled], axis=0)\n",
    "imputed_all"
   ]
  },
  {
   "cell_type": "code",
   "execution_count": 19,
   "metadata": {
    "execution": {
     "iopub.execute_input": "2020-10-15T12:52:30.916663Z",
     "iopub.status.busy": "2020-10-15T12:52:30.916663Z",
     "iopub.status.idle": "2020-10-15T12:52:30.943590Z",
     "shell.execute_reply": "2020-10-15T12:52:30.942594Z",
     "shell.execute_reply.started": "2020-10-15T12:52:30.916663Z"
    }
   },
   "outputs": [],
   "source": [
    "imputed_all.to_csv('../data/processed/summary_imputed_all.csv')"
   ]
  }
 ],
 "metadata": {
  "colab": {
   "collapsed_sections": [],
   "name": "Modeling_imputed_all.ipynb",
   "provenance": [
    {
     "file_id": "1NgCHIKsxmWD4jCur1sU6c3ASdRZ-PE99",
     "timestamp": 1602317956566
    }
   ],
   "toc_visible": true
  },
  "deepnote_execution_queue": [],
  "deepnote_notebook_id": "7e6ba86d-f2b0-4a20-b936-811e696ed5ab",
  "jupytext": {
   "formats": "notebooks//ipynb,markdown//md,scripts//py:percent"
  },
  "kernelspec": {
   "display_name": "Python 3",
   "language": "python",
   "name": "python3"
  },
  "language_info": {
   "codemirror_mode": {
    "name": "ipython",
    "version": 3
   },
   "file_extension": ".py",
   "mimetype": "text/x-python",
   "name": "python",
   "nbconvert_exporter": "python",
   "pygments_lexer": "ipython3",
   "version": "3.8.6-final"
  },
  "toc-autonumbering": true,
  "toc-showcode": false,
  "toc-showmarkdowntxt": false,
  "toc-showtags": false
 },
 "nbformat": 4,
 "nbformat_minor": 4
}