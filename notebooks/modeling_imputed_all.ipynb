{
 "cells": [
  {
   "cell_type": "markdown",
   "metadata": {},
   "source": [
    "# Data Importing"
   ]
  },
  {
   "cell_type": "code",
   "execution_count": 1,
   "metadata": {},
   "outputs": [],
   "source": [
    "import numpy as np\n",
    "import pandas as pd\n",
    "import category_encoders as ce\n",
    "import miceforest as mf\n",
    "\n",
    "from utils import null_checker, evaluate_model\n",
    "from sklearn.model_selection import train_test_split\n",
    "from sklearn.tree import DecisionTreeRegressor\n",
    "from xgboost import XGBRegressor\n",
    "from lightgbm import LGBMRegressor\n",
    "from catboost import CatBoostRegressor\n",
    "from sklearn.ensemble import RandomForestRegressor\n",
    "from sklearn.linear_model import LinearRegression, Lasso, Ridge"
   ]
  },
  {
   "cell_type": "code",
   "execution_count": 2,
   "metadata": {},
   "outputs": [
    {
     "data": {
      "text/html": [
       "<div>\n",
       "<style scoped>\n",
       "    .dataframe tbody tr th:only-of-type {\n",
       "        vertical-align: middle;\n",
       "    }\n",
       "\n",
       "    .dataframe tbody tr th {\n",
       "        vertical-align: top;\n",
       "    }\n",
       "\n",
       "    .dataframe thead th {\n",
       "        text-align: right;\n",
       "    }\n",
       "</style>\n",
       "<table border=\"1\" class=\"dataframe\">\n",
       "  <thead>\n",
       "    <tr style=\"text-align: right;\">\n",
       "      <th></th>\n",
       "      <th>Location</th>\n",
       "      <th>Year</th>\n",
       "      <th>Kilometers_Driven</th>\n",
       "      <th>Fuel_Type</th>\n",
       "      <th>Transmission</th>\n",
       "      <th>Owner_Type</th>\n",
       "      <th>Seats</th>\n",
       "      <th>Price</th>\n",
       "      <th>Brand</th>\n",
       "      <th>Series</th>\n",
       "      <th>Type</th>\n",
       "      <th>Mileage (kmpl)</th>\n",
       "      <th>Engine (CC)</th>\n",
       "      <th>Power (bhp)</th>\n",
       "    </tr>\n",
       "  </thead>\n",
       "  <tbody>\n",
       "    <tr>\n",
       "      <th>0</th>\n",
       "      <td>Mumbai</td>\n",
       "      <td>2010</td>\n",
       "      <td>72000</td>\n",
       "      <td>CNG</td>\n",
       "      <td>Manual</td>\n",
       "      <td>First</td>\n",
       "      <td>5.0</td>\n",
       "      <td>1.75</td>\n",
       "      <td>Maruti</td>\n",
       "      <td>Wagon</td>\n",
       "      <td>R</td>\n",
       "      <td>26.60</td>\n",
       "      <td>998.0</td>\n",
       "      <td>58.16</td>\n",
       "    </tr>\n",
       "    <tr>\n",
       "      <th>1</th>\n",
       "      <td>Pune</td>\n",
       "      <td>2015</td>\n",
       "      <td>41000</td>\n",
       "      <td>Diesel</td>\n",
       "      <td>Manual</td>\n",
       "      <td>First</td>\n",
       "      <td>5.0</td>\n",
       "      <td>12.50</td>\n",
       "      <td>Hyundai</td>\n",
       "      <td>Creta</td>\n",
       "      <td>1.6</td>\n",
       "      <td>19.67</td>\n",
       "      <td>1582.0</td>\n",
       "      <td>126.20</td>\n",
       "    </tr>\n",
       "    <tr>\n",
       "      <th>2</th>\n",
       "      <td>Chennai</td>\n",
       "      <td>2011</td>\n",
       "      <td>46000</td>\n",
       "      <td>Petrol</td>\n",
       "      <td>Manual</td>\n",
       "      <td>First</td>\n",
       "      <td>5.0</td>\n",
       "      <td>4.50</td>\n",
       "      <td>Honda</td>\n",
       "      <td>Jazz</td>\n",
       "      <td>V</td>\n",
       "      <td>18.20</td>\n",
       "      <td>1199.0</td>\n",
       "      <td>88.70</td>\n",
       "    </tr>\n",
       "    <tr>\n",
       "      <th>3</th>\n",
       "      <td>Chennai</td>\n",
       "      <td>2012</td>\n",
       "      <td>87000</td>\n",
       "      <td>Diesel</td>\n",
       "      <td>Manual</td>\n",
       "      <td>First</td>\n",
       "      <td>7.0</td>\n",
       "      <td>6.00</td>\n",
       "      <td>Maruti</td>\n",
       "      <td>Ertiga</td>\n",
       "      <td>VDI</td>\n",
       "      <td>20.77</td>\n",
       "      <td>1248.0</td>\n",
       "      <td>88.76</td>\n",
       "    </tr>\n",
       "    <tr>\n",
       "      <th>4</th>\n",
       "      <td>Coimbatore</td>\n",
       "      <td>2013</td>\n",
       "      <td>40670</td>\n",
       "      <td>Diesel</td>\n",
       "      <td>Automatic</td>\n",
       "      <td>Second</td>\n",
       "      <td>5.0</td>\n",
       "      <td>17.74</td>\n",
       "      <td>Audi</td>\n",
       "      <td>A4</td>\n",
       "      <td>New</td>\n",
       "      <td>15.20</td>\n",
       "      <td>1968.0</td>\n",
       "      <td>140.80</td>\n",
       "    </tr>\n",
       "  </tbody>\n",
       "</table>\n",
       "</div>"
      ],
      "text/plain": [
       "     Location  Year  Kilometers_Driven Fuel_Type Transmission Owner_Type  \\\n",
       "0      Mumbai  2010              72000       CNG       Manual      First   \n",
       "1        Pune  2015              41000    Diesel       Manual      First   \n",
       "2     Chennai  2011              46000    Petrol       Manual      First   \n",
       "3     Chennai  2012              87000    Diesel       Manual      First   \n",
       "4  Coimbatore  2013              40670    Diesel    Automatic     Second   \n",
       "\n",
       "   Seats  Price    Brand  Series Type  Mileage (kmpl)  Engine (CC)  \\\n",
       "0    5.0   1.75   Maruti   Wagon    R           26.60        998.0   \n",
       "1    5.0  12.50  Hyundai   Creta  1.6           19.67       1582.0   \n",
       "2    5.0   4.50    Honda    Jazz    V           18.20       1199.0   \n",
       "3    7.0   6.00   Maruti  Ertiga  VDI           20.77       1248.0   \n",
       "4    5.0  17.74     Audi      A4  New           15.20       1968.0   \n",
       "\n",
       "   Power (bhp)  \n",
       "0        58.16  \n",
       "1       126.20  \n",
       "2        88.70  \n",
       "3        88.76  \n",
       "4       140.80  "
      ]
     },
     "execution_count": 2,
     "metadata": {},
     "output_type": "execute_result"
    }
   ],
   "source": [
    "df = pd.read_csv('../data/processed/after_prep.csv')\n",
    "df.head()"
   ]
  },
  {
   "cell_type": "code",
   "execution_count": 3,
   "metadata": {},
   "outputs": [
    {
     "name": "stdout",
     "output_type": "stream",
     "text": [
      "<class 'pandas.core.frame.DataFrame'>\n",
      "RangeIndex: 6019 entries, 0 to 6018\n",
      "Data columns (total 14 columns):\n",
      " #   Column             Non-Null Count  Dtype  \n",
      "---  ------             --------------  -----  \n",
      " 0   Location           6019 non-null   object \n",
      " 1   Year               6019 non-null   int64  \n",
      " 2   Kilometers_Driven  6019 non-null   int64  \n",
      " 3   Fuel_Type          6019 non-null   object \n",
      " 4   Transmission       6019 non-null   object \n",
      " 5   Owner_Type         6019 non-null   object \n",
      " 6   Seats              5976 non-null   float64\n",
      " 7   Price              6019 non-null   float64\n",
      " 8   Brand              6019 non-null   object \n",
      " 9   Series             6019 non-null   object \n",
      " 10  Type               6019 non-null   object \n",
      " 11  Mileage (kmpl)     5951 non-null   float64\n",
      " 12  Engine (CC)        5983 non-null   float64\n",
      " 13  Power (bhp)        5876 non-null   float64\n",
      "dtypes: float64(5), int64(2), object(7)\n",
      "memory usage: 658.5+ KB\n"
     ]
    }
   ],
   "source": [
    "df.info()"
   ]
  },
  {
   "cell_type": "markdown",
   "metadata": {
    "id": "g1GS1AAUZIt9"
   },
   "source": [
    "# Preprocessing"
   ]
  },
  {
   "cell_type": "code",
   "execution_count": 4,
   "metadata": {
    "execution": {
     "iopub.execute_input": "2020-10-15T12:50:17.869621Z",
     "iopub.status.busy": "2020-10-15T12:50:17.869621Z",
     "iopub.status.idle": "2020-10-15T12:50:17.883583Z",
     "shell.execute_reply": "2020-10-15T12:50:17.882586Z",
     "shell.execute_reply.started": "2020-10-15T12:50:17.869621Z"
    },
    "id": "INV8VvOYZItN"
   },
   "outputs": [
    {
     "data": {
      "text/plain": [
       "(6018, 14)"
      ]
     },
     "execution_count": 4,
     "metadata": {},
     "output_type": "execute_result"
    }
   ],
   "source": [
    "# Delete outlier\n",
    "df = df[~(df.Kilometers_Driven > 1e6)]\n",
    "df.shape"
   ]
  },
  {
   "cell_type": "markdown",
   "metadata": {
    "id": "yEgVyyNSZIt9"
   },
   "source": [
    "## Train test split"
   ]
  },
  {
   "cell_type": "code",
   "execution_count": 5,
   "metadata": {
    "execution": {
     "iopub.execute_input": "2020-10-15T12:50:17.884579Z",
     "iopub.status.busy": "2020-10-15T12:50:17.884579Z",
     "iopub.status.idle": "2020-10-15T12:50:17.898543Z",
     "shell.execute_reply": "2020-10-15T12:50:17.897546Z",
     "shell.execute_reply.started": "2020-10-15T12:50:17.884579Z"
    },
    "id": "nPxFt6bSZIt-",
    "outputId": "2b131b44-7d5e-469d-9e5f-0bc241abd283"
   },
   "outputs": [],
   "source": [
    "# melakukan train test split di awal untuk mencegah data leakage\n",
    "X = df.drop(columns=['Price'])\n",
    "y = df['Price']\n",
    "X_train, X_test, y_train, y_test = train_test_split(X, y, test_size=0.25, random_state=0)"
   ]
  },
  {
   "cell_type": "markdown",
   "metadata": {
    "id": "oxqsMHrKZIuA"
   },
   "source": [
    "## Encoding"
   ]
  },
  {
   "cell_type": "code",
   "execution_count": 6,
   "metadata": {
    "cell_id": "00036-c7e04c20-9ab9-48dc-a699-9e7a06582a8c",
    "execution": {
     "iopub.execute_input": "2020-10-15T12:50:17.900538Z",
     "iopub.status.busy": "2020-10-15T12:50:17.899538Z",
     "iopub.status.idle": "2020-10-15T12:50:18.100999Z",
     "shell.execute_reply": "2020-10-15T12:50:18.100001Z",
     "shell.execute_reply.started": "2020-10-15T12:50:17.900538Z"
    },
    "id": "_0criLnZIakn",
    "output_cleared": false,
    "tags": []
   },
   "outputs": [],
   "source": [
    "# Define category mapping for label encoding\n",
    "mapping_owner = {\n",
    "    'First': 1, \n",
    "    'Second': 2, \n",
    "    'Third': 3, \n",
    "    'Fourth & Above': 4\n",
    "}\n",
    "mapping_trans = {\n",
    "    'Manual': 0, \n",
    "    'Automatic': 1, \n",
    "}\n",
    "\n",
    "# Encoding train set\n",
    "X_train[\"Owner_Type\"] = X_train[\"Owner_Type\"].map(mapping_owner)\n",
    "X_train[\"Transmission\"] = X_train[\"Transmission\"].map(mapping_trans)\n",
    "# Encoding test set\n",
    "X_test[\"Owner_Type\"] = X_test[\"Owner_Type\"].map(mapping_owner)\n",
    "X_test[\"Transmission\"] = X_test[\"Transmission\"].map(mapping_trans)"
   ]
  },
  {
   "cell_type": "code",
   "execution_count": 7,
   "metadata": {},
   "outputs": [],
   "source": [
    "# One hot encoding for low cardinality feature + Brand\n",
    "col_to_encode = ['Location', 'Fuel_Type', 'Brand']\n",
    "oh_encoder = ce.OneHotEncoder(cols=col_to_encode,\n",
    "                              use_cat_names=True)\n",
    "oh_encoder.fit(X_train)\n",
    "\n",
    "# Encoding train set\n",
    "X_train = oh_encoder.transform(X_train)\n",
    "# Encoding test set\n",
    "X_test = oh_encoder.transform(X_test)"
   ]
  },
  {
   "cell_type": "code",
   "execution_count": 8,
   "metadata": {
    "execution": {
     "iopub.execute_input": "2020-10-15T12:50:18.102994Z",
     "iopub.status.busy": "2020-10-15T12:50:18.101997Z",
     "iopub.status.idle": "2020-10-15T12:50:18.179789Z",
     "shell.execute_reply": "2020-10-15T12:50:18.178825Z",
     "shell.execute_reply.started": "2020-10-15T12:50:18.102994Z"
    },
    "id": "kcMLnvJxZIuD"
   },
   "outputs": [],
   "source": [
    "# Target encoding for high cardinality feature\n",
    "col_to_encode = X_train.select_dtypes(\"object\").columns\n",
    "encoder = ce.TargetEncoder(cols=col_to_encode)\n",
    "encoder.fit(X_train, y_train)\n",
    "\n",
    "# Encoding train set\n",
    "X_train = encoder.transform(X_train)\n",
    "# Encoding test set\n",
    "X_test = encoder.transform(X_test)"
   ]
  },
  {
   "cell_type": "markdown",
   "metadata": {
    "id": "6MJs1hK7Iv1N"
   },
   "source": [
    "## Missing Value Imputation"
   ]
  },
  {
   "cell_type": "code",
   "execution_count": 9,
   "metadata": {
    "execution": {
     "iopub.execute_input": "2020-10-15T12:50:18.181784Z",
     "iopub.status.busy": "2020-10-15T12:50:18.180785Z",
     "iopub.status.idle": "2020-10-15T12:50:29.221721Z",
     "shell.execute_reply": "2020-10-15T12:50:29.221721Z",
     "shell.execute_reply.started": "2020-10-15T12:50:18.181784Z"
    },
    "id": "ccgkETh_Iv1O"
   },
   "outputs": [],
   "source": [
    "# memprediksi nilai missing value dengan MICE\n",
    "imputer = mf.KernelDataSet(\n",
    "  X_train,\n",
    "  save_all_iterations=True,\n",
    "  random_state=1991,\n",
    "  mean_match_candidates=5\n",
    ")\n",
    "imputer.mice(10)"
   ]
  },
  {
   "cell_type": "code",
   "execution_count": 10,
   "metadata": {
    "execution": {
     "iopub.execute_input": "2020-10-15T12:50:29.221721Z",
     "iopub.status.busy": "2020-10-15T12:50:29.221721Z",
     "iopub.status.idle": "2020-10-15T12:50:29.238494Z",
     "shell.execute_reply": "2020-10-15T12:50:29.237530Z",
     "shell.execute_reply.started": "2020-10-15T12:50:29.221721Z"
    },
    "id": "e_zrbZk6Iv1S",
    "scrolled": true
   },
   "outputs": [],
   "source": [
    "# Train set imputation\n",
    "X_train_full = imputer.complete_data()"
   ]
  },
  {
   "cell_type": "code",
   "execution_count": 11,
   "metadata": {
    "execution": {
     "iopub.execute_input": "2020-10-15T12:50:29.239490Z",
     "iopub.status.busy": "2020-10-15T12:50:29.239490Z",
     "iopub.status.idle": "2020-10-15T12:50:31.718460Z",
     "shell.execute_reply": "2020-10-15T12:50:31.718460Z",
     "shell.execute_reply.started": "2020-10-15T12:50:29.239490Z"
    },
    "id": "s3TrxVjQIv1Z"
   },
   "outputs": [],
   "source": [
    "# Test set imputation\n",
    "new_data = imputer.impute_new_data(X_test)\n",
    "X_test_full = new_data.complete_data()"
   ]
  },
  {
   "cell_type": "markdown",
   "metadata": {
    "id": "wV2sjkqEZIup"
   },
   "source": [
    "# Modeling"
   ]
  },
  {
   "cell_type": "markdown",
   "metadata": {
    "id": "aR4Sp3UCZIu2"
   },
   "source": [
    "## Base Model"
   ]
  },
  {
   "cell_type": "code",
   "execution_count": 12,
   "metadata": {
    "execution": {
     "iopub.execute_input": "2020-10-15T12:50:31.751211Z",
     "iopub.status.busy": "2020-10-15T12:50:31.751211Z",
     "iopub.status.idle": "2020-10-15T12:50:31.765176Z",
     "shell.execute_reply": "2020-10-15T12:50:31.764178Z",
     "shell.execute_reply.started": "2020-10-15T12:50:31.751211Z"
    },
    "id": "Oux2OxeDZIu2"
   },
   "outputs": [],
   "source": [
    "tree_model = DecisionTreeRegressor()\n",
    "rf_model = RandomForestRegressor()\n",
    "xgb_model = XGBRegressor()\n",
    "lgb_model = LGBMRegressor()\n",
    "cat_model = CatBoostRegressor(silent=True)\n",
    "lr_model = LinearRegression()\n",
    "lasso_model = Lasso()\n",
    "ridge_model = Ridge()\n",
    "\n",
    "models = {'DecisionTree' : tree_model,\n",
    "          'RandomForest' : rf_model,\n",
    "          'XGBoost' : xgb_model,\n",
    "          'CatBoost' : cat_model,\n",
    "          'LightGBM' : lgb_model,\n",
    "          'Linear': lr_model,\n",
    "          'Lasso': lasso_model,\n",
    "          'Ridge': ridge_model}"
   ]
  },
  {
   "cell_type": "markdown",
   "metadata": {
    "id": "kCSEOF35MoSB"
   },
   "source": [
    "### Unscaled dataset"
   ]
  },
  {
   "cell_type": "code",
   "execution_count": 13,
   "metadata": {
    "colab": {
     "base_uri": "https://localhost:8080/",
     "height": 297
    },
    "execution": {
     "iopub.execute_input": "2020-10-15T12:50:31.768167Z",
     "iopub.status.busy": "2020-10-15T12:50:31.767170Z",
     "iopub.status.idle": "2020-10-15T12:51:28.813751Z",
     "shell.execute_reply": "2020-10-15T12:51:28.812752Z",
     "shell.execute_reply.started": "2020-10-15T12:50:31.768167Z"
    },
    "executionInfo": {
     "elapsed": 38364,
     "status": "ok",
     "timestamp": 1602353945658,
     "user": {
      "displayName": "Abdillah Fikri",
      "photoUrl": "",
      "userId": "04470220666512949031"
     },
     "user_tz": -420
    },
    "id": "DgfsmUm-HqGG",
    "outputId": "890d1059-fe50-4ed7-87d9-16413c775534"
   },
   "outputs": [],
   "source": [
    "# evaluasi model memakai function\n",
    "unscaled = evaluate_model(models, X_train_full, X_test_full, y_train, y_test)"
   ]
  },
  {
   "cell_type": "markdown",
   "metadata": {
    "id": "AodaQJBNMtob"
   },
   "source": [
    "### Scaled dataset"
   ]
  },
  {
   "cell_type": "code",
   "execution_count": 14,
   "metadata": {
    "execution": {
     "iopub.execute_input": "2020-10-15T12:51:28.815746Z",
     "iopub.status.busy": "2020-10-15T12:51:28.815746Z",
     "iopub.status.idle": "2020-10-15T12:51:28.893537Z",
     "shell.execute_reply": "2020-10-15T12:51:28.892540Z",
     "shell.execute_reply.started": "2020-10-15T12:51:28.815746Z"
    },
    "id": "2lQZQbORMwYB"
   },
   "outputs": [],
   "source": [
    "# Scaling data\n",
    "from sklearn.preprocessing import RobustScaler\n",
    "\n",
    "scaler = RobustScaler()\n",
    "scaler.fit(X_train_full)\n",
    "X_train_full_scaled = scaler.transform(X_train_full)\n",
    "X_test_full_scaled = scaler.transform(X_test_full)"
   ]
  },
  {
   "cell_type": "code",
   "execution_count": 15,
   "metadata": {
    "colab": {
     "base_uri": "https://localhost:8080/",
     "height": 297
    },
    "execution": {
     "iopub.execute_input": "2020-10-15T12:51:28.896529Z",
     "iopub.status.busy": "2020-10-15T12:51:28.895532Z",
     "iopub.status.idle": "2020-10-15T12:52:30.847826Z",
     "shell.execute_reply": "2020-10-15T12:52:30.847826Z",
     "shell.execute_reply.started": "2020-10-15T12:51:28.896529Z"
    },
    "executionInfo": {
     "elapsed": 81010,
     "status": "ok",
     "timestamp": 1602353988430,
     "user": {
      "displayName": "Abdillah Fikri",
      "photoUrl": "",
      "userId": "04470220666512949031"
     },
     "user_tz": -420
    },
    "id": "58C87fQHNRII",
    "outputId": "90af7df3-a745-4722-d77d-53f144212a91"
   },
   "outputs": [],
   "source": [
    "# evaluasi model memakai function\n",
    "scaled = evaluate_model(models, X_train_full_scaled, X_test_full_scaled, y_train, y_test)"
   ]
  },
  {
   "cell_type": "markdown",
   "metadata": {},
   "source": [
    "### Summarizing"
   ]
  },
  {
   "cell_type": "code",
   "execution_count": 16,
   "metadata": {
    "execution": {
     "iopub.execute_input": "2020-10-15T12:52:30.847826Z",
     "iopub.status.busy": "2020-10-15T12:52:30.847826Z",
     "iopub.status.idle": "2020-10-15T12:52:30.863806Z",
     "shell.execute_reply": "2020-10-15T12:52:30.862807Z",
     "shell.execute_reply.started": "2020-10-15T12:52:30.847826Z"
    },
    "id": "bg_vcQxLLg0n"
   },
   "outputs": [],
   "source": [
    "unscaled['Dataset Version'] = 'imputed + all + unscaled'\n",
    "scaled['Dataset Version'] = 'imputed + all + scaled'"
   ]
  },
  {
   "cell_type": "code",
   "execution_count": 17,
   "metadata": {
    "execution": {
     "iopub.execute_input": "2020-10-15T12:52:30.865799Z",
     "iopub.status.busy": "2020-10-15T12:52:30.865799Z",
     "iopub.status.idle": "2020-10-15T12:52:30.911677Z",
     "shell.execute_reply": "2020-10-15T12:52:30.910679Z",
     "shell.execute_reply.started": "2020-10-15T12:52:30.865799Z"
    }
   },
   "outputs": [
    {
     "data": {
      "text/html": [
       "<div>\n",
       "<style scoped>\n",
       "    .dataframe tbody tr th:only-of-type {\n",
       "        vertical-align: middle;\n",
       "    }\n",
       "\n",
       "    .dataframe tbody tr th {\n",
       "        vertical-align: top;\n",
       "    }\n",
       "\n",
       "    .dataframe thead th {\n",
       "        text-align: right;\n",
       "    }\n",
       "</style>\n",
       "<table border=\"1\" class=\"dataframe\">\n",
       "  <thead>\n",
       "    <tr style=\"text-align: right;\">\n",
       "      <th></th>\n",
       "      <th>Fit Time</th>\n",
       "      <th>Train R2</th>\n",
       "      <th>CV R2</th>\n",
       "      <th>Test R2</th>\n",
       "      <th>Train RMSE</th>\n",
       "      <th>CV RMSE</th>\n",
       "      <th>Test RMSE</th>\n",
       "      <th>Dataset Version</th>\n",
       "    </tr>\n",
       "    <tr>\n",
       "      <th>Model</th>\n",
       "      <th></th>\n",
       "      <th></th>\n",
       "      <th></th>\n",
       "      <th></th>\n",
       "      <th></th>\n",
       "      <th></th>\n",
       "      <th></th>\n",
       "      <th></th>\n",
       "    </tr>\n",
       "  </thead>\n",
       "  <tbody>\n",
       "    <tr>\n",
       "      <th>CatBoost</th>\n",
       "      <td>3.5297</td>\n",
       "      <td>0.9920</td>\n",
       "      <td>9.227000e-01</td>\n",
       "      <td>0.9121</td>\n",
       "      <td>0.9902</td>\n",
       "      <td>3.077500e+00</td>\n",
       "      <td>3.3848</td>\n",
       "      <td>imputed + all + unscaled</td>\n",
       "    </tr>\n",
       "    <tr>\n",
       "      <th>RandomForest</th>\n",
       "      <td>3.1922</td>\n",
       "      <td>0.9876</td>\n",
       "      <td>9.134000e-01</td>\n",
       "      <td>0.9117</td>\n",
       "      <td>1.2325</td>\n",
       "      <td>3.255100e+00</td>\n",
       "      <td>3.3915</td>\n",
       "      <td>imputed + all + unscaled</td>\n",
       "    </tr>\n",
       "    <tr>\n",
       "      <th>LightGBM</th>\n",
       "      <td>0.2326</td>\n",
       "      <td>0.9721</td>\n",
       "      <td>9.127000e-01</td>\n",
       "      <td>0.9084</td>\n",
       "      <td>1.8507</td>\n",
       "      <td>3.263600e+00</td>\n",
       "      <td>3.4544</td>\n",
       "      <td>imputed + all + unscaled</td>\n",
       "    </tr>\n",
       "    <tr>\n",
       "      <th>XGBoost</th>\n",
       "      <td>0.4680</td>\n",
       "      <td>0.9974</td>\n",
       "      <td>9.109000e-01</td>\n",
       "      <td>0.9057</td>\n",
       "      <td>0.5644</td>\n",
       "      <td>3.296400e+00</td>\n",
       "      <td>3.5051</td>\n",
       "      <td>imputed + all + unscaled</td>\n",
       "    </tr>\n",
       "    <tr>\n",
       "      <th>DecisionTree</th>\n",
       "      <td>0.0620</td>\n",
       "      <td>1.0000</td>\n",
       "      <td>8.501000e-01</td>\n",
       "      <td>0.7245</td>\n",
       "      <td>0.0129</td>\n",
       "      <td>4.255000e+00</td>\n",
       "      <td>5.9914</td>\n",
       "      <td>imputed + all + unscaled</td>\n",
       "    </tr>\n",
       "    <tr>\n",
       "      <th>Linear</th>\n",
       "      <td>0.0259</td>\n",
       "      <td>0.8261</td>\n",
       "      <td>8.108000e-01</td>\n",
       "      <td>0.7826</td>\n",
       "      <td>4.6205</td>\n",
       "      <td>4.811000e+00</td>\n",
       "      <td>5.3224</td>\n",
       "      <td>imputed + all + unscaled</td>\n",
       "    </tr>\n",
       "    <tr>\n",
       "      <th>Ridge</th>\n",
       "      <td>0.0086</td>\n",
       "      <td>0.8238</td>\n",
       "      <td>8.104000e-01</td>\n",
       "      <td>0.7827</td>\n",
       "      <td>4.6505</td>\n",
       "      <td>4.816300e+00</td>\n",
       "      <td>5.3218</td>\n",
       "      <td>imputed + all + unscaled</td>\n",
       "    </tr>\n",
       "    <tr>\n",
       "      <th>Lasso</th>\n",
       "      <td>0.0122</td>\n",
       "      <td>0.7940</td>\n",
       "      <td>7.924000e-01</td>\n",
       "      <td>0.7770</td>\n",
       "      <td>5.0294</td>\n",
       "      <td>5.040100e+00</td>\n",
       "      <td>5.3903</td>\n",
       "      <td>imputed + all + unscaled</td>\n",
       "    </tr>\n",
       "    <tr>\n",
       "      <th>CatBoost</th>\n",
       "      <td>3.2493</td>\n",
       "      <td>0.9920</td>\n",
       "      <td>9.227000e-01</td>\n",
       "      <td>0.9121</td>\n",
       "      <td>0.9902</td>\n",
       "      <td>3.077500e+00</td>\n",
       "      <td>3.3848</td>\n",
       "      <td>imputed + all + scaled</td>\n",
       "    </tr>\n",
       "    <tr>\n",
       "      <th>RandomForest</th>\n",
       "      <td>3.0078</td>\n",
       "      <td>0.9883</td>\n",
       "      <td>9.149000e-01</td>\n",
       "      <td>0.9085</td>\n",
       "      <td>1.2003</td>\n",
       "      <td>3.228200e+00</td>\n",
       "      <td>3.4522</td>\n",
       "      <td>imputed + all + scaled</td>\n",
       "    </tr>\n",
       "    <tr>\n",
       "      <th>LightGBM</th>\n",
       "      <td>0.2344</td>\n",
       "      <td>0.9713</td>\n",
       "      <td>9.127000e-01</td>\n",
       "      <td>0.9124</td>\n",
       "      <td>1.8776</td>\n",
       "      <td>3.265300e+00</td>\n",
       "      <td>3.3796</td>\n",
       "      <td>imputed + all + scaled</td>\n",
       "    </tr>\n",
       "    <tr>\n",
       "      <th>XGBoost</th>\n",
       "      <td>0.5429</td>\n",
       "      <td>0.9974</td>\n",
       "      <td>9.109000e-01</td>\n",
       "      <td>0.9058</td>\n",
       "      <td>0.5644</td>\n",
       "      <td>3.297000e+00</td>\n",
       "      <td>3.5042</td>\n",
       "      <td>imputed + all + scaled</td>\n",
       "    </tr>\n",
       "    <tr>\n",
       "      <th>DecisionTree</th>\n",
       "      <td>0.0497</td>\n",
       "      <td>1.0000</td>\n",
       "      <td>8.549000e-01</td>\n",
       "      <td>0.7506</td>\n",
       "      <td>0.0129</td>\n",
       "      <td>4.201400e+00</td>\n",
       "      <td>5.7011</td>\n",
       "      <td>imputed + all + scaled</td>\n",
       "    </tr>\n",
       "    <tr>\n",
       "      <th>Ridge</th>\n",
       "      <td>0.0058</td>\n",
       "      <td>0.8238</td>\n",
       "      <td>8.104000e-01</td>\n",
       "      <td>0.7826</td>\n",
       "      <td>4.6505</td>\n",
       "      <td>4.816300e+00</td>\n",
       "      <td>5.3220</td>\n",
       "      <td>imputed + all + scaled</td>\n",
       "    </tr>\n",
       "    <tr>\n",
       "      <th>Lasso</th>\n",
       "      <td>0.0076</td>\n",
       "      <td>0.7582</td>\n",
       "      <td>7.556000e-01</td>\n",
       "      <td>0.7279</td>\n",
       "      <td>5.4485</td>\n",
       "      <td>5.464400e+00</td>\n",
       "      <td>5.9546</td>\n",
       "      <td>imputed + all + scaled</td>\n",
       "    </tr>\n",
       "    <tr>\n",
       "      <th>Linear</th>\n",
       "      <td>0.0227</td>\n",
       "      <td>0.8261</td>\n",
       "      <td>-5.662168e+17</td>\n",
       "      <td>0.7824</td>\n",
       "      <td>4.6211</td>\n",
       "      <td>4.279669e+09</td>\n",
       "      <td>5.3252</td>\n",
       "      <td>imputed + all + scaled</td>\n",
       "    </tr>\n",
       "  </tbody>\n",
       "</table>\n",
       "</div>"
      ],
      "text/plain": [
       "              Fit Time  Train R2         CV R2  Test R2  Train RMSE  \\\n",
       "Model                                                                 \n",
       "CatBoost        3.5297    0.9920  9.227000e-01   0.9121      0.9902   \n",
       "RandomForest    3.1922    0.9876  9.134000e-01   0.9117      1.2325   \n",
       "LightGBM        0.2326    0.9721  9.127000e-01   0.9084      1.8507   \n",
       "XGBoost         0.4680    0.9974  9.109000e-01   0.9057      0.5644   \n",
       "DecisionTree    0.0620    1.0000  8.501000e-01   0.7245      0.0129   \n",
       "Linear          0.0259    0.8261  8.108000e-01   0.7826      4.6205   \n",
       "Ridge           0.0086    0.8238  8.104000e-01   0.7827      4.6505   \n",
       "Lasso           0.0122    0.7940  7.924000e-01   0.7770      5.0294   \n",
       "CatBoost        3.2493    0.9920  9.227000e-01   0.9121      0.9902   \n",
       "RandomForest    3.0078    0.9883  9.149000e-01   0.9085      1.2003   \n",
       "LightGBM        0.2344    0.9713  9.127000e-01   0.9124      1.8776   \n",
       "XGBoost         0.5429    0.9974  9.109000e-01   0.9058      0.5644   \n",
       "DecisionTree    0.0497    1.0000  8.549000e-01   0.7506      0.0129   \n",
       "Ridge           0.0058    0.8238  8.104000e-01   0.7826      4.6505   \n",
       "Lasso           0.0076    0.7582  7.556000e-01   0.7279      5.4485   \n",
       "Linear          0.0227    0.8261 -5.662168e+17   0.7824      4.6211   \n",
       "\n",
       "                   CV RMSE  Test RMSE           Dataset Version  \n",
       "Model                                                            \n",
       "CatBoost      3.077500e+00     3.3848  imputed + all + unscaled  \n",
       "RandomForest  3.255100e+00     3.3915  imputed + all + unscaled  \n",
       "LightGBM      3.263600e+00     3.4544  imputed + all + unscaled  \n",
       "XGBoost       3.296400e+00     3.5051  imputed + all + unscaled  \n",
       "DecisionTree  4.255000e+00     5.9914  imputed + all + unscaled  \n",
       "Linear        4.811000e+00     5.3224  imputed + all + unscaled  \n",
       "Ridge         4.816300e+00     5.3218  imputed + all + unscaled  \n",
       "Lasso         5.040100e+00     5.3903  imputed + all + unscaled  \n",
       "CatBoost      3.077500e+00     3.3848    imputed + all + scaled  \n",
       "RandomForest  3.228200e+00     3.4522    imputed + all + scaled  \n",
       "LightGBM      3.265300e+00     3.3796    imputed + all + scaled  \n",
       "XGBoost       3.297000e+00     3.5042    imputed + all + scaled  \n",
       "DecisionTree  4.201400e+00     5.7011    imputed + all + scaled  \n",
       "Ridge         4.816300e+00     5.3220    imputed + all + scaled  \n",
       "Lasso         5.464400e+00     5.9546    imputed + all + scaled  \n",
       "Linear        4.279669e+09     5.3252    imputed + all + scaled  "
      ]
     },
     "execution_count": 17,
     "metadata": {},
     "output_type": "execute_result"
    }
   ],
   "source": [
    "imputed_all = pd.concat([unscaled, scaled], axis=0)\n",
    "imputed_all"
   ]
  },
  {
   "cell_type": "code",
   "execution_count": 18,
   "metadata": {
    "execution": {
     "iopub.execute_input": "2020-10-15T12:52:30.916663Z",
     "iopub.status.busy": "2020-10-15T12:52:30.916663Z",
     "iopub.status.idle": "2020-10-15T12:52:30.943590Z",
     "shell.execute_reply": "2020-10-15T12:52:30.942594Z",
     "shell.execute_reply.started": "2020-10-15T12:52:30.916663Z"
    }
   },
   "outputs": [],
   "source": [
    "imputed_all.to_csv('../data/processed/summary_imputed_all.csv')"
   ]
  }
 ],
 "metadata": {
  "colab": {
   "collapsed_sections": [],
   "name": "Modeling_imputed_all.ipynb",
   "provenance": [
    {
     "file_id": "1NgCHIKsxmWD4jCur1sU6c3ASdRZ-PE99",
     "timestamp": 1602317956566
    }
   ],
   "toc_visible": true
  },
  "deepnote_execution_queue": [],
  "deepnote_notebook_id": "7e6ba86d-f2b0-4a20-b936-811e696ed5ab",
  "jupytext": {
   "formats": "notebooks//ipynb,markdown//md,scripts//py:percent"
  },
  "kernelspec": {
   "display_name": "Python 3.8.5 64-bit ('ds_env': conda)",
   "metadata": {
    "interpreter": {
     "hash": "9147bcb9e0785203a659ab3390718fd781c9994811db246717fd6ffdcf1dd807"
    }
   },
   "name": "Python 3.8.5 64-bit ('ds_env': conda)"
  },
  "language_info": {
   "codemirror_mode": {
    "name": "ipython",
    "version": 3
   },
   "file_extension": ".py",
   "mimetype": "text/x-python",
   "name": "python",
   "nbconvert_exporter": "python",
   "pygments_lexer": "ipython3",
   "version": "3.8.5-final"
  },
  "toc-autonumbering": true,
  "toc-showcode": false,
  "toc-showmarkdowntxt": false,
  "toc-showtags": false
 },
 "nbformat": 4,
 "nbformat_minor": 4
}
